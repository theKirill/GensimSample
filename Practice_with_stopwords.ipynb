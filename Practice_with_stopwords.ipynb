{
  "nbformat": 4,
  "nbformat_minor": 0,
  "metadata": {
    "colab": {
      "name": "Practice.ipynb",
      "provenance": [],
      "include_colab_link": true
    },
    "kernelspec": {
      "name": "python3",
      "display_name": "Python 3"
    },
    "accelerator": "GPU"
  },
  "cells": [
    {
      "cell_type": "markdown",
      "metadata": {
        "id": "view-in-github",
        "colab_type": "text"
      },
      "source": [
        "<a href=\"https://colab.research.google.com/github/theKirill/GensimSample/blob/master/Practice_with_stopwords.ipynb\" target=\"_parent\"><img src=\"https://colab.research.google.com/assets/colab-badge.svg\" alt=\"Open In Colab\"/></a>"
      ]
    },
    {
      "cell_type": "code",
      "metadata": {
        "id": "CCq8L9tfX-tf",
        "colab_type": "code",
        "colab": {}
      },
      "source": [
        "import gensim"
      ],
      "execution_count": 0,
      "outputs": []
    },
    {
      "cell_type": "code",
      "metadata": {
        "id": "3yzrRmzSyxJv",
        "colab_type": "code",
        "colab": {}
      },
      "source": [
        "from gensim.models import Word2Vec"
      ],
      "execution_count": 0,
      "outputs": []
    },
    {
      "cell_type": "code",
      "metadata": {
        "id": "5hH0a8-lyy8s",
        "colab_type": "code",
        "colab": {}
      },
      "source": [
        "import pandas as pd"
      ],
      "execution_count": 0,
      "outputs": []
    },
    {
      "cell_type": "code",
      "metadata": {
        "id": "iLlOyB5xy2HD",
        "colab_type": "code",
        "colab": {}
      },
      "source": [
        "file_csv = pd.read_csv('drive/My Drive/ForGensim/train.csv')"
      ],
      "execution_count": 0,
      "outputs": []
    },
    {
      "cell_type": "code",
      "metadata": {
        "id": "Hwt_CiyC1yfo",
        "colab_type": "code",
        "colab": {
          "base_uri": "https://localhost:8080/",
          "height": 221
        },
        "outputId": "cc7d2ba7-5241-4384-8e5f-b48d210350c5"
      },
      "source": [
        "print(file_csv['text'])"
      ],
      "execution_count": 143,
      "outputs": [
        {
          "output_type": "stream",
          "text": [
            "0        Add another song to the Cita RomГЎntica playli...\n",
            "1         add clem burke in my playlist Pre-Party R&B Jams\n",
            "2                  Add Live from Aragon Ballroom to Trapeo\n",
            "3                        add Unite and Win to my night out\n",
            "4                      Add track to my Digster Future Hits\n",
            "                               ...                        \n",
            "15879    Is Across the Line playing at the closest movi...\n",
            "15880    Which animated movies are playing in the neigh...\n",
            "15881          Where is They Always Return at Dawn playing\n",
            "15882       What is the movie schedule in the neighborhood\n",
            "15883    Tell me when Howling II: Your Sister Is a Were...\n",
            "Name: text, Length: 15884, dtype: object\n"
          ],
          "name": "stdout"
        }
      ]
    },
    {
      "cell_type": "code",
      "metadata": {
        "id": "_JQ7LK3-2O1Z",
        "colab_type": "code",
        "colab": {}
      },
      "source": [
        "intents = file_csv.intents.unique()"
      ],
      "execution_count": 0,
      "outputs": []
    },
    {
      "cell_type": "code",
      "metadata": {
        "id": "muBdV73b2_wr",
        "colab_type": "code",
        "colab": {
          "base_uri": "https://localhost:8080/",
          "height": 68
        },
        "outputId": "9d41ddda-1ea3-4ec1-8c38-b539a0c17d3a"
      },
      "source": [
        "intents"
      ],
      "execution_count": 216,
      "outputs": [
        {
          "output_type": "execute_result",
          "data": {
            "text/plain": [
              "array(['AddToPlaylist', 'BookRestaurant', 'GetWeather', 'PlayMusic',\n",
              "       'RateBook', 'SearchCreativeWork', 'SearchScreeningEvent'],\n",
              "      dtype=object)"
            ]
          },
          "metadata": {
            "tags": []
          },
          "execution_count": 216
        }
      ]
    },
    {
      "cell_type": "code",
      "metadata": {
        "id": "yLw4NaUoxoVk",
        "colab_type": "code",
        "colab": {}
      },
      "source": [
        "COUNT_CLASSES = intents.shape[0]"
      ],
      "execution_count": 0,
      "outputs": []
    },
    {
      "cell_type": "code",
      "metadata": {
        "id": "15-uj_1g2u19",
        "colab_type": "code",
        "colab": {
          "base_uri": "https://localhost:8080/",
          "height": 338
        },
        "outputId": "4f0f27fb-b765-4a2e-f8cb-f7043ea7658a"
      },
      "source": [
        "file_csv.intents.value_counts().plot(kind=\"bar\", rot=30)"
      ],
      "execution_count": 13,
      "outputs": [
        {
          "output_type": "execute_result",
          "data": {
            "text/plain": [
              "<matplotlib.axes._subplots.AxesSubplot at 0x7fd2acdc86a0>"
            ]
          },
          "metadata": {
            "tags": []
          },
          "execution_count": 13
        },
        {
          "output_type": "display_data",
          "data": {
            "image/png": "[encoded data removed]",
            "text/plain": [
              "<Figure size 432x288 with 1 Axes>"
            ]
          },
          "metadata": {
            "tags": []
          }
        }
      ]
    },
    {
      "cell_type": "code",
      "metadata": {
        "id": "vlnMdTuX-BNW",
        "colab_type": "code",
        "colab": {}
      },
      "source": [
        "tokens = []\n",
        "sentences = file_csv['text']\n",
        "for sentence in sentences:\n",
        "  tokens.append(sentence.split())"
      ],
      "execution_count": 0,
      "outputs": []
    },
    {
      "cell_type": "code",
      "metadata": {
        "id": "hFp5SeQSDE3f",
        "colab_type": "code",
        "colab": {
          "base_uri": "https://localhost:8080/",
          "height": 102
        },
        "outputId": "5891ae01-db99-47c8-847a-5a6ec3ae6c17"
      },
      "source": [
        "tokens"
      ],
      "execution_count": 46,
      "outputs": [
        {
          "output_type": "execute_result",
          "data": {
            "text/plain": [
              "[['Add', 'another', 'song', 'to', 'the', 'Cita', 'RomГЎntica', 'playlist.'],\n",
              " ['add', 'clem', 'burke', 'in', 'my', 'playlist', 'Pre-Party', 'R&B', 'Jams'],\n",
              " ['Add', 'Live', 'from', 'Aragon', 'Ballroom', 'to', 'Trapeo'],\n",
              " ['add', 'Unite', 'and', 'Win', 'to', 'my', 'night', 'out'],\n",
              " ['Add', 'track', 'to', 'my', 'Digster', 'Future', 'Hits']]"
            ]
          },
          "metadata": {
            "tags": []
          },
          "execution_count": 46
        }
      ]
    },
    {
      "cell_type": "code",
      "metadata": {
        "id": "1j1Ft2Oj3zUr",
        "colab_type": "code",
        "colab": {}
      },
      "source": [
        "model = Word2Vec(tokens, size=200, window=10, min_count=3, workers=4)"
      ],
      "execution_count": 0,
      "outputs": []
    },
    {
      "cell_type": "code",
      "metadata": {
        "id": "SHExhjKWCf2w",
        "colab_type": "code",
        "colab": {
          "base_uri": "https://localhost:8080/",
          "height": 34
        },
        "outputId": "78cc6979-377c-42be-d2de-196f28284215"
      },
      "source": [
        "model.train(tokens, total_examples=len(tokens), epochs=500)"
      ],
      "execution_count": 54,
      "outputs": [
        {
          "output_type": "execute_result",
          "data": {
            "text/plain": [
              "(42148015, 71074500)"
            ]
          },
          "metadata": {
            "tags": []
          },
          "execution_count": 54
        }
      ]
    },
    {
      "cell_type": "code",
      "metadata": {
        "id": "i4CfKT_HQ9AW",
        "colab_type": "code",
        "colab": {
          "base_uri": "https://localhost:8080/",
          "height": 275
        },
        "outputId": "a5f037ee-6a33-4603-9a11-eb7abeb33a04"
      },
      "source": [
        "model.most_similar('song')"
      ],
      "execution_count": 62,
      "outputs": [
        {
          "output_type": "stream",
          "text": [
            "/usr/local/lib/python3.6/dist-packages/ipykernel_launcher.py:1: DeprecationWarning: Call to deprecated `most_similar` (Method will be removed in 4.0.0, use self.wv.most_similar() instead).\n",
            "  \"\"\"Entry point for launching an IPython kernel.\n",
            "/usr/local/lib/python3.6/dist-packages/gensim/matutils.py:737: FutureWarning: Conversion of the second argument of issubdtype from `int` to `np.signedinteger` is deprecated. In future, it will be treated as `np.int64 == np.dtype(int).type`.\n",
            "  if np.issubdtype(vec.dtype, np.int):\n"
          ],
          "name": "stderr"
        },
        {
          "output_type": "execute_result",
          "data": {
            "text/plain": [
              "[('track', 0.755196213722229),\n",
              " ('tune', 0.6781189441680908),\n",
              " ('artist', 0.5296145677566528),\n",
              " ('album', 0.5135484933853149),\n",
              " ('ep', 0.4719415307044983),\n",
              " ('el', 0.43413981795310974),\n",
              " ('Laine', 0.43173277378082275),\n",
              " ('NoctГЎmbulo', 0.429962694644928),\n",
              " (\"Women's\", 0.41087841987609863),\n",
              " ('Trapeo', 0.4073360562324524)]"
            ]
          },
          "metadata": {
            "tags": []
          },
          "execution_count": 62
        }
      ]
    },
    {
      "cell_type": "code",
      "metadata": {
        "id": "hw0Muu67A8AH",
        "colab_type": "code",
        "colab": {
          "base_uri": "https://localhost:8080/",
          "height": 275
        },
        "outputId": "97d089d4-e57f-4a17-979c-ed4a32e9628e"
      },
      "source": [
        "model.most_similar(positive=['song'], negative=['artist'])"
      ],
      "execution_count": 149,
      "outputs": [
        {
          "output_type": "stream",
          "text": [
            "/usr/local/lib/python3.6/dist-packages/ipykernel_launcher.py:1: DeprecationWarning: Call to deprecated `most_similar` (Method will be removed in 4.0.0, use self.wv.most_similar() instead).\n",
            "  \"\"\"Entry point for launching an IPython kernel.\n",
            "/usr/local/lib/python3.6/dist-packages/gensim/matutils.py:737: FutureWarning: Conversion of the second argument of issubdtype from `int` to `np.signedinteger` is deprecated. In future, it will be treated as `np.int64 == np.dtype(int).type`.\n",
            "  if np.issubdtype(vec.dtype, np.int):\n"
          ],
          "name": "stderr"
        },
        {
          "output_type": "execute_result",
          "data": {
            "text/plain": [
              "[('soundtrack', 0.3845045566558838),\n",
              " ('concerto', 0.3793002963066101),\n",
              " ('melody', 0.33555158972740173),\n",
              " ('1957', 0.33188682794570923),\n",
              " ('symphony', 0.3107365369796753),\n",
              " ('movement', 0.30384108424186707),\n",
              " ('ballad', 0.29994726181030273),\n",
              " ('record', 0.29545238614082336),\n",
              " ('Make', 0.27922457456588745),\n",
              " ('Diamond', 0.2778102159500122)]"
            ]
          },
          "metadata": {
            "tags": []
          },
          "execution_count": 149
        }
      ]
    },
    {
      "cell_type": "code",
      "metadata": {
        "id": "Qv_vjq1vFalp",
        "colab_type": "code",
        "colab": {}
      },
      "source": [
        "word_vectors = model.wv"
      ],
      "execution_count": 0,
      "outputs": []
    },
    {
      "cell_type": "code",
      "metadata": {
        "id": "i8FZ2hahFdnh",
        "colab_type": "code",
        "colab": {
          "base_uri": "https://localhost:8080/",
          "height": 34
        },
        "outputId": "1ac69555-730a-4460-cb5f-4636ec79d4c2"
      },
      "source": [
        "print(\"Number of word vectors: {}\".format(len(word_vectors.vocab)))"
      ],
      "execution_count": 57,
      "outputs": [
        {
          "output_type": "stream",
          "text": [
            "Number of word vectors: 3762\n"
          ],
          "name": "stdout"
        }
      ]
    },
    {
      "cell_type": "code",
      "metadata": {
        "id": "SnvMsS5hJYN_",
        "colab_type": "code",
        "colab": {
          "base_uri": "https://localhost:8080/",
          "height": 1000
        },
        "outputId": "9fba84d2-6fec-4541-d0fc-87d9e633ee5e"
      },
      "source": [
        "word_vectors.vocab"
      ],
      "execution_count": 58,
      "outputs": [
        {
          "output_type": "execute_result",
          "data": {
            "text/plain": [
              "{'Add': <gensim.models.keyedvectors.Vocab at 0x7fd2aa99fdd8>,\n",
              " 'another': <gensim.models.keyedvectors.Vocab at 0x7fd2aa99fd68>,\n",
              " 'song': <gensim.models.keyedvectors.Vocab at 0x7fd2a3e935f8>,\n",
              " 'to': <gensim.models.keyedvectors.Vocab at 0x7fd2a3e93630>,\n",
              " 'the': <gensim.models.keyedvectors.Vocab at 0x7fd2a3e93668>,\n",
              " 'playlist.': <gensim.models.keyedvectors.Vocab at 0x7fd2a3e936a0>,\n",
              " 'add': <gensim.models.keyedvectors.Vocab at 0x7fd2a3e936d8>,\n",
              " 'burke': <gensim.models.keyedvectors.Vocab at 0x7fd2a3e93710>,\n",
              " 'in': <gensim.models.keyedvectors.Vocab at 0x7fd2a3e93748>,\n",
              " 'my': <gensim.models.keyedvectors.Vocab at 0x7fd2a3e93780>,\n",
              " 'playlist': <gensim.models.keyedvectors.Vocab at 0x7fd2a3e937b8>,\n",
              " 'Pre-Party': <gensim.models.keyedvectors.Vocab at 0x7fd2a3e937f0>,\n",
              " 'R&B': <gensim.models.keyedvectors.Vocab at 0x7fd2a3e93828>,\n",
              " 'Jams': <gensim.models.keyedvectors.Vocab at 0x7fd2a3e93860>,\n",
              " 'Live': <gensim.models.keyedvectors.Vocab at 0x7fd2a3e93898>,\n",
              " 'from': <gensim.models.keyedvectors.Vocab at 0x7fd2a3e938d0>,\n",
              " 'Trapeo': <gensim.models.keyedvectors.Vocab at 0x7fd2a3e93908>,\n",
              " 'and': <gensim.models.keyedvectors.Vocab at 0x7fd2a3e93940>,\n",
              " 'Win': <gensim.models.keyedvectors.Vocab at 0x7fd2a3e93978>,\n",
              " 'night': <gensim.models.keyedvectors.Vocab at 0x7fd2a3e939b0>,\n",
              " 'out': <gensim.models.keyedvectors.Vocab at 0x7fd2a3e939e8>,\n",
              " 'track': <gensim.models.keyedvectors.Vocab at 0x7fd2a3e93a20>,\n",
              " 'Digster': <gensim.models.keyedvectors.Vocab at 0x7fd2a3e93a58>,\n",
              " 'Future': <gensim.models.keyedvectors.Vocab at 0x7fd2a3e93a90>,\n",
              " 'Hits': <gensim.models.keyedvectors.Vocab at 0x7fd2a3e93ac8>,\n",
              " 'piano': <gensim.models.keyedvectors.Vocab at 0x7fd2a3e93b00>,\n",
              " 'bar': <gensim.models.keyedvectors.Vocab at 0x7fd2a3e93b38>,\n",
              " 'Wilson': <gensim.models.keyedvectors.Vocab at 0x7fd2a3e93b70>,\n",
              " 'Spanish': <gensim.models.keyedvectors.Vocab at 0x7fd2a3e93ba8>,\n",
              " 'Harlem': <gensim.models.keyedvectors.Vocab at 0x7fd2a3e93be0>,\n",
              " 'cleaning': <gensim.models.keyedvectors.Vocab at 0x7fd2a3e93c18>,\n",
              " 'house': <gensim.models.keyedvectors.Vocab at 0x7fd2a3e93c50>,\n",
              " 'The': <gensim.models.keyedvectors.Vocab at 0x7fd2a3e93c88>,\n",
              " 'of': <gensim.models.keyedvectors.Vocab at 0x7fd2a3e93cc0>,\n",
              " 'Blue': <gensim.models.keyedvectors.Vocab at 0x7fd2a3e93cf8>,\n",
              " 'Skies': <gensim.models.keyedvectors.Vocab at 0x7fd2a3e93d30>,\n",
              " 'Indie': <gensim.models.keyedvectors.Vocab at 0x7fd2a3e93d68>,\n",
              " 'EspaГ±ol': <gensim.models.keyedvectors.Vocab at 0x7fd2a3e93da0>,\n",
              " 'name': <gensim.models.keyedvectors.Vocab at 0x7fd2a3e93dd8>,\n",
              " 'kids': <gensim.models.keyedvectors.Vocab at 0x7fd2a3e93e10>,\n",
              " 'New': <gensim.models.keyedvectors.Vocab at 0x7fd2a3e93e48>,\n",
              " 'Mix': <gensim.models.keyedvectors.Vocab at 0x7fd2a3e93e80>,\n",
              " 'album': <gensim.models.keyedvectors.Vocab at 0x7fd2a3e93eb8>,\n",
              " 'radar': <gensim.models.keyedvectors.Vocab at 0x7fd2a3e93ef0>,\n",
              " 'latino': <gensim.models.keyedvectors.Vocab at 0x7fd2a3e93f28>,\n",
              " 'Latin': <gensim.models.keyedvectors.Vocab at 0x7fd2a3e93f60>,\n",
              " 'Pop': <gensim.models.keyedvectors.Vocab at 0x7fd2a3e93f98>,\n",
              " 'Rising': <gensim.models.keyedvectors.Vocab at 0x7fd2a3e93fd0>,\n",
              " 'd': <gensim.models.keyedvectors.Vocab at 0x7fd2a4ff2048>,\n",
              " 'flame': <gensim.models.keyedvectors.Vocab at 0x7fd2a4ff2080>,\n",
              " 'Dcode2016': <gensim.models.keyedvectors.Vocab at 0x7fd2a4ff20b8>,\n",
              " 'fairy': <gensim.models.keyedvectors.Vocab at 0x7fd2a4ff20f0>,\n",
              " 'tales': <gensim.models.keyedvectors.Vocab at 0x7fd2a4ff2128>,\n",
              " 'I': <gensim.models.keyedvectors.Vocab at 0x7fd2a4ff2160>,\n",
              " 'need': <gensim.models.keyedvectors.Vocab at 0x7fd2a4ff2198>,\n",
              " 'artist': <gensim.models.keyedvectors.Vocab at 0x7fd2a4ff21d0>,\n",
              " 'i': <gensim.models.keyedvectors.Vocab at 0x7fd2a4ff2208>,\n",
              " 'love': <gensim.models.keyedvectors.Vocab at 0x7fd2a4ff2240>,\n",
              " 'neo': <gensim.models.keyedvectors.Vocab at 0x7fd2a4ff2278>,\n",
              " 'soul': <gensim.models.keyedvectors.Vocab at 0x7fd2a4ff22b0>,\n",
              " 'national': <gensim.models.keyedvectors.Vocab at 0x7fd2a4ff22e8>,\n",
              " 'book': <gensim.models.keyedvectors.Vocab at 0x7fd2a4ff2320>,\n",
              " 'fire': <gensim.models.keyedvectors.Vocab at 0x7fd2a4ff2358>,\n",
              " 'wind': <gensim.models.keyedvectors.Vocab at 0x7fd2a4ff2390>,\n",
              " 'Peters': <gensim.models.keyedvectors.Vocab at 0x7fd2a4ff23c8>,\n",
              " 'women': <gensim.models.keyedvectors.Vocab at 0x7fd2a4ff2400>,\n",
              " 'country': <gensim.models.keyedvectors.Vocab at 0x7fd2a4ff2438>,\n",
              " 'list': <gensim.models.keyedvectors.Vocab at 0x7fd2a4ff2470>,\n",
              " 'children': <gensim.models.keyedvectors.Vocab at 0x7fd2a4ff24a8>,\n",
              " 'named': <gensim.models.keyedvectors.Vocab at 0x7fd2a4ff24e0>,\n",
              " '9th': <gensim.models.keyedvectors.Vocab at 0x7fd2a4ff2518>,\n",
              " 'bossa': <gensim.models.keyedvectors.Vocab at 0x7fd2a4ff2550>,\n",
              " 'nova': <gensim.models.keyedvectors.Vocab at 0x7fd2a4ff2588>,\n",
              " 'dinner': <gensim.models.keyedvectors.Vocab at 0x7fd2a4ff25c0>,\n",
              " 'tune': <gensim.models.keyedvectors.Vocab at 0x7fd2a4ff25f8>,\n",
              " 'legendary': <gensim.models.keyedvectors.Vocab at 0x7fd2a4ff2630>,\n",
              " 'guitar': <gensim.models.keyedvectors.Vocab at 0x7fd2a4ff2668>,\n",
              " 'solos': <gensim.models.keyedvectors.Vocab at 0x7fd2a4ff26a0>,\n",
              " 'this': <gensim.models.keyedvectors.Vocab at 0x7fd2a4ff26d8>,\n",
              " 'is': <gensim.models.keyedvectors.Vocab at 0x7fd2a4ff2710>,\n",
              " 'prince': <gensim.models.keyedvectors.Vocab at 0x7fd2a4ff2748>,\n",
              " 'Always': <gensim.models.keyedvectors.Vocab at 0x7fd2a4ff2780>,\n",
              " '50': <gensim.models.keyedvectors.Vocab at 0x7fd2a4ff27b8>,\n",
              " 'Spotify': <gensim.models.keyedvectors.Vocab at 0x7fd2a4ff27f0>,\n",
              " 'Picks': <gensim.models.keyedvectors.Vocab at 0x7fd2a4ff2828>,\n",
              " 'an': <gensim.models.keyedvectors.Vocab at 0x7fd2a4ff2860>,\n",
              " 'La': <gensim.models.keyedvectors.Vocab at 0x7fd2a4ff2898>,\n",
              " 'Mejor': <gensim.models.keyedvectors.Vocab at 0x7fd2a4ff28d0>,\n",
              " 'MГєsica': <gensim.models.keyedvectors.Vocab at 0x7fd2a4ff2908>,\n",
              " 'Dance': <gensim.models.keyedvectors.Vocab at 0x7fd2a4ff2940>,\n",
              " '2017': <gensim.models.keyedvectors.Vocab at 0x7fd2a4ff2978>,\n",
              " 'Are': <gensim.models.keyedvectors.Vocab at 0x7fd2a4ff29b0>,\n",
              " 'Yet': <gensim.models.keyedvectors.Vocab at 0x7fd2a4ff29e8>,\n",
              " 'year': <gensim.models.keyedvectors.Vocab at 0x7fd2a4ff2a20>,\n",
              " 'metal': <gensim.models.keyedvectors.Vocab at 0x7fd2a4ff2a58>,\n",
              " '2016': <gensim.models.keyedvectors.Vocab at 0x7fd2a4ff2a90>,\n",
              " 'psychedelic': <gensim.models.keyedvectors.Vocab at 0x7fd2a4ff2ac8>,\n",
              " 'rock': <gensim.models.keyedvectors.Vocab at 0x7fd2a4ff2b00>,\n",
              " 'Can': <gensim.models.keyedvectors.Vocab at 0x7fd2a4ff2b38>,\n",
              " 'you': <gensim.models.keyedvectors.Vocab at 0x7fd2a4ff2b70>,\n",
              " 'entitled': <gensim.models.keyedvectors.Vocab at 0x7fd2a4ff2ba8>,\n",
              " 'Sleep': <gensim.models.keyedvectors.Vocab at 0x7fd2a4ff2be0>,\n",
              " 'Incorporate': <gensim.models.keyedvectors.Vocab at 0x7fd2a4ff2c18>,\n",
              " 'time': <gensim.models.keyedvectors.Vocab at 0x7fd2a4ff2c50>,\n",
              " 'into': <gensim.models.keyedvectors.Vocab at 0x7fd2a4ff2c88>,\n",
              " 'Folk': <gensim.models.keyedvectors.Vocab at 0x7fd2a4ff2cc0>,\n",
              " 'Dinnertime': <gensim.models.keyedvectors.Vocab at 0x7fd2a4ff2cf8>,\n",
              " 'Acoustics': <gensim.models.keyedvectors.Vocab at 0x7fd2a4ff2d30>,\n",
              " 'a': <gensim.models.keyedvectors.Vocab at 0x7fd2a4ff2d68>,\n",
              " 'Chill': <gensim.models.keyedvectors.Vocab at 0x7fd2a4ff2da0>,\n",
              " 'Vibes': <gensim.models.keyedvectors.Vocab at 0x7fd2a4ff2dd8>,\n",
              " 'Spain': <gensim.models.keyedvectors.Vocab at 0x7fd2a4ff2e10>,\n",
              " 'Top': <gensim.models.keyedvectors.Vocab at 0x7fd2a4ff2e48>,\n",
              " 'put': <gensim.models.keyedvectors.Vocab at 0x7fd2a4ff2e80>,\n",
              " 'by': <gensim.models.keyedvectors.Vocab at 0x7fd2a4ff2eb8>,\n",
              " 'Mike': <gensim.models.keyedvectors.Vocab at 0x7fd2a4ff2ef0>,\n",
              " 'on': <gensim.models.keyedvectors.Vocab at 0x7fd2a4ff2f28>,\n",
              " 'Deathcore': <gensim.models.keyedvectors.Vocab at 0x7fd2a4ff2f60>,\n",
              " 'boss': <gensim.models.keyedvectors.Vocab at 0x7fd2a4ff2f98>,\n",
              " 'listas': <gensim.models.keyedvectors.Vocab at 0x7fd2a4ff2fd0>,\n",
              " 'de': <gensim.models.keyedvectors.Vocab at 0x7fd2a3e95048>,\n",
              " 'Г©xitos': <gensim.models.keyedvectors.Vocab at 0x7fd2a3e95080>,\n",
              " 'some': <gensim.models.keyedvectors.Vocab at 0x7fd2a3e950b8>,\n",
              " 'This': <gensim.models.keyedvectors.Vocab at 0x7fd2a3e950f0>,\n",
              " 'Is': <gensim.models.keyedvectors.Vocab at 0x7fd2a3e95128>,\n",
              " 'Nicky': <gensim.models.keyedvectors.Vocab at 0x7fd2a3e95160>,\n",
              " 'Jam': <gensim.models.keyedvectors.Vocab at 0x7fd2a3e95198>,\n",
              " 'paulinho': <gensim.models.keyedvectors.Vocab at 0x7fd2a3e951d0>,\n",
              " 'da': <gensim.models.keyedvectors.Vocab at 0x7fd2a3e95208>,\n",
              " 'viola': <gensim.models.keyedvectors.Vocab at 0x7fd2a3e95240>,\n",
              " 'Radio': <gensim.models.keyedvectors.Vocab at 0x7fd2a3e95278>,\n",
              " 'Rock': <gensim.models.keyedvectors.Vocab at 0x7fd2a3e952b0>,\n",
              " 'Country': <gensim.models.keyedvectors.Vocab at 0x7fd2a3e952e8>,\n",
              " 'Coffeehouse': <gensim.models.keyedvectors.Vocab at 0x7fd2a3e95320>,\n",
              " 'queen': <gensim.models.keyedvectors.Vocab at 0x7fd2a3e95358>,\n",
              " 'Souza': <gensim.models.keyedvectors.Vocab at 0x7fd2a3e95390>,\n",
              " 'm': <gensim.models.keyedvectors.Vocab at 0x7fd2a3e953c8>,\n",
              " 'g': <gensim.models.keyedvectors.Vocab at 0x7fd2a3e95400>,\n",
              " 'acoustic': <gensim.models.keyedvectors.Vocab at 0x7fd2a3e95438>,\n",
              " 'spotify': <gensim.models.keyedvectors.Vocab at 0x7fd2a3e95470>,\n",
              " 'orchestra': <gensim.models.keyedvectors.Vocab at 0x7fd2a3e954a8>,\n",
              " 'cello': <gensim.models.keyedvectors.Vocab at 0x7fd2a3e954e0>,\n",
              " 'want': <gensim.models.keyedvectors.Vocab at 0x7fd2a3e95518>,\n",
              " 'Party': <gensim.models.keyedvectors.Vocab at 0x7fd2a3e95550>,\n",
              " 'fresh': <gensim.models.keyedvectors.Vocab at 0x7fd2a3e95588>,\n",
              " 'finds': <gensim.models.keyedvectors.Vocab at 0x7fd2a3e955c0>,\n",
              " 'six': <gensim.models.keyedvectors.Vocab at 0x7fd2a3e955f8>,\n",
              " 'A': <gensim.models.keyedvectors.Vocab at 0x7fd2a3e95630>,\n",
              " 'Warm': <gensim.models.keyedvectors.Vocab at 0x7fd2a3e95668>,\n",
              " 'Hearts': <gensim.models.keyedvectors.Vocab at 0x7fd2a3e956a0>,\n",
              " 'Feel': <gensim.models.keyedvectors.Vocab at 0x7fd2a3e956d8>,\n",
              " 'Good': <gensim.models.keyedvectors.Vocab at 0x7fd2a3e95710>,\n",
              " 'Save': <gensim.models.keyedvectors.Vocab at 0x7fd2a3e95748>,\n",
              " 'Queen': <gensim.models.keyedvectors.Vocab at 0x7fd2a3e95780>,\n",
              " 'list.': <gensim.models.keyedvectors.Vocab at 0x7fd2a3e957b8>,\n",
              " 'david': <gensim.models.keyedvectors.Vocab at 0x7fd2a3e957f0>,\n",
              " 'Totally': <gensim.models.keyedvectors.Vocab at 0x7fd2a3e95828>,\n",
              " 'Stress': <gensim.models.keyedvectors.Vocab at 0x7fd2a3e95860>,\n",
              " 'Free': <gensim.models.keyedvectors.Vocab at 0x7fd2a3e95898>,\n",
              " 'para': <gensim.models.keyedvectors.Vocab at 0x7fd2a3e958d0>,\n",
              " 'en': <gensim.models.keyedvectors.Vocab at 0x7fd2a3e95908>,\n",
              " 'la': <gensim.models.keyedvectors.Vocab at 0x7fd2a3e95940>,\n",
              " 'Mozart': <gensim.models.keyedvectors.Vocab at 0x7fd2a3e95978>,\n",
              " 'beats': <gensim.models.keyedvectors.Vocab at 0x7fd2a3e959b0>,\n",
              " 'day': <gensim.models.keyedvectors.Vocab at 0x7fd2a3e959e8>,\n",
              " 'feel': <gensim.models.keyedvectors.Vocab at 0x7fd2a3e95a20>,\n",
              " 'us': <gensim.models.keyedvectors.Vocab at 0x7fd2a3e95a58>,\n",
              " 'latin': <gensim.models.keyedvectors.Vocab at 0x7fd2a3e95a90>,\n",
              " 'top': <gensim.models.keyedvectors.Vocab at 0x7fd2a3e95ac8>,\n",
              " 'Put': <gensim.models.keyedvectors.Vocab at 0x7fd2a3e95b00>,\n",
              " 'Pachangueo': <gensim.models.keyedvectors.Vocab at 0x7fd2a3e95b38>,\n",
              " 'Total': <gensim.models.keyedvectors.Vocab at 0x7fd2a3e95b70>,\n",
              " 'mike': <gensim.models.keyedvectors.Vocab at 0x7fd2a3e95ba8>,\n",
              " 'how': <gensim.models.keyedvectors.Vocab at 0x7fd2a3e95be0>,\n",
              " 'week': <gensim.models.keyedvectors.Vocab at 0x7fd2a3e95c18>,\n",
              " 'end': <gensim.models.keyedvectors.Vocab at 0x7fd2a3e95c50>,\n",
              " 'Jean': <gensim.models.keyedvectors.Vocab at 0x7fd2a3e95c88>,\n",
              " 'pure': <gensim.models.keyedvectors.Vocab at 0x7fd2a3e95cc0>,\n",
              " '&': <gensim.models.keyedvectors.Vocab at 0x7fd2a3e95cf8>,\n",
              " 'roll': <gensim.models.keyedvectors.Vocab at 0x7fd2a3e95d30>,\n",
              " 'Kirk': <gensim.models.keyedvectors.Vocab at 0x7fd2a3e95d68>,\n",
              " 'Calm': <gensim.models.keyedvectors.Vocab at 0x7fd2a3e95da0>,\n",
              " 'Down': <gensim.models.keyedvectors.Vocab at 0x7fd2a3e95dd8>,\n",
              " 'On': <gensim.models.keyedvectors.Vocab at 0x7fd2a3e95e10>,\n",
              " 'with': <gensim.models.keyedvectors.Vocab at 0x7fd2a3e95e48>,\n",
              " 'Show': <gensim.models.keyedvectors.Vocab at 0x7fd2a3e95e80>,\n",
              " 'Beast': <gensim.models.keyedvectors.Vocab at 0x7fd2a3e95eb8>,\n",
              " 'can': <gensim.models.keyedvectors.Vocab at 0x7fd2a3e95ef0>,\n",
              " 'Alternative': <gensim.models.keyedvectors.Vocab at 0x7fd2a3e95f28>,\n",
              " 'Music': <gensim.models.keyedvectors.Vocab at 0x7fd2a3e95f60>,\n",
              " '100': <gensim.models.keyedvectors.Vocab at 0x7fd2a3e95f98>,\n",
              " 'onto': <gensim.models.keyedvectors.Vocab at 0x7fd2a3e95fd0>,\n",
              " 'jazz': <gensim.models.keyedvectors.Vocab at 0x7fd2a3e96048>,\n",
              " 'for': <gensim.models.keyedvectors.Vocab at 0x7fd2a3e96080>,\n",
              " 'loving': <gensim.models.keyedvectors.Vocab at 0x7fd2a3e960b8>,\n",
              " 'couples': <gensim.models.keyedvectors.Vocab at 0x7fd2a3e960f0>,\n",
              " 'needs': <gensim.models.keyedvectors.Vocab at 0x7fd2a3e96128>,\n",
              " 'more': <gensim.models.keyedvectors.Vocab at 0x7fd2a3e96160>,\n",
              " 'martin': <gensim.models.keyedvectors.Vocab at 0x7fd2a3e96198>,\n",
              " 'garrix': <gensim.models.keyedvectors.Vocab at 0x7fd2a3e961d0>,\n",
              " 'show': <gensim.models.keyedvectors.Vocab at 0x7fd2a3e96208>,\n",
              " 'workout': <gensim.models.keyedvectors.Vocab at 0x7fd2a3e96240>,\n",
              " 'twerkout': <gensim.models.keyedvectors.Vocab at 0x7fd2a3e96278>,\n",
              " 'endorphin': <gensim.models.keyedvectors.Vocab at 0x7fd2a3e962b0>,\n",
              " 'rush': <gensim.models.keyedvectors.Vocab at 0x7fd2a3e962e8>,\n",
              " \"It's\": <gensim.models.keyedvectors.Vocab at 0x7fd2a3e96320>,\n",
              " 'Southern': <gensim.models.keyedvectors.Vocab at 0x7fd2a3e96358>,\n",
              " 'Thing': <gensim.models.keyedvectors.Vocab at 0x7fd2a3e96390>,\n",
              " 'Ik': <gensim.models.keyedvectors.Vocab at 0x7fd2a3e963c8>,\n",
              " 'laundry': <gensim.models.keyedvectors.Vocab at 0x7fd2a3e96400>,\n",
              " 'something': <gensim.models.keyedvectors.Vocab at 0x7fd2a3e96438>,\n",
              " 'Paul': <gensim.models.keyedvectors.Vocab at 0x7fd2a3e96470>,\n",
              " 'Tracks': <gensim.models.keyedvectors.Vocab at 0x7fd2a3e964a8>,\n",
              " 'titled': <gensim.models.keyedvectors.Vocab at 0x7fd2a3e964e0>,\n",
              " 'forever': <gensim.models.keyedvectors.Vocab at 0x7fd2a3e96518>,\n",
              " 'Green': <gensim.models.keyedvectors.Vocab at 0x7fd2a3e96550>,\n",
              " 'Los': <gensim.models.keyedvectors.Vocab at 0x7fd2a3e96588>,\n",
              " '40': <gensim.models.keyedvectors.Vocab at 0x7fd2a3e965c0>,\n",
              " 'Г‰xitos': <gensim.models.keyedvectors.Vocab at 0x7fd2a3e965f8>,\n",
              " 'Steampunk': <gensim.models.keyedvectors.Vocab at 0x7fd2a3e96630>,\n",
              " 'Please': <gensim.models.keyedvectors.Vocab at 0x7fd2a3e96668>,\n",
              " 'called': <gensim.models.keyedvectors.Vocab at 0x7fd2a3e966a0>,\n",
              " 'Metal': <gensim.models.keyedvectors.Vocab at 0x7fd2a3e966d8>,\n",
              " 'For': <gensim.models.keyedvectors.Vocab at 0x7fd2a3e96710>,\n",
              " 'todo': <gensim.models.keyedvectors.Vocab at 0x7fd2a3e96748>,\n",
              " 'Sweet': <gensim.models.keyedvectors.Vocab at 0x7fd2a3e96780>,\n",
              " 'vibes': <gensim.models.keyedvectors.Vocab at 0x7fd2a3e967b8>,\n",
              " 'Blood': <gensim.models.keyedvectors.Vocab at 0x7fd2a3e967f0>,\n",
              " 'Face': <gensim.models.keyedvectors.Vocab at 0x7fd2a3e96828>,\n",
              " 'spring': <gensim.models.keyedvectors.Vocab at 0x7fd2a3e96860>,\n",
              " 'classical': <gensim.models.keyedvectors.Vocab at 0x7fd2a3e96898>,\n",
              " 'Partners': <gensim.models.keyedvectors.Vocab at 0x7fd2a3e968d0>,\n",
              " 'Crime': <gensim.models.keyedvectors.Vocab at 0x7fd2a3e96908>,\n",
              " 'added': <gensim.models.keyedvectors.Vocab at 0x7fd2a3e96940>,\n",
              " 'it.': <gensim.models.keyedvectors.Vocab at 0x7fd2a3e96978>,\n",
              " 'conexiones': <gensim.models.keyedvectors.Vocab at 0x7fd2a3e969b0>,\n",
              " 'Red': <gensim.models.keyedvectors.Vocab at 0x7fd2a3e969e8>,\n",
              " 'Feeling': <gensim.models.keyedvectors.Vocab at 0x7fd2a3e96a20>,\n",
              " 'peaceful': <gensim.models.keyedvectors.Vocab at 0x7fd2a3e96a58>,\n",
              " 'hour': <gensim.models.keyedvectors.Vocab at 0x7fd2a3e96a90>,\n",
              " 'Open': <gensim.models.keyedvectors.Vocab at 0x7fd2a3e96ac8>,\n",
              " 'play': <gensim.models.keyedvectors.Vocab at 0x7fd2a3e96b00>,\n",
              " 'entire': <gensim.models.keyedvectors.Vocab at 0x7fd2a3e96b38>,\n",
              " 'gareth': <gensim.models.keyedvectors.Vocab at 0x7fd2a3e96b70>,\n",
              " 'gates': <gensim.models.keyedvectors.Vocab at 0x7fd2a3e96ba8>,\n",
              " 'autumn': <gensim.models.keyedvectors.Vocab at 0x7fd2a3e96be0>,\n",
              " 'sxsw': <gensim.models.keyedvectors.Vocab at 0x7fd2a3e96c18>,\n",
              " 'verano': <gensim.models.keyedvectors.Vocab at 0x7fd2a3e96c50>,\n",
              " 'andy': <gensim.models.keyedvectors.Vocab at 0x7fd2a3e96c88>,\n",
              " 'lee': <gensim.models.keyedvectors.Vocab at 0x7fd2a3e96cc0>,\n",
              " 'Club': <gensim.models.keyedvectors.Vocab at 0x7fd2a3e96cf8>,\n",
              " 'uncharted': <gensim.models.keyedvectors.Vocab at 0x7fd2a3e96d30>,\n",
              " '4': <gensim.models.keyedvectors.Vocab at 0x7fd2a3e96d68>,\n",
              " 'nathan': <gensim.models.keyedvectors.Vocab at 0x7fd2a3e96da0>,\n",
              " 'drake': <gensim.models.keyedvectors.Vocab at 0x7fd2a3e96dd8>,\n",
              " 'te': <gensim.models.keyedvectors.Vocab at 0x7fd2a3e96e10>,\n",
              " 'Hit': <gensim.models.keyedvectors.Vocab at 0x7fd2a3e96e48>,\n",
              " 'Remix': <gensim.models.keyedvectors.Vocab at 0x7fd2a3e96e80>,\n",
              " 'totally': <gensim.models.keyedvectors.Vocab at 0x7fd2a3e96eb8>,\n",
              " 'alternative': <gensim.models.keyedvectors.Vocab at 0x7fd2a3e96ef0>,\n",
              " 'infinite': <gensim.models.keyedvectors.Vocab at 0x7fd2a3e96f28>,\n",
              " 'indie': <gensim.models.keyedvectors.Vocab at 0x7fd2a3e96f60>,\n",
              " 'folk': <gensim.models.keyedvectors.Vocab at 0x7fd2a3e96f98>,\n",
              " 'Ito': <gensim.models.keyedvectors.Vocab at 0x7fd2a3e96fd0>,\n",
              " 'hot': <gensim.models.keyedvectors.Vocab at 0x7fd2a3e98048>,\n",
              " 'now': <gensim.models.keyedvectors.Vocab at 0x7fd2a3e98080>,\n",
              " 'tracks': <gensim.models.keyedvectors.Vocab at 0x7fd2a3e980b8>,\n",
              " 'music': <gensim.models.keyedvectors.Vocab at 0x7fd2a3e980f0>,\n",
              " 'Include': <gensim.models.keyedvectors.Vocab at 0x7fd2a3e98128>,\n",
              " 'Arthur': <gensim.models.keyedvectors.Vocab at 0x7fd2a3e98160>,\n",
              " 'Urban': <gensim.models.keyedvectors.Vocab at 0x7fd2a3e98198>,\n",
              " 'all': <gensim.models.keyedvectors.Vocab at 0x7fd2a3e981d0>,\n",
              " 'things': <gensim.models.keyedvectors.Vocab at 0x7fd2a3e98208>,\n",
              " 'post': <gensim.models.keyedvectors.Vocab at 0x7fd2a3e98240>,\n",
              " 'starting': <gensim.models.keyedvectors.Vocab at 0x7fd2a3e98278>,\n",
              " 'favorites': <gensim.models.keyedvectors.Vocab at 0x7fd2a3e982b0>,\n",
              " 'Nothing': <gensim.models.keyedvectors.Vocab at 0x7fd2a3e982e8>,\n",
              " 'Sounds': <gensim.models.keyedvectors.Vocab at 0x7fd2a3e98320>,\n",
              " 'Nature': <gensim.models.keyedvectors.Vocab at 0x7fd2a3e98358>,\n",
              " 'mim': <gensim.models.keyedvectors.Vocab at 0x7fd2a3e98390>,\n",
              " 'Dubstep': <gensim.models.keyedvectors.Vocab at 0x7fd2a3e983c8>,\n",
              " 'Alone': <gensim.models.keyedvectors.Vocab at 0x7fd2a3e98400>,\n",
              " 'About': <gensim.models.keyedvectors.Vocab at 0x7fd2a3e98438>,\n",
              " 'Football': <gensim.models.keyedvectors.Vocab at 0x7fd2a3e98470>,\n",
              " 'brooklyn': <gensim.models.keyedvectors.Vocab at 0x7fd2a3e984a8>,\n",
              " 'beat': <gensim.models.keyedvectors.Vocab at 0x7fd2a3e984e0>,\n",
              " 'disco': <gensim.models.keyedvectors.Vocab at 0x7fd2a3e98518>,\n",
              " 'Genuine': <gensim.models.keyedvectors.Vocab at 0x7fd2a3e98550>,\n",
              " 'Anthony': <gensim.models.keyedvectors.Vocab at 0x7fd2a3e98588>,\n",
              " 'Hamilton': <gensim.models.keyedvectors.Vocab at 0x7fd2a3e985c0>,\n",
              " 'Women': <gensim.models.keyedvectors.Vocab at 0x7fd2a3e985f8>,\n",
              " 'Hip': <gensim.models.keyedvectors.Vocab at 0x7fd2a3e98630>,\n",
              " 'Hop': <gensim.models.keyedvectors.Vocab at 0x7fd2a3e98668>,\n",
              " 'As': <gensim.models.keyedvectors.Vocab at 0x7fd2a3e986a0>,\n",
              " 'Was': <gensim.models.keyedvectors.Vocab at 0x7fd2a3e986d8>,\n",
              " 'Going': <gensim.models.keyedvectors.Vocab at 0x7fd2a3e98710>,\n",
              " 'St': <gensim.models.keyedvectors.Vocab at 0x7fd2a3e98748>,\n",
              " 'fantasГ\\xada': <gensim.models.keyedvectors.Vocab at 0x7fd2a3e98780>,\n",
              " 'Musica': <gensim.models.keyedvectors.Vocab at 0x7fd2a3e987b8>,\n",
              " 'EspaГ±ola': <gensim.models.keyedvectors.Vocab at 0x7fd2a3e987f0>,\n",
              " 'entity': <gensim.models.keyedvectors.Vocab at 0x7fd2a3e98828>,\n",
              " 'Forever': <gensim.models.keyedvectors.Vocab at 0x7fd2a3e98860>,\n",
              " 'Afternoon': <gensim.models.keyedvectors.Vocab at 0x7fd2a3e98898>,\n",
              " 'Train': <gensim.models.keyedvectors.Vocab at 0x7fd2a3e988d0>,\n",
              " 'Ride': <gensim.models.keyedvectors.Vocab at 0x7fd2a3e98908>,\n",
              " 'silver': <gensim.models.keyedvectors.Vocab at 0x7fd2a3e98940>,\n",
              " 'teh': <gensim.models.keyedvectors.Vocab at 0x7fd2a3e98978>,\n",
              " 'llegando': <gensim.models.keyedvectors.Vocab at 0x7fd2a3e989b0>,\n",
              " 'casa': <gensim.models.keyedvectors.Vocab at 0x7fd2a3e989e8>,\n",
              " 'palylist': <gensim.models.keyedvectors.Vocab at 0x7fd2a3e98a20>,\n",
              " 'David': <gensim.models.keyedvectors.Vocab at 0x7fd2a3e98a58>,\n",
              " 'Duetos': <gensim.models.keyedvectors.Vocab at 0x7fd2a3e98a90>,\n",
              " 'title': <gensim.models.keyedvectors.Vocab at 0x7fd2a3e98ac8>,\n",
              " 'ClГЎsicos': <gensim.models.keyedvectors.Vocab at 0x7fd2a3e98b00>,\n",
              " 'Eric': <gensim.models.keyedvectors.Vocab at 0x7fd2a3e98b38>,\n",
              " '70s': <gensim.models.keyedvectors.Vocab at 0x7fd2a3e98b70>,\n",
              " 'smash': <gensim.models.keyedvectors.Vocab at 0x7fd2a3e98ba8>,\n",
              " 'hits': <gensim.models.keyedvectors.Vocab at 0x7fd2a3e98be0>,\n",
              " 'Blues': <gensim.models.keyedvectors.Vocab at 0x7fd2a3e98c18>,\n",
              " 'chill': <gensim.models.keyedvectors.Vocab at 0x7fd2a3e98c50>,\n",
              " 'indiespensables': <gensim.models.keyedvectors.Vocab at 0x7fd2a3e98c88>,\n",
              " 'Emily': <gensim.models.keyedvectors.Vocab at 0x7fd2a3e98cc0>,\n",
              " 'Dickinson': <gensim.models.keyedvectors.Vocab at 0x7fd2a3e98cf8>,\n",
              " 'j': <gensim.models.keyedvectors.Vocab at 0x7fd2a3e98d30>,\n",
              " 'ad': <gensim.models.keyedvectors.Vocab at 0x7fd2a3e98d68>,\n",
              " 'instrumental': <gensim.models.keyedvectors.Vocab at 0x7fd2a3e98da0>,\n",
              " 'madness': <gensim.models.keyedvectors.Vocab at 0x7fd2a3e98dd8>,\n",
              " 'Infantil': <gensim.models.keyedvectors.Vocab at 0x7fd2a3e98e10>,\n",
              " \"80's\": <gensim.models.keyedvectors.Vocab at 0x7fd2a3e98e48>,\n",
              " 'II': <gensim.models.keyedvectors.Vocab at 0x7fd2a3e98e80>,\n",
              " 'Made': <gensim.models.keyedvectors.Vocab at 0x7fd2a3e98eb8>,\n",
              " 'Puerto': <gensim.models.keyedvectors.Vocab at 0x7fd2a3e98ef0>,\n",
              " 'Rico': <gensim.models.keyedvectors.Vocab at 0x7fd2a3e98f28>,\n",
              " 'epic': <gensim.models.keyedvectors.Vocab at 0x7fd2a3e98f60>,\n",
              " 'wall': <gensim.models.keyedvectors.Vocab at 0x7fd2a3e98f98>,\n",
              " 'sound': <gensim.models.keyedvectors.Vocab at 0x7fd2a3e98fd0>,\n",
              " 'Michael': <gensim.models.keyedvectors.Vocab at 0x7fd2a3e9a048>,\n",
              " 'electronic': <gensim.models.keyedvectors.Vocab at 0x7fd2a3e9a080>,\n",
              " 'angela': <gensim.models.keyedvectors.Vocab at 0x7fd2a3e9a0b8>,\n",
              " 'puccini': <gensim.models.keyedvectors.Vocab at 0x7fd2a3e9a0f0>,\n",
              " 'lo': <gensim.models.keyedvectors.Vocab at 0x7fd2a3e9a128>,\n",
              " 'que': <gensim.models.keyedvectors.Vocab at 0x7fd2a3e9a160>,\n",
              " 'suena': <gensim.models.keyedvectors.Vocab at 0x7fd2a3e9a198>,\n",
              " 'new': <gensim.models.keyedvectors.Vocab at 0x7fd2a3e9a1d0>,\n",
              " 'york': <gensim.models.keyedvectors.Vocab at 0x7fd2a3e9a208>,\n",
              " 'Rosana': <gensim.models.keyedvectors.Vocab at 0x7fd2a3e9a240>,\n",
              " '88': <gensim.models.keyedvectors.Vocab at 0x7fd2a3e9a278>,\n",
              " 'travelling': <gensim.models.keyedvectors.Vocab at 0x7fd2a3e9a2b0>,\n",
              " 'r': <gensim.models.keyedvectors.Vocab at 0x7fd2a3e9a2e8>,\n",
              " 'But': <gensim.models.keyedvectors.Vocab at 0x7fd2a3e9a320>,\n",
              " 'Steve': <gensim.models.keyedvectors.Vocab at 0x7fd2a3e9a358>,\n",
              " 'Jordan': <gensim.models.keyedvectors.Vocab at 0x7fd2a3e9a390>,\n",
              " 'tgif': <gensim.models.keyedvectors.Vocab at 0x7fd2a3e9a3c8>,\n",
              " 'up': <gensim.models.keyedvectors.Vocab at 0x7fd2a3e9a400>,\n",
              " 'Prince': <gensim.models.keyedvectors.Vocab at 0x7fd2a3e9a438>,\n",
              " 'billy': <gensim.models.keyedvectors.Vocab at 0x7fd2a3e9a470>,\n",
              " 'highway': <gensim.models.keyedvectors.Vocab at 0x7fd2a3e9a4a8>,\n",
              " '61': <gensim.models.keyedvectors.Vocab at 0x7fd2a3e9a4e0>,\n",
              " 'Halloween': <gensim.models.keyedvectors.Vocab at 0x7fd2a3e9a518>,\n",
              " 'Teens': <gensim.models.keyedvectors.Vocab at 0x7fd2a3e9a550>,\n",
              " 'lady': <gensim.models.keyedvectors.Vocab at 0x7fd2a3e9a588>,\n",
              " 'soulful': <gensim.models.keyedvectors.Vocab at 0x7fd2a3e9a5c0>,\n",
              " 'playlis': <gensim.models.keyedvectors.Vocab at 0x7fd2a3e9a5f8>,\n",
              " 'bring': <gensim.models.keyedvectors.Vocab at 0x7fd2a3e9a630>,\n",
              " 'back': <gensim.models.keyedvectors.Vocab at 0x7fd2a3e9a668>,\n",
              " '90s': <gensim.models.keyedvectors.Vocab at 0x7fd2a3e9a6a0>,\n",
              " 'Jack': <gensim.models.keyedvectors.Vocab at 0x7fd2a3e9a6d8>,\n",
              " 'Be': <gensim.models.keyedvectors.Vocab at 0x7fd2a3e9a710>,\n",
              " 'reggae': <gensim.models.keyedvectors.Vocab at 0x7fd2a3e9a748>,\n",
              " 'Ultra': <gensim.models.keyedvectors.Vocab at 0x7fd2a3e9a780>,\n",
              " 'Liberty': <gensim.models.keyedvectors.Vocab at 0x7fd2a3e9a7b8>,\n",
              " 'road': <gensim.models.keyedvectors.Vocab at 0x7fd2a3e9a7f0>,\n",
              " 'trip': <gensim.models.keyedvectors.Vocab at 0x7fd2a3e9a828>,\n",
              " 'clark': <gensim.models.keyedvectors.Vocab at 0x7fd2a3e9a860>,\n",
              " 'dance': <gensim.models.keyedvectors.Vocab at 0x7fd2a3e9a898>,\n",
              " 'Workout': <gensim.models.keyedvectors.Vocab at 0x7fd2a3e9a8d0>,\n",
              " 'Jane': <gensim.models.keyedvectors.Vocab at 0x7fd2a3e9a908>,\n",
              " 'Machine': <gensim.models.keyedvectors.Vocab at 0x7fd2a3e9a940>,\n",
              " 'Waterscapes': <gensim.models.keyedvectors.Vocab at 0x7fd2a3e9a978>,\n",
              " 'would': <gensim.models.keyedvectors.Vocab at 0x7fd2a3e9a9b0>,\n",
              " 'like': <gensim.models.keyedvectors.Vocab at 0x7fd2a3e9a9e8>,\n",
              " 'drum': <gensim.models.keyedvectors.Vocab at 0x7fd2a3e9aa20>,\n",
              " 'rare': <gensim.models.keyedvectors.Vocab at 0x7fd2a3e9aa58>,\n",
              " 'groove': <gensim.models.keyedvectors.Vocab at 0x7fd2a3e9aa90>,\n",
              " \"I'd\": <gensim.models.keyedvectors.Vocab at 0x7fd2a3e9aac8>,\n",
              " 'Concert': <gensim.models.keyedvectors.Vocab at 0x7fd2a3e9ab00>,\n",
              " 'good': <gensim.models.keyedvectors.Vocab at 0x7fd2a3e9ab38>,\n",
              " 'Harry': <gensim.models.keyedvectors.Vocab at 0x7fd2a3e9ab70>,\n",
              " 'J': <gensim.models.keyedvectors.Vocab at 0x7fd2a3e9aba8>,\n",
              " 'dubstep': <gensim.models.keyedvectors.Vocab at 0x7fd2a3e9abe0>,\n",
              " 'dangles': <gensim.models.keyedvectors.Vocab at 0x7fd2a3e9ac18>,\n",
              " 'dirty': <gensim.models.keyedvectors.Vocab at 0x7fd2a3e9ac50>,\n",
              " 'Lo': <gensim.models.keyedvectors.Vocab at 0x7fd2a3e9ac88>,\n",
              " 'Que': <gensim.models.keyedvectors.Vocab at 0x7fd2a3e9acc0>,\n",
              " 'Suena': <gensim.models.keyedvectors.Vocab at 0x7fd2a3e9acf8>,\n",
              " 'Angeles': <gensim.models.keyedvectors.Vocab at 0x7fd2a3e9ad30>,\n",
              " 'hip': <gensim.models.keyedvectors.Vocab at 0x7fd2a3e9ad68>,\n",
              " 'hop': <gensim.models.keyedvectors.Vocab at 0x7fd2a3e9ada0>,\n",
              " 'gaming': <gensim.models.keyedvectors.Vocab at 0x7fd2a3e9add8>,\n",
              " 'Philip': <gensim.models.keyedvectors.Vocab at 0x7fd2a3e9ae10>,\n",
              " 'Glass': <gensim.models.keyedvectors.Vocab at 0x7fd2a3e9ae48>,\n",
              " 'look': <gensim.models.keyedvectors.Vocab at 0x7fd2a3e9ae80>,\n",
              " '80s': <gensim.models.keyedvectors.Vocab at 0x7fd2a3e9aeb8>,\n",
              " 'Classic': <gensim.models.keyedvectors.Vocab at 0x7fd2a3e9aef0>,\n",
              " 'No': <gensim.models.keyedvectors.Vocab at 0x7fd2a3e9af28>,\n",
              " 'Secrets': <gensim.models.keyedvectors.Vocab at 0x7fd2a3e9af60>,\n",
              " 'power': <gensim.models.keyedvectors.Vocab at 0x7fd2a3e9af98>,\n",
              " 'songs': <gensim.models.keyedvectors.Vocab at 0x7fd2a3e9afd0>,\n",
              " 'Edge': <gensim.models.keyedvectors.Vocab at 0x7fd2a3e9c048>,\n",
              " 'funk': <gensim.models.keyedvectors.Vocab at 0x7fd2a3e9c080>,\n",
              " 'throwback': <gensim.models.keyedvectors.Vocab at 0x7fd2a3e9c0b8>,\n",
              " 'party': <gensim.models.keyedvectors.Vocab at 0x7fd2a3e9c0f0>,\n",
              " 'Do': <gensim.models.keyedvectors.Vocab at 0x7fd2a3e9c128>,\n",
              " 'You': <gensim.models.keyedvectors.Vocab at 0x7fd2a3e9c160>,\n",
              " 'Love': <gensim.models.keyedvectors.Vocab at 0x7fd2a3e9c198>,\n",
              " 'Me': <gensim.models.keyedvectors.Vocab at 0x7fd2a3e9c1d0>,\n",
              " '3rd': <gensim.models.keyedvectors.Vocab at 0x7fd2a3e9c208>,\n",
              " 'World': <gensim.models.keyedvectors.Vocab at 0x7fd2a3e9c240>,\n",
              " 'Fresh': <gensim.models.keyedvectors.Vocab at 0x7fd2a3e9c278>,\n",
              " 'Finds': <gensim.models.keyedvectors.Vocab at 0x7fd2a3e9c2b0>,\n",
              " 'atmospheric': <gensim.models.keyedvectors.Vocab at 0x7fd2a3e9c2e8>,\n",
              " 'black': <gensim.models.keyedvectors.Vocab at 0x7fd2a3e9c320>,\n",
              " 'south': <gensim.models.keyedvectors.Vocab at 0x7fd2a3e9c358>,\n",
              " 'Not': <gensim.models.keyedvectors.Vocab at 0x7fd2a3e9c390>,\n",
              " 'Away': <gensim.models.keyedvectors.Vocab at 0x7fd2a3e9c3c8>,\n",
              " 'midnight': <gensim.models.keyedvectors.Vocab at 0x7fd2a3e9c400>,\n",
              " \"90's\": <gensim.models.keyedvectors.Vocab at 0x7fd2a3e9c438>,\n",
              " 'Baby': <gensim.models.keyedvectors.Vocab at 0x7fd2a3e9c470>,\n",
              " 'Makers': <gensim.models.keyedvectors.Vocab at 0x7fd2a3e9c4a8>,\n",
              " 'CafГ©': <gensim.models.keyedvectors.Vocab at 0x7fd2a3e9c4e0>,\n",
              " 'con': <gensim.models.keyedvectors.Vocab at 0x7fd2a3e9c518>,\n",
              " 'Leche': <gensim.models.keyedvectors.Vocab at 0x7fd2a3e9c550>,\n",
              " 'Place': <gensim.models.keyedvectors.Vocab at 0x7fd2a3e9c588>,\n",
              " '2': <gensim.models.keyedvectors.Vocab at 0x7fd2a3e9c5c0>,\n",
              " 'Exit': <gensim.models.keyedvectors.Vocab at 0x7fd2a3e9c5f8>,\n",
              " 'rollerdisco': <gensim.models.keyedvectors.Vocab at 0x7fd2a3e9c630>,\n",
              " '48': <gensim.models.keyedvectors.Vocab at 0x7fd2a3e9c668>,\n",
              " 'global': <gensim.models.keyedvectors.Vocab at 0x7fd2a3e9c6a0>,\n",
              " 'underground': <gensim.models.keyedvectors.Vocab at 0x7fd2a3e9c6d8>,\n",
              " 'Best': <gensim.models.keyedvectors.Vocab at 0x7fd2a3e9c710>,\n",
              " 'Millennium': <gensim.models.keyedvectors.Vocab at 0x7fd2a3e9c748>,\n",
              " 'bill': <gensim.models.keyedvectors.Vocab at 0x7fd2a3e9c780>,\n",
              " 'Keep': <gensim.models.keyedvectors.Vocab at 0x7fd2a3e9c7b8>,\n",
              " 'Your': <gensim.models.keyedvectors.Vocab at 0x7fd2a3e9c7f0>,\n",
              " 'Reggae': <gensim.models.keyedvectors.Vocab at 0x7fd2a3e9c828>,\n",
              " 'Journal': <gensim.models.keyedvectors.Vocab at 0x7fd2a3e9c860>,\n",
              " 'Plague': <gensim.models.keyedvectors.Vocab at 0x7fd2a3e9c898>,\n",
              " 'Year': <gensim.models.keyedvectors.Vocab at 0x7fd2a3e9c8d0>,\n",
              " 'ian': <gensim.models.keyedvectors.Vocab at 0x7fd2a3e9c908>,\n",
              " 'Young': <gensim.models.keyedvectors.Vocab at 0x7fd2a3e9c940>,\n",
              " 'sudden': <gensim.models.keyedvectors.Vocab at 0x7fd2a3e9c978>,\n",
              " 'rainstorm': <gensim.models.keyedvectors.Vocab at 0x7fd2a3e9c9b0>,\n",
              " 'sweet': <gensim.models.keyedvectors.Vocab at 0x7fd2a3e9c9e8>,\n",
              " 'chillout': <gensim.models.keyedvectors.Vocab at 0x7fd2a3e9ca20>,\n",
              " 'ntc': <gensim.models.keyedvectors.Vocab at 0x7fd2a3e9ca58>,\n",
              " 'gym': <gensim.models.keyedvectors.Vocab at 0x7fd2a3e9ca90>,\n",
              " 'under': <gensim.models.keyedvectors.Vocab at 0x7fd2a3e9cac8>,\n",
              " 'surface': <gensim.models.keyedvectors.Vocab at 0x7fd2a3e9cb00>,\n",
              " 'w': <gensim.models.keyedvectors.Vocab at 0x7fd2a3e9cb38>,\n",
              " 'c': <gensim.models.keyedvectors.Vocab at 0x7fd2a3e9cb70>,\n",
              " 'around': <gensim.models.keyedvectors.Vocab at 0x7fd2a3e9cba8>,\n",
              " 'relaxing': <gensim.models.keyedvectors.Vocab at 0x7fd2a3e9cbe0>,\n",
              " 'Soul': <gensim.models.keyedvectors.Vocab at 0x7fd2a3e9cc18>,\n",
              " 'Revived': <gensim.models.keyedvectors.Vocab at 0x7fd2a3e9cc50>,\n",
              " 'mejor': <gensim.models.keyedvectors.Vocab at 0x7fd2a3e9cc88>,\n",
              " 'los': <gensim.models.keyedvectors.Vocab at 0x7fd2a3e9ccc0>,\n",
              " \"00's\": <gensim.models.keyedvectors.Vocab at 0x7fd2a3e9ccf8>,\n",
              " 'should': <gensim.models.keyedvectors.Vocab at 0x7fd2a3e9cd30>,\n",
              " 'go': <gensim.models.keyedvectors.Vocab at 0x7fd2a3e9cd68>,\n",
              " 'evening': <gensim.models.keyedvectors.Vocab at 0x7fd2a3e9cda0>,\n",
              " 'Ultimate': <gensim.models.keyedvectors.Vocab at 0x7fd2a3e9cdd8>,\n",
              " '00s': <gensim.models.keyedvectors.Vocab at 0x7fd2a3e9ce10>,\n",
              " 'after': <gensim.models.keyedvectors.Vocab at 0x7fd2a3e9ce48>,\n",
              " 'hours': <gensim.models.keyedvectors.Vocab at 0x7fd2a3e9ce80>,\n",
              " 'frank': <gensim.models.keyedvectors.Vocab at 0x7fd2a3e9ceb8>,\n",
              " 'pop': <gensim.models.keyedvectors.Vocab at 0x7fd2a3e9cef0>,\n",
              " 'Step': <gensim.models.keyedvectors.Vocab at 0x7fd2a3e9cf28>,\n",
              " 'Sunshine': <gensim.models.keyedvectors.Vocab at 0x7fd2a3e9cf60>,\n",
              " 'old': <gensim.models.keyedvectors.Vocab at 0x7fd2a3e9cf98>,\n",
              " 'school': <gensim.models.keyedvectors.Vocab at 0x7fd2a3e9cfd0>,\n",
              " 'De': <gensim.models.keyedvectors.Vocab at 0x7fd2a3e9d048>,\n",
              " 'Domingo': <gensim.models.keyedvectors.Vocab at 0x7fd2a3e9d080>,\n",
              " 'at': <gensim.models.keyedvectors.Vocab at 0x7fd2a3e9d0b8>,\n",
              " 'lounge': <gensim.models.keyedvectors.Vocab at 0x7fd2a3e9d0f0>,\n",
              " 'Funky': <gensim.models.keyedvectors.Vocab at 0x7fd2a3e9d128>,\n",
              " 'kickass': <gensim.models.keyedvectors.Vocab at 0x7fd2a3e9d160>,\n",
              " 'Guest': <gensim.models.keyedvectors.Vocab at 0x7fd2a3e9d198>,\n",
              " 'List': <gensim.models.keyedvectors.Vocab at 0x7fd2a3e9d1d0>,\n",
              " 'Polygon': <gensim.models.keyedvectors.Vocab at 0x7fd2a3e9d208>,\n",
              " 'Kurt': <gensim.models.keyedvectors.Vocab at 0x7fd2a3e9d240>,\n",
              " 'James': <gensim.models.keyedvectors.Vocab at 0x7fd2a3e9d278>,\n",
              " 'classics': <gensim.models.keyedvectors.Vocab at 0x7fd2a3e9d2b0>,\n",
              " 'When': <gensim.models.keyedvectors.Vocab at 0x7fd2a3e9d2e8>,\n",
              " 'My': <gensim.models.keyedvectors.Vocab at 0x7fd2a3e9d320>,\n",
              " 'Acoustic': <gensim.models.keyedvectors.Vocab at 0x7fd2a3e9d358>,\n",
              " 'Spring': <gensim.models.keyedvectors.Vocab at 0x7fd2a3e9d390>,\n",
              " 'Classical': <gensim.models.keyedvectors.Vocab at 0x7fd2a3e9d3c8>,\n",
              " 'Moments': <gensim.models.keyedvectors.Vocab at 0x7fd2a3e9d400>,\n",
              " 'Movies': <gensim.models.keyedvectors.Vocab at 0x7fd2a3e9d438>,\n",
              " 'no': <gensim.models.keyedvectors.Vocab at 0x7fd2a3e9d470>,\n",
              " 'va': <gensim.models.keyedvectors.Vocab at 0x7fd2a3e9d4a8>,\n",
              " 'gustar': <gensim.models.keyedvectors.Vocab at 0x7fd2a3e9d4e0>,\n",
              " 'animal': <gensim.models.keyedvectors.Vocab at 0x7fd2a3e9d518>,\n",
              " 'Weekly': <gensim.models.keyedvectors.Vocab at 0x7fd2a3e9d550>,\n",
              " 'City': <gensim.models.keyedvectors.Vocab at 0x7fd2a3e9d588>,\n",
              " 'Masters': <gensim.models.keyedvectors.Vocab at 0x7fd2a3e9d5c0>,\n",
              " 'In': <gensim.models.keyedvectors.Vocab at 0x7fd2a3e9d5f8>,\n",
              " 'Name': <gensim.models.keyedvectors.Vocab at 0x7fd2a3e9d630>,\n",
              " 'Of': <gensim.models.keyedvectors.Vocab at 0x7fd2a3e9d668>,\n",
              " 'United': <gensim.models.keyedvectors.Vocab at 0x7fd2a3e9d6a0>,\n",
              " 'emotron': <gensim.models.keyedvectors.Vocab at 0x7fd2a3e9d6d8>,\n",
              " 'calm': <gensim.models.keyedvectors.Vocab at 0x7fd2a3e9d710>,\n",
              " 'before': <gensim.models.keyedvectors.Vocab at 0x7fd2a3e9d748>,\n",
              " 'storm': <gensim.models.keyedvectors.Vocab at 0x7fd2a3e9d780>,\n",
              " 'Fusion': <gensim.models.keyedvectors.Vocab at 0x7fd2a3e9d7b8>,\n",
              " 'Fest': <gensim.models.keyedvectors.Vocab at 0x7fd2a3e9d7f0>,\n",
              " 'mellow': <gensim.models.keyedvectors.Vocab at 0x7fd2a3e9d828>,\n",
              " 'Don': <gensim.models.keyedvectors.Vocab at 0x7fd2a3e9d860>,\n",
              " 'electrosafari': <gensim.models.keyedvectors.Vocab at 0x7fd2a3e9d898>,\n",
              " 'residence': <gensim.models.keyedvectors.Vocab at 0x7fd2a3e9d8d0>,\n",
              " 'episode': <gensim.models.keyedvectors.Vocab at 0x7fd2a3e9d908>,\n",
              " '6': <gensim.models.keyedvectors.Vocab at 0x7fd2a3e9d940>,\n",
              " 'Stars': <gensim.models.keyedvectors.Vocab at 0x7fd2a3e9d978>,\n",
              " 'ni': <gensim.models.keyedvectors.Vocab at 0x7fd2a3e9d9b0>,\n",
              " 'workday': <gensim.models.keyedvectors.Vocab at 0x7fd2a3e9d9e8>,\n",
              " 'Evening': <gensim.models.keyedvectors.Vocab at 0x7fd2a3e9da20>,\n",
              " 'Groove': <gensim.models.keyedvectors.Vocab at 0x7fd2a3e9da58>,\n",
              " 'How': <gensim.models.keyedvectors.Vocab at 0x7fd2a3e9da90>,\n",
              " 'dj': <gensim.models.keyedvectors.Vocab at 0x7fd2a3e9dac8>,\n",
              " '2010': <gensim.models.keyedvectors.Vocab at 0x7fd2a3e9db00>,\n",
              " 'Decade': <gensim.models.keyedvectors.Vocab at 0x7fd2a3e9db38>,\n",
              " 'playlist?': <gensim.models.keyedvectors.Vocab at 0x7fd2a3e9db70>,\n",
              " 'Fabri': <gensim.models.keyedvectors.Vocab at 0x7fd2a3e9dba8>,\n",
              " 'Fibra': <gensim.models.keyedvectors.Vocab at 0x7fd2a3e9dbe0>,\n",
              " 'Escapada': <gensim.models.keyedvectors.Vocab at 0x7fd2a3e9dc18>,\n",
              " 'found': <gensim.models.keyedvectors.Vocab at 0x7fd2a3e9dc50>,\n",
              " 'them': <gensim.models.keyedvectors.Vocab at 0x7fd2a3e9dc88>,\n",
              " 'first': <gensim.models.keyedvectors.Vocab at 0x7fd2a3e9dcc0>,\n",
              " 'please': <gensim.models.keyedvectors.Vocab at 0x7fd2a3e9dcf8>,\n",
              " 'Stephen': <gensim.models.keyedvectors.Vocab at 0x7fd2a3e9dd30>,\n",
              " 'Confidence': <gensim.models.keyedvectors.Vocab at 0x7fd2a3e9dd68>,\n",
              " 'Boost': <gensim.models.keyedvectors.Vocab at 0x7fd2a3e9dda0>,\n",
              " 'Bachelor': <gensim.models.keyedvectors.Vocab at 0x7fd2a3e9ddd8>,\n",
              " 'Another': <gensim.models.keyedvectors.Vocab at 0x7fd2a3e9de10>,\n",
              " 'Sound': <gensim.models.keyedvectors.Vocab at 0x7fd2a3e9de48>,\n",
              " 'background': <gensim.models.keyedvectors.Vocab at 0x7fd2a3e9de80>,\n",
              " 'North': <gensim.models.keyedvectors.Vocab at 0x7fd2a3e9deb8>,\n",
              " 'Hot': <gensim.models.keyedvectors.Vocab at 0x7fd2a3e9def0>,\n",
              " 'House': <gensim.models.keyedvectors.Vocab at 0x7fd2a3e9df28>,\n",
              " 'roadrunner': <gensim.models.keyedvectors.Vocab at 0x7fd2a3e9df60>,\n",
              " 'rec': <gensim.models.keyedvectors.Vocab at 0x7fd2a3e9df98>,\n",
              " 'releases': <gensim.models.keyedvectors.Vocab at 0x7fd2a3e9dfd0>,\n",
              " 'have': <gensim.models.keyedvectors.Vocab at 0x7fd2a3e9f048>,\n",
              " 'Block': <gensim.models.keyedvectors.Vocab at 0x7fd2a3e9f080>,\n",
              " 'Welcome': <gensim.models.keyedvectors.Vocab at 0x7fd2a3e9f0b8>,\n",
              " 'paul': <gensim.models.keyedvectors.Vocab at 0x7fd2a3e9f0f0>,\n",
              " 'Smash': <gensim.models.keyedvectors.Vocab at 0x7fd2a3e9f128>,\n",
              " 'collective': <gensim.models.keyedvectors.Vocab at 0x7fd2a3e9f160>,\n",
              " 'thursday': <gensim.models.keyedvectors.Vocab at 0x7fd2a3e9f198>,\n",
              " 'Cloud': <gensim.models.keyedvectors.Vocab at 0x7fd2a3e9f1d0>,\n",
              " 'Rap': <gensim.models.keyedvectors.Vocab at 0x7fd2a3e9f208>,\n",
              " 'Ross': <gensim.models.keyedvectors.Vocab at 0x7fd2a3e9f240>,\n",
              " 'history': <gensim.models.keyedvectors.Vocab at 0x7fd2a3e9f278>,\n",
              " 'month': <gensim.models.keyedvectors.Vocab at 0x7fd2a3e9f2b0>,\n",
              " 'Gate': <gensim.models.keyedvectors.Vocab at 0x7fd2a3e9f2e8>,\n",
              " 'Through': <gensim.models.keyedvectors.Vocab at 0x7fd2a3e9f320>,\n",
              " 'edna': <gensim.models.keyedvectors.Vocab at 0x7fd2a3e9f358>,\n",
              " 'vincent': <gensim.models.keyedvectors.Vocab at 0x7fd2a3e9f390>,\n",
              " 'Trap': <gensim.models.keyedvectors.Vocab at 0x7fd2a3e9f3c8>,\n",
              " 'Land': <gensim.models.keyedvectors.Vocab at 0x7fd2a3e9f400>,\n",
              " 'Kan': <gensim.models.keyedvectors.Vocab at 0x7fd2a3e9f438>,\n",
              " 'let': <gensim.models.keyedvectors.Vocab at 0x7fd2a3e9f470>,\n",
              " 'lo-fi': <gensim.models.keyedvectors.Vocab at 0x7fd2a3e9f4a8>,\n",
              " 'any': <gensim.models.keyedvectors.Vocab at 0x7fd2a3e9f4e0>,\n",
              " 'Andrew': <gensim.models.keyedvectors.Vocab at 0x7fd2a3e9f518>,\n",
              " 'timeless': <gensim.models.keyedvectors.Vocab at 0x7fd2a3e9f550>,\n",
              " 'Yourself': <gensim.models.keyedvectors.Vocab at 0x7fd2a3e9f588>,\n",
              " 'Tonight': <gensim.models.keyedvectors.Vocab at 0x7fd2a3e9f5c0>,\n",
              " 'Las': <gensim.models.keyedvectors.Vocab at 0x7fd2a3e9f5f8>,\n",
              " 'Canciones': <gensim.models.keyedvectors.Vocab at 0x7fd2a3e9f630>,\n",
              " 'MГЎs': <gensim.models.keyedvectors.Vocab at 0x7fd2a3e9f668>,\n",
              " 'Lindas': <gensim.models.keyedvectors.Vocab at 0x7fd2a3e9f6a0>,\n",
              " 'Del': <gensim.models.keyedvectors.Vocab at 0x7fd2a3e9f6d8>,\n",
              " 'Mundo': <gensim.models.keyedvectors.Vocab at 0x7fd2a3e9f710>,\n",
              " 'Roy': <gensim.models.keyedvectors.Vocab at 0x7fd2a3e9f748>,\n",
              " 'Comedy': <gensim.models.keyedvectors.Vocab at 0x7fd2a3e9f780>,\n",
              " 'Relief': <gensim.models.keyedvectors.Vocab at 0x7fd2a3e9f7b8>,\n",
              " 'Targeted': <gensim.models.keyedvectors.Vocab at 0x7fd2a3e9f7f0>,\n",
              " 'Jonathan': <gensim.models.keyedvectors.Vocab at 0x7fd2a3e9f828>,\n",
              " 'Electronics': <gensim.models.keyedvectors.Vocab at 0x7fd2a3e9f860>,\n",
              " 'Mary': <gensim.models.keyedvectors.Vocab at 0x7fd2a3e9f898>,\n",
              " 'Sings': <gensim.models.keyedvectors.Vocab at 0x7fd2a3e9f8d0>,\n",
              " 'Guy': <gensim.models.keyedvectors.Vocab at 0x7fd2a3e9f908>,\n",
              " 'electro': <gensim.models.keyedvectors.Vocab at 0x7fd2a3e9f940>,\n",
              " 'sur': <gensim.models.keyedvectors.Vocab at 0x7fd2a3e9f978>,\n",
              " 'Soft': <gensim.models.keyedvectors.Vocab at 0x7fd2a3e9f9b0>,\n",
              " 'running': <gensim.models.keyedvectors.Vocab at 0x7fd2a3e9f9e8>,\n",
              " 'john': <gensim.models.keyedvectors.Vocab at 0x7fd2a3e9fa20>,\n",
              " 'bajo': <gensim.models.keyedvectors.Vocab at 0x7fd2a3e9fa58>,\n",
              " 'las': <gensim.models.keyedvectors.Vocab at 0x7fd2a3e9fa90>,\n",
              " 'estrellas': <gensim.models.keyedvectors.Vocab at 0x7fd2a3e9fac8>,\n",
              " 'blues': <gensim.models.keyedvectors.Vocab at 0x7fd2a3e9fb00>,\n",
              " 'Pumping': <gensim.models.keyedvectors.Vocab at 0x7fd2a3e9fb38>,\n",
              " 'Iron': <gensim.models.keyedvectors.Vocab at 0x7fd2a3e9fb70>,\n",
              " 'soundtrack.': <gensim.models.keyedvectors.Vocab at 0x7fd2a3e9fba8>,\n",
              " 'Favorite': <gensim.models.keyedvectors.Vocab at 0x7fd2a3e9fbe0>,\n",
              " 'Sarah': <gensim.models.keyedvectors.Vocab at 0x7fd2a3e9fc18>,\n",
              " 'MetalSucks': <gensim.models.keyedvectors.Vocab at 0x7fd2a3e9fc50>,\n",
              " 'Playlist': <gensim.models.keyedvectors.Vocab at 0x7fd2a3e9fc88>,\n",
              " 'Korean': <gensim.models.keyedvectors.Vocab at 0x7fd2a3e9fcc0>,\n",
              " 'OSTs': <gensim.models.keyedvectors.Vocab at 0x7fd2a3e9fcf8>,\n",
              " 'Take': <gensim.models.keyedvectors.Vocab at 0x7fd2a3e9fd30>,\n",
              " 'Back': <gensim.models.keyedvectors.Vocab at 0x7fd2a3e9fd68>,\n",
              " 'Dear': <gensim.models.keyedvectors.Vocab at 0x7fd2a3e9fda0>,\n",
              " 'Old': <gensim.models.keyedvectors.Vocab at 0x7fd2a3e9fdd8>,\n",
              " 'Deep': <gensim.models.keyedvectors.Vocab at 0x7fd2a3e9fe10>,\n",
              " 'Dark': <gensim.models.keyedvectors.Vocab at 0x7fd2a3e9fe48>,\n",
              " 'dancehall': <gensim.models.keyedvectors.Vocab at 0x7fd2a3e9fe80>,\n",
              " 'official': <gensim.models.keyedvectors.Vocab at 0x7fd2a3e9feb8>,\n",
              " 'melody': <gensim.models.keyedvectors.Vocab at 0x7fd2a3e9fef0>,\n",
              " 'nelson': <gensim.models.keyedvectors.Vocab at 0x7fd2a3e9ff28>,\n",
              " 'punk': <gensim.models.keyedvectors.Vocab at 0x7fd2a3e9ff60>,\n",
              " 'espaГ±ol': <gensim.models.keyedvectors.Vocab at 0x7fd2a3e9ff98>,\n",
              " 'Jerry': <gensim.models.keyedvectors.Vocab at 0x7fd2a3e9ffd0>,\n",
              " 'Dixon': <gensim.models.keyedvectors.Vocab at 0x7fd2a3ea2048>,\n",
              " 'Tokyo': <gensim.models.keyedvectors.Vocab at 0x7fd2a3ea2080>,\n",
              " 'DГ\\xadas': <gensim.models.keyedvectors.Vocab at 0x7fd2a3ea20b8>,\n",
              " 'Afterwork': <gensim.models.keyedvectors.Vocab at 0x7fd2a3ea20f0>,\n",
              " 'Us': <gensim.models.keyedvectors.Vocab at 0x7fd2a3ea2128>,\n",
              " 'boots': <gensim.models.keyedvectors.Vocab at 0x7fd2a3ea2160>,\n",
              " 'manhattan': <gensim.models.keyedvectors.Vocab at 0x7fd2a3ea2198>,\n",
              " 'amor': <gensim.models.keyedvectors.Vocab at 0x7fd2a3ea21d0>,\n",
              " 'Nastya': <gensim.models.keyedvectors.Vocab at 0x7fd2a3ea2208>,\n",
              " 'Kamenskih': <gensim.models.keyedvectors.Vocab at 0x7fd2a3ea2240>,\n",
              " 'Martin': <gensim.models.keyedvectors.Vocab at 0x7fd2a3ea2278>,\n",
              " 'Epic': <gensim.models.keyedvectors.Vocab at 0x7fd2a3ea22b0>,\n",
              " 'Gaming': <gensim.models.keyedvectors.Vocab at 0x7fd2a3ea22e8>,\n",
              " 'robin': <gensim.models.keyedvectors.Vocab at 0x7fd2a3ea2320>,\n",
              " 'signed': <gensim.models.keyedvectors.Vocab at 0x7fd2a3ea2358>,\n",
              " 'xoxo': <gensim.models.keyedvectors.Vocab at 0x7fd2a3ea2390>,\n",
              " '1959': <gensim.models.keyedvectors.Vocab at 0x7fd2a3ea23c8>,\n",
              " 'enamorГЎndose': <gensim.models.keyedvectors.Vocab at 0x7fd2a3ea2400>,\n",
              " 'album.': <gensim.models.keyedvectors.Vocab at 0x7fd2a3ea2438>,\n",
              " 'fever': <gensim.models.keyedvectors.Vocab at 0x7fd2a3ea2470>,\n",
              " 'Kevin': <gensim.models.keyedvectors.Vocab at 0x7fd2a3ea24a8>,\n",
              " 'Spooning': <gensim.models.keyedvectors.Vocab at 0x7fd2a3ea24e0>,\n",
              " 'Alan': <gensim.models.keyedvectors.Vocab at 0x7fd2a3ea2518>,\n",
              " 'Luis': <gensim.models.keyedvectors.Vocab at 0x7fd2a3ea2550>,\n",
              " 'Fonsi': <gensim.models.keyedvectors.Vocab at 0x7fd2a3ea2588>,\n",
              " 'Wild': <gensim.models.keyedvectors.Vocab at 0x7fd2a3ea25c0>,\n",
              " 'great': <gensim.models.keyedvectors.Vocab at 0x7fd2a3ea25f8>,\n",
              " 'X': <gensim.models.keyedvectors.Vocab at 0x7fd2a3ea2630>,\n",
              " 'playist': <gensim.models.keyedvectors.Vocab at 0x7fd2a3ea2668>,\n",
              " 'james': <gensim.models.keyedvectors.Vocab at 0x7fd2a3ea26a0>,\n",
              " 'Electronic': <gensim.models.keyedvectors.Vocab at 0x7fd2a3ea26d8>,\n",
              " 'include': <gensim.models.keyedvectors.Vocab at 0x7fd2a3ea2710>,\n",
              " 'pat': <gensim.models.keyedvectors.Vocab at 0x7fd2a3ea2748>,\n",
              " 'Engadget': <gensim.models.keyedvectors.Vocab at 0x7fd2a3ea2780>,\n",
              " 'Ricky': <gensim.models.keyedvectors.Vocab at 0x7fd2a3ea27b8>,\n",
              " 'Thomas': <gensim.models.keyedvectors.Vocab at 0x7fd2a3ea27f0>,\n",
              " 'Hate': <gensim.models.keyedvectors.Vocab at 0x7fd2a3ea2828>,\n",
              " 'Want': <gensim.models.keyedvectors.Vocab at 0x7fd2a3ea2860>,\n",
              " 'Die': <gensim.models.keyedvectors.Vocab at 0x7fd2a3ea2898>,\n",
              " 'Six': <gensim.models.keyedvectors.Vocab at 0x7fd2a3ea28d0>,\n",
              " 'string': <gensim.models.keyedvectors.Vocab at 0x7fd2a3ea2908>,\n",
              " 'peacefulness': <gensim.models.keyedvectors.Vocab at 0x7fd2a3ea2940>,\n",
              " 'Cena': <gensim.models.keyedvectors.Vocab at 0x7fd2a3ea2978>,\n",
              " 'Elegante': <gensim.models.keyedvectors.Vocab at 0x7fd2a3ea29b0>,\n",
              " 'Get': <gensim.models.keyedvectors.Vocab at 0x7fd2a3ea29e8>,\n",
              " 'song.': <gensim.models.keyedvectors.Vocab at 0x7fd2a3ea2a20>,\n",
              " 'Adrenaline': <gensim.models.keyedvectors.Vocab at 0x7fd2a3ea2a58>,\n",
              " 'French': <gensim.models.keyedvectors.Vocab at 0x7fd2a3ea2a90>,\n",
              " \"N'\": <gensim.models.keyedvectors.Vocab at 0x7fd2a3ea2ac8>,\n",
              " 'Heavy': <gensim.models.keyedvectors.Vocab at 0x7fd2a3ea2b00>,\n",
              " 'crate': <gensim.models.keyedvectors.Vocab at 0x7fd2a3ea2b38>,\n",
              " 'diggers': <gensim.models.keyedvectors.Vocab at 0x7fd2a3ea2b70>,\n",
              " 'anonymous': <gensim.models.keyedvectors.Vocab at 0x7fd2a3ea2ba8>,\n",
              " 'romantic': <gensim.models.keyedvectors.Vocab at 0x7fd2a3ea2be0>,\n",
              " 'Yesterday': <gensim.models.keyedvectors.Vocab at 0x7fd2a3ea2c18>,\n",
              " 'playlist,': <gensim.models.keyedvectors.Vocab at 0x7fd2a3ea2c50>,\n",
              " 'Highway': <gensim.models.keyedvectors.Vocab at 0x7fd2a3ea2c88>,\n",
              " 'Chronicles': <gensim.models.keyedvectors.Vocab at 0x7fd2a3ea2cc0>,\n",
              " 'instrumentals': <gensim.models.keyedvectors.Vocab at 0x7fd2a3ea2cf8>,\n",
              " 'summer': <gensim.models.keyedvectors.Vocab at 0x7fd2a3ea2d30>,\n",
              " 'little': <gensim.models.keyedvectors.Vocab at 0x7fd2a3ea2d68>,\n",
              " 'Punk': <gensim.models.keyedvectors.Vocab at 0x7fd2a3ea2da0>,\n",
              " 'All': <gensim.models.keyedvectors.Vocab at 0x7fd2a3ea2dd8>,\n",
              " 'Things': <gensim.models.keyedvectors.Vocab at 0x7fd2a3ea2e10>,\n",
              " 'Post': <gensim.models.keyedvectors.Vocab at 0x7fd2a3ea2e48>,\n",
              " 'Jazz': <gensim.models.keyedvectors.Vocab at 0x7fd2a3ea2e80>,\n",
              " 'canadian': <gensim.models.keyedvectors.Vocab at 0x7fd2a3ea2eb8>,\n",
              " 'not': <gensim.models.keyedvectors.Vocab at 0x7fd2a3ea2ef0>,\n",
              " 'your': <gensim.models.keyedvectors.Vocab at 0x7fd2a3ea2f28>,\n",
              " 'parents': <gensim.models.keyedvectors.Vocab at 0x7fd2a3ea2f60>,\n",
              " 'Hype': <gensim.models.keyedvectors.Vocab at 0x7fd2a3ea2f98>,\n",
              " 'Rhythm': <gensim.models.keyedvectors.Vocab at 0x7fd2a3ea2fd0>,\n",
              " 'Hanging': <gensim.models.keyedvectors.Vocab at 0x7fd2a3ea4048>,\n",
              " 'Out': <gensim.models.keyedvectors.Vocab at 0x7fd2a3ea4080>,\n",
              " 'Relaxing': <gensim.models.keyedvectors.Vocab at 0x7fd2a3ea40b8>,\n",
              " 'Song': <gensim.models.keyedvectors.Vocab at 0x7fd2a3ea40f0>,\n",
              " 'about': <gensim.models.keyedvectors.Vocab at 0x7fd2a3ea4128>,\n",
              " 'Chips': <gensim.models.keyedvectors.Vocab at 0x7fd2a3ea4160>,\n",
              " 'mac': <gensim.models.keyedvectors.Vocab at 0x7fd2a3ea4198>,\n",
              " 'cheese': <gensim.models.keyedvectors.Vocab at 0x7fd2a3ea41d0>,\n",
              " 'willie': <gensim.models.keyedvectors.Vocab at 0x7fd2a3ea4208>,\n",
              " 'style': <gensim.models.keyedvectors.Vocab at 0x7fd2a3ea4240>,\n",
              " 'Records': <gensim.models.keyedvectors.Vocab at 0x7fd2a3ea4278>,\n",
              " 'Harris': <gensim.models.keyedvectors.Vocab at 0x7fd2a3ea42b0>,\n",
              " 'be': <gensim.models.keyedvectors.Vocab at 0x7fd2a3ea42e8>,\n",
              " 'cardio': <gensim.models.keyedvectors.Vocab at 0x7fd2a3ea4320>,\n",
              " 'School': <gensim.models.keyedvectors.Vocab at 0x7fd2a3ea4358>,\n",
              " 'dave': <gensim.models.keyedvectors.Vocab at 0x7fd2a3ea4390>,\n",
              " 'Pat': <gensim.models.keyedvectors.Vocab at 0x7fd2a3ea43c8>,\n",
              " 'emily': <gensim.models.keyedvectors.Vocab at 0x7fd2a3ea4400>,\n",
              " 'hotel': <gensim.models.keyedvectors.Vocab at 0x7fd2a3ea4438>,\n",
              " 'novedades': <gensim.models.keyedvectors.Vocab at 0x7fd2a3ea4470>,\n",
              " 'viernes': <gensim.models.keyedvectors.Vocab at 0x7fd2a3ea44a8>,\n",
              " 'sudamГ©rica': <gensim.models.keyedvectors.Vocab at 0x7fd2a3ea44e0>,\n",
              " 'jennifer': <gensim.models.keyedvectors.Vocab at 0x7fd2a3ea4518>,\n",
              " 'lopez': <gensim.models.keyedvectors.Vocab at 0x7fd2a3ea4550>,\n",
              " 'quo': <gensim.models.keyedvectors.Vocab at 0x7fd2a3ea4588>,\n",
              " 'Bring': <gensim.models.keyedvectors.Vocab at 0x7fd2a3ea45c0>,\n",
              " 'Might': <gensim.models.keyedvectors.Vocab at 0x7fd2a3ea45f8>,\n",
              " 'Myth': <gensim.models.keyedvectors.Vocab at 0x7fd2a3ea4630>,\n",
              " 'Power': <gensim.models.keyedvectors.Vocab at 0x7fd2a3ea4668>,\n",
              " 'African': <gensim.models.keyedvectors.Vocab at 0x7fd2a3ea46a0>,\n",
              " 'Heat': <gensim.models.keyedvectors.Vocab at 0x7fd2a3ea46d8>,\n",
              " 'hands': <gensim.models.keyedvectors.Vocab at 0x7fd2a3ea4710>,\n",
              " 'best': <gensim.models.keyedvectors.Vocab at 0x7fd2a3ea4748>,\n",
              " 'Keith': <gensim.models.keyedvectors.Vocab at 0x7fd2a3ea4780>,\n",
              " 'Futuros': <gensim.models.keyedvectors.Vocab at 0x7fd2a3ea47b8>,\n",
              " 'current': <gensim.models.keyedvectors.Vocab at 0x7fd2a3ea47f0>,\n",
              " 'If': <gensim.models.keyedvectors.Vocab at 0x7fd2a3ea4828>,\n",
              " 'Could': <gensim.models.keyedvectors.Vocab at 0x7fd2a3ea4860>,\n",
              " 'spanish': <gensim.models.keyedvectors.Vocab at 0x7fd2a3ea4898>,\n",
              " 'Daily': <gensim.models.keyedvectors.Vocab at 0x7fd2a3ea48d0>,\n",
              " 'Lift': <gensim.models.keyedvectors.Vocab at 0x7fd2a3ea4908>,\n",
              " 'Phunkadelic': <gensim.models.keyedvectors.Vocab at 0x7fd2a3ea4940>,\n",
              " 'Louis': <gensim.models.keyedvectors.Vocab at 0x7fd2a3ea4978>,\n",
              " 'Waltz': <gensim.models.keyedvectors.Vocab at 0x7fd2a3ea49b0>,\n",
              " 'Ray': <gensim.models.keyedvectors.Vocab at 0x7fd2a3ea49e8>,\n",
              " 'Guitar': <gensim.models.keyedvectors.Vocab at 0x7fd2a3ea4a20>,\n",
              " 'Hero': <gensim.models.keyedvectors.Vocab at 0x7fd2a3ea4a58>,\n",
              " 'wine': <gensim.models.keyedvectors.Vocab at 0x7fd2a3ea4a90>,\n",
              " 'dine': <gensim.models.keyedvectors.Vocab at 0x7fd2a3ea4ac8>,\n",
              " 'radio': <gensim.models.keyedvectors.Vocab at 0x7fd2a3ea4b00>,\n",
              " 'death': <gensim.models.keyedvectors.Vocab at 0x7fd2a3ea4b38>,\n",
              " 'singer': <gensim.models.keyedvectors.Vocab at 0x7fd2a3ea4b70>,\n",
              " 'playlists': <gensim.models.keyedvectors.Vocab at 0x7fd2a3ea4ba8>,\n",
              " 'bleeps': <gensim.models.keyedvectors.Vocab at 0x7fd2a3ea4be0>,\n",
              " 'bloops': <gensim.models.keyedvectors.Vocab at 0x7fd2a3ea4c18>,\n",
              " 'north': <gensim.models.keyedvectors.Vocab at 0x7fd2a3ea4c50>,\n",
              " 'Autumn': <gensim.models.keyedvectors.Vocab at 0x7fd2a3ea4c88>,\n",
              " 'Lounge': <gensim.models.keyedvectors.Vocab at 0x7fd2a3ea4cc0>,\n",
              " 'Chocolate': <gensim.models.keyedvectors.Vocab at 0x7fd2a3ea4cf8>,\n",
              " 'Games': <gensim.models.keyedvectors.Vocab at 0x7fd2a3ea4d30>,\n",
              " 'вЂ“': <gensim.models.keyedvectors.Vocab at 0x7fd2a3ea4d68>,\n",
              " 'steve': <gensim.models.keyedvectors.Vocab at 0x7fd2a3ea4da0>,\n",
              " 'Dean': <gensim.models.keyedvectors.Vocab at 0x7fd2a3ea4dd8>,\n",
              " 'xplorer': <gensim.models.keyedvectors.Vocab at 0x7fd2a3ea4e10>,\n",
              " '3': <gensim.models.keyedvectors.Vocab at 0x7fd2a3ea4e48>,\n",
              " 'mГєsica': <gensim.models.keyedvectors.Vocab at 0x7fd2a3ea4e80>,\n",
              " 'tus': <gensim.models.keyedvectors.Vocab at 0x7fd2a3ea4eb8>,\n",
              " 'Zen': <gensim.models.keyedvectors.Vocab at 0x7fd2a3ea4ef0>,\n",
              " 'Focus': <gensim.models.keyedvectors.Vocab at 0x7fd2a3ea4f28>,\n",
              " 'hart': <gensim.models.keyedvectors.Vocab at 0x7fd2a3ea4f60>,\n",
              " 'Up': <gensim.models.keyedvectors.Vocab at 0x7fd2a3ea4f98>,\n",
              " 'Sun': <gensim.models.keyedvectors.Vocab at 0x7fd2a3ea4fd0>,\n",
              " 'Roger': <gensim.models.keyedvectors.Vocab at 0x7fd2a3ea7048>,\n",
              " 'who': <gensim.models.keyedvectors.Vocab at 0x7fd2a3ea7080>,\n",
              " 'Dj': <gensim.models.keyedvectors.Vocab at 0x7fd2a3ea70b8>,\n",
              " 'spa': <gensim.models.keyedvectors.Vocab at 0x7fd2a3ea70f0>,\n",
              " 'Third': <gensim.models.keyedvectors.Vocab at 0x7fd2a3ea7128>,\n",
              " 'Stone': <gensim.models.keyedvectors.Vocab at 0x7fd2a3ea7160>,\n",
              " 'ConcentraciГіn': <gensim.models.keyedvectors.Vocab at 0x7fd2a3ea7198>,\n",
              " 'le': <gensim.models.keyedvectors.Vocab at 0x7fd2a3ea71d0>,\n",
              " 'Earth,': <gensim.models.keyedvectors.Vocab at 0x7fd2a3ea7208>,\n",
              " 'Wind': <gensim.models.keyedvectors.Vocab at 0x7fd2a3ea7240>,\n",
              " 'Fire': <gensim.models.keyedvectors.Vocab at 0x7fd2a3ea7278>,\n",
              " 'Tony': <gensim.models.keyedvectors.Vocab at 0x7fd2a3ea72b0>,\n",
              " 'americana': <gensim.models.keyedvectors.Vocab at 0x7fd2a3ea72e8>,\n",
              " 'Throwback': <gensim.models.keyedvectors.Vocab at 0x7fd2a3ea7320>,\n",
              " 'keep': <gensim.models.keyedvectors.Vocab at 0x7fd2a3ea7358>,\n",
              " 'Karin': <gensim.models.keyedvectors.Vocab at 0x7fd2a3ea7390>,\n",
              " 'Dreijer': <gensim.models.keyedvectors.Vocab at 0x7fd2a3ea73c8>,\n",
              " 'Andersson': <gensim.models.keyedvectors.Vocab at 0x7fd2a3ea7400>,\n",
              " 'Soundtrack': <gensim.models.keyedvectors.Vocab at 0x7fd2a3ea7438>,\n",
              " 'jenifer': <gensim.models.keyedvectors.Vocab at 0x7fd2a3ea7470>,\n",
              " \"2000's\": <gensim.models.keyedvectors.Vocab at 0x7fd2a3ea74a8>,\n",
              " 'big': <gensim.models.keyedvectors.Vocab at 0x7fd2a3ea74e0>,\n",
              " 'mama': <gensim.models.keyedvectors.Vocab at 0x7fd2a3ea7518>,\n",
              " 'We': <gensim.models.keyedvectors.Vocab at 0x7fd2a3ea7550>,\n",
              " 'Everywhere': <gensim.models.keyedvectors.Vocab at 0x7fd2a3ea7588>,\n",
              " 'friends': <gensim.models.keyedvectors.Vocab at 0x7fd2a3ea75c0>,\n",
              " 'Songs': <gensim.models.keyedvectors.Vocab at 0x7fd2a3ea75f8>,\n",
              " 'Sing': <gensim.models.keyedvectors.Vocab at 0x7fd2a3ea7630>,\n",
              " 'Car': <gensim.models.keyedvectors.Vocab at 0x7fd2a3ea7668>,\n",
              " 'discography': <gensim.models.keyedvectors.Vocab at 0x7fd2a3ea76a0>,\n",
              " 'Massive': <gensim.models.keyedvectors.Vocab at 0x7fd2a3ea76d8>,\n",
              " 'Soca': <gensim.models.keyedvectors.Vocab at 0x7fd2a3ea7710>,\n",
              " 'Intelligence': <gensim.models.keyedvectors.Vocab at 0x7fd2a3ea7748>,\n",
              " 'Skatepark': <gensim.models.keyedvectors.Vocab at 0x7fd2a3ea7780>,\n",
              " 'Punks': <gensim.models.keyedvectors.Vocab at 0x7fd2a3ea77b8>,\n",
              " \"it's\": <gensim.models.keyedvectors.Vocab at 0x7fd2a3ea77f0>,\n",
              " 'ok': <gensim.models.keyedvectors.Vocab at 0x7fd2a3ea7828>,\n",
              " 'picnic': <gensim.models.keyedvectors.Vocab at 0x7fd2a3ea7860>,\n",
              " 'park': <gensim.models.keyedvectors.Vocab at 0x7fd2a3ea7898>,\n",
              " 'TODO': <gensim.models.keyedvectors.Vocab at 0x7fd2a3ea78d0>,\n",
              " 'NOVEDADES': <gensim.models.keyedvectors.Vocab at 0x7fd2a3ea7908>,\n",
              " 'Novedades': <gensim.models.keyedvectors.Vocab at 0x7fd2a3ea7940>,\n",
              " 'Cobb': <gensim.models.keyedvectors.Vocab at 0x7fd2a3ea7978>,\n",
              " 'Kids': <gensim.models.keyedvectors.Vocab at 0x7fd2a3ea79b0>,\n",
              " 'ejercicio': <gensim.models.keyedvectors.Vocab at 0x7fd2a3ea79e8>,\n",
              " 'Please,': <gensim.models.keyedvectors.Vocab at 0x7fd2a3ea7a20>,\n",
              " 'Let': <gensim.models.keyedvectors.Vocab at 0x7fd2a3ea7a58>,\n",
              " 'What': <gensim.models.keyedvectors.Vocab at 0x7fd2a3ea7a90>,\n",
              " 'Go': <gensim.models.keyedvectors.Vocab at 0x7fd2a3ea7ac8>,\n",
              " 'Brother': <gensim.models.keyedvectors.Vocab at 0x7fd2a3ea7b00>,\n",
              " 'Gold': <gensim.models.keyedvectors.Vocab at 0x7fd2a3ea7b38>,\n",
              " 'Edition': <gensim.models.keyedvectors.Vocab at 0x7fd2a3ea7b70>,\n",
              " 'Just': <gensim.models.keyedvectors.Vocab at 0x7fd2a3ea7ba8>,\n",
              " 'Dirty': <gensim.models.keyedvectors.Vocab at 0x7fd2a3ea7be0>,\n",
              " 'Robin': <gensim.models.keyedvectors.Vocab at 0x7fd2a3ea7c18>,\n",
              " 'Hood': <gensim.models.keyedvectors.Vocab at 0x7fd2a3ea7c50>,\n",
              " 'better': <gensim.models.keyedvectors.Vocab at 0x7fd2a3ea7c88>,\n",
              " 'king': <gensim.models.keyedvectors.Vocab at 0x7fd2a3ea7cc0>,\n",
              " 'Give': <gensim.models.keyedvectors.Vocab at 0x7fd2a3ea7cf8>,\n",
              " 'Heaven': <gensim.models.keyedvectors.Vocab at 0x7fd2a3ea7d30>,\n",
              " 'me': <gensim.models.keyedvectors.Vocab at 0x7fd2a3ea7d68>,\n",
              " 'bpm': <gensim.models.keyedvectors.Vocab at 0x7fd2a3ea7da0>,\n",
              " 'El': <gensim.models.keyedvectors.Vocab at 0x7fd2a3ea7dd8>,\n",
              " 'Matthew': <gensim.models.keyedvectors.Vocab at 0x7fd2a3ea7e10>,\n",
              " 'Being': <gensim.models.keyedvectors.Vocab at 0x7fd2a3ea7e48>,\n",
              " 'Black': <gensim.models.keyedvectors.Vocab at 0x7fd2a3ea7e80>,\n",
              " 'Angel': <gensim.models.keyedvectors.Vocab at 0x7fd2a3ea7eb8>,\n",
              " 'mis': <gensim.models.keyedvectors.Vocab at 0x7fd2a3ea7ef0>,\n",
              " 'niГ±os': <gensim.models.keyedvectors.Vocab at 0x7fd2a3ea7f28>,\n",
              " '30': <gensim.models.keyedvectors.Vocab at 0x7fd2a3ea7f60>,\n",
              " 'sleep': <gensim.models.keyedvectors.Vocab at 0x7fd2a3ea7f98>,\n",
              " 'Snow': <gensim.models.keyedvectors.Vocab at 0x7fd2a3ea7fd0>,\n",
              " 'Justin': <gensim.models.keyedvectors.Vocab at 0x7fd2a3eab048>,\n",
              " 'chopin': <gensim.models.keyedvectors.Vocab at 0x7fd2a3eab080>,\n",
              " 'johnny': <gensim.models.keyedvectors.Vocab at 0x7fd2a3eab0b8>,\n",
              " 'world': <gensim.models.keyedvectors.Vocab at 0x7fd2a3eab0f0>,\n",
              " 'focus': <gensim.models.keyedvectors.Vocab at 0x7fd2a3eab128>,\n",
              " \"Women's\": <gensim.models.keyedvectors.Vocab at 0x7fd2a3eab160>,\n",
              " 'Lit': <gensim.models.keyedvectors.Vocab at 0x7fd2a3eab198>,\n",
              " 'Running': <gensim.models.keyedvectors.Vocab at 0x7fd2a3eab1d0>,\n",
              " 'grandes': <gensim.models.keyedvectors.Vocab at 0x7fd2a3eab208>,\n",
              " 'unplugged': <gensim.models.keyedvectors.Vocab at 0x7fd2a3eab240>,\n",
              " 'Rick': <gensim.models.keyedvectors.Vocab at 0x7fd2a3eab278>,\n",
              " 'Ron': <gensim.models.keyedvectors.Vocab at 0x7fd2a3eab2b0>,\n",
              " 'Roots': <gensim.models.keyedvectors.Vocab at 0x7fd2a3eab2e8>,\n",
              " 'rising': <gensim.models.keyedvectors.Vocab at 0x7fd2a3eab320>,\n",
              " 'saturday': <gensim.models.keyedvectors.Vocab at 0x7fd2a3eab358>,\n",
              " 'D': <gensim.models.keyedvectors.Vocab at 0x7fd2a3eab390>,\n",
              " 'Generation': <gensim.models.keyedvectors.Vocab at 0x7fd2a3eab3c8>,\n",
              " 'Leonard': <gensim.models.keyedvectors.Vocab at 0x7fd2a3eab400>,\n",
              " 'Man': <gensim.models.keyedvectors.Vocab at 0x7fd2a3eab438>,\n",
              " 'scott': <gensim.models.keyedvectors.Vocab at 0x7fd2a3eab470>,\n",
              " 'Book': <gensim.models.keyedvectors.Vocab at 0x7fd2a3eab4a8>,\n",
              " 'High': <gensim.models.keyedvectors.Vocab at 0x7fd2a3eab4e0>,\n",
              " 'Training': <gensim.models.keyedvectors.Vocab at 0x7fd2a3eab518>,\n",
              " 'selektor': <gensim.models.keyedvectors.Vocab at 0x7fd2a3eab550>,\n",
              " 'Biddle': <gensim.models.keyedvectors.Vocab at 0x7fd2a3eab588>,\n",
              " 'sunday': <gensim.models.keyedvectors.Vocab at 0x7fd2a3eab5c0>,\n",
              " 'chris': <gensim.models.keyedvectors.Vocab at 0x7fd2a3eab5f8>,\n",
              " 'people': <gensim.models.keyedvectors.Vocab at 0x7fd2a3eab630>,\n",
              " 'take': <gensim.models.keyedvectors.Vocab at 0x7fd2a3eab668>,\n",
              " 'other': <gensim.models.keyedvectors.Vocab at 0x7fd2a3eab6a0>,\n",
              " 'newest': <gensim.models.keyedvectors.Vocab at 0x7fd2a3eab6d8>,\n",
              " 'find': <gensim.models.keyedvectors.Vocab at 0x7fd2a3eab710>,\n",
              " 'Come': <gensim.models.keyedvectors.Vocab at 0x7fd2a3eab748>,\n",
              " 'salsa': <gensim.models.keyedvectors.Vocab at 0x7fd2a3eab780>,\n",
              " 'live': <gensim.models.keyedvectors.Vocab at 0x7fd2a3eab7b8>,\n",
              " 'crossroad': <gensim.models.keyedvectors.Vocab at 0x7fd2a3eab7f0>,\n",
              " 'xiang': <gensim.models.keyedvectors.Vocab at 0x7fd2a3eab828>,\n",
              " 'natalie': <gensim.models.keyedvectors.Vocab at 0x7fd2a3eab860>,\n",
              " 'viajes': <gensim.models.keyedvectors.Vocab at 0x7fd2a3eab898>,\n",
              " \"Chillin'\": <gensim.models.keyedvectors.Vocab at 0x7fd2a3eab8d0>,\n",
              " 'Dirt': <gensim.models.keyedvectors.Vocab at 0x7fd2a3eab908>,\n",
              " 'Road': <gensim.models.keyedvectors.Vocab at 0x7fd2a3eab940>,\n",
              " '2010s': <gensim.models.keyedvectors.Vocab at 0x7fd2a3eab978>,\n",
              " 'don': <gensim.models.keyedvectors.Vocab at 0x7fd2a3eab9b0>,\n",
              " 'Commute': <gensim.models.keyedvectors.Vocab at 0x7fd2a3eab9e8>,\n",
              " 'Refugee': <gensim.models.keyedvectors.Vocab at 0x7fd2a3eaba20>,\n",
              " 'Infusions': <gensim.models.keyedvectors.Vocab at 0x7fd2a3eaba58>,\n",
              " 'indietronic': <gensim.models.keyedvectors.Vocab at 0x7fd2a3eaba90>,\n",
              " 'Street': <gensim.models.keyedvectors.Vocab at 0x7fd2a3eabac8>,\n",
              " 'clГЎsicos': <gensim.models.keyedvectors.Vocab at 0x7fd2a3eabb00>,\n",
              " 'Barry': <gensim.models.keyedvectors.Vocab at 0x7fd2a3eabb38>,\n",
              " 'Papa': <gensim.models.keyedvectors.Vocab at 0x7fd2a3eabb70>,\n",
              " 'Dead': <gensim.models.keyedvectors.Vocab at 0x7fd2a3eabba8>,\n",
              " 'Big': <gensim.models.keyedvectors.Vocab at 0x7fd2a3eabbe0>,\n",
              " 'NoctГЎmbulo': <gensim.models.keyedvectors.Vocab at 0x7fd2a3eabc18>,\n",
              " 'Beautiful': <gensim.models.keyedvectors.Vocab at 0x7fd2a3eabc50>,\n",
              " 'political': <gensim.models.keyedvectors.Vocab at 0x7fd2a3eabc88>,\n",
              " 'concentraciГіn': <gensim.models.keyedvectors.Vocab at 0x7fd2a3eabcc0>,\n",
              " 'Beyond': <gensim.models.keyedvectors.Vocab at 0x7fd2a3eabcf8>,\n",
              " 'Ghost': <gensim.models.keyedvectors.Vocab at 0x7fd2a3eabd30>,\n",
              " 'bandas': <gensim.models.keyedvectors.Vocab at 0x7fd2a3eabd68>,\n",
              " 'sonoras': <gensim.models.keyedvectors.Vocab at 0x7fd2a3eabda0>,\n",
              " 'Rewind': <gensim.models.keyedvectors.Vocab at 0x7fd2a3eabdd8>,\n",
              " 'farian': <gensim.models.keyedvectors.Vocab at 0x7fd2a3eabe10>,\n",
              " 'Only': <gensim.models.keyedvectors.Vocab at 0x7fd2a3eabe48>,\n",
              " 'Night': <gensim.models.keyedvectors.Vocab at 0x7fd2a3eabe80>,\n",
              " 'Play': <gensim.models.keyedvectors.Vocab at 0x7fd2a3eabeb8>,\n",
              " 'through': <gensim.models.keyedvectors.Vocab at 0x7fd2a3eabef0>,\n",
              " 'decades': <gensim.models.keyedvectors.Vocab at 0x7fd2a3eabf28>,\n",
              " 'Joey': <gensim.models.keyedvectors.Vocab at 0x7fd2a3eabf60>,\n",
              " 'First': <gensim.models.keyedvectors.Vocab at 0x7fd2a3eabf98>,\n",
              " 'Issue': <gensim.models.keyedvectors.Vocab at 0x7fd2a3eabfd0>,\n",
              " 'favorite': <gensim.models.keyedvectors.Vocab at 0x7fd2a3eaf048>,\n",
              " 'santos': <gensim.models.keyedvectors.Vocab at 0x7fd2a3eaf080>,\n",
              " 'Trance': <gensim.models.keyedvectors.Vocab at 0x7fd2a3eaf0b8>,\n",
              " 'Life': <gensim.models.keyedvectors.Vocab at 0x7fd2a3eaf0f0>,\n",
              " 'group': <gensim.models.keyedvectors.Vocab at 0x7fd2a3eaf128>,\n",
              " 'as': <gensim.models.keyedvectors.Vocab at 0x7fd2a3eaf160>,\n",
              " 'ultimate': <gensim.models.keyedvectors.Vocab at 0x7fd2a3eaf198>,\n",
              " 'what': <gensim.models.keyedvectors.Vocab at 0x7fd2a3eaf1d0>,\n",
              " 'child': <gensim.models.keyedvectors.Vocab at 0x7fd2a3eaf208>,\n",
              " 'del': <gensim.models.keyedvectors.Vocab at 0x7fd2a3eaf240>,\n",
              " 'Rumba': <gensim.models.keyedvectors.Vocab at 0x7fd2a3eaf278>,\n",
              " 'y': <gensim.models.keyedvectors.Vocab at 0x7fd2a3eaf2b0>,\n",
              " 'mГЎs': <gensim.models.keyedvectors.Vocab at 0x7fd2a3eaf2e8>,\n",
              " 'romГЎntica': <gensim.models.keyedvectors.Vocab at 0x7fd2a3eaf320>,\n",
              " 'Jacob': <gensim.models.keyedvectors.Vocab at 0x7fd2a3eaf358>,\n",
              " 'get': <gensim.models.keyedvectors.Vocab at 0x7fd2a3eaf390>,\n",
              " 'going': <gensim.models.keyedvectors.Vocab at 0x7fd2a3eaf3c8>,\n",
              " 'Jazzy': <gensim.models.keyedvectors.Vocab at 0x7fd2a3eaf400>,\n",
              " 'B': <gensim.models.keyedvectors.Vocab at 0x7fd2a3eaf438>,\n",
              " 'Lazy': <gensim.models.keyedvectors.Vocab at 0x7fd2a3eaf470>,\n",
              " 'Digital': <gensim.models.keyedvectors.Vocab at 0x7fd2a3eaf4a8>,\n",
              " 'it': <gensim.models.keyedvectors.Vocab at 0x7fd2a3eaf4e0>,\n",
              " 'days': <gensim.models.keyedvectors.Vocab at 0x7fd2a3eaf518>,\n",
              " 'miami': <gensim.models.keyedvectors.Vocab at 0x7fd2a3eaf550>,\n",
              " 'guest': <gensim.models.keyedvectors.Vocab at 0x7fd2a3eaf588>,\n",
              " 'Releases': <gensim.models.keyedvectors.Vocab at 0x7fd2a3eaf5c0>,\n",
              " 'minute': <gensim.models.keyedvectors.Vocab at 0x7fd2a3eaf5f8>,\n",
              " 'dream': <gensim.models.keyedvectors.Vocab at 0x7fd2a3eaf630>,\n",
              " 'Cierra': <gensim.models.keyedvectors.Vocab at 0x7fd2a3eaf668>,\n",
              " 'Wave': <gensim.models.keyedvectors.Vocab at 0x7fd2a3eaf6a0>,\n",
              " 'Push': <gensim.models.keyedvectors.Vocab at 0x7fd2a3eaf6d8>,\n",
              " 'Button': <gensim.models.keyedvectors.Vocab at 0x7fd2a3eaf710>,\n",
              " 'Funk': <gensim.models.keyedvectors.Vocab at 0x7fd2a3eaf748>,\n",
              " 'Randy': <gensim.models.keyedvectors.Vocab at 0x7fd2a3eaf780>,\n",
              " 'SinfonГ\\xada': <gensim.models.keyedvectors.Vocab at 0x7fd2a3eaf7b8>,\n",
              " 'Hipster': <gensim.models.keyedvectors.Vocab at 0x7fd2a3eaf7f0>,\n",
              " 'crash': <gensim.models.keyedvectors.Vocab at 0x7fd2a3eaf828>,\n",
              " 'course': <gensim.models.keyedvectors.Vocab at 0x7fd2a3eaf860>,\n",
              " 'transatlantic': <gensim.models.keyedvectors.Vocab at 0x7fd2a3eaf898>,\n",
              " 'lullaby': <gensim.models.keyedvectors.Vocab at 0x7fd2a3eaf8d0>,\n",
              " 'funtime': <gensim.models.keyedvectors.Vocab at 0x7fd2a3eaf908>,\n",
              " 'Birth': <gensim.models.keyedvectors.Vocab at 0x7fd2a3eaf940>,\n",
              " 'Cool': <gensim.models.keyedvectors.Vocab at 0x7fd2a3eaf978>,\n",
              " 'anochecer': <gensim.models.keyedvectors.Vocab at 0x7fd2a3eaf9b0>,\n",
              " 'urbano': <gensim.models.keyedvectors.Vocab at 0x7fd2a3eaf9e8>,\n",
              " 'Gear': <gensim.models.keyedvectors.Vocab at 0x7fd2a3eafa20>,\n",
              " 'Solid': <gensim.models.keyedvectors.Vocab at 0x7fd2a3eafa58>,\n",
              " 'Sons': <gensim.models.keyedvectors.Vocab at 0x7fd2a3eafa90>,\n",
              " 'Other': <gensim.models.keyedvectors.Vocab at 0x7fd2a3eafac8>,\n",
              " 'Side': <gensim.models.keyedvectors.Vocab at 0x7fd2a3eafb00>,\n",
              " 'Paris': <gensim.models.keyedvectors.Vocab at 0x7fd2a3eafb38>,\n",
              " 'showstopper': <gensim.models.keyedvectors.Vocab at 0x7fd2a3eafb70>,\n",
              " 'being': <gensim.models.keyedvectors.Vocab at 0x7fd2a3eafba8>,\n",
              " 'mary': <gensim.models.keyedvectors.Vocab at 0x7fd2a3eafbe0>,\n",
              " 'jane': <gensim.models.keyedvectors.Vocab at 0x7fd2a3eafc18>,\n",
              " 'Still': <gensim.models.keyedvectors.Vocab at 0x7fd2a3eafc50>,\n",
              " 'Got': <gensim.models.keyedvectors.Vocab at 0x7fd2a3eafc88>,\n",
              " 'Hard': <gensim.models.keyedvectors.Vocab at 0x7fd2a3eafcc0>,\n",
              " 'friday': <gensim.models.keyedvectors.Vocab at 0x7fd2a3eafcf8>,\n",
              " 'White': <gensim.models.keyedvectors.Vocab at 0x7fd2a3eafd30>,\n",
              " 'Noise': <gensim.models.keyedvectors.Vocab at 0x7fd2a3eafd68>,\n",
              " 'un': <gensim.models.keyedvectors.Vocab at 0x7fd2a3eafda0>,\n",
              " '170': <gensim.models.keyedvectors.Vocab at 0x7fd2a3eafdd8>,\n",
              " '190': <gensim.models.keyedvectors.Vocab at 0x7fd2a3eafe10>,\n",
              " 'Al': <gensim.models.keyedvectors.Vocab at 0x7fd2a3eafe48>,\n",
              " 'Essentials': <gensim.models.keyedvectors.Vocab at 0x7fd2a3eafe80>,\n",
              " 'man': <gensim.models.keyedvectors.Vocab at 0x7fd2a3eafeb8>,\n",
              " 'never': <gensim.models.keyedvectors.Vocab at 0x7fd2a3eafef0>,\n",
              " 'comedy': <gensim.models.keyedvectors.Vocab at 0x7fd2a3eaff28>,\n",
              " 'Perfect': <gensim.models.keyedvectors.Vocab at 0x7fd2a3eaff60>,\n",
              " 'Part': <gensim.models.keyedvectors.Vocab at 0x7fd2a3eaff98>,\n",
              " 'pulse': <gensim.models.keyedvectors.Vocab at 0x7fd2a3eaffd0>,\n",
              " 'Gary': <gensim.models.keyedvectors.Vocab at 0x7fd2a3eb2048>,\n",
              " 'genre': <gensim.models.keyedvectors.Vocab at 0x7fd2a3eb2080>,\n",
              " 'King': <gensim.models.keyedvectors.Vocab at 0x7fd2a3eb20b8>,\n",
              " 'America': <gensim.models.keyedvectors.Vocab at 0x7fd2a3eb20f0>,\n",
              " 'trey': <gensim.models.keyedvectors.Vocab at 0x7fd2a3eb2128>,\n",
              " 'songz': <gensim.models.keyedvectors.Vocab at 0x7fd2a3eb2160>,\n",
              " 'hoping': <gensim.models.keyedvectors.Vocab at 0x7fd2a3eb2198>,\n",
              " 'Intimate': <gensim.models.keyedvectors.Vocab at 0x7fd2a3eb21d0>,\n",
              " 'Dinner': <gensim.models.keyedvectors.Vocab at 0x7fd2a3eb2208>,\n",
              " 'Piano': <gensim.models.keyedvectors.Vocab at 0x7fd2a3eb2240>,\n",
              " 'John': <gensim.models.keyedvectors.Vocab at 0x7fd2a3eb2278>,\n",
              " 'Tesh': <gensim.models.keyedvectors.Vocab at 0x7fd2a3eb22b0>,\n",
              " 'friendesemana': <gensim.models.keyedvectors.Vocab at 0x7fd2a3eb22e8>,\n",
              " 'Mellowed': <gensim.models.keyedvectors.Vocab at 0x7fd2a3eb2320>,\n",
              " 'Mohammad': <gensim.models.keyedvectors.Vocab at 0x7fd2a3eb2358>,\n",
              " 'Reza': <gensim.models.keyedvectors.Vocab at 0x7fd2a3eb2390>,\n",
              " ...}"
            ]
          },
          "metadata": {
            "tags": []
          },
          "execution_count": 58
        }
      ]
    },
    {
      "cell_type": "code",
      "metadata": {
        "id": "js_K4EWLKRLg",
        "colab_type": "code",
        "colab": {
          "base_uri": "https://localhost:8080/",
          "height": 80
        },
        "outputId": "1c55dc3a-c6cd-471c-b27c-20f5d480868b"
      },
      "source": [
        "import keras"
      ],
      "execution_count": 59,
      "outputs": [
        {
          "output_type": "stream",
          "text": [
            "Using TensorFlow backend.\n"
          ],
          "name": "stderr"
        },
        {
          "output_type": "display_data",
          "data": {
            "text/html": [
              "<p style=\"color: red;\">\n",
              "The default version of TensorFlow in Colab will soon switch to TensorFlow 2.x.<br>\n",
              "We recommend you <a href=\"https://www.tensorflow.org/guide/migrate\" target=\"_blank\">upgrade</a> now \n",
              "or ensure your notebook will continue to use TensorFlow 1.x via the <code>%tensorflow_version 1.x</code> magic:\n",
              "<a href=\"https://colab.research.google.com/notebooks/tensorflow_version.ipynb\" target=\"_blank\">more info</a>.</p>\n"
            ],
            "text/plain": [
              "<IPython.core.display.HTML object>"
            ]
          },
          "metadata": {
            "tags": []
          }
        }
      ]
    },
    {
      "cell_type": "code",
      "metadata": {
        "id": "eQhCvldeTIXR",
        "colab_type": "code",
        "colab": {}
      },
      "source": [
        "from keras.preprocessing.text import Tokenizer\n",
        "from keras.preprocessing.sequence import pad_sequences\n",
        "from keras.models import Sequential\n",
        "from keras.layers import Dense, Flatten, Embedding, Dropout, Conv1D, GlobalMaxPooling1D, Activation\n",
        "from keras.models import Model"
      ],
      "execution_count": 0,
      "outputs": []
    },
    {
      "cell_type": "code",
      "metadata": {
        "id": "AncVS2dhUxeg",
        "colab_type": "code",
        "colab": {}
      },
      "source": [
        "import sklearn"
      ],
      "execution_count": 0,
      "outputs": []
    },
    {
      "cell_type": "code",
      "metadata": {
        "id": "V0O-uQ-LUv8k",
        "colab_type": "code",
        "colab": {}
      },
      "source": [
        "from sklearn.model_selection import train_test_split"
      ],
      "execution_count": 0,
      "outputs": []
    },
    {
      "cell_type": "code",
      "metadata": {
        "id": "6Psuc48ZftDq",
        "colab_type": "code",
        "colab": {}
      },
      "source": [
        "from keras.utils import to_categorical"
      ],
      "execution_count": 0,
      "outputs": []
    },
    {
      "cell_type": "code",
      "metadata": {
        "id": "Rs_DVaHwylwa",
        "colab_type": "code",
        "colab": {}
      },
      "source": [
        "import numpy as np"
      ],
      "execution_count": 0,
      "outputs": []
    },
    {
      "cell_type": "code",
      "metadata": {
        "id": "2sR1nYOK4ZG1",
        "colab_type": "code",
        "colab": {}
      },
      "source": [
        "texts = file_csv.text"
      ],
      "execution_count": 0,
      "outputs": []
    },
    {
      "cell_type": "code",
      "metadata": {
        "id": "5b7hvBjePvW7",
        "colab_type": "code",
        "colab": {}
      },
      "source": [
        "word_vectors = model.wv\n",
        "vocab_size = len(word_vectors.vocab)\n",
        "token = Tokenizer(vocab_size)\n",
        "token.fit_on_texts(texts)\n",
        "text = token.texts_to_sequences(texts)\n",
        "text = pad_sequences(text, maxlen=10)"
      ],
      "execution_count": 0,
      "outputs": []
    },
    {
      "cell_type": "code",
      "metadata": {
        "id": "kno-kM4IQY_b",
        "colab_type": "code",
        "colab": {}
      },
      "source": [
        "X_train, X_test, y_train, y_test = train_test_split(text, file_csv['intents'], test_size=0.2, stratify=file_csv['intents'])"
      ],
      "execution_count": 0,
      "outputs": []
    },
    {
      "cell_type": "code",
      "metadata": {
        "id": "jBzRb_oVxKAQ",
        "colab_type": "code",
        "colab": {}
      },
      "source": [
        "y_train = transofrm_to_categorical(y_train)"
      ],
      "execution_count": 0,
      "outputs": []
    },
    {
      "cell_type": "code",
      "metadata": {
        "id": "_SbDYml2fLqT",
        "colab_type": "code",
        "colab": {}
      },
      "source": [
        "y_test =  transofrm_to_categorical(y_test)"
      ],
      "execution_count": 0,
      "outputs": []
    },
    {
      "cell_type": "code",
      "metadata": {
        "id": "APJKTOTUYCY2",
        "colab_type": "code",
        "colab": {
          "base_uri": "https://localhost:8080/",
          "height": 425
        },
        "outputId": "a98a1dfc-9da5-464f-a845-f63860bc7042"
      },
      "source": [
        "my_model = get_model(model)\n",
        "my_model.summary()"
      ],
      "execution_count": 238,
      "outputs": [
        {
          "output_type": "stream",
          "text": [
            "Model: \"sequential_6\"\n",
            "_________________________________________________________________\n",
            "Layer (type)                 Output Shape              Param #   \n",
            "=================================================================\n",
            "embedding_6 (Embedding)      (None, None, 200)         752400    \n",
            "_________________________________________________________________\n",
            "dropout_8 (Dropout)          (None, None, 200)         0         \n",
            "_________________________________________________________________\n",
            "conv1d_4 (Conv1D)            (None, None, 50)          30050     \n",
            "_________________________________________________________________\n",
            "global_max_pooling1d_4 (Glob (None, 50)                0         \n",
            "_________________________________________________________________\n",
            "dense_7 (Dense)              (None, 250)               12750     \n",
            "_________________________________________________________________\n",
            "dropout_9 (Dropout)          (None, 250)               0         \n",
            "_________________________________________________________________\n",
            "activation_4 (Activation)    (None, 250)               0         \n",
            "_________________________________________________________________\n",
            "dense_8 (Dense)              (None, 7)                 1757      \n",
            "=================================================================\n",
            "Total params: 796,957\n",
            "Trainable params: 796,957\n",
            "Non-trainable params: 0\n",
            "_________________________________________________________________\n"
          ],
          "name": "stdout"
        }
      ]
    },
    {
      "cell_type": "code",
      "metadata": {
        "id": "xwRAbO1YR4va",
        "colab_type": "code",
        "colab": {
          "base_uri": "https://localhost:8080/",
          "height": 221
        },
        "outputId": "23f92dd0-b10a-4ca7-acbd-90b59fa3bfaf"
      },
      "source": [
        "my_model.fit(X_train, y_train, batch_size=32, epochs=5, validation_data=(X_test, y_test))"
      ],
      "execution_count": 239,
      "outputs": [
        {
          "output_type": "stream",
          "text": [
            "Train on 12707 samples, validate on 3177 samples\n",
            "Epoch 1/5\n",
            "12707/12707 [==============================] - 3s 213us/step - loss: 0.4680 - acc: 0.8411 - val_loss: 0.1293 - val_acc: 0.9556\n",
            "Epoch 2/5\n",
            "12707/12707 [==============================] - 2s 180us/step - loss: 0.1335 - acc: 0.9566 - val_loss: 0.1037 - val_acc: 0.9644\n",
            "Epoch 3/5\n",
            "12707/12707 [==============================] - 2s 177us/step - loss: 0.0912 - acc: 0.9719 - val_loss: 0.0928 - val_acc: 0.9701\n",
            "Epoch 4/5\n",
            "12707/12707 [==============================] - 2s 175us/step - loss: 0.0675 - acc: 0.9787 - val_loss: 0.1053 - val_acc: 0.9663\n",
            "Epoch 5/5\n",
            "12707/12707 [==============================] - 2s 172us/step - loss: 0.0589 - acc: 0.9808 - val_loss: 0.0972 - val_acc: 0.9701\n"
          ],
          "name": "stdout"
        },
        {
          "output_type": "execute_result",
          "data": {
            "text/plain": [
              "<keras.callbacks.History at 0x7fd250035be0>"
            ]
          },
          "metadata": {
            "tags": []
          },
          "execution_count": 239
        }
      ]
    },
    {
      "cell_type": "code",
      "metadata": {
        "id": "co0ybjNUskn7",
        "colab_type": "code",
        "colab": {}
      },
      "source": [
        "X_predict = []\n",
        "X_predict.append([ 12,    10,   40,  361,    3, 1924,   19,  559,    1, 1886])# не знаем, как строку преобразовать в вектор чисел\n",
        "X_predict = np.array(X_predict)"
      ],
      "execution_count": 0,
      "outputs": []
    },
    {
      "cell_type": "code",
      "metadata": {
        "id": "IYegYpBGnruf",
        "colab_type": "code",
        "colab": {}
      },
      "source": [
        "prediction = my_model.predict_classes(X_predict)"
      ],
      "execution_count": 0,
      "outputs": []
    },
    {
      "cell_type": "code",
      "metadata": {
        "id": "O5PRS_nEzLyk",
        "colab_type": "code",
        "colab": {
          "base_uri": "https://localhost:8080/",
          "height": 34
        },
        "outputId": "64d672ef-2ee4-4901-f212-7f9bd0ee9090"
      },
      "source": [
        "answers = transform_from_categorical(prediction)\n",
        "answers"
      ],
      "execution_count": 299,
      "outputs": [
        {
          "output_type": "execute_result",
          "data": {
            "text/plain": [
              "['GetWeather']"
            ]
          },
          "metadata": {
            "tags": []
          },
          "execution_count": 299
        }
      ]
    },
    {
      "cell_type": "code",
      "metadata": {
        "id": "yN43raP7ODt6",
        "colab_type": "code",
        "colab": {}
      },
      "source": [
        "# Создание модели\n",
        "def get_model(model):\n",
        "    kmodel = Sequential() \n",
        "    kmodel.add(model.wv.get_keras_embedding(train_embeddings=True))\n",
        "    \n",
        "    kmodel.add(Dropout(0.2))\n",
        "\n",
        "    kmodel.add(Conv1D(50,\n",
        "                 3,\n",
        "                 padding='valid',\n",
        "                 activation='relu',\n",
        "                 strides=1))\n",
        "    kmodel.add(GlobalMaxPooling1D())\n",
        "\n",
        "    kmodel.add(Dense(250))\n",
        "    kmodel.add(Dropout(0.2))\n",
        "    kmodel.add(Activation('relu'))\n",
        "\n",
        "    kmodel.add(Dense(7, activation = 'softmax'))\n",
        "\n",
        "    kmodel.compile(loss='categorical_crossentropy', optimizer='adam', metrics=['accuracy'])\n",
        "  \n",
        "    return kmodel"
      ],
      "execution_count": 0,
      "outputs": []
    },
    {
      "cell_type": "code",
      "metadata": {
        "id": "898zC9fGu9bq",
        "colab_type": "code",
        "colab": {}
      },
      "source": [
        "def transform_to_categorical(y):\n",
        "  intents_for_each_ = y\n",
        "  intents_to_digit = []\n",
        "\n",
        "  for intent in intents_for_each_:\n",
        "    if intent == 'PlayMusic':\n",
        "      intents_to_digit.append(0)\n",
        "    elif intent == 'GetWeather':\n",
        "      intents_to_digit.append(1)\n",
        "    elif intent == 'BookRestaurant':\n",
        "      intents_to_digit.append(2)\n",
        "    elif intent == 'SearchScreeningEvent':\n",
        "      intents_to_digit.append(3)\n",
        "    elif intent == 'RateBook':\n",
        "      intents_to_digit.append(4)\n",
        "    elif intent == 'SearchCreativeWork':\n",
        "      intents_to_digit.append(5)\n",
        "    elif intent == 'AddToPlaylist':\n",
        "      intents_to_digit.append(6)\n",
        "\n",
        "  return to_categorical(intents_to_digit, COUNT_CLASSES)"
      ],
      "execution_count": 0,
      "outputs": []
    },
    {
      "cell_type": "code",
      "metadata": {
        "id": "11iPNuepyqQh",
        "colab_type": "code",
        "colab": {}
      },
      "source": [
        "def transform_from_categorical(prediction):\n",
        "  answers = []\n",
        "\n",
        "  for elem in prediction:\n",
        "    if elem == 0:\n",
        "      answers.append('PlayMusic')\n",
        "    elif elem == 1:\n",
        "      answers.append('GetWeather')\n",
        "    elif elem == 2:\n",
        "      answers.append('BookRestaurant')\n",
        "    elif elem == 3:\n",
        "      answers.append('SearchScreeningEvent')\n",
        "    elif elem == 4:\n",
        "      answers.append('RateBook')\n",
        "    elif elem == 5:\n",
        "      answers.append('SearchCreativeWork')\n",
        "    elif elem == 6:\n",
        "      answers.append('AddToPlaylist')\n",
        "\n",
        "  return answers"
      ],
      "execution_count": 0,
      "outputs": []
    }
  ]
}