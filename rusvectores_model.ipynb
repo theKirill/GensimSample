{
  "nbformat": 4,
  "nbformat_minor": 0,
  "metadata": {
    "colab": {
      "name": "rusvectores_model.ipynb",
      "provenance": [],
      "toc_visible": true,
      "include_colab_link": true
    },
    "kernelspec": {
      "name": "python3",
      "display_name": "Python 3"
    }
  },
  "cells": [
    {
      "cell_type": "markdown",
      "metadata": {
        "id": "view-in-github",
        "colab_type": "text"
      },
      "source": [
        "<a href=\"https://colab.research.google.com/github/theKirill/GensimSample/blob/rusvectores/rusvectores_model.ipynb\" target=\"_parent\"><img src=\"https://colab.research.google.com/assets/colab-badge.svg\" alt=\"Open In Colab\"/></a>"
      ]
    },
    {
      "cell_type": "markdown",
      "metadata": {
        "id": "fb-QojQFpSTc",
        "colab_type": "text"
      },
      "source": [
        "# Русскоязычный классификатор интентов"
      ]
    },
    {
      "cell_type": "code",
      "metadata": {
        "id": "eWUAQl9xGXXH",
        "colab_type": "code",
        "outputId": "2ade109a-bf7b-4514-fd69-4184ff74d291",
        "colab": {
          "base_uri": "https://localhost:8080/",
          "height": 80
        }
      },
      "source": [
        "from gensim.models import KeyedVectors\n",
        "from keras.layers.core import Dense, SpatialDropout1D\n",
        "from keras.layers.convolutional import Conv1D\n",
        "from keras.layers.embeddings import Embedding\n",
        "from keras.layers.pooling import GlobalMaxPooling1D\n",
        "from keras.models import Sequential\n",
        "from keras.preprocessing.sequence import pad_sequences\n",
        "from keras.utils import np_utils\n",
        "from sklearn.model_selection import train_test_split\n",
        "import collections\n",
        "import nltk\n",
        "import numpy as np\n",
        "import codecs\n",
        "import pandas as pd\n",
        "import gensim\n",
        "from nltk.corpus import stopwords\n",
        "from gensim.models import Word2Vec\n",
        "import keras\n",
        "from keras.preprocessing.text import Tokenizer\n",
        "from keras.layers import Dense, Flatten, Embedding, Dropout, Conv1D, GlobalMaxPooling1D, Activation\n",
        "from keras.models import Model\n",
        "import sklearn\n",
        "from sklearn.model_selection import train_test_split\n",
        "from keras.utils import to_categorical\n",
        "from keras.models import save_model, load_model\n",
        "from keras.callbacks import ModelCheckpoint\n",
        "from nltk.tokenize import RegexpTokenizer\n",
        "import collections"
      ],
      "execution_count": 1,
      "outputs": [
        {
          "output_type": "stream",
          "text": [
            "Using TensorFlow backend.\n"
          ],
          "name": "stderr"
        },
        {
          "output_type": "display_data",
          "data": {
            "text/html": [
              "<p style=\"color: red;\">\n",
              "The default version of TensorFlow in Colab will soon switch to TensorFlow 2.x.<br>\n",
              "We recommend you <a href=\"https://www.tensorflow.org/guide/migrate\" target=\"_blank\">upgrade</a> now \n",
              "or ensure your notebook will continue to use TensorFlow 1.x via the <code>%tensorflow_version 1.x</code> magic:\n",
              "<a href=\"https://colab.research.google.com/notebooks/tensorflow_version.ipynb\" target=\"_blank\">more info</a>.</p>\n"
            ],
            "text/plain": [
              "<IPython.core.display.HTML object>"
            ]
          },
          "metadata": {
            "tags": []
          }
        }
      ]
    },
    {
      "cell_type": "code",
      "metadata": {
        "id": "jI1sO_iYjnaZ",
        "colab_type": "code",
        "colab": {}
      },
      "source": [
        "import keras_metrics"
      ],
      "execution_count": 0,
      "outputs": []
    },
    {
      "cell_type": "code",
      "metadata": {
        "id": "yxL4RsPfjohx",
        "colab_type": "code",
        "colab": {
          "base_uri": "https://localhost:8080/",
          "height": 221
        },
        "outputId": "b08e0938-957a-42ec-f3be-c14376c372f2"
      },
      "source": [
        "!pip install keras_metrics"
      ],
      "execution_count": 2,
      "outputs": [
        {
          "output_type": "stream",
          "text": [
            "Collecting keras_metrics\n",
            "  Downloading https://files.pythonhosted.org/packages/32/c9/a87420da8e73de944e63a8e9cdcfb1f03ca31a7c4cdcdbd45d2cdf13275a/keras_metrics-1.1.0-py2.py3-none-any.whl\n",
            "Requirement already satisfied: Keras>=2.1.5 in /usr/local/lib/python3.6/dist-packages (from keras_metrics) (2.2.5)\n",
            "Requirement already satisfied: keras-applications>=1.0.8 in /usr/local/lib/python3.6/dist-packages (from Keras>=2.1.5->keras_metrics) (1.0.8)\n",
            "Requirement already satisfied: scipy>=0.14 in /usr/local/lib/python3.6/dist-packages (from Keras>=2.1.5->keras_metrics) (1.3.3)\n",
            "Requirement already satisfied: numpy>=1.9.1 in /usr/local/lib/python3.6/dist-packages (from Keras>=2.1.5->keras_metrics) (1.17.4)\n",
            "Requirement already satisfied: six>=1.9.0 in /usr/local/lib/python3.6/dist-packages (from Keras>=2.1.5->keras_metrics) (1.12.0)\n",
            "Requirement already satisfied: pyyaml in /usr/local/lib/python3.6/dist-packages (from Keras>=2.1.5->keras_metrics) (3.13)\n",
            "Requirement already satisfied: keras-preprocessing>=1.1.0 in /usr/local/lib/python3.6/dist-packages (from Keras>=2.1.5->keras_metrics) (1.1.0)\n",
            "Requirement already satisfied: h5py in /usr/local/lib/python3.6/dist-packages (from Keras>=2.1.5->keras_metrics) (2.8.0)\n",
            "Installing collected packages: keras-metrics\n",
            "Successfully installed keras-metrics-1.1.0\n"
          ],
          "name": "stdout"
        }
      ]
    },
    {
      "cell_type": "code",
      "metadata": {
        "id": "IGh7tdttGi75",
        "colab_type": "code",
        "outputId": "94dd7cd6-71e4-448a-eb2b-4521a26b6409",
        "colab": {
          "base_uri": "https://localhost:8080/",
          "height": 122
        }
      },
      "source": [
        "from google.colab import drive\n",
        "drive.mount('/content/drive')"
      ],
      "execution_count": 4,
      "outputs": [
        {
          "output_type": "stream",
          "text": [
            "Go to this URL in a browser: https://accounts.google.com/o/oauth2/auth?client_id=947318989803-6bn6qk8qdgf4n4g3pfee6491hc0brc4i.apps.googleusercontent.com&redirect_uri=urn%3aietf%3awg%3aoauth%3a2.0%3aoob&response_type=code&scope=email%20https%3a%2f%2fwww.googleapis.com%2fauth%2fdocs.test%20https%3a%2f%2fwww.googleapis.com%2fauth%2fdrive%20https%3a%2f%2fwww.googleapis.com%2fauth%2fdrive.photos.readonly%20https%3a%2f%2fwww.googleapis.com%2fauth%2fpeopleapi.readonly\n",
            "\n",
            "Enter your authorization code:\n",
            "··········\n",
            "Mounted at /content/drive\n"
          ],
          "name": "stdout"
        }
      ]
    },
    {
      "cell_type": "code",
      "metadata": {
        "id": "dQU9l3fMGu_7",
        "colab_type": "code",
        "outputId": "b5eb035f-85cd-4aa8-ddaf-5f00d9af3440",
        "colab": {
          "base_uri": "https://localhost:8080/",
          "height": 102
        }
      },
      "source": [
        "nltk.download('punkt')\n",
        "nltk.download('stopwords')"
      ],
      "execution_count": 5,
      "outputs": [
        {
          "output_type": "stream",
          "text": [
            "[nltk_data] Downloading package punkt to /root/nltk_data...\n",
            "[nltk_data]   Unzipping tokenizers/punkt.zip.\n",
            "[nltk_data] Downloading package stopwords to /root/nltk_data...\n",
            "[nltk_data]   Unzipping corpora/stopwords.zip.\n"
          ],
          "name": "stdout"
        },
        {
          "output_type": "execute_result",
          "data": {
            "text/plain": [
              "True"
            ]
          },
          "metadata": {
            "tags": []
          },
          "execution_count": 5
        }
      ]
    },
    {
      "cell_type": "markdown",
      "metadata": {
        "id": "1iyntmYpL_9-",
        "colab_type": "text"
      },
      "source": [
        "Импорт русскоязычной модели word2vec"
      ]
    },
    {
      "cell_type": "code",
      "metadata": {
        "id": "eQL68CQeq4be",
        "colab_type": "code",
        "colab": {}
      },
      "source": [
        "import gensim.downloader as api"
      ],
      "execution_count": 0,
      "outputs": []
    },
    {
      "cell_type": "code",
      "metadata": {
        "id": "TC6joqtzrjNP",
        "colab_type": "code",
        "outputId": "2f3716fb-5089-4294-cacc-1b66e5a677ca",
        "colab": {
          "base_uri": "https://localhost:8080/",
          "height": 88
        }
      },
      "source": [
        "model = api.load(\"word2vec-ruscorpora-300\")"
      ],
      "execution_count": 7,
      "outputs": [
        {
          "output_type": "stream",
          "text": [
            "[==================================================] 100.0% 198.8/198.8MB downloaded\n"
          ],
          "name": "stdout"
        },
        {
          "output_type": "stream",
          "text": [
            "/usr/local/lib/python3.6/dist-packages/smart_open/smart_open_lib.py:402: UserWarning: This function is deprecated, use smart_open.open instead. See the migration notes for details: https://github.com/RaRe-Technologies/smart_open/blob/master/README.rst#migrating-to-the-new-open-function\n",
            "  'See the migration notes for details: %s' % _MIGRATION_NOTES_URL\n"
          ],
          "name": "stderr"
        }
      ]
    },
    {
      "cell_type": "markdown",
      "metadata": {
        "id": "qsWltK6PMF01",
        "colab_type": "text"
      },
      "source": [
        "Количество слов в словаре - почти 185к"
      ]
    },
    {
      "cell_type": "code",
      "metadata": {
        "id": "RqILf1hrsjAn",
        "colab_type": "code",
        "outputId": "beb2c5c2-bf12-4648-eca8-45dfffecbfab",
        "colab": {
          "base_uri": "https://localhost:8080/",
          "height": 34
        }
      },
      "source": [
        "len(model.vocab)"
      ],
      "execution_count": 8,
      "outputs": [
        {
          "output_type": "execute_result",
          "data": {
            "text/plain": [
              "184973"
            ]
          },
          "metadata": {
            "tags": []
          },
          "execution_count": 8
        }
      ]
    },
    {
      "cell_type": "code",
      "metadata": {
        "id": "q7GiDddBsmkK",
        "colab_type": "code",
        "outputId": "ccdf4a10-5d02-45e9-d0c0-86dc8b666018",
        "colab": {
          "base_uri": "https://localhost:8080/",
          "height": 241
        }
      },
      "source": [
        "model.most_similar('добавлять_VERB')"
      ],
      "execution_count": 9,
      "outputs": [
        {
          "output_type": "stream",
          "text": [
            "/usr/local/lib/python3.6/dist-packages/gensim/matutils.py:737: FutureWarning: Conversion of the second argument of issubdtype from `int` to `np.signedinteger` is deprecated. In future, it will be treated as `np.int64 == np.dtype(int).type`.\n",
            "  if np.issubdtype(vec.dtype, np.int):\n"
          ],
          "name": "stderr"
        },
        {
          "output_type": "execute_result",
          "data": {
            "text/plain": [
              "[('прибавлять_VERB', 0.6648961305618286),\n",
              " ('добавление_NOUN', 0.5659074783325195),\n",
              " ('томатный::пюре_NOUN', 0.557951807975769),\n",
              " ('спассеровывать_VERB', 0.5524739027023315),\n",
              " ('лимонный::цедра_NOUN', 0.5512294769287109),\n",
              " ('тертый::мускатный_ADJ', 0.5496140122413635),\n",
              " ('спассеровать_VERB', 0.5316646099090576),\n",
              " ('пассеровывать_VERB', 0.5253649950027466),\n",
              " ('пассеровать_VERB', 0.5235322713851929),\n",
              " ('панировочный::сухарь_NOUN', 0.5202608704566956)]"
            ]
          },
          "metadata": {
            "tags": []
          },
          "execution_count": 9
        }
      ]
    },
    {
      "cell_type": "markdown",
      "metadata": {
        "id": "KFi9FtUjMObT",
        "colab_type": "text"
      },
      "source": [
        "Импорт размеченных русскоязычных данных\n",
        "\n",
        "*   https://github.com/Koziev/chatbot/blob/master/data/intents.txt\n"
      ]
    },
    {
      "cell_type": "code",
      "metadata": {
        "id": "LC_VJrcbs2aF",
        "colab_type": "code",
        "colab": {}
      },
      "source": [
        "file_excel = pd.read_excel('drive/My Drive/ForGensim/russian_train.xlsx', sheet_name='russian_train')"
      ],
      "execution_count": 0,
      "outputs": []
    },
    {
      "cell_type": "code",
      "metadata": {
        "id": "YsfOcO3k2Ohq",
        "colab_type": "code",
        "outputId": "6c3244da-79a9-4eb1-9583-fcabba2fcf7f",
        "colab": {
          "base_uri": "https://localhost:8080/",
          "height": 241
        }
      },
      "source": [
        "file_excel[:4]"
      ],
      "execution_count": 188,
      "outputs": [
        {
          "output_type": "execute_result",
          "data": {
            "text/html": [
              "<div>\n",
              "<style scoped>\n",
              "    .dataframe tbody tr th:only-of-type {\n",
              "        vertical-align: middle;\n",
              "    }\n",
              "\n",
              "    .dataframe tbody tr th {\n",
              "        vertical-align: top;\n",
              "    }\n",
              "\n",
              "    .dataframe thead th {\n",
              "        text-align: right;\n",
              "    }\n",
              "</style>\n",
              "<table border=\"1\" class=\"dataframe\">\n",
              "  <thead>\n",
              "    <tr style=\"text-align: right;\">\n",
              "      <th></th>\n",
              "      <th>О_Музыке</th>\n",
              "      <th>Прогноз_Погоды</th>\n",
              "      <th>График_Работы</th>\n",
              "      <th>Заказать_Еду</th>\n",
              "      <th>Будильник</th>\n",
              "    </tr>\n",
              "  </thead>\n",
              "  <tbody>\n",
              "    <tr>\n",
              "      <th>0</th>\n",
              "      <td>Оркестр играл Похоронный марш Бетховена</td>\n",
              "      <td>На следующей неделе пойдет снег?</td>\n",
              "      <td>Отделение банка работает в субботу?</td>\n",
              "      <td>Закажи две пиццы</td>\n",
              "      <td>разбуди меня завтра в шесть</td>\n",
              "    </tr>\n",
              "    <tr>\n",
              "      <th>1</th>\n",
              "      <td>Возьму барабаны и вступлю в рок-группу</td>\n",
              "      <td>меня интересует вероятность дождя в ближайшие ...</td>\n",
              "      <td>До скольки работает касса?</td>\n",
              "      <td>Как бесплатно заказать еду на дом или по больш...</td>\n",
              "      <td>разбуди меня завтра в шесть часов</td>\n",
              "    </tr>\n",
              "    <tr>\n",
              "      <th>2</th>\n",
              "      <td>Для них пелись самые разные песни</td>\n",
              "      <td>мне интересно знать усилится ли ветер после обеда</td>\n",
              "      <td>Во сколько заканчивает работу касса?</td>\n",
              "      <td>как мне заказать кумыс в Москве?</td>\n",
              "      <td>разбуди меня завтра в семь</td>\n",
              "    </tr>\n",
              "    <tr>\n",
              "      <th>3</th>\n",
              "      <td>Из зала доносились звуки оркестра</td>\n",
              "      <td>Идет дождь?</td>\n",
              "      <td>До которого часа касса работает?</td>\n",
              "      <td>Плюс можно заказать поесть.</td>\n",
              "      <td>разбуди меня завтра в семь часов</td>\n",
              "    </tr>\n",
              "  </tbody>\n",
              "</table>\n",
              "</div>"
            ],
            "text/plain": [
              "                                  О_Музыке  ...                          Будильник\n",
              "0  Оркестр играл Похоронный марш Бетховена  ...        разбуди меня завтра в шесть\n",
              "1   Возьму барабаны и вступлю в рок-группу  ...  разбуди меня завтра в шесть часов\n",
              "2        Для них пелись самые разные песни  ...         разбуди меня завтра в семь\n",
              "3        Из зала доносились звуки оркестра  ...   разбуди меня завтра в семь часов\n",
              "\n",
              "[4 rows x 5 columns]"
            ]
          },
          "metadata": {
            "tags": []
          },
          "execution_count": 188
        }
      ]
    },
    {
      "cell_type": "code",
      "metadata": {
        "id": "WK_nj7NsJU7G",
        "colab_type": "code",
        "colab": {}
      },
      "source": [
        "unique_intents = file_excel.columns"
      ],
      "execution_count": 0,
      "outputs": []
    },
    {
      "cell_type": "code",
      "metadata": {
        "id": "FGUA2IJxJd4D",
        "colab_type": "code",
        "outputId": "5c2b78d6-64d5-4acf-fafc-ec9b8cd49a73",
        "colab": {
          "base_uri": "https://localhost:8080/",
          "height": 68
        }
      },
      "source": [
        "unique_intents"
      ],
      "execution_count": 190,
      "outputs": [
        {
          "output_type": "execute_result",
          "data": {
            "text/plain": [
              "Index(['О_Музыке', 'Прогноз_Погоды', 'График_Работы', 'Заказать_Еду',\n",
              "       'Будильник'],\n",
              "      dtype='object')"
            ]
          },
          "metadata": {
            "tags": []
          },
          "execution_count": 190
        }
      ]
    },
    {
      "cell_type": "code",
      "metadata": {
        "id": "cAVhx_nXJ6me",
        "colab_type": "code",
        "colab": {}
      },
      "source": [
        "all_texts, all_intents = [], []\n",
        "\n",
        "for intent in unique_intents:\n",
        "  for text in file_excel[intent]:\n",
        "    if pd.isnull(text):\n",
        "      break\n",
        "    else:\n",
        "      all_texts.append(text)\n",
        "      all_intents.append(intent)"
      ],
      "execution_count": 0,
      "outputs": []
    },
    {
      "cell_type": "markdown",
      "metadata": {
        "id": "4dLl3MUFL88w",
        "colab_type": "text"
      },
      "source": [
        "Подготовка данных (разделение на слова, удаление стоп-слов, пунктуации и добавление к словам части речи для корректной работы с моделью word2vec)"
      ]
    },
    {
      "cell_type": "code",
      "metadata": {
        "id": "NiN-8mRwPzzs",
        "colab_type": "code",
        "outputId": "e637c6fd-d423-460e-a66f-99cbec5cbe4e",
        "colab": {
          "base_uri": "https://localhost:8080/",
          "height": 204
        }
      },
      "source": [
        "pip install pymorphy2"
      ],
      "execution_count": 16,
      "outputs": [
        {
          "output_type": "stream",
          "text": [
            "Collecting pymorphy2\n",
            "\u001b[?25l  Downloading https://files.pythonhosted.org/packages/a3/33/fff9675c68b5f6c63ec8c6e6ff57827dda28a1fa5b2c2d727dffff92dd47/pymorphy2-0.8-py2.py3-none-any.whl (46kB)\n",
            "\u001b[K     |████████████████████████████████| 51kB 1.6MB/s \n",
            "\u001b[?25hCollecting pymorphy2-dicts<3.0,>=2.4\n",
            "\u001b[?25l  Downloading https://files.pythonhosted.org/packages/02/51/2465fd4f72328ab50877b54777764d928da8cb15b74e2680fc1bd8cb3173/pymorphy2_dicts-2.4.393442.3710985-py2.py3-none-any.whl (7.1MB)\n",
            "\u001b[K     |████████████████████████████████| 7.1MB 8.0MB/s \n",
            "\u001b[?25hCollecting dawg-python>=0.7\n",
            "  Downloading https://files.pythonhosted.org/packages/6a/84/ff1ce2071d4c650ec85745766c0047ccc3b5036f1d03559fd46bb38b5eeb/DAWG_Python-0.7.2-py2.py3-none-any.whl\n",
            "Requirement already satisfied: docopt>=0.6 in /usr/local/lib/python3.6/dist-packages (from pymorphy2) (0.6.2)\n",
            "Installing collected packages: pymorphy2-dicts, dawg-python, pymorphy2\n",
            "Successfully installed dawg-python-0.7.2 pymorphy2-0.8 pymorphy2-dicts-2.4.393442.3710985\n"
          ],
          "name": "stdout"
        }
      ]
    },
    {
      "cell_type": "code",
      "metadata": {
        "id": "fdtgFINXPyGR",
        "colab_type": "code",
        "colab": {}
      },
      "source": [
        "import pymorphy2"
      ],
      "execution_count": 0,
      "outputs": []
    },
    {
      "cell_type": "code",
      "metadata": {
        "id": "Ujma1M6bwnEO",
        "colab_type": "code",
        "colab": {}
      },
      "source": [
        "morph = pymorphy2.MorphAnalyzer()#для перевода в нормальную форму"
      ],
      "execution_count": 0,
      "outputs": []
    },
    {
      "cell_type": "code",
      "metadata": {
        "id": "VQDMSnrlMlwQ",
        "colab_type": "code",
        "colab": {}
      },
      "source": [
        "def tokenize(text):\n",
        "  regex_tokenizer = RegexpTokenizer('[а-яА-ЯЁё]+')\n",
        "  words = regex_tokenizer.tokenize(text.lower())\n",
        "  stop_words = set(stopwords.words(\"russian\"))\n",
        "  without_stop_words = [(morph.parse(w)[0]).normal_form for w in words if w not in stop_words and len(w) > 1]\n",
        "  output = [add_part_of_speech(word) for word in without_stop_words]\n",
        "  #print(output)\n",
        "  return output"
      ],
      "execution_count": 0,
      "outputs": []
    },
    {
      "cell_type": "code",
      "metadata": {
        "id": "iwzk8K2jQHJO",
        "colab_type": "code",
        "colab": {}
      },
      "source": [
        "def add_part_of_speech(word):\n",
        "  morph = pymorphy2.MorphAnalyzer()\n",
        "  p = morph.parse(word)[0]\n",
        "  word += '_' + str(p.tag.POS)\n",
        "  return word"
      ],
      "execution_count": 0,
      "outputs": []
    },
    {
      "cell_type": "code",
      "metadata": {
        "id": "ulP0m6M0SEzE",
        "colab_type": "code",
        "colab": {}
      },
      "source": [
        "sentences = np.array([tokenize(text) for text in all_texts])"
      ],
      "execution_count": 0,
      "outputs": []
    },
    {
      "cell_type": "code",
      "metadata": {
        "id": "UD7DqGVgx_n9",
        "colab_type": "code",
        "colab": {
          "base_uri": "https://localhost:8080/",
          "height": 139
        },
        "outputId": "0ec1263e-ec82-4f49-d85b-33dbc8f76867"
      },
      "source": [
        "sentences[:5]"
      ],
      "execution_count": 196,
      "outputs": [
        {
          "output_type": "execute_result",
          "data": {
            "text/plain": [
              "array([list(['оркестр_NOUN', 'играть_INFN', 'похоронный_ADJF', 'марш_INTJ', 'бетховен_NOUN']),\n",
              "       list(['взять_INFN', 'барабан_NOUN', 'вступить_INFN', 'рок_NOUN', 'группа_NOUN']),\n",
              "       list(['петься_INFN', 'самый_ADJF', 'разный_ADJF', 'песнь_NOUN']),\n",
              "       list(['зал_NOUN', 'доноситься_INFN', 'звук_NOUN', 'оркестр_NOUN']),\n",
              "       list(['мочь_NOUN', 'посоветовать_INFN', 'хороший_ADJF', 'душерздерать_INFN', 'песнь_NOUN', 'любовь_NOUN', 'хороший_ADJF', 'примитивный_ADJF', 'текст_NOUN', 'красивый_ADJF', 'музыка_NOUN'])],\n",
              "      dtype=object)"
            ]
          },
          "metadata": {
            "tags": []
          },
          "execution_count": 196
        }
      ]
    },
    {
      "cell_type": "code",
      "metadata": {
        "id": "YyuF9WaQUWLr",
        "colab_type": "code",
        "colab": {}
      },
      "source": [
        "counter = collections.Counter()"
      ],
      "execution_count": 0,
      "outputs": []
    },
    {
      "cell_type": "code",
      "metadata": {
        "id": "optV1m5PUDEI",
        "colab_type": "code",
        "colab": {}
      },
      "source": [
        "#считаем максимальную длину предложений, а также частоту всех слов предложений, считанных из файла \n",
        "maxlen = 0\n",
        "for words in sentences:\n",
        "    if len(words) > maxlen:\n",
        "        maxlen = len(words)\n",
        "    for word in words:\n",
        "        counter[word] += 1"
      ],
      "execution_count": 0,
      "outputs": []
    },
    {
      "cell_type": "code",
      "metadata": {
        "id": "TAkndHDeUb0s",
        "colab_type": "code",
        "colab": {}
      },
      "source": [
        "vocab_sz = len(counter) + 1 #кол-во различных слов в sentences"
      ],
      "execution_count": 0,
      "outputs": []
    },
    {
      "cell_type": "markdown",
      "metadata": {
        "id": "AqDygY_5UgSb",
        "colab_type": "text"
      },
      "source": [
        "Подготовка данных для обучения для основе ruscorpora"
      ]
    },
    {
      "cell_type": "code",
      "metadata": {
        "id": "0M6_uK_WU4MB",
        "colab_type": "code",
        "colab": {}
      },
      "source": [
        "# Преобразование номеров классов в названия классов\n",
        "def transform_from_categorical(prediction, intents):\n",
        "  answers = []\n",
        "\n",
        "  for i in range(prediction.shape[0]):\n",
        "    answers.append(intents[prediction[i]])\n",
        "\n",
        "  return answers\n",
        "\n",
        "# Преобразование названий классов в матрицу двоичных чисел (нужно для keras)\n",
        "def transform_to_categorical(intents_for_each, unique_intents):\n",
        "  intents_to_digit = []\n",
        "\n",
        "  for intent in intents_for_each:\n",
        "    intents_to_digit.append(unique_intents.index(intent))\n",
        "\n",
        "  return to_categorical(intents_to_digit, len(unique_intents))"
      ],
      "execution_count": 0,
      "outputs": []
    },
    {
      "cell_type": "code",
      "metadata": {
        "id": "HRdsbpkYUliu",
        "colab_type": "code",
        "colab": {}
      },
      "source": [
        "# Создание единого словаря (слово -> число) для преобразования на основе списка текстов sentences\n",
        "tokenizer = Tokenizer()\n",
        "tokenizer.fit_on_texts(sentences)"
      ],
      "execution_count": 0,
      "outputs": []
    },
    {
      "cell_type": "code",
      "metadata": {
        "id": "lyDJzfEgUpO0",
        "colab_type": "code",
        "colab": {}
      },
      "source": [
        "X = tokenizer.texts_to_sequences(sentences) #заменяем слова каждого предложения на числа"
      ],
      "execution_count": 0,
      "outputs": []
    },
    {
      "cell_type": "code",
      "metadata": {
        "id": "Vg6MQKGPUye8",
        "colab_type": "code",
        "outputId": "ebba14e3-92cf-4462-8924-588d43519c74",
        "colab": {
          "base_uri": "https://localhost:8080/",
          "height": 34
        }
      },
      "source": [
        "X[:3]"
      ],
      "execution_count": 203,
      "outputs": [
        {
          "output_type": "execute_result",
          "data": {
            "text/plain": [
              "[[113, 63, 352, 353, 206], [354, 355, 356, 36, 31], [207, 51, 143, 12]]"
            ]
          },
          "metadata": {
            "tags": []
          },
          "execution_count": 203
        }
      ]
    },
    {
      "cell_type": "code",
      "metadata": {
        "id": "4V4_pDJtXOIq",
        "colab_type": "code",
        "colab": {}
      },
      "source": [
        "X = pad_sequences(X, maxlen = maxlen) #уравниваем все предложения до размера maxlen"
      ],
      "execution_count": 0,
      "outputs": []
    },
    {
      "cell_type": "code",
      "metadata": {
        "id": "cafUsbnTmTf2",
        "colab_type": "code",
        "colab": {
          "base_uri": "https://localhost:8080/",
          "height": 119
        },
        "outputId": "d2583773-7940-4136-8fc9-d402d0fa8927"
      },
      "source": [
        "X[:3]"
      ],
      "execution_count": 205,
      "outputs": [
        {
          "output_type": "execute_result",
          "data": {
            "text/plain": [
              "array([[  0,   0,   0,   0,   0,   0,   0,   0,   0,   0,   0,   0,   0,\n",
              "          0,   0,   0, 113,  63, 352, 353, 206],\n",
              "       [  0,   0,   0,   0,   0,   0,   0,   0,   0,   0,   0,   0,   0,\n",
              "          0,   0,   0, 354, 355, 356,  36,  31],\n",
              "       [  0,   0,   0,   0,   0,   0,   0,   0,   0,   0,   0,   0,   0,\n",
              "          0,   0,   0,   0, 207,  51, 143,  12]], dtype=int32)"
            ]
          },
          "metadata": {
            "tags": []
          },
          "execution_count": 205
        }
      ]
    },
    {
      "cell_type": "code",
      "metadata": {
        "id": "qZ8GY1hzUzTH",
        "colab_type": "code",
        "colab": {}
      },
      "source": [
        "y = transform_to_categorical(all_intents, unique_intents.to_list())#заменяем названия интентов на матрицу двоичных чисел"
      ],
      "execution_count": 0,
      "outputs": []
    },
    {
      "cell_type": "code",
      "metadata": {
        "id": "ELDqiQB_W9fG",
        "colab_type": "code",
        "outputId": "f6544c55-885e-4802-e2a6-986d36c1fc63",
        "colab": {
          "base_uri": "https://localhost:8080/",
          "height": 68
        }
      },
      "source": [
        "y[:3]"
      ],
      "execution_count": 207,
      "outputs": [
        {
          "output_type": "execute_result",
          "data": {
            "text/plain": [
              "array([[1., 0., 0., 0., 0.],\n",
              "       [1., 0., 0., 0., 0.],\n",
              "       [1., 0., 0., 0., 0.]], dtype=float32)"
            ]
          },
          "metadata": {
            "tags": []
          },
          "execution_count": 207
        }
      ]
    },
    {
      "cell_type": "code",
      "metadata": {
        "id": "Gh1m7WDqXUDe",
        "colab_type": "code",
        "outputId": "4b1b85ba-ef40-4983-d958-4cbed7261a1b",
        "colab": {
          "base_uri": "https://localhost:8080/",
          "height": 34
        }
      },
      "source": [
        "X_train, X_test, y_train, y_test = \\\n",
        "    train_test_split(X, y, test_size = 0.2, random_state = 42)\n",
        "print(X_train.shape, X_test.shape, y_train.shape, y_test.shape)"
      ],
      "execution_count": 208,
      "outputs": [
        {
          "output_type": "stream",
          "text": [
            "(436, 21) (109, 21) (436, 5) (109, 5)\n"
          ],
          "name": "stdout"
        }
      ]
    },
    {
      "cell_type": "markdown",
      "metadata": {
        "id": "QOrku0OjXhRH",
        "colab_type": "text"
      },
      "source": [
        "Создание keras модели"
      ]
    },
    {
      "cell_type": "code",
      "metadata": {
        "id": "inkdGHnPXfIh",
        "colab_type": "code",
        "colab": {}
      },
      "source": [
        "embedding_weights = np.zeros((vocab_sz, EMBED_SIZE))#создаём матрицу размером размерность словаря*размерность вектора слова\n",
        "index = 0\n",
        "sorted_counter = counter.most_common() #сортируем слова по частоте встречаемости\n",
        "for word in sorted_counter:#для каждого слова из нашего словаря задаём вектор из model в матрицу\n",
        "    try:\n",
        "      embedding_weights[index, :] = model[word[0]] \n",
        "      index+=1     \n",
        "    except KeyError:#если нет слова в словаре model\n",
        "      index+=1\n",
        "      pass"
      ],
      "execution_count": 0,
      "outputs": []
    },
    {
      "cell_type": "code",
      "metadata": {
        "id": "GKuc8GqeXrY0",
        "colab_type": "code",
        "colab": {}
      },
      "source": [
        "COUNT_CLASSES = len(unique_intents)"
      ],
      "execution_count": 0,
      "outputs": []
    },
    {
      "cell_type": "code",
      "metadata": {
        "id": "Wi15Vc9oXp_v",
        "colab_type": "code",
        "colab": {}
      },
      "source": [
        "EMBED_SIZE = 300\n",
        "NUM_FILTERS = 512\n",
        "NUM_WORDS = 3\n",
        "BATCH_SIZE = 32\n",
        "NUM_EPOCHS = 10"
      ],
      "execution_count": 0,
      "outputs": []
    },
    {
      "cell_type": "markdown",
      "metadata": {
        "id": "yzxqo5FBpR9S",
        "colab_type": "text"
      },
      "source": [
        "Будем использовать метрику f1, так как классы несбалансированны"
      ]
    },
    {
      "cell_type": "code",
      "metadata": {
        "id": "4cbodEFOX1u2",
        "colab_type": "code",
        "colab": {}
      },
      "source": [
        "# Создание модели\n",
        "def get_model(COUNT_CLASSES, embedding_weights):\n",
        "  model = Sequential()\n",
        "  model.add(Embedding(vocab_sz, EMBED_SIZE, input_length = maxlen,\n",
        "                      weights = [embedding_weights],\n",
        "                      trainable = True))\n",
        "  model.add(SpatialDropout1D(0.2))\n",
        "  model.add(Conv1D(filters = NUM_FILTERS, kernel_size = NUM_WORDS,\n",
        "                  activation = \"relu\"))\n",
        "  model.add(GlobalMaxPooling1D())\n",
        "  model.add(Dense(1024))\n",
        "  model.add(Dropout(0.2))\n",
        "  model.add(Activation('relu'))\n",
        "  \n",
        "  model.add(Dense(COUNT_CLASSES, activation=\"softmax\"))\n",
        "\n",
        "  model.compile(optimizer = \"adam\", loss = \"categorical_crossentropy\",\n",
        "                metrics = [keras_metrics.categorical_f1_score()])\n",
        "  \n",
        "  return model"
      ],
      "execution_count": 0,
      "outputs": []
    },
    {
      "cell_type": "code",
      "metadata": {
        "id": "QfD92HVTX7Vj",
        "colab_type": "code",
        "colab": {}
      },
      "source": [
        "keras_model = get_model(COUNT_CLASSES, embedding_weights)"
      ],
      "execution_count": 0,
      "outputs": []
    },
    {
      "cell_type": "code",
      "metadata": {
        "id": "aX58YzVdX-QK",
        "colab_type": "code",
        "outputId": "6a301d05-dc4d-4ac3-fec2-11f016ef7527",
        "colab": {
          "base_uri": "https://localhost:8080/",
          "height": 425
        }
      },
      "source": [
        "keras_model.summary()"
      ],
      "execution_count": 63,
      "outputs": [
        {
          "output_type": "stream",
          "text": [
            "Model: \"sequential_6\"\n",
            "_________________________________________________________________\n",
            "Layer (type)                 Output Shape              Param #   \n",
            "=================================================================\n",
            "embedding_6 (Embedding)      (None, 21, 300)           357000    \n",
            "_________________________________________________________________\n",
            "spatial_dropout1d_6 (Spatial (None, 21, 300)           0         \n",
            "_________________________________________________________________\n",
            "conv1d_6 (Conv1D)            (None, 19, 256)           230656    \n",
            "_________________________________________________________________\n",
            "global_max_pooling1d_6 (Glob (None, 256)               0         \n",
            "_________________________________________________________________\n",
            "dense_9 (Dense)              (None, 1024)              263168    \n",
            "_________________________________________________________________\n",
            "dropout_4 (Dropout)          (None, 1024)              0         \n",
            "_________________________________________________________________\n",
            "activation_4 (Activation)    (None, 1024)              0         \n",
            "_________________________________________________________________\n",
            "dense_10 (Dense)             (None, 5)                 5125      \n",
            "=================================================================\n",
            "Total params: 855,949\n",
            "Trainable params: 855,949\n",
            "Non-trainable params: 0\n",
            "_________________________________________________________________\n"
          ],
          "name": "stdout"
        }
      ]
    },
    {
      "cell_type": "markdown",
      "metadata": {
        "id": "GvvQPMdmYCcO",
        "colab_type": "text"
      },
      "source": [
        "Обучение keras модели"
      ]
    },
    {
      "cell_type": "code",
      "metadata": {
        "id": "dQ1Pr3VIYAvj",
        "colab_type": "code",
        "outputId": "27b7e5f4-61e0-4a19-d738-9a55b8ffd104",
        "colab": {
          "base_uri": "https://localhost:8080/",
          "height": 374
        }
      },
      "source": [
        "history = keras_model.fit(X_train, y_train, batch_size = BATCH_SIZE,\n",
        "                    epochs = NUM_EPOCHS,\n",
        "                    callbacks=[ModelCheckpoint('drive/My Drive/ForGensim/rus_keras_model.h5', save_best_only = True)],\n",
        "                    validation_split = 0.1)"
      ],
      "execution_count": 213,
      "outputs": [
        {
          "output_type": "stream",
          "text": [
            "Train on 392 samples, validate on 44 samples\n",
            "Epoch 1/10\n",
            "392/392 [==============================] - 2s 4ms/step - loss: 1.3229 - f1_score: 0.3584 - val_loss: 1.1711 - val_f1_score: 0.6364\n",
            "Epoch 2/10\n",
            "392/392 [==============================] - 1s 3ms/step - loss: 0.8303 - f1_score: 0.9119 - val_loss: 0.7111 - val_f1_score: 0.9677\n",
            "Epoch 3/10\n",
            "392/392 [==============================] - 1s 3ms/step - loss: 0.3603 - f1_score: 0.9787 - val_loss: 0.3377 - val_f1_score: 0.9677\n",
            "Epoch 4/10\n",
            "392/392 [==============================] - 1s 3ms/step - loss: 0.0880 - f1_score: 0.9929 - val_loss: 0.1470 - val_f1_score: 1.0000\n",
            "Epoch 5/10\n",
            "392/392 [==============================] - 1s 3ms/step - loss: 0.0101 - f1_score: 1.0000 - val_loss: 0.1323 - val_f1_score: 1.0000\n",
            "Epoch 6/10\n",
            "392/392 [==============================] - 1s 3ms/step - loss: 0.0028 - f1_score: 1.0000 - val_loss: 0.1174 - val_f1_score: 1.0000\n",
            "Epoch 7/10\n",
            "392/392 [==============================] - 1s 3ms/step - loss: 0.0012 - f1_score: 1.0000 - val_loss: 0.1172 - val_f1_score: 1.0000\n",
            "Epoch 8/10\n",
            "392/392 [==============================] - 1s 3ms/step - loss: 0.0010 - f1_score: 1.0000 - val_loss: 0.1202 - val_f1_score: 0.9677\n",
            "Epoch 9/10\n",
            "392/392 [==============================] - 1s 3ms/step - loss: 5.8522e-04 - f1_score: 1.0000 - val_loss: 0.1232 - val_f1_score: 0.9677\n",
            "Epoch 10/10\n",
            "392/392 [==============================] - 1s 3ms/step - loss: 5.1321e-04 - f1_score: 1.0000 - val_loss: 0.1236 - val_f1_score: 0.9677\n"
          ],
          "name": "stdout"
        }
      ]
    },
    {
      "cell_type": "code",
      "metadata": {
        "id": "4HvheylYYI3H",
        "colab_type": "code",
        "outputId": "62813852-c8ee-4b08-caa8-e2f5d87dab01",
        "colab": {
          "base_uri": "https://localhost:8080/",
          "height": 51
        }
      },
      "source": [
        "score = keras_model.evaluate(X_test, y_test)\n",
        "print(\"Test accuracy: {:.3f}\".format(score[1]))"
      ],
      "execution_count": 214,
      "outputs": [
        {
          "output_type": "stream",
          "text": [
            "109/109 [==============================] - 0s 467us/step\n",
            "Test accuracy: 0.968\n"
          ],
          "name": "stdout"
        }
      ]
    },
    {
      "cell_type": "markdown",
      "metadata": {
        "id": "_ckAs0eIYOV4",
        "colab_type": "text"
      },
      "source": [
        "Модель обучилась с точностью ~97%\n"
      ]
    },
    {
      "cell_type": "markdown",
      "metadata": {
        "id": "t9vM-0JKqFyu",
        "colab_type": "text"
      },
      "source": [
        "**Делаем отчёт по предсказанию (по разным метрикам) + строим матрицу ошибок:**"
      ]
    },
    {
      "cell_type": "code",
      "metadata": {
        "id": "hTM4j5YIYfAI",
        "colab_type": "code",
        "colab": {}
      },
      "source": [
        "import seaborn as sn"
      ],
      "execution_count": 0,
      "outputs": []
    },
    {
      "cell_type": "code",
      "metadata": {
        "id": "PAAXeZJUYg5s",
        "colab_type": "code",
        "colab": {}
      },
      "source": [
        "import matplotlib.pyplot as plt"
      ],
      "execution_count": 0,
      "outputs": []
    },
    {
      "cell_type": "code",
      "metadata": {
        "id": "jvI5WROWYS5y",
        "colab_type": "code",
        "colab": {}
      },
      "source": [
        "prediction = keras_model.predict_classes(X_test)"
      ],
      "execution_count": 0,
      "outputs": []
    },
    {
      "cell_type": "code",
      "metadata": {
        "id": "ZlSKt7uCqq2U",
        "colab_type": "code",
        "colab": {
          "base_uri": "https://localhost:8080/",
          "height": 34
        },
        "outputId": "8fd882c7-684d-4632-c92b-27394af1b247"
      },
      "source": [
        "prediction[:3]"
      ],
      "execution_count": 216,
      "outputs": [
        {
          "output_type": "execute_result",
          "data": {
            "text/plain": [
              "array([1, 0, 1])"
            ]
          },
          "metadata": {
            "tags": []
          },
          "execution_count": 216
        }
      ]
    },
    {
      "cell_type": "code",
      "metadata": {
        "id": "o0axrA-BYc6B",
        "colab_type": "code",
        "colab": {}
      },
      "source": [
        "prediction_names = transform_from_categorical(prediction, unique_intents)"
      ],
      "execution_count": 0,
      "outputs": []
    },
    {
      "cell_type": "code",
      "metadata": {
        "id": "eb1mFNNIqu23",
        "colab_type": "code",
        "colab": {
          "base_uri": "https://localhost:8080/",
          "height": 34
        },
        "outputId": "9313d729-28ad-45e3-e8e5-a97621e43535"
      },
      "source": [
        "prediction_names[:3]"
      ],
      "execution_count": 218,
      "outputs": [
        {
          "output_type": "execute_result",
          "data": {
            "text/plain": [
              "['Прогноз_Погоды', 'О_Музыке', 'Прогноз_Погоды']"
            ]
          },
          "metadata": {
            "tags": []
          },
          "execution_count": 218
        }
      ]
    },
    {
      "cell_type": "code",
      "metadata": {
        "id": "Nut7REoUYZ1S",
        "colab_type": "code",
        "colab": {}
      },
      "source": [
        "y_test = y_test.tolist()\n",
        "y_test_names = []\n",
        "\n",
        "for i in range(len(y_test)):\n",
        "  y_test_names.append(unique_intents[y_test[i].index(1)])"
      ],
      "execution_count": 0,
      "outputs": []
    },
    {
      "cell_type": "code",
      "metadata": {
        "id": "5LNZflttq9kn",
        "colab_type": "code",
        "colab": {
          "base_uri": "https://localhost:8080/",
          "height": 34
        },
        "outputId": "d0277b0c-761f-48af-e607-132081d7d8b1"
      },
      "source": [
        "y_test_names[:3]"
      ],
      "execution_count": 221,
      "outputs": [
        {
          "output_type": "execute_result",
          "data": {
            "text/plain": [
              "['Прогноз_Погоды', 'О_Музыке', 'Прогноз_Погоды']"
            ]
          },
          "metadata": {
            "tags": []
          },
          "execution_count": 221
        }
      ]
    },
    {
      "cell_type": "code",
      "metadata": {
        "id": "qE-agHK-rKGI",
        "colab_type": "code",
        "colab": {}
      },
      "source": [
        "from sklearn.metrics import classification_report"
      ],
      "execution_count": 0,
      "outputs": []
    },
    {
      "cell_type": "code",
      "metadata": {
        "id": "KmOo6azIrOLy",
        "colab_type": "code",
        "colab": {
          "base_uri": "https://localhost:8080/",
          "height": 221
        },
        "outputId": "f72bc42e-197c-4dcb-c1d0-23172d7316c7"
      },
      "source": [
        "print(classification_report(y_test_names, prediction_names, target_names = unique_intents))"
      ],
      "execution_count": 222,
      "outputs": [
        {
          "output_type": "stream",
          "text": [
            "                precision    recall  f1-score   support\n",
            "\n",
            "      О_Музыке       0.77      0.91      0.83        11\n",
            "Прогноз_Погоды       0.89      1.00      0.94         8\n",
            " График_Работы       0.93      1.00      0.96        13\n",
            "  Заказать_Еду       1.00      0.94      0.97        48\n",
            "     Будильник       0.96      0.93      0.95        29\n",
            "\n",
            "      accuracy                           0.94       109\n",
            "     macro avg       0.91      0.96      0.93       109\n",
            "  weighted avg       0.95      0.94      0.95       109\n",
            "\n"
          ],
          "name": "stdout"
        }
      ]
    },
    {
      "cell_type": "code",
      "metadata": {
        "id": "O6MZE8E4Yifz",
        "colab_type": "code",
        "outputId": "1c367bf6-c489-4c70-b412-3c24e3b8f9b3",
        "colab": {
          "base_uri": "https://localhost:8080/",
          "height": 623
        }
      },
      "source": [
        "data = {'prediction': prediction_names,\n",
        "        'actual':    y_test_names\n",
        "        }\n",
        "\n",
        "df = pd.DataFrame(data, columns = ['actual','prediction'])\n",
        "confusion_matrix = pd.crosstab(df['actual'], df['prediction'], rownames = ['Actual'], colnames = ['Predicted'])\n",
        "plt.figure(figsize=(25, 10))\n",
        "sn.heatmap(confusion_matrix, annot=True,cmap=\"Greys\")"
      ],
      "execution_count": 223,
      "outputs": [
        {
          "output_type": "execute_result",
          "data": {
            "text/plain": [
              "<matplotlib.axes._subplots.AxesSubplot at 0x7f4050f8c6a0>"
            ]
          },
          "metadata": {
            "tags": []
          },
          "execution_count": 223
        },
        {
          "output_type": "display_data",
          "data": {
            "image/png": "[encoded data removed]",
            "text/plain": [
              "<Figure size 1800x720 with 2 Axes>"
            ]
          },
          "metadata": {
            "tags": []
          }
        }
      ]
    },
    {
      "cell_type": "markdown",
      "metadata": {
        "id": "1wFMMH8YrePy",
        "colab_type": "text"
      },
      "source": [
        "**Как видно по матрице ошибок, наша модель чаще всего путает интенты `О_Музыке` с `Будильник`**"
      ]
    },
    {
      "cell_type": "markdown",
      "metadata": {
        "id": "Ggt-kVRyYuci",
        "colab_type": "text"
      },
      "source": [
        "Тестирование (проверка работы) классификатора на небольших данных"
      ]
    },
    {
      "cell_type": "code",
      "metadata": {
        "id": "WSI2uQM-YveO",
        "colab_type": "code",
        "colab": {}
      },
      "source": [
        "test = ['какая погода в Кирове', 'во сколько закрывается аптека', 'я люблю слушать музыку в наушниках', \n",
        "        'додо пицца заказать онлайн', 'разбуди меня в семь вечера', 'сегодня было очень холодно', 'сколько песен в моём плеере', 'что сегодня по погоде?'] "
      ],
      "execution_count": 0,
      "outputs": []
    },
    {
      "cell_type": "code",
      "metadata": {
        "id": "DSG02jCxZU4L",
        "colab_type": "code",
        "colab": {}
      },
      "source": [
        "test_sentence = np.array([tokenize(text) for text in test])"
      ],
      "execution_count": 0,
      "outputs": []
    },
    {
      "cell_type": "code",
      "metadata": {
        "id": "7816Esy4ZA2v",
        "colab_type": "code",
        "outputId": "e542275f-5fea-4abe-cde3-7de80c3b4b58",
        "colab": {
          "base_uri": "https://localhost:8080/",
          "height": 153
        }
      },
      "source": [
        "sequences_test = tokenizer.texts_to_sequences(test_sentence)\n",
        "sequences_test"
      ],
      "execution_count": 245,
      "outputs": [
        {
          "output_type": "execute_result",
          "data": {
            "text/plain": [
              "[[1, 141],\n",
              " [20, 138],\n",
              " [80, 13, 3],\n",
              " [87, 4, 351],\n",
              " [16, 61, 110],\n",
              " [9, 65],\n",
              " [20, 11, 732],\n",
              " [9, 1]]"
            ]
          },
          "metadata": {
            "tags": []
          },
          "execution_count": 245
        }
      ]
    },
    {
      "cell_type": "code",
      "metadata": {
        "id": "RYJdVTcDZoy2",
        "colab_type": "code",
        "colab": {}
      },
      "source": [
        "X_predict = pad_sequences(sequences_test, maxlen = maxlen)"
      ],
      "execution_count": 0,
      "outputs": []
    },
    {
      "cell_type": "code",
      "metadata": {
        "id": "UxE5Un1-ZrMB",
        "colab_type": "code",
        "colab": {}
      },
      "source": [
        "prediction = keras_model.predict_classes(X_predict)"
      ],
      "execution_count": 0,
      "outputs": []
    },
    {
      "cell_type": "code",
      "metadata": {
        "id": "BFF8IqtJZtXc",
        "colab_type": "code",
        "outputId": "c05c597b-7468-4e51-8511-fd8002beb128",
        "colab": {
          "base_uri": "https://localhost:8080/",
          "height": 153
        }
      },
      "source": [
        "answers = transform_from_categorical(prediction, unique_intents.to_list()) \n",
        "answers"
      ],
      "execution_count": 248,
      "outputs": [
        {
          "output_type": "execute_result",
          "data": {
            "text/plain": [
              "['Прогноз_Погоды',\n",
              " 'График_Работы',\n",
              " 'О_Музыке',\n",
              " 'Заказать_Еду',\n",
              " 'Будильник',\n",
              " 'Прогноз_Погоды',\n",
              " 'О_Музыке',\n",
              " 'Прогноз_Погоды']"
            ]
          },
          "metadata": {
            "tags": []
          },
          "execution_count": 248
        }
      ]
    }
  ]
}