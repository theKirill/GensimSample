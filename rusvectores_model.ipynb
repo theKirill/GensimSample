{
  "nbformat": 4,
  "nbformat_minor": 0,
  "metadata": {
    "colab": {
      "name": "rusvectores_model.ipynb",
      "provenance": []
    },
    "kernelspec": {
      "name": "python3",
      "display_name": "Python 3"
    }
  },
  "cells": [
    {
      "cell_type": "markdown",
      "metadata": {
        "id": "fb-QojQFpSTc",
        "colab_type": "text"
      },
      "source": [
        "# Русскоязычный классификатор интентов"
      ]
    },
    {
      "cell_type": "code",
      "metadata": {
        "id": "eWUAQl9xGXXH",
        "colab_type": "code",
        "outputId": "9cfd72ad-387c-46c0-9ed5-7149c0599247",
        "colab": {
          "base_uri": "https://localhost:8080/",
          "height": 81
        }
      },
      "source": [
        "from gensim.models import KeyedVectors\n",
        "from keras.layers.core import Dense, SpatialDropout1D\n",
        "from keras.layers.convolutional import Conv1D\n",
        "from keras.layers.embeddings import Embedding\n",
        "from keras.layers.pooling import GlobalMaxPooling1D\n",
        "from keras.models import Sequential\n",
        "from keras.preprocessing.sequence import pad_sequences\n",
        "from keras.utils import np_utils\n",
        "from sklearn.model_selection import train_test_split\n",
        "import collections\n",
        "import nltk\n",
        "import numpy as np\n",
        "import codecs\n",
        "import pandas as pd\n",
        "import gensim\n",
        "from nltk.corpus import stopwords\n",
        "from gensim.models import Word2Vec\n",
        "import keras\n",
        "from keras.preprocessing.text import Tokenizer\n",
        "from keras.layers import Dense, Flatten, Embedding, Dropout, Conv1D, GlobalMaxPooling1D, Activation\n",
        "from keras.models import Model\n",
        "import sklearn\n",
        "from sklearn.model_selection import train_test_split\n",
        "from keras.utils import to_categorical\n",
        "from keras.models import save_model, load_model\n",
        "from keras.callbacks import ModelCheckpoint\n",
        "from nltk.tokenize import RegexpTokenizer"
      ],
      "execution_count": 1,
      "outputs": [
        {
          "output_type": "stream",
          "text": [
            "Using TensorFlow backend.\n"
          ],
          "name": "stderr"
        },
        {
          "output_type": "display_data",
          "data": {
            "text/html": [
              "<p style=\"color: red;\">\n",
              "The default version of TensorFlow in Colab will soon switch to TensorFlow 2.x.<br>\n",
              "We recommend you <a href=\"https://www.tensorflow.org/guide/migrate\" target=\"_blank\">upgrade</a> now \n",
              "or ensure your notebook will continue to use TensorFlow 1.x via the <code>%tensorflow_version 1.x</code> magic:\n",
              "<a href=\"https://colab.research.google.com/notebooks/tensorflow_version.ipynb\" target=\"_blank\">more info</a>.</p>\n"
            ],
            "text/plain": [
              "<IPython.core.display.HTML object>"
            ]
          },
          "metadata": {
            "tags": []
          }
        }
      ]
    },
    {
      "cell_type": "code",
      "metadata": {
        "id": "IGh7tdttGi75",
        "colab_type": "code",
        "outputId": "7d008206-b055-4e1d-d070-d50824588397",
        "colab": {
          "base_uri": "https://localhost:8080/",
          "height": 125
        }
      },
      "source": [
        "from google.colab import drive\n",
        "drive.mount('/content/drive')"
      ],
      "execution_count": 2,
      "outputs": [
        {
          "output_type": "stream",
          "text": [
            "Go to this URL in a browser: https://accounts.google.com/o/oauth2/auth?client_id=947318989803-6bn6qk8qdgf4n4g3pfee6491hc0brc4i.apps.googleusercontent.com&redirect_uri=urn%3aietf%3awg%3aoauth%3a2.0%3aoob&response_type=code&scope=email%20https%3a%2f%2fwww.googleapis.com%2fauth%2fdocs.test%20https%3a%2f%2fwww.googleapis.com%2fauth%2fdrive%20https%3a%2f%2fwww.googleapis.com%2fauth%2fdrive.photos.readonly%20https%3a%2f%2fwww.googleapis.com%2fauth%2fpeopleapi.readonly\n",
            "\n",
            "Enter your authorization code:\n",
            "··········\n",
            "Mounted at /content/drive\n"
          ],
          "name": "stdout"
        }
      ]
    },
    {
      "cell_type": "code",
      "metadata": {
        "id": "dQU9l3fMGu_7",
        "colab_type": "code",
        "outputId": "816503cf-1bbf-45be-9af5-ad913f0d4da4",
        "colab": {
          "base_uri": "https://localhost:8080/",
          "height": 105
        }
      },
      "source": [
        "nltk.download('punkt')\n",
        "nltk.download('stopwords')"
      ],
      "execution_count": 3,
      "outputs": [
        {
          "output_type": "stream",
          "text": [
            "[nltk_data] Downloading package punkt to /root/nltk_data...\n",
            "[nltk_data]   Unzipping tokenizers/punkt.zip.\n",
            "[nltk_data] Downloading package stopwords to /root/nltk_data...\n",
            "[nltk_data]   Unzipping corpora/stopwords.zip.\n"
          ],
          "name": "stdout"
        },
        {
          "output_type": "execute_result",
          "data": {
            "text/plain": [
              "True"
            ]
          },
          "metadata": {
            "tags": []
          },
          "execution_count": 3
        }
      ]
    },
    {
      "cell_type": "markdown",
      "metadata": {
        "id": "1iyntmYpL_9-",
        "colab_type": "text"
      },
      "source": [
        "Импорт русскоязычной модели word2vec"
      ]
    },
    {
      "cell_type": "code",
      "metadata": {
        "id": "eQL68CQeq4be",
        "colab_type": "code",
        "colab": {}
      },
      "source": [
        "import gensim.downloader as api"
      ],
      "execution_count": 0,
      "outputs": []
    },
    {
      "cell_type": "code",
      "metadata": {
        "id": "TC6joqtzrjNP",
        "colab_type": "code",
        "colab": {
          "base_uri": "https://localhost:8080/",
          "height": 90
        },
        "outputId": "721bd5e8-73c5-479e-d00d-f10d4bd3b023"
      },
      "source": [
        "model = api.load(\"word2vec-ruscorpora-300\")"
      ],
      "execution_count": 39,
      "outputs": [
        {
          "output_type": "stream",
          "text": [
            "[==================================================] 100.0% 198.8/198.8MB downloaded\n"
          ],
          "name": "stdout"
        },
        {
          "output_type": "stream",
          "text": [
            "/usr/local/lib/python3.6/dist-packages/smart_open/smart_open_lib.py:402: UserWarning: This function is deprecated, use smart_open.open instead. See the migration notes for details: https://github.com/RaRe-Technologies/smart_open/blob/master/README.rst#migrating-to-the-new-open-function\n",
            "  'See the migration notes for details: %s' % _MIGRATION_NOTES_URL\n"
          ],
          "name": "stderr"
        }
      ]
    },
    {
      "cell_type": "markdown",
      "metadata": {
        "id": "qsWltK6PMF01",
        "colab_type": "text"
      },
      "source": [
        "Количество слов в словаре - почти 185к"
      ]
    },
    {
      "cell_type": "code",
      "metadata": {
        "id": "RqILf1hrsjAn",
        "colab_type": "code",
        "colab": {
          "base_uri": "https://localhost:8080/",
          "height": 34
        },
        "outputId": "964e083e-5933-439e-d475-3d2d39e5b9a3"
      },
      "source": [
        "len(model.vocab)"
      ],
      "execution_count": 40,
      "outputs": [
        {
          "output_type": "execute_result",
          "data": {
            "text/plain": [
              "184973"
            ]
          },
          "metadata": {
            "tags": []
          },
          "execution_count": 40
        }
      ]
    },
    {
      "cell_type": "code",
      "metadata": {
        "id": "q7GiDddBsmkK",
        "colab_type": "code",
        "colab": {
          "base_uri": "https://localhost:8080/",
          "height": 248
        },
        "outputId": "c3b1d37a-c6f2-431b-ae7c-02a100376ff2"
      },
      "source": [
        "model.most_similar('добавлять_VERB')"
      ],
      "execution_count": 41,
      "outputs": [
        {
          "output_type": "stream",
          "text": [
            "/usr/local/lib/python3.6/dist-packages/gensim/matutils.py:737: FutureWarning: Conversion of the second argument of issubdtype from `int` to `np.signedinteger` is deprecated. In future, it will be treated as `np.int64 == np.dtype(int).type`.\n",
            "  if np.issubdtype(vec.dtype, np.int):\n"
          ],
          "name": "stderr"
        },
        {
          "output_type": "execute_result",
          "data": {
            "text/plain": [
              "[('прибавлять_VERB', 0.6648961305618286),\n",
              " ('добавление_NOUN', 0.5659074783325195),\n",
              " ('томатный::пюре_NOUN', 0.557951807975769),\n",
              " ('спассеровывать_VERB', 0.5524739027023315),\n",
              " ('лимонный::цедра_NOUN', 0.5512294769287109),\n",
              " ('тертый::мускатный_ADJ', 0.5496140122413635),\n",
              " ('спассеровать_VERB', 0.5316646099090576),\n",
              " ('пассеровывать_VERB', 0.5253649950027466),\n",
              " ('пассеровать_VERB', 0.5235322713851929),\n",
              " ('панировочный::сухарь_NOUN', 0.5202608704566956)]"
            ]
          },
          "metadata": {
            "tags": []
          },
          "execution_count": 41
        }
      ]
    },
    {
      "cell_type": "markdown",
      "metadata": {
        "id": "KFi9FtUjMObT",
        "colab_type": "text"
      },
      "source": [
        "Импорт размеченных русскоязычных данных\n",
        "\n",
        "*   https://github.com/Koziev/chatbot/blob/master/data/intents.txt\n"
      ]
    },
    {
      "cell_type": "code",
      "metadata": {
        "id": "LC_VJrcbs2aF",
        "colab_type": "code",
        "colab": {}
      },
      "source": [
        "file_excel = pd.read_excel('drive/My Drive/ForGensim/russian_train.xlsx', sheet_name='russian_train')"
      ],
      "execution_count": 0,
      "outputs": []
    },
    {
      "cell_type": "code",
      "metadata": {
        "id": "YsfOcO3k2Ohq",
        "colab_type": "code",
        "colab": {
          "base_uri": "https://localhost:8080/",
          "height": 233
        },
        "outputId": "c68e50f6-df2d-41f2-b657-d925f2fb82e3"
      },
      "source": [
        "file_excel[:4]"
      ],
      "execution_count": 19,
      "outputs": [
        {
          "output_type": "execute_result",
          "data": {
            "text/html": [
              "<div>\n",
              "<style scoped>\n",
              "    .dataframe tbody tr th:only-of-type {\n",
              "        vertical-align: middle;\n",
              "    }\n",
              "\n",
              "    .dataframe tbody tr th {\n",
              "        vertical-align: top;\n",
              "    }\n",
              "\n",
              "    .dataframe thead th {\n",
              "        text-align: right;\n",
              "    }\n",
              "</style>\n",
              "<table border=\"1\" class=\"dataframe\">\n",
              "  <thead>\n",
              "    <tr style=\"text-align: right;\">\n",
              "      <th></th>\n",
              "      <th>О_Музыке</th>\n",
              "      <th>Прогноз_Погоды</th>\n",
              "      <th>График_Работы</th>\n",
              "      <th>Заказать_Еду</th>\n",
              "      <th>Будильник</th>\n",
              "    </tr>\n",
              "  </thead>\n",
              "  <tbody>\n",
              "    <tr>\n",
              "      <th>0</th>\n",
              "      <td>Оркестр играл Похоронный марш Бетховена</td>\n",
              "      <td>На следующей неделе пойдет снег?</td>\n",
              "      <td>Отделение банка работает в субботу?</td>\n",
              "      <td>Закажи две пиццы</td>\n",
              "      <td>разбуди меня завтра в шесть</td>\n",
              "    </tr>\n",
              "    <tr>\n",
              "      <th>1</th>\n",
              "      <td>Возьму барабаны и вступлю в рок-группу</td>\n",
              "      <td>меня интересует вероятность дождя в ближайшие ...</td>\n",
              "      <td>До скольки работает касса?</td>\n",
              "      <td>Как бесплатно заказать еду на дом или по больш...</td>\n",
              "      <td>разбуди меня завтра в шесть часов</td>\n",
              "    </tr>\n",
              "    <tr>\n",
              "      <th>2</th>\n",
              "      <td>Для них пелись самые разные песни</td>\n",
              "      <td>мне интересно знать усилится ли ветер после обеда</td>\n",
              "      <td>Во сколько заканчивает работу касса?</td>\n",
              "      <td>как мне заказать кумыс в Москве?</td>\n",
              "      <td>разбуди меня завтра в семь</td>\n",
              "    </tr>\n",
              "    <tr>\n",
              "      <th>3</th>\n",
              "      <td>Из зала доносились звуки оркестра</td>\n",
              "      <td>Идет дождь?</td>\n",
              "      <td>До которого часа касса работает?</td>\n",
              "      <td>Плюс можно заказать поесть.</td>\n",
              "      <td>разбуди меня завтра в семь часов</td>\n",
              "    </tr>\n",
              "  </tbody>\n",
              "</table>\n",
              "</div>"
            ],
            "text/plain": [
              "                                  О_Музыке  ...                          Будильник\n",
              "0  Оркестр играл Похоронный марш Бетховена  ...        разбуди меня завтра в шесть\n",
              "1   Возьму барабаны и вступлю в рок-группу  ...  разбуди меня завтра в шесть часов\n",
              "2        Для них пелись самые разные песни  ...         разбуди меня завтра в семь\n",
              "3        Из зала доносились звуки оркестра  ...   разбуди меня завтра в семь часов\n",
              "\n",
              "[4 rows x 5 columns]"
            ]
          },
          "metadata": {
            "tags": []
          },
          "execution_count": 19
        }
      ]
    },
    {
      "cell_type": "code",
      "metadata": {
        "id": "WK_nj7NsJU7G",
        "colab_type": "code",
        "colab": {}
      },
      "source": [
        "unique_intents = file_excel.columns"
      ],
      "execution_count": 0,
      "outputs": []
    },
    {
      "cell_type": "code",
      "metadata": {
        "id": "FGUA2IJxJd4D",
        "colab_type": "code",
        "colab": {
          "base_uri": "https://localhost:8080/",
          "height": 70
        },
        "outputId": "51b77a3f-61e9-46bb-f649-564e352f20ee"
      },
      "source": [
        "unique_intents"
      ],
      "execution_count": 120,
      "outputs": [
        {
          "output_type": "execute_result",
          "data": {
            "text/plain": [
              "Index(['О_Музыке', 'Прогноз_Погоды', 'График_Работы', 'Заказать_Еду',\n",
              "       'Будильник'],\n",
              "      dtype='object')"
            ]
          },
          "metadata": {
            "tags": []
          },
          "execution_count": 120
        }
      ]
    },
    {
      "cell_type": "code",
      "metadata": {
        "id": "cAVhx_nXJ6me",
        "colab_type": "code",
        "colab": {}
      },
      "source": [
        "all_texts,all_intents = [], []\n",
        "\n",
        "for intent in unique_intents:\n",
        "  for text in file_excel[intent]:\n",
        "    if pd.isnull(text):\n",
        "      break\n",
        "    else:\n",
        "      all_texts.append(text)\n",
        "      all_intents.append(intent)"
      ],
      "execution_count": 0,
      "outputs": []
    },
    {
      "cell_type": "markdown",
      "metadata": {
        "id": "4dLl3MUFL88w",
        "colab_type": "text"
      },
      "source": [
        "Подготовка данных (удаление стоп-слов, пунктуации и добавление к словам части речи для корректной работы с моделью word2vec)"
      ]
    },
    {
      "cell_type": "code",
      "metadata": {
        "id": "NiN-8mRwPzzs",
        "colab_type": "code",
        "colab": {
          "base_uri": "https://localhost:8080/",
          "height": 230
        },
        "outputId": "d1c15897-3c67-47c3-c6f1-b0eef2055596"
      },
      "source": [
        "pip install pymorphy2"
      ],
      "execution_count": 56,
      "outputs": [
        {
          "output_type": "stream",
          "text": [
            "Collecting pymorphy2\n",
            "\u001b[?25l  Downloading https://files.pythonhosted.org/packages/a3/33/fff9675c68b5f6c63ec8c6e6ff57827dda28a1fa5b2c2d727dffff92dd47/pymorphy2-0.8-py2.py3-none-any.whl (46kB)\n",
            "\r\u001b[K     |███████                         | 10kB 16.0MB/s eta 0:00:01\r\u001b[K     |██████████████▏                 | 20kB 1.8MB/s eta 0:00:01\r\u001b[K     |█████████████████████▎          | 30kB 2.6MB/s eta 0:00:01\r\u001b[K     |████████████████████████████▍   | 40kB 1.7MB/s eta 0:00:01\r\u001b[K     |████████████████████████████████| 51kB 1.7MB/s \n",
            "\u001b[?25hCollecting dawg-python>=0.7\n",
            "  Downloading https://files.pythonhosted.org/packages/6a/84/ff1ce2071d4c650ec85745766c0047ccc3b5036f1d03559fd46bb38b5eeb/DAWG_Python-0.7.2-py2.py3-none-any.whl\n",
            "Collecting pymorphy2-dicts<3.0,>=2.4\n",
            "\u001b[?25l  Downloading https://files.pythonhosted.org/packages/02/51/2465fd4f72328ab50877b54777764d928da8cb15b74e2680fc1bd8cb3173/pymorphy2_dicts-2.4.393442.3710985-py2.py3-none-any.whl (7.1MB)\n",
            "\u001b[K     |████████████████████████████████| 7.1MB 8.0MB/s \n",
            "\u001b[?25hRequirement already satisfied: docopt>=0.6 in /usr/local/lib/python3.6/dist-packages (from pymorphy2) (0.6.2)\n",
            "Installing collected packages: dawg-python, pymorphy2-dicts, pymorphy2\n",
            "Successfully installed dawg-python-0.7.2 pymorphy2-0.8 pymorphy2-dicts-2.4.393442.3710985\n"
          ],
          "name": "stdout"
        }
      ]
    },
    {
      "cell_type": "code",
      "metadata": {
        "id": "fdtgFINXPyGR",
        "colab_type": "code",
        "colab": {}
      },
      "source": [
        "import pymorphy2"
      ],
      "execution_count": 0,
      "outputs": []
    },
    {
      "cell_type": "code",
      "metadata": {
        "id": "VQDMSnrlMlwQ",
        "colab_type": "code",
        "colab": {}
      },
      "source": [
        "def tokenize(text):\n",
        "  regex_tokenizer = RegexpTokenizer('[а-яА-ЯЁё]+')\n",
        "  words = regex_tokenizer.tokenize(text.lower())\n",
        "  stop_words = set(stopwords.words(\"russian\"))\n",
        "  without_stop_words = [w for w in words if w not in stop_words and len(w) > 1]\n",
        "  output = [add_part_of_speech(word) for word in without_stop_words]\n",
        "  #print(output)\n",
        "  return output"
      ],
      "execution_count": 0,
      "outputs": []
    },
    {
      "cell_type": "code",
      "metadata": {
        "id": "iwzk8K2jQHJO",
        "colab_type": "code",
        "colab": {}
      },
      "source": [
        "def add_part_of_speech(word):\n",
        "  morph = pymorphy2.MorphAnalyzer()\n",
        "  p = morph.parse(word)[0]\n",
        "  word += '_' + str(p.tag.POS)\n",
        "  return word"
      ],
      "execution_count": 0,
      "outputs": []
    },
    {
      "cell_type": "code",
      "metadata": {
        "id": "jXtsx3IjS0Xt",
        "colab_type": "code",
        "colab": {}
      },
      "source": [
        "word = 'привет'"
      ],
      "execution_count": 0,
      "outputs": []
    },
    {
      "cell_type": "code",
      "metadata": {
        "id": "bulKR4rpS2-w",
        "colab_type": "code",
        "colab": {}
      },
      "source": [
        "word = add_part_of_speech(word)"
      ],
      "execution_count": 0,
      "outputs": []
    },
    {
      "cell_type": "code",
      "metadata": {
        "id": "S50BWaNES9OM",
        "colab_type": "code",
        "colab": {
          "base_uri": "https://localhost:8080/",
          "height": 34
        },
        "outputId": "38b5d817-28bb-4e4d-a648-a2acc5c025dd"
      },
      "source": [
        "word"
      ],
      "execution_count": 92,
      "outputs": [
        {
          "output_type": "execute_result",
          "data": {
            "text/plain": [
              "'привет_NOUN'"
            ]
          },
          "metadata": {
            "tags": []
          },
          "execution_count": 92
        }
      ]
    },
    {
      "cell_type": "code",
      "metadata": {
        "id": "ulP0m6M0SEzE",
        "colab_type": "code",
        "colab": {}
      },
      "source": [
        "sentences = np.array([tokenize(text) for text in all_texts])"
      ],
      "execution_count": 0,
      "outputs": []
    },
    {
      "cell_type": "code",
      "metadata": {
        "id": "CC7bpzn6UAc-",
        "colab_type": "code",
        "colab": {
          "base_uri": "https://localhost:8080/",
          "height": 142
        },
        "outputId": "97b83b1b-faaf-46c1-dbb3-699818ce2d6e"
      },
      "source": [
        "sentences[:5]"
      ],
      "execution_count": 99,
      "outputs": [
        {
          "output_type": "execute_result",
          "data": {
            "text/plain": [
              "array([list(['оркестр_NOUN', 'играл_VERB', 'похоронный_ADJF', 'марш_INTJ', 'бетховена_NOUN']),\n",
              "       list(['возьму_VERB', 'барабаны_NOUN', 'вступлю_VERB', 'рок_NOUN', 'группу_NOUN']),\n",
              "       list(['пелись_VERB', 'самые_ADJF', 'разные_ADJF', 'песни_NOUN']),\n",
              "       list(['зала_NOUN', 'доносились_VERB', 'звуки_NOUN', 'оркестра_NOUN']),\n",
              "       list(['можете_VERB', 'посоветовать_INFN', 'хорошие_ADJF', 'душерздерающие_PRTF', 'песни_NOUN', 'любви_NOUN', 'хорошим_ADJF', 'примитивным_ADJF', 'текстом_NOUN', 'красивой_ADJF', 'музыкой_NOUN'])],\n",
              "      dtype=object)"
            ]
          },
          "metadata": {
            "tags": []
          },
          "execution_count": 99
        }
      ]
    },
    {
      "cell_type": "code",
      "metadata": {
        "id": "YyuF9WaQUWLr",
        "colab_type": "code",
        "colab": {}
      },
      "source": [
        "import collections\n",
        "counter = collections.Counter()"
      ],
      "execution_count": 0,
      "outputs": []
    },
    {
      "cell_type": "code",
      "metadata": {
        "id": "optV1m5PUDEI",
        "colab_type": "code",
        "colab": {}
      },
      "source": [
        "#считаем максимальную длину предложений, а также частоту всех слов предложений, считанных из файла \n",
        "maxlen = 0\n",
        "for words in sentences:\n",
        "    if len(words) > maxlen:\n",
        "        maxlen = len(words)\n",
        "    for word in words:\n",
        "        counter[word] += 1"
      ],
      "execution_count": 0,
      "outputs": []
    },
    {
      "cell_type": "markdown",
      "metadata": {
        "id": "AqDygY_5UgSb",
        "colab_type": "text"
      },
      "source": [
        "Подготовка данных для обучения для основе ruscorpora"
      ]
    },
    {
      "cell_type": "code",
      "metadata": {
        "id": "0M6_uK_WU4MB",
        "colab_type": "code",
        "colab": {}
      },
      "source": [
        "# Преобразование номеров классов в названия классов\n",
        "def transform_from_categorical(prediction, intents):\n",
        "  answers = []\n",
        "\n",
        "  for i in range(prediction.shape[0]):\n",
        "    answers.append(intents[prediction[i]])\n",
        "\n",
        "  return answers\n",
        "\n",
        "# Преобразование названий классов в матрицу двоичных чисел (нужно для keras)\n",
        "def transform_to_categorical(intents_for_each, unique_intents):\n",
        "  intents_to_digit = []\n",
        "\n",
        "  for intent in intents_for_each:\n",
        "    intents_to_digit.append(unique_intents.index(intent))\n",
        "\n",
        "  return to_categorical(intents_to_digit, len(unique_intents))"
      ],
      "execution_count": 0,
      "outputs": []
    },
    {
      "cell_type": "code",
      "metadata": {
        "id": "TAkndHDeUb0s",
        "colab_type": "code",
        "colab": {}
      },
      "source": [
        "vocab_sz = len(counter) + 1"
      ],
      "execution_count": 0,
      "outputs": []
    },
    {
      "cell_type": "code",
      "metadata": {
        "id": "HRdsbpkYUliu",
        "colab_type": "code",
        "colab": {}
      },
      "source": [
        "# Создание единого словаря (слово -> число) для преобразования на основе списка текстов sentences\n",
        "tokenizer = Tokenizer()\n",
        "tokenizer.fit_on_texts(sentences)"
      ],
      "execution_count": 0,
      "outputs": []
    },
    {
      "cell_type": "code",
      "metadata": {
        "id": "lyDJzfEgUpO0",
        "colab_type": "code",
        "colab": {}
      },
      "source": [
        "X = tokenizer.texts_to_sequences(sentences) #заменяем слова каждого предложения на числа"
      ],
      "execution_count": 0,
      "outputs": []
    },
    {
      "cell_type": "code",
      "metadata": {
        "id": "Vg6MQKGPUye8",
        "colab_type": "code",
        "colab": {
          "base_uri": "https://localhost:8080/",
          "height": 34
        },
        "outputId": "21ddc740-06ae-4ee6-93c4-75aed81cbc92"
      },
      "source": [
        "X[:3]"
      ],
      "execution_count": 107,
      "outputs": [
        {
          "output_type": "execute_result",
          "data": {
            "text/plain": [
              "[[127, 128, 286, 287, 288], [289, 290, 291, 16, 89], [292, 293, 294, 4]]"
            ]
          },
          "metadata": {
            "tags": []
          },
          "execution_count": 107
        }
      ]
    },
    {
      "cell_type": "code",
      "metadata": {
        "id": "qZ8GY1hzUzTH",
        "colab_type": "code",
        "colab": {}
      },
      "source": [
        "y = transform_to_categorical(all_intents, unique_intents.to_list())#заменяем названия интентов на матрицу двоичных чисел"
      ],
      "execution_count": 0,
      "outputs": []
    },
    {
      "cell_type": "code",
      "metadata": {
        "id": "ELDqiQB_W9fG",
        "colab_type": "code",
        "colab": {
          "base_uri": "https://localhost:8080/",
          "height": 70
        },
        "outputId": "8c9be9db-6281-4124-c1b6-1546b3b4517f"
      },
      "source": [
        "y[:3]"
      ],
      "execution_count": 131,
      "outputs": [
        {
          "output_type": "execute_result",
          "data": {
            "text/plain": [
              "array([[1., 0., 0., 0., 0.],\n",
              "       [1., 0., 0., 0., 0.],\n",
              "       [1., 0., 0., 0., 0.]], dtype=float32)"
            ]
          },
          "metadata": {
            "tags": []
          },
          "execution_count": 131
        }
      ]
    },
    {
      "cell_type": "code",
      "metadata": {
        "id": "4V4_pDJtXOIq",
        "colab_type": "code",
        "colab": {}
      },
      "source": [
        "X = pad_sequences(X, maxlen = maxlen) #уравниваем все предложения до размера maxlen"
      ],
      "execution_count": 0,
      "outputs": []
    },
    {
      "cell_type": "code",
      "metadata": {
        "id": "c5isN0HhXR4a",
        "colab_type": "code",
        "colab": {
          "base_uri": "https://localhost:8080/",
          "height": 122
        },
        "outputId": "b814322d-7e85-4137-9ee0-1e3c799d1600"
      },
      "source": [
        "X[:3]"
      ],
      "execution_count": 133,
      "outputs": [
        {
          "output_type": "execute_result",
          "data": {
            "text/plain": [
              "array([[  0,   0,   0,   0,   0,   0,   0,   0,   0,   0,   0,   0,   0,\n",
              "          0,   0,   0, 127, 128, 286, 287, 288],\n",
              "       [  0,   0,   0,   0,   0,   0,   0,   0,   0,   0,   0,   0,   0,\n",
              "          0,   0,   0, 289, 290, 291,  16,  89],\n",
              "       [  0,   0,   0,   0,   0,   0,   0,   0,   0,   0,   0,   0,   0,\n",
              "          0,   0,   0,   0, 292, 293, 294,   4]], dtype=int32)"
            ]
          },
          "metadata": {
            "tags": []
          },
          "execution_count": 133
        }
      ]
    },
    {
      "cell_type": "code",
      "metadata": {
        "id": "Gh1m7WDqXUDe",
        "colab_type": "code",
        "colab": {
          "base_uri": "https://localhost:8080/",
          "height": 34
        },
        "outputId": "33ecc5c6-50e3-4d21-dc10-fbcb5ce517c4"
      },
      "source": [
        "X_train, X_test, y_train, y_test = \\\n",
        "    train_test_split(X, y, test_size = 0.2, random_state = 42)\n",
        "print(X_train.shape, X_test.shape, y_train.shape, y_test.shape)"
      ],
      "execution_count": 135,
      "outputs": [
        {
          "output_type": "stream",
          "text": [
            "(288, 21) (72, 21) (288, 5) (72, 5)\n"
          ],
          "name": "stdout"
        }
      ]
    },
    {
      "cell_type": "markdown",
      "metadata": {
        "id": "QOrku0OjXhRH",
        "colab_type": "text"
      },
      "source": [
        "Создание keras модели"
      ]
    },
    {
      "cell_type": "code",
      "metadata": {
        "id": "Wi15Vc9oXp_v",
        "colab_type": "code",
        "colab": {}
      },
      "source": [
        "EMBED_SIZE = 300\n",
        "NUM_FILTERS = 256\n",
        "NUM_WORDS = 3\n",
        "BATCH_SIZE = 64\n",
        "NUM_EPOCHS = 10"
      ],
      "execution_count": 0,
      "outputs": []
    },
    {
      "cell_type": "code",
      "metadata": {
        "id": "inkdGHnPXfIh",
        "colab_type": "code",
        "colab": {}
      },
      "source": [
        "embedding_weights = np.zeros((vocab_sz, EMBED_SIZE))#создаём матрицу размером размерность словаря*размерность вектора слова\n",
        "index = 0\n",
        "sorted_counter = counter.most_common() #сортируем слова по частоте встречаемости\n",
        "for word in sorted_counter:#для каждого слова из нашего словаря задаём вектор из model в матрицу\n",
        "    try:\n",
        "      embedding_weights[index, :] = model[word[0]] \n",
        "      index+=1     \n",
        "    except KeyError:#если нет слова в словаре model\n",
        "      index+=1\n",
        "      pass"
      ],
      "execution_count": 0,
      "outputs": []
    },
    {
      "cell_type": "code",
      "metadata": {
        "id": "GKuc8GqeXrY0",
        "colab_type": "code",
        "colab": {}
      },
      "source": [
        "COUNT_CLASSES = len(unique_intents)"
      ],
      "execution_count": 0,
      "outputs": []
    },
    {
      "cell_type": "code",
      "metadata": {
        "id": "4cbodEFOX1u2",
        "colab_type": "code",
        "colab": {}
      },
      "source": [
        "# Создание модели\n",
        "def get_model(COUNT_CLASSES, embedding_weights):\n",
        "  kmodel = Sequential()\n",
        "  kmodel.add(Embedding(vocab_sz, EMBED_SIZE, input_length = maxlen,\n",
        "                      weights = [embedding_weights],\n",
        "                      trainable = True))\n",
        "  kmodel.add(SpatialDropout1D(0.2))\n",
        "  kmodel.add(Conv1D(filters = NUM_FILTERS, kernel_size = NUM_WORDS,\n",
        "                  activation = \"relu\"))\n",
        "  kmodel.add(GlobalMaxPooling1D())\n",
        "  kmodel.add(Dense(COUNT_CLASSES, activation=\"softmax\"))\n",
        "\n",
        "  kmodel.compile(optimizer = \"adam\", loss = \"categorical_crossentropy\",\n",
        "                metrics = [\"accuracy\"])\n",
        "  \n",
        "  return kmodel"
      ],
      "execution_count": 0,
      "outputs": []
    },
    {
      "cell_type": "code",
      "metadata": {
        "id": "QfD92HVTX7Vj",
        "colab_type": "code",
        "colab": {
          "base_uri": "https://localhost:8080/",
          "height": 512
        },
        "outputId": "c933d238-ca79-4255-a21e-cea2f983e74f"
      },
      "source": [
        "keras_model = get_model(COUNT_CLASSES, embedding_weights)"
      ],
      "execution_count": 141,
      "outputs": [
        {
          "output_type": "stream",
          "text": [
            "WARNING:tensorflow:From /usr/local/lib/python3.6/dist-packages/keras/backend/tensorflow_backend.py:66: The name tf.get_default_graph is deprecated. Please use tf.compat.v1.get_default_graph instead.\n",
            "\n",
            "WARNING:tensorflow:From /usr/local/lib/python3.6/dist-packages/keras/backend/tensorflow_backend.py:541: The name tf.placeholder is deprecated. Please use tf.compat.v1.placeholder instead.\n",
            "\n",
            "WARNING:tensorflow:From /usr/local/lib/python3.6/dist-packages/keras/backend/tensorflow_backend.py:4432: The name tf.random_uniform is deprecated. Please use tf.random.uniform instead.\n",
            "\n",
            "WARNING:tensorflow:From /usr/local/lib/python3.6/dist-packages/keras/backend/tensorflow_backend.py:190: The name tf.get_default_session is deprecated. Please use tf.compat.v1.get_default_session instead.\n",
            "\n",
            "WARNING:tensorflow:From /usr/local/lib/python3.6/dist-packages/keras/backend/tensorflow_backend.py:197: The name tf.ConfigProto is deprecated. Please use tf.compat.v1.ConfigProto instead.\n",
            "\n",
            "WARNING:tensorflow:From /usr/local/lib/python3.6/dist-packages/keras/backend/tensorflow_backend.py:203: The name tf.Session is deprecated. Please use tf.compat.v1.Session instead.\n",
            "\n",
            "WARNING:tensorflow:From /usr/local/lib/python3.6/dist-packages/keras/backend/tensorflow_backend.py:207: The name tf.global_variables is deprecated. Please use tf.compat.v1.global_variables instead.\n",
            "\n",
            "WARNING:tensorflow:From /usr/local/lib/python3.6/dist-packages/keras/backend/tensorflow_backend.py:216: The name tf.is_variable_initialized is deprecated. Please use tf.compat.v1.is_variable_initialized instead.\n",
            "\n",
            "WARNING:tensorflow:From /usr/local/lib/python3.6/dist-packages/keras/backend/tensorflow_backend.py:223: The name tf.variables_initializer is deprecated. Please use tf.compat.v1.variables_initializer instead.\n",
            "\n",
            "WARNING:tensorflow:From /usr/local/lib/python3.6/dist-packages/keras/backend/tensorflow_backend.py:148: The name tf.placeholder_with_default is deprecated. Please use tf.compat.v1.placeholder_with_default instead.\n",
            "\n",
            "WARNING:tensorflow:From /usr/local/lib/python3.6/dist-packages/keras/backend/tensorflow_backend.py:3733: calling dropout (from tensorflow.python.ops.nn_ops) with keep_prob is deprecated and will be removed in a future version.\n",
            "Instructions for updating:\n",
            "Please use `rate` instead of `keep_prob`. Rate should be set to `rate = 1 - keep_prob`.\n",
            "WARNING:tensorflow:From /usr/local/lib/python3.6/dist-packages/keras/optimizers.py:793: The name tf.train.Optimizer is deprecated. Please use tf.compat.v1.train.Optimizer instead.\n",
            "\n",
            "WARNING:tensorflow:From /usr/local/lib/python3.6/dist-packages/keras/backend/tensorflow_backend.py:3576: The name tf.log is deprecated. Please use tf.math.log instead.\n",
            "\n"
          ],
          "name": "stdout"
        }
      ]
    },
    {
      "cell_type": "code",
      "metadata": {
        "id": "aX58YzVdX-QK",
        "colab_type": "code",
        "colab": {
          "base_uri": "https://localhost:8080/",
          "height": 334
        },
        "outputId": "789fc828-dcab-4b8a-a239-35d99ee01307"
      },
      "source": [
        "keras_model.summary()"
      ],
      "execution_count": 142,
      "outputs": [
        {
          "output_type": "stream",
          "text": [
            "Model: \"sequential_1\"\n",
            "_________________________________________________________________\n",
            "Layer (type)                 Output Shape              Param #   \n",
            "=================================================================\n",
            "embedding_1 (Embedding)      (None, 21, 300)           357000    \n",
            "_________________________________________________________________\n",
            "spatial_dropout1d_1 (Spatial (None, 21, 300)           0         \n",
            "_________________________________________________________________\n",
            "conv1d_1 (Conv1D)            (None, 19, 256)           230656    \n",
            "_________________________________________________________________\n",
            "global_max_pooling1d_1 (Glob (None, 256)               0         \n",
            "_________________________________________________________________\n",
            "dense_1 (Dense)              (None, 5)                 1285      \n",
            "=================================================================\n",
            "Total params: 588,941\n",
            "Trainable params: 588,941\n",
            "Non-trainable params: 0\n",
            "_________________________________________________________________\n"
          ],
          "name": "stdout"
        }
      ]
    },
    {
      "cell_type": "markdown",
      "metadata": {
        "id": "GvvQPMdmYCcO",
        "colab_type": "text"
      },
      "source": [
        "Обучение keras модели"
      ]
    },
    {
      "cell_type": "code",
      "metadata": {
        "id": "dQ1Pr3VIYAvj",
        "colab_type": "code",
        "colab": {
          "base_uri": "https://localhost:8080/",
          "height": 530
        },
        "outputId": "ff061080-e767-4407-8816-e28589af3e71"
      },
      "source": [
        "history = keras_model.fit(X_train, y_train, batch_size = BATCH_SIZE,\n",
        "                    epochs = NUM_EPOCHS,\n",
        "                    callbacks=[ModelCheckpoint('drive/My Drive/ForGensim/rus_keras_model.h5', save_best_only = True)],\n",
        "                    validation_split = 0.2)"
      ],
      "execution_count": 143,
      "outputs": [
        {
          "output_type": "stream",
          "text": [
            "WARNING:tensorflow:From /usr/local/lib/python3.6/dist-packages/tensorflow_core/python/ops/math_grad.py:1424: where (from tensorflow.python.ops.array_ops) is deprecated and will be removed in a future version.\n",
            "Instructions for updating:\n",
            "Use tf.where in 2.0, which has the same broadcast rule as np.where\n",
            "WARNING:tensorflow:From /usr/local/lib/python3.6/dist-packages/keras/backend/tensorflow_backend.py:1033: The name tf.assign_add is deprecated. Please use tf.compat.v1.assign_add instead.\n",
            "\n",
            "WARNING:tensorflow:From /usr/local/lib/python3.6/dist-packages/keras/backend/tensorflow_backend.py:1020: The name tf.assign is deprecated. Please use tf.compat.v1.assign instead.\n",
            "\n",
            "Train on 230 samples, validate on 58 samples\n",
            "Epoch 1/10\n",
            "230/230 [==============================] - 1s 4ms/step - loss: 1.5947 - acc: 0.4087 - val_loss: 1.4972 - val_acc: 0.6552\n",
            "Epoch 2/10\n",
            "230/230 [==============================] - 0s 1ms/step - loss: 1.4254 - acc: 0.6043 - val_loss: 1.3671 - val_acc: 0.6379\n",
            "Epoch 3/10\n",
            "230/230 [==============================] - 0s 1ms/step - loss: 1.2702 - acc: 0.5913 - val_loss: 1.2394 - val_acc: 0.6379\n",
            "Epoch 4/10\n",
            "230/230 [==============================] - 0s 1ms/step - loss: 1.1103 - acc: 0.6000 - val_loss: 1.1071 - val_acc: 0.6724\n",
            "Epoch 5/10\n",
            "230/230 [==============================] - 0s 1ms/step - loss: 0.9455 - acc: 0.6609 - val_loss: 0.9636 - val_acc: 0.7241\n",
            "Epoch 6/10\n",
            "230/230 [==============================] - 0s 1ms/step - loss: 0.7715 - acc: 0.7870 - val_loss: 0.8108 - val_acc: 0.8103\n",
            "Epoch 7/10\n",
            "230/230 [==============================] - 0s 1ms/step - loss: 0.5980 - acc: 0.9043 - val_loss: 0.6582 - val_acc: 0.8621\n",
            "Epoch 8/10\n",
            "230/230 [==============================] - 0s 1ms/step - loss: 0.4342 - acc: 0.9913 - val_loss: 0.5213 - val_acc: 0.9483\n",
            "Epoch 9/10\n",
            "230/230 [==============================] - 0s 1ms/step - loss: 0.3054 - acc: 0.9957 - val_loss: 0.4103 - val_acc: 0.9483\n",
            "Epoch 10/10\n",
            "230/230 [==============================] - 0s 1ms/step - loss: 0.2119 - acc: 0.9957 - val_loss: 0.3268 - val_acc: 0.9655\n"
          ],
          "name": "stdout"
        }
      ]
    },
    {
      "cell_type": "code",
      "metadata": {
        "id": "4HvheylYYI3H",
        "colab_type": "code",
        "colab": {
          "base_uri": "https://localhost:8080/",
          "height": 52
        },
        "outputId": "945310d2-570c-45a4-abee-477eb744e2a2"
      },
      "source": [
        "score = keras_model.evaluate(X_test, y_test)\n",
        "print(\"Test accuracy: {:.3f}\".format(score[1]))"
      ],
      "execution_count": 144,
      "outputs": [
        {
          "output_type": "stream",
          "text": [
            "72/72 [==============================] - 0s 418us/step\n",
            "Test accuracy: 0.917\n"
          ],
          "name": "stdout"
        }
      ]
    },
    {
      "cell_type": "markdown",
      "metadata": {
        "id": "_ckAs0eIYOV4",
        "colab_type": "text"
      },
      "source": [
        "Модель обучилась с точностью ~91%"
      ]
    },
    {
      "cell_type": "code",
      "metadata": {
        "id": "jvI5WROWYS5y",
        "colab_type": "code",
        "colab": {}
      },
      "source": [
        "prediction = keras_model.predict_classes(X_test)"
      ],
      "execution_count": 0,
      "outputs": []
    },
    {
      "cell_type": "code",
      "metadata": {
        "id": "Nut7REoUYZ1S",
        "colab_type": "code",
        "colab": {}
      },
      "source": [
        "y_test_ = []\n",
        "y_test = y_test.tolist()\n",
        "for i in range(len(y_test)):\n",
        "  y_test_.append(unique_intents[y_test[i].index(1)])"
      ],
      "execution_count": 0,
      "outputs": []
    },
    {
      "cell_type": "code",
      "metadata": {
        "id": "o0axrA-BYc6B",
        "colab_type": "code",
        "colab": {}
      },
      "source": [
        "prediction_ = transform_from_categorical(prediction, unique_intents)"
      ],
      "execution_count": 0,
      "outputs": []
    },
    {
      "cell_type": "code",
      "metadata": {
        "id": "hTM4j5YIYfAI",
        "colab_type": "code",
        "colab": {}
      },
      "source": [
        "import seaborn as sn"
      ],
      "execution_count": 0,
      "outputs": []
    },
    {
      "cell_type": "code",
      "metadata": {
        "id": "PAAXeZJUYg5s",
        "colab_type": "code",
        "colab": {}
      },
      "source": [
        "import matplotlib.pyplot as plt"
      ],
      "execution_count": 0,
      "outputs": []
    },
    {
      "cell_type": "code",
      "metadata": {
        "id": "O6MZE8E4Yifz",
        "colab_type": "code",
        "colab": {
          "base_uri": "https://localhost:8080/",
          "height": 624
        },
        "outputId": "b4e49912-5a44-417b-95fd-5d338e6990fa"
      },
      "source": [
        "data = {'prediction': prediction_,\n",
        "        'actual':    y_test_\n",
        "        }\n",
        "\n",
        "df = pd.DataFrame(data, columns = ['actual','prediction'])\n",
        "confusion_matrix = pd.crosstab(df['actual'], df['prediction'], rownames = ['Actual'], colnames = ['Predicted'])\n",
        "plt.figure(figsize=(25, 10))\n",
        "sn.heatmap(confusion_matrix, annot=True,cmap=\"Greys\")"
      ],
      "execution_count": 150,
      "outputs": [
        {
          "output_type": "execute_result",
          "data": {
            "text/plain": [
              "<matplotlib.axes._subplots.AxesSubplot at 0x7f54be4727b8>"
            ]
          },
          "metadata": {
            "tags": []
          },
          "execution_count": 150
        },
        {
          "output_type": "display_data",
          "data": {
            "image/png": "[encoded data removed]",
            "text/plain": [
              "<Figure size 1800x720 with 2 Axes>"
            ]
          },
          "metadata": {
            "tags": []
          }
        }
      ]
    },
    {
      "cell_type": "markdown",
      "metadata": {
        "id": "Ggt-kVRyYuci",
        "colab_type": "text"
      },
      "source": [
        "Тестирование (проверка работы) классификатора на небольших данных"
      ]
    },
    {
      "cell_type": "code",
      "metadata": {
        "id": "WSI2uQM-YveO",
        "colab_type": "code",
        "colab": {}
      },
      "source": [
        "test = ['какая погода в Кирове', 'во сколько закрывается аптека', 'я люблю слушать музыку в наушниках', \n",
        "        'додо пицца заказать онлайн', 'разбудите меня в семь вечера'] "
      ],
      "execution_count": 0,
      "outputs": []
    },
    {
      "cell_type": "code",
      "metadata": {
        "id": "DSG02jCxZU4L",
        "colab_type": "code",
        "colab": {}
      },
      "source": [
        "test_sentence = np.array([tokenize(text) for text in test])"
      ],
      "execution_count": 0,
      "outputs": []
    },
    {
      "cell_type": "code",
      "metadata": {
        "id": "7816Esy4ZA2v",
        "colab_type": "code",
        "colab": {
          "base_uri": "https://localhost:8080/",
          "height": 34
        },
        "outputId": "535be68e-bf60-495c-d50a-8d50c843c6a7"
      },
      "source": [
        "sequences_test = tokenizer.texts_to_sequences(test_sentence)\n",
        "sequences_test"
      ],
      "execution_count": 155,
      "outputs": [
        {
          "output_type": "execute_result",
          "data": {
            "text/plain": [
              "[[23], [8, 82], [220, 17, 2], [9], [33]]"
            ]
          },
          "metadata": {
            "tags": []
          },
          "execution_count": 155
        }
      ]
    },
    {
      "cell_type": "code",
      "metadata": {
        "id": "RYJdVTcDZoy2",
        "colab_type": "code",
        "colab": {}
      },
      "source": [
        "X_predict = pad_sequences(sequences_test, maxlen = maxlen)"
      ],
      "execution_count": 0,
      "outputs": []
    },
    {
      "cell_type": "code",
      "metadata": {
        "id": "UxE5Un1-ZrMB",
        "colab_type": "code",
        "colab": {}
      },
      "source": [
        "prediction = keras_model.predict_classes(X_predict)"
      ],
      "execution_count": 0,
      "outputs": []
    },
    {
      "cell_type": "code",
      "metadata": {
        "id": "BFF8IqtJZtXc",
        "colab_type": "code",
        "colab": {
          "base_uri": "https://localhost:8080/",
          "height": 34
        },
        "outputId": "4cdd7a72-7c56-401b-f91e-673cf1d63942"
      },
      "source": [
        "answers = transform_from_categorical(prediction, unique_intents.to_list()) \n",
        "answers"
      ],
      "execution_count": 159,
      "outputs": [
        {
          "output_type": "execute_result",
          "data": {
            "text/plain": [
              "['Прогноз_Погоды', 'График_Работы', 'О_Музыке', 'Заказать_Еду', 'Будильник']"
            ]
          },
          "metadata": {
            "tags": []
          },
          "execution_count": 159
        }
      ]
    }
  ]
}