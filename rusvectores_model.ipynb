{
  "nbformat": 4,
  "nbformat_minor": 0,
  "metadata": {
    "colab": {
      "name": "rusvectores_model.ipynb",
      "provenance": [],
      "toc_visible": true,
      "include_colab_link": true
    },
    "kernelspec": {
      "name": "python3",
      "display_name": "Python 3"
    }
  },
  "cells": [
    {
      "cell_type": "markdown",
      "metadata": {
        "id": "view-in-github",
        "colab_type": "text"
      },
      "source": [
        "<a href=\"https://colab.research.google.com/github/theKirill/GensimSample/blob/rusvectores/rusvectores_model.ipynb\" target=\"_parent\"><img src=\"https://colab.research.google.com/assets/colab-badge.svg\" alt=\"Open In Colab\"/></a>"
      ]
    },
    {
      "cell_type": "markdown",
      "metadata": {
        "id": "fb-QojQFpSTc",
        "colab_type": "text"
      },
      "source": [
        "# Русскоязычный классификатор интентов"
      ]
    },
    {
      "cell_type": "code",
      "metadata": {
        "id": "eWUAQl9xGXXH",
        "colab_type": "code",
        "outputId": "3b8079f9-5418-472f-f685-6e220ca440cc",
        "colab": {
          "base_uri": "https://localhost:8080/",
          "height": 80
        }
      },
      "source": [
        "from gensim.models import KeyedVectors\n",
        "from keras.layers.core import Dense, SpatialDropout1D\n",
        "from keras.layers.convolutional import Conv1D\n",
        "from keras.layers.embeddings import Embedding\n",
        "from keras.layers.pooling import GlobalMaxPooling1D\n",
        "from keras.models import Sequential\n",
        "from keras.preprocessing.sequence import pad_sequences\n",
        "from keras.utils import np_utils\n",
        "from sklearn.model_selection import train_test_split\n",
        "import collections\n",
        "import nltk\n",
        "import numpy as np\n",
        "import codecs\n",
        "import pandas as pd\n",
        "import gensim\n",
        "from nltk.corpus import stopwords\n",
        "from gensim.models import Word2Vec\n",
        "import keras\n",
        "from keras.preprocessing.text import Tokenizer\n",
        "from keras.layers import Dense, Flatten, Embedding, Dropout, Conv1D, GlobalMaxPooling1D, Activation\n",
        "from keras.models import Model\n",
        "import sklearn\n",
        "from sklearn.model_selection import train_test_split\n",
        "from keras.utils import to_categorical\n",
        "from keras.models import save_model, load_model\n",
        "from keras.callbacks import ModelCheckpoint\n",
        "from nltk.tokenize import RegexpTokenizer\n",
        "import collections"
      ],
      "execution_count": 1,
      "outputs": [
        {
          "output_type": "stream",
          "text": [
            "Using TensorFlow backend.\n"
          ],
          "name": "stderr"
        },
        {
          "output_type": "display_data",
          "data": {
            "text/html": [
              "<p style=\"color: red;\">\n",
              "The default version of TensorFlow in Colab will soon switch to TensorFlow 2.x.<br>\n",
              "We recommend you <a href=\"https://www.tensorflow.org/guide/migrate\" target=\"_blank\">upgrade</a> now \n",
              "or ensure your notebook will continue to use TensorFlow 1.x via the <code>%tensorflow_version 1.x</code> magic:\n",
              "<a href=\"https://colab.research.google.com/notebooks/tensorflow_version.ipynb\" target=\"_blank\">more info</a>.</p>\n"
            ],
            "text/plain": [
              "<IPython.core.display.HTML object>"
            ]
          },
          "metadata": {
            "tags": []
          }
        }
      ]
    },
    {
      "cell_type": "code",
      "metadata": {
        "id": "jI1sO_iYjnaZ",
        "colab_type": "code",
        "colab": {}
      },
      "source": [
        "import keras_metrics"
      ],
      "execution_count": 0,
      "outputs": []
    },
    {
      "cell_type": "code",
      "metadata": {
        "id": "yxL4RsPfjohx",
        "colab_type": "code",
        "outputId": "2f8aeda7-323f-405a-d7f3-3e357ff75af7",
        "colab": {
          "base_uri": "https://localhost:8080/",
          "height": 221
        }
      },
      "source": [
        "!pip install keras_metrics"
      ],
      "execution_count": 3,
      "outputs": [
        {
          "output_type": "stream",
          "text": [
            "Collecting keras_metrics\n",
            "  Downloading https://files.pythonhosted.org/packages/32/c9/a87420da8e73de944e63a8e9cdcfb1f03ca31a7c4cdcdbd45d2cdf13275a/keras_metrics-1.1.0-py2.py3-none-any.whl\n",
            "Requirement already satisfied: Keras>=2.1.5 in /usr/local/lib/python3.6/dist-packages (from keras_metrics) (2.2.5)\n",
            "Requirement already satisfied: six>=1.9.0 in /usr/local/lib/python3.6/dist-packages (from Keras>=2.1.5->keras_metrics) (1.12.0)\n",
            "Requirement already satisfied: h5py in /usr/local/lib/python3.6/dist-packages (from Keras>=2.1.5->keras_metrics) (2.8.0)\n",
            "Requirement already satisfied: pyyaml in /usr/local/lib/python3.6/dist-packages (from Keras>=2.1.5->keras_metrics) (3.13)\n",
            "Requirement already satisfied: keras-applications>=1.0.8 in /usr/local/lib/python3.6/dist-packages (from Keras>=2.1.5->keras_metrics) (1.0.8)\n",
            "Requirement already satisfied: keras-preprocessing>=1.1.0 in /usr/local/lib/python3.6/dist-packages (from Keras>=2.1.5->keras_metrics) (1.1.0)\n",
            "Requirement already satisfied: numpy>=1.9.1 in /usr/local/lib/python3.6/dist-packages (from Keras>=2.1.5->keras_metrics) (1.17.4)\n",
            "Requirement already satisfied: scipy>=0.14 in /usr/local/lib/python3.6/dist-packages (from Keras>=2.1.5->keras_metrics) (1.3.3)\n",
            "Installing collected packages: keras-metrics\n",
            "Successfully installed keras-metrics-1.1.0\n"
          ],
          "name": "stdout"
        }
      ]
    },
    {
      "cell_type": "code",
      "metadata": {
        "id": "IGh7tdttGi75",
        "colab_type": "code",
        "outputId": "8fa787a0-06fc-445f-a4ab-a9ccb0957553",
        "colab": {
          "base_uri": "https://localhost:8080/",
          "height": 122
        }
      },
      "source": [
        "from google.colab import drive\n",
        "drive.mount('/content/drive')"
      ],
      "execution_count": 5,
      "outputs": [
        {
          "output_type": "stream",
          "text": [
            "Go to this URL in a browser: https://accounts.google.com/o/oauth2/auth?client_id=947318989803-6bn6qk8qdgf4n4g3pfee6491hc0brc4i.apps.googleusercontent.com&redirect_uri=urn%3aietf%3awg%3aoauth%3a2.0%3aoob&response_type=code&scope=email%20https%3a%2f%2fwww.googleapis.com%2fauth%2fdocs.test%20https%3a%2f%2fwww.googleapis.com%2fauth%2fdrive%20https%3a%2f%2fwww.googleapis.com%2fauth%2fdrive.photos.readonly%20https%3a%2f%2fwww.googleapis.com%2fauth%2fpeopleapi.readonly\n",
            "\n",
            "Enter your authorization code:\n",
            "··········\n",
            "Mounted at /content/drive\n"
          ],
          "name": "stdout"
        }
      ]
    },
    {
      "cell_type": "code",
      "metadata": {
        "id": "dQU9l3fMGu_7",
        "colab_type": "code",
        "outputId": "7fd62dc2-f035-44d2-b450-4f7782a0b6fa",
        "colab": {
          "base_uri": "https://localhost:8080/",
          "height": 102
        }
      },
      "source": [
        "nltk.download('punkt')\n",
        "nltk.download('stopwords')"
      ],
      "execution_count": 6,
      "outputs": [
        {
          "output_type": "stream",
          "text": [
            "[nltk_data] Downloading package punkt to /root/nltk_data...\n",
            "[nltk_data]   Unzipping tokenizers/punkt.zip.\n",
            "[nltk_data] Downloading package stopwords to /root/nltk_data...\n",
            "[nltk_data]   Unzipping corpora/stopwords.zip.\n"
          ],
          "name": "stdout"
        },
        {
          "output_type": "execute_result",
          "data": {
            "text/plain": [
              "True"
            ]
          },
          "metadata": {
            "tags": []
          },
          "execution_count": 6
        }
      ]
    },
    {
      "cell_type": "markdown",
      "metadata": {
        "id": "1iyntmYpL_9-",
        "colab_type": "text"
      },
      "source": [
        "Импорт русскоязычной модели word2vec"
      ]
    },
    {
      "cell_type": "code",
      "metadata": {
        "id": "eQL68CQeq4be",
        "colab_type": "code",
        "colab": {}
      },
      "source": [
        "import gensim.downloader as api"
      ],
      "execution_count": 0,
      "outputs": []
    },
    {
      "cell_type": "code",
      "metadata": {
        "id": "TC6joqtzrjNP",
        "colab_type": "code",
        "outputId": "19f9820e-6283-4d66-e9e0-f7b7059e7d0d",
        "colab": {
          "base_uri": "https://localhost:8080/",
          "height": 88
        }
      },
      "source": [
        "model = api.load(\"word2vec-ruscorpora-300\")"
      ],
      "execution_count": 8,
      "outputs": [
        {
          "output_type": "stream",
          "text": [
            "[==================================================] 100.0% 198.8/198.8MB downloaded\n"
          ],
          "name": "stdout"
        },
        {
          "output_type": "stream",
          "text": [
            "/usr/local/lib/python3.6/dist-packages/smart_open/smart_open_lib.py:402: UserWarning: This function is deprecated, use smart_open.open instead. See the migration notes for details: https://github.com/RaRe-Technologies/smart_open/blob/master/README.rst#migrating-to-the-new-open-function\n",
            "  'See the migration notes for details: %s' % _MIGRATION_NOTES_URL\n"
          ],
          "name": "stderr"
        }
      ]
    },
    {
      "cell_type": "markdown",
      "metadata": {
        "id": "qsWltK6PMF01",
        "colab_type": "text"
      },
      "source": [
        "Количество слов в словаре - почти 185к"
      ]
    },
    {
      "cell_type": "code",
      "metadata": {
        "id": "RqILf1hrsjAn",
        "colab_type": "code",
        "outputId": "f07ea1c2-1379-4ec8-9744-887e51dcd37c",
        "colab": {
          "base_uri": "https://localhost:8080/",
          "height": 34
        }
      },
      "source": [
        "len(model.vocab)"
      ],
      "execution_count": 9,
      "outputs": [
        {
          "output_type": "execute_result",
          "data": {
            "text/plain": [
              "184973"
            ]
          },
          "metadata": {
            "tags": []
          },
          "execution_count": 9
        }
      ]
    },
    {
      "cell_type": "code",
      "metadata": {
        "id": "q7GiDddBsmkK",
        "colab_type": "code",
        "outputId": "d4006faa-2a82-4d87-a2b3-01c4890aafda",
        "colab": {
          "base_uri": "https://localhost:8080/",
          "height": 88
        }
      },
      "source": [
        "model.most_similar('добавлять_VERB', topn = 1)"
      ],
      "execution_count": 12,
      "outputs": [
        {
          "output_type": "stream",
          "text": [
            "/usr/local/lib/python3.6/dist-packages/gensim/matutils.py:737: FutureWarning: Conversion of the second argument of issubdtype from `int` to `np.signedinteger` is deprecated. In future, it will be treated as `np.int64 == np.dtype(int).type`.\n",
            "  if np.issubdtype(vec.dtype, np.int):\n"
          ],
          "name": "stderr"
        },
        {
          "output_type": "execute_result",
          "data": {
            "text/plain": [
              "[('прибавлять_VERB', 0.6648961305618286)]"
            ]
          },
          "metadata": {
            "tags": []
          },
          "execution_count": 12
        }
      ]
    },
    {
      "cell_type": "markdown",
      "metadata": {
        "id": "KFi9FtUjMObT",
        "colab_type": "text"
      },
      "source": [
        "Импорт размеченных русскоязычных данных\n",
        "\n",
        "*   https://github.com/Koziev/chatbot/blob/master/data/intents.txt\n"
      ]
    },
    {
      "cell_type": "code",
      "metadata": {
        "id": "LC_VJrcbs2aF",
        "colab_type": "code",
        "colab": {}
      },
      "source": [
        "file_excel = pd.read_excel('drive/My Drive/ForGensim/russian_train.xlsx', sheet_name='russian_train')"
      ],
      "execution_count": 0,
      "outputs": []
    },
    {
      "cell_type": "code",
      "metadata": {
        "id": "YsfOcO3k2Ohq",
        "colab_type": "code",
        "outputId": "ae8d9c10-87e8-44ee-8ee8-d4067c2accbc",
        "colab": {
          "base_uri": "https://localhost:8080/",
          "height": 241
        }
      },
      "source": [
        "file_excel[:4]"
      ],
      "execution_count": 14,
      "outputs": [
        {
          "output_type": "execute_result",
          "data": {
            "text/html": [
              "<div>\n",
              "<style scoped>\n",
              "    .dataframe tbody tr th:only-of-type {\n",
              "        vertical-align: middle;\n",
              "    }\n",
              "\n",
              "    .dataframe tbody tr th {\n",
              "        vertical-align: top;\n",
              "    }\n",
              "\n",
              "    .dataframe thead th {\n",
              "        text-align: right;\n",
              "    }\n",
              "</style>\n",
              "<table border=\"1\" class=\"dataframe\">\n",
              "  <thead>\n",
              "    <tr style=\"text-align: right;\">\n",
              "      <th></th>\n",
              "      <th>О_Музыке</th>\n",
              "      <th>Прогноз_Погоды</th>\n",
              "      <th>График_Работы</th>\n",
              "      <th>Заказать_Еду</th>\n",
              "      <th>Будильник</th>\n",
              "    </tr>\n",
              "  </thead>\n",
              "  <tbody>\n",
              "    <tr>\n",
              "      <th>0</th>\n",
              "      <td>Оркестр играл Похоронный марш Бетховена</td>\n",
              "      <td>На следующей неделе пойдет снег?</td>\n",
              "      <td>Отделение банка работает в субботу?</td>\n",
              "      <td>Закажи две пиццы</td>\n",
              "      <td>разбуди меня завтра в шесть</td>\n",
              "    </tr>\n",
              "    <tr>\n",
              "      <th>1</th>\n",
              "      <td>Возьму барабаны и вступлю в рок-группу</td>\n",
              "      <td>меня интересует вероятность дождя в ближайшие ...</td>\n",
              "      <td>До скольки работает касса?</td>\n",
              "      <td>Как бесплатно заказать еду на дом или по больш...</td>\n",
              "      <td>разбуди меня завтра в шесть часов</td>\n",
              "    </tr>\n",
              "    <tr>\n",
              "      <th>2</th>\n",
              "      <td>Для них пелись самые разные песни</td>\n",
              "      <td>мне интересно знать усилится ли ветер после обеда</td>\n",
              "      <td>Во сколько заканчивает работу касса?</td>\n",
              "      <td>как мне заказать кумыс в Москве?</td>\n",
              "      <td>разбуди меня завтра в семь</td>\n",
              "    </tr>\n",
              "    <tr>\n",
              "      <th>3</th>\n",
              "      <td>Из зала доносились звуки оркестра</td>\n",
              "      <td>Идет дождь?</td>\n",
              "      <td>До которого часа касса работает?</td>\n",
              "      <td>Плюс можно заказать поесть.</td>\n",
              "      <td>разбуди меня завтра в семь часов</td>\n",
              "    </tr>\n",
              "  </tbody>\n",
              "</table>\n",
              "</div>"
            ],
            "text/plain": [
              "                                  О_Музыке  ...                          Будильник\n",
              "0  Оркестр играл Похоронный марш Бетховена  ...        разбуди меня завтра в шесть\n",
              "1   Возьму барабаны и вступлю в рок-группу  ...  разбуди меня завтра в шесть часов\n",
              "2        Для них пелись самые разные песни  ...         разбуди меня завтра в семь\n",
              "3        Из зала доносились звуки оркестра  ...   разбуди меня завтра в семь часов\n",
              "\n",
              "[4 rows x 5 columns]"
            ]
          },
          "metadata": {
            "tags": []
          },
          "execution_count": 14
        }
      ]
    },
    {
      "cell_type": "code",
      "metadata": {
        "id": "WK_nj7NsJU7G",
        "colab_type": "code",
        "colab": {}
      },
      "source": [
        "unique_intents = file_excel.columns"
      ],
      "execution_count": 0,
      "outputs": []
    },
    {
      "cell_type": "code",
      "metadata": {
        "id": "FGUA2IJxJd4D",
        "colab_type": "code",
        "outputId": "512725ea-158f-418e-af16-bf29753568c5",
        "colab": {
          "base_uri": "https://localhost:8080/",
          "height": 68
        }
      },
      "source": [
        "unique_intents"
      ],
      "execution_count": 16,
      "outputs": [
        {
          "output_type": "execute_result",
          "data": {
            "text/plain": [
              "Index(['О_Музыке', 'Прогноз_Погоды', 'График_Работы', 'Заказать_Еду',\n",
              "       'Будильник'],\n",
              "      dtype='object')"
            ]
          },
          "metadata": {
            "tags": []
          },
          "execution_count": 16
        }
      ]
    },
    {
      "cell_type": "code",
      "metadata": {
        "id": "cAVhx_nXJ6me",
        "colab_type": "code",
        "colab": {}
      },
      "source": [
        "all_texts, all_intents = [], []\n",
        "\n",
        "for intent in unique_intents:\n",
        "  for text in file_excel[intent]:\n",
        "    if pd.isnull(text):\n",
        "      break\n",
        "    else:\n",
        "      all_texts.append(text)\n",
        "      all_intents.append(intent)"
      ],
      "execution_count": 0,
      "outputs": []
    },
    {
      "cell_type": "markdown",
      "metadata": {
        "id": "4dLl3MUFL88w",
        "colab_type": "text"
      },
      "source": [
        "Подготовка данных (разделение на слова, удаление стоп-слов, пунктуации и добавление к словам части речи для корректной работы с моделью word2vec)"
      ]
    },
    {
      "cell_type": "code",
      "metadata": {
        "id": "NiN-8mRwPzzs",
        "colab_type": "code",
        "outputId": "47b2ef98-870f-4b82-c663-12228475c91c",
        "colab": {
          "base_uri": "https://localhost:8080/",
          "height": 204
        }
      },
      "source": [
        "pip install pymorphy2"
      ],
      "execution_count": 18,
      "outputs": [
        {
          "output_type": "stream",
          "text": [
            "Collecting pymorphy2\n",
            "\u001b[?25l  Downloading https://files.pythonhosted.org/packages/a3/33/fff9675c68b5f6c63ec8c6e6ff57827dda28a1fa5b2c2d727dffff92dd47/pymorphy2-0.8-py2.py3-none-any.whl (46kB)\n",
            "\r\u001b[K     |███████                         | 10kB 9.0MB/s eta 0:00:01\r\u001b[K     |██████████████▏                 | 20kB 7.2MB/s eta 0:00:01\r\u001b[K     |█████████████████████▎          | 30kB 9.7MB/s eta 0:00:01\r\u001b[K     |████████████████████████████▍   | 40kB 6.2MB/s eta 0:00:01\r\u001b[K     |████████████████████████████████| 51kB 4.0MB/s \n",
            "\u001b[?25hRequirement already satisfied: docopt>=0.6 in /usr/local/lib/python3.6/dist-packages (from pymorphy2) (0.6.2)\n",
            "Collecting pymorphy2-dicts<3.0,>=2.4\n",
            "\u001b[?25l  Downloading https://files.pythonhosted.org/packages/02/51/2465fd4f72328ab50877b54777764d928da8cb15b74e2680fc1bd8cb3173/pymorphy2_dicts-2.4.393442.3710985-py2.py3-none-any.whl (7.1MB)\n",
            "\u001b[K     |████████████████████████████████| 7.1MB 25.5MB/s \n",
            "\u001b[?25hCollecting dawg-python>=0.7\n",
            "  Downloading https://files.pythonhosted.org/packages/6a/84/ff1ce2071d4c650ec85745766c0047ccc3b5036f1d03559fd46bb38b5eeb/DAWG_Python-0.7.2-py2.py3-none-any.whl\n",
            "Installing collected packages: pymorphy2-dicts, dawg-python, pymorphy2\n",
            "Successfully installed dawg-python-0.7.2 pymorphy2-0.8 pymorphy2-dicts-2.4.393442.3710985\n"
          ],
          "name": "stdout"
        }
      ]
    },
    {
      "cell_type": "code",
      "metadata": {
        "id": "fdtgFINXPyGR",
        "colab_type": "code",
        "colab": {}
      },
      "source": [
        "import pymorphy2"
      ],
      "execution_count": 0,
      "outputs": []
    },
    {
      "cell_type": "code",
      "metadata": {
        "id": "Ujma1M6bwnEO",
        "colab_type": "code",
        "colab": {}
      },
      "source": [
        "morph = pymorphy2.MorphAnalyzer()#для перевода в нормальную форму"
      ],
      "execution_count": 0,
      "outputs": []
    },
    {
      "cell_type": "code",
      "metadata": {
        "id": "VQDMSnrlMlwQ",
        "colab_type": "code",
        "colab": {}
      },
      "source": [
        "def tokenize(text):\n",
        "  regex_tokenizer = RegexpTokenizer('[а-яА-ЯЁё]+')\n",
        "  words = regex_tokenizer.tokenize(text.lower())\n",
        "  stop_words = set(stopwords.words(\"russian\"))\n",
        "  without_stop_words = [(morph.parse(w)[0]).normal_form for w in words if w not in stop_words and len(w) > 1]\n",
        "  output = [add_part_of_speech(word) for word in without_stop_words]\n",
        "  #print(output)\n",
        "  return output"
      ],
      "execution_count": 0,
      "outputs": []
    },
    {
      "cell_type": "code",
      "metadata": {
        "id": "iwzk8K2jQHJO",
        "colab_type": "code",
        "colab": {}
      },
      "source": [
        "def add_part_of_speech(word):\n",
        "  morph = pymorphy2.MorphAnalyzer()\n",
        "  p = morph.parse(word)[0]\n",
        "  word += '_' + str(p.tag.POS)\n",
        "  return word"
      ],
      "execution_count": 0,
      "outputs": []
    },
    {
      "cell_type": "code",
      "metadata": {
        "id": "ulP0m6M0SEzE",
        "colab_type": "code",
        "colab": {}
      },
      "source": [
        "sentences = np.array([tokenize(text) for text in all_texts])"
      ],
      "execution_count": 0,
      "outputs": []
    },
    {
      "cell_type": "code",
      "metadata": {
        "id": "UD7DqGVgx_n9",
        "colab_type": "code",
        "outputId": "57bbe7c0-dc26-4742-d89b-232dc79b0dba",
        "colab": {
          "base_uri": "https://localhost:8080/",
          "height": 139
        }
      },
      "source": [
        "sentences[:5]"
      ],
      "execution_count": 24,
      "outputs": [
        {
          "output_type": "execute_result",
          "data": {
            "text/plain": [
              "array([list(['оркестр_NOUN', 'играть_INFN', 'похоронный_ADJF', 'марш_INTJ', 'бетховен_NOUN']),\n",
              "       list(['взять_INFN', 'барабан_NOUN', 'вступить_INFN', 'рок_NOUN', 'группа_NOUN']),\n",
              "       list(['петься_INFN', 'самый_ADJF', 'разный_ADJF', 'песнь_NOUN']),\n",
              "       list(['зал_NOUN', 'доноситься_INFN', 'звук_NOUN', 'оркестр_NOUN']),\n",
              "       list(['мочь_NOUN', 'посоветовать_INFN', 'хороший_ADJF', 'душерздерать_INFN', 'песнь_NOUN', 'любовь_NOUN', 'хороший_ADJF', 'примитивный_ADJF', 'текст_NOUN', 'красивый_ADJF', 'музыка_NOUN'])],\n",
              "      dtype=object)"
            ]
          },
          "metadata": {
            "tags": []
          },
          "execution_count": 24
        }
      ]
    },
    {
      "cell_type": "code",
      "metadata": {
        "id": "YyuF9WaQUWLr",
        "colab_type": "code",
        "colab": {}
      },
      "source": [
        "counter = collections.Counter()"
      ],
      "execution_count": 0,
      "outputs": []
    },
    {
      "cell_type": "code",
      "metadata": {
        "id": "optV1m5PUDEI",
        "colab_type": "code",
        "colab": {}
      },
      "source": [
        "#считаем максимальную длину предложений, а также частоту всех слов предложений, считанных из файла \n",
        "maxlen = 0\n",
        "for words in sentences:\n",
        "    if len(words) > maxlen:\n",
        "        maxlen = len(words)\n",
        "    for word in words:\n",
        "        counter[word] += 1"
      ],
      "execution_count": 0,
      "outputs": []
    },
    {
      "cell_type": "code",
      "metadata": {
        "id": "TAkndHDeUb0s",
        "colab_type": "code",
        "colab": {}
      },
      "source": [
        "vocab_sz = len(counter) + 1 #кол-во различных слов в sentences"
      ],
      "execution_count": 0,
      "outputs": []
    },
    {
      "cell_type": "markdown",
      "metadata": {
        "id": "AqDygY_5UgSb",
        "colab_type": "text"
      },
      "source": [
        "Подготовка данных для обучения для основе ruscorpora"
      ]
    },
    {
      "cell_type": "code",
      "metadata": {
        "id": "0M6_uK_WU4MB",
        "colab_type": "code",
        "colab": {}
      },
      "source": [
        "# Преобразование номеров классов в названия классов\n",
        "def transform_from_categorical(prediction, intents):\n",
        "  answers = []\n",
        "\n",
        "  for i in range(prediction.shape[0]):\n",
        "    answers.append(intents[prediction[i]])\n",
        "\n",
        "  return answers\n",
        "\n",
        "# Преобразование названий классов в матрицу двоичных чисел (нужно для keras)\n",
        "def transform_to_categorical(intents_for_each, unique_intents):\n",
        "  intents_to_digit = []\n",
        "\n",
        "  for intent in intents_for_each:\n",
        "    intents_to_digit.append(unique_intents.index(intent))\n",
        "\n",
        "  return to_categorical(intents_to_digit, len(unique_intents))"
      ],
      "execution_count": 0,
      "outputs": []
    },
    {
      "cell_type": "code",
      "metadata": {
        "id": "HRdsbpkYUliu",
        "colab_type": "code",
        "colab": {}
      },
      "source": [
        "# Создание единого словаря (слово -> число) для преобразования на основе списка текстов sentences\n",
        "tokenizer = Tokenizer()\n",
        "tokenizer.fit_on_texts(sentences)"
      ],
      "execution_count": 0,
      "outputs": []
    },
    {
      "cell_type": "code",
      "metadata": {
        "id": "lyDJzfEgUpO0",
        "colab_type": "code",
        "colab": {}
      },
      "source": [
        "X = tokenizer.texts_to_sequences(sentences) #заменяем слова каждого предложения на числа"
      ],
      "execution_count": 0,
      "outputs": []
    },
    {
      "cell_type": "code",
      "metadata": {
        "id": "Vg6MQKGPUye8",
        "colab_type": "code",
        "outputId": "43419820-6784-4328-ef81-48bdb07f7a61",
        "colab": {
          "base_uri": "https://localhost:8080/",
          "height": 34
        }
      },
      "source": [
        "X[:3]"
      ],
      "execution_count": 31,
      "outputs": [
        {
          "output_type": "execute_result",
          "data": {
            "text/plain": [
              "[[113, 63, 352, 353, 206], [354, 355, 356, 36, 31], [207, 51, 143, 12]]"
            ]
          },
          "metadata": {
            "tags": []
          },
          "execution_count": 31
        }
      ]
    },
    {
      "cell_type": "code",
      "metadata": {
        "id": "4V4_pDJtXOIq",
        "colab_type": "code",
        "colab": {}
      },
      "source": [
        "X = pad_sequences(X, maxlen = maxlen) #уравниваем все предложения до размера maxlen"
      ],
      "execution_count": 0,
      "outputs": []
    },
    {
      "cell_type": "code",
      "metadata": {
        "id": "cafUsbnTmTf2",
        "colab_type": "code",
        "outputId": "3b00e448-fc14-4fb9-9c05-3415d7c82cb3",
        "colab": {
          "base_uri": "https://localhost:8080/",
          "height": 119
        }
      },
      "source": [
        "X[:3]"
      ],
      "execution_count": 33,
      "outputs": [
        {
          "output_type": "execute_result",
          "data": {
            "text/plain": [
              "array([[  0,   0,   0,   0,   0,   0,   0,   0,   0,   0,   0,   0,   0,\n",
              "          0,   0,   0, 113,  63, 352, 353, 206],\n",
              "       [  0,   0,   0,   0,   0,   0,   0,   0,   0,   0,   0,   0,   0,\n",
              "          0,   0,   0, 354, 355, 356,  36,  31],\n",
              "       [  0,   0,   0,   0,   0,   0,   0,   0,   0,   0,   0,   0,   0,\n",
              "          0,   0,   0,   0, 207,  51, 143,  12]], dtype=int32)"
            ]
          },
          "metadata": {
            "tags": []
          },
          "execution_count": 33
        }
      ]
    },
    {
      "cell_type": "code",
      "metadata": {
        "id": "qZ8GY1hzUzTH",
        "colab_type": "code",
        "colab": {}
      },
      "source": [
        "y = transform_to_categorical(all_intents, unique_intents.to_list())#заменяем названия интентов на матрицу двоичных чисел"
      ],
      "execution_count": 0,
      "outputs": []
    },
    {
      "cell_type": "code",
      "metadata": {
        "id": "ELDqiQB_W9fG",
        "colab_type": "code",
        "outputId": "8f2c9a24-ff1f-4c45-f2df-138faca6d897",
        "colab": {
          "base_uri": "https://localhost:8080/",
          "height": 595
        }
      },
      "source": [
        "y[511:]"
      ],
      "execution_count": 140,
      "outputs": [
        {
          "output_type": "execute_result",
          "data": {
            "text/plain": [
              "array([[0., 0., 0., 1., 0.],\n",
              "       [0., 0., 0., 0., 1.],\n",
              "       [0., 0., 0., 0., 1.],\n",
              "       [0., 0., 0., 0., 1.],\n",
              "       [0., 0., 0., 0., 1.],\n",
              "       [0., 0., 0., 0., 1.],\n",
              "       [0., 0., 0., 0., 1.],\n",
              "       [0., 0., 0., 0., 1.],\n",
              "       [0., 0., 0., 0., 1.],\n",
              "       [0., 0., 0., 0., 1.],\n",
              "       [0., 0., 0., 0., 1.],\n",
              "       [0., 0., 0., 0., 1.],\n",
              "       [0., 0., 0., 0., 1.],\n",
              "       [0., 0., 0., 0., 1.],\n",
              "       [0., 0., 0., 0., 1.],\n",
              "       [0., 0., 0., 0., 1.],\n",
              "       [0., 0., 0., 0., 1.],\n",
              "       [0., 0., 0., 0., 1.],\n",
              "       [0., 0., 0., 0., 1.],\n",
              "       [0., 0., 0., 0., 1.],\n",
              "       [0., 0., 0., 0., 1.],\n",
              "       [0., 0., 0., 0., 1.],\n",
              "       [0., 0., 0., 0., 1.],\n",
              "       [0., 0., 0., 0., 1.],\n",
              "       [0., 0., 0., 0., 1.],\n",
              "       [0., 0., 0., 0., 1.],\n",
              "       [0., 0., 0., 0., 1.],\n",
              "       [0., 0., 0., 0., 1.],\n",
              "       [0., 0., 0., 0., 1.],\n",
              "       [0., 0., 0., 0., 1.],\n",
              "       [0., 0., 0., 0., 1.],\n",
              "       [0., 0., 0., 0., 1.],\n",
              "       [0., 0., 0., 0., 1.],\n",
              "       [0., 0., 0., 0., 1.]], dtype=float32)"
            ]
          },
          "metadata": {
            "tags": []
          },
          "execution_count": 140
        }
      ]
    },
    {
      "cell_type": "code",
      "metadata": {
        "id": "yq8sVEyIoDo-",
        "colab_type": "code",
        "colab": {}
      },
      "source": [
        "# Объединение двух списков\n",
        "def add_new_data(old, new):\n",
        "  result = old\n",
        "\n",
        "  for i in new:\n",
        "    result.append(i)\n",
        "\n",
        "  return result"
      ],
      "execution_count": 0,
      "outputs": []
    },
    {
      "cell_type": "code",
      "metadata": {
        "id": "UQBX71sanPhy",
        "colab_type": "code",
        "colab": {}
      },
      "source": [
        "X_train = X[:20]\n",
        "y_train = y[:20]\n",
        "X_test = X[20:204]\n",
        "y_test = y[20:204]\n",
        "\n",
        "X_train = add_new_data(X_train.tolist(),X[204:225])\n",
        "y_train = add_new_data(y_train.tolist(),y[204:225])\n",
        "X_test = add_new_data(X_test.tolist(),X[225:400])\n",
        "y_test = add_new_data(y_test.tolist(),y[225:400])\n",
        "\n",
        "X_train = add_new_data(X_train,X[400:415])\n",
        "y_train = add_new_data(y_train,y[400:415])\n",
        "X_test = add_new_data(X_test,X[415:460])\n",
        "y_test = add_new_data(y_test,y[415:460])\n",
        "\n",
        "X_train = add_new_data(X_train,X[460:475])\n",
        "y_train = add_new_data(y_train,y[460:475])\n",
        "X_test = add_new_data(X_test,X[475:512])\n",
        "y_test = add_new_data(y_test,y[475:512])\n",
        "\n",
        "X_train = add_new_data(X_train,X[512:532])\n",
        "y_train = add_new_data(y_train,y[512:532])\n",
        "X_test = add_new_data(X_test,X[532:])\n",
        "y_test = add_new_data(y_test,y[532:])"
      ],
      "execution_count": 0,
      "outputs": []
    },
    {
      "cell_type": "code",
      "metadata": {
        "id": "Gh1m7WDqXUDe",
        "colab_type": "code",
        "outputId": "0f049fae-1512-4a09-a8a2-ad9478a0475b",
        "colab": {
          "base_uri": "https://localhost:8080/",
          "height": 34
        }
      },
      "source": [
        "# X_train, X_test, y_train, y_test = \\\n",
        "#     train_test_split(X, y, test_size = 0.91)\n",
        "# print(X_train.shape, X_test.shape, y_train.shape, y_test.shape)"
      ],
      "execution_count": 245,
      "outputs": [
        {
          "output_type": "stream",
          "text": [
            "(49, 21) (496, 21) (49, 5) (496, 5)\n"
          ],
          "name": "stdout"
        }
      ]
    },
    {
      "cell_type": "code",
      "metadata": {
        "id": "1lEytUvjmNax",
        "colab_type": "code",
        "colab": {}
      },
      "source": [
        "how_much_for_each_class = np.zeros(5)\n",
        "y_train_list = (np.array(y_train)).tolist()\n",
        "for i in range(len(y_train)):\n",
        "  if y_train_list[i].index(1) == 0:\n",
        "    how_much_for_each_class[0]+=1\n",
        "  elif y_train_list[i].index(1) == 1:\n",
        "    how_much_for_each_class[1]+=1\n",
        "  elif y_train_list[i].index(1) == 2:\n",
        "    how_much_for_each_class[2]+=1\n",
        "  elif y_train_list[i].index(1) == 3:\n",
        "    how_much_for_each_class[3]+=1\n",
        "  elif y_train_list[i].index(1) == 4:\n",
        "    how_much_for_each_class[4]+=1"
      ],
      "execution_count": 0,
      "outputs": []
    },
    {
      "cell_type": "code",
      "metadata": {
        "id": "dweE2_fKmSKO",
        "colab_type": "code",
        "colab": {
          "base_uri": "https://localhost:8080/",
          "height": 34
        },
        "outputId": "24685688-c368-44e9-9021-55c471a7c702"
      },
      "source": [
        "how_much_for_each_class"
      ],
      "execution_count": 255,
      "outputs": [
        {
          "output_type": "execute_result",
          "data": {
            "text/plain": [
              "array([20., 21., 15., 15., 20.])"
            ]
          },
          "metadata": {
            "tags": []
          },
          "execution_count": 255
        }
      ]
    },
    {
      "cell_type": "markdown",
      "metadata": {
        "id": "QOrku0OjXhRH",
        "colab_type": "text"
      },
      "source": [
        "Создание keras модели"
      ]
    },
    {
      "cell_type": "code",
      "metadata": {
        "id": "Wi15Vc9oXp_v",
        "colab_type": "code",
        "colab": {}
      },
      "source": [
        "EMBED_SIZE = 300\n",
        "NUM_FILTERS = 512\n",
        "NUM_WORDS = 3\n",
        "BATCH_SIZE = 32\n",
        "NUM_EPOCHS = 15"
      ],
      "execution_count": 0,
      "outputs": []
    },
    {
      "cell_type": "code",
      "metadata": {
        "id": "inkdGHnPXfIh",
        "colab_type": "code",
        "colab": {}
      },
      "source": [
        "embedding_weights = np.zeros((vocab_sz, EMBED_SIZE))#создаём матрицу размером размерность словаря*размерность вектора слова\n",
        "index = 0\n",
        "sorted_counter = counter.most_common() #сортируем слова по частоте встречаемости\n",
        "for word in sorted_counter:#для каждого слова из нашего словаря задаём вектор из model в матрицу\n",
        "    try:\n",
        "      embedding_weights[index, :] = model[word[0]] \n",
        "      index+=1     \n",
        "    except KeyError:#если нет слова в словаре model\n",
        "      index+=1\n",
        "      pass"
      ],
      "execution_count": 0,
      "outputs": []
    },
    {
      "cell_type": "code",
      "metadata": {
        "id": "GKuc8GqeXrY0",
        "colab_type": "code",
        "colab": {}
      },
      "source": [
        "COUNT_CLASSES = len(unique_intents)"
      ],
      "execution_count": 0,
      "outputs": []
    },
    {
      "cell_type": "markdown",
      "metadata": {
        "id": "yzxqo5FBpR9S",
        "colab_type": "text"
      },
      "source": [
        "Будем использовать метрику f1, так как классы несбалансированны"
      ]
    },
    {
      "cell_type": "code",
      "metadata": {
        "id": "4cbodEFOX1u2",
        "colab_type": "code",
        "colab": {}
      },
      "source": [
        "# Создание модели\n",
        "def get_model(COUNT_CLASSES, embedding_weights):\n",
        "  model = Sequential()\n",
        "  model.add(Embedding(vocab_sz, EMBED_SIZE, input_length = maxlen,\n",
        "                      weights = [embedding_weights],\n",
        "                      trainable = True))\n",
        "  model.add(SpatialDropout1D(0.2))\n",
        "  model.add(Conv1D(filters = NUM_FILTERS, kernel_size = NUM_WORDS,\n",
        "                  activation = \"relu\"))\n",
        "  model.add(GlobalMaxPooling1D())\n",
        "  model.add(Dense(1024))\n",
        "  model.add(Dropout(0.2))\n",
        "  model.add(Activation('relu'))\n",
        "  \n",
        "  model.add(Dense(COUNT_CLASSES, activation=\"softmax\"))\n",
        "\n",
        "  model.compile(optimizer = \"adam\", loss = \"categorical_crossentropy\",\n",
        "                metrics = [keras_metrics.categorical_f1_score()])\n",
        "  \n",
        "  return model"
      ],
      "execution_count": 0,
      "outputs": []
    },
    {
      "cell_type": "code",
      "metadata": {
        "id": "QfD92HVTX7Vj",
        "colab_type": "code",
        "colab": {}
      },
      "source": [
        "keras_model = get_model(COUNT_CLASSES, embedding_weights)"
      ],
      "execution_count": 0,
      "outputs": []
    },
    {
      "cell_type": "code",
      "metadata": {
        "id": "aX58YzVdX-QK",
        "colab_type": "code",
        "outputId": "45045cce-ec64-4ecb-9494-7c322527f584",
        "colab": {
          "base_uri": "https://localhost:8080/",
          "height": 425
        }
      },
      "source": [
        "keras_model.summary()"
      ],
      "execution_count": 69,
      "outputs": [
        {
          "output_type": "stream",
          "text": [
            "Model: \"sequential_1\"\n",
            "_________________________________________________________________\n",
            "Layer (type)                 Output Shape              Param #   \n",
            "=================================================================\n",
            "embedding_1 (Embedding)      (None, 21, 300)           306300    \n",
            "_________________________________________________________________\n",
            "spatial_dropout1d_1 (Spatial (None, 21, 300)           0         \n",
            "_________________________________________________________________\n",
            "conv1d_1 (Conv1D)            (None, 19, 512)           461312    \n",
            "_________________________________________________________________\n",
            "global_max_pooling1d_1 (Glob (None, 512)               0         \n",
            "_________________________________________________________________\n",
            "dense_1 (Dense)              (None, 1024)              525312    \n",
            "_________________________________________________________________\n",
            "dropout_1 (Dropout)          (None, 1024)              0         \n",
            "_________________________________________________________________\n",
            "activation_1 (Activation)    (None, 1024)              0         \n",
            "_________________________________________________________________\n",
            "dense_2 (Dense)              (None, 5)                 5125      \n",
            "=================================================================\n",
            "Total params: 1,298,049\n",
            "Trainable params: 1,298,049\n",
            "Non-trainable params: 0\n",
            "_________________________________________________________________\n"
          ],
          "name": "stdout"
        }
      ]
    },
    {
      "cell_type": "markdown",
      "metadata": {
        "id": "GvvQPMdmYCcO",
        "colab_type": "text"
      },
      "source": [
        "Обучение keras модели"
      ]
    },
    {
      "cell_type": "code",
      "metadata": {
        "id": "zFZT2NvXthN2",
        "colab_type": "code",
        "colab": {}
      },
      "source": [
        "from sklearn.utils import shuffle "
      ],
      "execution_count": 0,
      "outputs": []
    },
    {
      "cell_type": "code",
      "metadata": {
        "id": "TwmLYAYwr6FV",
        "colab_type": "code",
        "colab": {}
      },
      "source": [
        "X_train = np.array(X_train)\n",
        "y_train = np.array(y_train)"
      ],
      "execution_count": 0,
      "outputs": []
    },
    {
      "cell_type": "code",
      "metadata": {
        "id": "dQ1Pr3VIYAvj",
        "colab_type": "code",
        "outputId": "251e37c9-4184-44cc-ab45-85ba196b9c22",
        "colab": {
          "base_uri": "https://localhost:8080/",
          "height": 544
        }
      },
      "source": [
        "history = keras_model.fit(X_train, y_train, batch_size = BATCH_SIZE,\n",
        "                    epochs = NUM_EPOCHS,\n",
        "                    callbacks=[ModelCheckpoint('drive/My Drive/ForGensim/rus_keras_model.h5', save_best_only = True)],\n",
        "                    validation_split = 0.1)"
      ],
      "execution_count": 260,
      "outputs": [
        {
          "output_type": "stream",
          "text": [
            "Train on 81 samples, validate on 10 samples\n",
            "Epoch 1/15\n",
            "81/81 [==============================] - 1s 11ms/step - loss: 1.5949 - f1_score: 0.0000e+00 - val_loss: 2.0004 - val_f1_score: 0.0000e+00\n",
            "Epoch 2/15\n",
            "81/81 [==============================] - 0s 3ms/step - loss: 1.4561 - f1_score: 0.0000e+00 - val_loss: 1.7732 - val_f1_score: 0.0000e+00\n",
            "Epoch 3/15\n",
            "81/81 [==============================] - 0s 3ms/step - loss: 1.2808 - f1_score: 0.0000e+00 - val_loss: 1.7007 - val_f1_score: 0.0000e+00\n",
            "Epoch 4/15\n",
            "81/81 [==============================] - 0s 3ms/step - loss: 1.0381 - f1_score: 0.5714 - val_loss: 1.7438 - val_f1_score: 0.0000e+00\n",
            "Epoch 5/15\n",
            "81/81 [==============================] - 0s 3ms/step - loss: 0.7311 - f1_score: 0.8571 - val_loss: 1.4969 - val_f1_score: 0.0000e+00\n",
            "Epoch 6/15\n",
            "81/81 [==============================] - 0s 3ms/step - loss: 0.4501 - f1_score: 0.9474 - val_loss: 0.8187 - val_f1_score: 0.0000e+00\n",
            "Epoch 7/15\n",
            "81/81 [==============================] - 0s 3ms/step - loss: 0.2445 - f1_score: 0.9474 - val_loss: 0.2977 - val_f1_score: 0.0000e+00\n",
            "Epoch 8/15\n",
            "81/81 [==============================] - 0s 3ms/step - loss: 0.1212 - f1_score: 0.9474 - val_loss: 0.1523 - val_f1_score: 0.0000e+00\n",
            "Epoch 9/15\n",
            "81/81 [==============================] - 0s 3ms/step - loss: 0.0522 - f1_score: 0.9744 - val_loss: 0.1072 - val_f1_score: 0.0000e+00\n",
            "Epoch 10/15\n",
            "81/81 [==============================] - 0s 3ms/step - loss: 0.0185 - f1_score: 1.0000 - val_loss: 0.1092 - val_f1_score: 0.0000e+00\n",
            "Epoch 11/15\n",
            "81/81 [==============================] - 0s 3ms/step - loss: 0.0068 - f1_score: 1.0000 - val_loss: 0.1352 - val_f1_score: 0.0000e+00\n",
            "Epoch 12/15\n",
            "81/81 [==============================] - 0s 3ms/step - loss: 0.0044 - f1_score: 1.0000 - val_loss: 0.1523 - val_f1_score: 0.0000e+00\n",
            "Epoch 13/15\n",
            "81/81 [==============================] - 0s 3ms/step - loss: 0.0026 - f1_score: 1.0000 - val_loss: 0.1477 - val_f1_score: 0.0000e+00\n",
            "Epoch 14/15\n",
            "81/81 [==============================] - 0s 3ms/step - loss: 0.0020 - f1_score: 1.0000 - val_loss: 0.1321 - val_f1_score: 0.0000e+00\n",
            "Epoch 15/15\n",
            "81/81 [==============================] - 0s 3ms/step - loss: 0.0011 - f1_score: 1.0000 - val_loss: 0.1112 - val_f1_score: 0.0000e+00\n"
          ],
          "name": "stdout"
        }
      ]
    },
    {
      "cell_type": "code",
      "metadata": {
        "id": "PhmYvWNysKu3",
        "colab_type": "code",
        "colab": {}
      },
      "source": [
        "X_test = np.array(X_test)\n",
        "y_test = np.array(y_test)"
      ],
      "execution_count": 0,
      "outputs": []
    },
    {
      "cell_type": "code",
      "metadata": {
        "id": "4HvheylYYI3H",
        "colab_type": "code",
        "outputId": "faac7f2d-b353-44b5-d6ba-26abafed43ac",
        "colab": {
          "base_uri": "https://localhost:8080/",
          "height": 51
        }
      },
      "source": [
        "score = keras_model.evaluate(X_test, y_test)\n",
        "print(\"Test accuracy: {:.3f}\".format(score[1]))"
      ],
      "execution_count": 262,
      "outputs": [
        {
          "output_type": "stream",
          "text": [
            "454/454 [==============================] - 0s 324us/step\n",
            "Test accuracy: 0.914\n"
          ],
          "name": "stdout"
        }
      ]
    },
    {
      "cell_type": "markdown",
      "metadata": {
        "id": "_ckAs0eIYOV4",
        "colab_type": "text"
      },
      "source": [
        "Модель обучилась с точностью ~91%\n"
      ]
    },
    {
      "cell_type": "markdown",
      "metadata": {
        "id": "t9vM-0JKqFyu",
        "colab_type": "text"
      },
      "source": [
        "**Делаем отчёт по предсказанию (по разным метрикам) + строим матрицу ошибок:**"
      ]
    },
    {
      "cell_type": "code",
      "metadata": {
        "id": "hTM4j5YIYfAI",
        "colab_type": "code",
        "colab": {}
      },
      "source": [
        "import seaborn as sn"
      ],
      "execution_count": 0,
      "outputs": []
    },
    {
      "cell_type": "code",
      "metadata": {
        "id": "PAAXeZJUYg5s",
        "colab_type": "code",
        "colab": {}
      },
      "source": [
        "import matplotlib.pyplot as plt"
      ],
      "execution_count": 0,
      "outputs": []
    },
    {
      "cell_type": "code",
      "metadata": {
        "id": "jvI5WROWYS5y",
        "colab_type": "code",
        "colab": {}
      },
      "source": [
        "prediction = keras_model.predict_classes(X_test)"
      ],
      "execution_count": 0,
      "outputs": []
    },
    {
      "cell_type": "code",
      "metadata": {
        "id": "ZlSKt7uCqq2U",
        "colab_type": "code",
        "outputId": "57eeb24a-bcb3-4c96-dda4-1e57d8658d6e",
        "colab": {
          "base_uri": "https://localhost:8080/",
          "height": 34
        }
      },
      "source": [
        "prediction[:3]"
      ],
      "execution_count": 264,
      "outputs": [
        {
          "output_type": "execute_result",
          "data": {
            "text/plain": [
              "array([0, 0, 0])"
            ]
          },
          "metadata": {
            "tags": []
          },
          "execution_count": 264
        }
      ]
    },
    {
      "cell_type": "code",
      "metadata": {
        "id": "o0axrA-BYc6B",
        "colab_type": "code",
        "colab": {}
      },
      "source": [
        "prediction_names = transform_from_categorical(prediction, unique_intents)"
      ],
      "execution_count": 0,
      "outputs": []
    },
    {
      "cell_type": "code",
      "metadata": {
        "id": "eb1mFNNIqu23",
        "colab_type": "code",
        "outputId": "fb51a157-22d5-4853-9ebc-4b8a6337b340",
        "colab": {
          "base_uri": "https://localhost:8080/",
          "height": 34
        }
      },
      "source": [
        "prediction_names[:3]"
      ],
      "execution_count": 266,
      "outputs": [
        {
          "output_type": "execute_result",
          "data": {
            "text/plain": [
              "['О_Музыке', 'О_Музыке', 'О_Музыке']"
            ]
          },
          "metadata": {
            "tags": []
          },
          "execution_count": 266
        }
      ]
    },
    {
      "cell_type": "code",
      "metadata": {
        "id": "Nut7REoUYZ1S",
        "colab_type": "code",
        "colab": {}
      },
      "source": [
        "y_test = y_test.tolist()\n",
        "y_test_names = []\n",
        "\n",
        "for i in range(len(y_test)):\n",
        "  y_test_names.append(unique_intents[y_test[i].index(1)])"
      ],
      "execution_count": 0,
      "outputs": []
    },
    {
      "cell_type": "code",
      "metadata": {
        "id": "5LNZflttq9kn",
        "colab_type": "code",
        "outputId": "3ad2d276-9b69-4b08-9d67-3fb5740238fe",
        "colab": {
          "base_uri": "https://localhost:8080/",
          "height": 34
        }
      },
      "source": [
        "y_test_names[:3]"
      ],
      "execution_count": 268,
      "outputs": [
        {
          "output_type": "execute_result",
          "data": {
            "text/plain": [
              "['О_Музыке', 'О_Музыке', 'О_Музыке']"
            ]
          },
          "metadata": {
            "tags": []
          },
          "execution_count": 268
        }
      ]
    },
    {
      "cell_type": "code",
      "metadata": {
        "id": "qE-agHK-rKGI",
        "colab_type": "code",
        "colab": {}
      },
      "source": [
        "from sklearn.metrics import classification_report"
      ],
      "execution_count": 0,
      "outputs": []
    },
    {
      "cell_type": "code",
      "metadata": {
        "id": "KmOo6azIrOLy",
        "colab_type": "code",
        "outputId": "d0701a20-c0b9-4976-a593-862773aebb57",
        "colab": {
          "base_uri": "https://localhost:8080/",
          "height": 221
        }
      },
      "source": [
        "print(classification_report(y_test_names, prediction_names, target_names = sorted(unique_intents)))"
      ],
      "execution_count": 273,
      "outputs": [
        {
          "output_type": "stream",
          "text": [
            "                precision    recall  f1-score   support\n",
            "\n",
            "     Будильник       0.19      0.46      0.27        13\n",
            " График_Работы       0.97      0.76      0.85        45\n",
            "  Заказать_Еду       0.82      0.73      0.77        37\n",
            "      О_Музыке       0.87      0.95      0.91       184\n",
            "Прогноз_Погоды       0.88      0.78      0.83       175\n",
            "\n",
            "      accuracy                           0.83       454\n",
            "     macro avg       0.75      0.74      0.73       454\n",
            "  weighted avg       0.86      0.83      0.84       454\n",
            "\n"
          ],
          "name": "stdout"
        }
      ]
    },
    {
      "cell_type": "code",
      "metadata": {
        "id": "O6MZE8E4Yifz",
        "colab_type": "code",
        "outputId": "fe170202-af54-4af0-8a4a-830c1cf8e2bd",
        "colab": {
          "base_uri": "https://localhost:8080/",
          "height": 623
        }
      },
      "source": [
        "data = {'prediction': y_test_names,\n",
        "        'actual':    prediction_names\n",
        "        }\n",
        "\n",
        "df = pd.DataFrame(data, columns = ['prediction','actual'])\n",
        "confusion_matrix = pd.crosstab(df['actual'], df['prediction'], rownames = ['Predicted'], colnames = ['Actual'])\n",
        "plt.figure(figsize=(25, 10))\n",
        "sn.heatmap(confusion_matrix, annot=True,cmap=\"Greys\")"
      ],
      "execution_count": 283,
      "outputs": [
        {
          "output_type": "execute_result",
          "data": {
            "text/plain": [
              "<matplotlib.axes._subplots.AxesSubplot at 0x7fddff997be0>"
            ]
          },
          "metadata": {
            "tags": []
          },
          "execution_count": 283
        },
        {
          "output_type": "display_data",
          "data": {
            "image/png": "[encoded data removed]",
            "text/plain": [
              "<Figure size 1800x720 with 2 Axes>"
            ]
          },
          "metadata": {
            "tags": []
          }
        }
      ]
    },
    {
      "cell_type": "markdown",
      "metadata": {
        "id": "1wFMMH8YrePy",
        "colab_type": "text"
      },
      "source": [
        "**Как видно по матрице ошибок, наша модель чаще всего путает интенты `Будильник` с `Прогноз погоды`, а также `О музыке` с `Прогноз погоды`**"
      ]
    },
    {
      "cell_type": "markdown",
      "metadata": {
        "id": "Ggt-kVRyYuci",
        "colab_type": "text"
      },
      "source": [
        "Тестирование (проверка работы) классификатора на небольших данных"
      ]
    },
    {
      "cell_type": "code",
      "metadata": {
        "id": "WSI2uQM-YveO",
        "colab_type": "code",
        "colab": {}
      },
      "source": [
        "test = ['какая погода в Кирове', 'во сколько закрывается аптека', 'я люблю слушать музыку в наушниках', \n",
        "        'додо пицца заказать онлайн', 'разбуди меня в семь вечера', 'сегодня было очень холодно', 'сколько песен в моём плеере', 'что сегодня по погоде?'] "
      ],
      "execution_count": 0,
      "outputs": []
    },
    {
      "cell_type": "code",
      "metadata": {
        "id": "DSG02jCxZU4L",
        "colab_type": "code",
        "colab": {}
      },
      "source": [
        "test_sentence = np.array([tokenize(text) for text in test])"
      ],
      "execution_count": 0,
      "outputs": []
    },
    {
      "cell_type": "code",
      "metadata": {
        "id": "7816Esy4ZA2v",
        "colab_type": "code",
        "outputId": "95798d6e-df7e-44ec-efb1-bf607eb0ae67",
        "colab": {
          "base_uri": "https://localhost:8080/",
          "height": 153
        }
      },
      "source": [
        "sequences_test = tokenizer.texts_to_sequences(test_sentence)\n",
        "sequences_test"
      ],
      "execution_count": 276,
      "outputs": [
        {
          "output_type": "execute_result",
          "data": {
            "text/plain": [
              "[[1, 141],\n",
              " [20, 138],\n",
              " [80, 13, 3],\n",
              " [87, 4, 351],\n",
              " [16, 61, 110],\n",
              " [9, 65],\n",
              " [20, 11, 732],\n",
              " [9, 1]]"
            ]
          },
          "metadata": {
            "tags": []
          },
          "execution_count": 276
        }
      ]
    },
    {
      "cell_type": "code",
      "metadata": {
        "id": "RYJdVTcDZoy2",
        "colab_type": "code",
        "colab": {}
      },
      "source": [
        "X_predict = pad_sequences(sequences_test, maxlen = maxlen)"
      ],
      "execution_count": 0,
      "outputs": []
    },
    {
      "cell_type": "code",
      "metadata": {
        "id": "UxE5Un1-ZrMB",
        "colab_type": "code",
        "colab": {}
      },
      "source": [
        "prediction = keras_model.predict_classes(X_predict)"
      ],
      "execution_count": 0,
      "outputs": []
    },
    {
      "cell_type": "code",
      "metadata": {
        "id": "BFF8IqtJZtXc",
        "colab_type": "code",
        "outputId": "35802321-aaa0-4852-cb5f-78d061e79394",
        "colab": {
          "base_uri": "https://localhost:8080/",
          "height": 153
        }
      },
      "source": [
        "answers = transform_from_categorical(prediction, unique_intents.to_list()) \n",
        "answers"
      ],
      "execution_count": 279,
      "outputs": [
        {
          "output_type": "execute_result",
          "data": {
            "text/plain": [
              "['Прогноз_Погоды',\n",
              " 'График_Работы',\n",
              " 'О_Музыке',\n",
              " 'Заказать_Еду',\n",
              " 'Будильник',\n",
              " 'Прогноз_Погоды',\n",
              " 'О_Музыке',\n",
              " 'Прогноз_Погоды']"
            ]
          },
          "metadata": {
            "tags": []
          },
          "execution_count": 279
        }
      ]
    }
  ]
}