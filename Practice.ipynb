{
  "nbformat": 4,
  "nbformat_minor": 0,
  "metadata": {
    "colab": {
      "name": "Practice.ipynb",
      "provenance": [],
      "collapsed_sections": [],
      "include_colab_link": true
    },
    "kernelspec": {
      "name": "python3",
      "display_name": "Python 3"
    },
    "accelerator": "GPU"
  },
  "cells": [
    {
      "cell_type": "markdown",
      "metadata": {
        "id": "view-in-github",
        "colab_type": "text"
      },
      "source": [
        "<a href=\"https://colab.research.google.com/github/theKirill/GensimSample/blob/master/Practice.ipynb\" target=\"_parent\"><img src=\"https://colab.research.google.com/assets/colab-badge.svg\" alt=\"Open In Colab\"/></a>"
      ]
    },
    {
      "cell_type": "code",
      "metadata": {
        "id": "CCq8L9tfX-tf",
        "colab_type": "code",
        "colab": {
          "base_uri": "https://localhost:8080/",
          "height": 80
        },
        "outputId": "9e6161b2-8f5c-4e42-be98-3b90ad7482d8"
      },
      "source": [
        "import gensim\n",
        "import nltk\n",
        "from nltk.corpus import stopwords\n",
        "from gensim.models import Word2Vec\n",
        "import pandas as pd\n",
        "import numpy as np\n",
        "import keras\n",
        "from keras.preprocessing.text import Tokenizer\n",
        "from keras.preprocessing.sequence import pad_sequences\n",
        "from keras.models import Sequential\n",
        "from keras.layers import Dense, Flatten, Embedding, Dropout, Conv1D, GlobalMaxPooling1D, Activation\n",
        "from keras.models import Model\n",
        "import sklearn\n",
        "from sklearn.model_selection import train_test_split\n",
        "from keras.utils import to_categorical\n",
        "from keras.models import save_model, load_model\n",
        "from keras.callbacks import ModelCheckpoint\n",
        "from nltk.tokenize import RegexpTokenizer"
      ],
      "execution_count": 2,
      "outputs": [
        {
          "output_type": "stream",
          "text": [
            "Using TensorFlow backend.\n"
          ],
          "name": "stderr"
        },
        {
          "output_type": "display_data",
          "data": {
            "text/html": [
              "<p style=\"color: red;\">\n",
              "The default version of TensorFlow in Colab will soon switch to TensorFlow 2.x.<br>\n",
              "We recommend you <a href=\"https://www.tensorflow.org/guide/migrate\" target=\"_blank\">upgrade</a> now \n",
              "or ensure your notebook will continue to use TensorFlow 1.x via the <code>%tensorflow_version 1.x</code> magic:\n",
              "<a href=\"https://colab.research.google.com/notebooks/tensorflow_version.ipynb\" target=\"_blank\">more info</a>.</p>\n"
            ],
            "text/plain": [
              "<IPython.core.display.HTML object>"
            ]
          },
          "metadata": {
            "tags": []
          }
        }
      ]
    },
    {
      "cell_type": "code",
      "metadata": {
        "id": "u7yBLPEfObyi",
        "colab_type": "code",
        "outputId": "cc1ad700-e917-4308-9359-c570ddfdcfcf",
        "colab": {
          "base_uri": "https://localhost:8080/",
          "height": 102
        }
      },
      "source": [
        "nltk.download('punkt')\n",
        "nltk.download('stopwords')"
      ],
      "execution_count": 3,
      "outputs": [
        {
          "output_type": "stream",
          "text": [
            "[nltk_data] Downloading package punkt to /root/nltk_data...\n",
            "[nltk_data]   Unzipping tokenizers/punkt.zip.\n",
            "[nltk_data] Downloading package stopwords to /root/nltk_data...\n",
            "[nltk_data]   Unzipping corpora/stopwords.zip.\n"
          ],
          "name": "stdout"
        },
        {
          "output_type": "execute_result",
          "data": {
            "text/plain": [
              "True"
            ]
          },
          "metadata": {
            "tags": []
          },
          "execution_count": 3
        }
      ]
    },
    {
      "cell_type": "code",
      "metadata": {
        "id": "iLlOyB5xy2HD",
        "colab_type": "code",
        "colab": {}
      },
      "source": [
        "file_csv = pd.read_csv('drive/My Drive/ForGensim/train.csv')"
      ],
      "execution_count": 0,
      "outputs": []
    },
    {
      "cell_type": "code",
      "metadata": {
        "id": "0Fgb2vFPQhfP",
        "colab_type": "code",
        "outputId": "6f3f7da4-c5b6-497a-e18c-02304081301a",
        "colab": {
          "base_uri": "https://localhost:8080/",
          "height": 402
        }
      },
      "source": [
        "file_csv"
      ],
      "execution_count": 0,
      "outputs": [
        {
          "output_type": "execute_result",
          "data": {
            "text/html": [
              "<div>\n",
              "<style scoped>\n",
              "    .dataframe tbody tr th:only-of-type {\n",
              "        vertical-align: middle;\n",
              "    }\n",
              "\n",
              "    .dataframe tbody tr th {\n",
              "        vertical-align: top;\n",
              "    }\n",
              "\n",
              "    .dataframe thead th {\n",
              "        text-align: right;\n",
              "    }\n",
              "</style>\n",
              "<table border=\"1\" class=\"dataframe\">\n",
              "  <thead>\n",
              "    <tr style=\"text-align: right;\">\n",
              "      <th></th>\n",
              "      <th>text</th>\n",
              "      <th>intents</th>\n",
              "    </tr>\n",
              "  </thead>\n",
              "  <tbody>\n",
              "    <tr>\n",
              "      <th>0</th>\n",
              "      <td>Add another song to the Cita RomГЎntica playli...</td>\n",
              "      <td>AddToPlaylist</td>\n",
              "    </tr>\n",
              "    <tr>\n",
              "      <th>1</th>\n",
              "      <td>add clem burke in my playlist Pre-Party R&amp;B Jams</td>\n",
              "      <td>AddToPlaylist</td>\n",
              "    </tr>\n",
              "    <tr>\n",
              "      <th>2</th>\n",
              "      <td>Add Live from Aragon Ballroom to Trapeo</td>\n",
              "      <td>AddToPlaylist</td>\n",
              "    </tr>\n",
              "    <tr>\n",
              "      <th>3</th>\n",
              "      <td>add Unite and Win to my night out</td>\n",
              "      <td>AddToPlaylist</td>\n",
              "    </tr>\n",
              "    <tr>\n",
              "      <th>4</th>\n",
              "      <td>Add track to my Digster Future Hits</td>\n",
              "      <td>AddToPlaylist</td>\n",
              "    </tr>\n",
              "    <tr>\n",
              "      <th>...</th>\n",
              "      <td>...</td>\n",
              "      <td>...</td>\n",
              "    </tr>\n",
              "    <tr>\n",
              "      <th>11369</th>\n",
              "      <td>Is Across the Line playing at the closest movi...</td>\n",
              "      <td>SearchScreeningEvent</td>\n",
              "    </tr>\n",
              "    <tr>\n",
              "      <th>11370</th>\n",
              "      <td>Which animated movies are playing in the neigh...</td>\n",
              "      <td>SearchScreeningEvent</td>\n",
              "    </tr>\n",
              "    <tr>\n",
              "      <th>11371</th>\n",
              "      <td>Where is They Always Return at Dawn playing</td>\n",
              "      <td>SearchScreeningEvent</td>\n",
              "    </tr>\n",
              "    <tr>\n",
              "      <th>11372</th>\n",
              "      <td>What is the movie schedule in the neighborhood</td>\n",
              "      <td>SearchScreeningEvent</td>\n",
              "    </tr>\n",
              "    <tr>\n",
              "      <th>11373</th>\n",
              "      <td>Tell me when Howling II: Your Sister Is a Were...</td>\n",
              "      <td>SearchScreeningEvent</td>\n",
              "    </tr>\n",
              "  </tbody>\n",
              "</table>\n",
              "<p>11374 rows × 2 columns</p>\n",
              "</div>"
            ],
            "text/plain": [
              "                                                    text               intents\n",
              "0      Add another song to the Cita RomГЎntica playli...         AddToPlaylist\n",
              "1       add clem burke in my playlist Pre-Party R&B Jams         AddToPlaylist\n",
              "2                Add Live from Aragon Ballroom to Trapeo         AddToPlaylist\n",
              "3                      add Unite and Win to my night out         AddToPlaylist\n",
              "4                    Add track to my Digster Future Hits         AddToPlaylist\n",
              "...                                                  ...                   ...\n",
              "11369  Is Across the Line playing at the closest movi...  SearchScreeningEvent\n",
              "11370  Which animated movies are playing in the neigh...  SearchScreeningEvent\n",
              "11371        Where is They Always Return at Dawn playing  SearchScreeningEvent\n",
              "11372     What is the movie schedule in the neighborhood  SearchScreeningEvent\n",
              "11373  Tell me when Howling II: Your Sister Is a Were...  SearchScreeningEvent\n",
              "\n",
              "[11374 rows x 2 columns]"
            ]
          },
          "metadata": {
            "tags": []
          },
          "execution_count": 142
        }
      ]
    },
    {
      "cell_type": "code",
      "metadata": {
        "id": "v_g3zM2bQ3Tu",
        "colab_type": "code",
        "colab": {}
      },
      "source": [
        "all_texts = file_csv['text']\n",
        "all_intents = file_csv['intents']"
      ],
      "execution_count": 0,
      "outputs": []
    },
    {
      "cell_type": "code",
      "metadata": {
        "id": "z8Yp_2tMQOKl",
        "colab_type": "code",
        "outputId": "ed792504-9b00-47bb-a9cf-91d633557b81",
        "colab": {
          "base_uri": "https://localhost:8080/",
          "height": 34
        }
      },
      "source": [
        "file_csv = file_csv.dropna()\n",
        "file_csv['text'].apply(lambda x: len(x.split(' '))).sum()"
      ],
      "execution_count": 0,
      "outputs": [
        {
          "output_type": "execute_result",
          "data": {
            "text/plain": [
              "105347"
            ]
          },
          "metadata": {
            "tags": []
          },
          "execution_count": 144
        }
      ]
    },
    {
      "cell_type": "code",
      "metadata": {
        "id": "Hwt_CiyC1yfo",
        "colab_type": "code",
        "outputId": "4e6c6348-4ec1-4482-ccdb-1b51b98fe256",
        "colab": {
          "base_uri": "https://localhost:8080/",
          "height": 228
        }
      },
      "source": [
        "file_csv['text']"
      ],
      "execution_count": 0,
      "outputs": [
        {
          "output_type": "execute_result",
          "data": {
            "text/plain": [
              "0        Add another song to the Cita RomГЎntica playli...\n",
              "1         add clem burke in my playlist Pre-Party R&B Jams\n",
              "2                  Add Live from Aragon Ballroom to Trapeo\n",
              "3                        add Unite and Win to my night out\n",
              "4                      Add track to my Digster Future Hits\n",
              "                               ...                        \n",
              "11369    Is Across the Line playing at the closest movi...\n",
              "11370    Which animated movies are playing in the neigh...\n",
              "11371          Where is They Always Return at Dawn playing\n",
              "11372       What is the movie schedule in the neighborhood\n",
              "11373    Tell me when Howling II: Your Sister Is a Were...\n",
              "Name: text, Length: 11374, dtype: object"
            ]
          },
          "metadata": {
            "tags": []
          },
          "execution_count": 145
        }
      ]
    },
    {
      "cell_type": "code",
      "metadata": {
        "id": "_JQ7LK3-2O1Z",
        "colab_type": "code",
        "colab": {}
      },
      "source": [
        "unique_intents = file_csv.intents.unique()"
      ],
      "execution_count": 0,
      "outputs": []
    },
    {
      "cell_type": "code",
      "metadata": {
        "id": "9pkMOcKTJOMX",
        "colab_type": "code",
        "outputId": "8d281e39-908f-4daa-9f5b-d5f180aac17c",
        "colab": {
          "base_uri": "https://localhost:8080/",
          "height": 51
        }
      },
      "source": [
        "unique_intents"
      ],
      "execution_count": 7,
      "outputs": [
        {
          "output_type": "execute_result",
          "data": {
            "text/plain": [
              "array(['AddToPlaylist', 'BookRestaurant', 'GetWeather', 'PlayMusic',\n",
              "       'SearchScreeningEvent'], dtype=object)"
            ]
          },
          "metadata": {
            "tags": []
          },
          "execution_count": 7
        }
      ]
    },
    {
      "cell_type": "markdown",
      "metadata": {
        "id": "q-oraviUTcaG",
        "colab_type": "text"
      },
      "source": [
        "**Удаление стоп-слов и пунктуации**"
      ]
    },
    {
      "cell_type": "code",
      "metadata": {
        "id": "vMMxwWtQR-NL",
        "colab_type": "code",
        "colab": {}
      },
      "source": [
        "def remove_stopwords(text):\n",
        "  regex_tokenizer = RegexpTokenizer('[a-zA-Z]+')\n",
        "  words = regex_tokenizer.tokenize(text.lower())\n",
        "  stop_words = set(stopwords.words(\"english\"))\n",
        "  without_stop_words = [w for w in words if w not in stop_words]\n",
        "  return without_stop_words"
      ],
      "execution_count": 0,
      "outputs": []
    },
    {
      "cell_type": "code",
      "metadata": {
        "id": "RIGT3jwAUXeS",
        "colab_type": "code",
        "colab": {}
      },
      "source": [
        "def get_tokens(sentences):\n",
        "  tokens = []\n",
        "\n",
        "  for sentence in sentences:\n",
        "    tokens.append(sentence)\n",
        "    \n",
        "  return tokens"
      ],
      "execution_count": 0,
      "outputs": []
    },
    {
      "cell_type": "code",
      "metadata": {
        "id": "MrZJeOsx3Hx9",
        "colab_type": "code",
        "colab": {}
      },
      "source": [
        "sentences = np.array(all_texts.apply(lambda x : remove_stopwords(x)))"
      ],
      "execution_count": 0,
      "outputs": []
    },
    {
      "cell_type": "code",
      "metadata": {
        "id": "ct7k4eYPU1aO",
        "colab_type": "code",
        "colab": {}
      },
      "source": [
        "tokens = get_tokens(sentences)"
      ],
      "execution_count": 0,
      "outputs": []
    },
    {
      "cell_type": "code",
      "metadata": {
        "id": "90Z6jo9lfph0",
        "colab_type": "code",
        "outputId": "8ac50705-a67b-4854-fdd2-bc2a252d1535",
        "colab": {
          "base_uri": "https://localhost:8080/",
          "height": 102
        }
      },
      "source": [
        "tokens[:5]"
      ],
      "execution_count": 23,
      "outputs": [
        {
          "output_type": "execute_result",
          "data": {
            "text/plain": [
              "[['add', 'another', 'song', 'cita', 'rom', 'ntica', 'playlist'],\n",
              " ['add', 'clem', 'burke', 'playlist', 'pre', 'party', 'r', 'b', 'jams'],\n",
              " ['add', 'live', 'aragon', 'ballroom', 'trapeo'],\n",
              " ['add', 'unite', 'win', 'night'],\n",
              " ['add', 'track', 'digster', 'future', 'hits']]"
            ]
          },
          "metadata": {
            "tags": []
          },
          "execution_count": 23
        }
      ]
    },
    {
      "cell_type": "markdown",
      "metadata": {
        "id": "d9yR-UzwPPNr",
        "colab_type": "text"
      },
      "source": [
        "**Работа с Word2Vec**"
      ]
    },
    {
      "cell_type": "code",
      "metadata": {
        "id": "9X8Kb9p5NSUc",
        "colab_type": "code",
        "colab": {}
      },
      "source": [
        "VECTOR_SIZE = 200\n",
        "WINDOW_SIZE = 10\n",
        "MIN_COUNT = 3\n",
        "ITER_COUNT = 10\n",
        "WORKERS = 4"
      ],
      "execution_count": 0,
      "outputs": []
    },
    {
      "cell_type": "code",
      "metadata": {
        "id": "1j1Ft2Oj3zUr",
        "colab_type": "code",
        "colab": {}
      },
      "source": [
        "word2vec_model = Word2Vec(tokens, size = VECTOR_SIZE, window = WINDOW_SIZE, min_count = MIN_COUNT, workers = WORKERS, iter = ITER_COUNT)"
      ],
      "execution_count": 0,
      "outputs": []
    },
    {
      "cell_type": "code",
      "metadata": {
        "id": "SHExhjKWCf2w",
        "colab_type": "code",
        "outputId": "2891352b-1676-4ab0-d6c1-092c4f1f6d86",
        "colab": {
          "base_uri": "https://localhost:8080/",
          "height": 34
        }
      },
      "source": [
        "#word2vec_model.train(tokens, total_examples = len(tokens), epochs = 500)"
      ],
      "execution_count": 0,
      "outputs": [
        {
          "output_type": "execute_result",
          "data": {
            "text/plain": [
              "(22181828, 34511000)"
            ]
          },
          "metadata": {
            "tags": []
          },
          "execution_count": 50
        }
      ]
    },
    {
      "cell_type": "code",
      "metadata": {
        "id": "lsjHvH-Jaqp2",
        "colab_type": "code",
        "outputId": "ce787bb6-6a63-453c-85bc-bcc20ccd7dc6",
        "colab": {
          "base_uri": "https://localhost:8080/",
          "height": 768
        }
      },
      "source": [
        "word2vec_model['song']"
      ],
      "execution_count": 25,
      "outputs": [
        {
          "output_type": "stream",
          "text": [
            "/usr/local/lib/python3.6/dist-packages/ipykernel_launcher.py:1: DeprecationWarning: Call to deprecated `__getitem__` (Method will be removed in 4.0.0, use self.wv.__getitem__() instead).\n",
            "  \"\"\"Entry point for launching an IPython kernel.\n"
          ],
          "name": "stderr"
        },
        {
          "output_type": "execute_result",
          "data": {
            "text/plain": [
              "array([-0.0437184 , -0.0073642 , -0.44962013,  0.27555406, -0.24916933,\n",
              "       -0.07646467,  0.09827101,  0.3209451 , -0.30768815,  0.00835073,\n",
              "        0.32874823, -0.19451049,  0.21499723, -0.21461548, -0.00085246,\n",
              "       -0.01956361,  0.5232777 ,  0.25570333, -0.40360826, -0.19600329,\n",
              "        0.08707048,  0.26422572, -0.15037163, -0.45917276, -0.0627289 ,\n",
              "       -0.10912298,  0.11421495,  0.20208748, -0.4818529 , -0.44779626,\n",
              "        0.08362344, -0.5636349 ,  0.3081727 , -0.07151476,  0.21944045,\n",
              "       -0.11744327, -0.16783795,  0.03537119,  0.13302346, -0.12718078,\n",
              "        0.3389973 , -0.12286204,  0.29145148,  0.13536686,  0.13336745,\n",
              "        0.3457266 , -0.01270729, -0.07166635, -0.21400295, -0.7249681 ,\n",
              "       -0.04706166,  0.6681783 , -0.21374068,  0.32801357, -0.50251675,\n",
              "       -0.18216309,  0.46159118, -0.29116812, -0.7497172 , -0.42112634,\n",
              "        0.07191984,  0.7347315 , -0.21682791, -0.18609563, -0.5109359 ,\n",
              "       -0.19564581, -0.23504876, -0.2627492 ,  0.13472463,  0.02714894,\n",
              "       -0.19623975, -0.23801778, -0.14398421,  0.00722895, -0.12961818,\n",
              "       -0.53500164,  0.22144678, -0.29419816,  0.3002481 , -0.1296453 ,\n",
              "        0.3872791 , -0.31629336,  0.14816193,  0.07610348, -0.24695896,\n",
              "       -0.3671541 ,  0.03809968,  0.5208433 ,  0.06775857,  0.63105184,\n",
              "       -0.13796343,  0.32770702,  0.0963945 , -0.16957137,  0.36437437,\n",
              "        0.04698692,  0.39462572, -0.04708049, -0.1821348 , -0.2191696 ,\n",
              "        0.10357407,  0.5427457 ,  0.07037854, -0.32726324, -0.25682855,\n",
              "        0.00896822, -0.10422517, -0.0711731 ,  0.1445574 ,  0.16000393,\n",
              "        0.21884243,  0.01800038, -0.62183917,  0.25997958,  0.01072856,\n",
              "        0.06280094,  0.08718018,  0.35240456,  0.04997574,  0.14639522,\n",
              "        0.07881644, -0.401057  , -0.09393248, -0.082482  , -0.16604684,\n",
              "       -0.20646814, -0.12226157,  0.14854358,  0.21283296, -0.4020286 ,\n",
              "        0.04387364, -0.13217475,  0.12247087, -0.00716172,  0.41858265,\n",
              "        0.43568072,  0.17149286,  0.29831687,  0.0040154 ,  0.10449324,\n",
              "       -0.10974899, -0.2835638 , -0.20155893, -0.37525046, -0.2666666 ,\n",
              "       -0.24215011,  0.26124802, -0.02544403,  0.32170162,  0.3279677 ,\n",
              "        0.2108908 , -0.1615933 , -0.5357346 , -0.09232809,  0.08490212,\n",
              "        0.00979898, -0.13853359,  0.06358021, -0.3534381 ,  0.600986  ,\n",
              "        0.35259154, -0.40086442, -0.06279287, -0.22367325,  0.13751902,\n",
              "       -0.3642732 ,  0.18019299, -0.6197493 , -0.3618203 ,  0.21081452,\n",
              "       -0.01754549,  0.22380082, -0.5273225 , -0.23459287,  0.12742177,\n",
              "       -0.39284277,  0.1939446 ,  0.08470728,  0.2724199 ,  0.1889368 ,\n",
              "        0.01371511,  0.11508231, -0.04132238, -0.02269219,  0.48228094,\n",
              "        0.02399548,  0.15028302,  0.42546585, -0.32762474, -0.40347555,\n",
              "        0.23192948,  0.22651713,  0.11268698,  0.19433166,  0.43055072,\n",
              "        0.17861748,  0.09790717, -0.12412008,  0.04596473,  0.11470093],\n",
              "      dtype=float32)"
            ]
          },
          "metadata": {
            "tags": []
          },
          "execution_count": 25
        }
      ]
    },
    {
      "cell_type": "code",
      "metadata": {
        "id": "i4CfKT_HQ9AW",
        "colab_type": "code",
        "outputId": "6867872a-21e4-43cc-eb14-038f42f205ca",
        "colab": {
          "base_uri": "https://localhost:8080/",
          "height": 283
        }
      },
      "source": [
        "word2vec_model.most_similar('song')"
      ],
      "execution_count": 0,
      "outputs": [
        {
          "output_type": "stream",
          "text": [
            "/usr/local/lib/python3.6/dist-packages/ipykernel_launcher.py:1: DeprecationWarning: Call to deprecated `most_similar` (Method will be removed in 4.0.0, use self.wv.most_similar() instead).\n",
            "  \"\"\"Entry point for launching an IPython kernel.\n",
            "/usr/local/lib/python3.6/dist-packages/gensim/matutils.py:737: FutureWarning: Conversion of the second argument of issubdtype from `int` to `np.signedinteger` is deprecated. In future, it will be treated as `np.int64 == np.dtype(int).type`.\n",
            "  if np.issubdtype(vec.dtype, np.int):\n"
          ],
          "name": "stderr"
        },
        {
          "output_type": "execute_result",
          "data": {
            "text/plain": [
              "[('track', 0.9973636269569397),\n",
              " ('album', 0.997258186340332),\n",
              " ('artist', 0.9963237047195435),\n",
              " ('tune', 0.9955297708511353),\n",
              " ('put', 0.99542635679245),\n",
              " ('rock', 0.9944835901260376),\n",
              " ('skies', 0.9935083389282227),\n",
              " ('playlist', 0.9932403564453125),\n",
              " ('music', 0.9932096004486084),\n",
              " ('google', 0.993181049823761)]"
            ]
          },
          "metadata": {
            "tags": []
          },
          "execution_count": 155
        }
      ]
    },
    {
      "cell_type": "code",
      "metadata": {
        "id": "hw0Muu67A8AH",
        "colab_type": "code",
        "outputId": "7a81a257-22d4-4bc8-af2c-515567cd31ee",
        "colab": {
          "base_uri": "https://localhost:8080/",
          "height": 283
        }
      },
      "source": [
        "word2vec_model.most_similar(positive=['song'], negative=['artist'])"
      ],
      "execution_count": 0,
      "outputs": [
        {
          "output_type": "stream",
          "text": [
            "/usr/local/lib/python3.6/dist-packages/ipykernel_launcher.py:1: DeprecationWarning: Call to deprecated `most_similar` (Method will be removed in 4.0.0, use self.wv.most_similar() instead).\n",
            "  \"\"\"Entry point for launching an IPython kernel.\n",
            "/usr/local/lib/python3.6/dist-packages/gensim/matutils.py:737: FutureWarning: Conversion of the second argument of issubdtype from `int` to `np.signedinteger` is deprecated. In future, it will be treated as `np.int64 == np.dtype(int).type`.\n",
            "  if np.issubdtype(vec.dtype, np.int):\n"
          ],
          "name": "stderr"
        },
        {
          "output_type": "execute_result",
          "data": {
            "text/plain": [
              "[('aired', 0.21036595106124878),\n",
              " ('list', 0.168114572763443),\n",
              " ('b', 0.15644524991512299),\n",
              " ('play', 0.12908120453357697),\n",
              " ('ines', 0.11604739725589752),\n",
              " ('playing', 0.11349107325077057),\n",
              " ('love', 0.0959177166223526),\n",
              " ('nearest', 0.08513445407152176),\n",
              " ('theatres', 0.08001292496919632),\n",
              " ('see', 0.07834508270025253)]"
            ]
          },
          "metadata": {
            "tags": []
          },
          "execution_count": 156
        }
      ]
    },
    {
      "cell_type": "code",
      "metadata": {
        "id": "B3C73VvUPc9S",
        "colab_type": "code",
        "outputId": "2a93c12e-2553-4ef2-8c43-88d3764f45ea",
        "colab": {
          "base_uri": "https://localhost:8080/",
          "height": 71
        }
      },
      "source": [
        "word2vec_model.save('drive/My Drive/ForGensim/Word2VecModel')\n",
        "word2vec_model.wv.save_word2vec_format('drive/My Drive/ForGensim/Word2VecModel.txt', binary=False)\n",
        "word2vec_model.wv.save_word2vec_format('drive/My Drive/ForGensim/Word2VecModel.bin', binary=True)"
      ],
      "execution_count": 26,
      "outputs": [
        {
          "output_type": "stream",
          "text": [
            "/usr/local/lib/python3.6/dist-packages/smart_open/smart_open_lib.py:402: UserWarning: This function is deprecated, use smart_open.open instead. See the migration notes for details: https://github.com/RaRe-Technologies/smart_open/blob/master/README.rst#migrating-to-the-new-open-function\n",
            "  'See the migration notes for details: %s' % _MIGRATION_NOTES_URL\n"
          ],
          "name": "stderr"
        }
      ]
    },
    {
      "cell_type": "markdown",
      "metadata": {
        "id": "slb25WzzWQ2l",
        "colab_type": "text"
      },
      "source": [
        "**Работа с keras**"
      ]
    },
    {
      "cell_type": "code",
      "metadata": {
        "id": "6mZ6qcpEWZvd",
        "colab_type": "code",
        "colab": {}
      },
      "source": [
        "def transform_from_categorical(prediction, intents):\n",
        "  answers = []\n",
        "\n",
        "  for i in range(prediction.shape[0]):\n",
        "    answers.append(intents[prediction[i]])\n",
        "\n",
        "  return answers"
      ],
      "execution_count": 0,
      "outputs": []
    },
    {
      "cell_type": "code",
      "metadata": {
        "id": "hjR5w3pYWd9M",
        "colab_type": "code",
        "colab": {}
      },
      "source": [
        "def transform_to_categorical(intents_for_each, unique_intents):\n",
        "  intents_to_digit = []\n",
        "\n",
        "  for intent in intents_for_each:\n",
        "    intents_to_digit.append(unique_intents.index(intent))\n",
        "\n",
        "  return to_categorical(intents_to_digit, len(unique_intents))"
      ],
      "execution_count": 0,
      "outputs": []
    },
    {
      "cell_type": "code",
      "metadata": {
        "id": "I5BOhkJwWh5L",
        "colab_type": "code",
        "colab": {}
      },
      "source": [
        "# Создание модели\n",
        "def get_model(word2vec_model, COUNT_CLASSES):\n",
        "    model = Sequential() \n",
        "    model.add(word2vec_model.wv.get_keras_embedding(train_embeddings = True))\n",
        "    \n",
        "    model.add(Dropout(0.2))\n",
        "\n",
        "    model.add(Conv1D(50,\n",
        "                 3,\n",
        "                 padding = 'valid',\n",
        "                 activation = 'relu',\n",
        "                 strides = 1))\n",
        "    model.add(GlobalMaxPooling1D())\n",
        "\n",
        "    model.add(Dense(250))\n",
        "    model.add(Dropout(0.2))\n",
        "    model.add(Activation('relu'))\n",
        "\n",
        "    model.add(Dense(COUNT_CLASSES, activation = 'softmax'))\n",
        "\n",
        "    model.compile(loss = 'categorical_crossentropy', optimizer = 'adam', metrics = ['accuracy'])\n",
        "  \n",
        "    return model"
      ],
      "execution_count": 0,
      "outputs": []
    },
    {
      "cell_type": "code",
      "metadata": {
        "id": "szKqfEozV0re",
        "colab_type": "code",
        "colab": {}
      },
      "source": [
        "word_vectors = word2vec_model.wv"
      ],
      "execution_count": 0,
      "outputs": []
    },
    {
      "cell_type": "code",
      "metadata": {
        "id": "i8FZ2hahFdnh",
        "colab_type": "code",
        "outputId": "08b0ca48-6215-4fd1-e664-1295efb6261e",
        "colab": {
          "base_uri": "https://localhost:8080/",
          "height": 34
        }
      },
      "source": [
        "print(\"Number of word vectors: {}\".format(len(word_vectors.vocab)))"
      ],
      "execution_count": 0,
      "outputs": [
        {
          "output_type": "stream",
          "text": [
            "Number of word vectors: 2400\n"
          ],
          "name": "stdout"
        }
      ]
    },
    {
      "cell_type": "code",
      "metadata": {
        "colab_type": "code",
        "id": "76eH1DDZ103Z",
        "colab": {}
      },
      "source": [
        "texts = sentences"
      ],
      "execution_count": 0,
      "outputs": []
    },
    {
      "cell_type": "code",
      "metadata": {
        "id": "5b7hvBjePvW7",
        "colab_type": "code",
        "colab": {}
      },
      "source": [
        "tokenizer = Tokenizer()\n",
        "tokenizer.fit_on_texts(texts)\n",
        "text = tokenizer.texts_to_sequences(texts)\n",
        "text = pad_sequences(text, maxlen = 10)"
      ],
      "execution_count": 0,
      "outputs": []
    },
    {
      "cell_type": "code",
      "metadata": {
        "id": "kno-kM4IQY_b",
        "colab_type": "code",
        "colab": {}
      },
      "source": [
        "X_train, X_test, y_train, y_test = train_test_split(text, all_intents, test_size = 0.2, stratify = all_intents)"
      ],
      "execution_count": 0,
      "outputs": []
    },
    {
      "cell_type": "code",
      "metadata": {
        "id": "jBzRb_oVxKAQ",
        "colab_type": "code",
        "colab": {}
      },
      "source": [
        "y_train = transform_to_categorical(y_train, unique_intents.tolist())"
      ],
      "execution_count": 0,
      "outputs": []
    },
    {
      "cell_type": "code",
      "metadata": {
        "id": "_SbDYml2fLqT",
        "colab_type": "code",
        "colab": {}
      },
      "source": [
        "y_test =  transform_to_categorical(y_test, unique_intents.tolist())"
      ],
      "execution_count": 0,
      "outputs": []
    },
    {
      "cell_type": "code",
      "metadata": {
        "id": "eJ9KZ7xlN5Mz",
        "colab_type": "code",
        "colab": {}
      },
      "source": [
        "COUNT_CLASSES = unique_intents.shape[0]"
      ],
      "execution_count": 0,
      "outputs": []
    },
    {
      "cell_type": "code",
      "metadata": {
        "id": "APJKTOTUYCY2",
        "colab_type": "code",
        "outputId": "0dca5cd0-cfcb-4e3d-ab06-c4f79dc219be",
        "colab": {
          "base_uri": "https://localhost:8080/",
          "height": 425
        }
      },
      "source": [
        "keras_model = get_model(word2vec_model, COUNT_CLASSES)\n",
        "keras_model.summary()"
      ],
      "execution_count": 44,
      "outputs": [
        {
          "output_type": "stream",
          "text": [
            "Model: \"sequential_2\"\n",
            "_________________________________________________________________\n",
            "Layer (type)                 Output Shape              Param #   \n",
            "=================================================================\n",
            "embedding_2 (Embedding)      (None, None, 200)         480000    \n",
            "_________________________________________________________________\n",
            "dropout_3 (Dropout)          (None, None, 200)         0         \n",
            "_________________________________________________________________\n",
            "conv1d_2 (Conv1D)            (None, None, 50)          30050     \n",
            "_________________________________________________________________\n",
            "global_max_pooling1d_2 (Glob (None, 50)                0         \n",
            "_________________________________________________________________\n",
            "dense_3 (Dense)              (None, 250)               12750     \n",
            "_________________________________________________________________\n",
            "dropout_4 (Dropout)          (None, 250)               0         \n",
            "_________________________________________________________________\n",
            "activation_2 (Activation)    (None, 250)               0         \n",
            "_________________________________________________________________\n",
            "dense_4 (Dense)              (None, 5)                 1255      \n",
            "=================================================================\n",
            "Total params: 524,055\n",
            "Trainable params: 524,055\n",
            "Non-trainable params: 0\n",
            "_________________________________________________________________\n"
          ],
          "name": "stdout"
        }
      ]
    },
    {
      "cell_type": "code",
      "metadata": {
        "id": "XA5fn-FvU7Wk",
        "colab_type": "code",
        "colab": {}
      },
      "source": [
        "BATCH = 32\n",
        "EPOCHS_COUNT = 10"
      ],
      "execution_count": 0,
      "outputs": []
    },
    {
      "cell_type": "code",
      "metadata": {
        "id": "xwRAbO1YR4va",
        "colab_type": "code",
        "outputId": "5bcccd8b-2a53-44c0-f924-e01d48e90f79",
        "colab": {
          "base_uri": "https://localhost:8080/",
          "height": 391
        }
      },
      "source": [
        "keras_model.fit(X_train, y_train, batch_size = BATCH, epochs = EPOCHS_COUNT, validation_data = (X_test, y_test),\n",
        "             callbacks=[ModelCheckpoint('drive/My Drive/ForGensim/keras_model.h5', save_best_only = True)])"
      ],
      "execution_count": 46,
      "outputs": [
        {
          "output_type": "stream",
          "text": [
            "Train on 9099 samples, validate on 2275 samples\n",
            "Epoch 1/10\n",
            "9099/9099 [==============================] - 3s 320us/step - loss: 0.5092 - acc: 0.8125 - val_loss: 0.0917 - val_acc: 0.9771\n",
            "Epoch 2/10\n",
            "9099/9099 [==============================] - 2s 252us/step - loss: 0.0659 - acc: 0.9838 - val_loss: 0.0328 - val_acc: 0.9912\n",
            "Epoch 3/10\n",
            "9099/9099 [==============================] - 2s 250us/step - loss: 0.0340 - acc: 0.9930 - val_loss: 0.0246 - val_acc: 0.9938\n",
            "Epoch 4/10\n",
            "9099/9099 [==============================] - 2s 252us/step - loss: 0.0212 - acc: 0.9948 - val_loss: 0.0204 - val_acc: 0.9956\n",
            "Epoch 5/10\n",
            "9099/9099 [==============================] - 2s 257us/step - loss: 0.0118 - acc: 0.9967 - val_loss: 0.0182 - val_acc: 0.9956\n",
            "Epoch 6/10\n",
            "9099/9099 [==============================] - 2s 250us/step - loss: 0.0084 - acc: 0.9978 - val_loss: 0.0196 - val_acc: 0.9943\n",
            "Epoch 7/10\n",
            "9099/9099 [==============================] - 2s 257us/step - loss: 0.0066 - acc: 0.9981 - val_loss: 0.0286 - val_acc: 0.9925\n",
            "Epoch 8/10\n",
            "9099/9099 [==============================] - 2s 265us/step - loss: 0.0075 - acc: 0.9981 - val_loss: 0.0259 - val_acc: 0.9930\n",
            "Epoch 9/10\n",
            "9099/9099 [==============================] - 2s 252us/step - loss: 0.0029 - acc: 0.9992 - val_loss: 0.0240 - val_acc: 0.9934\n",
            "Epoch 10/10\n",
            "9099/9099 [==============================] - 2s 255us/step - loss: 0.0026 - acc: 0.9991 - val_loss: 0.0303 - val_acc: 0.9934\n"
          ],
          "name": "stdout"
        },
        {
          "output_type": "execute_result",
          "data": {
            "text/plain": [
              "<keras.callbacks.History at 0x7f199f87c780>"
            ]
          },
          "metadata": {
            "tags": []
          },
          "execution_count": 46
        }
      ]
    },
    {
      "cell_type": "code",
      "metadata": {
        "id": "co0ybjNUskn7",
        "colab_type": "code",
        "colab": {}
      },
      "source": [
        "test_data=pd.read_csv('drive/My Drive/ForGensim/test.csv')"
      ],
      "execution_count": 0,
      "outputs": []
    },
    {
      "cell_type": "code",
      "metadata": {
        "id": "Llk_8Imx4voi",
        "colab_type": "code",
        "colab": {
          "base_uri": "https://localhost:8080/",
          "height": 204
        },
        "outputId": "12e7bc65-441c-4189-a121-47acf6085cd9"
      },
      "source": [
        "test_data"
      ],
      "execution_count": 64,
      "outputs": [
        {
          "output_type": "execute_result",
          "data": {
            "text/html": [
              "<div>\n",
              "<style scoped>\n",
              "    .dataframe tbody tr th:only-of-type {\n",
              "        vertical-align: middle;\n",
              "    }\n",
              "\n",
              "    .dataframe tbody tr th {\n",
              "        vertical-align: top;\n",
              "    }\n",
              "\n",
              "    .dataframe thead th {\n",
              "        text-align: right;\n",
              "    }\n",
              "</style>\n",
              "<table border=\"1\" class=\"dataframe\">\n",
              "  <thead>\n",
              "    <tr style=\"text-align: right;\">\n",
              "      <th></th>\n",
              "      <th>text</th>\n",
              "    </tr>\n",
              "  </thead>\n",
              "  <tbody>\n",
              "    <tr>\n",
              "      <th>0</th>\n",
              "      <td>Add another song to my playlist</td>\n",
              "    </tr>\n",
              "    <tr>\n",
              "      <th>1</th>\n",
              "      <td>get weather tomorrow</td>\n",
              "    </tr>\n",
              "    <tr>\n",
              "      <th>2</th>\n",
              "      <td>what is the weather today?</td>\n",
              "    </tr>\n",
              "    <tr>\n",
              "      <th>3</th>\n",
              "      <td>turn on my music</td>\n",
              "    </tr>\n",
              "    <tr>\n",
              "      <th>4</th>\n",
              "      <td>what is the temperature this night in Kirov?</td>\n",
              "    </tr>\n",
              "  </tbody>\n",
              "</table>\n",
              "</div>"
            ],
            "text/plain": [
              "                                           text\n",
              "0               Add another song to my playlist\n",
              "1                          get weather tomorrow\n",
              "2                    what is the weather today?\n",
              "3                              turn on my music\n",
              "4  what is the temperature this night in Kirov?"
            ]
          },
          "metadata": {
            "tags": []
          },
          "execution_count": 64
        }
      ]
    },
    {
      "cell_type": "code",
      "metadata": {
        "id": "cMngOhG24x-E",
        "colab_type": "code",
        "colab": {}
      },
      "source": [
        "#переводим тестовые предложения в вектора\n",
        "test_texts = np.array(test_data.text.apply(lambda x : remove_stopwords(x)))\n",
        "sequences_test = tokenizer.texts_to_sequences(test_texts)\n",
        "X_predict = pad_sequences(sequences_test, maxlen = X_train.shape[1])"
      ],
      "execution_count": 0,
      "outputs": []
    },
    {
      "cell_type": "code",
      "metadata": {
        "id": "IYegYpBGnruf",
        "colab_type": "code",
        "colab": {}
      },
      "source": [
        "prediction = keras_model.predict_classes(X_predict)"
      ],
      "execution_count": 0,
      "outputs": []
    },
    {
      "cell_type": "code",
      "metadata": {
        "id": "O5PRS_nEzLyk",
        "colab_type": "code",
        "outputId": "1ae2d2a6-bc2a-4a30-9a33-d55aea031765",
        "colab": {
          "base_uri": "https://localhost:8080/",
          "height": 34
        }
      },
      "source": [
        "answers = transform_from_categorical(prediction, unique_intents.tolist())\n",
        "answers"
      ],
      "execution_count": 67,
      "outputs": [
        {
          "output_type": "execute_result",
          "data": {
            "text/plain": [
              "['AddToPlaylist', 'GetWeather', 'GetWeather', 'PlayMusic', 'GetWeather']"
            ]
          },
          "metadata": {
            "tags": []
          },
          "execution_count": 67
        }
      ]
    },
    {
      "cell_type": "markdown",
      "metadata": {
        "id": "W6-v8G5lmIRM",
        "colab_type": "text"
      },
      "source": [
        "**Дообучение модели**"
      ]
    },
    {
      "cell_type": "code",
      "metadata": {
        "id": "_pFG4qGqRjbf",
        "colab_type": "code",
        "colab": {}
      },
      "source": [
        "def add_new_intents(old, new):\n",
        "  result = old\n",
        "\n",
        "  for i in new:\n",
        "    result.append(i)\n",
        "\n",
        "  return result"
      ],
      "execution_count": 0,
      "outputs": []
    },
    {
      "cell_type": "code",
      "metadata": {
        "id": "QAHRr1xpt8Q7",
        "colab_type": "code",
        "colab": {}
      },
      "source": [
        "new_file_csv = pd.read_csv('drive/My Drive/ForGensim/train_new.csv')"
      ],
      "execution_count": 0,
      "outputs": []
    },
    {
      "cell_type": "code",
      "metadata": {
        "id": "z1zOF-4UZPZ5",
        "colab_type": "code",
        "colab": {}
      },
      "source": [
        "all_new_texts = new_file_csv['text']\n",
        "all_new_intents = new_file_csv['intents']"
      ],
      "execution_count": 0,
      "outputs": []
    },
    {
      "cell_type": "code",
      "metadata": {
        "id": "vztZz8CAgpl-",
        "colab_type": "code",
        "colab": {}
      },
      "source": [
        "unique_new_intents = new_file_csv.intents.unique()"
      ],
      "execution_count": 0,
      "outputs": []
    },
    {
      "cell_type": "code",
      "metadata": {
        "id": "znnqyRZ6guEe",
        "colab_type": "code",
        "outputId": "0b140c47-5f0d-4865-fb41-1a0fafde4459",
        "colab": {
          "base_uri": "https://localhost:8080/",
          "height": 34
        }
      },
      "source": [
        "unique_new_intents"
      ],
      "execution_count": 57,
      "outputs": [
        {
          "output_type": "execute_result",
          "data": {
            "text/plain": [
              "array(['RateBook', 'SearchCreativeWork'], dtype=object)"
            ]
          },
          "metadata": {
            "tags": []
          },
          "execution_count": 57
        }
      ]
    },
    {
      "cell_type": "code",
      "metadata": {
        "id": "vxBLTI-8mQ-u",
        "colab_type": "code",
        "colab": {}
      },
      "source": [
        "keras_model = load_model('drive/My Drive/ForGensim/keras_model.h5')"
      ],
      "execution_count": 0,
      "outputs": []
    },
    {
      "cell_type": "code",
      "metadata": {
        "id": "HaPfgwaixJM3",
        "colab_type": "code",
        "outputId": "9d7bcbbf-44be-4852-d380-9520453e97cf",
        "colab": {
          "base_uri": "https://localhost:8080/",
          "height": 72
        }
      },
      "source": [
        "word2vec_model = Word2Vec.load(\"drive/My Drive/ForGensim/Word2VecModel\")"
      ],
      "execution_count": 0,
      "outputs": [
        {
          "output_type": "stream",
          "text": [
            "/usr/local/lib/python3.6/dist-packages/smart_open/smart_open_lib.py:402: UserWarning: This function is deprecated, use smart_open.open instead. See the migration notes for details: https://github.com/RaRe-Technologies/smart_open/blob/master/README.rst#migrating-to-the-new-open-function\n",
            "  'See the migration notes for details: %s' % _MIGRATION_NOTES_URL\n"
          ],
          "name": "stderr"
        }
      ]
    },
    {
      "cell_type": "code",
      "metadata": {
        "id": "5cVPzocRVCZ-",
        "colab_type": "code",
        "colab": {}
      },
      "source": [
        "tokens_new = get_tokens(all_new_texts)"
      ],
      "execution_count": 0,
      "outputs": []
    },
    {
      "cell_type": "code",
      "metadata": {
        "id": "d6QyIaUSVI4d",
        "colab_type": "code",
        "outputId": "1aa74652-125a-46c2-88d8-681cf39a22af",
        "colab": {
          "base_uri": "https://localhost:8080/",
          "height": 105
        }
      },
      "source": [
        "tokens_new[:5]"
      ],
      "execution_count": 0,
      "outputs": [
        {
          "output_type": "execute_result",
          "data": {
            "text/plain": [
              "[['rate', 'lotus', 'storm', 'zero'],\n",
              " ['rate', 'fall', 'artist', 'stars'],\n",
              " ['rate', 'current', 'novel', 'one', 'points'],\n",
              " ['rate', 'ape', 'man', 'within'],\n",
              " ['give', 'penalty', 'three', 'stars']]"
            ]
          },
          "metadata": {
            "tags": []
          },
          "execution_count": 184
        }
      ]
    },
    {
      "cell_type": "code",
      "metadata": {
        "id": "v-R0IU67kl4V",
        "colab_type": "code",
        "colab": {}
      },
      "source": [
        "texts = np.array(all_new_texts.apply(lambda x : remove_stopwords(x)))"
      ],
      "execution_count": 0,
      "outputs": []
    },
    {
      "cell_type": "code",
      "metadata": {
        "id": "CMVZ5CeDhXRP",
        "colab_type": "code",
        "outputId": "74bd2639-9d1f-4cbf-a5e2-096dab418894",
        "colab": {
          "base_uri": "https://localhost:8080/",
          "height": 70
        }
      },
      "source": [
        "#дообучаем модель word2vec\n",
        "word2vec_model.build_vocab(tokens_new, update = True)\n",
        "word2vec_model.train(tokens_new, total_examples = len(tokens_new), epochs = word2vec_model.iter)"
      ],
      "execution_count": 0,
      "outputs": [
        {
          "output_type": "stream",
          "text": [
            "/usr/local/lib/python3.6/dist-packages/ipykernel_launcher.py:2: DeprecationWarning: Call to deprecated `iter` (Attribute will be removed in 4.0.0, use self.epochs instead).\n",
            "  \n"
          ],
          "name": "stderr"
        },
        {
          "output_type": "execute_result",
          "data": {
            "text/plain": [
              "(92987, 211270)"
            ]
          },
          "metadata": {
            "tags": []
          },
          "execution_count": 186
        }
      ]
    },
    {
      "cell_type": "code",
      "metadata": {
        "id": "R9TYL9qsnGqf",
        "colab_type": "code",
        "colab": {}
      },
      "source": [
        "text = get_tokenizer_text(texts)"
      ],
      "execution_count": 0,
      "outputs": []
    },
    {
      "cell_type": "code",
      "metadata": {
        "id": "9QzJ28RRoa2Q",
        "colab_type": "code",
        "colab": {}
      },
      "source": [
        "X_train_new, X_test_new, y_train_new, y_test_new = train_test_split(text, all_new_intents, test_size=0.2, stratify=all_new_intents)"
      ],
      "execution_count": 0,
      "outputs": []
    },
    {
      "cell_type": "code",
      "metadata": {
        "id": "bEt3MQrslYiQ",
        "colab_type": "code",
        "colab": {}
      },
      "source": [
        "all_unique_intents = add_new_intents(unique_intents.tolist(), unique_new_intents.tolist())"
      ],
      "execution_count": 0,
      "outputs": []
    },
    {
      "cell_type": "code",
      "metadata": {
        "id": "iK1boRSillcW",
        "colab_type": "code",
        "outputId": "acc67012-2c2e-4e76-d844-8476ef3486b5",
        "colab": {
          "base_uri": "https://localhost:8080/",
          "height": 140
        }
      },
      "source": [
        "all_unique_intents"
      ],
      "execution_count": 0,
      "outputs": [
        {
          "output_type": "execute_result",
          "data": {
            "text/plain": [
              "['AddToPlaylist',\n",
              " 'BookRestaurant',\n",
              " 'GetWeather',\n",
              " 'PlayMusic',\n",
              " 'SearchScreeningEvent',\n",
              " 'RateBook',\n",
              " 'SearchCreativeWork']"
            ]
          },
          "metadata": {
            "tags": []
          },
          "execution_count": 190
        }
      ]
    },
    {
      "cell_type": "code",
      "metadata": {
        "id": "uYp-teohmdUj",
        "colab_type": "code",
        "colab": {}
      },
      "source": [
        "y_train_new = transform_to_categorical(y_train_new, all_unique_intents)"
      ],
      "execution_count": 0,
      "outputs": []
    },
    {
      "cell_type": "code",
      "metadata": {
        "id": "iqDViR7KvGaE",
        "colab_type": "code",
        "colab": {}
      },
      "source": [
        "y_test_new =  transform_to_categorical(y_test_new, all_unique_intents)"
      ],
      "execution_count": 0,
      "outputs": []
    },
    {
      "cell_type": "code",
      "metadata": {
        "id": "88Q9e3azvY7_",
        "colab_type": "code",
        "colab": {}
      },
      "source": [
        "keras_model.pop()"
      ],
      "execution_count": 0,
      "outputs": []
    },
    {
      "cell_type": "code",
      "metadata": {
        "id": "xQnOll-Snl0O",
        "colab_type": "code",
        "colab": {}
      },
      "source": [
        "keras_model.add(Dense(7, activation = 'softmax'))"
      ],
      "execution_count": 0,
      "outputs": []
    },
    {
      "cell_type": "code",
      "metadata": {
        "id": "OutUpwP_vq5A",
        "colab_type": "code",
        "colab": {}
      },
      "source": [
        "keras_model.compile(loss = 'categorical_crossentropy', optimizer = 'adam', metrics = ['accuracy'])"
      ],
      "execution_count": 0,
      "outputs": []
    },
    {
      "cell_type": "code",
      "metadata": {
        "id": "kJLD6k9fn9Wj",
        "colab_type": "code",
        "outputId": "350ff0cf-7c09-4c31-9672-9a85c556de6a",
        "colab": {
          "base_uri": "https://localhost:8080/",
          "height": 439
        }
      },
      "source": [
        "keras_model.summary()"
      ],
      "execution_count": 0,
      "outputs": [
        {
          "output_type": "stream",
          "text": [
            "Model: \"sequential_3\"\n",
            "_________________________________________________________________\n",
            "Layer (type)                 Output Shape              Param #   \n",
            "=================================================================\n",
            "embedding_3 (Embedding)      (None, None, 200)         480000    \n",
            "_________________________________________________________________\n",
            "dropout_5 (Dropout)          (None, None, 200)         0         \n",
            "_________________________________________________________________\n",
            "conv1d_3 (Conv1D)            (None, None, 50)          30050     \n",
            "_________________________________________________________________\n",
            "global_max_pooling1d_3 (Glob (None, 50)                0         \n",
            "_________________________________________________________________\n",
            "dense_7 (Dense)              (None, 250)               12750     \n",
            "_________________________________________________________________\n",
            "dropout_6 (Dropout)          (None, 250)               0         \n",
            "_________________________________________________________________\n",
            "activation_3 (Activation)    (None, 250)               0         \n",
            "_________________________________________________________________\n",
            "dense_9 (Dense)              (None, 7)                 1757      \n",
            "=================================================================\n",
            "Total params: 524,557\n",
            "Trainable params: 524,557\n",
            "Non-trainable params: 0\n",
            "_________________________________________________________________\n"
          ],
          "name": "stdout"
        }
      ]
    },
    {
      "cell_type": "code",
      "metadata": {
        "id": "3WFs0I5hvlbU",
        "colab_type": "code",
        "outputId": "7c0b1510-6a48-4759-f9ce-43d362cd0fad",
        "colab": {
          "base_uri": "https://localhost:8080/",
          "height": 404
        }
      },
      "source": [
        "keras_model.fit(X_train_new, y_train_new, batch_size=BATCH, epochs=EPOCHS_COUNT, validation_data=(X_test_new, y_test_new))"
      ],
      "execution_count": 0,
      "outputs": [
        {
          "output_type": "stream",
          "text": [
            "Train on 3608 samples, validate on 902 samples\n",
            "Epoch 1/10\n",
            "3608/3608 [==============================] - 1s 397us/step - loss: 0.2252 - acc: 0.9105 - val_loss: 0.0537 - val_acc: 0.9823\n",
            "Epoch 2/10\n",
            "3608/3608 [==============================] - 1s 172us/step - loss: 0.0320 - acc: 0.9873 - val_loss: 0.0242 - val_acc: 0.9911\n",
            "Epoch 3/10\n",
            "3608/3608 [==============================] - 1s 177us/step - loss: 0.0154 - acc: 0.9947 - val_loss: 0.0206 - val_acc: 0.9945\n",
            "Epoch 4/10\n",
            "3608/3608 [==============================] - 1s 160us/step - loss: 0.0063 - acc: 0.9983 - val_loss: 0.0195 - val_acc: 0.9933\n",
            "Epoch 5/10\n",
            "3608/3608 [==============================] - 1s 167us/step - loss: 0.0058 - acc: 0.9983 - val_loss: 0.0231 - val_acc: 0.9933\n",
            "Epoch 6/10\n",
            "3608/3608 [==============================] - 1s 174us/step - loss: 0.0030 - acc: 0.9989 - val_loss: 0.0176 - val_acc: 0.9945\n",
            "Epoch 7/10\n",
            "3608/3608 [==============================] - 1s 166us/step - loss: 0.0014 - acc: 0.9994 - val_loss: 0.0168 - val_acc: 0.9945\n",
            "Epoch 8/10\n",
            "3608/3608 [==============================] - 1s 164us/step - loss: 5.8775e-04 - acc: 1.0000 - val_loss: 0.0167 - val_acc: 0.9945\n",
            "Epoch 9/10\n",
            "3608/3608 [==============================] - 1s 164us/step - loss: 4.0229e-04 - acc: 1.0000 - val_loss: 0.0170 - val_acc: 0.9945\n",
            "Epoch 10/10\n",
            "3608/3608 [==============================] - 1s 172us/step - loss: 3.2857e-04 - acc: 1.0000 - val_loss: 0.0168 - val_acc: 0.9945\n"
          ],
          "name": "stdout"
        },
        {
          "output_type": "execute_result",
          "data": {
            "text/plain": [
              "<keras.callbacks.History at 0x7f18f3629898>"
            ]
          },
          "metadata": {
            "tags": []
          },
          "execution_count": 197
        }
      ]
    },
    {
      "cell_type": "code",
      "metadata": {
        "id": "qZ64y5mQxqHo",
        "colab_type": "code",
        "colab": {}
      },
      "source": [
        "X_predict = []\n",
        "X_predict.append([0,    0,    0,    9,    2, 2716,    3,  179, 2717,   85])# не знаем, как строку преобразовать в вектор чисел\n",
        "X_predict = np.array(X_predict)"
      ],
      "execution_count": 0,
      "outputs": []
    },
    {
      "cell_type": "code",
      "metadata": {
        "id": "I9r1UBjpxv9f",
        "colab_type": "code",
        "colab": {}
      },
      "source": [
        "prediction = keras_model.predict_classes(X_predict)"
      ],
      "execution_count": 0,
      "outputs": []
    },
    {
      "cell_type": "code",
      "metadata": {
        "id": "NpOtrfeQxwLH",
        "colab_type": "code",
        "outputId": "57f8847a-dd1a-480c-addf-1ce4c47dab62",
        "colab": {
          "base_uri": "https://localhost:8080/",
          "height": 34
        }
      },
      "source": [
        "answers = transform_from_categorical(prediction, all_unique_intents)\n",
        "answers"
      ],
      "execution_count": 0,
      "outputs": [
        {
          "output_type": "execute_result",
          "data": {
            "text/plain": [
              "['SearchCreativeWork']"
            ]
          },
          "metadata": {
            "tags": []
          },
          "execution_count": 200
        }
      ]
    }
  ]
}