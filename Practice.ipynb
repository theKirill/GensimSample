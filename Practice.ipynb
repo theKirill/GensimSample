{
  "nbformat": 4,
  "nbformat_minor": 0,
  "metadata": {
    "colab": {
      "name": "practice.ipynb",
      "provenance": []
    },
    "kernelspec": {
      "name": "python3",
      "display_name": "Python 3"
    },
    "accelerator": "GPU"
  },
  "cells": [
    {
      "cell_type": "code",
      "metadata": {
        "id": "CCq8L9tfX-tf",
        "colab_type": "code",
        "outputId": "85df3e27-b307-4374-b10f-e902fb601186",
        "colab": {
          "base_uri": "https://localhost:8080/",
          "height": 81
        }
      },
      "source": [
        "import gensim\n",
        "import nltk\n",
        "from nltk.corpus import stopwords\n",
        "from gensim.models import Word2Vec\n",
        "import pandas as pd\n",
        "import numpy as np\n",
        "import keras\n",
        "from keras.preprocessing.text import Tokenizer\n",
        "from keras.preprocessing.sequence import pad_sequences\n",
        "from keras.models import Sequential\n",
        "from keras.layers import Dense, Flatten, Embedding, Dropout, Conv1D, GlobalMaxPooling1D, Activation\n",
        "from keras.models import Model\n",
        "import sklearn\n",
        "from sklearn.model_selection import train_test_split\n",
        "from keras.utils import to_categorical"
      ],
      "execution_count": 0,
      "outputs": [
        {
          "output_type": "stream",
          "text": [
            "Using TensorFlow backend.\n"
          ],
          "name": "stderr"
        },
        {
          "output_type": "display_data",
          "data": {
            "text/html": [
              "<p style=\"color: red;\">\n",
              "The default version of TensorFlow in Colab will soon switch to TensorFlow 2.x.<br>\n",
              "We recommend you <a href=\"https://www.tensorflow.org/guide/migrate\" target=\"_blank\">upgrade</a> now \n",
              "or ensure your notebook will continue to use TensorFlow 1.x via the <code>%tensorflow_version 1.x</code> magic:\n",
              "<a href=\"https://colab.research.google.com/notebooks/tensorflow_version.ipynb\" target=\"_blank\">more info</a>.</p>\n"
            ],
            "text/plain": [
              "<IPython.core.display.HTML object>"
            ]
          },
          "metadata": {
            "tags": []
          }
        }
      ]
    },
    {
      "cell_type": "code",
      "metadata": {
        "id": "DapJGFymcYbH",
        "colab_type": "code",
        "colab": {}
      },
      "source": [
        "from nltk.tokenize import RegexpTokenizer\n",
        "from gensim.utils import simple_preprocess\n",
        "import os"
      ],
      "execution_count": 0,
      "outputs": []
    },
    {
      "cell_type": "code",
      "metadata": {
        "id": "u7yBLPEfObyi",
        "colab_type": "code",
        "outputId": "c7242cec-36f7-4856-e473-65471da15aac",
        "colab": {
          "base_uri": "https://localhost:8080/",
          "height": 105
        }
      },
      "source": [
        "nltk.download('punkt')\n",
        "nltk.download('stopwords')"
      ],
      "execution_count": 0,
      "outputs": [
        {
          "output_type": "stream",
          "text": [
            "[nltk_data] Downloading package punkt to /root/nltk_data...\n",
            "[nltk_data]   Unzipping tokenizers/punkt.zip.\n",
            "[nltk_data] Downloading package stopwords to /root/nltk_data...\n",
            "[nltk_data]   Unzipping corpora/stopwords.zip.\n"
          ],
          "name": "stdout"
        },
        {
          "output_type": "execute_result",
          "data": {
            "text/plain": [
              "True"
            ]
          },
          "metadata": {
            "tags": []
          },
          "execution_count": 4
        }
      ]
    },
    {
      "cell_type": "code",
      "metadata": {
        "id": "E4DCQmLiCITG",
        "colab_type": "code",
        "outputId": "73a481a1-2529-4f9f-e19c-f92f77216536",
        "colab": {
          "base_uri": "https://localhost:8080/",
          "height": 125
        }
      },
      "source": [
        "from google.colab import drive\n",
        "drive.mount('/content/drive')"
      ],
      "execution_count": 0,
      "outputs": [
        {
          "output_type": "stream",
          "text": [
            "Go to this URL in a browser: https://accounts.google.com/o/oauth2/auth?client_id=947318989803-6bn6qk8qdgf4n4g3pfee6491hc0brc4i.apps.googleusercontent.com&redirect_uri=urn%3aietf%3awg%3aoauth%3a2.0%3aoob&response_type=code&scope=email%20https%3a%2f%2fwww.googleapis.com%2fauth%2fdocs.test%20https%3a%2f%2fwww.googleapis.com%2fauth%2fdrive%20https%3a%2f%2fwww.googleapis.com%2fauth%2fdrive.photos.readonly%20https%3a%2f%2fwww.googleapis.com%2fauth%2fpeopleapi.readonly\n",
            "\n",
            "Enter your authorization code:\n",
            "··········\n",
            "Mounted at /content/drive\n"
          ],
          "name": "stdout"
        }
      ]
    },
    {
      "cell_type": "code",
      "metadata": {
        "id": "iLlOyB5xy2HD",
        "colab_type": "code",
        "colab": {}
      },
      "source": [
        "file_csv = pd.read_csv('drive/My Drive/ForGensim/train.csv')"
      ],
      "execution_count": 0,
      "outputs": []
    },
    {
      "cell_type": "code",
      "metadata": {
        "id": "0Fgb2vFPQhfP",
        "colab_type": "code",
        "outputId": "9089e481-bdc1-4a25-c00f-fbdb8f0eeeef",
        "colab": {
          "base_uri": "https://localhost:8080/",
          "height": 402
        }
      },
      "source": [
        "file_csv"
      ],
      "execution_count": 0,
      "outputs": [
        {
          "output_type": "execute_result",
          "data": {
            "text/html": [
              "<div>\n",
              "<style scoped>\n",
              "    .dataframe tbody tr th:only-of-type {\n",
              "        vertical-align: middle;\n",
              "    }\n",
              "\n",
              "    .dataframe tbody tr th {\n",
              "        vertical-align: top;\n",
              "    }\n",
              "\n",
              "    .dataframe thead th {\n",
              "        text-align: right;\n",
              "    }\n",
              "</style>\n",
              "<table border=\"1\" class=\"dataframe\">\n",
              "  <thead>\n",
              "    <tr style=\"text-align: right;\">\n",
              "      <th></th>\n",
              "      <th>text</th>\n",
              "      <th>intents</th>\n",
              "    </tr>\n",
              "  </thead>\n",
              "  <tbody>\n",
              "    <tr>\n",
              "      <th>0</th>\n",
              "      <td>Add another song to the Cita RomГЎntica playli...</td>\n",
              "      <td>AddToPlaylist</td>\n",
              "    </tr>\n",
              "    <tr>\n",
              "      <th>1</th>\n",
              "      <td>add clem burke in my playlist Pre-Party R&amp;B Jams</td>\n",
              "      <td>AddToPlaylist</td>\n",
              "    </tr>\n",
              "    <tr>\n",
              "      <th>2</th>\n",
              "      <td>Add Live from Aragon Ballroom to Trapeo</td>\n",
              "      <td>AddToPlaylist</td>\n",
              "    </tr>\n",
              "    <tr>\n",
              "      <th>3</th>\n",
              "      <td>add Unite and Win to my night out</td>\n",
              "      <td>AddToPlaylist</td>\n",
              "    </tr>\n",
              "    <tr>\n",
              "      <th>4</th>\n",
              "      <td>Add track to my Digster Future Hits</td>\n",
              "      <td>AddToPlaylist</td>\n",
              "    </tr>\n",
              "    <tr>\n",
              "      <th>...</th>\n",
              "      <td>...</td>\n",
              "      <td>...</td>\n",
              "    </tr>\n",
              "    <tr>\n",
              "      <th>15879</th>\n",
              "      <td>Is Across the Line playing at the closest movi...</td>\n",
              "      <td>SearchScreeningEvent</td>\n",
              "    </tr>\n",
              "    <tr>\n",
              "      <th>15880</th>\n",
              "      <td>Which animated movies are playing in the neigh...</td>\n",
              "      <td>SearchScreeningEvent</td>\n",
              "    </tr>\n",
              "    <tr>\n",
              "      <th>15881</th>\n",
              "      <td>Where is They Always Return at Dawn playing</td>\n",
              "      <td>SearchScreeningEvent</td>\n",
              "    </tr>\n",
              "    <tr>\n",
              "      <th>15882</th>\n",
              "      <td>What is the movie schedule in the neighborhood</td>\n",
              "      <td>SearchScreeningEvent</td>\n",
              "    </tr>\n",
              "    <tr>\n",
              "      <th>15883</th>\n",
              "      <td>Tell me when Howling II: Your Sister Is a Were...</td>\n",
              "      <td>SearchScreeningEvent</td>\n",
              "    </tr>\n",
              "  </tbody>\n",
              "</table>\n",
              "<p>15884 rows × 2 columns</p>\n",
              "</div>"
            ],
            "text/plain": [
              "                                                    text               intents\n",
              "0      Add another song to the Cita RomГЎntica playli...         AddToPlaylist\n",
              "1       add clem burke in my playlist Pre-Party R&B Jams         AddToPlaylist\n",
              "2                Add Live from Aragon Ballroom to Trapeo         AddToPlaylist\n",
              "3                      add Unite and Win to my night out         AddToPlaylist\n",
              "4                    Add track to my Digster Future Hits         AddToPlaylist\n",
              "...                                                  ...                   ...\n",
              "15879  Is Across the Line playing at the closest movi...  SearchScreeningEvent\n",
              "15880  Which animated movies are playing in the neigh...  SearchScreeningEvent\n",
              "15881        Where is They Always Return at Dawn playing  SearchScreeningEvent\n",
              "15882     What is the movie schedule in the neighborhood  SearchScreeningEvent\n",
              "15883  Tell me when Howling II: Your Sister Is a Were...  SearchScreeningEvent\n",
              "\n",
              "[15884 rows x 2 columns]"
            ]
          },
          "metadata": {
            "tags": []
          },
          "execution_count": 7
        }
      ]
    },
    {
      "cell_type": "code",
      "metadata": {
        "id": "z8Yp_2tMQOKl",
        "colab_type": "code",
        "outputId": "9e8e0fee-deba-40e5-a803-c0ed8da0a25e",
        "colab": {
          "base_uri": "https://localhost:8080/",
          "height": 34
        }
      },
      "source": [
        "file_csv = file_csv.dropna()\n",
        "file_csv['text'].apply(lambda x: len(x.split(' '))).sum()"
      ],
      "execution_count": 0,
      "outputs": [
        {
          "output_type": "execute_result",
          "data": {
            "text/plain": [
              "142821"
            ]
          },
          "metadata": {
            "tags": []
          },
          "execution_count": 8
        }
      ]
    },
    {
      "cell_type": "code",
      "metadata": {
        "id": "Hwt_CiyC1yfo",
        "colab_type": "code",
        "outputId": "1034305a-f28d-401f-ba89-447c8271ab9d",
        "colab": {
          "base_uri": "https://localhost:8080/",
          "height": 228
        }
      },
      "source": [
        "file_csv['text']"
      ],
      "execution_count": 0,
      "outputs": [
        {
          "output_type": "execute_result",
          "data": {
            "text/plain": [
              "0        Add another song to the Cita RomГЎntica playli...\n",
              "1         add clem burke in my playlist Pre-Party R&B Jams\n",
              "2                  Add Live from Aragon Ballroom to Trapeo\n",
              "3                        add Unite and Win to my night out\n",
              "4                      Add track to my Digster Future Hits\n",
              "                               ...                        \n",
              "15879    Is Across the Line playing at the closest movi...\n",
              "15880    Which animated movies are playing in the neigh...\n",
              "15881          Where is They Always Return at Dawn playing\n",
              "15882       What is the movie schedule in the neighborhood\n",
              "15883    Tell me when Howling II: Your Sister Is a Were...\n",
              "Name: text, Length: 15884, dtype: object"
            ]
          },
          "metadata": {
            "tags": []
          },
          "execution_count": 16
        }
      ]
    },
    {
      "cell_type": "code",
      "metadata": {
        "id": "_JQ7LK3-2O1Z",
        "colab_type": "code",
        "colab": {}
      },
      "source": [
        "intents = file_csv.intents.unique()"
      ],
      "execution_count": 0,
      "outputs": []
    },
    {
      "cell_type": "code",
      "metadata": {
        "id": "yLw4NaUoxoVk",
        "colab_type": "code",
        "colab": {}
      },
      "source": [
        "COUNT_CLASSES = intents.shape[0]"
      ],
      "execution_count": 0,
      "outputs": []
    },
    {
      "cell_type": "code",
      "metadata": {
        "id": "15-uj_1g2u19",
        "colab_type": "code",
        "outputId": "f4100712-c513-4897-e441-5778b24732d1",
        "colab": {
          "base_uri": "https://localhost:8080/",
          "height": 338
        }
      },
      "source": [
        "file_csv.intents.value_counts().plot(kind=\"bar\", rot=30)"
      ],
      "execution_count": 0,
      "outputs": [
        {
          "output_type": "execute_result",
          "data": {
            "text/plain": [
              "<matplotlib.axes._subplots.AxesSubplot at 0x7f41c0c4c6a0>"
            ]
          },
          "metadata": {
            "tags": []
          },
          "execution_count": 11
        },
        {
          "output_type": "display_data",
          "data": {
            "image/png": "[encoded data removed]",
            "text/plain": [
              "<Figure size 432x288 with 1 Axes>"
            ]
          },
          "metadata": {
            "tags": []
          }
        }
      ]
    },
    {
      "cell_type": "markdown",
      "metadata": {
        "id": "q-oraviUTcaG",
        "colab_type": "text"
      },
      "source": [
        "\n",
        "Удаление стоп-слов и пунктуации"
      ]
    },
    {
      "cell_type": "code",
      "metadata": {
        "id": "vMMxwWtQR-NL",
        "colab_type": "code",
        "colab": {}
      },
      "source": [
        "def remove_stopwords(text):\n",
        "  tokenizer = RegexpTokenizer(r'\\w+')\n",
        "  words = tokenizer.tokenize(text)\n",
        "  stop_words = set(stopwords.words(\"english\"))\n",
        "  without_stop_words = [w for w in words if w not in stop_words]\n",
        "  return without_stop_words"
      ],
      "execution_count": 0,
      "outputs": []
    },
    {
      "cell_type": "code",
      "metadata": {
        "id": "AKc9KmVrUsEq",
        "colab_type": "code",
        "colab": {}
      },
      "source": [
        "sentences = np.array(file_csv['text'].apply(lambda x : remove_stopwords(x)))"
      ],
      "execution_count": 0,
      "outputs": []
    },
    {
      "cell_type": "code",
      "metadata": {
        "id": "sD2pAgY8bnrB",
        "colab_type": "code",
        "colab": {
          "base_uri": "https://localhost:8080/",
          "height": 140
        },
        "outputId": "97210aef-d635-4f37-8036-5f5a86ce13cd"
      },
      "source": [
        "sentences"
      ],
      "execution_count": 134,
      "outputs": [
        {
          "output_type": "execute_result",
          "data": {
            "text/plain": [
              "array([list(['Add', 'another', 'song', 'Cita', 'RomГЎntica', 'playlist']),\n",
              "       list(['add', 'clem', 'burke', 'playlist', 'Pre', 'Party', 'R', 'B', 'Jams']),\n",
              "       list(['Add', 'Live', 'Aragon', 'Ballroom', 'Trapeo']), ...,\n",
              "       list(['Where', 'They', 'Always', 'Return', 'Dawn', 'playing']),\n",
              "       list(['What', 'movie', 'schedule', 'neighborhood']),\n",
              "       list(['Tell', 'Howling', 'II', 'Your', 'Sister', 'Is', 'Werewolf', 'playing'])],\n",
              "      dtype=object)"
            ]
          },
          "metadata": {
            "tags": []
          },
          "execution_count": 134
        }
      ]
    },
    {
      "cell_type": "code",
      "metadata": {
        "id": "ct7k4eYPU1aO",
        "colab_type": "code",
        "colab": {}
      },
      "source": [
        "tokens = []\n",
        "\n",
        "for sentence in sentences:\n",
        "  tokens.append(sentence)"
      ],
      "execution_count": 0,
      "outputs": []
    },
    {
      "cell_type": "code",
      "metadata": {
        "id": "90Z6jo9lfph0",
        "colab_type": "code",
        "colab": {
          "base_uri": "https://localhost:8080/",
          "height": 105
        },
        "outputId": "a237ac58-ef4b-4558-b35d-01e70deb0ca6"
      },
      "source": [
        "tokens[:5]"
      ],
      "execution_count": 137,
      "outputs": [
        {
          "output_type": "execute_result",
          "data": {
            "text/plain": [
              "[['Add', 'another', 'song', 'Cita', 'RomГЎntica', 'playlist'],\n",
              " ['add', 'clem', 'burke', 'playlist', 'Pre', 'Party', 'R', 'B', 'Jams'],\n",
              " ['Add', 'Live', 'Aragon', 'Ballroom', 'Trapeo'],\n",
              " ['add', 'Unite', 'Win', 'night'],\n",
              " ['Add', 'track', 'Digster', 'Future', 'Hits']]"
            ]
          },
          "metadata": {
            "tags": []
          },
          "execution_count": 137
        }
      ]
    },
    {
      "cell_type": "markdown",
      "metadata": {
        "id": "d9yR-UzwPPNr",
        "colab_type": "text"
      },
      "source": [
        "Работа с Word2Vec"
      ]
    },
    {
      "cell_type": "code",
      "metadata": {
        "id": "1j1Ft2Oj3zUr",
        "colab_type": "code",
        "colab": {}
      },
      "source": [
        "model = Word2Vec(tokens, size=200, window=10, min_count=3, workers=4)"
      ],
      "execution_count": 0,
      "outputs": []
    },
    {
      "cell_type": "code",
      "metadata": {
        "id": "SHExhjKWCf2w",
        "colab_type": "code",
        "colab": {}
      },
      "source": [
        "model.train(tokens, total_examples=len(tokens), epochs=500)"
      ],
      "execution_count": 0,
      "outputs": []
    },
    {
      "cell_type": "code",
      "metadata": {
        "id": "i4CfKT_HQ9AW",
        "colab_type": "code",
        "outputId": "62906ea4-2c85-4669-b396-23c312cc7b35",
        "colab": {
          "base_uri": "https://localhost:8080/",
          "height": 301
        }
      },
      "source": [
        "model.most_similar('song')"
      ],
      "execution_count": 100,
      "outputs": [
        {
          "output_type": "stream",
          "text": [
            "/usr/local/lib/python3.6/dist-packages/ipykernel_launcher.py:1: DeprecationWarning: Call to deprecated `most_similar` (Method will be removed in 4.0.0, use self.wv.most_similar() instead).\n",
            "  \"\"\"Entry point for launching an IPython kernel.\n",
            "2019-12-04 10:30:18,370 : INFO : precomputing L2-norms of word weight vectors\n",
            "/usr/local/lib/python3.6/dist-packages/gensim/matutils.py:737: FutureWarning: Conversion of the second argument of issubdtype from `int` to `np.signedinteger` is deprecated. In future, it will be treated as `np.int64 == np.dtype(int).type`.\n",
            "  if np.issubdtype(vec.dtype, np.int):\n"
          ],
          "name": "stderr"
        },
        {
          "output_type": "execute_result",
          "data": {
            "text/plain": [
              "[('track', 0.5693663358688354),\n",
              " ('music', 0.45309245586395264),\n",
              " ('songs', 0.44030633568763733),\n",
              " ('anything', 0.4304860830307007),\n",
              " ('88', 0.4297087788581848),\n",
              " ('ep', 0.4238709509372711),\n",
              " ('tune', 0.42381590604782104),\n",
              " ('artist', 0.41762661933898926),\n",
              " ('chopin', 0.4151551127433777),\n",
              " ('Taylor', 0.3999366760253906)]"
            ]
          },
          "metadata": {
            "tags": []
          },
          "execution_count": 100
        }
      ]
    },
    {
      "cell_type": "code",
      "metadata": {
        "id": "hw0Muu67A8AH",
        "colab_type": "code",
        "outputId": "ede9804e-fba4-46dc-fff0-8974dfb4b550",
        "colab": {
          "base_uri": "https://localhost:8080/",
          "height": 283
        }
      },
      "source": [
        "model.most_similar(positive=['song'], negative=['artist'])"
      ],
      "execution_count": 101,
      "outputs": [
        {
          "output_type": "stream",
          "text": [
            "/usr/local/lib/python3.6/dist-packages/ipykernel_launcher.py:1: DeprecationWarning: Call to deprecated `most_similar` (Method will be removed in 4.0.0, use self.wv.most_similar() instead).\n",
            "  \"\"\"Entry point for launching an IPython kernel.\n",
            "/usr/local/lib/python3.6/dist-packages/gensim/matutils.py:737: FutureWarning: Conversion of the second argument of issubdtype from `int` to `np.signedinteger` is deprecated. In future, it will be treated as `np.int64 == np.dtype(int).type`.\n",
            "  if np.issubdtype(vec.dtype, np.int):\n"
          ],
          "name": "stderr"
        },
        {
          "output_type": "execute_result",
          "data": {
            "text/plain": [
              "[('soundtrack', 0.3645138144493103),\n",
              " ('painting', 0.35434088110923767),\n",
              " ('trailer', 0.345719575881958),\n",
              " ('Jeremy', 0.3122348487377167),\n",
              " ('television', 0.3080294132232666),\n",
              " ('game', 0.30089908838272095),\n",
              " ('Jim', 0.2965252995491028),\n",
              " ('TV', 0.2940673232078552),\n",
              " ('Taylor', 0.29297173023223877),\n",
              " ('picture', 0.29182523488998413)]"
            ]
          },
          "metadata": {
            "tags": []
          },
          "execution_count": 101
        }
      ]
    },
    {
      "cell_type": "code",
      "metadata": {
        "id": "6mZ6qcpEWZvd",
        "colab_type": "code",
        "colab": {}
      },
      "source": [
        "def transform_from_categorical(prediction):\n",
        "  answers = []\n",
        "\n",
        "  for elem in prediction:\n",
        "    if elem == 0:\n",
        "      answers.append('PlayMusic')\n",
        "    elif elem == 1:\n",
        "      answers.append('GetWeather')\n",
        "    elif elem == 2:\n",
        "      answers.append('BookRestaurant')\n",
        "    elif elem == 3:\n",
        "      answers.append('SearchScreeningEvent')\n",
        "    elif elem == 4:\n",
        "      answers.append('RateBook')\n",
        "    elif elem == 5:\n",
        "      answers.append('SearchCreativeWork')\n",
        "    elif elem == 6:\n",
        "      answers.append('AddToPlaylist')\n",
        "\n",
        "  return answers"
      ],
      "execution_count": 0,
      "outputs": []
    },
    {
      "cell_type": "code",
      "metadata": {
        "id": "hjR5w3pYWd9M",
        "colab_type": "code",
        "colab": {}
      },
      "source": [
        "def transform_to_categorical(y):\n",
        "  intents_for_each_ = y\n",
        "  intents_to_digit = []\n",
        "\n",
        "  for intent in intents_for_each_:\n",
        "    if intent == 'PlayMusic':\n",
        "      intents_to_digit.append(0)\n",
        "    elif intent == 'GetWeather':\n",
        "      intents_to_digit.append(1)\n",
        "    elif intent == 'BookRestaurant':\n",
        "      intents_to_digit.append(2)\n",
        "    elif intent == 'SearchScreeningEvent':\n",
        "      intents_to_digit.append(3)\n",
        "    elif intent == 'RateBook':\n",
        "      intents_to_digit.append(4)\n",
        "    elif intent == 'SearchCreativeWork':\n",
        "      intents_to_digit.append(5)\n",
        "    elif intent == 'AddToPlaylist':\n",
        "      intents_to_digit.append(6)\n",
        "\n",
        "  return to_categorical(intents_to_digit, COUNT_CLASSES)"
      ],
      "execution_count": 0,
      "outputs": []
    },
    {
      "cell_type": "markdown",
      "metadata": {
        "id": "slb25WzzWQ2l",
        "colab_type": "text"
      },
      "source": [
        "Работа с keras"
      ]
    },
    {
      "cell_type": "code",
      "metadata": {
        "id": "I5BOhkJwWh5L",
        "colab_type": "code",
        "colab": {}
      },
      "source": [
        "# Создание модели\n",
        "def get_model(model):\n",
        "    kmodel = Sequential() \n",
        "    kmodel.add(model.wv.get_keras_embedding(train_embeddings=True))\n",
        "    \n",
        "    kmodel.add(Dropout(0.2))\n",
        "\n",
        "    kmodel.add(Conv1D(50,\n",
        "                 3,\n",
        "                 padding='valid',\n",
        "                 activation='relu',\n",
        "                 strides=1))\n",
        "    kmodel.add(GlobalMaxPooling1D())\n",
        "\n",
        "    kmodel.add(Dense(250))\n",
        "    kmodel.add(Dropout(0.2))\n",
        "    kmodel.add(Activation('relu'))\n",
        "\n",
        "    kmodel.add(Dense(7, activation = 'softmax'))\n",
        "\n",
        "    kmodel.compile(loss='categorical_crossentropy', optimizer='adam', metrics=['accuracy'])\n",
        "  \n",
        "    return kmodel"
      ],
      "execution_count": 0,
      "outputs": []
    },
    {
      "cell_type": "code",
      "metadata": {
        "id": "szKqfEozV0re",
        "colab_type": "code",
        "colab": {}
      },
      "source": [
        "word_vectors = model.wv"
      ],
      "execution_count": 0,
      "outputs": []
    },
    {
      "cell_type": "code",
      "metadata": {
        "id": "i8FZ2hahFdnh",
        "colab_type": "code",
        "outputId": "a1f2fe2d-611c-46ec-b31f-657dd6978a46",
        "colab": {
          "base_uri": "https://localhost:8080/",
          "height": 34
        }
      },
      "source": [
        "print(\"Number of word vectors: {}\".format(len(word_vectors.vocab)))"
      ],
      "execution_count": 106,
      "outputs": [
        {
          "output_type": "stream",
          "text": [
            "Number of word vectors: 3629\n"
          ],
          "name": "stdout"
        }
      ]
    },
    {
      "cell_type": "code",
      "metadata": {
        "id": "2sR1nYOK4ZG1",
        "colab_type": "code",
        "colab": {}
      },
      "source": [
        "texts = sentences"
      ],
      "execution_count": 0,
      "outputs": []
    },
    {
      "cell_type": "code",
      "metadata": {
        "id": "qMfggqVmX09o",
        "colab_type": "code",
        "outputId": "291a4c57-187a-4b2d-ff73-aa8fe713e8e6",
        "colab": {
          "base_uri": "https://localhost:8080/",
          "height": 140
        }
      },
      "source": [
        "texts"
      ],
      "execution_count": 108,
      "outputs": [
        {
          "output_type": "execute_result",
          "data": {
            "text/plain": [
              "array([list(['Add', 'another', 'song', 'Cita', 'RomГЎntica', 'playlist']),\n",
              "       list(['add', 'clem', 'burke', 'playlist', 'Pre', 'Party', 'R', 'B', 'Jams']),\n",
              "       list(['Add', 'Live', 'Aragon', 'Ballroom', 'Trapeo']), ...,\n",
              "       list(['Where', 'They', 'Always', 'Return', 'Dawn', 'playing']),\n",
              "       list(['What', 'movie', 'schedule', 'neighborhood']),\n",
              "       list(['Tell', 'Howling', 'II', 'Your', 'Sister', 'Is', 'Werewolf', 'playing'])],\n",
              "      dtype=object)"
            ]
          },
          "metadata": {
            "tags": []
          },
          "execution_count": 108
        }
      ]
    },
    {
      "cell_type": "code",
      "metadata": {
        "id": "5b7hvBjePvW7",
        "colab_type": "code",
        "colab": {}
      },
      "source": [
        "vocab_size = len(word_vectors.vocab)\n",
        "token = Tokenizer(vocab_size)\n",
        "token.fit_on_texts(texts)\n",
        "text = token.texts_to_sequences(texts)\n",
        "text = pad_sequences(text, maxlen=10)"
      ],
      "execution_count": 0,
      "outputs": []
    },
    {
      "cell_type": "code",
      "metadata": {
        "id": "kno-kM4IQY_b",
        "colab_type": "code",
        "colab": {}
      },
      "source": [
        "X_train, X_test, y_train, y_test = train_test_split(text, file_csv['intents'], test_size=0.2, stratify=file_csv['intents'])"
      ],
      "execution_count": 0,
      "outputs": []
    },
    {
      "cell_type": "code",
      "metadata": {
        "id": "jBzRb_oVxKAQ",
        "colab_type": "code",
        "colab": {}
      },
      "source": [
        "y_train = transform_to_categorical(y_train)"
      ],
      "execution_count": 0,
      "outputs": []
    },
    {
      "cell_type": "code",
      "metadata": {
        "id": "_SbDYml2fLqT",
        "colab_type": "code",
        "colab": {}
      },
      "source": [
        "y_test =  transform_to_categorical(y_test)"
      ],
      "execution_count": 0,
      "outputs": []
    },
    {
      "cell_type": "code",
      "metadata": {
        "id": "APJKTOTUYCY2",
        "colab_type": "code",
        "outputId": "1e360299-c66a-4fe4-d448-3331cb5f99ca",
        "colab": {
          "base_uri": "https://localhost:8080/",
          "height": 439
        }
      },
      "source": [
        "my_model = get_model(model)\n",
        "my_model.summary()"
      ],
      "execution_count": 113,
      "outputs": [
        {
          "output_type": "stream",
          "text": [
            "Model: \"sequential_2\"\n",
            "_________________________________________________________________\n",
            "Layer (type)                 Output Shape              Param #   \n",
            "=================================================================\n",
            "embedding_2 (Embedding)      (None, None, 200)         725800    \n",
            "_________________________________________________________________\n",
            "dropout_3 (Dropout)          (None, None, 200)         0         \n",
            "_________________________________________________________________\n",
            "conv1d_2 (Conv1D)            (None, None, 50)          30050     \n",
            "_________________________________________________________________\n",
            "global_max_pooling1d_2 (Glob (None, 50)                0         \n",
            "_________________________________________________________________\n",
            "dense_3 (Dense)              (None, 250)               12750     \n",
            "_________________________________________________________________\n",
            "dropout_4 (Dropout)          (None, 250)               0         \n",
            "_________________________________________________________________\n",
            "activation_2 (Activation)    (None, 250)               0         \n",
            "_________________________________________________________________\n",
            "dense_4 (Dense)              (None, 7)                 1757      \n",
            "=================================================================\n",
            "Total params: 770,357\n",
            "Trainable params: 770,357\n",
            "Non-trainable params: 0\n",
            "_________________________________________________________________\n"
          ],
          "name": "stdout"
        }
      ]
    },
    {
      "cell_type": "code",
      "metadata": {
        "id": "xwRAbO1YR4va",
        "colab_type": "code",
        "outputId": "5346fb19-4bca-4c67-8a62-dc4479b2cc69",
        "colab": {
          "base_uri": "https://localhost:8080/",
          "height": 404
        }
      },
      "source": [
        "my_model.fit(X_train, y_train, batch_size=32, epochs=10, validation_data=(X_test, y_test))"
      ],
      "execution_count": 129,
      "outputs": [
        {
          "output_type": "stream",
          "text": [
            "Train on 12707 samples, validate on 3177 samples\n",
            "Epoch 1/10\n",
            "12707/12707 [==============================] - 3s 270us/step - loss: 0.0228 - acc: 0.9929 - val_loss: 0.1240 - val_acc: 0.9751\n",
            "Epoch 2/10\n",
            "12707/12707 [==============================] - 3s 269us/step - loss: 0.0228 - acc: 0.9913 - val_loss: 0.1214 - val_acc: 0.9754\n",
            "Epoch 3/10\n",
            "12707/12707 [==============================] - 3s 273us/step - loss: 0.0285 - acc: 0.9909 - val_loss: 0.1100 - val_acc: 0.9751\n",
            "Epoch 4/10\n",
            "12707/12707 [==============================] - 3s 275us/step - loss: 0.0246 - acc: 0.9926 - val_loss: 0.1511 - val_acc: 0.9714\n",
            "Epoch 5/10\n",
            "12707/12707 [==============================] - 3s 273us/step - loss: 0.0183 - acc: 0.9943 - val_loss: 0.1272 - val_acc: 0.9767\n",
            "Epoch 6/10\n",
            "12707/12707 [==============================] - 3s 273us/step - loss: 0.0111 - acc: 0.9965 - val_loss: 0.1251 - val_acc: 0.9780\n",
            "Epoch 7/10\n",
            "12707/12707 [==============================] - 3s 263us/step - loss: 0.0174 - acc: 0.9944 - val_loss: 0.1138 - val_acc: 0.9799\n",
            "Epoch 8/10\n",
            "12707/12707 [==============================] - 3s 270us/step - loss: 0.0135 - acc: 0.9953 - val_loss: 0.1277 - val_acc: 0.9748\n",
            "Epoch 9/10\n",
            "12707/12707 [==============================] - 3s 268us/step - loss: 0.0153 - acc: 0.9950 - val_loss: 0.1399 - val_acc: 0.9758\n",
            "Epoch 10/10\n",
            "12707/12707 [==============================] - 3s 273us/step - loss: 0.0180 - acc: 0.9946 - val_loss: 0.1379 - val_acc: 0.9773\n"
          ],
          "name": "stdout"
        },
        {
          "output_type": "execute_result",
          "data": {
            "text/plain": [
              "<keras.callbacks.History at 0x7f415a770c88>"
            ]
          },
          "metadata": {
            "tags": []
          },
          "execution_count": 129
        }
      ]
    },
    {
      "cell_type": "code",
      "metadata": {
        "id": "co0ybjNUskn7",
        "colab_type": "code",
        "colab": {}
      },
      "source": [
        "X_predict = []\n",
        "X_predict.append([ 222,    10,   0,  361,    3, 1924,   19,  559,    1, 1886])# не знаем, как строку преобразовать в вектор чисел\n",
        "X_predict = np.array(X_predict)"
      ],
      "execution_count": 0,
      "outputs": []
    },
    {
      "cell_type": "code",
      "metadata": {
        "id": "IYegYpBGnruf",
        "colab_type": "code",
        "colab": {}
      },
      "source": [
        "prediction = my_model.predict_classes(X_predict)"
      ],
      "execution_count": 0,
      "outputs": []
    },
    {
      "cell_type": "code",
      "metadata": {
        "id": "O5PRS_nEzLyk",
        "colab_type": "code",
        "outputId": "b35758e5-88a9-4d4d-ab75-537a37e97eab",
        "colab": {
          "base_uri": "https://localhost:8080/",
          "height": 34
        }
      },
      "source": [
        "answers = transform_from_categorical(prediction)\n",
        "answers"
      ],
      "execution_count": 132,
      "outputs": [
        {
          "output_type": "execute_result",
          "data": {
            "text/plain": [
              "['BookRestaurant']"
            ]
          },
          "metadata": {
            "tags": []
          },
          "execution_count": 132
        }
      ]
    }
  ]
}