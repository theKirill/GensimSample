{
  "nbformat": 4,
  "nbformat_minor": 0,
  "metadata": {
    "colab": {
      "name": "Practice.ipynb",
      "provenance": [],
      "collapsed_sections": [],
      "toc_visible": true,
      "include_colab_link": true
    },
    "kernelspec": {
      "name": "python3",
      "display_name": "Python 3"
    },
    "accelerator": "GPU"
  },
  "cells": [
    {
      "cell_type": "markdown",
      "metadata": {
        "id": "view-in-github",
        "colab_type": "text"
      },
      "source": [
        "<a href=\"https://colab.research.google.com/github/theKirill/GensimSample/blob/master/Practice.ipynb\" target=\"_parent\"><img src=\"https://colab.research.google.com/assets/colab-badge.svg\" alt=\"Open In Colab\"/></a>"
      ]
    },
    {
      "cell_type": "markdown",
      "metadata": {
        "id": "tu7EKlGpH-dT",
        "colab_type": "text"
      },
      "source": [
        "# Классификатор интентов\n",
        "Каждый класс описывает небольшое количество вариантов/запросов *(погода - подскажите погоду)*. Классифицикация запросов по классам реализуется с помощью [gensim](https://radimrehurek.com/gensim/) и [keras](https://keras.io/).\n",
        "\n",
        "\n",
        "**Используется:**\n",
        "*   Python 3\n",
        "*   gensim\n",
        "*   keras\n",
        "*   sklearn\n",
        "*   pandas\n",
        "*   numpy\n",
        "*   nltk with English stopwords & RegexpTokenizer\n",
        "\n",
        "**Набор данных (dataset):**\n",
        "*   https://github.com/snipsco/nlu-benchmark/tree/master/2017-06-custom-intent-enginesist\n"
      ]
    },
    {
      "cell_type": "code",
      "metadata": {
        "id": "CCq8L9tfX-tf",
        "colab_type": "code",
        "colab": {}
      },
      "source": [
        "import gensim\n",
        "import nltk\n",
        "from nltk.corpus import stopwords\n",
        "from gensim.models import Word2Vec\n",
        "import pandas as pd\n",
        "import numpy as np\n",
        "import keras\n",
        "from keras.preprocessing.text import Tokenizer\n",
        "from keras.preprocessing.sequence import pad_sequences\n",
        "from keras.models import Sequential\n",
        "from keras.layers import Dense, Flatten, Embedding, Dropout, Conv1D, GlobalMaxPooling1D, Activation\n",
        "from keras.models import Model\n",
        "import sklearn\n",
        "from sklearn.model_selection import train_test_split\n",
        "from keras.utils import to_categorical\n",
        "from keras.models import save_model, load_model\n",
        "from keras.callbacks import ModelCheckpoint\n",
        "from nltk.tokenize import RegexpTokenizer\n",
        "import keras_metrics\n",
        "import seaborn as sn\n",
        "from sklearn.metrics import classification_report"
      ],
      "execution_count": 0,
      "outputs": []
    },
    {
      "cell_type": "code",
      "metadata": {
        "id": "0PqzD_YwqfT1",
        "colab_type": "code",
        "colab": {
          "base_uri": "https://localhost:8080/",
          "height": 221
        },
        "outputId": "20686f99-38af-4808-fb3d-1a9969ec0bcd"
      },
      "source": [
        "!pip install keras_metrics"
      ],
      "execution_count": 37,
      "outputs": [
        {
          "output_type": "stream",
          "text": [
            "Collecting keras_metrics\n",
            "  Downloading https://files.pythonhosted.org/packages/32/c9/a87420da8e73de944e63a8e9cdcfb1f03ca31a7c4cdcdbd45d2cdf13275a/keras_metrics-1.1.0-py2.py3-none-any.whl\n",
            "Requirement already satisfied: Keras>=2.1.5 in /usr/local/lib/python3.6/dist-packages (from keras_metrics) (2.2.5)\n",
            "Requirement already satisfied: pyyaml in /usr/local/lib/python3.6/dist-packages (from Keras>=2.1.5->keras_metrics) (3.13)\n",
            "Requirement already satisfied: six>=1.9.0 in /usr/local/lib/python3.6/dist-packages (from Keras>=2.1.5->keras_metrics) (1.12.0)\n",
            "Requirement already satisfied: keras-applications>=1.0.8 in /usr/local/lib/python3.6/dist-packages (from Keras>=2.1.5->keras_metrics) (1.0.8)\n",
            "Requirement already satisfied: h5py in /usr/local/lib/python3.6/dist-packages (from Keras>=2.1.5->keras_metrics) (2.8.0)\n",
            "Requirement already satisfied: keras-preprocessing>=1.1.0 in /usr/local/lib/python3.6/dist-packages (from Keras>=2.1.5->keras_metrics) (1.1.0)\n",
            "Requirement already satisfied: scipy>=0.14 in /usr/local/lib/python3.6/dist-packages (from Keras>=2.1.5->keras_metrics) (1.3.3)\n",
            "Requirement already satisfied: numpy>=1.9.1 in /usr/local/lib/python3.6/dist-packages (from Keras>=2.1.5->keras_metrics) (1.17.4)\n",
            "Installing collected packages: keras-metrics\n",
            "Successfully installed keras-metrics-1.1.0\n"
          ],
          "name": "stdout"
        }
      ]
    },
    {
      "cell_type": "code",
      "metadata": {
        "id": "u7yBLPEfObyi",
        "colab_type": "code",
        "outputId": "6b8c34b4-79bb-49e3-9f1c-f01f53b43384",
        "colab": {
          "base_uri": "https://localhost:8080/",
          "height": 102
        }
      },
      "source": [
        "nltk.download('punkt')\n",
        "nltk.download('stopwords')"
      ],
      "execution_count": 11,
      "outputs": [
        {
          "output_type": "stream",
          "text": [
            "[nltk_data] Downloading package punkt to /root/nltk_data...\n",
            "[nltk_data]   Unzipping tokenizers/punkt.zip.\n",
            "[nltk_data] Downloading package stopwords to /root/nltk_data...\n",
            "[nltk_data]   Unzipping corpora/stopwords.zip.\n"
          ],
          "name": "stdout"
        },
        {
          "output_type": "execute_result",
          "data": {
            "text/plain": [
              "True"
            ]
          },
          "metadata": {
            "tags": []
          },
          "execution_count": 11
        }
      ]
    },
    {
      "cell_type": "code",
      "metadata": {
        "id": "ar96angGMVsc",
        "colab_type": "code",
        "outputId": "05b5a0d9-45e1-4011-db09-b4cebb2230a4",
        "colab": {
          "base_uri": "https://localhost:8080/",
          "height": 122
        }
      },
      "source": [
        "from google.colab import drive\n",
        "drive.mount('/content/drive')"
      ],
      "execution_count": 1,
      "outputs": [
        {
          "output_type": "stream",
          "text": [
            "Go to this URL in a browser: https://accounts.google.com/o/oauth2/auth?client_id=947318989803-6bn6qk8qdgf4n4g3pfee6491hc0brc4i.apps.googleusercontent.com&redirect_uri=urn%3aietf%3awg%3aoauth%3a2.0%3aoob&response_type=code&scope=email%20https%3a%2f%2fwww.googleapis.com%2fauth%2fdocs.test%20https%3a%2f%2fwww.googleapis.com%2fauth%2fdrive%20https%3a%2f%2fwww.googleapis.com%2fauth%2fdrive.photos.readonly%20https%3a%2f%2fwww.googleapis.com%2fauth%2fpeopleapi.readonly\n",
            "\n",
            "Enter your authorization code:\n",
            "··········\n",
            "Mounted at /content/drive\n"
          ],
          "name": "stdout"
        }
      ]
    },
    {
      "cell_type": "markdown",
      "metadata": {
        "id": "I8rvdgc-MAKN",
        "colab_type": "text"
      },
      "source": [
        "# Exploring the data"
      ]
    },
    {
      "cell_type": "code",
      "metadata": {
        "id": "iLlOyB5xy2HD",
        "colab_type": "code",
        "colab": {}
      },
      "source": [
        "file_csv = pd.read_csv('drive/My Drive/ForGensim/train.csv')"
      ],
      "execution_count": 0,
      "outputs": []
    },
    {
      "cell_type": "code",
      "metadata": {
        "id": "vqHnDBO5Mlu4",
        "colab_type": "code",
        "outputId": "6e7909da-f05e-4fa7-e8e7-6b472387b795",
        "colab": {
          "base_uri": "https://localhost:8080/",
          "height": 34
        }
      },
      "source": [
        "file_csv = file_csv.dropna()\n",
        "file_csv['text'].apply(lambda x: len(x.split(' '))).sum()"
      ],
      "execution_count": 0,
      "outputs": [
        {
          "output_type": "execute_result",
          "data": {
            "text/plain": [
              "105347"
            ]
          },
          "metadata": {
            "tags": []
          },
          "execution_count": 6
        }
      ]
    },
    {
      "cell_type": "markdown",
      "metadata": {
        "id": "cg-OROwTMuhe",
        "colab_type": "text"
      },
      "source": [
        "Набор данных составляет всего 105к слов."
      ]
    },
    {
      "cell_type": "code",
      "metadata": {
        "id": "0Fgb2vFPQhfP",
        "colab_type": "code",
        "outputId": "309d36aa-6703-40ad-922e-1c55247a0e9b",
        "colab": {
          "base_uri": "https://localhost:8080/",
          "height": 204
        }
      },
      "source": [
        "file_csv[:5]"
      ],
      "execution_count": 4,
      "outputs": [
        {
          "output_type": "execute_result",
          "data": {
            "text/html": [
              "<div>\n",
              "<style scoped>\n",
              "    .dataframe tbody tr th:only-of-type {\n",
              "        vertical-align: middle;\n",
              "    }\n",
              "\n",
              "    .dataframe tbody tr th {\n",
              "        vertical-align: top;\n",
              "    }\n",
              "\n",
              "    .dataframe thead th {\n",
              "        text-align: right;\n",
              "    }\n",
              "</style>\n",
              "<table border=\"1\" class=\"dataframe\">\n",
              "  <thead>\n",
              "    <tr style=\"text-align: right;\">\n",
              "      <th></th>\n",
              "      <th>text</th>\n",
              "      <th>intents</th>\n",
              "    </tr>\n",
              "  </thead>\n",
              "  <tbody>\n",
              "    <tr>\n",
              "      <th>0</th>\n",
              "      <td>Add another song to the Cita RomГЎntica playli...</td>\n",
              "      <td>AddToPlaylist</td>\n",
              "    </tr>\n",
              "    <tr>\n",
              "      <th>1</th>\n",
              "      <td>add clem burke in my playlist Pre-Party R&amp;B Jams</td>\n",
              "      <td>AddToPlaylist</td>\n",
              "    </tr>\n",
              "    <tr>\n",
              "      <th>2</th>\n",
              "      <td>Add Live from Aragon Ballroom to Trapeo</td>\n",
              "      <td>AddToPlaylist</td>\n",
              "    </tr>\n",
              "    <tr>\n",
              "      <th>3</th>\n",
              "      <td>add Unite and Win to my night out</td>\n",
              "      <td>AddToPlaylist</td>\n",
              "    </tr>\n",
              "    <tr>\n",
              "      <th>4</th>\n",
              "      <td>Add track to my Digster Future Hits</td>\n",
              "      <td>AddToPlaylist</td>\n",
              "    </tr>\n",
              "  </tbody>\n",
              "</table>\n",
              "</div>"
            ],
            "text/plain": [
              "                                                text        intents\n",
              "0  Add another song to the Cita RomГЎntica playli...  AddToPlaylist\n",
              "1   add clem burke in my playlist Pre-Party R&B Jams  AddToPlaylist\n",
              "2            Add Live from Aragon Ballroom to Trapeo  AddToPlaylist\n",
              "3                  add Unite and Win to my night out  AddToPlaylist\n",
              "4                Add track to my Digster Future Hits  AddToPlaylist"
            ]
          },
          "metadata": {
            "tags": []
          },
          "execution_count": 4
        }
      ]
    },
    {
      "cell_type": "code",
      "metadata": {
        "id": "v_g3zM2bQ3Tu",
        "colab_type": "code",
        "colab": {}
      },
      "source": [
        "all_texts = file_csv['text']\n",
        "all_intents = file_csv['intents']"
      ],
      "execution_count": 0,
      "outputs": []
    },
    {
      "cell_type": "code",
      "metadata": {
        "id": "_JQ7LK3-2O1Z",
        "colab_type": "code",
        "colab": {}
      },
      "source": [
        "unique_intents = file_csv.intents.unique()"
      ],
      "execution_count": 0,
      "outputs": []
    },
    {
      "cell_type": "code",
      "metadata": {
        "id": "amb1mmUqdZ2G",
        "colab_type": "code",
        "outputId": "c080eef5-ec15-46fc-e260-10d7352305b3",
        "colab": {
          "base_uri": "https://localhost:8080/",
          "height": 51
        }
      },
      "source": [
        "unique_intents"
      ],
      "execution_count": 7,
      "outputs": [
        {
          "output_type": "execute_result",
          "data": {
            "text/plain": [
              "array(['AddToPlaylist', 'BookRestaurant', 'GetWeather', 'PlayMusic',\n",
              "       'SearchScreeningEvent'], dtype=object)"
            ]
          },
          "metadata": {
            "tags": []
          },
          "execution_count": 7
        }
      ]
    },
    {
      "cell_type": "code",
      "metadata": {
        "id": "uT-jBF1fNVMn",
        "colab_type": "code",
        "outputId": "c31b3bcd-2840-4b54-ca45-716b4c724c7d",
        "colab": {
          "base_uri": "https://localhost:8080/",
          "height": 338
        }
      },
      "source": [
        "file_csv.intents.value_counts().plot(kind=\"bar\", rot = 30)"
      ],
      "execution_count": 171,
      "outputs": [
        {
          "output_type": "execute_result",
          "data": {
            "text/plain": [
              "<matplotlib.axes._subplots.AxesSubplot at 0x7fcf397ba898>"
            ]
          },
          "metadata": {
            "tags": []
          },
          "execution_count": 171
        },
        {
          "output_type": "display_data",
          "data": {
            "image/png": "[encoded data removed]",
            "text/plain": [
              "<Figure size 432x288 with 1 Axes>"
            ]
          },
          "metadata": {
            "tags": []
          }
        }
      ]
    },
    {
      "cell_type": "code",
      "metadata": {
        "id": "G9DIbWSvA58B",
        "colab_type": "code",
        "colab": {
          "base_uri": "https://localhost:8080/",
          "height": 119
        },
        "outputId": "9bf86bff-ce99-4c7b-81e4-fabc9e16621b"
      },
      "source": [
        "file_csv.intents.value_counts()"
      ],
      "execution_count": 170,
      "outputs": [
        {
          "output_type": "execute_result",
          "data": {
            "text/plain": [
              "PlayMusic               2300\n",
              "GetWeather              2300\n",
              "BookRestaurant          2273\n",
              "SearchScreeningEvent    2259\n",
              "AddToPlaylist           2242\n",
              "Name: intents, dtype: int64"
            ]
          },
          "metadata": {
            "tags": []
          },
          "execution_count": 170
        }
      ]
    },
    {
      "cell_type": "markdown",
      "metadata": {
        "id": "XQgoJH0ONRhv",
        "colab_type": "text"
      },
      "source": [
        "Данные достаточно сбалансированные – у каждого класса почти одинаковое количество запросов."
      ]
    },
    {
      "cell_type": "markdown",
      "metadata": {
        "id": "q-oraviUTcaG",
        "colab_type": "text"
      },
      "source": [
        "# Подготовка данных\n",
        "Удаление стоп-слов и пунктуации"
      ]
    },
    {
      "cell_type": "code",
      "metadata": {
        "id": "vMMxwWtQR-NL",
        "colab_type": "code",
        "colab": {}
      },
      "source": [
        "def tokenize(text):\n",
        "  regex_tokenizer = RegexpTokenizer('[a-zA-Z]+')\n",
        "  words = regex_tokenizer.tokenize(text.lower())\n",
        "  stop_words = set(stopwords.words(\"english\"))\n",
        "  without_stop_words = [w for w in words if w not in stop_words and len(w) > 1]\n",
        "  return without_stop_words"
      ],
      "execution_count": 0,
      "outputs": []
    },
    {
      "cell_type": "code",
      "metadata": {
        "id": "MrZJeOsx3Hx9",
        "colab_type": "code",
        "colab": {}
      },
      "source": [
        "sentences = np.array(all_texts.apply(lambda x : tokenize(x)))"
      ],
      "execution_count": 0,
      "outputs": []
    },
    {
      "cell_type": "code",
      "metadata": {
        "id": "UL9IlElzn5fy",
        "colab_type": "code",
        "colab": {
          "base_uri": "https://localhost:8080/",
          "height": 102
        },
        "outputId": "612da653-980e-4bc3-9687-1a92d8f0dd91"
      },
      "source": [
        "sentences[:5]"
      ],
      "execution_count": 24,
      "outputs": [
        {
          "output_type": "execute_result",
          "data": {
            "text/plain": [
              "array([list(['add', 'another', 'song', 'cita', 'rom', 'ntica', 'playlist']),\n",
              "       list(['add', 'clem', 'burke', 'playlist', 'pre', 'party', 'jams']),\n",
              "       list(['add', 'live', 'aragon', 'ballroom', 'trapeo']),\n",
              "       list(['add', 'unite', 'win', 'night']),\n",
              "       list(['add', 'track', 'digster', 'future', 'hits'])], dtype=object)"
            ]
          },
          "metadata": {
            "tags": []
          },
          "execution_count": 24
        }
      ]
    },
    {
      "cell_type": "markdown",
      "metadata": {
        "id": "d9yR-UzwPPNr",
        "colab_type": "text"
      },
      "source": [
        "# Работа с Word2Vec"
      ]
    },
    {
      "cell_type": "code",
      "metadata": {
        "id": "9X8Kb9p5NSUc",
        "colab_type": "code",
        "colab": {}
      },
      "source": [
        "VECTOR_SIZE = 200\n",
        "WINDOW_SIZE = 10\n",
        "MIN_COUNT = 3\n",
        "ITER_COUNT = 10\n",
        "WORKERS = 4"
      ],
      "execution_count": 0,
      "outputs": []
    },
    {
      "cell_type": "code",
      "metadata": {
        "id": "1j1Ft2Oj3zUr",
        "colab_type": "code",
        "colab": {}
      },
      "source": [
        "# Обучение модели Word2Vec\n",
        "word2vec_model = Word2Vec(sentences, size = VECTOR_SIZE, window = WINDOW_SIZE, min_count = MIN_COUNT, workers = WORKERS, iter = ITER_COUNT)"
      ],
      "execution_count": 0,
      "outputs": []
    },
    {
      "cell_type": "markdown",
      "metadata": {
        "id": "TSm2F_lVQsr_",
        "colab_type": "text"
      },
      "source": [
        "Получение ближайших слов к «song»:"
      ]
    },
    {
      "cell_type": "code",
      "metadata": {
        "id": "i4CfKT_HQ9AW",
        "colab_type": "code",
        "outputId": "9083aeb9-020f-4d7f-9783-07c5f9add132",
        "colab": {
          "base_uri": "https://localhost:8080/",
          "height": 156
        }
      },
      "source": [
        "word2vec_model.most_similar('song', topn = 3)"
      ],
      "execution_count": 27,
      "outputs": [
        {
          "output_type": "stream",
          "text": [
            "/usr/local/lib/python3.6/dist-packages/ipykernel_launcher.py:1: DeprecationWarning: Call to deprecated `most_similar` (Method will be removed in 4.0.0, use self.wv.most_similar() instead).\n",
            "  \"\"\"Entry point for launching an IPython kernel.\n",
            "/usr/local/lib/python3.6/dist-packages/gensim/matutils.py:737: FutureWarning: Conversion of the second argument of issubdtype from `int` to `np.signedinteger` is deprecated. In future, it will be treated as `np.int64 == np.dtype(int).type`.\n",
            "  if np.issubdtype(vec.dtype, np.int):\n"
          ],
          "name": "stderr"
        },
        {
          "output_type": "execute_result",
          "data": {
            "text/plain": [
              "[('track', 0.9990552663803101),\n",
              " ('album', 0.9990246891975403),\n",
              " ('artist', 0.9973072409629822)]"
            ]
          },
          "metadata": {
            "tags": []
          },
          "execution_count": 27
        }
      ]
    },
    {
      "cell_type": "markdown",
      "metadata": {
        "id": "hGpc3BCxQ3i-",
        "colab_type": "text"
      },
      "source": [
        "Сохранение модели для дальнейшего использования – дообучения:"
      ]
    },
    {
      "cell_type": "code",
      "metadata": {
        "id": "B3C73VvUPc9S",
        "colab_type": "code",
        "outputId": "421791ef-5e4a-4b8c-98d4-1984e406395f",
        "colab": {
          "base_uri": "https://localhost:8080/",
          "height": 71
        }
      },
      "source": [
        "word2vec_model.save('drive/My Drive/ForGensim/Word2VecModel')\n",
        "word2vec_model.wv.save_word2vec_format('drive/My Drive/ForGensim/Word2VecModel.txt', binary=False)\n",
        "word2vec_model.wv.save_word2vec_format('drive/My Drive/ForGensim/Word2VecModel.bin', binary=True)"
      ],
      "execution_count": 28,
      "outputs": [
        {
          "output_type": "stream",
          "text": [
            "/usr/local/lib/python3.6/dist-packages/smart_open/smart_open_lib.py:402: UserWarning: This function is deprecated, use smart_open.open instead. See the migration notes for details: https://github.com/RaRe-Technologies/smart_open/blob/master/README.rst#migrating-to-the-new-open-function\n",
            "  'See the migration notes for details: %s' % _MIGRATION_NOTES_URL\n"
          ],
          "name": "stderr"
        }
      ]
    },
    {
      "cell_type": "markdown",
      "metadata": {
        "id": "slb25WzzWQ2l",
        "colab_type": "text"
      },
      "source": [
        "# Работа с keras"
      ]
    },
    {
      "cell_type": "code",
      "metadata": {
        "id": "hjR5w3pYWd9M",
        "colab_type": "code",
        "colab": {}
      },
      "source": [
        "# Преобразование названий классов в матрицу двоичных чисел (нужно для keras)\n",
        "def transform_to_categorical(intents_for_each, unique_intents, build_binary_matrix = True):\n",
        "  intents_to_digit = []\n",
        "\n",
        "  for intent in intents_for_each:\n",
        "    intents_to_digit.append(unique_intents.index(intent))\n",
        "\n",
        "  if build_binary_matrix:\n",
        "    intents_to_digit = to_categorical(intents_to_digit, len(unique_intents))\n",
        "  \n",
        "  return intents_to_digit"
      ],
      "execution_count": 0,
      "outputs": []
    },
    {
      "cell_type": "code",
      "metadata": {
        "id": "6mZ6qcpEWZvd",
        "colab_type": "code",
        "colab": {}
      },
      "source": [
        "# Преобразование номеров классов в названия классов\n",
        "def transform_from_categorical(prediction, unique_intents):\n",
        "  answers = []\n",
        "\n",
        "  for i in range(prediction.shape[0]):\n",
        "    answers.append(unique_intents[prediction[i]])\n",
        "\n",
        "  return answers"
      ],
      "execution_count": 0,
      "outputs": []
    },
    {
      "cell_type": "code",
      "metadata": {
        "id": "I5BOhkJwWh5L",
        "colab_type": "code",
        "colab": {}
      },
      "source": [
        "# Создание модели\n",
        "def get_model(word2vec_model, COUNT_CLASSES):\n",
        "    model = Sequential() \n",
        "    model.add(word2vec_model.wv.get_keras_embedding(train_embeddings = True))\n",
        "    \n",
        "    model.add(Dropout(0.2))\n",
        "\n",
        "    model.add(Conv1D(50,\n",
        "                 3,\n",
        "                 padding = 'valid',\n",
        "                 activation = 'relu',\n",
        "                 strides = 1))\n",
        "    model.add(GlobalMaxPooling1D())\n",
        "\n",
        "    model.add(Dense(250))\n",
        "    model.add(Dropout(0.2))\n",
        "    model.add(Activation('relu'))\n",
        "\n",
        "    model.add(Dense(COUNT_CLASSES, activation = 'softmax'))\n",
        "\n",
        "    model.compile(loss = 'categorical_crossentropy', optimizer = 'adam', metrics = ['accuracy'])\n",
        "  \n",
        "    return model"
      ],
      "execution_count": 0,
      "outputs": []
    },
    {
      "cell_type": "code",
      "metadata": {
        "id": "5b7hvBjePvW7",
        "colab_type": "code",
        "colab": {}
      },
      "source": [
        "# Создание единого словаря (слово -> число) для преобразования на основе списка текстов sentences\n",
        "tokenizer = Tokenizer()\n",
        "tokenizer.fit_on_texts(sentences)\n",
        "\n",
        "# Преобразование всех текстов в числовые последовательности, заменяя слова на числа по словарю.\n",
        "text = tokenizer.texts_to_sequences(sentences)\n",
        "text = pad_sequences(text, maxlen = 10)"
      ],
      "execution_count": 0,
      "outputs": []
    },
    {
      "cell_type": "markdown",
      "metadata": {
        "id": "t6wdjHTXpt50",
        "colab_type": "text"
      },
      "source": [
        "Разбивка и преобразования данных для обучения модели, получение модели:"
      ]
    },
    {
      "cell_type": "code",
      "metadata": {
        "id": "kno-kM4IQY_b",
        "colab_type": "code",
        "colab": {}
      },
      "source": [
        "X_train, X_test, y_train, y_test = train_test_split(text, all_intents, test_size = 0.2)"
      ],
      "execution_count": 0,
      "outputs": []
    },
    {
      "cell_type": "code",
      "metadata": {
        "id": "jBzRb_oVxKAQ",
        "colab_type": "code",
        "colab": {}
      },
      "source": [
        "y_train = transform_to_categorical(y_train, unique_intents.tolist())"
      ],
      "execution_count": 0,
      "outputs": []
    },
    {
      "cell_type": "code",
      "metadata": {
        "id": "eJ9KZ7xlN5Mz",
        "colab_type": "code",
        "colab": {}
      },
      "source": [
        "COUNT_CLASSES = unique_intents.shape[0]"
      ],
      "execution_count": 0,
      "outputs": []
    },
    {
      "cell_type": "code",
      "metadata": {
        "id": "APJKTOTUYCY2",
        "colab_type": "code",
        "outputId": "ae108937-f1dd-403c-f4b6-86e1dfe97243",
        "colab": {
          "base_uri": "https://localhost:8080/",
          "height": 425
        }
      },
      "source": [
        "keras_model = get_model(word2vec_model, COUNT_CLASSES)\n",
        "keras_model.summary()"
      ],
      "execution_count": 109,
      "outputs": [
        {
          "output_type": "stream",
          "text": [
            "Model: \"sequential_6\"\n",
            "_________________________________________________________________\n",
            "Layer (type)                 Output Shape              Param #   \n",
            "=================================================================\n",
            "embedding_6 (Embedding)      (None, None, 200)         551600    \n",
            "_________________________________________________________________\n",
            "dropout_11 (Dropout)         (None, None, 200)         0         \n",
            "_________________________________________________________________\n",
            "conv1d_6 (Conv1D)            (None, None, 50)          30050     \n",
            "_________________________________________________________________\n",
            "global_max_pooling1d_6 (Glob (None, 50)                0         \n",
            "_________________________________________________________________\n",
            "dense_11 (Dense)             (None, 250)               12750     \n",
            "_________________________________________________________________\n",
            "dropout_12 (Dropout)         (None, 250)               0         \n",
            "_________________________________________________________________\n",
            "activation_6 (Activation)    (None, 250)               0         \n",
            "_________________________________________________________________\n",
            "dense_12 (Dense)             (None, 5)                 1255      \n",
            "=================================================================\n",
            "Total params: 595,655\n",
            "Trainable params: 595,655\n",
            "Non-trainable params: 0\n",
            "_________________________________________________________________\n"
          ],
          "name": "stdout"
        }
      ]
    },
    {
      "cell_type": "markdown",
      "metadata": {
        "id": "Q2iuDA7cqpjM",
        "colab_type": "text"
      },
      "source": [
        "Обучение керас модели:"
      ]
    },
    {
      "cell_type": "code",
      "metadata": {
        "id": "XA5fn-FvU7Wk",
        "colab_type": "code",
        "colab": {}
      },
      "source": [
        "BATCH = 32\n",
        "EPOCHS_COUNT = 10"
      ],
      "execution_count": 0,
      "outputs": []
    },
    {
      "cell_type": "code",
      "metadata": {
        "id": "xwRAbO1YR4va",
        "colab_type": "code",
        "outputId": "9a01eb2d-a7fd-4a71-aa0d-f636323b4df8",
        "colab": {
          "base_uri": "https://localhost:8080/",
          "height": 391
        }
      },
      "source": [
        "keras_model.fit(X_train, y_train, batch_size = BATCH, epochs = EPOCHS_COUNT, validation_split = 0.2,\n",
        "             callbacks = [ModelCheckpoint('drive/My Drive/ForGensim/keras_model.h5', save_best_only = True)])"
      ],
      "execution_count": 110,
      "outputs": [
        {
          "output_type": "stream",
          "text": [
            "Train on 7279 samples, validate on 1820 samples\n",
            "Epoch 1/10\n",
            "7279/7279 [==============================] - 2s 300us/step - loss: 0.5357 - acc: 0.8009 - val_loss: 0.1197 - val_acc: 0.9758\n",
            "Epoch 2/10\n",
            "7279/7279 [==============================] - 2s 219us/step - loss: 0.0706 - acc: 0.9834 - val_loss: 0.0684 - val_acc: 0.9841\n",
            "Epoch 3/10\n",
            "7279/7279 [==============================] - 2s 218us/step - loss: 0.0320 - acc: 0.9922 - val_loss: 0.0554 - val_acc: 0.9907\n",
            "Epoch 4/10\n",
            "7279/7279 [==============================] - 2s 221us/step - loss: 0.0169 - acc: 0.9956 - val_loss: 0.0546 - val_acc: 0.9890\n",
            "Epoch 5/10\n",
            "7279/7279 [==============================] - 2s 219us/step - loss: 0.0124 - acc: 0.9968 - val_loss: 0.0497 - val_acc: 0.9879\n",
            "Epoch 6/10\n",
            "7279/7279 [==============================] - 2s 225us/step - loss: 0.0066 - acc: 0.9982 - val_loss: 0.0600 - val_acc: 0.9879\n",
            "Epoch 7/10\n",
            "7279/7279 [==============================] - 2s 217us/step - loss: 0.0100 - acc: 0.9978 - val_loss: 0.0585 - val_acc: 0.9885\n",
            "Epoch 8/10\n",
            "7279/7279 [==============================] - 2s 227us/step - loss: 0.0041 - acc: 0.9990 - val_loss: 0.0571 - val_acc: 0.9907\n",
            "Epoch 9/10\n",
            "7279/7279 [==============================] - 2s 219us/step - loss: 0.0068 - acc: 0.9982 - val_loss: 0.0772 - val_acc: 0.9852\n",
            "Epoch 10/10\n",
            "7279/7279 [==============================] - 2s 223us/step - loss: 0.0051 - acc: 0.9986 - val_loss: 0.0722 - val_acc: 0.9863\n"
          ],
          "name": "stdout"
        },
        {
          "output_type": "execute_result",
          "data": {
            "text/plain": [
              "<keras.callbacks.History at 0x7fcf3ab87470>"
            ]
          },
          "metadata": {
            "tags": []
          },
          "execution_count": 110
        }
      ]
    },
    {
      "cell_type": "markdown",
      "metadata": {
        "id": "X5rXqf5ArXu8",
        "colab_type": "text"
      },
      "source": [
        "Предсказания для тестовой выборки (её мы получили выше):"
      ]
    },
    {
      "cell_type": "code",
      "metadata": {
        "id": "IYegYpBGnruf",
        "colab_type": "code",
        "colab": {}
      },
      "source": [
        "prediction = keras_model.predict_classes(X_test)"
      ],
      "execution_count": 0,
      "outputs": []
    },
    {
      "cell_type": "code",
      "metadata": {
        "id": "O5PRS_nEzLyk",
        "colab_type": "code",
        "outputId": "19c24237-420c-4b84-bba0-4467ce64c69b",
        "colab": {
          "base_uri": "https://localhost:8080/",
          "height": 102
        }
      },
      "source": [
        "answers = transform_from_categorical(prediction, unique_intents.tolist())\n",
        "answers[:5]"
      ],
      "execution_count": 112,
      "outputs": [
        {
          "output_type": "execute_result",
          "data": {
            "text/plain": [
              "['GetWeather',\n",
              " 'AddToPlaylist',\n",
              " 'BookRestaurant',\n",
              " 'SearchScreeningEvent',\n",
              " 'BookRestaurant']"
            ]
          },
          "metadata": {
            "tags": []
          },
          "execution_count": 112
        }
      ]
    },
    {
      "cell_type": "markdown",
      "metadata": {
        "id": "Ch6oZmrIsFdi",
        "colab_type": "text"
      },
      "source": [
        "Делаем отчёт по предсказанию (по разным метрикам) + строим матрицу ошибок:"
      ]
    },
    {
      "cell_type": "code",
      "metadata": {
        "id": "Kl8oCGPUuJu7",
        "colab_type": "code",
        "colab": {}
      },
      "source": [
        "y_test = transform_to_categorical(y_test, unique_intents.tolist(), False)"
      ],
      "execution_count": 0,
      "outputs": []
    },
    {
      "cell_type": "code",
      "metadata": {
        "id": "-laylsNbaCdK",
        "colab_type": "code",
        "outputId": "479f2be1-6d7f-4d39-99ab-97637b06a0bc",
        "colab": {
          "base_uri": "https://localhost:8080/",
          "height": 221
        }
      },
      "source": [
        "print(classification_report(y_test, prediction, target_names = unique_intents))"
      ],
      "execution_count": 114,
      "outputs": [
        {
          "output_type": "stream",
          "text": [
            "                      precision    recall  f1-score   support\n",
            "\n",
            "       AddToPlaylist       1.00      0.96      0.98       438\n",
            "      BookRestaurant       0.99      1.00      0.99       492\n",
            "          GetWeather       0.99      0.99      0.99       482\n",
            "           PlayMusic       0.97      1.00      0.98       435\n",
            "SearchScreeningEvent       0.99      0.99      0.99       428\n",
            "\n",
            "            accuracy                           0.99      2275\n",
            "           macro avg       0.99      0.99      0.99      2275\n",
            "        weighted avg       0.99      0.99      0.99      2275\n",
            "\n"
          ],
          "name": "stdout"
        }
      ]
    },
    {
      "cell_type": "markdown",
      "metadata": {
        "id": "SOh7JUXcwP01",
        "colab_type": "text"
      },
      "source": [
        "Как видно, наша модель определяет интенты с точностью ~ 99%"
      ]
    },
    {
      "cell_type": "code",
      "metadata": {
        "id": "mTEVwwP9vDGm",
        "colab_type": "code",
        "colab": {}
      },
      "source": [
        "# Преобразование номеров классов в названия классов\n",
        "prediction_ = transform_from_categorical(prediction, unique_intents.tolist())\n",
        "y_test_ = transform_from_categorical(np.array(y_test), unique_intents.tolist())"
      ],
      "execution_count": 0,
      "outputs": []
    },
    {
      "cell_type": "code",
      "metadata": {
        "id": "HqEJTfJSbEo0",
        "colab_type": "code",
        "outputId": "02275188-5d89-455d-bf9c-bb0f25b4891a",
        "colab": {
          "base_uri": "https://localhost:8080/",
          "height": 399
        }
      },
      "source": [
        "data = {'prediction': prediction_,\n",
        "        'actual':    y_test_\n",
        "        }\n",
        "\n",
        "df = pd.DataFrame(data, columns = ['actual','prediction'])\n",
        "confusion_matrix = pd.crosstab(df['actual'], df['prediction'], rownames = ['Actual'], colnames = ['Predicted'])\n",
        "\n",
        "sn.heatmap(confusion_matrix, annot = True)"
      ],
      "execution_count": 116,
      "outputs": [
        {
          "output_type": "execute_result",
          "data": {
            "text/plain": [
              "<matplotlib.axes._subplots.AxesSubplot at 0x7fcf3ab16198>"
            ]
          },
          "metadata": {
            "tags": []
          },
          "execution_count": 116
        },
        {
          "output_type": "display_data",
          "data": {
            "image/png": "[encoded data removed]",
            "text/plain": [
              "<Figure size 432x288 with 2 Axes>"
            ]
          },
          "metadata": {
            "tags": []
          }
        }
      ]
    },
    {
      "cell_type": "markdown",
      "metadata": {
        "id": "hb3gIOldvhyc",
        "colab_type": "text"
      },
      "source": [
        "Как видно, наша модель хуже всего научилась распознавать интент `SearchScreeningEvent` (путает с другими классами), также путает между собой интенты `AddToPlaylist` и `PlayMusic`"
      ]
    },
    {
      "cell_type": "markdown",
      "metadata": {
        "id": "W6-v8G5lmIRM",
        "colab_type": "text"
      },
      "source": [
        "# Дообучение модели"
      ]
    },
    {
      "cell_type": "markdown",
      "metadata": {
        "id": "c496c2upyxQ4",
        "colab_type": "text"
      },
      "source": [
        "Подготовка данных:"
      ]
    },
    {
      "cell_type": "code",
      "metadata": {
        "id": "_pFG4qGqRjbf",
        "colab_type": "code",
        "colab": {}
      },
      "source": [
        "# Объединение двух списков\n",
        "def add_new_data(old, new):\n",
        "  result = old\n",
        "\n",
        "  for i in new:\n",
        "    result.append(i)\n",
        "\n",
        "  return result"
      ],
      "execution_count": 0,
      "outputs": []
    },
    {
      "cell_type": "code",
      "metadata": {
        "id": "QAHRr1xpt8Q7",
        "colab_type": "code",
        "colab": {}
      },
      "source": [
        "new_file_csv = pd.read_csv('drive/My Drive/ForGensim/train_new.csv')"
      ],
      "execution_count": 0,
      "outputs": []
    },
    {
      "cell_type": "code",
      "metadata": {
        "id": "z1zOF-4UZPZ5",
        "colab_type": "code",
        "colab": {}
      },
      "source": [
        "all_new_texts = new_file_csv['text']\n",
        "all_new_intents = new_file_csv['intents']"
      ],
      "execution_count": 0,
      "outputs": []
    },
    {
      "cell_type": "code",
      "metadata": {
        "id": "vztZz8CAgpl-",
        "colab_type": "code",
        "colab": {}
      },
      "source": [
        "unique_new_intents = new_file_csv.intents.unique()"
      ],
      "execution_count": 0,
      "outputs": []
    },
    {
      "cell_type": "code",
      "metadata": {
        "id": "znnqyRZ6guEe",
        "colab_type": "code",
        "outputId": "959626d1-66ce-4d3a-f6ca-cb3a22043df2",
        "colab": {
          "base_uri": "https://localhost:8080/",
          "height": 34
        }
      },
      "source": [
        "unique_new_intents"
      ],
      "execution_count": 83,
      "outputs": [
        {
          "output_type": "execute_result",
          "data": {
            "text/plain": [
              "array(['RateBook', 'SearchCreativeWork'], dtype=object)"
            ]
          },
          "metadata": {
            "tags": []
          },
          "execution_count": 83
        }
      ]
    },
    {
      "cell_type": "code",
      "metadata": {
        "id": "bEt3MQrslYiQ",
        "colab_type": "code",
        "colab": {}
      },
      "source": [
        "all_unique_intents = add_new_data(unique_intents.tolist(), unique_new_intents.tolist())"
      ],
      "execution_count": 0,
      "outputs": []
    },
    {
      "cell_type": "code",
      "metadata": {
        "id": "8S5MapSAytgY",
        "colab_type": "code",
        "colab": {
          "base_uri": "https://localhost:8080/",
          "height": 136
        },
        "outputId": "2f382c6e-26e0-45a7-e853-317a0de8394b"
      },
      "source": [
        "all_unique_intents"
      ],
      "execution_count": 85,
      "outputs": [
        {
          "output_type": "execute_result",
          "data": {
            "text/plain": [
              "['AddToPlaylist',\n",
              " 'BookRestaurant',\n",
              " 'GetWeather',\n",
              " 'PlayMusic',\n",
              " 'SearchScreeningEvent',\n",
              " 'RateBook',\n",
              " 'SearchCreativeWork']"
            ]
          },
          "metadata": {
            "tags": []
          },
          "execution_count": 85
        }
      ]
    },
    {
      "cell_type": "code",
      "metadata": {
        "id": "tXpj3xdQ7ULz",
        "colab_type": "code",
        "colab": {}
      },
      "source": [
        "COUNT_CLASSES = len(all_unique_intents)"
      ],
      "execution_count": 0,
      "outputs": []
    },
    {
      "cell_type": "code",
      "metadata": {
        "id": "v-R0IU67kl4V",
        "colab_type": "code",
        "colab": {}
      },
      "source": [
        "sentences_new = np.array(all_new_texts.apply(lambda x : tokenize(x)))"
      ],
      "execution_count": 0,
      "outputs": []
    },
    {
      "cell_type": "code",
      "metadata": {
        "id": "JJhOFyDp_68m",
        "colab_type": "code",
        "colab": {}
      },
      "source": [
        "old_and_new_sentences = add_new_data(sentences.tolist(), sentences_new)"
      ],
      "execution_count": 0,
      "outputs": []
    },
    {
      "cell_type": "code",
      "metadata": {
        "id": "R9TYL9qsnGqf",
        "colab_type": "code",
        "colab": {}
      },
      "source": [
        "# Создание единого словаря (слово -> число) для преобразования на основе списка текстов\n",
        "tokenizer = Tokenizer()\n",
        "tokenizer.fit_on_texts(old_and_new_sentences)\n",
        "\n",
        "# Преобразование всех текстов в числовые последовательности, заменяя слова на числа по словарю.\n",
        "text = tokenizer.texts_to_sequences(old_and_new_sentences)\n",
        "text = pad_sequences(text, maxlen = 10)"
      ],
      "execution_count": 0,
      "outputs": []
    },
    {
      "cell_type": "code",
      "metadata": {
        "id": "QYaoWKvU25_B",
        "colab_type": "code",
        "colab": {}
      },
      "source": [
        "all_intents = add_new_data(all_intents.tolist(), all_new_intents)"
      ],
      "execution_count": 0,
      "outputs": []
    },
    {
      "cell_type": "markdown",
      "metadata": {
        "id": "D9QwIzsUzfsD",
        "colab_type": "text"
      },
      "source": [
        "Получение и дообучение модели word2vec:"
      ]
    },
    {
      "cell_type": "code",
      "metadata": {
        "id": "HaPfgwaixJM3",
        "colab_type": "code",
        "outputId": "57a83c9c-2696-4831-ff34-d462ebb42444",
        "colab": {
          "base_uri": "https://localhost:8080/",
          "height": 71
        }
      },
      "source": [
        "# Получение старой модели Word2Vec\n",
        "word2vec_model = Word2Vec.load(\"drive/My Drive/ForGensim/Word2VecModel\")"
      ],
      "execution_count": 117,
      "outputs": [
        {
          "output_type": "stream",
          "text": [
            "/usr/local/lib/python3.6/dist-packages/smart_open/smart_open_lib.py:402: UserWarning: This function is deprecated, use smart_open.open instead. See the migration notes for details: https://github.com/RaRe-Technologies/smart_open/blob/master/README.rst#migrating-to-the-new-open-function\n",
            "  'See the migration notes for details: %s' % _MIGRATION_NOTES_URL\n"
          ],
          "name": "stderr"
        }
      ]
    },
    {
      "cell_type": "code",
      "metadata": {
        "id": "CMVZ5CeDhXRP",
        "colab_type": "code",
        "colab": {
          "base_uri": "https://localhost:8080/",
          "height": 34
        },
        "outputId": "ac554a3c-7dd2-4080-b794-a72c84247f9e"
      },
      "source": [
        "# Дообучение модели word2vec\n",
        "word2vec_model.build_vocab(sentences_new, update = True)\n",
        "word2vec_model.train(sentences_new, total_examples = len(sentences_new), epochs = word2vec_model.epochs)"
      ],
      "execution_count": 128,
      "outputs": [
        {
          "output_type": "execute_result",
          "data": {
            "text/plain": [
              "(92709, 210890)"
            ]
          },
          "metadata": {
            "tags": []
          },
          "execution_count": 128
        }
      ]
    },
    {
      "cell_type": "code",
      "metadata": {
        "id": "2OmZkHShGcO-",
        "colab_type": "code",
        "colab": {
          "base_uri": "https://localhost:8080/",
          "height": 71
        },
        "outputId": "5d446a33-e901-451a-f731-bd500b7b241e"
      },
      "source": [
        "word2vec_model.save('drive/My Drive/ForGensim/Word2VecModel')\n",
        "word2vec_model.wv.save_word2vec_format('drive/My Drive/ForGensim/Word2VecModel.txt', binary=False)\n",
        "word2vec_model.wv.save_word2vec_format('drive/My Drive/ForGensim/Word2VecModel.bin', binary=True)"
      ],
      "execution_count": 185,
      "outputs": [
        {
          "output_type": "stream",
          "text": [
            "/usr/local/lib/python3.6/dist-packages/smart_open/smart_open_lib.py:402: UserWarning: This function is deprecated, use smart_open.open instead. See the migration notes for details: https://github.com/RaRe-Technologies/smart_open/blob/master/README.rst#migrating-to-the-new-open-function\n",
            "  'See the migration notes for details: %s' % _MIGRATION_NOTES_URL\n"
          ],
          "name": "stderr"
        }
      ]
    },
    {
      "cell_type": "markdown",
      "metadata": {
        "id": "OSy8PzqPzw8Q",
        "colab_type": "text"
      },
      "source": [
        "Получение и дообучение модели keras:"
      ]
    },
    {
      "cell_type": "code",
      "metadata": {
        "id": "trseOAlxw7ko",
        "colab_type": "code",
        "colab": {}
      },
      "source": [
        "keras_model = load_model('drive/My Drive/ForGensim/keras_model.h5')"
      ],
      "execution_count": 0,
      "outputs": []
    },
    {
      "cell_type": "code",
      "metadata": {
        "id": "n4Qh91YsZQVf",
        "colab_type": "code",
        "colab": {}
      },
      "source": [
        "#запоминаем все слои\n",
        "layers = []\n",
        "for i in range(len(all_unique_intents)):\n",
        "  layers.append(keras_model.layers.pop())\n",
        "  keras_model.pop()\n",
        "\n",
        "keras_model.pop()"
      ],
      "execution_count": 0,
      "outputs": []
    },
    {
      "cell_type": "code",
      "metadata": {
        "id": "-8OkbfT7uU_3",
        "colab_type": "code",
        "colab": {}
      },
      "source": [
        "#меняем первый слой с новой обученной модель word2vec\n",
        "keras_model = Sequential()\n",
        "keras_model.add(word2vec_model.wv.get_keras_embedding(train_embeddings = True))"
      ],
      "execution_count": 0,
      "outputs": []
    },
    {
      "cell_type": "code",
      "metadata": {
        "id": "PUZ8AoHJ1emK",
        "colab_type": "code",
        "colab": {}
      },
      "source": [
        "#добавляем оставшиеся слои из старой модели, кроме последнего\n",
        "new_layers_count = len(layers) - 1\n",
        "for i in range(new_layers_count):\n",
        "  keras_model.add(layers[new_layers_count - i])"
      ],
      "execution_count": 0,
      "outputs": []
    },
    {
      "cell_type": "code",
      "metadata": {
        "id": "xQnOll-Snl0O",
        "colab_type": "code",
        "colab": {}
      },
      "source": [
        "#добавляем последний слой для нового кол-ва классов\n",
        "keras_model.add(Dense(COUNT_CLASSES, activation = 'softmax'))"
      ],
      "execution_count": 0,
      "outputs": []
    },
    {
      "cell_type": "code",
      "metadata": {
        "id": "OutUpwP_vq5A",
        "colab_type": "code",
        "colab": {}
      },
      "source": [
        "keras_model.compile(loss = 'categorical_crossentropy', optimizer = 'adam', metrics = ['accuracy'])"
      ],
      "execution_count": 0,
      "outputs": []
    },
    {
      "cell_type": "code",
      "metadata": {
        "id": "kJLD6k9fn9Wj",
        "colab_type": "code",
        "outputId": "c41bb8d7-c80b-432f-8775-d861821ce55e",
        "colab": {
          "base_uri": "https://localhost:8080/",
          "height": 425
        }
      },
      "source": [
        "keras_model.summary()"
      ],
      "execution_count": 125,
      "outputs": [
        {
          "output_type": "stream",
          "text": [
            "Model: \"sequential_7\"\n",
            "_________________________________________________________________\n",
            "Layer (type)                 Output Shape              Param #   \n",
            "=================================================================\n",
            "embedding_7 (Embedding)      (None, None, 200)         551600    \n",
            "_________________________________________________________________\n",
            "dropout_11 (Dropout)         (None, None, 200)         0         \n",
            "_________________________________________________________________\n",
            "conv1d_6 (Conv1D)            (None, None, 50)          30050     \n",
            "_________________________________________________________________\n",
            "global_max_pooling1d_6 (Glob (None, 50)                0         \n",
            "_________________________________________________________________\n",
            "dense_11 (Dense)             (None, 250)               12750     \n",
            "_________________________________________________________________\n",
            "dropout_12 (Dropout)         (None, 250)               0         \n",
            "_________________________________________________________________\n",
            "activation_6 (Activation)    (None, 250)               0         \n",
            "_________________________________________________________________\n",
            "dense_13 (Dense)             (None, 7)                 1757      \n",
            "=================================================================\n",
            "Total params: 596,157\n",
            "Trainable params: 596,157\n",
            "Non-trainable params: 0\n",
            "_________________________________________________________________\n"
          ],
          "name": "stdout"
        }
      ]
    },
    {
      "cell_type": "code",
      "metadata": {
        "id": "9QzJ28RRoa2Q",
        "colab_type": "code",
        "colab": {}
      },
      "source": [
        "X_train_new, X_test_new, y_train_new, y_test_new = train_test_split(text, all_intents, test_size = 0.2)"
      ],
      "execution_count": 0,
      "outputs": []
    },
    {
      "cell_type": "code",
      "metadata": {
        "id": "uYp-teohmdUj",
        "colab_type": "code",
        "colab": {}
      },
      "source": [
        "y_train_new = transform_to_categorical(y_train_new, all_unique_intents)"
      ],
      "execution_count": 0,
      "outputs": []
    },
    {
      "cell_type": "code",
      "metadata": {
        "id": "3WFs0I5hvlbU",
        "colab_type": "code",
        "outputId": "683ffd61-2ad9-47ad-d36a-f059e0a4f1f8",
        "colab": {
          "base_uri": "https://localhost:8080/",
          "height": 391
        }
      },
      "source": [
        "keras_model.fit(X_train_new, y_train_new, batch_size = BATCH, epochs = EPOCHS_COUNT, validation_split = 0.2)"
      ],
      "execution_count": 157,
      "outputs": [
        {
          "output_type": "stream",
          "text": [
            "Train on 10165 samples, validate on 2542 samples\n",
            "Epoch 1/10\n",
            "10165/10165 [==============================] - 2s 219us/step - loss: 0.0323 - acc: 0.9917 - val_loss: 0.0342 - val_acc: 0.9890\n",
            "Epoch 2/10\n",
            "10165/10165 [==============================] - 2s 224us/step - loss: 0.0155 - acc: 0.9955 - val_loss: 0.0267 - val_acc: 0.9921\n",
            "Epoch 3/10\n",
            "10165/10165 [==============================] - 2s 225us/step - loss: 0.0118 - acc: 0.9965 - val_loss: 0.0279 - val_acc: 0.9929\n",
            "Epoch 4/10\n",
            "10165/10165 [==============================] - 2s 221us/step - loss: 0.0087 - acc: 0.9973 - val_loss: 0.0320 - val_acc: 0.9925\n",
            "Epoch 5/10\n",
            "10165/10165 [==============================] - 2s 218us/step - loss: 0.0076 - acc: 0.9973 - val_loss: 0.0303 - val_acc: 0.9913\n",
            "Epoch 6/10\n",
            "10165/10165 [==============================] - 2s 214us/step - loss: 0.0077 - acc: 0.9976 - val_loss: 0.0337 - val_acc: 0.9929\n",
            "Epoch 7/10\n",
            "10165/10165 [==============================] - 2s 215us/step - loss: 0.0078 - acc: 0.9976 - val_loss: 0.0445 - val_acc: 0.9858\n",
            "Epoch 8/10\n",
            "10165/10165 [==============================] - 2s 211us/step - loss: 0.0116 - acc: 0.9962 - val_loss: 0.0465 - val_acc: 0.9898\n",
            "Epoch 9/10\n",
            "10165/10165 [==============================] - 2s 210us/step - loss: 0.0078 - acc: 0.9974 - val_loss: 0.0552 - val_acc: 0.9878\n",
            "Epoch 10/10\n",
            "10165/10165 [==============================] - 2s 217us/step - loss: 0.0064 - acc: 0.9977 - val_loss: 0.0501 - val_acc: 0.9902\n"
          ],
          "name": "stdout"
        },
        {
          "output_type": "execute_result",
          "data": {
            "text/plain": [
              "<keras.callbacks.History at 0x7fcf39db9550>"
            ]
          },
          "metadata": {
            "tags": []
          },
          "execution_count": 157
        }
      ]
    },
    {
      "cell_type": "code",
      "metadata": {
        "id": "I9r1UBjpxv9f",
        "colab_type": "code",
        "colab": {}
      },
      "source": [
        "prediction = keras_model.predict_classes(X_test_new)"
      ],
      "execution_count": 0,
      "outputs": []
    },
    {
      "cell_type": "markdown",
      "metadata": {
        "id": "nrHm5ePD4KzK",
        "colab_type": "text"
      },
      "source": [
        "Делаем отчёт по предсказанию (по разным метрикам) + строим матрицу ошибок:"
      ]
    },
    {
      "cell_type": "code",
      "metadata": {
        "id": "cvhkWhSc3aTV",
        "colab_type": "code",
        "colab": {}
      },
      "source": [
        "y_test_new = transform_to_categorical(y_test_new, all_unique_intents, False)"
      ],
      "execution_count": 0,
      "outputs": []
    },
    {
      "cell_type": "code",
      "metadata": {
        "id": "m3VnNydI3mzV",
        "colab_type": "code",
        "colab": {
          "base_uri": "https://localhost:8080/",
          "height": 255
        },
        "outputId": "59207198-d356-4aff-8b78-3285de614f88"
      },
      "source": [
        "print(classification_report(y_test_new, prediction, target_names = all_unique_intents))"
      ],
      "execution_count": 160,
      "outputs": [
        {
          "output_type": "stream",
          "text": [
            "                      precision    recall  f1-score   support\n",
            "\n",
            "       AddToPlaylist       1.00      0.99      0.99       448\n",
            "      BookRestaurant       0.99      1.00      0.99       440\n",
            "          GetWeather       1.00      1.00      1.00       480\n",
            "           PlayMusic       0.98      0.99      0.99       445\n",
            "SearchScreeningEvent       0.98      1.00      0.99       429\n",
            "            RateBook       1.00      0.99      0.99       467\n",
            "  SearchCreativeWork       0.99      0.97      0.98       468\n",
            "\n",
            "            accuracy                           0.99      3177\n",
            "           macro avg       0.99      0.99      0.99      3177\n",
            "        weighted avg       0.99      0.99      0.99      3177\n",
            "\n"
          ],
          "name": "stdout"
        }
      ]
    },
    {
      "cell_type": "markdown",
      "metadata": {
        "id": "bPaAAKS430mf",
        "colab_type": "text"
      },
      "source": [
        "Точность ~ 98%"
      ]
    },
    {
      "cell_type": "code",
      "metadata": {
        "id": "94FcmOcL351i",
        "colab_type": "code",
        "colab": {}
      },
      "source": [
        "# Преобразование номеров классов в названия классов\n",
        "prediction_ = transform_from_categorical(prediction, all_unique_intents)\n",
        "y_test_new_ = transform_from_categorical(np.array(y_test_new), all_unique_intents)"
      ],
      "execution_count": 0,
      "outputs": []
    },
    {
      "cell_type": "code",
      "metadata": {
        "id": "9bW9U1vF4A9k",
        "colab_type": "code",
        "colab": {
          "base_uri": "https://localhost:8080/",
          "height": 399
        },
        "outputId": "1f05f8af-963a-4881-888b-f1a85533262e"
      },
      "source": [
        "data = {'prediction': prediction_,\n",
        "        'actual':    y_test_new_\n",
        "        }\n",
        "\n",
        "df = pd.DataFrame(data, columns = ['actual','prediction'])\n",
        "confusion_matrix = pd.crosstab(df['actual'], df['prediction'], rownames = ['Actual'], colnames = ['Predicted'])\n",
        "\n",
        "sn.heatmap(confusion_matrix, annot = True)"
      ],
      "execution_count": 162,
      "outputs": [
        {
          "output_type": "execute_result",
          "data": {
            "text/plain": [
              "<matplotlib.axes._subplots.AxesSubplot at 0x7fcf399f21d0>"
            ]
          },
          "metadata": {
            "tags": []
          },
          "execution_count": 162
        },
        {
          "output_type": "display_data",
          "data": {
            "image/png": "[encoded data removed]",
            "text/plain": [
              "<Figure size 432x288 with 2 Axes>"
            ]
          },
          "metadata": {
            "tags": []
          }
        }
      ]
    },
    {
      "cell_type": "markdown",
      "metadata": {
        "id": "had012y84P9N",
        "colab_type": "text"
      },
      "source": [
        "Наша модель чаще всего путает интенты `PlayMusic` с `SearchCreativeWork`, `SearchCreativeWork` с `SearchScreeningEvent`"
      ]
    }
  ]
}