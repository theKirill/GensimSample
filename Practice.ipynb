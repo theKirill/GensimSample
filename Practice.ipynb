{
  "nbformat": 4,
  "nbformat_minor": 0,
  "metadata": {
    "colab": {
      "name": "Practice.ipynb",
      "provenance": [],
      "collapsed_sections": [],
      "include_colab_link": true
    },
    "kernelspec": {
      "name": "python3",
      "display_name": "Python 3"
    },
    "accelerator": "GPU"
  },
  "cells": [
    {
      "cell_type": "markdown",
      "metadata": {
        "id": "view-in-github",
        "colab_type": "text"
      },
      "source": [
        "<a href=\"https://colab.research.google.com/github/theKirill/GensimSample/blob/master/Practice.ipynb\" target=\"_parent\"><img src=\"https://colab.research.google.com/assets/colab-badge.svg\" alt=\"Open In Colab\"/></a>"
      ]
    },
    {
      "cell_type": "code",
      "metadata": {
        "id": "CCq8L9tfX-tf",
        "colab_type": "code",
        "colab": {}
      },
      "source": [
        "import gensim\n",
        "import nltk\n",
        "from nltk.corpus import stopwords\n",
        "from gensim.models import Word2Vec\n",
        "import pandas as pd\n",
        "import numpy as np\n",
        "import keras\n",
        "from keras.preprocessing.text import Tokenizer\n",
        "from keras.preprocessing.sequence import pad_sequences\n",
        "from keras.models import Sequential\n",
        "from keras.layers import Dense, Flatten, Embedding, Dropout, Conv1D, GlobalMaxPooling1D, Activation\n",
        "from keras.models import Model\n",
        "import sklearn\n",
        "from sklearn.model_selection import train_test_split\n",
        "from keras.utils import to_categorical\n",
        "from keras.models import save_model, load_model\n",
        "from keras.callbacks import ModelCheckpoint\n",
        "from nltk.tokenize import RegexpTokenizer"
      ],
      "execution_count": 0,
      "outputs": []
    },
    {
      "cell_type": "code",
      "metadata": {
        "id": "u7yBLPEfObyi",
        "colab_type": "code",
        "outputId": "98be01a7-e224-4701-d6e3-26e8b5db04ce",
        "colab": {
          "base_uri": "https://localhost:8080/",
          "height": 102
        }
      },
      "source": [
        "nltk.download('punkt')\n",
        "nltk.download('stopwords')"
      ],
      "execution_count": 361,
      "outputs": [
        {
          "output_type": "stream",
          "text": [
            "[nltk_data] Downloading package punkt to /root/nltk_data...\n",
            "[nltk_data]   Package punkt is already up-to-date!\n",
            "[nltk_data] Downloading package stopwords to /root/nltk_data...\n",
            "[nltk_data]   Package stopwords is already up-to-date!\n"
          ],
          "name": "stdout"
        },
        {
          "output_type": "execute_result",
          "data": {
            "text/plain": [
              "True"
            ]
          },
          "metadata": {
            "tags": []
          },
          "execution_count": 361
        }
      ]
    },
    {
      "cell_type": "code",
      "metadata": {
        "id": "iLlOyB5xy2HD",
        "colab_type": "code",
        "colab": {}
      },
      "source": [
        "file_csv = pd.read_csv('drive/My Drive/ForGensim/train.csv')"
      ],
      "execution_count": 0,
      "outputs": []
    },
    {
      "cell_type": "code",
      "metadata": {
        "id": "0Fgb2vFPQhfP",
        "colab_type": "code",
        "outputId": "6f3f7da4-c5b6-497a-e18c-02304081301a",
        "colab": {
          "base_uri": "https://localhost:8080/",
          "height": 402
        }
      },
      "source": [
        "file_csv"
      ],
      "execution_count": 0,
      "outputs": [
        {
          "output_type": "execute_result",
          "data": {
            "text/html": [
              "<div>\n",
              "<style scoped>\n",
              "    .dataframe tbody tr th:only-of-type {\n",
              "        vertical-align: middle;\n",
              "    }\n",
              "\n",
              "    .dataframe tbody tr th {\n",
              "        vertical-align: top;\n",
              "    }\n",
              "\n",
              "    .dataframe thead th {\n",
              "        text-align: right;\n",
              "    }\n",
              "</style>\n",
              "<table border=\"1\" class=\"dataframe\">\n",
              "  <thead>\n",
              "    <tr style=\"text-align: right;\">\n",
              "      <th></th>\n",
              "      <th>text</th>\n",
              "      <th>intents</th>\n",
              "    </tr>\n",
              "  </thead>\n",
              "  <tbody>\n",
              "    <tr>\n",
              "      <th>0</th>\n",
              "      <td>Add another song to the Cita RomГЎntica playli...</td>\n",
              "      <td>AddToPlaylist</td>\n",
              "    </tr>\n",
              "    <tr>\n",
              "      <th>1</th>\n",
              "      <td>add clem burke in my playlist Pre-Party R&amp;B Jams</td>\n",
              "      <td>AddToPlaylist</td>\n",
              "    </tr>\n",
              "    <tr>\n",
              "      <th>2</th>\n",
              "      <td>Add Live from Aragon Ballroom to Trapeo</td>\n",
              "      <td>AddToPlaylist</td>\n",
              "    </tr>\n",
              "    <tr>\n",
              "      <th>3</th>\n",
              "      <td>add Unite and Win to my night out</td>\n",
              "      <td>AddToPlaylist</td>\n",
              "    </tr>\n",
              "    <tr>\n",
              "      <th>4</th>\n",
              "      <td>Add track to my Digster Future Hits</td>\n",
              "      <td>AddToPlaylist</td>\n",
              "    </tr>\n",
              "    <tr>\n",
              "      <th>...</th>\n",
              "      <td>...</td>\n",
              "      <td>...</td>\n",
              "    </tr>\n",
              "    <tr>\n",
              "      <th>11369</th>\n",
              "      <td>Is Across the Line playing at the closest movi...</td>\n",
              "      <td>SearchScreeningEvent</td>\n",
              "    </tr>\n",
              "    <tr>\n",
              "      <th>11370</th>\n",
              "      <td>Which animated movies are playing in the neigh...</td>\n",
              "      <td>SearchScreeningEvent</td>\n",
              "    </tr>\n",
              "    <tr>\n",
              "      <th>11371</th>\n",
              "      <td>Where is They Always Return at Dawn playing</td>\n",
              "      <td>SearchScreeningEvent</td>\n",
              "    </tr>\n",
              "    <tr>\n",
              "      <th>11372</th>\n",
              "      <td>What is the movie schedule in the neighborhood</td>\n",
              "      <td>SearchScreeningEvent</td>\n",
              "    </tr>\n",
              "    <tr>\n",
              "      <th>11373</th>\n",
              "      <td>Tell me when Howling II: Your Sister Is a Were...</td>\n",
              "      <td>SearchScreeningEvent</td>\n",
              "    </tr>\n",
              "  </tbody>\n",
              "</table>\n",
              "<p>11374 rows × 2 columns</p>\n",
              "</div>"
            ],
            "text/plain": [
              "                                                    text               intents\n",
              "0      Add another song to the Cita RomГЎntica playli...         AddToPlaylist\n",
              "1       add clem burke in my playlist Pre-Party R&B Jams         AddToPlaylist\n",
              "2                Add Live from Aragon Ballroom to Trapeo         AddToPlaylist\n",
              "3                      add Unite and Win to my night out         AddToPlaylist\n",
              "4                    Add track to my Digster Future Hits         AddToPlaylist\n",
              "...                                                  ...                   ...\n",
              "11369  Is Across the Line playing at the closest movi...  SearchScreeningEvent\n",
              "11370  Which animated movies are playing in the neigh...  SearchScreeningEvent\n",
              "11371        Where is They Always Return at Dawn playing  SearchScreeningEvent\n",
              "11372     What is the movie schedule in the neighborhood  SearchScreeningEvent\n",
              "11373  Tell me when Howling II: Your Sister Is a Were...  SearchScreeningEvent\n",
              "\n",
              "[11374 rows x 2 columns]"
            ]
          },
          "metadata": {
            "tags": []
          },
          "execution_count": 142
        }
      ]
    },
    {
      "cell_type": "code",
      "metadata": {
        "id": "v_g3zM2bQ3Tu",
        "colab_type": "code",
        "colab": {}
      },
      "source": [
        "all_texts = file_csv['text']\n",
        "all_intents = file_csv['intents']"
      ],
      "execution_count": 0,
      "outputs": []
    },
    {
      "cell_type": "code",
      "metadata": {
        "id": "Hwt_CiyC1yfo",
        "colab_type": "code",
        "outputId": "4e6c6348-4ec1-4482-ccdb-1b51b98fe256",
        "colab": {
          "base_uri": "https://localhost:8080/",
          "height": 228
        }
      },
      "source": [
        "file_csv['text']"
      ],
      "execution_count": 0,
      "outputs": [
        {
          "output_type": "execute_result",
          "data": {
            "text/plain": [
              "0        Add another song to the Cita RomГЎntica playli...\n",
              "1         add clem burke in my playlist Pre-Party R&B Jams\n",
              "2                  Add Live from Aragon Ballroom to Trapeo\n",
              "3                        add Unite and Win to my night out\n",
              "4                      Add track to my Digster Future Hits\n",
              "                               ...                        \n",
              "11369    Is Across the Line playing at the closest movi...\n",
              "11370    Which animated movies are playing in the neigh...\n",
              "11371          Where is They Always Return at Dawn playing\n",
              "11372       What is the movie schedule in the neighborhood\n",
              "11373    Tell me when Howling II: Your Sister Is a Were...\n",
              "Name: text, Length: 11374, dtype: object"
            ]
          },
          "metadata": {
            "tags": []
          },
          "execution_count": 145
        }
      ]
    },
    {
      "cell_type": "code",
      "metadata": {
        "id": "_JQ7LK3-2O1Z",
        "colab_type": "code",
        "colab": {}
      },
      "source": [
        "unique_intents = file_csv.intents.unique()"
      ],
      "execution_count": 0,
      "outputs": []
    },
    {
      "cell_type": "code",
      "metadata": {
        "id": "9pkMOcKTJOMX",
        "colab_type": "code",
        "outputId": "7517f06f-ae00-47ac-e4dc-5bd9f9dc2ee7",
        "colab": {
          "base_uri": "https://localhost:8080/",
          "height": 51
        }
      },
      "source": [
        "unique_intents"
      ],
      "execution_count": 430,
      "outputs": [
        {
          "output_type": "execute_result",
          "data": {
            "text/plain": [
              "array(['AddToPlaylist', 'BookRestaurant', 'GetWeather', 'PlayMusic',\n",
              "       'SearchScreeningEvent'], dtype=object)"
            ]
          },
          "metadata": {
            "tags": []
          },
          "execution_count": 430
        }
      ]
    },
    {
      "cell_type": "markdown",
      "metadata": {
        "id": "q-oraviUTcaG",
        "colab_type": "text"
      },
      "source": [
        "**Удаление стоп-слов и пунктуации**"
      ]
    },
    {
      "cell_type": "code",
      "metadata": {
        "id": "vMMxwWtQR-NL",
        "colab_type": "code",
        "colab": {}
      },
      "source": [
        "def remove_stopwords(text):\n",
        "  regex_tokenizer = RegexpTokenizer('[a-zA-Z]+')\n",
        "  words = regex_tokenizer.tokenize(text.lower())\n",
        "  stop_words = set(stopwords.words(\"english\"))\n",
        "  without_stop_words = [w for w in words if w not in stop_words]\n",
        "  return without_stop_words"
      ],
      "execution_count": 0,
      "outputs": []
    },
    {
      "cell_type": "code",
      "metadata": {
        "id": "RIGT3jwAUXeS",
        "colab_type": "code",
        "colab": {}
      },
      "source": [
        "def get_tokens(sentences):\n",
        "  tokens = []\n",
        "\n",
        "  for sentence in sentences:\n",
        "    tokens.append(sentence)\n",
        "    \n",
        "  return tokens"
      ],
      "execution_count": 0,
      "outputs": []
    },
    {
      "cell_type": "code",
      "metadata": {
        "id": "MrZJeOsx3Hx9",
        "colab_type": "code",
        "colab": {}
      },
      "source": [
        "sentences = np.array(all_texts.apply(lambda x : remove_stopwords(x)))"
      ],
      "execution_count": 0,
      "outputs": []
    },
    {
      "cell_type": "code",
      "metadata": {
        "id": "ct7k4eYPU1aO",
        "colab_type": "code",
        "colab": {}
      },
      "source": [
        "tokens = get_tokens(sentences)"
      ],
      "execution_count": 0,
      "outputs": []
    },
    {
      "cell_type": "code",
      "metadata": {
        "id": "90Z6jo9lfph0",
        "colab_type": "code",
        "outputId": "8ac50705-a67b-4854-fdd2-bc2a252d1535",
        "colab": {
          "base_uri": "https://localhost:8080/",
          "height": 102
        }
      },
      "source": [
        "tokens[:5]"
      ],
      "execution_count": 0,
      "outputs": [
        {
          "output_type": "execute_result",
          "data": {
            "text/plain": [
              "[['add', 'another', 'song', 'cita', 'rom', 'ntica', 'playlist'],\n",
              " ['add', 'clem', 'burke', 'playlist', 'pre', 'party', 'r', 'b', 'jams'],\n",
              " ['add', 'live', 'aragon', 'ballroom', 'trapeo'],\n",
              " ['add', 'unite', 'win', 'night'],\n",
              " ['add', 'track', 'digster', 'future', 'hits']]"
            ]
          },
          "metadata": {
            "tags": []
          },
          "execution_count": 23
        }
      ]
    },
    {
      "cell_type": "markdown",
      "metadata": {
        "id": "d9yR-UzwPPNr",
        "colab_type": "text"
      },
      "source": [
        "**Работа с Word2Vec**"
      ]
    },
    {
      "cell_type": "code",
      "metadata": {
        "id": "9X8Kb9p5NSUc",
        "colab_type": "code",
        "colab": {}
      },
      "source": [
        "VECTOR_SIZE = 200\n",
        "WINDOW_SIZE = 10\n",
        "MIN_COUNT = 3\n",
        "ITER_COUNT = 10\n",
        "WORKERS = 4"
      ],
      "execution_count": 0,
      "outputs": []
    },
    {
      "cell_type": "code",
      "metadata": {
        "id": "1j1Ft2Oj3zUr",
        "colab_type": "code",
        "colab": {
          "base_uri": "https://localhost:8080/",
          "height": 1000
        },
        "outputId": "9f7528ad-61c5-40a1-80e9-8d027df675f5"
      },
      "source": [
        "word2vec_model = Word2Vec(tokens, size = VECTOR_SIZE, window = WINDOW_SIZE, min_count = MIN_COUNT, workers = WORKERS, iter = ITER_COUNT)"
      ],
      "execution_count": 434,
      "outputs": [
        {
          "output_type": "stream",
          "text": [
            "INFO:gensim.models.word2vec:collecting all words and their counts\n",
            "INFO:gensim.models.word2vec:PROGRESS: at sentence #0, processed 0 words, keeping 0 word types\n",
            "INFO:gensim.models.word2vec:PROGRESS: at sentence #10000, processed 53022 words, keeping 8725 word types\n",
            "INFO:gensim.models.word2vec:collected 9244 word types from a corpus of 60352 raw words and 11374 sentences\n",
            "INFO:gensim.models.word2vec:Loading a fresh vocabulary\n",
            "INFO:gensim.models.word2vec:effective_min_count=3 retains 2400 unique words (25% of original 9244, drops 6844)\n",
            "INFO:gensim.models.word2vec:effective_min_count=3 leaves 52037 word corpus (86% of original 60352, drops 8315)\n",
            "INFO:gensim.models.word2vec:deleting the raw counts dictionary of 9244 items\n",
            "INFO:gensim.models.word2vec:sample=0.001 downsamples 58 most-common words\n",
            "INFO:gensim.models.word2vec:downsampling leaves estimated 38135 word corpus (73.3% of prior 52037)\n",
            "INFO:gensim.models.base_any2vec:estimated required memory for 2400 words and 200 dimensions: 5040000 bytes\n",
            "INFO:gensim.models.word2vec:resetting layer weights\n",
            "INFO:gensim.models.base_any2vec:training model with 4 workers on 2400 vocabulary and 200 features, using sg=0 hs=0 sample=0.001 negative=5 window=10\n",
            "INFO:gensim.models.base_any2vec:worker thread finished; awaiting finish of 3 more threads\n",
            "INFO:gensim.models.base_any2vec:worker thread finished; awaiting finish of 2 more threads\n",
            "INFO:gensim.models.base_any2vec:worker thread finished; awaiting finish of 1 more threads\n",
            "INFO:gensim.models.base_any2vec:worker thread finished; awaiting finish of 0 more threads\n",
            "INFO:gensim.models.base_any2vec:EPOCH - 1 : training on 60352 raw words (38073 effective words) took 0.1s, 436895 effective words/s\n",
            "INFO:gensim.models.base_any2vec:worker thread finished; awaiting finish of 3 more threads\n",
            "INFO:gensim.models.base_any2vec:worker thread finished; awaiting finish of 2 more threads\n",
            "INFO:gensim.models.base_any2vec:worker thread finished; awaiting finish of 1 more threads\n",
            "INFO:gensim.models.base_any2vec:worker thread finished; awaiting finish of 0 more threads\n",
            "INFO:gensim.models.base_any2vec:EPOCH - 2 : training on 60352 raw words (38165 effective words) took 0.1s, 332899 effective words/s\n",
            "INFO:gensim.models.base_any2vec:worker thread finished; awaiting finish of 3 more threads\n",
            "INFO:gensim.models.base_any2vec:worker thread finished; awaiting finish of 2 more threads\n",
            "INFO:gensim.models.base_any2vec:worker thread finished; awaiting finish of 1 more threads\n",
            "INFO:gensim.models.base_any2vec:worker thread finished; awaiting finish of 0 more threads\n",
            "INFO:gensim.models.base_any2vec:EPOCH - 3 : training on 60352 raw words (38104 effective words) took 0.1s, 361697 effective words/s\n",
            "INFO:gensim.models.base_any2vec:worker thread finished; awaiting finish of 3 more threads\n",
            "INFO:gensim.models.base_any2vec:worker thread finished; awaiting finish of 2 more threads\n",
            "INFO:gensim.models.base_any2vec:worker thread finished; awaiting finish of 1 more threads\n",
            "INFO:gensim.models.base_any2vec:worker thread finished; awaiting finish of 0 more threads\n",
            "INFO:gensim.models.base_any2vec:EPOCH - 4 : training on 60352 raw words (38069 effective words) took 0.1s, 380471 effective words/s\n",
            "INFO:gensim.models.base_any2vec:worker thread finished; awaiting finish of 3 more threads\n",
            "INFO:gensim.models.base_any2vec:worker thread finished; awaiting finish of 2 more threads\n",
            "INFO:gensim.models.base_any2vec:worker thread finished; awaiting finish of 1 more threads\n",
            "INFO:gensim.models.base_any2vec:worker thread finished; awaiting finish of 0 more threads\n",
            "INFO:gensim.models.base_any2vec:EPOCH - 5 : training on 60352 raw words (38135 effective words) took 0.1s, 383409 effective words/s\n",
            "INFO:gensim.models.base_any2vec:worker thread finished; awaiting finish of 3 more threads\n",
            "INFO:gensim.models.base_any2vec:worker thread finished; awaiting finish of 2 more threads\n",
            "INFO:gensim.models.base_any2vec:worker thread finished; awaiting finish of 1 more threads\n",
            "INFO:gensim.models.base_any2vec:worker thread finished; awaiting finish of 0 more threads\n",
            "INFO:gensim.models.base_any2vec:EPOCH - 6 : training on 60352 raw words (38252 effective words) took 0.1s, 447941 effective words/s\n",
            "INFO:gensim.models.base_any2vec:worker thread finished; awaiting finish of 3 more threads\n",
            "INFO:gensim.models.base_any2vec:worker thread finished; awaiting finish of 2 more threads\n",
            "INFO:gensim.models.base_any2vec:worker thread finished; awaiting finish of 1 more threads\n",
            "INFO:gensim.models.base_any2vec:worker thread finished; awaiting finish of 0 more threads\n",
            "INFO:gensim.models.base_any2vec:EPOCH - 7 : training on 60352 raw words (38073 effective words) took 0.1s, 411987 effective words/s\n",
            "INFO:gensim.models.base_any2vec:worker thread finished; awaiting finish of 3 more threads\n",
            "INFO:gensim.models.base_any2vec:worker thread finished; awaiting finish of 2 more threads\n",
            "INFO:gensim.models.base_any2vec:worker thread finished; awaiting finish of 1 more threads\n",
            "INFO:gensim.models.base_any2vec:worker thread finished; awaiting finish of 0 more threads\n",
            "INFO:gensim.models.base_any2vec:EPOCH - 8 : training on 60352 raw words (38201 effective words) took 0.1s, 440939 effective words/s\n",
            "INFO:gensim.models.base_any2vec:worker thread finished; awaiting finish of 3 more threads\n",
            "INFO:gensim.models.base_any2vec:worker thread finished; awaiting finish of 2 more threads\n",
            "INFO:gensim.models.base_any2vec:worker thread finished; awaiting finish of 1 more threads\n",
            "INFO:gensim.models.base_any2vec:worker thread finished; awaiting finish of 0 more threads\n",
            "INFO:gensim.models.base_any2vec:EPOCH - 9 : training on 60352 raw words (38158 effective words) took 0.1s, 420212 effective words/s\n",
            "INFO:gensim.models.base_any2vec:worker thread finished; awaiting finish of 3 more threads\n",
            "INFO:gensim.models.base_any2vec:worker thread finished; awaiting finish of 2 more threads\n",
            "INFO:gensim.models.base_any2vec:worker thread finished; awaiting finish of 1 more threads\n",
            "INFO:gensim.models.base_any2vec:worker thread finished; awaiting finish of 0 more threads\n",
            "INFO:gensim.models.base_any2vec:EPOCH - 10 : training on 60352 raw words (38204 effective words) took 0.1s, 410808 effective words/s\n",
            "INFO:gensim.models.base_any2vec:training on a 603520 raw words (381434 effective words) took 1.1s, 352004 effective words/s\n"
          ],
          "name": "stderr"
        }
      ]
    },
    {
      "cell_type": "code",
      "metadata": {
        "id": "SHExhjKWCf2w",
        "colab_type": "code",
        "outputId": "2891352b-1676-4ab0-d6c1-092c4f1f6d86",
        "colab": {
          "base_uri": "https://localhost:8080/",
          "height": 34
        }
      },
      "source": [
        "#word2vec_model.train(tokens, total_examples = len(tokens), epochs = 500)"
      ],
      "execution_count": 0,
      "outputs": [
        {
          "output_type": "execute_result",
          "data": {
            "text/plain": [
              "(22181828, 34511000)"
            ]
          },
          "metadata": {
            "tags": []
          },
          "execution_count": 50
        }
      ]
    },
    {
      "cell_type": "code",
      "metadata": {
        "id": "lsjHvH-Jaqp2",
        "colab_type": "code",
        "outputId": "842dd7cb-9c1f-40a6-f158-75e0c1c9888d",
        "colab": {
          "base_uri": "https://localhost:8080/",
          "height": 768
        }
      },
      "source": [
        "word2vec_model['song']"
      ],
      "execution_count": 372,
      "outputs": [
        {
          "output_type": "stream",
          "text": [
            "/usr/local/lib/python3.6/dist-packages/ipykernel_launcher.py:1: DeprecationWarning: Call to deprecated `__getitem__` (Method will be removed in 4.0.0, use self.wv.__getitem__() instead).\n",
            "  \"\"\"Entry point for launching an IPython kernel.\n"
          ],
          "name": "stderr"
        },
        {
          "output_type": "execute_result",
          "data": {
            "text/plain": [
              "array([-0.28286034, -0.25710174, -0.20631315,  0.05043301,  0.3100952 ,\n",
              "       -0.39967492, -0.35736   ,  0.16758981, -0.15552808,  0.20551   ,\n",
              "       -0.29780117,  0.5334756 ,  0.15461472,  0.32537788, -0.02755704,\n",
              "       -0.49670187,  0.17317642, -0.16421139, -0.48600626, -0.33783484,\n",
              "        0.02357494, -0.01779495, -0.51055145,  0.09276964,  0.24623232,\n",
              "        0.2486633 , -0.1872605 ,  0.30805805,  0.312242  ,  0.19428511,\n",
              "        0.3319244 ,  0.7164205 , -0.31648803, -0.24079861,  0.18072979,\n",
              "       -0.2239754 ,  0.0515495 , -0.47894654,  0.32351172, -0.21226558,\n",
              "       -0.30122527, -0.04770359, -0.3975524 , -0.23660097, -0.21117198,\n",
              "       -0.08130908,  0.20516516,  0.15506843,  0.2359722 , -0.06669704,\n",
              "       -0.04325501,  0.19543825, -0.10378812,  0.06439822, -0.542048  ,\n",
              "        0.13124782, -0.01145641,  0.20908885, -0.19236128,  0.06887756,\n",
              "        0.12856744,  0.28656292, -0.29577792,  0.36488545,  0.2141554 ,\n",
              "       -0.05540528, -0.5674805 ,  0.4862262 , -0.27056104,  0.14328636,\n",
              "        0.31797978,  0.35700732, -0.32079452,  0.01627256, -0.29699382,\n",
              "       -0.13337822, -0.0709941 , -0.5241187 ,  0.42260802, -0.04672379,\n",
              "       -0.33834878,  0.33644387,  0.07302565, -0.38847202, -0.03223689,\n",
              "       -0.06773648,  0.25841928,  0.5196884 , -0.29837748, -0.13325769,\n",
              "       -0.25166056,  0.3820916 ,  0.15547599, -0.02470844,  0.28061494,\n",
              "        0.21462522, -0.4120952 ,  0.10183001,  0.7581862 , -0.20027329,\n",
              "        0.11162457, -0.5716352 , -0.0029197 ,  0.20272534, -0.22993995,\n",
              "        0.07615788, -0.32487527, -0.09060549,  0.17897384,  0.16001889,\n",
              "       -0.0836228 ,  0.14063405,  0.59984803, -0.05290267, -0.39063346,\n",
              "        0.12863159, -0.617083  , -0.20230043, -0.00468127, -0.08217342,\n",
              "        0.16694301, -0.4982049 ,  0.52962613, -0.23667006,  0.48624504,\n",
              "       -0.34017733,  0.03483277, -0.2254865 ,  0.2634039 , -0.29022294,\n",
              "       -0.07392321,  0.14594766, -0.09099814, -0.09607194,  0.28247544,\n",
              "        0.26049554,  0.11037778, -0.05202624,  0.06588561,  0.19270118,\n",
              "       -0.06623524,  0.0562637 , -0.08228376, -0.05329061, -0.13120727,\n",
              "       -0.18275994, -0.24912062,  0.14255022, -0.40198985,  0.13756414,\n",
              "       -0.05314384, -0.03815521, -0.06954217,  0.10850407, -0.33187693,\n",
              "       -0.18530083, -0.6423782 ,  0.08986893, -0.31233093,  0.503788  ,\n",
              "        0.6271043 ,  0.2179498 , -0.32546166, -0.27637115,  0.23778437,\n",
              "       -0.5258493 , -0.03886575, -0.22390358,  0.14832482,  0.05512505,\n",
              "       -0.7027878 , -0.16711053, -0.19735521, -0.6035163 , -0.31600687,\n",
              "       -0.07937791,  0.17108622, -0.02324923,  0.50449693, -0.06876966,\n",
              "       -0.2857522 ,  0.14667882, -0.07698222,  0.13931563, -0.00420521,\n",
              "       -0.3415638 ,  0.4388803 , -0.42523852, -0.5466746 ,  0.5461241 ,\n",
              "        0.3032715 , -0.1259614 ,  0.37909138, -0.36300495,  0.08823989,\n",
              "        0.08569101, -0.01943949,  0.46667883,  0.07538556, -0.3601746 ],\n",
              "      dtype=float32)"
            ]
          },
          "metadata": {
            "tags": []
          },
          "execution_count": 372
        }
      ]
    },
    {
      "cell_type": "code",
      "metadata": {
        "id": "i4CfKT_HQ9AW",
        "colab_type": "code",
        "outputId": "6867872a-21e4-43cc-eb14-038f42f205ca",
        "colab": {
          "base_uri": "https://localhost:8080/",
          "height": 283
        }
      },
      "source": [
        "word2vec_model.most_similar('song')"
      ],
      "execution_count": 0,
      "outputs": [
        {
          "output_type": "stream",
          "text": [
            "/usr/local/lib/python3.6/dist-packages/ipykernel_launcher.py:1: DeprecationWarning: Call to deprecated `most_similar` (Method will be removed in 4.0.0, use self.wv.most_similar() instead).\n",
            "  \"\"\"Entry point for launching an IPython kernel.\n",
            "/usr/local/lib/python3.6/dist-packages/gensim/matutils.py:737: FutureWarning: Conversion of the second argument of issubdtype from `int` to `np.signedinteger` is deprecated. In future, it will be treated as `np.int64 == np.dtype(int).type`.\n",
            "  if np.issubdtype(vec.dtype, np.int):\n"
          ],
          "name": "stderr"
        },
        {
          "output_type": "execute_result",
          "data": {
            "text/plain": [
              "[('track', 0.9973636269569397),\n",
              " ('album', 0.997258186340332),\n",
              " ('artist', 0.9963237047195435),\n",
              " ('tune', 0.9955297708511353),\n",
              " ('put', 0.99542635679245),\n",
              " ('rock', 0.9944835901260376),\n",
              " ('skies', 0.9935083389282227),\n",
              " ('playlist', 0.9932403564453125),\n",
              " ('music', 0.9932096004486084),\n",
              " ('google', 0.993181049823761)]"
            ]
          },
          "metadata": {
            "tags": []
          },
          "execution_count": 155
        }
      ]
    },
    {
      "cell_type": "code",
      "metadata": {
        "id": "hw0Muu67A8AH",
        "colab_type": "code",
        "outputId": "7a81a257-22d4-4bc8-af2c-515567cd31ee",
        "colab": {
          "base_uri": "https://localhost:8080/",
          "height": 283
        }
      },
      "source": [
        "word2vec_model.most_similar(positive=['song'], negative=['artist'])"
      ],
      "execution_count": 0,
      "outputs": [
        {
          "output_type": "stream",
          "text": [
            "/usr/local/lib/python3.6/dist-packages/ipykernel_launcher.py:1: DeprecationWarning: Call to deprecated `most_similar` (Method will be removed in 4.0.0, use self.wv.most_similar() instead).\n",
            "  \"\"\"Entry point for launching an IPython kernel.\n",
            "/usr/local/lib/python3.6/dist-packages/gensim/matutils.py:737: FutureWarning: Conversion of the second argument of issubdtype from `int` to `np.signedinteger` is deprecated. In future, it will be treated as `np.int64 == np.dtype(int).type`.\n",
            "  if np.issubdtype(vec.dtype, np.int):\n"
          ],
          "name": "stderr"
        },
        {
          "output_type": "execute_result",
          "data": {
            "text/plain": [
              "[('aired', 0.21036595106124878),\n",
              " ('list', 0.168114572763443),\n",
              " ('b', 0.15644524991512299),\n",
              " ('play', 0.12908120453357697),\n",
              " ('ines', 0.11604739725589752),\n",
              " ('playing', 0.11349107325077057),\n",
              " ('love', 0.0959177166223526),\n",
              " ('nearest', 0.08513445407152176),\n",
              " ('theatres', 0.08001292496919632),\n",
              " ('see', 0.07834508270025253)]"
            ]
          },
          "metadata": {
            "tags": []
          },
          "execution_count": 156
        }
      ]
    },
    {
      "cell_type": "code",
      "metadata": {
        "id": "B3C73VvUPc9S",
        "colab_type": "code",
        "outputId": "02c28b81-d86e-4d84-bec4-bbac902ed63b",
        "colab": {
          "base_uri": "https://localhost:8080/",
          "height": 71
        }
      },
      "source": [
        "word2vec_model.save('drive/My Drive/ForGensim/Word2VecModel')\n",
        "word2vec_model.wv.save_word2vec_format('drive/My Drive/ForGensim/Word2VecModel.txt', binary=False)\n",
        "word2vec_model.wv.save_word2vec_format('drive/My Drive/ForGensim/Word2VecModel.bin', binary=True)"
      ],
      "execution_count": 15,
      "outputs": [
        {
          "output_type": "stream",
          "text": [
            "/usr/local/lib/python3.6/dist-packages/smart_open/smart_open_lib.py:402: UserWarning: This function is deprecated, use smart_open.open instead. See the migration notes for details: https://github.com/RaRe-Technologies/smart_open/blob/master/README.rst#migrating-to-the-new-open-function\n",
            "  'See the migration notes for details: %s' % _MIGRATION_NOTES_URL\n"
          ],
          "name": "stderr"
        }
      ]
    },
    {
      "cell_type": "markdown",
      "metadata": {
        "id": "slb25WzzWQ2l",
        "colab_type": "text"
      },
      "source": [
        "**Работа с keras**"
      ]
    },
    {
      "cell_type": "code",
      "metadata": {
        "id": "6mZ6qcpEWZvd",
        "colab_type": "code",
        "colab": {}
      },
      "source": [
        "def transform_from_categorical(prediction, intents):\n",
        "  answers = []\n",
        "\n",
        "  for i in range(prediction.shape[0]):\n",
        "    answers.append(intents[prediction[i]])\n",
        "\n",
        "  return answers"
      ],
      "execution_count": 0,
      "outputs": []
    },
    {
      "cell_type": "code",
      "metadata": {
        "id": "hjR5w3pYWd9M",
        "colab_type": "code",
        "colab": {}
      },
      "source": [
        "def transform_to_categorical(intents_for_each, unique_intents):\n",
        "  intents_to_digit = []\n",
        "\n",
        "  for intent in intents_for_each:\n",
        "    intents_to_digit.append(unique_intents.index(intent))\n",
        "\n",
        "  return to_categorical(intents_to_digit, len(unique_intents))"
      ],
      "execution_count": 0,
      "outputs": []
    },
    {
      "cell_type": "code",
      "metadata": {
        "id": "I5BOhkJwWh5L",
        "colab_type": "code",
        "colab": {}
      },
      "source": [
        "# Создание модели\n",
        "def get_model(word2vec_model, COUNT_CLASSES):\n",
        "    model = Sequential() \n",
        "    model.add(word2vec_model.wv.get_keras_embedding(train_embeddings = True))\n",
        "    \n",
        "    model.add(Dropout(0.2))\n",
        "\n",
        "    model.add(Conv1D(50,\n",
        "                 3,\n",
        "                 padding = 'valid',\n",
        "                 activation = 'relu',\n",
        "                 strides = 1))\n",
        "    model.add(GlobalMaxPooling1D())\n",
        "\n",
        "    model.add(Dense(250))\n",
        "    model.add(Dropout(0.2))\n",
        "    model.add(Activation('relu'))\n",
        "\n",
        "    model.add(Dense(COUNT_CLASSES, activation = 'softmax'))\n",
        "\n",
        "    model.compile(loss = 'categorical_crossentropy', optimizer = 'adam', metrics = ['accuracy'])\n",
        "  \n",
        "    return model"
      ],
      "execution_count": 0,
      "outputs": []
    },
    {
      "cell_type": "code",
      "metadata": {
        "id": "szKqfEozV0re",
        "colab_type": "code",
        "colab": {}
      },
      "source": [
        "word_vectors = word2vec_model.wv"
      ],
      "execution_count": 0,
      "outputs": []
    },
    {
      "cell_type": "code",
      "metadata": {
        "id": "i8FZ2hahFdnh",
        "colab_type": "code",
        "outputId": "08b0ca48-6215-4fd1-e664-1295efb6261e",
        "colab": {
          "base_uri": "https://localhost:8080/",
          "height": 34
        }
      },
      "source": [
        "print(\"Number of word vectors: {}\".format(len(word_vectors.vocab)))"
      ],
      "execution_count": 0,
      "outputs": [
        {
          "output_type": "stream",
          "text": [
            "Number of word vectors: 2400\n"
          ],
          "name": "stdout"
        }
      ]
    },
    {
      "cell_type": "code",
      "metadata": {
        "colab_type": "code",
        "id": "76eH1DDZ103Z",
        "colab": {}
      },
      "source": [
        "texts = sentences"
      ],
      "execution_count": 0,
      "outputs": []
    },
    {
      "cell_type": "code",
      "metadata": {
        "id": "5b7hvBjePvW7",
        "colab_type": "code",
        "colab": {}
      },
      "source": [
        "tokenizer = Tokenizer()\n",
        "tokenizer.fit_on_texts(texts)\n",
        "text = tokenizer.texts_to_sequences(texts)\n",
        "text = pad_sequences(text, maxlen = 10)"
      ],
      "execution_count": 0,
      "outputs": []
    },
    {
      "cell_type": "code",
      "metadata": {
        "id": "kno-kM4IQY_b",
        "colab_type": "code",
        "colab": {}
      },
      "source": [
        "X_train, X_test, y_train, y_test = train_test_split(text, all_intents, test_size = 0.2, stratify = all_intents)"
      ],
      "execution_count": 0,
      "outputs": []
    },
    {
      "cell_type": "code",
      "metadata": {
        "id": "jBzRb_oVxKAQ",
        "colab_type": "code",
        "colab": {}
      },
      "source": [
        "y_train = transform_to_categorical(y_train, unique_intents.tolist())"
      ],
      "execution_count": 0,
      "outputs": []
    },
    {
      "cell_type": "code",
      "metadata": {
        "id": "_SbDYml2fLqT",
        "colab_type": "code",
        "colab": {}
      },
      "source": [
        "y_test =  transform_to_categorical(y_test, unique_intents.tolist())"
      ],
      "execution_count": 0,
      "outputs": []
    },
    {
      "cell_type": "code",
      "metadata": {
        "id": "eJ9KZ7xlN5Mz",
        "colab_type": "code",
        "colab": {}
      },
      "source": [
        "COUNT_CLASSES = unique_intents.shape[0]"
      ],
      "execution_count": 0,
      "outputs": []
    },
    {
      "cell_type": "code",
      "metadata": {
        "id": "APJKTOTUYCY2",
        "colab_type": "code",
        "outputId": "27d3e73f-030a-4e3d-ea56-dfb946fbe10f",
        "colab": {
          "base_uri": "https://localhost:8080/",
          "height": 425
        }
      },
      "source": [
        "keras_model = get_model(word2vec_model, COUNT_CLASSES)\n",
        "keras_model.summary()"
      ],
      "execution_count": 442,
      "outputs": [
        {
          "output_type": "stream",
          "text": [
            "Model: \"sequential_20\"\n",
            "_________________________________________________________________\n",
            "Layer (type)                 Output Shape              Param #   \n",
            "=================================================================\n",
            "embedding_42 (Embedding)     (None, None, 200)         480000    \n",
            "_________________________________________________________________\n",
            "dropout_13 (Dropout)         (None, None, 200)         0         \n",
            "_________________________________________________________________\n",
            "conv1d_7 (Conv1D)            (None, None, 50)          30050     \n",
            "_________________________________________________________________\n",
            "global_max_pooling1d_7 (Glob (None, 50)                0         \n",
            "_________________________________________________________________\n",
            "dense_21 (Dense)             (None, 250)               12750     \n",
            "_________________________________________________________________\n",
            "dropout_14 (Dropout)         (None, 250)               0         \n",
            "_________________________________________________________________\n",
            "activation_7 (Activation)    (None, 250)               0         \n",
            "_________________________________________________________________\n",
            "dense_22 (Dense)             (None, 5)                 1255      \n",
            "=================================================================\n",
            "Total params: 524,055\n",
            "Trainable params: 524,055\n",
            "Non-trainable params: 0\n",
            "_________________________________________________________________\n"
          ],
          "name": "stdout"
        }
      ]
    },
    {
      "cell_type": "code",
      "metadata": {
        "id": "XA5fn-FvU7Wk",
        "colab_type": "code",
        "colab": {}
      },
      "source": [
        "BATCH = 32\n",
        "EPOCHS_COUNT = 10"
      ],
      "execution_count": 0,
      "outputs": []
    },
    {
      "cell_type": "code",
      "metadata": {
        "id": "xwRAbO1YR4va",
        "colab_type": "code",
        "outputId": "f60c08b5-339c-4fb7-af29-06a8b68b1939",
        "colab": {
          "base_uri": "https://localhost:8080/",
          "height": 391
        }
      },
      "source": [
        "keras_model.fit(X_train, y_train, batch_size = BATCH, epochs = EPOCHS_COUNT, validation_data = (X_test, y_test),\n",
        "             callbacks=[ModelCheckpoint('drive/My Drive/ForGensim/keras_model.h5', save_best_only = True)])"
      ],
      "execution_count": 443,
      "outputs": [
        {
          "output_type": "stream",
          "text": [
            "Train on 9099 samples, validate on 2275 samples\n",
            "Epoch 1/10\n",
            "9099/9099 [==============================] - 9s 967us/step - loss: 0.5221 - acc: 0.8110 - val_loss: 0.0864 - val_acc: 0.9771\n",
            "Epoch 2/10\n",
            "9099/9099 [==============================] - 3s 322us/step - loss: 0.0652 - acc: 0.9829 - val_loss: 0.0515 - val_acc: 0.9881\n",
            "Epoch 3/10\n",
            "9099/9099 [==============================] - 3s 325us/step - loss: 0.0312 - acc: 0.9924 - val_loss: 0.0413 - val_acc: 0.9881\n",
            "Epoch 4/10\n",
            "9099/9099 [==============================] - 3s 332us/step - loss: 0.0191 - acc: 0.9956 - val_loss: 0.0343 - val_acc: 0.9921\n",
            "Epoch 5/10\n",
            "9099/9099 [==============================] - 3s 330us/step - loss: 0.0117 - acc: 0.9963 - val_loss: 0.0467 - val_acc: 0.9912\n",
            "Epoch 6/10\n",
            "9099/9099 [==============================] - 3s 316us/step - loss: 0.0099 - acc: 0.9970 - val_loss: 0.0390 - val_acc: 0.9925\n",
            "Epoch 7/10\n",
            "9099/9099 [==============================] - 3s 335us/step - loss: 0.0083 - acc: 0.9973 - val_loss: 0.0381 - val_acc: 0.9912\n",
            "Epoch 8/10\n",
            "9099/9099 [==============================] - 3s 332us/step - loss: 0.0039 - acc: 0.9987 - val_loss: 0.0411 - val_acc: 0.9925\n",
            "Epoch 9/10\n",
            "9099/9099 [==============================] - 3s 324us/step - loss: 0.0040 - acc: 0.9988 - val_loss: 0.0409 - val_acc: 0.9916\n",
            "Epoch 10/10\n",
            "9099/9099 [==============================] - 3s 330us/step - loss: 0.0024 - acc: 0.9992 - val_loss: 0.0422 - val_acc: 0.9930\n"
          ],
          "name": "stdout"
        },
        {
          "output_type": "execute_result",
          "data": {
            "text/plain": [
              "<keras.callbacks.History at 0x7f0607549f98>"
            ]
          },
          "metadata": {
            "tags": []
          },
          "execution_count": 443
        }
      ]
    },
    {
      "cell_type": "code",
      "metadata": {
        "id": "co0ybjNUskn7",
        "colab_type": "code",
        "colab": {}
      },
      "source": [
        "test_data=pd.read_csv('drive/My Drive/ForGensim/test.csv')"
      ],
      "execution_count": 0,
      "outputs": []
    },
    {
      "cell_type": "code",
      "metadata": {
        "id": "Llk_8Imx4voi",
        "colab_type": "code",
        "outputId": "a64850fb-15fe-40ad-8378-1a97777ec6df",
        "colab": {
          "base_uri": "https://localhost:8080/",
          "height": 204
        }
      },
      "source": [
        "test_data"
      ],
      "execution_count": 387,
      "outputs": [
        {
          "output_type": "execute_result",
          "data": {
            "text/html": [
              "<div>\n",
              "<style scoped>\n",
              "    .dataframe tbody tr th:only-of-type {\n",
              "        vertical-align: middle;\n",
              "    }\n",
              "\n",
              "    .dataframe tbody tr th {\n",
              "        vertical-align: top;\n",
              "    }\n",
              "\n",
              "    .dataframe thead th {\n",
              "        text-align: right;\n",
              "    }\n",
              "</style>\n",
              "<table border=\"1\" class=\"dataframe\">\n",
              "  <thead>\n",
              "    <tr style=\"text-align: right;\">\n",
              "      <th></th>\n",
              "      <th>text</th>\n",
              "    </tr>\n",
              "  </thead>\n",
              "  <tbody>\n",
              "    <tr>\n",
              "      <th>0</th>\n",
              "      <td>Add another song to my playlist</td>\n",
              "    </tr>\n",
              "    <tr>\n",
              "      <th>1</th>\n",
              "      <td>get weather tomorrow</td>\n",
              "    </tr>\n",
              "    <tr>\n",
              "      <th>2</th>\n",
              "      <td>what is the weather today?</td>\n",
              "    </tr>\n",
              "    <tr>\n",
              "      <th>3</th>\n",
              "      <td>turn on my music</td>\n",
              "    </tr>\n",
              "    <tr>\n",
              "      <th>4</th>\n",
              "      <td>what is the temperature this night in Kirov?</td>\n",
              "    </tr>\n",
              "  </tbody>\n",
              "</table>\n",
              "</div>"
            ],
            "text/plain": [
              "                                           text\n",
              "0               Add another song to my playlist\n",
              "1                          get weather tomorrow\n",
              "2                    what is the weather today?\n",
              "3                              turn on my music\n",
              "4  what is the temperature this night in Kirov?"
            ]
          },
          "metadata": {
            "tags": []
          },
          "execution_count": 387
        }
      ]
    },
    {
      "cell_type": "code",
      "metadata": {
        "id": "cMngOhG24x-E",
        "colab_type": "code",
        "colab": {}
      },
      "source": [
        "#переводим тестовые предложения в вектора\n",
        "test_texts = np.array(test_data.text.apply(lambda x : remove_stopwords(x)))\n",
        "sequences_test = tokenizer.texts_to_sequences(test_texts)\n",
        "X_predict = pad_sequences(sequences_test, maxlen = X_train.shape[1])"
      ],
      "execution_count": 0,
      "outputs": []
    },
    {
      "cell_type": "code",
      "metadata": {
        "id": "IYegYpBGnruf",
        "colab_type": "code",
        "colab": {}
      },
      "source": [
        "prediction = keras_model.predict_classes(X_predict)"
      ],
      "execution_count": 0,
      "outputs": []
    },
    {
      "cell_type": "code",
      "metadata": {
        "id": "O5PRS_nEzLyk",
        "colab_type": "code",
        "outputId": "31144a2e-3258-4d94-9603-0923954f1943",
        "colab": {
          "base_uri": "https://localhost:8080/",
          "height": 34
        }
      },
      "source": [
        "answers = transform_from_categorical(prediction, unique_intents.tolist())\n",
        "answers"
      ],
      "execution_count": 390,
      "outputs": [
        {
          "output_type": "execute_result",
          "data": {
            "text/plain": [
              "['AddToPlaylist', 'GetWeather', 'GetWeather', 'PlayMusic', 'GetWeather']"
            ]
          },
          "metadata": {
            "tags": []
          },
          "execution_count": 390
        }
      ]
    },
    {
      "cell_type": "markdown",
      "metadata": {
        "id": "W6-v8G5lmIRM",
        "colab_type": "text"
      },
      "source": [
        "**Дообучение модели**"
      ]
    },
    {
      "cell_type": "code",
      "metadata": {
        "id": "_pFG4qGqRjbf",
        "colab_type": "code",
        "colab": {}
      },
      "source": [
        "def add_new_data(old, new):\n",
        "  result = old\n",
        "\n",
        "  for i in new:\n",
        "    result.append(i)\n",
        "\n",
        "  return result"
      ],
      "execution_count": 0,
      "outputs": []
    },
    {
      "cell_type": "code",
      "metadata": {
        "id": "QAHRr1xpt8Q7",
        "colab_type": "code",
        "colab": {}
      },
      "source": [
        "new_file_csv = pd.read_csv('drive/My Drive/ForGensim/train_new.csv')"
      ],
      "execution_count": 0,
      "outputs": []
    },
    {
      "cell_type": "code",
      "metadata": {
        "id": "z1zOF-4UZPZ5",
        "colab_type": "code",
        "colab": {}
      },
      "source": [
        "all_new_texts = new_file_csv['text']\n",
        "all_new_intents = new_file_csv['intents']"
      ],
      "execution_count": 0,
      "outputs": []
    },
    {
      "cell_type": "code",
      "metadata": {
        "id": "vztZz8CAgpl-",
        "colab_type": "code",
        "colab": {}
      },
      "source": [
        "unique_new_intents = new_file_csv.intents.unique()"
      ],
      "execution_count": 0,
      "outputs": []
    },
    {
      "cell_type": "code",
      "metadata": {
        "id": "znnqyRZ6guEe",
        "colab_type": "code",
        "outputId": "d5624dfc-d75b-40bd-9a1c-379a48c2040d",
        "colab": {
          "base_uri": "https://localhost:8080/",
          "height": 34
        }
      },
      "source": [
        "unique_new_intents"
      ],
      "execution_count": 447,
      "outputs": [
        {
          "output_type": "execute_result",
          "data": {
            "text/plain": [
              "array(['RateBook', 'SearchCreativeWork'], dtype=object)"
            ]
          },
          "metadata": {
            "tags": []
          },
          "execution_count": 447
        }
      ]
    },
    {
      "cell_type": "code",
      "metadata": {
        "id": "bEt3MQrslYiQ",
        "colab_type": "code",
        "colab": {}
      },
      "source": [
        "all_unique_intents = add_new_data(unique_intents.tolist(), unique_new_intents.tolist())"
      ],
      "execution_count": 0,
      "outputs": []
    },
    {
      "cell_type": "code",
      "metadata": {
        "id": "tXpj3xdQ7ULz",
        "colab_type": "code",
        "colab": {}
      },
      "source": [
        "COUNT_NEW_CLASSES = len(all_unique_intents)"
      ],
      "execution_count": 0,
      "outputs": []
    },
    {
      "cell_type": "code",
      "metadata": {
        "id": "5cVPzocRVCZ-",
        "colab_type": "code",
        "colab": {}
      },
      "source": [
        "tokens_new = get_tokens(all_new_texts)"
      ],
      "execution_count": 0,
      "outputs": []
    },
    {
      "cell_type": "code",
      "metadata": {
        "id": "d6QyIaUSVI4d",
        "colab_type": "code",
        "outputId": "1aa74652-125a-46c2-88d8-681cf39a22af",
        "colab": {
          "base_uri": "https://localhost:8080/",
          "height": 105
        }
      },
      "source": [
        "tokens_new[:5]"
      ],
      "execution_count": 0,
      "outputs": [
        {
          "output_type": "execute_result",
          "data": {
            "text/plain": [
              "[['rate', 'lotus', 'storm', 'zero'],\n",
              " ['rate', 'fall', 'artist', 'stars'],\n",
              " ['rate', 'current', 'novel', 'one', 'points'],\n",
              " ['rate', 'ape', 'man', 'within'],\n",
              " ['give', 'penalty', 'three', 'stars']]"
            ]
          },
          "metadata": {
            "tags": []
          },
          "execution_count": 184
        }
      ]
    },
    {
      "cell_type": "code",
      "metadata": {
        "id": "v-R0IU67kl4V",
        "colab_type": "code",
        "colab": {}
      },
      "source": [
        "texts_new = np.array(all_new_texts.apply(lambda x : remove_stopwords(x)))"
      ],
      "execution_count": 0,
      "outputs": []
    },
    {
      "cell_type": "code",
      "metadata": {
        "id": "HaPfgwaixJM3",
        "colab_type": "code",
        "outputId": "1f9b5464-3a23-4edc-e4c5-c9427fff60a9",
        "colab": {
          "base_uri": "https://localhost:8080/",
          "height": 190
        }
      },
      "source": [
        "word2vec_model = Word2Vec.load(\"drive/My Drive/ForGensim/Word2VecModel\")"
      ],
      "execution_count": 452,
      "outputs": [
        {
          "output_type": "stream",
          "text": [
            "INFO:gensim.utils:loading Word2Vec object from drive/My Drive/ForGensim/Word2VecModel\n",
            "/usr/local/lib/python3.6/dist-packages/smart_open/smart_open_lib.py:402: UserWarning: This function is deprecated, use smart_open.open instead. See the migration notes for details: https://github.com/RaRe-Technologies/smart_open/blob/master/README.rst#migrating-to-the-new-open-function\n",
            "  'See the migration notes for details: %s' % _MIGRATION_NOTES_URL\n",
            "INFO:gensim.utils:loading wv recursively from drive/My Drive/ForGensim/Word2VecModel.wv.* with mmap=None\n",
            "INFO:gensim.utils:setting ignored attribute vectors_norm to None\n",
            "INFO:gensim.utils:loading vocabulary recursively from drive/My Drive/ForGensim/Word2VecModel.vocabulary.* with mmap=None\n",
            "INFO:gensim.utils:loading trainables recursively from drive/My Drive/ForGensim/Word2VecModel.trainables.* with mmap=None\n",
            "INFO:gensim.utils:setting ignored attribute cum_table to None\n",
            "INFO:gensim.utils:loaded drive/My Drive/ForGensim/Word2VecModel\n"
          ],
          "name": "stderr"
        }
      ]
    },
    {
      "cell_type": "code",
      "metadata": {
        "id": "CMVZ5CeDhXRP",
        "colab_type": "code",
        "outputId": "fd3298cd-d3ca-48e5-841a-2b544a48b991",
        "colab": {
          "base_uri": "https://localhost:8080/",
          "height": 1000
        }
      },
      "source": [
        "#дообучаем модель word2vec\n",
        "word2vec_model.build_vocab(tokens_new, update = True)\n",
        "word2vec_model.train(tokens_new, total_examples = len(tokens_new), epochs = word2vec_model.iter)"
      ],
      "execution_count": 453,
      "outputs": [
        {
          "output_type": "stream",
          "text": [
            "INFO:gensim.models.word2vec:collecting all words and their counts\n",
            "WARNING:gensim.models.word2vec:Each 'sentences' item should be a list of words (usually unicode strings). First item here is instead plain <class 'str'>.\n",
            "INFO:gensim.models.word2vec:PROGRESS: at sentence #0, processed 0 words, keeping 0 word types\n",
            "INFO:gensim.models.word2vec:collected 94 word types from a corpus of 185198 raw words and 4510 sentences\n",
            "INFO:gensim.models.word2vec:Updating model with new vocabulary\n",
            "INFO:gensim.models.word2vec:New added 79 unique words (45% of original 173) and increased the count of 79 pre-existing words (45% of original 173)\n",
            "INFO:gensim.models.word2vec:deleting the raw counts dictionary of 94 items\n",
            "INFO:gensim.models.word2vec:sample=0.001 downsamples 76 most-common words\n",
            "INFO:gensim.models.word2vec:downsampling leaves estimated 86394 word corpus (46.7% of prior 185179)\n",
            "INFO:gensim.models.base_any2vec:estimated required memory for 158 words and 200 dimensions: 331800 bytes\n",
            "INFO:gensim.models.word2vec:updating layer weights\n",
            "/usr/local/lib/python3.6/dist-packages/ipykernel_launcher.py:2: DeprecationWarning: Call to deprecated `iter` (Attribute will be removed in 4.0.0, use self.epochs instead).\n",
            "  \n",
            "WARNING:gensim.models.base_any2vec:Effective 'alpha' higher than previous training cycles\n",
            "INFO:gensim.models.base_any2vec:training model with 4 workers on 2465 vocabulary and 200 features, using sg=0 hs=0 sample=0.001 negative=5 window=10\n",
            "INFO:gensim.models.base_any2vec:worker thread finished; awaiting finish of 3 more threads\n",
            "INFO:gensim.models.base_any2vec:worker thread finished; awaiting finish of 2 more threads\n",
            "INFO:gensim.models.base_any2vec:worker thread finished; awaiting finish of 1 more threads\n",
            "INFO:gensim.models.base_any2vec:worker thread finished; awaiting finish of 0 more threads\n",
            "INFO:gensim.models.base_any2vec:EPOCH - 1 : training on 185198 raw words (42960 effective words) took 0.1s, 438331 effective words/s\n",
            "INFO:gensim.models.base_any2vec:worker thread finished; awaiting finish of 3 more threads\n",
            "INFO:gensim.models.base_any2vec:worker thread finished; awaiting finish of 2 more threads\n",
            "INFO:gensim.models.base_any2vec:worker thread finished; awaiting finish of 1 more threads\n",
            "INFO:gensim.models.base_any2vec:worker thread finished; awaiting finish of 0 more threads\n",
            "INFO:gensim.models.base_any2vec:EPOCH - 2 : training on 185198 raw words (43325 effective words) took 0.1s, 388525 effective words/s\n",
            "INFO:gensim.models.base_any2vec:worker thread finished; awaiting finish of 3 more threads\n",
            "INFO:gensim.models.base_any2vec:worker thread finished; awaiting finish of 2 more threads\n",
            "INFO:gensim.models.base_any2vec:worker thread finished; awaiting finish of 1 more threads\n",
            "INFO:gensim.models.base_any2vec:worker thread finished; awaiting finish of 0 more threads\n",
            "INFO:gensim.models.base_any2vec:EPOCH - 3 : training on 185198 raw words (43239 effective words) took 0.1s, 394713 effective words/s\n",
            "INFO:gensim.models.base_any2vec:worker thread finished; awaiting finish of 3 more threads\n",
            "INFO:gensim.models.base_any2vec:worker thread finished; awaiting finish of 2 more threads\n",
            "INFO:gensim.models.base_any2vec:worker thread finished; awaiting finish of 1 more threads\n",
            "INFO:gensim.models.base_any2vec:worker thread finished; awaiting finish of 0 more threads\n",
            "INFO:gensim.models.base_any2vec:EPOCH - 4 : training on 185198 raw words (43127 effective words) took 0.1s, 366800 effective words/s\n",
            "INFO:gensim.models.base_any2vec:worker thread finished; awaiting finish of 3 more threads\n",
            "INFO:gensim.models.base_any2vec:worker thread finished; awaiting finish of 2 more threads\n",
            "INFO:gensim.models.base_any2vec:worker thread finished; awaiting finish of 1 more threads\n",
            "INFO:gensim.models.base_any2vec:worker thread finished; awaiting finish of 0 more threads\n",
            "INFO:gensim.models.base_any2vec:EPOCH - 5 : training on 185198 raw words (43003 effective words) took 0.1s, 492095 effective words/s\n",
            "INFO:gensim.models.base_any2vec:worker thread finished; awaiting finish of 3 more threads\n",
            "INFO:gensim.models.base_any2vec:worker thread finished; awaiting finish of 2 more threads\n",
            "INFO:gensim.models.base_any2vec:worker thread finished; awaiting finish of 1 more threads\n",
            "INFO:gensim.models.base_any2vec:worker thread finished; awaiting finish of 0 more threads\n",
            "INFO:gensim.models.base_any2vec:EPOCH - 6 : training on 185198 raw words (43215 effective words) took 0.1s, 405689 effective words/s\n",
            "INFO:gensim.models.base_any2vec:worker thread finished; awaiting finish of 3 more threads\n",
            "INFO:gensim.models.base_any2vec:worker thread finished; awaiting finish of 2 more threads\n",
            "INFO:gensim.models.base_any2vec:worker thread finished; awaiting finish of 1 more threads\n",
            "INFO:gensim.models.base_any2vec:worker thread finished; awaiting finish of 0 more threads\n",
            "INFO:gensim.models.base_any2vec:EPOCH - 7 : training on 185198 raw words (43124 effective words) took 0.1s, 405423 effective words/s\n",
            "INFO:gensim.models.base_any2vec:worker thread finished; awaiting finish of 3 more threads\n",
            "INFO:gensim.models.base_any2vec:worker thread finished; awaiting finish of 2 more threads\n",
            "INFO:gensim.models.base_any2vec:worker thread finished; awaiting finish of 1 more threads\n",
            "INFO:gensim.models.base_any2vec:worker thread finished; awaiting finish of 0 more threads\n",
            "INFO:gensim.models.base_any2vec:EPOCH - 8 : training on 185198 raw words (43305 effective words) took 0.1s, 416119 effective words/s\n",
            "INFO:gensim.models.base_any2vec:worker thread finished; awaiting finish of 3 more threads\n",
            "INFO:gensim.models.base_any2vec:worker thread finished; awaiting finish of 2 more threads\n",
            "INFO:gensim.models.base_any2vec:worker thread finished; awaiting finish of 1 more threads\n",
            "INFO:gensim.models.base_any2vec:worker thread finished; awaiting finish of 0 more threads\n",
            "INFO:gensim.models.base_any2vec:EPOCH - 9 : training on 185198 raw words (43155 effective words) took 0.1s, 424506 effective words/s\n",
            "INFO:gensim.models.base_any2vec:worker thread finished; awaiting finish of 3 more threads\n",
            "INFO:gensim.models.base_any2vec:worker thread finished; awaiting finish of 2 more threads\n",
            "INFO:gensim.models.base_any2vec:worker thread finished; awaiting finish of 1 more threads\n",
            "INFO:gensim.models.base_any2vec:worker thread finished; awaiting finish of 0 more threads\n",
            "INFO:gensim.models.base_any2vec:EPOCH - 10 : training on 185198 raw words (43090 effective words) took 0.1s, 433931 effective words/s\n",
            "INFO:gensim.models.base_any2vec:training on a 1851980 raw words (431543 effective words) took 1.2s, 370702 effective words/s\n"
          ],
          "name": "stderr"
        },
        {
          "output_type": "execute_result",
          "data": {
            "text/plain": [
              "(431543, 1851980)"
            ]
          },
          "metadata": {
            "tags": []
          },
          "execution_count": 453
        }
      ]
    },
    {
      "cell_type": "code",
      "metadata": {
        "id": "trseOAlxw7ko",
        "colab_type": "code",
        "colab": {}
      },
      "source": [
        "keras_model = load_model('drive/My Drive/ForGensim/keras_model.h5')"
      ],
      "execution_count": 0,
      "outputs": []
    },
    {
      "cell_type": "code",
      "metadata": {
        "id": "n4Qh91YsZQVf",
        "colab_type": "code",
        "colab": {}
      },
      "source": [
        "#запоминаем все слои\n",
        "layers = []\n",
        "for i in range(len(all_unique_intents)):\n",
        "  layers.append(keras_model.layers.pop())\n",
        "  keras_model.pop()\n",
        "\n",
        "keras_model.pop()"
      ],
      "execution_count": 0,
      "outputs": []
    },
    {
      "cell_type": "code",
      "metadata": {
        "id": "-8OkbfT7uU_3",
        "colab_type": "code",
        "colab": {}
      },
      "source": [
        "#меняем первый слой с новой обученной модель word2vec\n",
        "keras_model = Sequential()\n",
        "keras_model.add(word2vec_model.wv.get_keras_embedding(train_embeddings = True))"
      ],
      "execution_count": 0,
      "outputs": []
    },
    {
      "cell_type": "code",
      "metadata": {
        "id": "PUZ8AoHJ1emK",
        "colab_type": "code",
        "colab": {}
      },
      "source": [
        "#добавляем оставшиеся слои из старой модели, кроме последнего\n",
        "new_layers_count = len(layers) - 1\n",
        "for i in range(new_layers_count):\n",
        "  keras_model.add(layers[new_layers_count - i])"
      ],
      "execution_count": 0,
      "outputs": []
    },
    {
      "cell_type": "code",
      "metadata": {
        "id": "xQnOll-Snl0O",
        "colab_type": "code",
        "colab": {}
      },
      "source": [
        "#добавляем последний слой для нового кол-ва классов\n",
        "keras_model.add(Dense(COUNT_NEW_CLASSES, activation = 'softmax'))"
      ],
      "execution_count": 0,
      "outputs": []
    },
    {
      "cell_type": "code",
      "metadata": {
        "id": "OutUpwP_vq5A",
        "colab_type": "code",
        "colab": {}
      },
      "source": [
        "keras_model.compile(loss = 'categorical_crossentropy', optimizer = 'adam', metrics = ['accuracy'])"
      ],
      "execution_count": 0,
      "outputs": []
    },
    {
      "cell_type": "code",
      "metadata": {
        "id": "kJLD6k9fn9Wj",
        "colab_type": "code",
        "outputId": "9a6d4c6a-b648-4ad2-ed0a-49c6afb1985e",
        "colab": {
          "base_uri": "https://localhost:8080/",
          "height": 425
        }
      },
      "source": [
        "keras_model.summary()"
      ],
      "execution_count": 407,
      "outputs": [
        {
          "output_type": "stream",
          "text": [
            "Model: \"sequential_19\"\n",
            "_________________________________________________________________\n",
            "Layer (type)                 Output Shape              Param #   \n",
            "=================================================================\n",
            "embedding_41 (Embedding)     (None, None, 200)         493000    \n",
            "_________________________________________________________________\n",
            "dropout_11 (Dropout)         (None, None, 200)         0         \n",
            "_________________________________________________________________\n",
            "conv1d_6 (Conv1D)            (None, None, 50)          30050     \n",
            "_________________________________________________________________\n",
            "global_max_pooling1d_6 (Glob (None, 50)                0         \n",
            "_________________________________________________________________\n",
            "dense_18 (Dense)             (None, 250)               12750     \n",
            "_________________________________________________________________\n",
            "dropout_12 (Dropout)         (None, 250)               0         \n",
            "_________________________________________________________________\n",
            "activation_6 (Activation)    (None, 250)               0         \n",
            "_________________________________________________________________\n",
            "dense_20 (Dense)             (None, 7)                 1757      \n",
            "=================================================================\n",
            "Total params: 537,557\n",
            "Trainable params: 537,557\n",
            "Non-trainable params: 0\n",
            "_________________________________________________________________\n"
          ],
          "name": "stdout"
        }
      ]
    },
    {
      "cell_type": "code",
      "metadata": {
        "id": "JJhOFyDp_68m",
        "colab_type": "code",
        "colab": {
          "base_uri": "https://localhost:8080/",
          "height": 1000
        },
        "outputId": "0a7954b9-e510-47ef-d18b-f7afd66cf002"
      },
      "source": [
        "old_and_new_texts = add_new_data(texts.tolist(), texts_new)\n",
        "old_and_new_texts"
      ],
      "execution_count": 424,
      "outputs": [
        {
          "output_type": "execute_result",
          "data": {
            "text/plain": [
              "[['add', 'another', 'song', 'cita', 'rom', 'ntica', 'playlist'],\n",
              " ['add', 'clem', 'burke', 'playlist', 'pre', 'party', 'r', 'b', 'jams'],\n",
              " ['add', 'live', 'aragon', 'ballroom', 'trapeo'],\n",
              " ['add', 'unite', 'win', 'night'],\n",
              " ['add', 'track', 'digster', 'future', 'hits'],\n",
              " ['add', 'piano', 'bar', 'cindy', 'wilson'],\n",
              " ['add', 'spanish', 'harlem', 'incident', 'cleaning', 'house'],\n",
              " ['add', 'greyest', 'blue', 'skies', 'indie', 'espa', 'ol', 'playlist'],\n",
              " ['add', 'name', 'kids', 'street', 'plylist', 'new', 'indie', 'mix'],\n",
              " ['add', 'album', 'radar', 'latino'],\n",
              " ['add', 'tranquility', 'latin', 'pop', 'rising', 'playlist'],\n",
              " ['add', 'flame', 'dcode', 'playlist'],\n",
              " ['add', 'album', 'fairy', 'tales'],\n",
              " ['need', 'another', 'artist', 'new', 'indie', 'mix', 'playlist'],\n",
              " ['add',\n",
              "  'playlist',\n",
              "  'love',\n",
              "  'neo',\n",
              "  'soul',\n",
              "  'name',\n",
              "  'national',\n",
              "  'treasure',\n",
              "  'book',\n",
              "  'secrets'],\n",
              " ['add', 'fire', 'wind', 'digster', 'future', 'hits', 'playlist'],\n",
              " ['add', 'caleigh', 'peters', 'women', 'country', 'list'],\n",
              " ['add',\n",
              "  'children',\n",
              "  'telepathic',\n",
              "  'experiences',\n",
              "  'playlist',\n",
              "  'named',\n",
              "  'baladas',\n",
              "  'rom',\n",
              "  'nticas'],\n",
              " ['add', 'th', 'inning', 'bossa', 'nova', 'dinner', 'playlist'],\n",
              " ['need', 'another', 'tune', 'legendary', 'guitar', 'solos', 'playlist'],\n",
              " ['add', 'slimm', 'cutta', 'calhoun', 'prince', 'playlist'],\n",
              " ['add', 'always', 'dena', 'baroque', 'spotify', 'picks', 'playlist'],\n",
              " ['add', 'song', 'sleepytime'],\n",
              " ['add', 'album', 'list', 'la', 'mejor', 'sica', 'dance'],\n",
              " ['add',\n",
              "  'hey',\n",
              "  'johnnie',\n",
              "  'cope',\n",
              "  'ye',\n",
              "  'waking',\n",
              "  'yet',\n",
              "  'year',\n",
              "  'metal',\n",
              "  'playlist'],\n",
              " ['add', 'album', 'psychedelic', 'rock', 'playlist'],\n",
              " ['add', 'esquivando', 'charcos', 'playlist', 'entitled', 'piano', 'bar'],\n",
              " ['add', 'wiktor', 'coj', 'sleep', 'playlist'],\n",
              " ['incorporate', 'time', 'warp', 'fairy', 'tales', 'playlist'],\n",
              " ['add', 'maksim', 'tune', 'trad', 'folk'],\n",
              " ['add', 'tune', 'playlist', 'eletro', 'br'],\n",
              " ['add', 'tune', 'dinnertime', 'acoustics', 'list'],\n",
              " ['add', 'monsters', 'prince', 'playlist'],\n",
              " ['add', 'tune', 'chill', 'vibes'],\n",
              " ['add', 'track', 'spain', 'top', 'playlist'],\n",
              " ['put', 'album', 'mike', 'tramp', 'deathcore'],\n",
              " ['add', 'ross', 'boss', 'laurie', 'listas', 'de', 'xitos', 'list'],\n",
              " ['add', 'beatmaster', 'v', 'nicky', 'jam', 'playlist'],\n",
              " ['add', 'paulinho', 'da', 'viola', 'radio', 'rock', 'song', 'list'],\n",
              " ['add', 'eef', 'barzelay', 'country', 'coffeehouse'],\n",
              " ['add', 'artist', 'queen', 'playlist'],\n",
              " ['add', 'olga', 'souza', 'virginia', 'femme', 'fatale', 'playlist'],\n",
              " ['add', 'album', 'g', 'sreekumar', 'laidback', 'acoustic', 'playlist'],\n",
              " ['add', 'album', 'spotify', 'orchestra', 'cello', 'playlist'],\n",
              " ['want', 'put', 'goldy', 'mcjohn', 'rock', 'party', 'playlist'],\n",
              " ['add', 'song', 'noreen', 'fresh', 'finds', 'six', 'strings'],\n",
              " ['shawnna', 'warm', 'hearts', 'feel', 'good', 'playlist'],\n",
              " ['add', 'tune', 'rock', 'save', 'queen'],\n",
              " ['add', 'firehouse', 'acoustic', 'soul', 'list'],\n",
              " ['add', 'david', 'cole', 'track', 'totally', 'stress', 'free'],\n",
              " ['add', 'progress', 'cl', 'sica', 'para', 'todos', 'playlist'],\n",
              " ['add',\n",
              "  'artist',\n",
              "  'tony',\n",
              "  'thompson',\n",
              "  'canta',\n",
              "  'en',\n",
              "  'la',\n",
              "  'ducha',\n",
              "  'playlist'],\n",
              " ['add', 'artist', 'mozart', 'playlist'],\n",
              " ['add', 'track', 'downtempo', 'beats'],\n",
              " ['add', 'quicksand', 'valentine', 'day', 'love', 'playlist'],\n",
              " ['add', 'feel', 'passion', 'kudai', 'playlist'],\n",
              " ['add', 'song', 'us', 'latin', 'top', 'playlist'],\n",
              " ['put', 'artist', 'pachangueo', 'total'],\n",
              " ['add', 'vl', 'mike', 'dcode', 'playlist'],\n",
              " ['add', 'week', 'end', 'playlist'],\n",
              " ['add', 'norma', 'jean', 'pure', 'rock', 'roll', 'playlist'],\n",
              " ['add', 'kirk', 'hammett', 'calm'],\n",
              " ['add', 'show', 'beast', 'mode', 'playlist'],\n",
              " ['add', 'kjetil', 'vidar', 'haraldstad', 'listas', 'de', 'xitos'],\n",
              " ['add', 'xanadu', 'latin', 'alternative', 'music'],\n",
              " ['add', 'track', 'krystal', 'piano'],\n",
              " ['put', 'track', 'onto', 'playlist', 'selektor'],\n",
              " ['jazz', 'loving', 'couples', 'needs', 'push', 'button'],\n",
              " ['add', 'album', 'martin', 'garrix', 'show', 'playlist'],\n",
              " ['add', 'gina', 'schock', 'workout', 'twerkout'],\n",
              " ['add', 'tune', 'cristina', 'endorphin', 'rush', 'playlist'],\n",
              " ['add', 'tune', 'southern', 'thing', 'playlist'],\n",
              " ['add', 'ik', 'tara', 'laundry', 'playlst'],\n",
              " ['add', 'tune', 'nicky', 'jam'],\n",
              " ['add',\n",
              "  'something',\n",
              "  'artist',\n",
              "  'paul',\n",
              "  'cargnello',\n",
              "  'chill',\n",
              "  'tracks',\n",
              "  'playlist'],\n",
              " ['add',\n",
              "  'runaljod',\n",
              "  'gap',\n",
              "  'var',\n",
              "  'ginnunga',\n",
              "  'ashlee',\n",
              "  'playlist',\n",
              "  'titled',\n",
              "  'forever',\n",
              "  'country'],\n",
              " ['put', 'orange', 'green', 'los', 'radio', 'xitos'],\n",
              " ['add', 'album', 'liza', 'oumarova', 'steampunk', 'playlist'],\n",
              " ['please', 'add', 'song', 'ines', 'playlist', 'called', 'metal', 'party'],\n",
              " ['playlist', 'todo', 'latino', 'add', 'absolutely', 'sweet', 'marie'],\n",
              " ['add', 'gn', 'night', 'vibes'],\n",
              " ['add', 'blood', 'face', 'playlist', 'called', 'heartland', 'country'],\n",
              " ['spring', 'classical', 'playlist', 'needs', 'partners', 'crime', 'added'],\n",
              " ['add', 'artist', 'tomohisa', 'yamashita', 'conexiones', 'playlist'],\n",
              " ['add', 'written', 'red', 'cleaning', 'house', 'playlist'],\n",
              " ['add', 'cordell', 'mosson', 'love', 'neo', 'soul', 'list'],\n",
              " ['add', 'album', 'feeling', 'blue'],\n",
              " ['want', 'put', 'another', 'album', 'peaceful', 'rush', 'hour', 'playlist'],\n",
              " ['open', 'acoustic', 'concentration', 'playlist', 'play', 'entire', 'album'],\n",
              " ['add', 'sonntag', 'assassin', 'creed'],\n",
              " ['want', 'francis', 'healy', 'rockin', 'vibes', 'playlist'],\n",
              " ['add', 'gareth', 'gates', 'autumn', 'playlist'],\n",
              " ['add', 'tune', 'sxsw', 'fresh', 'playlist'],\n",
              " ['add', 'track', 'todo', 'latino'],\n",
              " ['add', 'verano', 'list', 'song', 'andy', 'lee'],\n",
              " ['add', 'song', 'club', 'hits'],\n",
              " ['add', 'tune', 'playlist', 'titled', 'uncharted', 'nathan', 'drake'],\n",
              " ['add', 'te', 'ljubam', 'hit', 'remix', 'playlist'],\n",
              " ['put', 'album', 'totally', 'alternative'],\n",
              " ['put', 'album', 'becky', 'infinite', 'indie', 'folk', 'playlist'],\n",
              " ['add', 'yuna', 'ito', 'hot', 'rods', 'horror', 'shows', 'playlist'],\n",
              " ['add', 'artist', 'ruby', 'digging', 'list'],\n",
              " ['add', 'tune', 'southern', 'thing', 'playlist'],\n",
              " ['add', 'album', 'top', 'country', 'tracks', 'spotify', 'playlist'],\n",
              " ['add', 'track', 'classical', 'music', 'smart', 'kids', 'playlist'],\n",
              " ['add', 'album', 'corinne', 'beast', 'mode', 'playlist'],\n",
              " ['include', 'album', 'arthur', 'rhames', 'urban', 'poet'],\n",
              " ['need', 'add', 'things', 'post', 'starting', 'favorites', 'silence'],\n",
              " ['add', 'nothing', 'fancy', 'meditate', 'sounds', 'nature', 'playlist'],\n",
              " ['add', 'cj', 'snare', 'indie', 'mim', 'playlist'],\n",
              " ['add', 'ernie', 'hawkins', 'dubstep', 'playlist'],\n",
              " ['please', 'put', 'song', 'onto', 'urban', 'hits', 'playlist'],\n",
              " ['add',\n",
              "  'spine',\n",
              "  'surfs',\n",
              "  'alone',\n",
              "  'playlist',\n",
              "  'called',\n",
              "  'funny',\n",
              "  'thing',\n",
              "  'football'],\n",
              " ['add', 'ajoy', 'chakrabarty', 'women', 'country', 'playlist'],\n",
              " ['add', 'song', 'brooklyn', 'beat'],\n",
              " ['add', 'disco', 'playlist', 'called', 'genuine', 'r', 'b'],\n",
              " ['add', 'anthony', 'hamilton', 'list', 'women', 'hip', 'hop'],\n",
              " ['add', 'going', 'st', 'ives', 'fantas', 'playlist'],\n",
              " ['put', 'paula', 'abdul', 'musica', 'espa', 'ola'],\n",
              " ['add', 'entity', 'por', 'una', 'cabeza', 'playlist', 'forever', 'alone'],\n",
              " ['add', 'track', 'afternoon', 'train', 'ride'],\n",
              " ['add', 'silver', 'apples', 'teh', 'sin', 'estr', 'playlist'],\n",
              " ['please', 'add', 'song', 'llegando', 'casa', 'palylist'],\n",
              " ['add', 'song', 'martin', 'garrix', 'show', 'playlist'],\n",
              " ['add', 'david', 'wolfenberger', 'duetos', 'playlist'],\n",
              " ['want', 'add', 'club', 'mix', 'playlist', 'title', 'cl', 'sicos'],\n",
              " ['add', 'eric', 'bibb', 'country', 'coffeehouse'],\n",
              " ['add', 'gregg', 'bissonette', 'us', 'latin', 'top', 'playlist'],\n",
              " ['add', 'track', 'smash', 'hits'],\n",
              " ['add', 'album', 'blues', 'playlist'],\n",
              " ['want', 'song', 'playlist', 'called', 'chill', 'vibes'],\n",
              " ['add', 'adam', 'clayton', 'tune', 'sxsw', 'fresh', 'playlist'],\n",
              " ['add', 'teddy', 'charles', 'album', 'pavarotti', 'playlist'],\n",
              " ['add', 'confessions', 'playlist', 'called', 'cl', 'sica'],\n",
              " ['please', 'add', 'tobymac', 'song', 'onto', 'indiespensables', 'playlist'],\n",
              " ['add', 'album', 'playlist', 'emily', 'dickinson'],\n",
              " ['add', 'buddy', 'desylva', 'j', 'balvin', 'playlist'],\n",
              " ['ad', 'czarna', 'dziewczyna', 'instrumental', 'madness', 'playlist'],\n",
              " ['want', 'add', 'song', 'infantil', 'playlist'],\n",
              " ['add', 'vera', 'jam', 'session', 'playlist'],\n",
              " ['add',\n",
              "  'compilation',\n",
              "  'warped',\n",
              "  'music',\n",
              "  'ii',\n",
              "  'workout',\n",
              "  'twerkout',\n",
              "  'playlist'],\n",
              " ['add', 'track', 'list', 'made', 'puerto', 'rico'],\n",
              " ['add', 'track', 'epic', 'wall', 'sound', 'playlist'],\n",
              " ['add', 'michael', 'lepond', 'electronic', 'bliss'],\n",
              " ['add', 'angela', 'au', 'playlist', 'radar', 'latino'],\n",
              " ['add', 'artist', 'abdel', 'halim', 'hafez', 'conexiones', 'playlist'],\n",
              " ['add', 'track', 'puccini'],\n",
              " ['need', 'add', 'song', 'lo', 'que', 'suena', 'new', 'york', 'playlist'],\n",
              " ['add', 'artist', 'rosana'],\n",
              " ['add', 'joelia', 'savitsjeva', 'keys'],\n",
              " ['add', 'alain', 'caron', 'travelling', 'playlist'],\n",
              " ['add',\n",
              "  'r',\n",
              "  'l',\n",
              "  'burnside',\n",
              "  'album',\n",
              "  'nothing',\n",
              "  'party',\n",
              "  'r',\n",
              "  'b',\n",
              "  'playlist'],\n",
              " ['add', 'steve', 'jordan', 'inez', 'tgif'],\n",
              " ['add', 'playlist', 'funked', 'track'],\n",
              " ['add', 'satisfied', 'rockin', 'vibes', 'playlist'],\n",
              " ['add', 'artist', 'named', 'prince', 'playlist', 'new'],\n",
              " ['add', 'billy', 'strayhorn', 'highway', 'playlist'],\n",
              " ['add', 'ramble', 'halloween', 'teens'],\n",
              " ['add', 'song', 'rock', 'party'],\n",
              " ['want',\n",
              "  'add',\n",
              "  'lady',\n",
              "  'maisry',\n",
              "  'playlist',\n",
              "  'lo',\n",
              "  'que',\n",
              "  'suena',\n",
              "  'new',\n",
              "  'york'],\n",
              " ['want', 'add', 'album', 'noreen', 'endorphin', 'rush', 'playlist'],\n",
              " ['add', 'famous', 'playlist', 'lo', 'que', 'suena', 'new', 'york'],\n",
              " ['add', 'shawn', 'camp', 'soulful', 'disco', 'playlist'],\n",
              " ['add', 'bonobo', 'queen', 'playlis'],\n",
              " ['add', 'hold', 'liquor', 'electronow'],\n",
              " ['add', 'tobias', 'sammet', 'bring', 'back', 'list'],\n",
              " ['add', 'jack', 'nimble', 'reggae', 'bombastic', 'list'],\n",
              " ['add', 'jan', 'smit', 'endorphin', 'rush'],\n",
              " ['add', 'rupee', 'ultra', 'metal', 'playlist'],\n",
              " ['please', 'add', 'liberty', 'forever', 'road', 'trip', 'playlist'],\n",
              " ['add', 'gene', 'clark', 'diann', 'chill', 'list'],\n",
              " ['put', 'another', 'track', 'electronica', 'dance', 'playlist'],\n",
              " ['add', 'tune', 'indie', 'workout', 'playlist'],\n",
              " ['add', 'david', 'henry', 'hwang', 'nicky', 'jam', 'playlist'],\n",
              " ['add', 'jane', 'olivor', 'track', 'sleep', 'machine', 'waterscapes'],\n",
              " ['would', 'like', 'artist', 'drum', 'breaks'],\n",
              " ['include', 'dschiwan', 'gasparjan', 'beth', 'rare', 'groove', 'playlist'],\n",
              " ['like',\n",
              "  'add',\n",
              "  'artist',\n",
              "  'jesper',\n",
              "  'kyd',\n",
              "  'onto',\n",
              "  'fresh',\n",
              "  'electronic',\n",
              "  'playlist'],\n",
              " ['add', 'joplin', 'concert', 'feel', 'good', 'dinner'],\n",
              " ['add', 'harry', 'j', 'dubstep', 'dangles', 'dirty'],\n",
              " ['add', 'partners', 'crime', 'joann', 'lo', 'que', 'suena', 'los', 'angeles'],\n",
              " ['add', 'song', 'onto', 'hip', 'hop', 'gaming', 'playlist'],\n",
              " ['add', 'artist', 'philip', 'glass', 'playlist'],\n",
              " ['want', 'put', 'look', 'playlist', 'named', 'classic', 'hits'],\n",
              " ['add', 'secrets', 'power', 'gaming', 'playlist'],\n",
              " ['add', 'track', 'hit', 'remix'],\n",
              " ['add', 'ali', 'lohan', 'songs', 'club', 'hits'],\n",
              " ['add', 'tune', 'retrowave', 'outrun'],\n",
              " ['add', 'track', 'edge', 'funk', 'soul', 'disco', 'playlist'],\n",
              " ['add', 'hold', 'tight', 'throwback', 'party'],\n",
              " ['put', 'love', 'acoustic', 'soul', 'playlist'],\n",
              " ['add', 'name', 'rd', 'world', 'playlist', 'rock'],\n",
              " ['add', 'tune', 'playlist', 'named', 'women', 'fresh', 'finds'],\n",
              " ['add', 'tune', 'atmospheric', 'black', 'metal', 'playlist'],\n",
              " ['add', 'sammy', 'hagar', 'ultra', 'metal'],\n",
              " ['add', 'south', 'michigan', 'avenue', 'laundry', 'playlist'],\n",
              " ['add', 'turk', 'deep', 'house', 'playlist'],\n",
              " ['add', 'name', 'fade', 'away', 'playlist', 'midnight', 'hour'],\n",
              " ['add', 'artist', 'baby', 'makers', 'playlist'],\n",
              " ['add', 'parempi', 'mies', 'caf', 'con', 'leche', 'playlist'],\n",
              " ['place', 'tune', 'onto', 'dinner', 'playlist'],\n",
              " ['add', 'exit', 'love', 'rollerdisco', 'list'],\n",
              " ['add', 'darkest', 'angels', 'sos'],\n",
              " ['please', 'put', 'another', 'tune', 'laundry', 'playlist'],\n",
              " ['add',\n",
              "  'global',\n",
              "  'underground',\n",
              "  'sydney',\n",
              "  'best',\n",
              "  'metal',\n",
              "  'new',\n",
              "  'millennium'],\n",
              " ['add', 'bslade', 'women', 'k', 'pop', 'playlist'],\n",
              " ['add', 'bill', 'deasy', 'track', 'conexiones', 'playlist'],\n",
              " ['add', 'j', 'j', 'cale', 'heavy', 'gamer', 'playlist'],\n",
              " ['add', 'album', 'metal', 'overload', 'playlist'],\n",
              " ['add', 'keep', 'receipt', 'ep', 'digster', 'reggae', 'playlist'],\n",
              " ['add', 'country', 'nights', 'journal', 'plague', 'year', 'playlist'],\n",
              " ['add', 'ian', 'gillan', 'rock', 'party'],\n",
              " ['add', 'paul', 'young', 'retrovisor'],\n",
              " ['add', 'nana', 'tanimura', 'sudden', 'rainstorm'],\n",
              " ['add', 'viktor', 'tsoi', 'sweet', 'soul', 'chillout', 'playlist'],\n",
              " ['want', 'glam', 'added', 'ntc', 'gym', 'strong', 'playlist'],\n",
              " ['add', 'ricardo', 'villalobos', 'track', 'surface'],\n",
              " ['want', 'add', 'song', 'w', 'c', 'clark', 'nerding', 'around', 'playlist'],\n",
              " ['add', 'connee', 'boswell', 'relaxing', 'playlist'],\n",
              " ['add', 'nicole', 'mitchell', 'soul', 'revived', 'list'],\n",
              " ['add', 'artist', 'lo', 'mejor', 'de', 'los'],\n",
              " ['track', 'go', 'evening', 'chill', 'playlist'],\n",
              " ['add', 'claudine', 'longet', 'ultimate', 'palylist'],\n",
              " ['add', 'mina', 'caputo', 'album', 'hours', 'party'],\n",
              " ['put', 'frank', 'portman', 'playlist', 'good', 'music'],\n",
              " ['put', 'track', 'edge', 'funk', 'soul', 'disco', 'playlist'],\n",
              " ['add', 'jang', 'nara', 'track', 'hip', 'hop', 'gaming', 'playlist'],\n",
              " ['add', 'kurious', 'jorge', 'synth', 'pop'],\n",
              " ['add', 'songs', 'hip', 'hop', 'artist'],\n",
              " ['add', 'step', 'cl', 'sicos', 'playlist'],\n",
              " ['add', 'track', 'sunshine', 'reggae', 'playlist'],\n",
              " ['put', 'whole', 'album', 'playlist', 'called', 'old', 'school', 'metal'],\n",
              " ['add', 'de', 'principii', 'evangelikum', 'domingo', 'indie', 'palylist'],\n",
              " ['add', 'back', 'velvet', 'lounge', 'cleaning', 'playlist'],\n",
              " ['add', 'hemanta', 'kumar', 'mukhopadhyay', 'album', 'funky', 'jams'],\n",
              " ['add', 'track', 'kickass', 'metal'],\n",
              " ['add', 'song', 'pop', 'brasil'],\n",
              " ['please', 'add', 'ruud', 'jolie', 'playlist', 'guest', 'list', 'polygon'],\n",
              " ['put', 'agent', 'tune', 'onto', 'de', 'cantautor', 'espa', 'ol'],\n",
              " ['add', 'tune', 'kurt', 'james', 'playlist', 'latin', 'pop', 'classics'],\n",
              " ['include', 'paint', 'masterpiece', 'acoustic', 'spring', 'playlist'],\n",
              " ['add', 'ths', 'album', 'pachangueo', 'total'],\n",
              " ['add', 'repent', 'replenish', 'repeat', 'classical', 'moments', 'movies'],\n",
              " ['add', 'song', 'te', 'va', 'gustar', 'playlist'],\n",
              " ['add', 'riverside', 'avenue', 'leticia', 'animal', 'humor', 'playlist'],\n",
              " ['add', 'tune', 'composer', 'weekly', 'pauline', 'oliveros', 'playlist'],\n",
              " ['add', 'stuck', 'nothing', 'sax', 'city', 'playlist'],\n",
              " ['add', 'armistead', 'burwell', 'smith', 'iv', 'blues', 'masters'],\n",
              " ['add', 'album', 'playlist', 'name', 'blues'],\n",
              " ['put', 'united', 'abominations', 'onto', 'rare', 'groove', 'playlist'],\n",
              " ['add', 'lagaylia', 'frazier', 'emotron'],\n",
              " ['want', 'add', 'song', 'w', 'c', 'clark', 'nerding', 'around', 'playlist'],\n",
              " ['add', 'shot', 'glory', 'calm', 'storm'],\n",
              " ['add', 'artist', 'playlist', 'called', 'fusion', 'fest'],\n",
              " ['add', 'song', 'mellow', 'beats', 'list'],\n",
              " ['add', 'sherri', 'electrosafari', 'playlist'],\n",
              " ['put',\n",
              "  'song',\n",
              "  'jessica',\n",
              "  'mauboy',\n",
              "  'playlist',\n",
              "  'entitled',\n",
              "  'sudden',\n",
              "  'rainstorm'],\n",
              " ['add', 'cabi', 'playlist', 'named', 'pre', 'party', 'r', 'b', 'jams'],\n",
              " ['add', 'song', 'residence', 'metal', 'hammer', 'episode'],\n",
              " ['add', 'stars', 'stripes', 'forever', 'soulful', 'disco', 'playlist'],\n",
              " ['add', 'beijing', 'huanying', 'ni', 'workday', 'lounge', 'playlist'],\n",
              " ['want', 'add', 'track', 'evening', 'groove', 'playlist'],\n",
              " ['add', 'sos', 'playlist'],\n",
              " ['put', 'dj', 'kay', 'slay', 'onto', 'decade', 'playlist'],\n",
              " ['add', 'fabri', 'fibra', 'evening', 'acoustic'],\n",
              " ['add', 'tune', 'escapada'],\n",
              " ['add', 'unraveling', 'marina', 'playlist', 'southern', 'thing'],\n",
              " ['put', 'artist', 'found', 'first', 'playlist', 'please'],\n",
              " ['add', 'stephen', 'mcnally', 'confidence', 'boost'],\n",
              " ['add', 'paul', 'franklin', 'bachelor', 'party'],\n",
              " ['add', 'track', 'another', 'glass', 'playlist'],\n",
              " ['please', 'add', 'track', 'david', 'freiberg', 'workout', 'playlist'],\n",
              " ['add', 'artist', 'feel', 'good', 'dinner', 'playlist'],\n",
              " ['add', 'vintage', 'mother', 'primavera', 'sound', 'barcelona', 'playlist'],\n",
              " ['add', 'album', 'cowboy', 'troy', 'piano', 'background', 'playlist'],\n",
              " ['add', 'hatfield', 'north', 'hot', 'house', 'playlist'],\n",
              " ['add',\n",
              "  'tour',\n",
              "  'generaci',\n",
              "  'n',\n",
              "  'rbd',\n",
              "  'en',\n",
              "  'vivo',\n",
              "  'roadrunner',\n",
              "  'rec',\n",
              "  'new',\n",
              "  'releases',\n",
              "  'playlist'],\n",
              " ['want', 'global', 'top', 'marit', 'bergman', 'added'],\n",
              " ['add',\n",
              "  'block',\n",
              "  'brochure',\n",
              "  'welcome',\n",
              "  'soil',\n",
              "  'onto',\n",
              "  'caf',\n",
              "  'con',\n",
              "  'leche',\n",
              "  'list'],\n",
              " ['add', 'paul', 'wright', 'album', 'smash', 'hits', 'playlist'],\n",
              " ['add', 'artist', 'playlist', 'verdi'],\n",
              " ['add', 'tune', 'animal', 'collective', 'playlist'],\n",
              " ['add', 'marilyn', 'manson', 'tune', 'latin', 'party', 'anthems'],\n",
              " ['add', 'dickey', 'betts', 'throwback', 'thursday', 'playlist'],\n",
              " ['add', 'album', 'cham', 'cloud', 'rap', 'playlist'],\n",
              " ['add', 'atticus', 'ross', 'electrosafari', 'playlist'],\n",
              " ['add', 'artist', 'spain', 'top'],\n",
              " ['put',\n",
              "  'lindsey',\n",
              "  'cardinale',\n",
              "  'hillary',\n",
              "  'clinton',\n",
              "  'women',\n",
              "  'history',\n",
              "  'month',\n",
              "  'playlist'],\n",
              " ['add', 'gate', 'bloodstained', 'mirrors', 'feelin', 'good', 'playlist'],\n",
              " ['put', 'frank', 'ferrer', 'edna', 'st', 'vincent', 'millay', 'playlist'],\n",
              " ['add', 'madman', 'trap', 'land', 'playlist'],\n",
              " ['add', 'chas', 'chandler', 'aux', 'cord', 'privileges'],\n",
              " ['put', 'kan', 'mikami', 'pre', 'party', 'r', 'b', 'jams'],\n",
              " ['add', 'let', 'season', 'lo', 'fi', 'love'],\n",
              " ['add', 'track', 'smash', 'hits', 'playlist'],\n",
              " ['put', 'andrew', 'hurley', 'album', 'onto', 'timeless', 'love', 'songs'],\n",
              " ['add', 'tonight', 'love', 'hip', 'hop'],\n",
              " ['add', 'track', 'las', 'canciones', 'lindas', 'del', 'mundo', 'playlist'],\n",
              " ['add', 'roy', 'orbison', 'song', 'onto', 'women', 'comedy'],\n",
              " ['add', 'artist', 'laundry'],\n",
              " ['add', 'bum', 'note', 'bead', 'sweat', 'stress', 'relief', 'playlist'],\n",
              " ['add', 'sara', 'hickman', 'targeted', 'list'],\n",
              " ['add', 'jonathan', 'arons', 'indie', 'electronics', 'playlist'],\n",
              " ['add', 'track', 'cloud', 'rap'],\n",
              " ['add', 'song', 'playlist', 'funky', 'jams'],\n",
              " ['add', 'mary', 'wells', 'sings', 'guy', 'electro', 'sur', 'playlist'],\n",
              " ['add', 'tune', 'soft', 'rock', 'playlist'],\n",
              " ['add', 'day', 'dodgers', 'running', 'power', 'playlist'],\n",
              " ['want', 'song', 'john', 'schlitt', 'bajo', 'las', 'estrellas', 'playlist'],\n",
              " ['add', 'vikku', 'vinayakram', 'nicky', 'jam'],\n",
              " ['add',\n",
              "  'bossa',\n",
              "  'nova',\n",
              "  'soul',\n",
              "  'samba',\n",
              "  'jukebox',\n",
              "  'boogie',\n",
              "  'rhythm',\n",
              "  'blues',\n",
              "  'playlist'],\n",
              " ['add', 'brad', 'kane', 'pumping', 'iron', 'soundtrack'],\n",
              " ['please', 'add', 'song', 'indiespain', 'list'],\n",
              " ['add', 'od', 'mene', 'se', 'odvikavaj', 'laundry'],\n",
              " ['add', 'artist', 'dubstep'],\n",
              " ['add', 'tune', 'favorite', 'slaughterhouse', 'playlist'],\n",
              " ['add', 'song', 'siesta'],\n",
              " ['put', 'lullaby', 'birdland', 'onto', 'fusion', 'fest'],\n",
              " ['put', 'sarah', 'blasko', 'onto', 'metalsucks', 'playlist'],\n",
              " ['want', 'another', 'track', 'added', 'korean', 'osts', 'playlist'],\n",
              " ['add', 'cream', 'funk', 'playlist'],\n",
              " ['add', 'take', 'back', 'dear', 'old', 'blighty', 'dinner', 'playlist'],\n",
              " ['add', 'tune', 'deep', 'dark', 'indie', 'folk', 'playlist'],\n",
              " ['add', 'gisela', 'song', 'dancehall', 'official'],\n",
              " ['add', 'histoire', 'de', 'melody', 'nelson', 'baby', 'makers', 'playlist'],\n",
              " ['add', 'tune', 'road', 'trip', 'playlist'],\n",
              " ['add', 'tune', 'infinite', 'indie', 'folk'],\n",
              " ['add', 'album', 'ultra', 'metal'],\n",
              " ['like', 'add', 'album', 'funtime'],\n",
              " ['add', 'tune', 'punk', 'espa', 'ol'],\n",
              " ['want', 'add', 'mood', 'playlist', 'called', 'folksy', 'love'],\n",
              " ['put', 'jerry', 'dixon', 'song', 'onto', 'tokyo', 'rising', 'playlist'],\n",
              " ['add', 'grim', 'skunk', 'duetos'],\n",
              " ['add', 'jennie', 'jennie', 'metal', 'playlist'],\n",
              " ['add', 'felices', 'todo', 'reggaeton', 'playlist'],\n",
              " ['add', 'candlelight', 'house', 'afterwork', 'playlist'],\n",
              " ['add', 'us', 'placers', 'new', 'boots'],\n",
              " ['add',\n",
              "  'track',\n",
              "  'clem',\n",
              "  'burke',\n",
              "  'atmospheric',\n",
              "  'black',\n",
              "  'metal',\n",
              "  'playlist'],\n",
              " ['add', 'mayya', 'de', 'manhattan', 'con', 'amor', 'playlist'],\n",
              " ['add',\n",
              "  'nastya',\n",
              "  'kamenskih',\n",
              "  'song',\n",
              "  'martin',\n",
              "  'garrix',\n",
              "  'show',\n",
              "  'playlist'],\n",
              " ['add', 'artist', 'playlist', 'epic', 'gaming'],\n",
              " ['add', 'robin', 'sxsw', 'latin'],\n",
              " ['put', 'tune', 'onto', 'signed', 'xoxo', 'playlist'],\n",
              " ['add', 'olympia', 'delta', 'chicago'],\n",
              " ['enamor', 'ndose', 'playlist', 'needs', 'another', 'album'],\n",
              " ['add', 'song', 'rocksteady', 'playlist'],\n",
              " ['add', 'funtwo', 'disco', 'fever', 'track'],\n",
              " ['like', 'add', 'album', 'siesta', 'playlist'],\n",
              " ['add', 'kevin', 'cadogan', 'classic', 'hits', 'list'],\n",
              " ['add', 'artist', 'spooning', 'playlist'],\n",
              " ['add', 'alan', 'wilson', 'track', 'luis', 'fonsi', 'playlist'],\n",
              " ['playlist', 'wild', 'country', 'add', 'great', 'day', 'freedom'],\n",
              " ['add', 'ricky', 'nelson', 'classical', 'x', 'playist'],\n",
              " ['add', 'track', 'playlist', 'sudden', 'rainstorm'],\n",
              " ['add', 'ronnie', 'james', 'dio', 'tune', 'women', 'electronic', 'selection'],\n",
              " ['add', 'isabella', 'club', 'hits', 'song'],\n",
              " ['include', 'pat', 'smear', 'guest', 'list', 'engadget'],\n",
              " ['put', 'track', 'ricky', 'martin', 'smash', 'hits', 'playlist'],\n",
              " ['add', 'track', 'thomas', 'rhett', 'playlist'],\n",
              " ['add', 'hate', 'want', 'die', 'six', 'string', 'peacefulness'],\n",
              " ['add', 'yuna', 'ito', 'cena', 'elegante', 'playlist'],\n",
              " ['please', 'add', 'jency', 'anthony', 'playlist', 'mozart'],\n",
              " ['put', 'jtr', 'top', 'classical', 'playlist'],\n",
              " ['get', 'going', 'playlist', 'needs', 'another', 'song'],\n",
              " ['add', 'munia', 'tale', 'playlist', 'called', 'adrenaline', 'workout'],\n",
              " ['put', 'molly', 'tenbrooks', 'french', 'n', 'heavy', 'playlist'],\n",
              " ['add', 'album', 'twink', 'classic', 'country', 'playlist'],\n",
              " ['add', 'blurred', 'crusade', 'crate', 'diggers', 'anonymous'],\n",
              " ['add', 'robyn', 'hitchcock', 'romantic', 'evening', 'playlist'],\n",
              " ['add',\n",
              "  'beatles',\n",
              "  'tune',\n",
              "  'yesterday',\n",
              "  'playlist',\n",
              "  'southern',\n",
              "  'highway',\n",
              "  'chronicles'],\n",
              " ['add', 'enduser', 'song', 'grime', 'instrumentals'],\n",
              " ['add', 'koichi', 'sugiyama', 'whm'],\n",
              " ['put', 'sungmin', 'summer', 'playlist'],\n",
              " ['add',\n",
              "  'little',\n",
              "  'musgrave',\n",
              "  'lady',\n",
              "  'barnard',\n",
              "  'ora',\n",
              "  'punk',\n",
              "  'rock',\n",
              "  'workout',\n",
              "  'playlist'],\n",
              " ['like', 'add', 'tune', 'spotify', 'orchestra', 'cello', 'playlist'],\n",
              " ['add', 'michael', 'v', 'track', 'folk', 'americana'],\n",
              " ['add', 'riddim', 'driven', 'engine', 'humanity', 'letha', 'things', 'post'],\n",
              " ['add', 'nana', 'kitade', 'modern', 'psychedelia', 'playlist'],\n",
              " ['add', 'artist', 'latin', 'jazz', 'playlist'],\n",
              " ['put', 'ares', 'canadian', 'country', 'playlist'],\n",
              " ['add', 'another', 'tune', 'songs', 'parents', 'playlist'],\n",
              " ['add', 'atticus', 'ross', 'playlist', 'electrosafari'],\n",
              " ['add', 'tune', 'hype', 'playlist'],\n",
              " ['add', 'nib', 'fay', 'brooklyn', 'beat', 'playlist'],\n",
              " ['add', 'tune', 'patrica', 'playlist', 'rhythm'],\n",
              " ['insert', 'rock', 'song', 'list'],\n",
              " ['add',\n",
              "  'martine',\n",
              "  'mccutcheon',\n",
              "  'original',\n",
              "  'columbia',\n",
              "  'jazzmasters',\n",
              "  'list'],\n",
              " ['add', 'autry', 'inman', 'hanging', 'relaxing', 'playlist'],\n",
              " ['add', 'name', 'song', 'towel', 'playlist', 'piano', 'background'],\n",
              " ['add', 'rock', 'roll', 'playlist', 'named', 'night'],\n",
              " ['add', 'tara', 'blaise', 'power', 'gaming', 'playlist'],\n",
              " ['put', 'song', 'chips', 'salsa', 'playlist'],\n",
              " ['add', 'mac', 'n', 'cheese', 'playlist', 'ts', 'zetsu'],\n",
              " ['add',\n",
              "  'country',\n",
              "  'favorites',\n",
              "  'willie',\n",
              "  'nelson',\n",
              "  'style',\n",
              "  'playlist',\n",
              "  'titled',\n",
              "  'spinnin',\n",
              "  'records',\n",
              "  'top'],\n",
              " ['want', 'harris', 'added', 'latin', 'dance', 'cardio', 'playlist'],\n",
              " ['would',\n",
              "  'like',\n",
              "  'add',\n",
              "  'something',\n",
              "  'kuk',\n",
              "  'harrell',\n",
              "  'hip',\n",
              "  'hop',\n",
              "  'new',\n",
              "  'school',\n",
              "  'playlist'],\n",
              " ['shawn', 'lane', 'moved', 'cena', 'con', 'amigos', 'playlist'],\n",
              " ['add', 'dave', 'carpenter', 'acoustic', 'blues', 'playlist'],\n",
              " ['add', 'track', 'playlist', 'named', 'cali', 'fire'],\n",
              " ['put', 'artist', 'pat', 'monahan', 'onto', 'emily', 'dickinson', 'playlist'],\n",
              " ['add', 'splendido', 'hotel', 'verano', 'forever'],\n",
              " ['add', 'song', 'novedades', 'viernes', 'sudam', 'rica', 'playlist'],\n",
              " ['add',\n",
              "  'song',\n",
              "  'szahram',\n",
              "  'nazeri',\n",
              "  'playlist',\n",
              "  'called',\n",
              "  'jennifer',\n",
              "  'lopez'],\n",
              " ['add', 'track', 'new', 'hip', 'hop'],\n",
              " ['add', 'status', 'quo', 'teddy', 'riley'],\n",
              " ['add',\n",
              "  'outlaw',\n",
              "  'blues',\n",
              "  'playlist',\n",
              "  'title',\n",
              "  'top',\n",
              "  'country',\n",
              "  'tracks',\n",
              "  'spotify'],\n",
              " ['add',\n",
              "  'bring',\n",
              "  'back',\n",
              "  'daddy',\n",
              "  'playlist',\n",
              "  'named',\n",
              "  'might',\n",
              "  'myth',\n",
              "  'power',\n",
              "  'metal'],\n",
              " ['add', 'shangri', 'la', 'african', 'heat', 'playlist'],\n",
              " ['add', 'embryo', 'lessie', 'hands'],\n",
              " ['add', 'best', 'uetoaya', 'wild', 'country'],\n",
              " ['want', 'add', 'kool', 'keith', 'chill', 'dinner', 'playlist'],\n",
              " ['add', 'david', 'axelrod', 'futuros', 'hits', 'list'],\n",
              " ['add', 'artist', 'endorphin', 'rush', 'playlist'],\n",
              " ['add', 'current', 'album', 'pop', 'gaming', 'playlist'],\n",
              " ['want', 'could', 'added', 'mellow', 'dinner'],\n",
              " ['add', 'spanish', 'castle', 'magic', 'daily', 'lift'],\n",
              " ['add', 'little', 'walter', 'women', 'comedy', 'playlist'],\n",
              " ['put', 'bunky', 'green', 'tune', 'phunkadelic', 'playlist'],\n",
              " ['put', 'tune', 'dancepop'],\n",
              " ['add', 'karina', 'album', 'folk', 'pop', 'playlist'],\n",
              " ['add', 'tune', 'louis', 'wolfe', 'gilbert', 'cleaning', 'playlist'],\n",
              " ['please', 'add', 'tune', 'kaori', 'utatsuki', 'korean', 'osts', 'playlist'],\n",
              " ['add', 'om', 'classic', 'punk'],\n",
              " ['add', 'jimmy', 'london', 'tune', 'new', 'waltz', 'playlist'],\n",
              " ['add', 'song', 'org', 'nica'],\n",
              " ['add', 'bill', 'evans', 'motivation', 'mix', 'playlist'],\n",
              " ['add', 'ray', 'noble', 'chill', 'vibes', 'playlist'],\n",
              " ['add', 'track', 'latin', 'jazz'],\n",
              " ['add', 'artist', 'cynthia', 'fresh', 'finds'],\n",
              " ['add', 'giancarlo', 'erra', 'guitar', 'hero', 'live', 'playlist'],\n",
              " ['add', 'tune', 'wine', 'dine', 'playlist'],\n",
              " ['add', 'tune', 'rage', 'radio', 'playlist'],\n",
              " ['add', 'bad', 'news', 'highway', 'playlist'],\n",
              " ['put', 'tune', 'playlist', 'technical', 'brutal', 'death', 'metal'],\n",
              " ['add', 'singer', 'barbara', 'country', 'radio', 'playlists'],\n",
              " ['add', 'tatico', 'henriquez', 'playlist', 'called', 'bleeps', 'bloops'],\n",
              " ['add', 'warpaint', 'pre', 'party', 'list'],\n",
              " ['put', 'artist', 'domingo', 'indie'],\n",
              " ['add', 'ian', 'north', 'autumn', 'lounge', 'playlist'],\n",
              " ['add', 'tune', 'leche', 'con', 'chocolate', 'playlist'],\n",
              " ['add', 'rock', 'games'],\n",
              " ['want',\n",
              "  'add',\n",
              "  'something',\n",
              "  'artist',\n",
              "  'nadine',\n",
              "  'workday',\n",
              "  'pop',\n",
              "  'playlist'],\n",
              " ['add',\n",
              "  'radhae',\n",
              "  'unakku',\n",
              "  'kobam',\n",
              "  'aagathadi',\n",
              "  'women',\n",
              "  'metal',\n",
              "  'playlist'],\n",
              " ['add', 'album', 'classical', 'essentials', 'playlist'],\n",
              " ['add', 'teenager', 'queen', 'playlist'],\n",
              " ['please', 'put', 'artist', 'indie', 'mim', 'playlist'],\n",
              " ['add', 'artist', 'steve', 'cropper', 'rhythm', 'blues'],\n",
              " ['add', 'dean', 'martin', 'track', 'metal', 'xplorer', 'playlist'],\n",
              " ['put', 'song', 'playlist', 'trap', 'land'],\n",
              " ['add', 'natsu', 'natsu', 'mini', 'berryz', 'rock', 'classics', 'playlist'],\n",
              " ['add', 'nyoil', 'prince', 'playlist'],\n",
              " ['add', 'tune', 'list', 'jazz', 'vibes'],\n",
              " ['add', 'sp', 'balasubrahmanyam', 'rockabilly', 'mania', 'playlist'],\n",
              " ['add', 'album', 'playlist'],\n",
              " ['add', 'bob', 'klose', 'la', 'mejor', 'sica', 'para', 'tus', 'fiestas'],\n",
              " ['add', 'song', 'zen', 'focus', 'playlist'],\n",
              " ['add', 'tune', 'hart', 'wand', 'wagner'],\n",
              " ['add', 'da', 'brat', 'track', 'soak', 'sun', 'playlist'],\n",
              " ['add', 'roger', 'nichols', 'punk', 'rock', 'workout'],\n",
              " ['include', 'laarni', 'lozada', 'endorphin', 'rush', 'playlist'],\n",
              " ['add', 'francesco', 'de', 'gregori', 'gayle', 'women', 'dj', 'playlist'],\n",
              " ['add', 'sarah', 'vaughan', 'spa', 'treatment', 'playlist'],\n",
              " ['add', 'third', 'stone', 'sun', 'concentraci', 'n', 'playlist'],\n",
              " ['add', 'artist', 'cho', 'kyu', 'hyun', 'funky', 'jams'],\n",
              " ['want',\n",
              "  'add',\n",
              "  'aprite',\n",
              "  'le',\n",
              "  'finestre',\n",
              "  'playlist',\n",
              "  'entitled',\n",
              "  'earth',\n",
              "  'wind',\n",
              "  'fire'],\n",
              " ['add', 'alexia', 'women', 'classical'],\n",
              " ['put',\n",
              "  'track',\n",
              "  'tony',\n",
              "  'bevilacqua',\n",
              "  'joan',\n",
              "  'playlist',\n",
              "  'title',\n",
              "  'women',\n",
              "  'folk',\n",
              "  'americana'],\n",
              " ['add', 'album', 'throwback', 'party', 'playlist'],\n",
              " ['add', 'nina', 'hagen', 'essential', 'folk'],\n",
              " ['please', 'add', 'secrets', 'alibi', 'playlist', 'called', 'keep', 'calm'],\n",
              " ['add', 'karin', 'dreijer', 'andersson', 'escapada', 'album'],\n",
              " ['add',\n",
              "  'ruth',\n",
              "  'crawford',\n",
              "  'seeger',\n",
              "  'song',\n",
              "  'playlist',\n",
              "  'called',\n",
              "  'soundtrack'],\n",
              " ['add', 'jenifer', 'rock'],\n",
              " ['add', 'josephine', 'wiggs', 'kickass', 'metal', 'playlist'],\n",
              " ['add',\n",
              "  'big',\n",
              "  'mama',\n",
              "  'thornton',\n",
              "  'song',\n",
              "  'cassie',\n",
              "  'punk',\n",
              "  'rock',\n",
              "  'workout',\n",
              "  'playlist'],\n",
              " ['add', 'artist', 'acoustic', 'soul'],\n",
              " ['add',\n",
              "  'name',\n",
              "  'house',\n",
              "  'gold',\n",
              "  'de',\n",
              "  'manhattan',\n",
              "  'con',\n",
              "  'amor',\n",
              "  'playlist'],\n",
              " ['add', 'song', 'everywhere', 'playlist'],\n",
              " ['add', 'tune', 'night', 'playlist'],\n",
              " ['add', 'album', 'party', 'friends'],\n",
              " ['add', 'roy', 'rosana', 'playlist'],\n",
              " ['add', 'transmission', 'found', 'first'],\n",
              " ['songs',\n",
              "  'sing',\n",
              "  'car',\n",
              "  'playlist',\n",
              "  'needs',\n",
              "  'k',\n",
              "  'j',\n",
              "  'yesudas',\n",
              "  'discography'],\n",
              " ['add', 'slave', 'rhythm', 'playlist', 'massive', 'soca', 'hits'],\n",
              " ['add', 'intelligence', 'sacrifice', 'skatepark', 'punks'],\n",
              " ['playlist', 'ok', 'like', 'jazz', 'add', 'tune'],\n",
              " ['add', 'chamberlain', 'waits', 'picnic', 'park'],\n",
              " ['please', 'put', 'track', 'onto', 'todo', 'novedades', 'playlist'],\n",
              " ['add', 'totally', 'stress', 'free', 'bobby', 'lord', 'playlist'],\n",
              " ['add', 'shame', 'masters', 'metal', 'playlist'],\n",
              " ['add', 'cake', 'bake', 'lo', 'que', 'suena', 'new', 'york'],\n",
              " ['add', 'song', 'novedades', 'pop', 'playlist'],\n",
              " ['add',\n",
              "  'something',\n",
              "  'arnett',\n",
              "  'cobb',\n",
              "  'la',\n",
              "  'mejor',\n",
              "  'sica',\n",
              "  'para',\n",
              "  'tus',\n",
              "  'fiestas',\n",
              "  'playlist'],\n",
              " ['add', 'young', 'maylay', 'club', 'hits'],\n",
              " ['put', 'artist', 'folk', 'kids', 'playlist'],\n",
              " ['put', 'track', 'infinite', 'indie', 'folk', 'playlist'],\n",
              " ['add', 'track', 'duetos'],\n",
              " ['add', 'album', 'rosanna', 'ejercicio', 'playlist'],\n",
              " ['want', 'add', 'another', 'album', 'wine', 'dine', 'playlist'],\n",
              " ['add', 'artist', 'novedades', 'pop'],\n",
              " ['add',\n",
              "  'please',\n",
              "  'please',\n",
              "  'please',\n",
              "  'let',\n",
              "  'get',\n",
              "  'want',\n",
              "  'crate',\n",
              "  'diggers',\n",
              "  'anonymous'],\n",
              " ['go', 'cali', 'fire', 'add', 'refrain', 'playlist'],\n",
              " ['add', 'bashful', 'brother', 'oswald', 'love', 'moments'],\n",
              " ['add', 'tune', 'women', 'classical'],\n",
              " ['add', 'pangaea', 'gold', 'edition', 'playlist'],\n",
              " ['add', 'track', 'anne', 'playlist', 'named', 'smile'],\n",
              " ['like', 'new', 'england', 'added', 'classical', 'moments', 'movies'],\n",
              " ['add', 'artist', 'dirty', 'projectors', 'playlist'],\n",
              " ['want',\n",
              "  'add',\n",
              "  'robin',\n",
              "  'hood',\n",
              "  'queen',\n",
              "  'katherine',\n",
              "  'playlist',\n",
              "  'entitled',\n",
              "  'genuine',\n",
              "  'r',\n",
              "  'b'],\n",
              " ['ad', 'known', 'better', 'bb', 'king'],\n",
              " ['add', 'dreamt', 'dragon', 'futuros', 'hits', 'playlist'],\n",
              " ['add', 'hello', 'central', 'give', 'heaven', 'indie', 'pop'],\n",
              " ['add', 'twin', 'peaks', 'fire', 'walk', 'night', 'playlist'],\n",
              " ['add', 'another', 'artist', 'soul', 'bpm', 'playlist'],\n",
              " ['add', 'el', 'noi', 'de', 'la', 'mare', 'new', 'waltz', 'playlist'],\n",
              " ['add', 'matthew', 'helders', 'artist', 'showstopper', 'mary', 'jane'],\n",
              " ['add', 'leah', 'kauffman', 'uncharted', 'nathan', 'drake', 'playlist'],\n",
              " ['add', 'house', 'pain', 'indie', 'playlist'],\n",
              " ['add', 'sweet', 'black', 'angel', 'diarios', 'de', 'bicicleta', 'playlist'],\n",
              " ['add', 'tune', 'playlist', 'ironing'],\n",
              " ['add', 'air', 'mis', 'ni', 'os', 'de', 'playlist'],\n",
              " ['add', 'artist', 'sleep', 'tight'],\n",
              " ['add', 'something', 'snow', 'onto', 'zen', 'focus', 'playlist'],\n",
              " ['add', 'justin', 'mcroberts', 'chopin'],\n",
              " ['put',\n",
              "  'johnny',\n",
              "  'burke',\n",
              "  'onto',\n",
              "  'lo',\n",
              "  'que',\n",
              "  'suena',\n",
              "  'los',\n",
              "  'angeles',\n",
              "  'playlist'],\n",
              " ['add', 'rd', 'world', 'focus'],\n",
              " ['add', 'eric', 'moo', 'women', 'jazz'],\n",
              " ['add', 'track', 'fusion', 'fest'],\n",
              " ['add', 'extended', 'play', 'women', 'lit', 'playlist'],\n",
              " ['please',\n",
              "  'add',\n",
              "  'album',\n",
              "  'playlist',\n",
              "  'titled',\n",
              "  'hip',\n",
              "  'hop',\n",
              "  'new',\n",
              "  'school'],\n",
              " ['add', 'track', 'nike', 'running', 'tempo', 'mix'],\n",
              " ['put', 'song', 'rayvon', 'playlist'],\n",
              " ['add', 'album', 'grandes', 'unplugged'],\n",
              " ['put', 'song', 'rick', 'astley', 'hot', 'playlist'],\n",
              " ['put', 'ron', 'grainer', 'disco', 'fever', 'playlist'],\n",
              " ['add', 'afdlin', 'shauki', 'la', 'mejor', 'sica', 'dance'],\n",
              " ['add', 'song', 'underground', 'hits'],\n",
              " ['add', 'roots', 'outsiders', 'blues', 'roots'],\n",
              " ['put', 'bring', 'onto', 'tokyo', 'rising', 'playlist'],\n",
              " ['add', 'kevin', 'ridel', 'instrumental', 'madness'],\n",
              " ['lea', 'saturday', 'night', 'playlist', 'add', 'name', 'generation'],\n",
              " ['add', 'artist', 'leonard', 'cohen', 'indie', 'brazuca'],\n",
              " ['add', 'norma', 'jean', 'tune', 'soul', 'revived', 'playlist'],\n",
              " ['add', 'song', 'wedding', 'classics', 'playlist'],\n",
              " ['add', 'song', 'roadrunner', 'rec', 'new', 'releases', 'list'],\n",
              " ['add', 'something', 'method', 'man', 'mozart', 'playlist'],\n",
              " ['put', 'pause', 'de', 'fr', 'playlist'],\n",
              " ['add', 'current', 'artist', 'top', 'pop', 'tracks', 'spotify', 'playlist'],\n",
              " ['add', 'jack', 'scott', 'fantas', 'playlist'],\n",
              " ['please',\n",
              "  'put',\n",
              "  'book',\n",
              "  'love',\n",
              "  'ntc',\n",
              "  'high',\n",
              "  'intensity',\n",
              "  'training',\n",
              "  'tracks',\n",
              "  'playlist'],\n",
              " ['add', 'billy', 'strayhorn', 'song', 'selektor', 'playlist'],\n",
              " ['add', 'tune', 'relax', 'unwind', 'playlist'],\n",
              " ['add', 'stephanie', 'biddle', 'digster', 'reggae', 'playlist'],\n",
              " ['add', 'song', 'ian', 'mcdonald', 'instrumental', 'sunday'],\n",
              " ['put', 'track', 'soul', 'bpm', 'playlist'],\n",
              " ['add', 'another', 'mc', 'chris', 'track', 'blues', 'roots', 'playlist'],\n",
              " ['add', 'people', 'take', 'pictures', 'rhythm', 'blues', 'playlist'],\n",
              " ['add', 'song', 'drink', 'water', 'playlist'],\n",
              " ['add', 'git', 'domingo', 'indie'],\n",
              " ['add', 'kaya', 'newest', 'track', 'love', 'r', 'b', 'playlist'],\n",
              " ['find', 'lesley', 'epic', 'classical', 'playlist', 'add', 'tune'],\n",
              " ['please',\n",
              "  'add',\n",
              "  'song',\n",
              "  'sunil',\n",
              "  'santha',\n",
              "  'pre',\n",
              "  'party',\n",
              "  'r',\n",
              "  'b',\n",
              "  'jams',\n",
              "  'list'],\n",
              " ['add', 'andr', 'calamaro', 'milk'],\n",
              " ['add', 'come', 'feel', 'lemonheads', 'salsa', 'classics', 'playlist'],\n",
              " ['track', 'go', 'playlist', 'called', 'beethoven'],\n",
              " ['add', 'live', 'around', 'world', 'crossroad', 'blues'],\n",
              " ['put', 'xiang', 'xiang', 'track', 'onto', 'women', 'blues'],\n",
              " ['add', 'tune', 'natalie', 'macmaster', 'viajes', 'playlist'],\n",
              " ['add', 'kansas', 'city', 'missouri', 'stress', 'relief'],\n",
              " ['add', 'farruko', 'presenta', 'los', 'menores', 'amor', 'amor', 'playlist'],\n",
              " ['add', 'jarvis', 'cocker', 'chillin', 'dirt', 'road', 'playlist'],\n",
              " ['add', 'artist', 'ina', 'smash', 'hits'],\n",
              " ['add', 'another', 'song', 'acoustic', 'soul', 'playlist'],\n",
              " ['put', 'donnie', 'g', 'gorilla', 'classical', 'romance', 'playlist'],\n",
              " ['like', 'put', 'artist', 'evening', 'commute', 'playlist'],\n",
              " ['add', 'sebesky', 'song', 'refugee', 'playlist'],\n",
              " ['add', 'tune', 'reggae', 'infusions'],\n",
              " ['indietronic', 'playlist', 'needs', 'end', 'time', 'added'],\n",
              " ['add', 'current', 'tune', 'rock', 'gaming', 'playlist'],\n",
              " ['add', 'lisa', 'playlist', 'street', 'dance'],\n",
              " ['add', 'album', 'mellow', 'bars'],\n",
              " ['add', 'album', 'list', 'cl', 'sicos', 'de', 'fogata'],\n",
              " ['feel', 'good', 'indie', 'rock', 'playlist', 'needs', 'another', 'song'],\n",
              " ['add', 'barry', 'mcguire', 'playlist', 'called', 'laugh'],\n",
              " ['add', 'tune', 'papa', 'bue', 'xitos', 'espa', 'playlist'],\n",
              " ['add', 'track', 'apostolos', 'nikolaidis', 'luis', 'fonsi', 'playlist'],\n",
              " ['add', 'moye', 'pop', 'playlist'],\n",
              " ['please', 'put', 'artist', 'lo', 'mejor', 'de', 'radio', 'playlist'],\n",
              " ['want', 'put', 'land', 'dead', 'big', 'daddy', 'booze', 'blues', 'playlist'],\n",
              " ['add', 'zombieland', 'noct', 'mbulo', 'playlist'],\n",
              " ['add', 'warm', 'beautiful', 'ironing', 'playlist'],\n",
              " ['add', 'track', 'lo', 'que', 'suena', 'new', 'york', 'playlist'],\n",
              " ['put', 'track', 'synth', 'pop', 'list'],\n",
              " ['add', 'kasey', 'chambers', 'political', 'punks', 'playlist'],\n",
              " ['add', 'track', 'el', 'mejor', 'pop', 'en', 'espa', 'ol', 'playlist'],\n",
              " ['please', 'put', 'track', 'onto', 'letha', 'signed', 'xoxo', 'playlist'],\n",
              " ['add', 'album', 'us', 'latin', 'top', 'palylist'],\n",
              " ['add', 'shake', 'rump', 'concentraci', 'n', 'indie', 'rock', 'playlist'],\n",
              " ['add', 'arthur', 'lee', 'jazz', 'vibes', 'playlist'],\n",
              " ['add',\n",
              "  'priscilla',\n",
              "  'playlist',\n",
              "  'classical',\n",
              "  'dance',\n",
              "  'music',\n",
              "  'ballet',\n",
              "  'beyond'],\n",
              " ['add', 'ghost', 'dance', 'floor', 'autumn', 'lounge', 'playlist'],\n",
              " ['add', 'jonny', 'buckland', 'playlist', 'weekly', 'buzz'],\n",
              " ['include', 'stefanie', 'pre', 'party', 'r', 'b', 'jams'],\n",
              " ['want', 'reggae', 'infusions', 'playlist', 'plaid', 'retina'],\n",
              " ['add', 'artist', 'playlist', 'classic', 'punk'],\n",
              " ['add', 'album', 'holly', 'bandas', 'sonoras', 'playlist'],\n",
              " ['hot', 'house', 'playlist', 'needs', 'another', 'album'],\n",
              " ['add', 'song', 'emmy', 'rossum', 'hit', 'rewind'],\n",
              " ['add', 'tune', 'spinnin', 'records', 'top', 'list'],\n",
              " ['add', 'track', 'playlist', 'hits'],\n",
              " ['add', 'album', 'deathcore', 'playlist'],\n",
              " ['put',\n",
              "  'targeted',\n",
              "  'clapton',\n",
              "  'chronicles',\n",
              "  'best',\n",
              "  'eric',\n",
              "  'clapton',\n",
              "  'playlist'],\n",
              " ['add', 'song', 'classical', 'dance', 'music', 'ballet', 'beyond', 'list'],\n",
              " ['add', 'another', 'song', 'daphne', 'retrowave', 'outrun', 'playlist'],\n",
              " ['add', 'come', 'back', 'jazz', 'loving', 'couples', 'playlist'],\n",
              " ['add', 'track', 'summer', 'love'],\n",
              " ['put', 'frank', 'farian', 'deep', 'dark', 'indie', 'folk', 'playlist'],\n",
              " ['add',\n",
              "  'josefina',\n",
              "  'pla',\n",
              "  'isabelle',\n",
              "  'guest',\n",
              "  'list',\n",
              "  'gamesradar',\n",
              "  'playlist'],\n",
              " ['add', 'man', 'flow', 'espa', 'ol'],\n",
              " ['add', 'album', 'jenifer', 'travelling', 'playlist'],\n",
              " ['add', 'heat', 'night', 'novedades', 'viernes', 'sudam', 'rica', 'playlist'],\n",
              " ['add', 'artist', 'phunkadelic', 'playlist'],\n",
              " ['play', 'elizeth', 'cardoso', 'nothing', 'party', 'r', 'b', 'playlist'],\n",
              " ['put', 'song', 'funk', 'playlist', 'please'],\n",
              " ['add', 'aprite', 'le', 'finestre', 'earth', 'wind', 'fire', 'playlist'],\n",
              " ['put', 'joy', 'division', 'complete', 'bbc', 'recordings', 'hits'],\n",
              " ['please',\n",
              "  'put',\n",
              "  'maimi',\n",
              "  'yajima',\n",
              "  'song',\n",
              "  'onto',\n",
              "  'operaci',\n",
              "  'n',\n",
              "  'bikini'],\n",
              " ['add', 'eviatar', 'banai', 'album', 'tgif', 'playlist'],\n",
              " ['add',\n",
              "  'ragged',\n",
              "  'curtain',\n",
              "  'onto',\n",
              "  'playlist',\n",
              "  'called',\n",
              "  'party',\n",
              "  'decades'],\n",
              " ['add', 'joey', 'fatone', 'spotlight', 'country', 'playlist'],\n",
              " ['add', 'tune', 'bandas', 'sonoras'],\n",
              " ['add', 'first', 'issue', 'favorite', 'slaughterhouse', 'playlist'],\n",
              " ['add', 'natasha', 'things', 'post', 'playlist'],\n",
              " ['add', 'another', 'album', 'pavarotti', 'playlist'],\n",
              " ['add', 'erik', 'santos', 'playlist', 'metal', 'xplorer'],\n",
              " ['add', 'artist', 'trance', 'life', 'group'],\n",
              " ['add', 'name', 'gladness', 'men', 'old', 'ultimate', 'playlist'],\n",
              " ['add', 'child', 'dark', 'dance', 'floors'],\n",
              " ['put', 'jiro', 'cl', 'sicos', 'del', 'hip', 'hop', 'espa', 'ol', 'playlist'],\n",
              " ['add', 'tune', 'fresh', 'finds', 'hiptronix', 'playlist'],\n",
              " ['add', 'already', 'pt', 'hip', 'hop', 'new', 'school'],\n",
              " ['add', 'song', 'charlie', 'hunter', 'rumba'],\n",
              " ['need', 'another', 'artist', 'rom', 'ntica', 'playlist'],\n",
              " ['add', 'jacob', 'hoggard', 'get', 'going', 'playlist'],\n",
              " ['put', 'jazzy', 'b', 'lazy', 'chill', 'afternoon', 'playlist'],\n",
              " ['dubstep', 'dangles', 'dirty', 'playlist', 'needs', 'digital', 'montreux'],\n",
              " ['add', 'tune', 'cl', 'sicos', 'del', 'hip', 'hop', 'espa', 'ol'],\n",
              " ['add', 'dark', 'days', 'paradise', 'gym', 'playlist'],\n",
              " ['put', 'album', 'wine', 'dine', 'playlist'],\n",
              " ['add', 'tune', 'nusic'],\n",
              " ['add', 'iemand', 'als', 'jij', 'playlist', 'named', 'name', 'blues'],\n",
              " ['add',\n",
              "  'album',\n",
              "  'richard',\n",
              "  'hell',\n",
              "  'arlene',\n",
              "  'playlist',\n",
              "  'named',\n",
              "  'miami',\n",
              "  'guest',\n",
              "  'list'],\n",
              " ['add', 'track', 'comedy', 'new', 'releases'],\n",
              " ['minute',\n",
              "  'technicolor',\n",
              "  'dream',\n",
              "  'added',\n",
              "  'meredith',\n",
              "  'cierra',\n",
              "  'la',\n",
              "  'puerta',\n",
              "  'playlist'],\n",
              " ['add', 'artist', 'jazz', 'playlist'],\n",
              " ['add', 'new', 'wave', 'blues', 'push', 'button', 'funk', 'playlist'],\n",
              " ['put', 'mike', 'mccready', 'kitchen', 'swagger', 'playlist'],\n",
              " ['add', 'song', 'randy', 'rhoads', 'cl', 'sicos', 'playlist'],\n",
              " ['add', 'pledge', 'allegiance', 'grind', 'sinfon', 'hipster', 'playlist'],\n",
              " ['add', 'ultimatum', 'crash', 'course', 'playlist'],\n",
              " ['add', 'another', 'track', 'women', 'latin', 'music', 'playlist'],\n",
              " ['add', 'andy', 'hurley', 'album', 'transatlantic', 'lullaby', 'list'],\n",
              " ['add', 'artist', 'playlist', 'named', 'funtime'],\n",
              " ['add', 'song', 'list', 'called', 'birth', 'cool'],\n",
              " ['add', 'nozomi', 'tsuji', 'tune', 'hot', 'house', 'playlist'],\n",
              " ['add', 'alexandra', 'govere', 'anochecer', 'urbano', 'playlist'],\n",
              " ['add', 'track', 'hands', 'playlist'],\n",
              " ['add',\n",
              "  'metal',\n",
              "  'gear',\n",
              "  'solid',\n",
              "  'sons',\n",
              "  'liberty',\n",
              "  'soundtrack',\n",
              "  'side',\n",
              "  'edna',\n",
              "  'st',\n",
              "  'vincent',\n",
              "  'millay'],\n",
              " ['add', 'another', 'album', 'keep', 'calm', 'playlist'],\n",
              " ['include', 'brandon', 'paris', 'metalsucks', 'playlist'],\n",
              " ['add', 'artist', 'showstopper', 'mary', 'jane'],\n",
              " ['add', 'apathy', 'electro', 'sur', 'playlist'],\n",
              " ['add', 'ch', 'r', 'still', 'got', 'blues', 'playlist'],\n",
              " ['add', 'track', 'rock', 'hard', 'playlist'],\n",
              " ['put', 'tire', 'onto', 'new', 'music', 'friday', 'latin', 'playlist'],\n",
              " ['add', 'gackt', 'camui', 'track', 'white', 'noise', 'playlist'],\n",
              " ['want',\n",
              "  'add',\n",
              "  'un',\n",
              "  'jour',\n",
              "  'dans',\n",
              "  'notre',\n",
              "  'vie',\n",
              "  'list',\n",
              "  'running',\n",
              "  'rock',\n",
              "  'bpm'],\n",
              " ['put', 'al', 'jarreau', 'concentraci', 'n', 'playlist'],\n",
              " ['add', 'song', 'pure', 'rock', 'roll'],\n",
              " ['add', 'track', 'punk', 'essentials'],\n",
              " ['add', 'man', 'never', 'lied', 'current', 'comedy', 'top', 'tracks'],\n",
              " ['add',\n",
              "  'morton',\n",
              "  'feldman',\n",
              "  'piano',\n",
              "  'string',\n",
              "  'quartet',\n",
              "  'global',\n",
              "  'funk',\n",
              "  'playlist'],\n",
              " ['add', 'perfect', 'sense', 'part', 'women', 'classical', 'list'],\n",
              " ['add', 'song', 'marta', 'endorphin', 'rush', 'playlist'],\n",
              " ['add', 'rumba', 'playlist', 'song', 'haley', 'scarnato'],\n",
              " ['add', 'louis', 'nelson', 'delisle', 'pulse', 'americana'],\n",
              " ['add', 'janie', 'jones', 'indie', 'pop'],\n",
              " ['play', 'rock', 'playlist', 'badonviller', 'marsch'],\n",
              " ['ad', 'track', 'isobel', 'campbell', 'folk', 'kids', 'list'],\n",
              " ['add', 'tune', 'post', 'metal', 'playlist'],\n",
              " ['add', 'garry', 'shider', 'album', 'classical', 'essentials'],\n",
              " ['add', 'shi', 'xin', 'hui', 'piano', 'chill', 'playlist'],\n",
              " ['add', 'fabri', 'fibra', 'birth', 'cool'],\n",
              " ['add', 'gary', 'lachman', 'track', 'jazz', 'loving', 'couples', 'playlist'],\n",
              " ['want', 'another', 'artist', 'atmospheric', 'black', 'metal', 'playlist'],\n",
              " ['add', 'track', 'punk', 'rock', 'workout'],\n",
              " ['add', 'beijing', 'huanying', 'ni', 'workday', 'lounge', 'playlist'],\n",
              " ['add', 'dj', 'clay', 'canciones', 'del', 'recuerdo'],\n",
              " ['want', 'add', 'kiara', 'digster', 'future', 'hits', 'playlist'],\n",
              " ['add', 'tune', 'cassie', 'ventura', 'genre', 'bender', 'playlist'],\n",
              " ['put', 'hampartsoum', 'limondjian', 'running', 'rock', 'bpm'],\n",
              " ['put',\n",
              "  'king',\n",
              "  'america',\n",
              "  'onto',\n",
              "  'playlist',\n",
              "  'title',\n",
              "  'sudden',\n",
              "  'rainstorm'],\n",
              " ['add', 'back', 'porch', 'spirituals', 'hit', 'remix', 'playlist'],\n",
              " ['add', 'tinker', 'tailor', 'playlist', 'titled', 'trey', 'songz'],\n",
              " ['put', 'sleeping', 'ghosts', 'indie', 'playlist'],\n",
              " ['add', 'album', 'party', 'friends'],\n",
              " ['add', 'crying', 'waiting', 'hoping', 'weekly', 'buzz', 'playlist'],\n",
              " ['add', 'tune', 'hot'],\n",
              " ['add', 'jason', 'webley', 'classical', 'intimate', 'dinner', 'playlist'],\n",
              " ['add', 'track', 'peaceful', 'piano'],\n",
              " ['add', 'current', 'tune', 'evening', 'groove', 'list'],\n",
              " ['add', 'john', 'tesh', 'tune', 'friendesemana', 'playlist'],\n",
              " ['add', 'album', 'women', 'hip', 'hop'],\n",
              " ['add', 'chirping', 'crickets', 'mellowed', 'gaming', 'playlist'],\n",
              " ['put',\n",
              "  'album',\n",
              "  'mohammad',\n",
              "  'reza',\n",
              "  'shadjarian',\n",
              "  'chillin',\n",
              "  'dirt',\n",
              "  'road',\n",
              "  'playlist'],\n",
              " ['add', 'tunnel', 'rats', 'rhythm', 'blues', 'playlist'],\n",
              " ['add', 'song', 'top', 'country', 'tracks', 'spotify'],\n",
              " ['add', 'mary', 'fahl', 'tune', 'pre', 'party', 'r', 'b', 'jams', 'playlist'],\n",
              " ['please', 'put', 'tune', 'irish', 'folk', 'jigs', 'reels', 'playlist'],\n",
              " ['put', 'sonntagskind', 'onto', 'playlist', 'called', 'soulful', 'disco'],\n",
              " ['add', 'nazad', 'nazad', 'kalino', 'mome', 'escapada'],\n",
              " ['add', 'hands', 'travelling', 'playlist'],\n",
              " ['add', 'back', 'dancefloor', 'bajo', 'las', 'estrellas', 'playlist'],\n",
              " ['add', 'munawar', 'ali', 'khan', 'mujeres', 'hombres', 'fiesta'],\n",
              " ['add', 'maggie', 'mcgill', 'night', 'vibes'],\n",
              " ['add', 'artist', 'emotron', 'playlist'],\n",
              " ['add', 'suffer', 'little', 'children', 'racionais', 'mc', 'playlist'],\n",
              " ['add', 'jermaine', 'fagan', 'spring', 'music'],\n",
              " ['include', 'golden', 'boy', 'pop', 'dance'],\n",
              " ['put', 'dave', 'abbruzzese', 'tune', 'family', 'road', 'trip'],\n",
              " ['add', 'knocked', 'loaded', 'spring', 'vibes', 'playlist'],\n",
              " ['add',\n",
              "  'even',\n",
              "  'serpents',\n",
              "  'shine',\n",
              "  'dorothea',\n",
              "  'indie',\n",
              "  'hipster',\n",
              "  'playlist'],\n",
              " ['add', 'madlib', 'invazion', 'prog', 'rock', 'monsters', 'list'],\n",
              " ['add', 'bone', 'crusher', 'chill', 'playlist'],\n",
              " ['add', 'artist', 'post', 'grunge', 'playlist'],\n",
              " ['add', 'geschwisterliebe', 'string', 'theory', 'playlist'],\n",
              " ['add', 'iene', 'miene', 'mutte', 'women', 'r', 'b', 'playlist'],\n",
              " ['add',\n",
              "  'track',\n",
              "  'del',\n",
              "  'tha',\n",
              "  'funkee',\n",
              "  'homosapien',\n",
              "  'playlist',\n",
              "  'songs',\n",
              "  'parents'],\n",
              " ['want', 'tune', 'necessary', 'playlist'],\n",
              " ['incorporate',\n",
              "  'ayumi',\n",
              "  'hamasaki',\n",
              "  'arena',\n",
              "  'tour',\n",
              "  'next',\n",
              "  'level',\n",
              "  'sica',\n",
              "  'libre',\n",
              "  'playlist'],\n",
              " ['add', 'roc', 'executioner', 'zez', 'di', 'camargo', 'luciano', 'playlist'],\n",
              " ['add', 'nothing', 'stop', 'us', 'lazy', 'chill', 'afternoon', 'playlist'],\n",
              " ['put',\n",
              "  'frank',\n",
              "  'farian',\n",
              "  'lydia',\n",
              "  'playlist',\n",
              "  'called',\n",
              "  'black',\n",
              "  'power',\n",
              "  'mixtape'],\n",
              " ['put', 'album', 'onto', 'cierra', 'la', 'puerta'],\n",
              " ['add', 'hanging', 'dance', 'aftercluv', 'playlist'],\n",
              " ['add', 'tune', 'para', 'comer'],\n",
              " ['put', 'journey', 'love', 'onto', 'hip', 'hop', 'new', 'school'],\n",
              " ['trapaholics', 'needs', 'another', 'artist', 'added'],\n",
              " ['add', 'wing', 'track', 'cappella'],\n",
              " ['add', 'paul', 'wickens', 'lo', 'mejor', 'del', 'rock', 'de', 'espa'],\n",
              " ['put', 'album', 'dubstep', 'dangles', 'dirty', 'playlist'],\n",
              " ['put', 'dschiwan', 'gasparjan', 'cool', 'playlist'],\n",
              " ['add', 'artist', 'working', 'day'],\n",
              " ['please', 'add', 'artist', 'zen', 'focus', 'playlist'],\n",
              " ['add', 'track', 'bg', 'knocc', 'rapcaviar', 'playlist'],\n",
              " ['add',\n",
              "  'name',\n",
              "  'x',\n",
              "  'forza',\n",
              "  'e',\n",
              "  'x',\n",
              "  'amore',\n",
              "  'playlist',\n",
              "  'musica',\n",
              "  'espa',\n",
              "  'ola'],\n",
              " ['want', 'move', 'album', 'selektor', 'playlist'],\n",
              " ['add', 'tolmatschowa', 'schwestern', 'street', 'dance', 'playlist'],\n",
              " ['add', 'artist', 'metal', 'playlist'],\n",
              " ['add', 'frank', 'beard', 'song', 'soft', 'pop', 'hits', 'playlist'],\n",
              " ['add', 'song', 'trap', 'land'],\n",
              " ['want',\n",
              "  'want',\n",
              "  'build',\n",
              "  'snowman',\n",
              "  'hip',\n",
              "  'hop',\n",
              "  'new',\n",
              "  'school',\n",
              "  'playlist'],\n",
              " ['add', 'album', 'mediod', 'ac', 'stico', 'playlist'],\n",
              " ['add', 'time', 'flies', 'jazzy', 'romance', 'playlist'],\n",
              " ['please',\n",
              "  'put',\n",
              "  'david',\n",
              "  'van',\n",
              "  'tieghem',\n",
              "  'onto',\n",
              "  'throwback',\n",
              "  'party',\n",
              "  'playlist'],\n",
              " ['add', 'lisa', 'dalbello', 'cma', 'awards', 'nominees', 'list'],\n",
              " ['want',\n",
              "  'add',\n",
              "  'currently',\n",
              "  'playing',\n",
              "  'generation',\n",
              "  'playlist',\n",
              "  'called',\n",
              "  'funtime',\n",
              "  'activity'],\n",
              " ['want', 'add', 'hind', 'etin', 'la', 'mejor', 'sica', 'dance', 'playlist'],\n",
              " ['add', 'artist', 'gwenno', 'pipette', 'sexy', 'folk', 'playlist'],\n",
              " ['add', 'song', 'soundscapes', 'gaming', 'playlist'],\n",
              " ['add', 'night', 'day', 'lazy', 'chill', 'afternoon', 'playlist'],\n",
              " ['add', 'song', 'metal', 'playlist'],\n",
              " ['put', 'l', 'lloyd', 'gaming', 'anthems'],\n",
              " ['add', 'fuzzy', 'logic', 'latin', 'dinner'],\n",
              " ['add', 'artist', 'southern', 'gothic', 'playlist'],\n",
              " ['put', 'unbound', 'found', 'first'],\n",
              " ['kevin', 'johansen', 'playlist', 'needs', 'lamb', 'lies', 'broadway'],\n",
              " ['add', 'michael', 'hayvoronsky', 'lo', 'que', 'suena', 'los', 'angeles'],\n",
              " ['want', 'album', 'indie', 'alternativa', 'playlist'],\n",
              " ['add', 'tune', 'morning', 'rhythm', 'playlist'],\n",
              " ['please', 'add', 'george', 'nooks', 'electronow', 'playlist'],\n",
              " ['put', 'another', 'artist', 'opera', 'spotify', 'picks', 'playlist'],\n",
              " ['put', 'song', 'ntc', 'high', 'intensity', 'training', 'tracks', 'playlist'],\n",
              " ['add', 'tapper', 'zukie', 'playlist'],\n",
              " ['add', 'tarja', 'turunen', 'lo', 'mejor', 'de', 'radio', 'playlist'],\n",
              " ['add', 'track', 'evening', 'commute', 'playlist'],\n",
              " ['add', 'artist', 'piano', 'chill'],\n",
              " ['put',\n",
              "  'tony',\n",
              "  'rombola',\n",
              "  'novedades',\n",
              "  'viernes',\n",
              "  'sudam',\n",
              "  'rica',\n",
              "  'playlist'],\n",
              " ['add', 'curious', 'corn', 'wild', 'free', 'workout'],\n",
              " ['add', 'track', 'playlist', 'title', 'showstopper', 'mary', 'jane'],\n",
              " ['add', 'song', 'clarice', 'latino', 'caliente', 'playlist'],\n",
              " ['add', 'song', 'dub', 'beach', 'playlist'],\n",
              " ['add', 'name', 'rhythm', 'chill', 'music'],\n",
              " ['add', 'artist', 'metal', 'party'],\n",
              " ['add', 'rebirth', 'kirk', 'franklin', 'fiesta', 'playlist'],\n",
              " ['add', 'jovanotti', 'punk', 'espa', 'ol'],\n",
              " ['add', 'tune', 'harry', 'connick', 'jr', 'jazz', 'brasileiro', 'playlist'],\n",
              " ['add', 'diarios', 'de', 'bicicleta', 'la', 'la', 'playlist'],\n",
              " ['add', 'psycho', 'canciones', 'que', 'lo', 'van', 'petar'],\n",
              " ['add',\n",
              "  'love',\n",
              "  'story',\n",
              "  'wa',\n",
              "  'totsuzen',\n",
              "  'ni',\n",
              "  'martin',\n",
              "  'garrix',\n",
              "  'show',\n",
              "  'playlist'],\n",
              " ['add',\n",
              "  'piece',\n",
              "  'spotify',\n",
              "  'orchestra',\n",
              "  'cello',\n",
              "  'playlist',\n",
              "  'colors',\n",
              "  'wind'],\n",
              " ['add', 'randy', 'travis', 'song', 'deep', 'dark', 'indie', 'folk'],\n",
              " ['add', 'track', 'playlist', 'ok', 'like', 'jazz'],\n",
              " ['add', 'lbc', 'crew', 'tune', 'rock', 'argentino', 'vol', 'playlist'],\n",
              " ['add', 'sheila', 'e', 'love', 'neo', 'soul', 'playlist'],\n",
              " ['put',\n",
              "  'artist',\n",
              "  'paulinho',\n",
              "  'da',\n",
              "  'costa',\n",
              "  'nearly',\n",
              "  'nashville',\n",
              "  'playlist'],\n",
              " ['add', 'stephanie', 'mcintosh', 'love', 'hip', 'hop', 'playlist'],\n",
              " ['add', 'shelby', 'lynne', 'playlist', 'luis', 'fonsi'],\n",
              " ['add', 'odd', 'future', 'songs', 'club', 'hits', 'playlist'],\n",
              " ['add', 'lunacy', 'chill', 'playlist'],\n",
              " ['please', 'add', 'track', 'jeff', 'mills', 'hiphop', 'hot', 'playlist'],\n",
              " ['add', 'song', 'onto', 'playlist', 'entitled', 'chill'],\n",
              " ['add', 'falcon', 'top', 'tracks', 'metal', 'playlist'],\n",
              " ['add', 'pop', 'tarts', 'astor', 'piazzolla', 'playlist'],\n",
              " ['add', 'track', 'morning', 'classical'],\n",
              " ['add', 'tony', 'kakko', 'music', 'street', 'dance', 'playlist'],\n",
              " ['add', 'tune', 'rockabilly', 'mania'],\n",
              " ['add', 'manuelita', 'la', 'tortuga', 'nuestros', 'playlist'],\n",
              " ['add', 'album', 'rock', 'en', 'espa', 'ol'],\n",
              " ['like', 'add', 'whole', 'album', 'selektor'],\n",
              " ['add', 'beverley', 'knight', 'mellow', 'beats', 'playlist'],\n",
              " ['add', 'espen', 'lind', 'song', 'list', 'lo', 'que', 'suena', 'new', 'york'],\n",
              " ['add', 'album', 'french', 'n', 'heavy', 'list'],\n",
              " ['add', 'sveta', 'ljubav', 'metal', 'party', 'playlist'],\n",
              " ['add', 'song', 'pre', 'party', 'playlist'],\n",
              " ['add', 'track', 'alternative', 'route'],\n",
              " ['add', 'track', 'bt', 'independent', 'music', 'monday', 'playlist'],\n",
              " ['add', 'tune', 'leena', 'peisa', 'amor', 'amor', 'playlist'],\n",
              " ['add', 'tune', 'morning', 'commute'],\n",
              " ['add', 'song', 'wild', 'country', 'playlist'],\n",
              " ['want', 'fusil', 'contra', 'fusil', 'added', 'dance', 'hits', 'playlist'],\n",
              " ['want', 'add', 'tune', 'wheesung', 'queen', 'list'],\n",
              " ['add', 'tune', 'jazzy', 'romance', 'playlist'],\n",
              " ['add', 'j', 'r', 'rotem', 'classic', 'jazz', 'singers', 'playlist'],\n",
              " ['add', 'chen', 'jiafeng', 'ultimate'],\n",
              " ['put', 'album', 'max', 'richter', 'rosana', 'playlist'],\n",
              " ['need',\n",
              "  'pat',\n",
              "  'alger',\n",
              "  'album',\n",
              "  'placed',\n",
              "  'onto',\n",
              "  'spotlight',\n",
              "  'spain',\n",
              "  'playlist'],\n",
              " ['add', 'prejudice', 'indie'],\n",
              " ['add', 'artist', 'cadas', 'playlist'],\n",
              " ['put', 'dj', 'green', 'lantern', 'targeted', 'playlist'],\n",
              " ['want', 'tanya', 'stephens', 'soul', 'classics', 'playlist'],\n",
              " ['add', 'track', 'dance', 'workout', 'playlist'],\n",
              " ['add', 'butterfly', 'house', 'nu', 'metal'],\n",
              " ['add', 'belgian', 'rose', 'evening', 'list'],\n",
              " ['add', 'album', 'virales', 'de', 'siempre'],\n",
              " ['add', 'album', 'pop', 'playlist'],\n",
              " ['add', 'thomas', 'dorsey', 'big', 'band'],\n",
              " ['add', 'teddy', 'boy', 'irish', 'folk', 'jigs', 'reels', 'playlist'],\n",
              " ['add', 'track', 'party', 'playlist'],\n",
              " ['add', 'guy', 'guy', 'infinite', 'indie', 'folk', 'playlist'],\n",
              " ['add',\n",
              "  'nightmares',\n",
              "  'surface',\n",
              "  'shallow',\n",
              "  'sleep',\n",
              "  'michael',\n",
              "  'rock',\n",
              "  'solid',\n",
              "  'playlist'],\n",
              " ['want', 'another', 'song', 'rock', 'espa', 'ol', 'playlist'],\n",
              " ['want', 'add', 'song', 'jazz', 'brasileiro'],\n",
              " ['add', 'ronski', 'speed', 'sweet', 'soul', 'chillout'],\n",
              " ['put', 'another', 'song', 'cloud', 'rap', 'playlist'],\n",
              " ['put', 'robbie', 'robertson', 'chill', 'playlist'],\n",
              " ['want', 'artist', 'cena', 'elegante', 'playlist'],\n",
              " ['add', 'jon', 'mclaughlin', 'forever', 'country', 'playlist'],\n",
              " ['want', 'put', 'sons', 'sea', 'pulse', 'americana', 'playlist'],\n",
              " ['play', 'disco', 'tango', 'power', 'walk'],\n",
              " ['playlist', 'chill', 'add', 'name', 'cater', 'fe'],\n",
              " ['add', 'track', 'zez', 'di', 'camargo', 'luciano', 'playlist'],\n",
              " ['add',\n",
              "  'put',\n",
              "  'hand',\n",
              "  'inside',\n",
              "  'puppet',\n",
              "  'head',\n",
              "  'playlist',\n",
              "  'named',\n",
              "  'lazy',\n",
              "  'chill',\n",
              "  'afternoon'],\n",
              " ['add', 'little', 'house', 'built', 'onto', 'mucho', 'rap'],\n",
              " ['add', 'track', 'rapcaviar'],\n",
              " ['add', 'artist', 'fabri', 'fibra', 'earth', 'wind', 'fire'],\n",
              " ['add', 'song', 'top', 'indie', 'tracks', 'spotify', 'playlist'],\n",
              " ['put', 'album', 'shuffle', 'syndrome'],\n",
              " ['add', 'song', 'playlist', 'black', 'history', 'salute'],\n",
              " ['put', 'eulogy', 'onto', 'acoustic', 'blues'],\n",
              " ['want',\n",
              "  'send',\n",
              "  'music',\n",
              "  'ann',\n",
              "  'lists',\n",
              "  'sir',\n",
              "  'john',\n",
              "  'winston',\n",
              "  'ono',\n",
              "  'lennon',\n",
              "  'put',\n",
              "  'infinite',\n",
              "  'indie',\n",
              "  'folk',\n",
              "  'list'],\n",
              " ['want', 'add', 'nick', 'mason', 'tune', 'sylvia', 'plath', 'playlist'],\n",
              " ['add', 'saxophone', 'supremacy', 'ofelia', 'calm', 'storm', 'playlist'],\n",
              " ['add', 'nothing', 'like', 'dame', 'playlist', 'guest', 'list', 'take'],\n",
              " ['add', 'big', 'bill', 'broonzy', 'impulso', 'creativo'],\n",
              " ['add', 'album', 'piano', 'ballads'],\n",
              " ['put', 'glenn', 'stetson', 'daily', 'routine', 'playlis'],\n",
              " ['add', 'tune', 'electro', 'workout'],\n",
              " ['add', 'bright', 'breezy', 'gucci', 'mane', 'playlist'],\n",
              " ['would', 'like', 'song', 'added', 'princesas', 'indie', 'playlist'],\n",
              " ['add',\n",
              "  'artist',\n",
              "  'michael',\n",
              "  'schenker',\n",
              "  'ina',\n",
              "  'jennifer',\n",
              "  'lopez',\n",
              "  'playlist'],\n",
              " ['add', 'artist', 'joseph', 'meyer', 'mad', 'cool', 'festival', 'playlist'],\n",
              " ['put',\n",
              "  'transatlantic',\n",
              "  'lullaby',\n",
              "  'sharlene',\n",
              "  'napoleon',\n",
              "  'xiv',\n",
              "  'playlist'],\n",
              " ['add', 'rakim', 'ken', 'gold', 'edition', 'playlist'],\n",
              " ['add', 'artist', 'pop', 'punk', 'dead'],\n",
              " ['add', 'artist', 'primavera', 'sound', 'barcelona'],\n",
              " ['add', 'entire', 'album', 'indie', 'espa', 'ol'],\n",
              " ['add', 'track', 'gold', 'edition', 'playlist'],\n",
              " ['add', 'artist', 'borys', 'ljatoschynskyj', 'surface', 'playlist'],\n",
              " ['add', 'john', 'tesh', 'salsa', 'classics', 'playlist'],\n",
              " ['add', 'another', 'song', 'keys', 'playlist'],\n",
              " ['add', 'artist', 'jill', 'vidal', 'sinfon', 'hipster', 'playlist'],\n",
              " ['want', 'add', 'mark', 'boston', 'power', 'walk', 'list'],\n",
              " ['put', 'sita', 'bettie', 'global', 'funk', 'playlist'],\n",
              " ['add', 'lari', 'white', 'song', 'soulful', 'disco', 'playlist'],\n",
              " ['add', 'gregory', 'douglass', 'whm', 'list'],\n",
              " ['add', 'go', 'metalsucks', 'playlist'],\n",
              " ['add', 'track', 'novedades', 'viernes', 'sudam', 'rica'],\n",
              " ['add', 'javine', 'hylton', 'evening', 'playlist'],\n",
              " ['add', 'tune', 'heavy', 'gamer', 'playlist'],\n",
              " ['playlist', 'jazzy', 'dinner', 'add', 'name', 'kick', 'traces'],\n",
              " ['add', 'tune', 'genuine', 'r', 'b'],\n",
              " ['add', 'mike', 'mantler', 'playlist', 'girls', 'night'],\n",
              " ['put', 'tune', 'get', 'mind', 'right', 'playlist'],\n",
              " ['please', 'include', 'emily', 'remler', 'indie', 'bluegrass'],\n",
              " ['want', 'put', 'roberto', 'valverde', 'ultra', 'metal', 'list'],\n",
              " ['add', 'john', 'brown', 'dinnertime', 'acoustics'],\n",
              " ['add', 'track'],\n",
              " ['add', 'laundry', 'playlist', 'song'],\n",
              " ['add', 'troy', 'andrews', 'pop', 'punk', 'powerhouses'],\n",
              " ['put', 'frederick', 'knight', 'track', 'midnight', 'hour', 'playlist'],\n",
              " ['add', 'marching', 'band', 'miami', 'guest', 'list'],\n",
              " ['add', 'album', 'forever', 'country', 'playlist'],\n",
              " ['add', 'bedroom', 'jams', 'album'],\n",
              " ['add', 'almost', 'lost', 'mind', 'bossa', 'nova', 'dinner', 'playlist'],\n",
              " ['playlist', 'running', 'power', 'add', 'name', 'best', 'yet', 'come'],\n",
              " ['add', 'essential', 'jacksons', 'perfect', 'concentration'],\n",
              " ['add', 'abrar', 'ul', 'haq', 'track', 'playlist', 'soul', 'lounge'],\n",
              " ['put', 'album', 'conexiones', 'list'],\n",
              " ['put', 'kids', 'black', 'hole', 'onto', 'por', 'siempre', 'playlist'],\n",
              " ['add', 'judge', 'jules', 'instrumental', 'study'],\n",
              " ['add',\n",
              "  'ila',\n",
              "  'playlist',\n",
              "  'mi',\n",
              "  'manera',\n",
              "  'recopilatorio',\n",
              "  'name',\n",
              "  'heart',\n",
              "  'stood',\n",
              "  'still'],\n",
              " ['add', 'tune', 'marc', 'anthony', 'playlist'],\n",
              " ['add', 'histoires', 'sans', 'paroles', 'women', 'k', 'pop', 'list'],\n",
              " ['want', 'add', 'george', 'formby', 'jr', 'family', 'favorites', 'playlist'],\n",
              " ['add', 'adele', 'onto', 'funtime', 'activity', 'playlist'],\n",
              " ['add', 'another', 'tune', 'trance', 'life', 'playlist'],\n",
              " ['please', 'add', 'iris', 'dement', 'playlist', 'selena'],\n",
              " ['add', 'another', 'tune', 'pumping', 'iron', 'playlist'],\n",
              " ['add', 'album', 'sheri', 'playlist', 'journey'],\n",
              " ['add', 'artist', 'disco', 'fever', 'playlist'],\n",
              " ['add', 'artist', 'tom', 'cochrane', 'new', 'york', 'groove'],\n",
              " ['add', 'sabrina', 'salerno', 'grime', 'instrumentals', 'playlist'],\n",
              " ['add', 'playlist', 'confidence', 'boost', 'comes', 'santa', 'claus'],\n",
              " ['add', 'deus', 'deceptor', 'dance', 'workout'],\n",
              " ['add', 'tom', 'thacker', 'tune', 'rock', 'classics'],\n",
              " ['place', 'raise', 'fist', 'onto', 'year', 'metal'],\n",
              " ['add', 'artist', 'spring', 'music'],\n",
              " ['add', 'kloden', 'drejer', 'listas', 'de', 'xitos', 'playlist'],\n",
              " ['add',\n",
              "  'marianne',\n",
              "  'faithfull',\n",
              "  'june',\n",
              "  'hillary',\n",
              "  'clinton',\n",
              "  'women',\n",
              "  'history',\n",
              "  'month',\n",
              "  'playlist'],\n",
              " ['add', 'another', 'track', 'catch', 'em', 'playlist'],\n",
              " ['add', 'omoide', 'wa', 'okkusenman', 'instrumental', 'sunday'],\n",
              " ['add', 'track', 'classical', 'feast', 'playlist'],\n",
              " ['add', 'sam', 'moore', 'lo', 'mejor', 'de', 'los'],\n",
              " ['add', 'tune', 'john', 'williams', 'playlist'],\n",
              " ['please', 'put', 'album', 'joseph', 'meyer', 'pop', 'goes', 'playlist'],\n",
              " ['add', 'ojuelegba', 'trabajo', 'ritmos', 'dance'],\n",
              " ['include', 'kunnon', 'syy', 'trap', 'land', 'playlist'],\n",
              " ['put', 'inyecci', 'n', 'musical', 'track', 'nanette', 'playlist'],\n",
              " ['want', 'add', 'tune', 'damon', 'johnson', 'frescura', 'indie', 'playlist'],\n",
              " ['add', 'puzzles', 'like', 'playlist', 'reggae'],\n",
              " ['add', 'xsuie', 'favorite', 'coffeehouse'],\n",
              " ['add', 'tsubasa', 'imai', 'another', 'glass', 'playlist'],\n",
              " ['add', 'artist', 'guilty', 'pleasures', 'playlist'],\n",
              " ['add', 'heresy', 'hotel', 'choir', 'evening', 'acoustic', 'playlist'],\n",
              " ['add', 'singing', 'trees', 'rena', 'lo', 'mejor', 'de', 'radio', 'playlist'],\n",
              " ['include', 'jesper', 'kyd', 'grime', 'instrumentals', 'playlist'],\n",
              " ['add', 'devil', 'pray', 'party', 'list'],\n",
              " ['add', 'ivan', 'mane', 'jarnowick', 'fusion', 'fest'],\n",
              " ['add', 'jacob', 'miller', 'album', 'hardcore', 'punk', 'playlist'],\n",
              " ['add', 'jamaica', 'say', 'metal'],\n",
              " ['add', 'shooter', 'jennings', 'playlist'],\n",
              " ['sleep', 'machine', 'rainforest', 'playlist', 'needs', 'another', 'tune'],\n",
              " ['add', 'joan', 'wasser', 'running', 'playlist'],\n",
              " ['add', 'seek', 'destroy', 'sin', 'ti', 'playlist'],\n",
              " ['add', 'artist', 'matt', 'noveskey', 'journey'],\n",
              " ['add', 'sara', 'carter', 'nothing', 'party', 'r', 'b'],\n",
              " ['want',\n",
              "  'novena',\n",
              "  'nocturn',\n",
              "  'added',\n",
              "  'playlist',\n",
              "  'called',\n",
              "  'gold',\n",
              "  'edition'],\n",
              " ['add', 'count', 'von', 'cosels', 'obsession', 'jazzy', 'romance'],\n",
              " ['please', 'add', 'rex', 'griffin', 'tune', 'steampunk', 'playlist'],\n",
              " ['marcia', 'carolus', 'rex', 'get', 'added', 'women', 'sxsw', 'playlist'],\n",
              " ['add', 'album', 'reno', 'playlist', 'named', 'indiespain'],\n",
              " ['crossfit', 'playlist', 'add', 'soul', 'sessions', 'volume'],\n",
              " ['add', 'camille', 'lady', 'antebellum', 'playlist'],\n",
              " ['add', 'jeanette', 'extreme', 'metal', 'workout'],\n",
              " ['add', 'sirusho', 'cl', 'sicos', 'playlist'],\n",
              " ['add', 'tune', 'instrumental', 'funk', 'playlist'],\n",
              " ['add', 'artist', 'chris', 'squire', 'birth', 'cool', 'playlist'],\n",
              " ['put', 'mac', 'wiseman', 'latino', 'caliente', 'playlist'],\n",
              " ['wish', 'add', 'album', 'dinner', 'playlist'],\n",
              " ['add', 'child', 'owlet', 'sleep', 'sounds', 'playlist'],\n",
              " ['add', 'family', 'tree', 'conexiones'],\n",
              " ['add', 'tune', 'chill', 'hits', 'playlist'],\n",
              " ['add', 'bonga', 'black', 'sabbath', 'dio', 'years', 'playlist'],\n",
              " ['add', 'fra', 'mols', 'til', 'skagen', 'trey', 'songz', 'playlist'],\n",
              " ['add', 'tune', 'indie', 'reflection', 'playlist'],\n",
              " ['want', 'mi', 'lu', 'bing', 'song', 'pop', 'dance', 'playlist'],\n",
              " ['add', 'mg', 'visionary', 'dubstep', 'playlist'],\n",
              " ['add', 'punk', 'never', 'happened', 'autumn'],\n",
              " ['add', 'novedades', 'pop', 'luck', 'list'],\n",
              " ['add', 'troy', 'van', 'leeuwen', 'nu', 'metal', 'list'],\n",
              " ['add', 'singer', 'maxine', 'nightingale', 'spanish', 'beat', 'playlist'],\n",
              " ['add', 'tarte', 'bandas', 'sonoras', 'playlist'],\n",
              " ['add', 'jeff', 'burrows', 'album', 'country', 'hits', 'playlist'],\n",
              " ['add', 'tune', 'rock'],\n",
              " ['add', 'impossible', 'nothing', 'spa', 'treatment'],\n",
              " ['add', 'tune', 'skylar', 'diggins', 'training', 'mix'],\n",
              " ['add', 'track', 'playlist', 'funk', 'outta'],\n",
              " ['add', 'morten', 'harket', 'puccini'],\n",
              " ['add', 'chrome', 'reflection', 'throwback', 'thursday', 'playlist'],\n",
              " ...]"
            ]
          },
          "metadata": {
            "tags": []
          },
          "execution_count": 424
        }
      ]
    },
    {
      "cell_type": "code",
      "metadata": {
        "id": "R9TYL9qsnGqf",
        "colab_type": "code",
        "colab": {}
      },
      "source": [
        "tokenizer = Tokenizer()\n",
        "tokenizer.fit_on_texts(old_and_new_texts)\n",
        "text = tokenizer.texts_to_sequences(old_and_new_texts)\n",
        "text = pad_sequences(text, maxlen = 10)"
      ],
      "execution_count": 0,
      "outputs": []
    },
    {
      "cell_type": "code",
      "metadata": {
        "id": "FnWQ1-UlBYIX",
        "colab_type": "code",
        "colab": {}
      },
      "source": [
        "all_intents = all_intents.tolist()\n",
        "for i in range(len(all_new_intents)):\n",
        "  all_intents.append(all_new_intents[i])"
      ],
      "execution_count": 0,
      "outputs": []
    },
    {
      "cell_type": "code",
      "metadata": {
        "id": "9QzJ28RRoa2Q",
        "colab_type": "code",
        "colab": {}
      },
      "source": [
        "X_train_new, X_test_new, y_train_new, y_test_new = train_test_split(text, all_intents, test_size=0.2, stratify=all_intents)"
      ],
      "execution_count": 0,
      "outputs": []
    },
    {
      "cell_type": "code",
      "metadata": {
        "id": "iK1boRSillcW",
        "colab_type": "code",
        "outputId": "985da98c-a1f1-42ee-bf9b-664eff9112f6",
        "colab": {
          "base_uri": "https://localhost:8080/",
          "height": 136
        }
      },
      "source": [
        "all_unique_intents"
      ],
      "execution_count": 350,
      "outputs": [
        {
          "output_type": "execute_result",
          "data": {
            "text/plain": [
              "['AddToPlaylist',\n",
              " 'BookRestaurant',\n",
              " 'GetWeather',\n",
              " 'PlayMusic',\n",
              " 'SearchScreeningEvent',\n",
              " 'RateBook',\n",
              " 'SearchCreativeWork']"
            ]
          },
          "metadata": {
            "tags": []
          },
          "execution_count": 350
        }
      ]
    },
    {
      "cell_type": "code",
      "metadata": {
        "id": "uYp-teohmdUj",
        "colab_type": "code",
        "colab": {}
      },
      "source": [
        "y_train_new = transform_to_categorical(y_train_new, all_unique_intents)"
      ],
      "execution_count": 0,
      "outputs": []
    },
    {
      "cell_type": "code",
      "metadata": {
        "id": "iqDViR7KvGaE",
        "colab_type": "code",
        "colab": {}
      },
      "source": [
        "y_test_new =  transform_to_categorical(y_test_new, all_unique_intents)"
      ],
      "execution_count": 0,
      "outputs": []
    },
    {
      "cell_type": "code",
      "metadata": {
        "id": "3WFs0I5hvlbU",
        "colab_type": "code",
        "outputId": "a1f8960f-d6f0-4628-d1b7-40a5430aa086",
        "colab": {
          "base_uri": "https://localhost:8080/",
          "height": 391
        }
      },
      "source": [
        "keras_model.fit(X_train_new, y_train_new, batch_size=BATCH, epochs=EPOCHS_COUNT, validation_data=(X_test_new, y_test_new))"
      ],
      "execution_count": 472,
      "outputs": [
        {
          "output_type": "stream",
          "text": [
            "Train on 12707 samples, validate on 3177 samples\n",
            "Epoch 1/10\n",
            "12707/12707 [==============================] - 4s 290us/step - loss: 0.4719 - acc: 0.8532 - val_loss: 0.1257 - val_acc: 0.9641\n",
            "Epoch 2/10\n",
            "12707/12707 [==============================] - 4s 286us/step - loss: 0.0883 - acc: 0.9731 - val_loss: 0.0933 - val_acc: 0.9710\n",
            "Epoch 3/10\n",
            "12707/12707 [==============================] - 4s 282us/step - loss: 0.0523 - acc: 0.9843 - val_loss: 0.0841 - val_acc: 0.9754\n",
            "Epoch 4/10\n",
            "12707/12707 [==============================] - 4s 297us/step - loss: 0.0377 - acc: 0.9891 - val_loss: 0.0849 - val_acc: 0.9748\n",
            "Epoch 5/10\n",
            "12707/12707 [==============================] - 4s 282us/step - loss: 0.0266 - acc: 0.9918 - val_loss: 0.0896 - val_acc: 0.9717\n",
            "Epoch 6/10\n",
            "12707/12707 [==============================] - 4s 302us/step - loss: 0.0211 - acc: 0.9931 - val_loss: 0.0896 - val_acc: 0.9764\n",
            "Epoch 7/10\n",
            "12707/12707 [==============================] - 4s 282us/step - loss: 0.0187 - acc: 0.9941 - val_loss: 0.0982 - val_acc: 0.9745\n",
            "Epoch 8/10\n",
            "12707/12707 [==============================] - 4s 289us/step - loss: 0.0167 - acc: 0.9946 - val_loss: 0.0909 - val_acc: 0.9745\n",
            "Epoch 9/10\n",
            "12707/12707 [==============================] - 4s 294us/step - loss: 0.0130 - acc: 0.9954 - val_loss: 0.0947 - val_acc: 0.9758\n",
            "Epoch 10/10\n",
            "12707/12707 [==============================] - 4s 286us/step - loss: 0.0132 - acc: 0.9962 - val_loss: 0.1018 - val_acc: 0.9767\n"
          ],
          "name": "stdout"
        },
        {
          "output_type": "execute_result",
          "data": {
            "text/plain": [
              "<keras.callbacks.History at 0x7f0606a81320>"
            ]
          },
          "metadata": {
            "tags": []
          },
          "execution_count": 472
        }
      ]
    },
    {
      "cell_type": "code",
      "metadata": {
        "id": "qZ64y5mQxqHo",
        "colab_type": "code",
        "colab": {}
      },
      "source": [
        "test_texts = np.array(test_data.text.apply(lambda x : remove_stopwords(x)))\n",
        "sequences_test = tokenizer.texts_to_sequences(test_texts)\n",
        "X_predict = pad_sequences(sequences_test, maxlen = X_train.shape[1])"
      ],
      "execution_count": 0,
      "outputs": []
    },
    {
      "cell_type": "code",
      "metadata": {
        "id": "I9r1UBjpxv9f",
        "colab_type": "code",
        "colab": {}
      },
      "source": [
        "prediction = keras_model.predict_classes(X_predict)"
      ],
      "execution_count": 0,
      "outputs": []
    },
    {
      "cell_type": "code",
      "metadata": {
        "id": "NpOtrfeQxwLH",
        "colab_type": "code",
        "outputId": "190d0658-16db-4d2f-c2f2-63cfd7a9bafa",
        "colab": {
          "base_uri": "https://localhost:8080/",
          "height": 34
        }
      },
      "source": [
        "answers = transform_from_categorical(prediction, all_unique_intents)\n",
        "answers"
      ],
      "execution_count": 475,
      "outputs": [
        {
          "output_type": "execute_result",
          "data": {
            "text/plain": [
              "['AddToPlaylist', 'GetWeather', 'GetWeather', 'PlayMusic', 'GetWeather']"
            ]
          },
          "metadata": {
            "tags": []
          },
          "execution_count": 475
        }
      ]
    }
  ]
}