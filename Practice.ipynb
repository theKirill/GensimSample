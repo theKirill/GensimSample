{
  "nbformat": 4,
  "nbformat_minor": 0,
  "metadata": {
    "colab": {
      "name": "Practice.ipynb",
      "provenance": [],
      "include_colab_link": true
    },
    "kernelspec": {
      "name": "python3",
      "display_name": "Python 3"
    },
    "accelerator": "GPU"
  },
  "cells": [
    {
      "cell_type": "markdown",
      "metadata": {
        "id": "view-in-github",
        "colab_type": "text"
      },
      "source": [
        "<a href=\"https://colab.research.google.com/github/theKirill/GensimSample/blob/master/Practice.ipynb\" target=\"_parent\"><img src=\"https://colab.research.google.com/assets/colab-badge.svg\" alt=\"Open In Colab\"/></a>"
      ]
    },
    {
      "cell_type": "code",
      "metadata": {
        "id": "CCq8L9tfX-tf",
        "colab_type": "code",
        "outputId": "c04e9f73-ddab-4727-b304-59b05c1fab39",
        "colab": {
          "base_uri": "https://localhost:8080/",
          "height": 80
        }
      },
      "source": [
        "import gensim\n",
        "import nltk\n",
        "from nltk.corpus import stopwords\n",
        "from gensim.models import Word2Vec\n",
        "import pandas as pd\n",
        "import numpy as np\n",
        "import keras\n",
        "from keras.preprocessing.text import Tokenizer\n",
        "from keras.preprocessing.sequence import pad_sequences\n",
        "from keras.models import Sequential\n",
        "from keras.layers import Dense, Flatten, Embedding, Dropout, Conv1D, GlobalMaxPooling1D, Activation\n",
        "from keras.models import Model\n",
        "import sklearn\n",
        "from sklearn.model_selection import train_test_split\n",
        "from keras.utils import to_categorical"
      ],
      "execution_count": 0,
      "outputs": [
        {
          "output_type": "stream",
          "text": [
            "Using TensorFlow backend.\n"
          ],
          "name": "stderr"
        },
        {
          "output_type": "display_data",
          "data": {
            "text/html": [
              "<p style=\"color: red;\">\n",
              "The default version of TensorFlow in Colab will soon switch to TensorFlow 2.x.<br>\n",
              "We recommend you <a href=\"https://www.tensorflow.org/guide/migrate\" target=\"_blank\">upgrade</a> now \n",
              "or ensure your notebook will continue to use TensorFlow 1.x via the <code>%tensorflow_version 1.x</code> magic:\n",
              "<a href=\"https://colab.research.google.com/notebooks/tensorflow_version.ipynb\" target=\"_blank\">more info</a>.</p>\n"
            ],
            "text/plain": [
              "<IPython.core.display.HTML object>"
            ]
          },
          "metadata": {
            "tags": []
          }
        }
      ]
    },
    {
      "cell_type": "code",
      "metadata": {
        "id": "Eeo23euGVKGw",
        "colab_type": "code",
        "colab": {}
      },
      "source": [
        "from keras.callbacks import ModelCheckpoint"
      ],
      "execution_count": 0,
      "outputs": []
    },
    {
      "cell_type": "code",
      "metadata": {
        "id": "DapJGFymcYbH",
        "colab_type": "code",
        "colab": {}
      },
      "source": [
        "from nltk.tokenize import RegexpTokenizer\n",
        "from gensim.utils import simple_preprocess\n",
        "import os"
      ],
      "execution_count": 0,
      "outputs": []
    },
    {
      "cell_type": "code",
      "metadata": {
        "id": "u7yBLPEfObyi",
        "colab_type": "code",
        "outputId": "d389fdb2-e9ee-40d3-8b27-ef7da0642821",
        "colab": {
          "base_uri": "https://localhost:8080/",
          "height": 102
        }
      },
      "source": [
        "nltk.download('punkt')\n",
        "nltk.download('stopwords')"
      ],
      "execution_count": 0,
      "outputs": [
        {
          "output_type": "stream",
          "text": [
            "[nltk_data] Downloading package punkt to /root/nltk_data...\n",
            "[nltk_data]   Unzipping tokenizers/punkt.zip.\n",
            "[nltk_data] Downloading package stopwords to /root/nltk_data...\n",
            "[nltk_data]   Unzipping corpora/stopwords.zip.\n"
          ],
          "name": "stdout"
        },
        {
          "output_type": "execute_result",
          "data": {
            "text/plain": [
              "True"
            ]
          },
          "metadata": {
            "tags": []
          },
          "execution_count": 4
        }
      ]
    },
    {
      "cell_type": "code",
      "metadata": {
        "id": "iLlOyB5xy2HD",
        "colab_type": "code",
        "colab": {}
      },
      "source": [
        "file_csv = pd.read_csv('drive/My Drive/ForGensim/train.csv')"
      ],
      "execution_count": 0,
      "outputs": []
    },
    {
      "cell_type": "code",
      "metadata": {
        "id": "0Fgb2vFPQhfP",
        "colab_type": "code",
        "outputId": "6a13b5e7-74c9-4d75-8550-231e9703775d",
        "colab": {
          "base_uri": "https://localhost:8080/",
          "height": 419
        }
      },
      "source": [
        "file_csv"
      ],
      "execution_count": 0,
      "outputs": [
        {
          "output_type": "execute_result",
          "data": {
            "text/html": [
              "<div>\n",
              "<style scoped>\n",
              "    .dataframe tbody tr th:only-of-type {\n",
              "        vertical-align: middle;\n",
              "    }\n",
              "\n",
              "    .dataframe tbody tr th {\n",
              "        vertical-align: top;\n",
              "    }\n",
              "\n",
              "    .dataframe thead th {\n",
              "        text-align: right;\n",
              "    }\n",
              "</style>\n",
              "<table border=\"1\" class=\"dataframe\">\n",
              "  <thead>\n",
              "    <tr style=\"text-align: right;\">\n",
              "      <th></th>\n",
              "      <th>text</th>\n",
              "      <th>intents</th>\n",
              "    </tr>\n",
              "  </thead>\n",
              "  <tbody>\n",
              "    <tr>\n",
              "      <th>0</th>\n",
              "      <td>Add another song to the Cita RomГЎntica playli...</td>\n",
              "      <td>AddToPlaylist</td>\n",
              "    </tr>\n",
              "    <tr>\n",
              "      <th>1</th>\n",
              "      <td>add clem burke in my playlist Pre-Party R&amp;B Jams</td>\n",
              "      <td>AddToPlaylist</td>\n",
              "    </tr>\n",
              "    <tr>\n",
              "      <th>2</th>\n",
              "      <td>Add Live from Aragon Ballroom to Trapeo</td>\n",
              "      <td>AddToPlaylist</td>\n",
              "    </tr>\n",
              "    <tr>\n",
              "      <th>3</th>\n",
              "      <td>add Unite and Win to my night out</td>\n",
              "      <td>AddToPlaylist</td>\n",
              "    </tr>\n",
              "    <tr>\n",
              "      <th>4</th>\n",
              "      <td>Add track to my Digster Future Hits</td>\n",
              "      <td>AddToPlaylist</td>\n",
              "    </tr>\n",
              "    <tr>\n",
              "      <th>...</th>\n",
              "      <td>...</td>\n",
              "      <td>...</td>\n",
              "    </tr>\n",
              "    <tr>\n",
              "      <th>11369</th>\n",
              "      <td>Is Across the Line playing at the closest movi...</td>\n",
              "      <td>SearchScreeningEvent</td>\n",
              "    </tr>\n",
              "    <tr>\n",
              "      <th>11370</th>\n",
              "      <td>Which animated movies are playing in the neigh...</td>\n",
              "      <td>SearchScreeningEvent</td>\n",
              "    </tr>\n",
              "    <tr>\n",
              "      <th>11371</th>\n",
              "      <td>Where is They Always Return at Dawn playing</td>\n",
              "      <td>SearchScreeningEvent</td>\n",
              "    </tr>\n",
              "    <tr>\n",
              "      <th>11372</th>\n",
              "      <td>What is the movie schedule in the neighborhood</td>\n",
              "      <td>SearchScreeningEvent</td>\n",
              "    </tr>\n",
              "    <tr>\n",
              "      <th>11373</th>\n",
              "      <td>Tell me when Howling II: Your Sister Is a Were...</td>\n",
              "      <td>SearchScreeningEvent</td>\n",
              "    </tr>\n",
              "  </tbody>\n",
              "</table>\n",
              "<p>11374 rows × 2 columns</p>\n",
              "</div>"
            ],
            "text/plain": [
              "                                                    text               intents\n",
              "0      Add another song to the Cita RomГЎntica playli...         AddToPlaylist\n",
              "1       add clem burke in my playlist Pre-Party R&B Jams         AddToPlaylist\n",
              "2                Add Live from Aragon Ballroom to Trapeo         AddToPlaylist\n",
              "3                      add Unite and Win to my night out         AddToPlaylist\n",
              "4                    Add track to my Digster Future Hits         AddToPlaylist\n",
              "...                                                  ...                   ...\n",
              "11369  Is Across the Line playing at the closest movi...  SearchScreeningEvent\n",
              "11370  Which animated movies are playing in the neigh...  SearchScreeningEvent\n",
              "11371        Where is They Always Return at Dawn playing  SearchScreeningEvent\n",
              "11372     What is the movie schedule in the neighborhood  SearchScreeningEvent\n",
              "11373  Tell me when Howling II: Your Sister Is a Were...  SearchScreeningEvent\n",
              "\n",
              "[11374 rows x 2 columns]"
            ]
          },
          "metadata": {
            "tags": []
          },
          "execution_count": 38
        }
      ]
    },
    {
      "cell_type": "code",
      "metadata": {
        "id": "v_g3zM2bQ3Tu",
        "colab_type": "code",
        "colab": {}
      },
      "source": [
        "all_texts = file_csv['text']\n",
        "all_intents = file_csv['intents']"
      ],
      "execution_count": 0,
      "outputs": []
    },
    {
      "cell_type": "code",
      "metadata": {
        "id": "z8Yp_2tMQOKl",
        "colab_type": "code",
        "outputId": "5fb683a9-931e-4b4d-ff66-c958c4507277",
        "colab": {
          "base_uri": "https://localhost:8080/",
          "height": 34
        }
      },
      "source": [
        "file_csv = file_csv.dropna()\n",
        "file_csv['text'].apply(lambda x: len(x.split(' '))).sum()"
      ],
      "execution_count": 0,
      "outputs": [
        {
          "output_type": "execute_result",
          "data": {
            "text/plain": [
              "105347"
            ]
          },
          "metadata": {
            "tags": []
          },
          "execution_count": 133
        }
      ]
    },
    {
      "cell_type": "code",
      "metadata": {
        "id": "Hwt_CiyC1yfo",
        "colab_type": "code",
        "outputId": "661eda7f-8bae-4d2a-dc1d-70b31ae42985",
        "colab": {
          "base_uri": "https://localhost:8080/",
          "height": 221
        }
      },
      "source": [
        "file_csv['text']"
      ],
      "execution_count": 0,
      "outputs": [
        {
          "output_type": "execute_result",
          "data": {
            "text/plain": [
              "0        Add another song to the Cita RomГЎntica playli...\n",
              "1         add clem burke in my playlist Pre-Party R&B Jams\n",
              "2                  Add Live from Aragon Ballroom to Trapeo\n",
              "3                        add Unite and Win to my night out\n",
              "4                      Add track to my Digster Future Hits\n",
              "                               ...                        \n",
              "11369    Is Across the Line playing at the closest movi...\n",
              "11370    Which animated movies are playing in the neigh...\n",
              "11371          Where is They Always Return at Dawn playing\n",
              "11372       What is the movie schedule in the neighborhood\n",
              "11373    Tell me when Howling II: Your Sister Is a Were...\n",
              "Name: text, Length: 11374, dtype: object"
            ]
          },
          "metadata": {
            "tags": []
          },
          "execution_count": 134
        }
      ]
    },
    {
      "cell_type": "code",
      "metadata": {
        "id": "_JQ7LK3-2O1Z",
        "colab_type": "code",
        "colab": {}
      },
      "source": [
        "unique_intents = file_csv.intents.unique()"
      ],
      "execution_count": 0,
      "outputs": []
    },
    {
      "cell_type": "code",
      "metadata": {
        "id": "9pkMOcKTJOMX",
        "colab_type": "code",
        "outputId": "2edbde77-11cf-47e6-c70b-4bca6603e624",
        "colab": {
          "base_uri": "https://localhost:8080/",
          "height": 51
        }
      },
      "source": [
        "unique_intents"
      ],
      "execution_count": 0,
      "outputs": [
        {
          "output_type": "execute_result",
          "data": {
            "text/plain": [
              "array(['AddToPlaylist', 'BookRestaurant', 'GetWeather', 'PlayMusic',\n",
              "       'SearchScreeningEvent'], dtype=object)"
            ]
          },
          "metadata": {
            "tags": []
          },
          "execution_count": 136
        }
      ]
    },
    {
      "cell_type": "code",
      "metadata": {
        "id": "yLw4NaUoxoVk",
        "colab_type": "code",
        "colab": {}
      },
      "source": [
        "COUNT_CLASSES = intents.shape[0]"
      ],
      "execution_count": 0,
      "outputs": []
    },
    {
      "cell_type": "markdown",
      "metadata": {
        "id": "q-oraviUTcaG",
        "colab_type": "text"
      },
      "source": [
        "\n",
        "Удаление стоп-слов и пунктуации"
      ]
    },
    {
      "cell_type": "code",
      "metadata": {
        "id": "AKc9KmVrUsEq",
        "colab_type": "code",
        "colab": {}
      },
      "source": [
        "sentences = np.array(all_texts.apply(lambda x : remove_stopwords(x)))"
      ],
      "execution_count": 0,
      "outputs": []
    },
    {
      "cell_type": "code",
      "metadata": {
        "id": "sD2pAgY8bnrB",
        "colab_type": "code",
        "outputId": "48b45302-28d7-484d-c549-b8f1efc6ffc8",
        "colab": {
          "base_uri": "https://localhost:8080/",
          "height": 136
        }
      },
      "source": [
        "sentences"
      ],
      "execution_count": 0,
      "outputs": [
        {
          "output_type": "execute_result",
          "data": {
            "text/plain": [
              "array([list(['add', 'another', 'song', 'cita', 'romгўntica', 'playlist']),\n",
              "       list(['add', 'clem', 'burke', 'playlist', 'pre', 'party', 'r', 'b', 'jams']),\n",
              "       list(['add', 'live', 'aragon', 'ballroom', 'trapeo']), ...,\n",
              "       list(['always', 'return', 'dawn', 'playing']),\n",
              "       list(['movie', 'schedule', 'neighborhood']),\n",
              "       list(['tell', 'howling', 'ii', 'sister', 'werewolf', 'playing'])],\n",
              "      dtype=object)"
            ]
          },
          "metadata": {
            "tags": []
          },
          "execution_count": 139
        }
      ]
    },
    {
      "cell_type": "code",
      "metadata": {
        "id": "ct7k4eYPU1aO",
        "colab_type": "code",
        "colab": {}
      },
      "source": [
        "tokens = []\n",
        "\n",
        "for sentence in sentences:\n",
        "  tokens.append(sentence)"
      ],
      "execution_count": 0,
      "outputs": []
    },
    {
      "cell_type": "code",
      "metadata": {
        "id": "90Z6jo9lfph0",
        "colab_type": "code",
        "outputId": "6cb87d10-d3a2-44fc-f669-73e90eda8f83",
        "colab": {
          "base_uri": "https://localhost:8080/",
          "height": 102
        }
      },
      "source": [
        "tokens[:5]"
      ],
      "execution_count": 0,
      "outputs": [
        {
          "output_type": "execute_result",
          "data": {
            "text/plain": [
              "[['add', 'another', 'song', 'cita', 'romгўntica', 'playlist'],\n",
              " ['add', 'clem', 'burke', 'playlist', 'pre', 'party', 'r', 'b', 'jams'],\n",
              " ['add', 'live', 'aragon', 'ballroom', 'trapeo'],\n",
              " ['add', 'unite', 'win', 'night'],\n",
              " ['add', 'track', 'digster', 'future', 'hits']]"
            ]
          },
          "metadata": {
            "tags": []
          },
          "execution_count": 141
        }
      ]
    },
    {
      "cell_type": "code",
      "metadata": {
        "id": "vMMxwWtQR-NL",
        "colab_type": "code",
        "colab": {}
      },
      "source": [
        "def remove_stopwords(text):\n",
        "  regex_tokenizer = RegexpTokenizer(r'\\w+')#не удаляет он цифры, надо юзать то, что я скинул!!!!!!!!!!!!! в словаре сраные числа остаются\n",
        "  words = regex_tokenizer.tokenize(text.lower())\n",
        "  stop_words = set(stopwords.words(\"english\"))\n",
        "  without_stop_words = [w for w in words if w not in stop_words]\n",
        "  return without_stop_words"
      ],
      "execution_count": 0,
      "outputs": []
    },
    {
      "cell_type": "markdown",
      "metadata": {
        "id": "d9yR-UzwPPNr",
        "colab_type": "text"
      },
      "source": [
        "Работа с Word2Vec"
      ]
    },
    {
      "cell_type": "code",
      "metadata": {
        "id": "9X8Kb9p5NSUc",
        "colab_type": "code",
        "colab": {}
      },
      "source": [
        "VECTOR_SIZE = 200\n",
        "WINDOW_SIZE = 10\n",
        "MIN_COUNT = 3\n",
        "ITER_COUNT = 10\n",
        "WORKERS = 4"
      ],
      "execution_count": 0,
      "outputs": []
    },
    {
      "cell_type": "code",
      "metadata": {
        "id": "1j1Ft2Oj3zUr",
        "colab_type": "code",
        "colab": {}
      },
      "source": [
        "word2vec_model = Word2Vec(tokens, size = VECTOR_SIZE, window = WINDOW_SIZE, min_count = MIN_COUNT, workers = WORKERS, iter = ITER_COUNT)"
      ],
      "execution_count": 0,
      "outputs": []
    },
    {
      "cell_type": "code",
      "metadata": {
        "id": "SHExhjKWCf2w",
        "colab_type": "code",
        "outputId": "2891352b-1676-4ab0-d6c1-092c4f1f6d86",
        "colab": {
          "base_uri": "https://localhost:8080/",
          "height": 34
        }
      },
      "source": [
        "#word2vec_model.train(tokens, total_examples = len(tokens), epochs = 500)"
      ],
      "execution_count": 0,
      "outputs": [
        {
          "output_type": "execute_result",
          "data": {
            "text/plain": [
              "(22181828, 34511000)"
            ]
          },
          "metadata": {
            "tags": []
          },
          "execution_count": 50
        }
      ]
    },
    {
      "cell_type": "code",
      "metadata": {
        "id": "lsjHvH-Jaqp2",
        "colab_type": "code",
        "outputId": "798e68b7-55c6-46f3-b305-ad7427ea2c68",
        "colab": {
          "base_uri": "https://localhost:8080/",
          "height": 768
        }
      },
      "source": [
        "word2vec_model['song']"
      ],
      "execution_count": 0,
      "outputs": [
        {
          "output_type": "stream",
          "text": [
            "/usr/local/lib/python3.6/dist-packages/ipykernel_launcher.py:1: DeprecationWarning: Call to deprecated `__getitem__` (Method will be removed in 4.0.0, use self.wv.__getitem__() instead).\n",
            "  \"\"\"Entry point for launching an IPython kernel.\n"
          ],
          "name": "stderr"
        },
        {
          "output_type": "execute_result",
          "data": {
            "text/plain": [
              "array([ 0.25003234, -0.20251924, -0.21170434, -0.13942657,  0.06396154,\n",
              "       -0.26132283,  0.15845542, -0.15610462,  0.12382077, -0.05135707,\n",
              "        0.02039409, -0.38588202,  0.2072171 ,  0.5693021 ,  0.17661467,\n",
              "       -0.17487907,  0.35937846,  0.04015371,  0.1262318 ,  0.00722068,\n",
              "       -0.19969496,  0.52624655, -0.18651313, -0.54541147, -0.11531484,\n",
              "       -0.04841517,  0.05331894, -0.14709659,  0.16798028, -0.06984915,\n",
              "       -0.15223919, -0.00602355,  0.12938628,  0.11924691, -0.3358893 ,\n",
              "       -0.06178682,  0.00385641,  0.14839341,  0.44979957, -0.23583919,\n",
              "       -0.2102662 ,  0.25572878,  0.5060659 , -0.5088358 , -0.31146052,\n",
              "        0.01500768,  0.02156699, -0.14977387, -0.6918172 , -0.14071584,\n",
              "        0.10693123, -0.03573015, -0.0411291 , -0.23477852,  0.42286035,\n",
              "       -0.00118758, -0.44126508,  0.3803695 , -0.53711647,  0.42044613,\n",
              "       -0.2334012 , -0.19497752, -0.32737374,  0.17443003, -0.50338954,\n",
              "        0.08378828,  0.2475111 , -0.2711518 , -0.3745477 ,  0.72495025,\n",
              "        0.17830433,  0.07894441,  0.52371436, -0.5800405 ,  0.20733625,\n",
              "        0.19823568,  0.30694392,  0.62823564, -0.33680996, -0.17812996,\n",
              "        0.33200485, -0.02316993, -0.16355877,  0.6597979 ,  0.14792493,\n",
              "        0.02620716, -0.18754894,  0.03296797, -0.36795843, -0.07582062,\n",
              "        0.176641  ,  0.1593078 ,  0.28220323, -0.6164721 , -0.11219342,\n",
              "        0.1599806 ,  0.5866928 ,  0.16355437, -0.05802267,  0.20947555,\n",
              "       -0.23239025,  0.18669292,  0.22583067,  0.5624445 ,  0.17195591,\n",
              "        0.01089481,  0.08532187, -0.6065891 , -0.13249037, -0.3751901 ,\n",
              "        0.05388155,  0.01966638,  0.41043395, -0.19010039,  0.06573277,\n",
              "        0.0072245 , -0.17192324,  0.3661407 , -0.0110725 ,  0.1626038 ,\n",
              "       -0.06112941, -0.2862122 , -0.43192944, -0.14810573,  0.03413881,\n",
              "        0.10789313, -0.10135379,  0.8023434 ,  0.21588206,  0.20426947,\n",
              "        0.24682301, -0.7449761 , -0.00491895,  0.01946002,  0.0151244 ,\n",
              "        0.0392541 , -0.3010471 ,  0.5694829 , -0.04564022,  0.0523426 ,\n",
              "        0.03211088, -0.16937062, -0.2465186 , -0.09902509, -0.17037225,\n",
              "        0.47945032, -0.06328721,  0.04985168,  0.44700092,  0.29845023,\n",
              "        0.46439683, -0.02019503,  0.05580851, -0.17914055,  0.56414175,\n",
              "        0.28960997, -0.09026257,  0.29925594,  0.13563769, -0.3330605 ,\n",
              "        0.05974512, -0.15559016, -0.41417313, -0.09678501, -0.2534418 ,\n",
              "        0.10730343,  0.05842958, -0.528857  ,  0.42406037, -0.25313845,\n",
              "        0.7407966 , -0.12333429,  0.10208236,  0.05440424,  0.01657915,\n",
              "       -0.25030893,  0.33739847,  0.150292  ,  0.14141953, -0.33300734,\n",
              "       -0.04348414, -0.31553632, -0.04261712,  0.48063046,  0.04630803,\n",
              "        0.46011296,  0.12474985, -0.42776456, -0.07369427, -0.14123212,\n",
              "        0.0023223 , -0.5722187 ,  0.23242173,  0.49143633,  0.13899657,\n",
              "        0.415143  , -0.2740171 ,  0.01113265, -0.13294047,  0.13397817],\n",
              "      dtype=float32)"
            ]
          },
          "metadata": {
            "tags": []
          },
          "execution_count": 143
        }
      ]
    },
    {
      "cell_type": "code",
      "metadata": {
        "id": "i4CfKT_HQ9AW",
        "colab_type": "code",
        "outputId": "1400adc9-3884-4cf6-e32d-694b7dab88b0",
        "colab": {
          "base_uri": "https://localhost:8080/",
          "height": 275
        }
      },
      "source": [
        "word2vec_model.most_similar('song')"
      ],
      "execution_count": 0,
      "outputs": [
        {
          "output_type": "stream",
          "text": [
            "/usr/local/lib/python3.6/dist-packages/ipykernel_launcher.py:1: DeprecationWarning: Call to deprecated `most_similar` (Method will be removed in 4.0.0, use self.wv.most_similar() instead).\n",
            "  \"\"\"Entry point for launching an IPython kernel.\n",
            "/usr/local/lib/python3.6/dist-packages/gensim/matutils.py:737: FutureWarning: Conversion of the second argument of issubdtype from `int` to `np.signedinteger` is deprecated. In future, it will be treated as `np.int64 == np.dtype(int).type`.\n",
            "  if np.issubdtype(vec.dtype, np.int):\n"
          ],
          "name": "stderr"
        },
        {
          "output_type": "execute_result",
          "data": {
            "text/plain": [
              "[('track', 0.9996548295021057),\n",
              " ('artist', 0.9978812336921692),\n",
              " ('album', 0.9966175556182861),\n",
              " ('onto', 0.9942469000816345),\n",
              " ('playlist', 0.9930137991905212),\n",
              " ('put', 0.9926778078079224),\n",
              " ('tune', 0.9924858808517456),\n",
              " ('play', 0.9923551082611084),\n",
              " ('rock', 0.9914529323577881),\n",
              " ('add', 0.9908427000045776)]"
            ]
          },
          "metadata": {
            "tags": []
          },
          "execution_count": 144
        }
      ]
    },
    {
      "cell_type": "code",
      "metadata": {
        "id": "hw0Muu67A8AH",
        "colab_type": "code",
        "outputId": "62326934-d9f3-420f-8cf7-8088a8dfa5cf",
        "colab": {
          "base_uri": "https://localhost:8080/",
          "height": 275
        }
      },
      "source": [
        "word2vec_model.most_similar(positive=['song'], negative=['artist'])"
      ],
      "execution_count": 0,
      "outputs": [
        {
          "output_type": "stream",
          "text": [
            "/usr/local/lib/python3.6/dist-packages/ipykernel_launcher.py:1: DeprecationWarning: Call to deprecated `most_similar` (Method will be removed in 4.0.0, use self.wv.most_similar() instead).\n",
            "  \"\"\"Entry point for launching an IPython kernel.\n",
            "/usr/local/lib/python3.6/dist-packages/gensim/matutils.py:737: FutureWarning: Conversion of the second argument of issubdtype from `int` to `np.signedinteger` is deprecated. In future, it will be treated as `np.int64 == np.dtype(int).type`.\n",
            "  if np.issubdtype(vec.dtype, np.int):\n"
          ],
          "name": "stderr"
        },
        {
          "output_type": "execute_result",
          "data": {
            "text/plain": [
              "[('ines', 0.29442721605300903),\n",
              " ('acгєstico', 0.13214555382728577),\n",
              " ('list', 0.1088150218129158),\n",
              " ('play', 0.09313375502824783),\n",
              " ('b', 0.0658533126115799),\n",
              " ('playing', 0.05466093868017197),\n",
              " ('kaori', 0.0470612570643425),\n",
              " ('music', 0.04589739441871643),\n",
              " ('theatres', 0.038758739829063416),\n",
              " ('movie', 0.03448214754462242)]"
            ]
          },
          "metadata": {
            "tags": []
          },
          "execution_count": 145
        }
      ]
    },
    {
      "cell_type": "code",
      "metadata": {
        "id": "B3C73VvUPc9S",
        "colab_type": "code",
        "outputId": "af5f88b4-ecc1-456d-b336-df858838f5dd",
        "colab": {
          "base_uri": "https://localhost:8080/",
          "height": 71
        }
      },
      "source": [
        "word2vec_model.save('drive/My Drive/ForGensim/Word2VecModel')\n",
        "word2vec_model.wv.save_word2vec_format('drive/My Drive/ForGensim/Word2VecModel.txt', binary=False)\n",
        "word2vec_model.wv.save_word2vec_format('drive/My Drive/ForGensim/Word2VecModel.bin', binary=True)"
      ],
      "execution_count": 0,
      "outputs": [
        {
          "output_type": "stream",
          "text": [
            "/usr/local/lib/python3.6/dist-packages/smart_open/smart_open_lib.py:402: UserWarning: This function is deprecated, use smart_open.open instead. See the migration notes for details: https://github.com/RaRe-Technologies/smart_open/blob/master/README.rst#migrating-to-the-new-open-function\n",
            "  'See the migration notes for details: %s' % _MIGRATION_NOTES_URL\n"
          ],
          "name": "stderr"
        }
      ]
    },
    {
      "cell_type": "markdown",
      "metadata": {
        "id": "slb25WzzWQ2l",
        "colab_type": "text"
      },
      "source": [
        "Работа с keras"
      ]
    },
    {
      "cell_type": "code",
      "metadata": {
        "id": "szKqfEozV0re",
        "colab_type": "code",
        "colab": {}
      },
      "source": [
        "word_vectors = word2vec_model.wv"
      ],
      "execution_count": 0,
      "outputs": []
    },
    {
      "cell_type": "code",
      "metadata": {
        "id": "b0OY_KOMW0hR",
        "colab_type": "code",
        "outputId": "d22d5dcf-541d-4e3d-a066-0a12e8f10b76",
        "colab": {
          "base_uri": "https://localhost:8080/",
          "height": 1000
        }
      },
      "source": [
        "word_vectors.vocab"
      ],
      "execution_count": 0,
      "outputs": [
        {
          "output_type": "execute_result",
          "data": {
            "text/plain": [
              "{'add': <gensim.models.keyedvectors.Vocab at 0x7fe48eb2de48>,\n",
              " 'another': <gensim.models.keyedvectors.Vocab at 0x7fe48eb2d5f8>,\n",
              " 'song': <gensim.models.keyedvectors.Vocab at 0x7fe48eb2d048>,\n",
              " 'romгўntica': <gensim.models.keyedvectors.Vocab at 0x7fe48eb2ddd8>,\n",
              " 'playlist': <gensim.models.keyedvectors.Vocab at 0x7fe48eb2da90>,\n",
              " 'clem': <gensim.models.keyedvectors.Vocab at 0x7fe48eb2d358>,\n",
              " 'burke': <gensim.models.keyedvectors.Vocab at 0x7fe48eb2dc50>,\n",
              " 'pre': <gensim.models.keyedvectors.Vocab at 0x7fe48eb2d0b8>,\n",
              " 'party': <gensim.models.keyedvectors.Vocab at 0x7fe48eb2d2e8>,\n",
              " 'r': <gensim.models.keyedvectors.Vocab at 0x7fe48eb2dcf8>,\n",
              " 'b': <gensim.models.keyedvectors.Vocab at 0x7fe48eb2d390>,\n",
              " 'jams': <gensim.models.keyedvectors.Vocab at 0x7fe48eb2d1d0>,\n",
              " 'live': <gensim.models.keyedvectors.Vocab at 0x7fe48eb2dda0>,\n",
              " 'aragon': <gensim.models.keyedvectors.Vocab at 0x7fe48eb35048>,\n",
              " 'trapeo': <gensim.models.keyedvectors.Vocab at 0x7fe48eb35080>,\n",
              " 'night': <gensim.models.keyedvectors.Vocab at 0x7fe48eb350b8>,\n",
              " 'track': <gensim.models.keyedvectors.Vocab at 0x7fe48eb350f0>,\n",
              " 'digster': <gensim.models.keyedvectors.Vocab at 0x7fe48eb35128>,\n",
              " 'future': <gensim.models.keyedvectors.Vocab at 0x7fe48eb35160>,\n",
              " 'hits': <gensim.models.keyedvectors.Vocab at 0x7fe48eb35198>,\n",
              " 'piano': <gensim.models.keyedvectors.Vocab at 0x7fe48eb351d0>,\n",
              " 'bar': <gensim.models.keyedvectors.Vocab at 0x7fe48eb35208>,\n",
              " 'wilson': <gensim.models.keyedvectors.Vocab at 0x7fe48eb35240>,\n",
              " 'spanish': <gensim.models.keyedvectors.Vocab at 0x7fe48eb35278>,\n",
              " 'cleaning': <gensim.models.keyedvectors.Vocab at 0x7fe48eb352b0>,\n",
              " 'house': <gensim.models.keyedvectors.Vocab at 0x7fe48eb352e8>,\n",
              " 'blue': <gensim.models.keyedvectors.Vocab at 0x7fe48eb35320>,\n",
              " 'skies': <gensim.models.keyedvectors.Vocab at 0x7fe48eb35358>,\n",
              " 'indie': <gensim.models.keyedvectors.Vocab at 0x7fe48eb35390>,\n",
              " 'espaг': <gensim.models.keyedvectors.Vocab at 0x7fe48eb353c8>,\n",
              " 'ol': <gensim.models.keyedvectors.Vocab at 0x7fe48eb35400>,\n",
              " 'name': <gensim.models.keyedvectors.Vocab at 0x7fe48eb35438>,\n",
              " 'kids': <gensim.models.keyedvectors.Vocab at 0x7fe48eb35470>,\n",
              " 'street': <gensim.models.keyedvectors.Vocab at 0x7fe48eb354a8>,\n",
              " 'new': <gensim.models.keyedvectors.Vocab at 0x7fe48eb354e0>,\n",
              " 'mix': <gensim.models.keyedvectors.Vocab at 0x7fe48eb35518>,\n",
              " 'album': <gensim.models.keyedvectors.Vocab at 0x7fe48eb35550>,\n",
              " 'radar': <gensim.models.keyedvectors.Vocab at 0x7fe48eb35588>,\n",
              " 'latino': <gensim.models.keyedvectors.Vocab at 0x7fe48eb355c0>,\n",
              " 'latin': <gensim.models.keyedvectors.Vocab at 0x7fe48eb355f8>,\n",
              " 'pop': <gensim.models.keyedvectors.Vocab at 0x7fe48eb35630>,\n",
              " 'rising': <gensim.models.keyedvectors.Vocab at 0x7fe48eb35668>,\n",
              " 'flame': <gensim.models.keyedvectors.Vocab at 0x7fe48eb356a0>,\n",
              " 'dcode2016': <gensim.models.keyedvectors.Vocab at 0x7fe48eb356d8>,\n",
              " 'fairy': <gensim.models.keyedvectors.Vocab at 0x7fe48eb35710>,\n",
              " 'tales': <gensim.models.keyedvectors.Vocab at 0x7fe48eb35748>,\n",
              " 'need': <gensim.models.keyedvectors.Vocab at 0x7fe48eb35780>,\n",
              " 'artist': <gensim.models.keyedvectors.Vocab at 0x7fe48eb357b8>,\n",
              " 'love': <gensim.models.keyedvectors.Vocab at 0x7fe48eb357f0>,\n",
              " 'neo': <gensim.models.keyedvectors.Vocab at 0x7fe48eb35828>,\n",
              " 'soul': <gensim.models.keyedvectors.Vocab at 0x7fe48eb35860>,\n",
              " 'national': <gensim.models.keyedvectors.Vocab at 0x7fe48eb35898>,\n",
              " 'book': <gensim.models.keyedvectors.Vocab at 0x7fe48eb358d0>,\n",
              " 'secrets': <gensim.models.keyedvectors.Vocab at 0x7fe48eb35908>,\n",
              " 'fire': <gensim.models.keyedvectors.Vocab at 0x7fe48eb35940>,\n",
              " 'wind': <gensim.models.keyedvectors.Vocab at 0x7fe48eb35978>,\n",
              " 'peters': <gensim.models.keyedvectors.Vocab at 0x7fe48eb359b0>,\n",
              " 'women': <gensim.models.keyedvectors.Vocab at 0x7fe48eb359e8>,\n",
              " 'country': <gensim.models.keyedvectors.Vocab at 0x7fe48eb35a20>,\n",
              " 'list': <gensim.models.keyedvectors.Vocab at 0x7fe48eb35a58>,\n",
              " 'children': <gensim.models.keyedvectors.Vocab at 0x7fe48eb35a90>,\n",
              " 'named': <gensim.models.keyedvectors.Vocab at 0x7fe48eb35ac8>,\n",
              " '9th': <gensim.models.keyedvectors.Vocab at 0x7fe48eb35b00>,\n",
              " 'bossa': <gensim.models.keyedvectors.Vocab at 0x7fe48eb35b38>,\n",
              " 'nova': <gensim.models.keyedvectors.Vocab at 0x7fe48eb35b70>,\n",
              " 'dinner': <gensim.models.keyedvectors.Vocab at 0x7fe48eb35ba8>,\n",
              " 'tune': <gensim.models.keyedvectors.Vocab at 0x7fe48eb35be0>,\n",
              " 'legendary': <gensim.models.keyedvectors.Vocab at 0x7fe48eb35c18>,\n",
              " 'guitar': <gensim.models.keyedvectors.Vocab at 0x7fe48eb35c50>,\n",
              " 'solos': <gensim.models.keyedvectors.Vocab at 0x7fe48eb35c88>,\n",
              " 'prince': <gensim.models.keyedvectors.Vocab at 0x7fe48eb35cc0>,\n",
              " 'always': <gensim.models.keyedvectors.Vocab at 0x7fe48eb35cf8>,\n",
              " '50': <gensim.models.keyedvectors.Vocab at 0x7fe48eb35d30>,\n",
              " 'spotify': <gensim.models.keyedvectors.Vocab at 0x7fe48eb35d68>,\n",
              " 'picks': <gensim.models.keyedvectors.Vocab at 0x7fe48eb35da0>,\n",
              " 'la': <gensim.models.keyedvectors.Vocab at 0x7fe48eb35dd8>,\n",
              " 'mejor': <gensim.models.keyedvectors.Vocab at 0x7fe48eb35e10>,\n",
              " 'mгєsica': <gensim.models.keyedvectors.Vocab at 0x7fe48eb35e48>,\n",
              " 'dance': <gensim.models.keyedvectors.Vocab at 0x7fe48eb35e80>,\n",
              " '2017': <gensim.models.keyedvectors.Vocab at 0x7fe48eb35eb8>,\n",
              " 'yet': <gensim.models.keyedvectors.Vocab at 0x7fe48eb35ef0>,\n",
              " 'year': <gensim.models.keyedvectors.Vocab at 0x7fe48eb35f28>,\n",
              " 'metal': <gensim.models.keyedvectors.Vocab at 0x7fe48eb35f60>,\n",
              " '2016': <gensim.models.keyedvectors.Vocab at 0x7fe48eb35f98>,\n",
              " 'psychedelic': <gensim.models.keyedvectors.Vocab at 0x7fe48eb35fd0>,\n",
              " 'rock': <gensim.models.keyedvectors.Vocab at 0x7fe48eb38048>,\n",
              " 'entitled': <gensim.models.keyedvectors.Vocab at 0x7fe48eb38080>,\n",
              " 'sleep': <gensim.models.keyedvectors.Vocab at 0x7fe48eb380b8>,\n",
              " 'incorporate': <gensim.models.keyedvectors.Vocab at 0x7fe48eb380f0>,\n",
              " 'time': <gensim.models.keyedvectors.Vocab at 0x7fe48eb38128>,\n",
              " 'folk': <gensim.models.keyedvectors.Vocab at 0x7fe48eb38160>,\n",
              " 'dinnertime': <gensim.models.keyedvectors.Vocab at 0x7fe48eb38198>,\n",
              " 'acoustics': <gensim.models.keyedvectors.Vocab at 0x7fe48eb381d0>,\n",
              " 'chill': <gensim.models.keyedvectors.Vocab at 0x7fe48eb38208>,\n",
              " 'vibes': <gensim.models.keyedvectors.Vocab at 0x7fe48eb38240>,\n",
              " 'spain': <gensim.models.keyedvectors.Vocab at 0x7fe48eb38278>,\n",
              " 'top': <gensim.models.keyedvectors.Vocab at 0x7fe48eb382b0>,\n",
              " 'put': <gensim.models.keyedvectors.Vocab at 0x7fe48eb382e8>,\n",
              " 'mike': <gensim.models.keyedvectors.Vocab at 0x7fe48eb38320>,\n",
              " 'deathcore': <gensim.models.keyedvectors.Vocab at 0x7fe48eb38358>,\n",
              " 'ross': <gensim.models.keyedvectors.Vocab at 0x7fe48eb38390>,\n",
              " 'boss': <gensim.models.keyedvectors.Vocab at 0x7fe48eb383c8>,\n",
              " 'laurie': <gensim.models.keyedvectors.Vocab at 0x7fe48eb38400>,\n",
              " 'listas': <gensim.models.keyedvectors.Vocab at 0x7fe48eb38438>,\n",
              " 'de': <gensim.models.keyedvectors.Vocab at 0x7fe48eb38470>,\n",
              " 'г': <gensim.models.keyedvectors.Vocab at 0x7fe48eb384a8>,\n",
              " 'xitos': <gensim.models.keyedvectors.Vocab at 0x7fe48eb384e0>,\n",
              " 'v': <gensim.models.keyedvectors.Vocab at 0x7fe48eb38518>,\n",
              " 'nicky': <gensim.models.keyedvectors.Vocab at 0x7fe48eb38550>,\n",
              " 'jam': <gensim.models.keyedvectors.Vocab at 0x7fe48eb38588>,\n",
              " 'paulinho': <gensim.models.keyedvectors.Vocab at 0x7fe48eb385c0>,\n",
              " 'da': <gensim.models.keyedvectors.Vocab at 0x7fe48eb385f8>,\n",
              " 'viola': <gensim.models.keyedvectors.Vocab at 0x7fe48eb38630>,\n",
              " 'radio': <gensim.models.keyedvectors.Vocab at 0x7fe48eb38668>,\n",
              " 'coffeehouse': <gensim.models.keyedvectors.Vocab at 0x7fe48eb386a0>,\n",
              " 'queen': <gensim.models.keyedvectors.Vocab at 0x7fe48eb386d8>,\n",
              " 'olga': <gensim.models.keyedvectors.Vocab at 0x7fe48eb38710>,\n",
              " 'souza': <gensim.models.keyedvectors.Vocab at 0x7fe48eb38748>,\n",
              " 'virginia': <gensim.models.keyedvectors.Vocab at 0x7fe48eb38780>,\n",
              " 'g': <gensim.models.keyedvectors.Vocab at 0x7fe48eb387b8>,\n",
              " 'acoustic': <gensim.models.keyedvectors.Vocab at 0x7fe48eb387f0>,\n",
              " 'orchestra': <gensim.models.keyedvectors.Vocab at 0x7fe48eb38828>,\n",
              " 'cello': <gensim.models.keyedvectors.Vocab at 0x7fe48eb38860>,\n",
              " 'want': <gensim.models.keyedvectors.Vocab at 0x7fe48eb38898>,\n",
              " 'fresh': <gensim.models.keyedvectors.Vocab at 0x7fe48eb388d0>,\n",
              " 'finds': <gensim.models.keyedvectors.Vocab at 0x7fe48eb38908>,\n",
              " 'six': <gensim.models.keyedvectors.Vocab at 0x7fe48eb38940>,\n",
              " 'warm': <gensim.models.keyedvectors.Vocab at 0x7fe48eb38978>,\n",
              " 'hearts': <gensim.models.keyedvectors.Vocab at 0x7fe48eb389b0>,\n",
              " 'feel': <gensim.models.keyedvectors.Vocab at 0x7fe48eb389e8>,\n",
              " 'good': <gensim.models.keyedvectors.Vocab at 0x7fe48eb38a20>,\n",
              " 'david': <gensim.models.keyedvectors.Vocab at 0x7fe48eb38a58>,\n",
              " 'cole': <gensim.models.keyedvectors.Vocab at 0x7fe48eb38a90>,\n",
              " 'totally': <gensim.models.keyedvectors.Vocab at 0x7fe48eb38ac8>,\n",
              " 'stress': <gensim.models.keyedvectors.Vocab at 0x7fe48eb38b00>,\n",
              " 'free': <gensim.models.keyedvectors.Vocab at 0x7fe48eb38b38>,\n",
              " 'clгўsica': <gensim.models.keyedvectors.Vocab at 0x7fe48eb38b70>,\n",
              " 'para': <gensim.models.keyedvectors.Vocab at 0x7fe48eb38ba8>,\n",
              " 'tony': <gensim.models.keyedvectors.Vocab at 0x7fe48eb38be0>,\n",
              " 'thompson': <gensim.models.keyedvectors.Vocab at 0x7fe48eb38c18>,\n",
              " 'en': <gensim.models.keyedvectors.Vocab at 0x7fe48eb38c50>,\n",
              " 'mozart': <gensim.models.keyedvectors.Vocab at 0x7fe48eb38c88>,\n",
              " 'beats': <gensim.models.keyedvectors.Vocab at 0x7fe48eb38cc0>,\n",
              " 'day': <gensim.models.keyedvectors.Vocab at 0x7fe48eb38cf8>,\n",
              " 'us': <gensim.models.keyedvectors.Vocab at 0x7fe48eb38d30>,\n",
              " 'pachangueo': <gensim.models.keyedvectors.Vocab at 0x7fe48eb38d68>,\n",
              " 'total': <gensim.models.keyedvectors.Vocab at 0x7fe48eb38da0>,\n",
              " 'week': <gensim.models.keyedvectors.Vocab at 0x7fe48eb38dd8>,\n",
              " 'end': <gensim.models.keyedvectors.Vocab at 0x7fe48eb38e10>,\n",
              " 'norma': <gensim.models.keyedvectors.Vocab at 0x7fe48eb38e48>,\n",
              " 'jean': <gensim.models.keyedvectors.Vocab at 0x7fe48eb38e80>,\n",
              " 'pure': <gensim.models.keyedvectors.Vocab at 0x7fe48eb38eb8>,\n",
              " 'roll': <gensim.models.keyedvectors.Vocab at 0x7fe48eb38ef0>,\n",
              " 'kirk': <gensim.models.keyedvectors.Vocab at 0x7fe48eb38f28>,\n",
              " 'calm': <gensim.models.keyedvectors.Vocab at 0x7fe48eb38f60>,\n",
              " 'show': <gensim.models.keyedvectors.Vocab at 0x7fe48eb38f98>,\n",
              " 'beast': <gensim.models.keyedvectors.Vocab at 0x7fe48eb38fd0>,\n",
              " 'alternative': <gensim.models.keyedvectors.Vocab at 0x7fe48eb3b048>,\n",
              " 'music': <gensim.models.keyedvectors.Vocab at 0x7fe48eb3b080>,\n",
              " '100': <gensim.models.keyedvectors.Vocab at 0x7fe48eb3b0b8>,\n",
              " 'onto': <gensim.models.keyedvectors.Vocab at 0x7fe48eb3b0f0>,\n",
              " 'selektor': <gensim.models.keyedvectors.Vocab at 0x7fe48eb3b128>,\n",
              " 'jazz': <gensim.models.keyedvectors.Vocab at 0x7fe48eb3b160>,\n",
              " 'loving': <gensim.models.keyedvectors.Vocab at 0x7fe48eb3b198>,\n",
              " 'couples': <gensim.models.keyedvectors.Vocab at 0x7fe48eb3b1d0>,\n",
              " 'needs': <gensim.models.keyedvectors.Vocab at 0x7fe48eb3b208>,\n",
              " 'push': <gensim.models.keyedvectors.Vocab at 0x7fe48eb3b240>,\n",
              " 'button': <gensim.models.keyedvectors.Vocab at 0x7fe48eb3b278>,\n",
              " 'martin': <gensim.models.keyedvectors.Vocab at 0x7fe48eb3b2b0>,\n",
              " 'garrix': <gensim.models.keyedvectors.Vocab at 0x7fe48eb3b2e8>,\n",
              " 'workout': <gensim.models.keyedvectors.Vocab at 0x7fe48eb3b320>,\n",
              " 'twerkout': <gensim.models.keyedvectors.Vocab at 0x7fe48eb3b358>,\n",
              " 'endorphin': <gensim.models.keyedvectors.Vocab at 0x7fe48eb3b390>,\n",
              " 'rush': <gensim.models.keyedvectors.Vocab at 0x7fe48eb3b3c8>,\n",
              " 'southern': <gensim.models.keyedvectors.Vocab at 0x7fe48eb3b400>,\n",
              " 'thing': <gensim.models.keyedvectors.Vocab at 0x7fe48eb3b438>,\n",
              " 'ik': <gensim.models.keyedvectors.Vocab at 0x7fe48eb3b470>,\n",
              " 'tara': <gensim.models.keyedvectors.Vocab at 0x7fe48eb3b4a8>,\n",
              " 'laundry': <gensim.models.keyedvectors.Vocab at 0x7fe48eb3b4e0>,\n",
              " 'something': <gensim.models.keyedvectors.Vocab at 0x7fe48eb3b518>,\n",
              " 'paul': <gensim.models.keyedvectors.Vocab at 0x7fe48eb3b550>,\n",
              " 'tracks': <gensim.models.keyedvectors.Vocab at 0x7fe48eb3b588>,\n",
              " 'titled': <gensim.models.keyedvectors.Vocab at 0x7fe48eb3b5c0>,\n",
              " 'forever': <gensim.models.keyedvectors.Vocab at 0x7fe48eb3b5f8>,\n",
              " 'green': <gensim.models.keyedvectors.Vocab at 0x7fe48eb3b630>,\n",
              " 'los': <gensim.models.keyedvectors.Vocab at 0x7fe48eb3b668>,\n",
              " '40': <gensim.models.keyedvectors.Vocab at 0x7fe48eb3b6a0>,\n",
              " 'steampunk': <gensim.models.keyedvectors.Vocab at 0x7fe48eb3b6d8>,\n",
              " 'please': <gensim.models.keyedvectors.Vocab at 0x7fe48eb3b710>,\n",
              " 'ines': <gensim.models.keyedvectors.Vocab at 0x7fe48eb3b748>,\n",
              " 'called': <gensim.models.keyedvectors.Vocab at 0x7fe48eb3b780>,\n",
              " 'todo': <gensim.models.keyedvectors.Vocab at 0x7fe48eb3b7b8>,\n",
              " 'sweet': <gensim.models.keyedvectors.Vocab at 0x7fe48eb3b7f0>,\n",
              " 'blood': <gensim.models.keyedvectors.Vocab at 0x7fe48eb3b828>,\n",
              " 'face': <gensim.models.keyedvectors.Vocab at 0x7fe48eb3b860>,\n",
              " 'spring': <gensim.models.keyedvectors.Vocab at 0x7fe48eb3b898>,\n",
              " 'classical': <gensim.models.keyedvectors.Vocab at 0x7fe48eb3b8d0>,\n",
              " 'partners': <gensim.models.keyedvectors.Vocab at 0x7fe48eb3b908>,\n",
              " 'crime': <gensim.models.keyedvectors.Vocab at 0x7fe48eb3b940>,\n",
              " 'added': <gensim.models.keyedvectors.Vocab at 0x7fe48eb3b978>,\n",
              " 'conexiones': <gensim.models.keyedvectors.Vocab at 0x7fe48eb3b9b0>,\n",
              " 'red': <gensim.models.keyedvectors.Vocab at 0x7fe48eb3b9e8>,\n",
              " 'peaceful': <gensim.models.keyedvectors.Vocab at 0x7fe48eb3ba20>,\n",
              " 'hour': <gensim.models.keyedvectors.Vocab at 0x7fe48eb3ba58>,\n",
              " 'open': <gensim.models.keyedvectors.Vocab at 0x7fe48eb3ba90>,\n",
              " 'concentration': <gensim.models.keyedvectors.Vocab at 0x7fe48eb3bac8>,\n",
              " 'play': <gensim.models.keyedvectors.Vocab at 0x7fe48eb3bb00>,\n",
              " 'entire': <gensim.models.keyedvectors.Vocab at 0x7fe48eb3bb38>,\n",
              " 'francis': <gensim.models.keyedvectors.Vocab at 0x7fe48eb3bb70>,\n",
              " 'healy': <gensim.models.keyedvectors.Vocab at 0x7fe48eb3bba8>,\n",
              " 'rockin': <gensim.models.keyedvectors.Vocab at 0x7fe48eb3bbe0>,\n",
              " 'gareth': <gensim.models.keyedvectors.Vocab at 0x7fe48eb3bc18>,\n",
              " 'gates': <gensim.models.keyedvectors.Vocab at 0x7fe48eb3bc50>,\n",
              " 'autumn': <gensim.models.keyedvectors.Vocab at 0x7fe48eb3bc88>,\n",
              " 'sxsw': <gensim.models.keyedvectors.Vocab at 0x7fe48eb3bcc0>,\n",
              " 'verano': <gensim.models.keyedvectors.Vocab at 0x7fe48eb3bcf8>,\n",
              " 'andy': <gensim.models.keyedvectors.Vocab at 0x7fe48eb3bd30>,\n",
              " 'lee': <gensim.models.keyedvectors.Vocab at 0x7fe48eb3bd68>,\n",
              " 'club': <gensim.models.keyedvectors.Vocab at 0x7fe48eb3bda0>,\n",
              " 'uncharted': <gensim.models.keyedvectors.Vocab at 0x7fe48eb3bdd8>,\n",
              " '4': <gensim.models.keyedvectors.Vocab at 0x7fe48eb3be10>,\n",
              " 'nathan': <gensim.models.keyedvectors.Vocab at 0x7fe48eb3be48>,\n",
              " 'drake': <gensim.models.keyedvectors.Vocab at 0x7fe48eb3be80>,\n",
              " 'te': <gensim.models.keyedvectors.Vocab at 0x7fe48eb3beb8>,\n",
              " 'hit': <gensim.models.keyedvectors.Vocab at 0x7fe48eb3bef0>,\n",
              " 'remix': <gensim.models.keyedvectors.Vocab at 0x7fe48eb3bf28>,\n",
              " 'infinite': <gensim.models.keyedvectors.Vocab at 0x7fe48eb3bf60>,\n",
              " 'ito': <gensim.models.keyedvectors.Vocab at 0x7fe48eb3bf98>,\n",
              " 'hot': <gensim.models.keyedvectors.Vocab at 0x7fe48eb3bfd0>,\n",
              " 'ruby': <gensim.models.keyedvectors.Vocab at 0x7fe48eb3e048>,\n",
              " 'corinne': <gensim.models.keyedvectors.Vocab at 0x7fe48eb3e080>,\n",
              " 'include': <gensim.models.keyedvectors.Vocab at 0x7fe48eb3e0b8>,\n",
              " 'arthur': <gensim.models.keyedvectors.Vocab at 0x7fe48eb3e0f0>,\n",
              " 'urban': <gensim.models.keyedvectors.Vocab at 0x7fe48eb3e128>,\n",
              " 'things': <gensim.models.keyedvectors.Vocab at 0x7fe48eb3e160>,\n",
              " 'post': <gensim.models.keyedvectors.Vocab at 0x7fe48eb3e198>,\n",
              " 'starting': <gensim.models.keyedvectors.Vocab at 0x7fe48eb3e1d0>,\n",
              " 'favorites': <gensim.models.keyedvectors.Vocab at 0x7fe48eb3e208>,\n",
              " 'nothing': <gensim.models.keyedvectors.Vocab at 0x7fe48eb3e240>,\n",
              " 'sounds': <gensim.models.keyedvectors.Vocab at 0x7fe48eb3e278>,\n",
              " 'nature': <gensim.models.keyedvectors.Vocab at 0x7fe48eb3e2b0>,\n",
              " 'mim': <gensim.models.keyedvectors.Vocab at 0x7fe48eb3e2e8>,\n",
              " 'dubstep': <gensim.models.keyedvectors.Vocab at 0x7fe48eb3e320>,\n",
              " 'alone': <gensim.models.keyedvectors.Vocab at 0x7fe48eb3e358>,\n",
              " 'funny': <gensim.models.keyedvectors.Vocab at 0x7fe48eb3e390>,\n",
              " 'football': <gensim.models.keyedvectors.Vocab at 0x7fe48eb3e3c8>,\n",
              " 'brooklyn': <gensim.models.keyedvectors.Vocab at 0x7fe48eb3e400>,\n",
              " 'beat': <gensim.models.keyedvectors.Vocab at 0x7fe48eb3e438>,\n",
              " 'disco': <gensim.models.keyedvectors.Vocab at 0x7fe48eb3e470>,\n",
              " 'genuine': <gensim.models.keyedvectors.Vocab at 0x7fe48eb3e4a8>,\n",
              " 'anthony': <gensim.models.keyedvectors.Vocab at 0x7fe48eb3e4e0>,\n",
              " 'hamilton': <gensim.models.keyedvectors.Vocab at 0x7fe48eb3e518>,\n",
              " 'hip': <gensim.models.keyedvectors.Vocab at 0x7fe48eb3e550>,\n",
              " 'hop': <gensim.models.keyedvectors.Vocab at 0x7fe48eb3e588>,\n",
              " 'going': <gensim.models.keyedvectors.Vocab at 0x7fe48eb3e5c0>,\n",
              " 'st': <gensim.models.keyedvectors.Vocab at 0x7fe48eb3e5f8>,\n",
              " 'fantasг': <gensim.models.keyedvectors.Vocab at 0x7fe48eb3e630>,\n",
              " 'paula': <gensim.models.keyedvectors.Vocab at 0x7fe48eb3e668>,\n",
              " 'abdul': <gensim.models.keyedvectors.Vocab at 0x7fe48eb3e6a0>,\n",
              " 'musica': <gensim.models.keyedvectors.Vocab at 0x7fe48eb3e6d8>,\n",
              " 'ola': <gensim.models.keyedvectors.Vocab at 0x7fe48eb3e710>,\n",
              " 'entity': <gensim.models.keyedvectors.Vocab at 0x7fe48eb3e748>,\n",
              " 'por': <gensim.models.keyedvectors.Vocab at 0x7fe48eb3e780>,\n",
              " 'afternoon': <gensim.models.keyedvectors.Vocab at 0x7fe48eb3e7b8>,\n",
              " 'train': <gensim.models.keyedvectors.Vocab at 0x7fe48eb3e7f0>,\n",
              " 'ride': <gensim.models.keyedvectors.Vocab at 0x7fe48eb3e828>,\n",
              " 'silver': <gensim.models.keyedvectors.Vocab at 0x7fe48eb3e860>,\n",
              " 'sin': <gensim.models.keyedvectors.Vocab at 0x7fe48eb3e898>,\n",
              " 'llegando': <gensim.models.keyedvectors.Vocab at 0x7fe48eb3e8d0>,\n",
              " 'casa': <gensim.models.keyedvectors.Vocab at 0x7fe48eb3e908>,\n",
              " 'palylist': <gensim.models.keyedvectors.Vocab at 0x7fe48eb3e940>,\n",
              " 'duetos': <gensim.models.keyedvectors.Vocab at 0x7fe48eb3e978>,\n",
              " 'title': <gensim.models.keyedvectors.Vocab at 0x7fe48eb3e9b0>,\n",
              " 'clгўsicos': <gensim.models.keyedvectors.Vocab at 0x7fe48eb3e9e8>,\n",
              " 'eric': <gensim.models.keyedvectors.Vocab at 0x7fe48eb3ea20>,\n",
              " '70s': <gensim.models.keyedvectors.Vocab at 0x7fe48eb3ea58>,\n",
              " 'smash': <gensim.models.keyedvectors.Vocab at 0x7fe48eb3ea90>,\n",
              " 'blues': <gensim.models.keyedvectors.Vocab at 0x7fe48eb3eac8>,\n",
              " 'adam': <gensim.models.keyedvectors.Vocab at 0x7fe48eb3eb00>,\n",
              " 'clayton': <gensim.models.keyedvectors.Vocab at 0x7fe48eb3eb38>,\n",
              " 'teddy': <gensim.models.keyedvectors.Vocab at 0x7fe48eb3eb70>,\n",
              " 'charles': <gensim.models.keyedvectors.Vocab at 0x7fe48eb3eba8>,\n",
              " 'indiespensables': <gensim.models.keyedvectors.Vocab at 0x7fe48eb3ebe0>,\n",
              " 'emily': <gensim.models.keyedvectors.Vocab at 0x7fe48eb3ec18>,\n",
              " 'dickinson': <gensim.models.keyedvectors.Vocab at 0x7fe48eb3ec50>,\n",
              " 'j': <gensim.models.keyedvectors.Vocab at 0x7fe48eb22630>,\n",
              " 'ad': <gensim.models.keyedvectors.Vocab at 0x7fe48f3967b8>,\n",
              " 'instrumental': <gensim.models.keyedvectors.Vocab at 0x7fe48f396f60>,\n",
              " 'madness': <gensim.models.keyedvectors.Vocab at 0x7fe48f396630>,\n",
              " 'infantil': <gensim.models.keyedvectors.Vocab at 0x7fe48f396550>,\n",
              " '80': <gensim.models.keyedvectors.Vocab at 0x7fe48f396ac8>,\n",
              " 'ii': <gensim.models.keyedvectors.Vocab at 0x7fe48f3965c0>,\n",
              " 'made': <gensim.models.keyedvectors.Vocab at 0x7fe48f396470>,\n",
              " 'puerto': <gensim.models.keyedvectors.Vocab at 0x7fe48f396240>,\n",
              " 'rico': <gensim.models.keyedvectors.Vocab at 0x7fe48f396400>,\n",
              " 'epic': <gensim.models.keyedvectors.Vocab at 0x7fe48f396438>,\n",
              " 'wall': <gensim.models.keyedvectors.Vocab at 0x7fe48f3967f0>,\n",
              " 'sound': <gensim.models.keyedvectors.Vocab at 0x7fe48f396278>,\n",
              " 'michael': <gensim.models.keyedvectors.Vocab at 0x7fe48f396518>,\n",
              " 'electronic': <gensim.models.keyedvectors.Vocab at 0x7fe48f396cc0>,\n",
              " 'angela': <gensim.models.keyedvectors.Vocab at 0x7fe48f396c50>,\n",
              " 'au': <gensim.models.keyedvectors.Vocab at 0x7fe48f396e80>,\n",
              " 'puccini': <gensim.models.keyedvectors.Vocab at 0x7fe48f396390>,\n",
              " 'lo': <gensim.models.keyedvectors.Vocab at 0x7fe48f396860>,\n",
              " 'que': <gensim.models.keyedvectors.Vocab at 0x7fe48f396748>,\n",
              " 'suena': <gensim.models.keyedvectors.Vocab at 0x7fe48f396ef0>,\n",
              " 'york': <gensim.models.keyedvectors.Vocab at 0x7fe48f3966d8>,\n",
              " 'rosana': <gensim.models.keyedvectors.Vocab at 0x7fe48f396d30>,\n",
              " '88': <gensim.models.keyedvectors.Vocab at 0x7fe48eb3ec88>,\n",
              " 'keys': <gensim.models.keyedvectors.Vocab at 0x7fe48eb3ecc0>,\n",
              " 'travelling': <gensim.models.keyedvectors.Vocab at 0x7fe48eb3ecf8>,\n",
              " 'l': <gensim.models.keyedvectors.Vocab at 0x7fe48eb3ed30>,\n",
              " 'steve': <gensim.models.keyedvectors.Vocab at 0x7fe48eb3ed68>,\n",
              " 'jordan': <gensim.models.keyedvectors.Vocab at 0x7fe48eb3eda0>,\n",
              " 'tgif': <gensim.models.keyedvectors.Vocab at 0x7fe48eb3edd8>,\n",
              " 'funked': <gensim.models.keyedvectors.Vocab at 0x7fe48eb3ee10>,\n",
              " 'billy': <gensim.models.keyedvectors.Vocab at 0x7fe48eb3ee48>,\n",
              " 'highway': <gensim.models.keyedvectors.Vocab at 0x7fe48eb3ee80>,\n",
              " '61': <gensim.models.keyedvectors.Vocab at 0x7fe48eb3eeb8>,\n",
              " 'halloween': <gensim.models.keyedvectors.Vocab at 0x7fe48eb3eef0>,\n",
              " 'teens': <gensim.models.keyedvectors.Vocab at 0x7fe48eb3ef28>,\n",
              " 'lady': <gensim.models.keyedvectors.Vocab at 0x7fe48eb3ef60>,\n",
              " 'shawn': <gensim.models.keyedvectors.Vocab at 0x7fe48eb3ef98>,\n",
              " 'camp': <gensim.models.keyedvectors.Vocab at 0x7fe48eb3efd0>,\n",
              " 'soulful': <gensim.models.keyedvectors.Vocab at 0x7fe48efe4048>,\n",
              " 'playlis': <gensim.models.keyedvectors.Vocab at 0x7fe48efe4080>,\n",
              " 'hold': <gensim.models.keyedvectors.Vocab at 0x7fe48efe40b8>,\n",
              " 'electronow': <gensim.models.keyedvectors.Vocab at 0x7fe48efe40f0>,\n",
              " 'bring': <gensim.models.keyedvectors.Vocab at 0x7fe48efe4128>,\n",
              " 'back': <gensim.models.keyedvectors.Vocab at 0x7fe48efe4160>,\n",
              " '90s': <gensim.models.keyedvectors.Vocab at 0x7fe48efe4198>,\n",
              " 'jack': <gensim.models.keyedvectors.Vocab at 0x7fe48efe41d0>,\n",
              " 'reggae': <gensim.models.keyedvectors.Vocab at 0x7fe48efe4208>,\n",
              " 'jan': <gensim.models.keyedvectors.Vocab at 0x7fe48efe4240>,\n",
              " 'ultra': <gensim.models.keyedvectors.Vocab at 0x7fe48efe4278>,\n",
              " 'liberty': <gensim.models.keyedvectors.Vocab at 0x7fe48efe42b0>,\n",
              " 'road': <gensim.models.keyedvectors.Vocab at 0x7fe48efe42e8>,\n",
              " 'trip': <gensim.models.keyedvectors.Vocab at 0x7fe48efe4320>,\n",
              " 'gene': <gensim.models.keyedvectors.Vocab at 0x7fe48efe4358>,\n",
              " 'clark': <gensim.models.keyedvectors.Vocab at 0x7fe48efe4390>,\n",
              " 'diann': <gensim.models.keyedvectors.Vocab at 0x7fe48efe43c8>,\n",
              " 'henry': <gensim.models.keyedvectors.Vocab at 0x7fe48efe4400>,\n",
              " 'jane': <gensim.models.keyedvectors.Vocab at 0x7fe48efe4438>,\n",
              " 'machine': <gensim.models.keyedvectors.Vocab at 0x7fe48efe4470>,\n",
              " 'waterscapes': <gensim.models.keyedvectors.Vocab at 0x7fe48efe44a8>,\n",
              " 'would': <gensim.models.keyedvectors.Vocab at 0x7fe48efe44e0>,\n",
              " 'like': <gensim.models.keyedvectors.Vocab at 0x7fe48efe4518>,\n",
              " 'drum': <gensim.models.keyedvectors.Vocab at 0x7fe48efe4550>,\n",
              " 'rare': <gensim.models.keyedvectors.Vocab at 0x7fe48efe4588>,\n",
              " 'groove': <gensim.models.keyedvectors.Vocab at 0x7fe48efe45c0>,\n",
              " 'concert': <gensim.models.keyedvectors.Vocab at 0x7fe48efe45f8>,\n",
              " 'harry': <gensim.models.keyedvectors.Vocab at 0x7fe48efe4630>,\n",
              " 'dangles': <gensim.models.keyedvectors.Vocab at 0x7fe48efe4668>,\n",
              " 'dirty': <gensim.models.keyedvectors.Vocab at 0x7fe48efe46a0>,\n",
              " 'angeles': <gensim.models.keyedvectors.Vocab at 0x7fe48efe46d8>,\n",
              " 'gaming': <gensim.models.keyedvectors.Vocab at 0x7fe48efe4710>,\n",
              " 'philip': <gensim.models.keyedvectors.Vocab at 0x7fe48efe4748>,\n",
              " 'glass': <gensim.models.keyedvectors.Vocab at 0x7fe48efe4780>,\n",
              " 'look': <gensim.models.keyedvectors.Vocab at 0x7fe48efe47b8>,\n",
              " '80s': <gensim.models.keyedvectors.Vocab at 0x7fe48efe47f0>,\n",
              " 'classic': <gensim.models.keyedvectors.Vocab at 0x7fe48efe4828>,\n",
              " 'power': <gensim.models.keyedvectors.Vocab at 0x7fe48efe4860>,\n",
              " 'ali': <gensim.models.keyedvectors.Vocab at 0x7fe48efe4898>,\n",
              " 'lohan': <gensim.models.keyedvectors.Vocab at 0x7fe48efe48d0>,\n",
              " 'songs': <gensim.models.keyedvectors.Vocab at 0x7fe48efe4908>,\n",
              " 'edge': <gensim.models.keyedvectors.Vocab at 0x7fe48efe4940>,\n",
              " 'funk': <gensim.models.keyedvectors.Vocab at 0x7fe48efe4978>,\n",
              " 'throwback': <gensim.models.keyedvectors.Vocab at 0x7fe48efe49b0>,\n",
              " '3rd': <gensim.models.keyedvectors.Vocab at 0x7fe48efe49e8>,\n",
              " 'world': <gensim.models.keyedvectors.Vocab at 0x7fe48efe4a20>,\n",
              " 'atmospheric': <gensim.models.keyedvectors.Vocab at 0x7fe48efe4a58>,\n",
              " 'black': <gensim.models.keyedvectors.Vocab at 0x7fe48efe4a90>,\n",
              " 'sammy': <gensim.models.keyedvectors.Vocab at 0x7fe48efe4ac8>,\n",
              " 'south': <gensim.models.keyedvectors.Vocab at 0x7fe48efe4b00>,\n",
              " 'michigan': <gensim.models.keyedvectors.Vocab at 0x7fe48efe4b38>,\n",
              " 'deep': <gensim.models.keyedvectors.Vocab at 0x7fe48efe4b70>,\n",
              " 'away': <gensim.models.keyedvectors.Vocab at 0x7fe48efe4ba8>,\n",
              " 'midnight': <gensim.models.keyedvectors.Vocab at 0x7fe48efe4be0>,\n",
              " '90': <gensim.models.keyedvectors.Vocab at 0x7fe48efe4c18>,\n",
              " 'baby': <gensim.models.keyedvectors.Vocab at 0x7fe48efe4c50>,\n",
              " 'makers': <gensim.models.keyedvectors.Vocab at 0x7fe48efe4c88>,\n",
              " 'cafг': <gensim.models.keyedvectors.Vocab at 0x7fe48efe4cc0>,\n",
              " 'con': <gensim.models.keyedvectors.Vocab at 0x7fe48efe4cf8>,\n",
              " 'leche': <gensim.models.keyedvectors.Vocab at 0x7fe48efe4d30>,\n",
              " 'place': <gensim.models.keyedvectors.Vocab at 0x7fe48efe4d68>,\n",
              " '2': <gensim.models.keyedvectors.Vocab at 0x7fe48efe4da0>,\n",
              " 'exit': <gensim.models.keyedvectors.Vocab at 0x7fe48efe4dd8>,\n",
              " 'rollerdisco': <gensim.models.keyedvectors.Vocab at 0x7fe48efe4e10>,\n",
              " 'sos': <gensim.models.keyedvectors.Vocab at 0x7fe48efe4e48>,\n",
              " '48': <gensim.models.keyedvectors.Vocab at 0x7fe48efe4e80>,\n",
              " 'global': <gensim.models.keyedvectors.Vocab at 0x7fe48efe4eb8>,\n",
              " 'underground': <gensim.models.keyedvectors.Vocab at 0x7fe48efe4ef0>,\n",
              " 'best': <gensim.models.keyedvectors.Vocab at 0x7fe48efe4f28>,\n",
              " 'millennium': <gensim.models.keyedvectors.Vocab at 0x7fe48efe4f60>,\n",
              " 'k': <gensim.models.keyedvectors.Vocab at 0x7fe48efe4f98>,\n",
              " 'bill': <gensim.models.keyedvectors.Vocab at 0x7fe48efe4fd0>,\n",
              " 'heavy': <gensim.models.keyedvectors.Vocab at 0x7fe48eb42048>,\n",
              " 'gamer': <gensim.models.keyedvectors.Vocab at 0x7fe48eb42080>,\n",
              " 'overload': <gensim.models.keyedvectors.Vocab at 0x7fe48eb420b8>,\n",
              " 'keep': <gensim.models.keyedvectors.Vocab at 0x7fe48eb420f0>,\n",
              " 'ep': <gensim.models.keyedvectors.Vocab at 0x7fe48eb42128>,\n",
              " 'nights': <gensim.models.keyedvectors.Vocab at 0x7fe48eb42160>,\n",
              " 'ian': <gensim.models.keyedvectors.Vocab at 0x7fe48eb42198>,\n",
              " 'young': <gensim.models.keyedvectors.Vocab at 0x7fe48eb421d0>,\n",
              " 'nana': <gensim.models.keyedvectors.Vocab at 0x7fe48eb42208>,\n",
              " 'sudden': <gensim.models.keyedvectors.Vocab at 0x7fe48eb42240>,\n",
              " 'rainstorm': <gensim.models.keyedvectors.Vocab at 0x7fe48eb42278>,\n",
              " 'chillout': <gensim.models.keyedvectors.Vocab at 0x7fe48eb422b0>,\n",
              " 'ntc': <gensim.models.keyedvectors.Vocab at 0x7fe48eb422e8>,\n",
              " 'gym': <gensim.models.keyedvectors.Vocab at 0x7fe48eb42320>,\n",
              " 'strong': <gensim.models.keyedvectors.Vocab at 0x7fe48eb42358>,\n",
              " 'surface': <gensim.models.keyedvectors.Vocab at 0x7fe48eb42390>,\n",
              " 'w': <gensim.models.keyedvectors.Vocab at 0x7fe48eb423c8>,\n",
              " 'c': <gensim.models.keyedvectors.Vocab at 0x7fe48eb42400>,\n",
              " 'around': <gensim.models.keyedvectors.Vocab at 0x7fe48eb42438>,\n",
              " 'relaxing': <gensim.models.keyedvectors.Vocab at 0x7fe48eb42470>,\n",
              " 'revived': <gensim.models.keyedvectors.Vocab at 0x7fe48eb424a8>,\n",
              " '00': <gensim.models.keyedvectors.Vocab at 0x7fe48eb424e0>,\n",
              " 'go': <gensim.models.keyedvectors.Vocab at 0x7fe48eb42518>,\n",
              " 'evening': <gensim.models.keyedvectors.Vocab at 0x7fe48eb42550>,\n",
              " 'ultimate': <gensim.models.keyedvectors.Vocab at 0x7fe48eb42588>,\n",
              " '00s': <gensim.models.keyedvectors.Vocab at 0x7fe48eb425c0>,\n",
              " 'hours': <gensim.models.keyedvectors.Vocab at 0x7fe48eb425f8>,\n",
              " 'frank': <gensim.models.keyedvectors.Vocab at 0x7fe48eb42630>,\n",
              " 'synth': <gensim.models.keyedvectors.Vocab at 0x7fe48eb42668>,\n",
              " 'step': <gensim.models.keyedvectors.Vocab at 0x7fe48eb426a0>,\n",
              " 'sunshine': <gensim.models.keyedvectors.Vocab at 0x7fe48eb426d8>,\n",
              " 'old': <gensim.models.keyedvectors.Vocab at 0x7fe48eb42710>,\n",
              " 'school': <gensim.models.keyedvectors.Vocab at 0x7fe48eb42748>,\n",
              " 'domingo': <gensim.models.keyedvectors.Vocab at 0x7fe48eb42780>,\n",
              " 'lounge': <gensim.models.keyedvectors.Vocab at 0x7fe48eb427b8>,\n",
              " 'funky': <gensim.models.keyedvectors.Vocab at 0x7fe48eb427f0>,\n",
              " 'kickass': <gensim.models.keyedvectors.Vocab at 0x7fe48eb42828>,\n",
              " 'guest': <gensim.models.keyedvectors.Vocab at 0x7fe48eb42860>,\n",
              " 'polygon': <gensim.models.keyedvectors.Vocab at 0x7fe48eb42898>,\n",
              " 'kurt': <gensim.models.keyedvectors.Vocab at 0x7fe48eb428d0>,\n",
              " 'james': <gensim.models.keyedvectors.Vocab at 0x7fe48eb42908>,\n",
              " 'classics': <gensim.models.keyedvectors.Vocab at 0x7fe48eb42940>,\n",
              " 'moments': <gensim.models.keyedvectors.Vocab at 0x7fe48eb42978>,\n",
              " 'movies': <gensim.models.keyedvectors.Vocab at 0x7fe48eb429b0>,\n",
              " 'va': <gensim.models.keyedvectors.Vocab at 0x7fe48eb429e8>,\n",
              " 'gustar': <gensim.models.keyedvectors.Vocab at 0x7fe48eb42a20>,\n",
              " 'leticia': <gensim.models.keyedvectors.Vocab at 0x7fe48eb42a58>,\n",
              " 'animal': <gensim.models.keyedvectors.Vocab at 0x7fe48eb42a90>,\n",
              " 'weekly': <gensim.models.keyedvectors.Vocab at 0x7fe48eb42ac8>,\n",
              " 'city': <gensim.models.keyedvectors.Vocab at 0x7fe48eb42b00>,\n",
              " 'smith': <gensim.models.keyedvectors.Vocab at 0x7fe48eb42b38>,\n",
              " 'masters': <gensim.models.keyedvectors.Vocab at 0x7fe48eb42b70>,\n",
              " 'united': <gensim.models.keyedvectors.Vocab at 0x7fe48eb42ba8>,\n",
              " 'emotron': <gensim.models.keyedvectors.Vocab at 0x7fe48eb42be0>,\n",
              " 'glory': <gensim.models.keyedvectors.Vocab at 0x7fe48eb42c18>,\n",
              " 'storm': <gensim.models.keyedvectors.Vocab at 0x7fe48eb42c50>,\n",
              " 'fusion': <gensim.models.keyedvectors.Vocab at 0x7fe48eb42c88>,\n",
              " 'fest': <gensim.models.keyedvectors.Vocab at 0x7fe48eb42cc0>,\n",
              " 'mellow': <gensim.models.keyedvectors.Vocab at 0x7fe48eb42cf8>,\n",
              " 'sherri': <gensim.models.keyedvectors.Vocab at 0x7fe48eb42d30>,\n",
              " 'electrosafari': <gensim.models.keyedvectors.Vocab at 0x7fe48eb42d68>,\n",
              " 'residence': <gensim.models.keyedvectors.Vocab at 0x7fe48eb42da0>,\n",
              " '6': <gensim.models.keyedvectors.Vocab at 0x7fe48eb42dd8>,\n",
              " 'stars': <gensim.models.keyedvectors.Vocab at 0x7fe48eb42e10>,\n",
              " 'ni': <gensim.models.keyedvectors.Vocab at 0x7fe48eb42e48>,\n",
              " 'workday': <gensim.models.keyedvectors.Vocab at 0x7fe48eb42e80>,\n",
              " 'dj': <gensim.models.keyedvectors.Vocab at 0x7fe48eb42eb8>,\n",
              " '2010': <gensim.models.keyedvectors.Vocab at 0x7fe48eb42ef0>,\n",
              " 'decade': <gensim.models.keyedvectors.Vocab at 0x7fe48eb42f28>,\n",
              " 'fabri': <gensim.models.keyedvectors.Vocab at 0x7fe48eb42f60>,\n",
              " 'fibra': <gensim.models.keyedvectors.Vocab at 0x7fe48eb42f98>,\n",
              " 'escapada': <gensim.models.keyedvectors.Vocab at 0x7fe48eb42fd0>,\n",
              " 'marina': <gensim.models.keyedvectors.Vocab at 0x7fe48eb46048>,\n",
              " 'found': <gensim.models.keyedvectors.Vocab at 0x7fe48eb46080>,\n",
              " 'first': <gensim.models.keyedvectors.Vocab at 0x7fe48eb460b8>,\n",
              " 'stephen': <gensim.models.keyedvectors.Vocab at 0x7fe48eb460f0>,\n",
              " 'confidence': <gensim.models.keyedvectors.Vocab at 0x7fe48eb46128>,\n",
              " 'boost': <gensim.models.keyedvectors.Vocab at 0x7fe48eb46160>,\n",
              " 'franklin': <gensim.models.keyedvectors.Vocab at 0x7fe48eb46198>,\n",
              " 'bachelor': <gensim.models.keyedvectors.Vocab at 0x7fe48eb461d0>,\n",
              " 'mother': <gensim.models.keyedvectors.Vocab at 0x7fe48eb46208>,\n",
              " 'primavera': <gensim.models.keyedvectors.Vocab at 0x7fe48eb46240>,\n",
              " 'barcelona': <gensim.models.keyedvectors.Vocab at 0x7fe48eb46278>,\n",
              " 'cowboy': <gensim.models.keyedvectors.Vocab at 0x7fe48eb462b0>,\n",
              " 'troy': <gensim.models.keyedvectors.Vocab at 0x7fe48eb462e8>,\n",
              " 'background': <gensim.models.keyedvectors.Vocab at 0x7fe48eb46320>,\n",
              " 'north': <gensim.models.keyedvectors.Vocab at 0x7fe48eb46358>,\n",
              " 'tour': <gensim.models.keyedvectors.Vocab at 0x7fe48eb46390>,\n",
              " 'roadrunner': <gensim.models.keyedvectors.Vocab at 0x7fe48eb463c8>,\n",
              " 'rec': <gensim.models.keyedvectors.Vocab at 0x7fe48eb46400>,\n",
              " 'releases': <gensim.models.keyedvectors.Vocab at 0x7fe48eb46438>,\n",
              " 'block': <gensim.models.keyedvectors.Vocab at 0x7fe48eb46470>,\n",
              " 'welcome': <gensim.models.keyedvectors.Vocab at 0x7fe48eb464a8>,\n",
              " 'wright': <gensim.models.keyedvectors.Vocab at 0x7fe48eb464e0>,\n",
              " 'collective': <gensim.models.keyedvectors.Vocab at 0x7fe48eb46518>,\n",
              " 'marilyn': <gensim.models.keyedvectors.Vocab at 0x7fe48eb46550>,\n",
              " 'anthems': <gensim.models.keyedvectors.Vocab at 0x7fe48eb46588>,\n",
              " 'thursday': <gensim.models.keyedvectors.Vocab at 0x7fe48eb465c0>,\n",
              " 'cloud': <gensim.models.keyedvectors.Vocab at 0x7fe48eb465f8>,\n",
              " 'rap': <gensim.models.keyedvectors.Vocab at 0x7fe48eb46630>,\n",
              " 'hillary': <gensim.models.keyedvectors.Vocab at 0x7fe48eb46668>,\n",
              " 'clinton': <gensim.models.keyedvectors.Vocab at 0x7fe48eb466a0>,\n",
              " 'history': <gensim.models.keyedvectors.Vocab at 0x7fe48eb466d8>,\n",
              " 'month': <gensim.models.keyedvectors.Vocab at 0x7fe48eb46710>,\n",
              " 'gate': <gensim.models.keyedvectors.Vocab at 0x7fe48eb46748>,\n",
              " 'edna': <gensim.models.keyedvectors.Vocab at 0x7fe48eb46780>,\n",
              " 'vincent': <gensim.models.keyedvectors.Vocab at 0x7fe48eb467b8>,\n",
              " 'trap': <gensim.models.keyedvectors.Vocab at 0x7fe48eb467f0>,\n",
              " 'land': <gensim.models.keyedvectors.Vocab at 0x7fe48eb46828>,\n",
              " 'kan': <gensim.models.keyedvectors.Vocab at 0x7fe48eb46860>,\n",
              " 'let': <gensim.models.keyedvectors.Vocab at 0x7fe48eb46898>,\n",
              " 'season': <gensim.models.keyedvectors.Vocab at 0x7fe48eb468d0>,\n",
              " 'fi': <gensim.models.keyedvectors.Vocab at 0x7fe48eb46908>,\n",
              " 'andrew': <gensim.models.keyedvectors.Vocab at 0x7fe48eb46940>,\n",
              " 'hurley': <gensim.models.keyedvectors.Vocab at 0x7fe48eb46978>,\n",
              " 'timeless': <gensim.models.keyedvectors.Vocab at 0x7fe48eb469b0>,\n",
              " 'tonight': <gensim.models.keyedvectors.Vocab at 0x7fe48eb469e8>,\n",
              " 'las': <gensim.models.keyedvectors.Vocab at 0x7fe48eb46a20>,\n",
              " 'canciones': <gensim.models.keyedvectors.Vocab at 0x7fe48eb46a58>,\n",
              " 'mгўs': <gensim.models.keyedvectors.Vocab at 0x7fe48eb46a90>,\n",
              " 'lindas': <gensim.models.keyedvectors.Vocab at 0x7fe48eb46ac8>,\n",
              " 'del': <gensim.models.keyedvectors.Vocab at 0x7fe48eb46b00>,\n",
              " 'mundo': <gensim.models.keyedvectors.Vocab at 0x7fe48eb46b38>,\n",
              " 'roy': <gensim.models.keyedvectors.Vocab at 0x7fe48eb46b70>,\n",
              " 'comedy': <gensim.models.keyedvectors.Vocab at 0x7fe48eb46ba8>,\n",
              " 'relief': <gensim.models.keyedvectors.Vocab at 0x7fe48eb46be0>,\n",
              " 'targeted': <gensim.models.keyedvectors.Vocab at 0x7fe48eb46c18>,\n",
              " 'electronics': <gensim.models.keyedvectors.Vocab at 0x7fe48eb46c50>,\n",
              " 'mary': <gensim.models.keyedvectors.Vocab at 0x7fe48eb46c88>,\n",
              " 'sings': <gensim.models.keyedvectors.Vocab at 0x7fe48eb46cc0>,\n",
              " 'guy': <gensim.models.keyedvectors.Vocab at 0x7fe48eb46cf8>,\n",
              " 'electro': <gensim.models.keyedvectors.Vocab at 0x7fe48eb46d30>,\n",
              " 'sur': <gensim.models.keyedvectors.Vocab at 0x7fe48eb46d68>,\n",
              " 'soft': <gensim.models.keyedvectors.Vocab at 0x7fe48eb46da0>,\n",
              " 'running': <gensim.models.keyedvectors.Vocab at 0x7fe48eb46dd8>,\n",
              " 'john': <gensim.models.keyedvectors.Vocab at 0x7fe48eb46e10>,\n",
              " 'bajo': <gensim.models.keyedvectors.Vocab at 0x7fe48eb46e48>,\n",
              " 'estrellas': <gensim.models.keyedvectors.Vocab at 0x7fe48eb46e80>,\n",
              " 'rhythm': <gensim.models.keyedvectors.Vocab at 0x7fe48eb46eb8>,\n",
              " 'kane': <gensim.models.keyedvectors.Vocab at 0x7fe48eb46ef0>,\n",
              " 'pumping': <gensim.models.keyedvectors.Vocab at 0x7fe48eb46f28>,\n",
              " 'iron': <gensim.models.keyedvectors.Vocab at 0x7fe48eb46f60>,\n",
              " 'soundtrack': <gensim.models.keyedvectors.Vocab at 0x7fe48eb46f98>,\n",
              " 'se': <gensim.models.keyedvectors.Vocab at 0x7fe48eb46fd0>,\n",
              " 'favorite': <gensim.models.keyedvectors.Vocab at 0x7fe48eaca048>,\n",
              " 'slaughterhouse': <gensim.models.keyedvectors.Vocab at 0x7fe48eaca080>,\n",
              " 'lullaby': <gensim.models.keyedvectors.Vocab at 0x7fe48eaca0b8>,\n",
              " 'sarah': <gensim.models.keyedvectors.Vocab at 0x7fe48eaca0f0>,\n",
              " 'metalsucks': <gensim.models.keyedvectors.Vocab at 0x7fe48eaca128>,\n",
              " 'korean': <gensim.models.keyedvectors.Vocab at 0x7fe48eaca160>,\n",
              " 'osts': <gensim.models.keyedvectors.Vocab at 0x7fe48eaca198>,\n",
              " 'cream': <gensim.models.keyedvectors.Vocab at 0x7fe48eaca1d0>,\n",
              " 'take': <gensim.models.keyedvectors.Vocab at 0x7fe48eaca208>,\n",
              " 'dear': <gensim.models.keyedvectors.Vocab at 0x7fe48eaca240>,\n",
              " 'dark': <gensim.models.keyedvectors.Vocab at 0x7fe48eaca278>,\n",
              " 'dancehall': <gensim.models.keyedvectors.Vocab at 0x7fe48eaca2b0>,\n",
              " 'official': <gensim.models.keyedvectors.Vocab at 0x7fe48eaca2e8>,\n",
              " 'melody': <gensim.models.keyedvectors.Vocab at 0x7fe48eaca320>,\n",
              " 'nelson': <gensim.models.keyedvectors.Vocab at 0x7fe48eaca358>,\n",
              " 'funtime': <gensim.models.keyedvectors.Vocab at 0x7fe48eaca390>,\n",
              " 'punk': <gensim.models.keyedvectors.Vocab at 0x7fe48eaca3c8>,\n",
              " 'jerry': <gensim.models.keyedvectors.Vocab at 0x7fe48eaca400>,\n",
              " 'dixon': <gensim.models.keyedvectors.Vocab at 0x7fe48eaca438>,\n",
              " 'tokyo': <gensim.models.keyedvectors.Vocab at 0x7fe48eaca470>,\n",
              " 'jennie': <gensim.models.keyedvectors.Vocab at 0x7fe48eaca4a8>,\n",
              " 'dг': <gensim.models.keyedvectors.Vocab at 0x7fe48eaca4e0>,\n",
              " 'reggaeton': <gensim.models.keyedvectors.Vocab at 0x7fe48eaca518>,\n",
              " 'afterwork': <gensim.models.keyedvectors.Vocab at 0x7fe48eaca550>,\n",
              " 'boots': <gensim.models.keyedvectors.Vocab at 0x7fe48eaca588>,\n",
              " 'manhattan': <gensim.models.keyedvectors.Vocab at 0x7fe48eaca5c0>,\n",
              " 'amor': <gensim.models.keyedvectors.Vocab at 0x7fe48eaca5f8>,\n",
              " 'nastya': <gensim.models.keyedvectors.Vocab at 0x7fe48eaca630>,\n",
              " 'kamenskih': <gensim.models.keyedvectors.Vocab at 0x7fe48eaca668>,\n",
              " 'robin': <gensim.models.keyedvectors.Vocab at 0x7fe48eaca6a0>,\n",
              " 'signed': <gensim.models.keyedvectors.Vocab at 0x7fe48eaca6d8>,\n",
              " 'xoxo': <gensim.models.keyedvectors.Vocab at 0x7fe48eaca710>,\n",
              " '1959': <gensim.models.keyedvectors.Vocab at 0x7fe48eaca748>,\n",
              " 'delta': <gensim.models.keyedvectors.Vocab at 0x7fe48eaca780>,\n",
              " 'enamorгўndose': <gensim.models.keyedvectors.Vocab at 0x7fe48eaca7b8>,\n",
              " 'fever': <gensim.models.keyedvectors.Vocab at 0x7fe48eaca7f0>,\n",
              " 'kevin': <gensim.models.keyedvectors.Vocab at 0x7fe48eaca828>,\n",
              " 'spooning': <gensim.models.keyedvectors.Vocab at 0x7fe48eaca860>,\n",
              " 'alan': <gensim.models.keyedvectors.Vocab at 0x7fe48eaca898>,\n",
              " 'luis': <gensim.models.keyedvectors.Vocab at 0x7fe48eaca8d0>,\n",
              " 'fonsi': <gensim.models.keyedvectors.Vocab at 0x7fe48eaca908>,\n",
              " 'wild': <gensim.models.keyedvectors.Vocab at 0x7fe48eaca940>,\n",
              " 'great': <gensim.models.keyedvectors.Vocab at 0x7fe48eaca978>,\n",
              " 'ricky': <gensim.models.keyedvectors.Vocab at 0x7fe48eaca9b0>,\n",
              " 'x': <gensim.models.keyedvectors.Vocab at 0x7fe48eaca9e8>,\n",
              " 'playist': <gensim.models.keyedvectors.Vocab at 0x7fe48eacaa20>,\n",
              " 'pat': <gensim.models.keyedvectors.Vocab at 0x7fe48eacaa58>,\n",
              " 'engadget': <gensim.models.keyedvectors.Vocab at 0x7fe48eacaa90>,\n",
              " 'thomas': <gensim.models.keyedvectors.Vocab at 0x7fe48eacaac8>,\n",
              " 'die': <gensim.models.keyedvectors.Vocab at 0x7fe48eacab00>,\n",
              " 'string': <gensim.models.keyedvectors.Vocab at 0x7fe48eacab38>,\n",
              " 'peacefulness': <gensim.models.keyedvectors.Vocab at 0x7fe48eacab70>,\n",
              " 'cena': <gensim.models.keyedvectors.Vocab at 0x7fe48eacaba8>,\n",
              " 'elegante': <gensim.models.keyedvectors.Vocab at 0x7fe48eacabe0>,\n",
              " 'get': <gensim.models.keyedvectors.Vocab at 0x7fe48eacac18>,\n",
              " 'tale': <gensim.models.keyedvectors.Vocab at 0x7fe48eacac50>,\n",
              " 'adrenaline': <gensim.models.keyedvectors.Vocab at 0x7fe48eacac88>,\n",
              " 'molly': <gensim.models.keyedvectors.Vocab at 0x7fe48eacacc0>,\n",
              " 'french': <gensim.models.keyedvectors.Vocab at 0x7fe48eacacf8>,\n",
              " 'n': <gensim.models.keyedvectors.Vocab at 0x7fe48eacad30>,\n",
              " 'crate': <gensim.models.keyedvectors.Vocab at 0x7fe48eacad68>,\n",
              " 'diggers': <gensim.models.keyedvectors.Vocab at 0x7fe48eacada0>,\n",
              " 'anonymous': <gensim.models.keyedvectors.Vocab at 0x7fe48eacadd8>,\n",
              " 'romantic': <gensim.models.keyedvectors.Vocab at 0x7fe48eacae10>,\n",
              " 'yesterday': <gensim.models.keyedvectors.Vocab at 0x7fe48eacae48>,\n",
              " 'chronicles': <gensim.models.keyedvectors.Vocab at 0x7fe48eacae80>,\n",
              " 'grime': <gensim.models.keyedvectors.Vocab at 0x7fe48eacaeb8>,\n",
              " 'instrumentals': <gensim.models.keyedvectors.Vocab at 0x7fe48eacaef0>,\n",
              " 'summer': <gensim.models.keyedvectors.Vocab at 0x7fe48eacaf28>,\n",
              " 'little': <gensim.models.keyedvectors.Vocab at 0x7fe48eacaf60>,\n",
              " 'americana': <gensim.models.keyedvectors.Vocab at 0x7fe48eacaf98>,\n",
              " '54': <gensim.models.keyedvectors.Vocab at 0x7fe48eacafd0>,\n",
              " 'canadian': <gensim.models.keyedvectors.Vocab at 0x7fe48eacd048>,\n",
              " 'parents': <gensim.models.keyedvectors.Vocab at 0x7fe48eacd080>,\n",
              " 'hype': <gensim.models.keyedvectors.Vocab at 0x7fe48eacd0b8>,\n",
              " 'original': <gensim.models.keyedvectors.Vocab at 0x7fe48eacd0f0>,\n",
              " 'columbia': <gensim.models.keyedvectors.Vocab at 0x7fe48eacd128>,\n",
              " 'autry': <gensim.models.keyedvectors.Vocab at 0x7fe48eacd160>,\n",
              " 'hanging': <gensim.models.keyedvectors.Vocab at 0x7fe48eacd198>,\n",
              " 'chips': <gensim.models.keyedvectors.Vocab at 0x7fe48eacd1d0>,\n",
              " 'salsa': <gensim.models.keyedvectors.Vocab at 0x7fe48eacd208>,\n",
              " 'mac': <gensim.models.keyedvectors.Vocab at 0x7fe48eacd240>,\n",
              " 'cheese': <gensim.models.keyedvectors.Vocab at 0x7fe48eacd278>,\n",
              " 'willie': <gensim.models.keyedvectors.Vocab at 0x7fe48eacd2b0>,\n",
              " 'style': <gensim.models.keyedvectors.Vocab at 0x7fe48eacd2e8>,\n",
              " 'records': <gensim.models.keyedvectors.Vocab at 0x7fe48eacd320>,\n",
              " 'harris': <gensim.models.keyedvectors.Vocab at 0x7fe48eacd358>,\n",
              " 'cardio': <gensim.models.keyedvectors.Vocab at 0x7fe48eacd390>,\n",
              " 'dave': <gensim.models.keyedvectors.Vocab at 0x7fe48eacd3c8>,\n",
              " 'carpenter': <gensim.models.keyedvectors.Vocab at 0x7fe48eacd400>,\n",
              " 'hotel': <gensim.models.keyedvectors.Vocab at 0x7fe48eacd438>,\n",
              " 'novedades': <gensim.models.keyedvectors.Vocab at 0x7fe48eacd470>,\n",
              " 'viernes': <gensim.models.keyedvectors.Vocab at 0x7fe48eacd4a8>,\n",
              " 'sudamг': <gensim.models.keyedvectors.Vocab at 0x7fe48eacd4e0>,\n",
              " 'rica': <gensim.models.keyedvectors.Vocab at 0x7fe48eacd518>,\n",
              " 'jennifer': <gensim.models.keyedvectors.Vocab at 0x7fe48eacd550>,\n",
              " 'lopez': <gensim.models.keyedvectors.Vocab at 0x7fe48eacd588>,\n",
              " 'quo': <gensim.models.keyedvectors.Vocab at 0x7fe48eacd5c0>,\n",
              " 'riley': <gensim.models.keyedvectors.Vocab at 0x7fe48eacd5f8>,\n",
              " 'outlaw': <gensim.models.keyedvectors.Vocab at 0x7fe48eacd630>,\n",
              " 'daddy': <gensim.models.keyedvectors.Vocab at 0x7fe48eacd668>,\n",
              " 'might': <gensim.models.keyedvectors.Vocab at 0x7fe48eacd6a0>,\n",
              " 'myth': <gensim.models.keyedvectors.Vocab at 0x7fe48eacd6d8>,\n",
              " 'african': <gensim.models.keyedvectors.Vocab at 0x7fe48eacd710>,\n",
              " 'heat': <gensim.models.keyedvectors.Vocab at 0x7fe48eacd748>,\n",
              " 'hands': <gensim.models.keyedvectors.Vocab at 0x7fe48eacd780>,\n",
              " 'keith': <gensim.models.keyedvectors.Vocab at 0x7fe48eacd7b8>,\n",
              " 'futuros': <gensim.models.keyedvectors.Vocab at 0x7fe48eacd7f0>,\n",
              " 'current': <gensim.models.keyedvectors.Vocab at 0x7fe48eacd828>,\n",
              " 'could': <gensim.models.keyedvectors.Vocab at 0x7fe48eacd860>,\n",
              " 'castle': <gensim.models.keyedvectors.Vocab at 0x7fe48eacd898>,\n",
              " 'magic': <gensim.models.keyedvectors.Vocab at 0x7fe48eacd8d0>,\n",
              " 'daily': <gensim.models.keyedvectors.Vocab at 0x7fe48eacd908>,\n",
              " 'lift': <gensim.models.keyedvectors.Vocab at 0x7fe48eacd940>,\n",
              " 'walter': <gensim.models.keyedvectors.Vocab at 0x7fe48eacd978>,\n",
              " 'phunkadelic': <gensim.models.keyedvectors.Vocab at 0x7fe48eacd9b0>,\n",
              " 'louis': <gensim.models.keyedvectors.Vocab at 0x7fe48eacd9e8>,\n",
              " 'kaori': <gensim.models.keyedvectors.Vocab at 0x7fe48eacda20>,\n",
              " 'om': <gensim.models.keyedvectors.Vocab at 0x7fe48eacda58>,\n",
              " 'jimmy': <gensim.models.keyedvectors.Vocab at 0x7fe48eacda90>,\n",
              " 'london': <gensim.models.keyedvectors.Vocab at 0x7fe48eacdac8>,\n",
              " 'waltz': <gensim.models.keyedvectors.Vocab at 0x7fe48eacdb00>,\n",
              " 'evans': <gensim.models.keyedvectors.Vocab at 0x7fe48eacdb38>,\n",
              " 'ray': <gensim.models.keyedvectors.Vocab at 0x7fe48eacdb70>,\n",
              " 'hero': <gensim.models.keyedvectors.Vocab at 0x7fe48eacdba8>,\n",
              " 'wine': <gensim.models.keyedvectors.Vocab at 0x7fe48eacdbe0>,\n",
              " 'dine': <gensim.models.keyedvectors.Vocab at 0x7fe48eacdc18>,\n",
              " 'rage': <gensim.models.keyedvectors.Vocab at 0x7fe48eacdc50>,\n",
              " 'bad': <gensim.models.keyedvectors.Vocab at 0x7fe48eacdc88>,\n",
              " 'death': <gensim.models.keyedvectors.Vocab at 0x7fe48eacdcc0>,\n",
              " 'singer': <gensim.models.keyedvectors.Vocab at 0x7fe48eacdcf8>,\n",
              " 'barbara': <gensim.models.keyedvectors.Vocab at 0x7fe48eacdd30>,\n",
              " 'playlists': <gensim.models.keyedvectors.Vocab at 0x7fe48eacdd68>,\n",
              " 'bleeps': <gensim.models.keyedvectors.Vocab at 0x7fe48eacdda0>,\n",
              " 'bloops': <gensim.models.keyedvectors.Vocab at 0x7fe48eacddd8>,\n",
              " 'chocolate': <gensim.models.keyedvectors.Vocab at 0x7fe48eacde10>,\n",
              " 'вђ': <gensim.models.keyedvectors.Vocab at 0x7fe48eacde48>,\n",
              " 'essentials': <gensim.models.keyedvectors.Vocab at 0x7fe48eacde80>,\n",
              " 'teenager': <gensim.models.keyedvectors.Vocab at 0x7fe48eacdeb8>,\n",
              " 'dean': <gensim.models.keyedvectors.Vocab at 0x7fe48eacdef0>,\n",
              " 'xplorer': <gensim.models.keyedvectors.Vocab at 0x7fe48eacdf28>,\n",
              " '3': <gensim.models.keyedvectors.Vocab at 0x7fe48eacdf60>,\n",
              " 'rockabilly': <gensim.models.keyedvectors.Vocab at 0x7fe48eacdf98>,\n",
              " 'mania': <gensim.models.keyedvectors.Vocab at 0x7fe48eacdfd0>,\n",
              " 'bob': <gensim.models.keyedvectors.Vocab at 0x7fe48ead0048>,\n",
              " 'tus': <gensim.models.keyedvectors.Vocab at 0x7fe48ead0080>,\n",
              " 'fiestas': <gensim.models.keyedvectors.Vocab at 0x7fe48ead00b8>,\n",
              " 'zen': <gensim.models.keyedvectors.Vocab at 0x7fe48ead00f0>,\n",
              " 'focus': <gensim.models.keyedvectors.Vocab at 0x7fe48ead0128>,\n",
              " 'hart': <gensim.models.keyedvectors.Vocab at 0x7fe48ead0160>,\n",
              " 'brat': <gensim.models.keyedvectors.Vocab at 0x7fe48ead0198>,\n",
              " 'sun': <gensim.models.keyedvectors.Vocab at 0x7fe48ead01d0>,\n",
              " 'roger': <gensim.models.keyedvectors.Vocab at 0x7fe48ead0208>,\n",
              " 'gregori': <gensim.models.keyedvectors.Vocab at 0x7fe48ead0240>,\n",
              " 'spa': <gensim.models.keyedvectors.Vocab at 0x7fe48ead0278>,\n",
              " 'treatment': <gensim.models.keyedvectors.Vocab at 0x7fe48ead02b0>,\n",
              " 'third': <gensim.models.keyedvectors.Vocab at 0x7fe48ead02e8>,\n",
              " 'stone': <gensim.models.keyedvectors.Vocab at 0x7fe48ead0320>,\n",
              " 'concentraciгіn': <gensim.models.keyedvectors.Vocab at 0x7fe48ead0358>,\n",
              " 'hyun': <gensim.models.keyedvectors.Vocab at 0x7fe48ead0390>,\n",
              " 'le': <gensim.models.keyedvectors.Vocab at 0x7fe48ead03c8>,\n",
              " 'earth': <gensim.models.keyedvectors.Vocab at 0x7fe48ead0400>,\n",
              " 'joan': <gensim.models.keyedvectors.Vocab at 0x7fe48ead0438>,\n",
              " 'karin': <gensim.models.keyedvectors.Vocab at 0x7fe48ead0470>,\n",
              " 'dreijer': <gensim.models.keyedvectors.Vocab at 0x7fe48ead04a8>,\n",
              " 'andersson': <gensim.models.keyedvectors.Vocab at 0x7fe48ead04e0>,\n",
              " 'jenifer': <gensim.models.keyedvectors.Vocab at 0x7fe48ead0518>,\n",
              " '2000': <gensim.models.keyedvectors.Vocab at 0x7fe48ead0550>,\n",
              " 'big': <gensim.models.keyedvectors.Vocab at 0x7fe48ead0588>,\n",
              " 'mama': <gensim.models.keyedvectors.Vocab at 0x7fe48ead05c0>,\n",
              " 'cassie': <gensim.models.keyedvectors.Vocab at 0x7fe48ead05f8>,\n",
              " 'gold': <gensim.models.keyedvectors.Vocab at 0x7fe48ead0630>,\n",
              " 'everywhere': <gensim.models.keyedvectors.Vocab at 0x7fe48ead0668>,\n",
              " 'friends': <gensim.models.keyedvectors.Vocab at 0x7fe48ead06a0>,\n",
              " 'sing': <gensim.models.keyedvectors.Vocab at 0x7fe48ead06d8>,\n",
              " 'car': <gensim.models.keyedvectors.Vocab at 0x7fe48ead0710>,\n",
              " 'massive': <gensim.models.keyedvectors.Vocab at 0x7fe48ead0748>,\n",
              " 'soca': <gensim.models.keyedvectors.Vocab at 0x7fe48ead0780>,\n",
              " 'skatepark': <gensim.models.keyedvectors.Vocab at 0x7fe48ead07b8>,\n",
              " 'punks': <gensim.models.keyedvectors.Vocab at 0x7fe48ead07f0>,\n",
              " 'ok': <gensim.models.keyedvectors.Vocab at 0x7fe48ead0828>,\n",
              " 'picnic': <gensim.models.keyedvectors.Vocab at 0x7fe48ead0860>,\n",
              " 'park': <gensim.models.keyedvectors.Vocab at 0x7fe48ead0898>,\n",
              " 'bobby': <gensim.models.keyedvectors.Vocab at 0x7fe48ead08d0>,\n",
              " 'lord': <gensim.models.keyedvectors.Vocab at 0x7fe48ead0908>,\n",
              " 'cake': <gensim.models.keyedvectors.Vocab at 0x7fe48ead0940>,\n",
              " 'cobb': <gensim.models.keyedvectors.Vocab at 0x7fe48ead0978>,\n",
              " 'rosanna': <gensim.models.keyedvectors.Vocab at 0x7fe48ead09b0>,\n",
              " 'ejercicio': <gensim.models.keyedvectors.Vocab at 0x7fe48ead09e8>,\n",
              " 'brother': <gensim.models.keyedvectors.Vocab at 0x7fe48ead0a20>,\n",
              " 'edition': <gensim.models.keyedvectors.Vocab at 0x7fe48ead0a58>,\n",
              " 'anne': <gensim.models.keyedvectors.Vocab at 0x7fe48ead0a90>,\n",
              " 'hood': <gensim.models.keyedvectors.Vocab at 0x7fe48ead0ac8>,\n",
              " 'better': <gensim.models.keyedvectors.Vocab at 0x7fe48ead0b00>,\n",
              " 'king': <gensim.models.keyedvectors.Vocab at 0x7fe48ead0b38>,\n",
              " 'dragon': <gensim.models.keyedvectors.Vocab at 0x7fe48ead0b70>,\n",
              " 'hello': <gensim.models.keyedvectors.Vocab at 0x7fe48ead0ba8>,\n",
              " 'central': <gensim.models.keyedvectors.Vocab at 0x7fe48ead0be0>,\n",
              " 'give': <gensim.models.keyedvectors.Vocab at 0x7fe48ead0c18>,\n",
              " 'heaven': <gensim.models.keyedvectors.Vocab at 0x7fe48ead0c50>,\n",
              " 'twin': <gensim.models.keyedvectors.Vocab at 0x7fe48ead0c88>,\n",
              " 'walk': <gensim.models.keyedvectors.Vocab at 0x7fe48ead0cc0>,\n",
              " 'bpm': <gensim.models.keyedvectors.Vocab at 0x7fe48ead0cf8>,\n",
              " 'el': <gensim.models.keyedvectors.Vocab at 0x7fe48ead0d30>,\n",
              " 'matthew': <gensim.models.keyedvectors.Vocab at 0x7fe48ead0d68>,\n",
              " 'showstopper': <gensim.models.keyedvectors.Vocab at 0x7fe48ead0da0>,\n",
              " 'air': <gensim.models.keyedvectors.Vocab at 0x7fe48ead0dd8>,\n",
              " 'mis': <gensim.models.keyedvectors.Vocab at 0x7fe48ead0e10>,\n",
              " 'niг': <gensim.models.keyedvectors.Vocab at 0x7fe48ead0e48>,\n",
              " 'os': <gensim.models.keyedvectors.Vocab at 0x7fe48ead0e80>,\n",
              " '30': <gensim.models.keyedvectors.Vocab at 0x7fe48ead0eb8>,\n",
              " 'snow': <gensim.models.keyedvectors.Vocab at 0x7fe48ead0ef0>,\n",
              " 'justin': <gensim.models.keyedvectors.Vocab at 0x7fe48ead0f28>,\n",
              " 'chopin': <gensim.models.keyedvectors.Vocab at 0x7fe48ead0f60>,\n",
              " 'johnny': <gensim.models.keyedvectors.Vocab at 0x7fe48ead0f98>,\n",
              " 'lit': <gensim.models.keyedvectors.Vocab at 0x7fe48ead0fd0>,\n",
              " 'grandes': <gensim.models.keyedvectors.Vocab at 0x7fe48ead5048>,\n",
              " 'unplugged': <gensim.models.keyedvectors.Vocab at 0x7fe48ead5080>,\n",
              " 'ron': <gensim.models.keyedvectors.Vocab at 0x7fe48ead50b8>,\n",
              " 'roots': <gensim.models.keyedvectors.Vocab at 0x7fe48ead50f0>,\n",
              " 'saturday': <gensim.models.keyedvectors.Vocab at 0x7fe48ead5128>,\n",
              " 'leonard': <gensim.models.keyedvectors.Vocab at 0x7fe48ead5160>,\n",
              " 'wedding': <gensim.models.keyedvectors.Vocab at 0x7fe48ead5198>,\n",
              " 'man': <gensim.models.keyedvectors.Vocab at 0x7fe48ead51d0>,\n",
              " 'scott': <gensim.models.keyedvectors.Vocab at 0x7fe48ead5208>,\n",
              " 'high': <gensim.models.keyedvectors.Vocab at 0x7fe48ead5240>,\n",
              " 'training': <gensim.models.keyedvectors.Vocab at 0x7fe48ead5278>,\n",
              " 'relax': <gensim.models.keyedvectors.Vocab at 0x7fe48ead52b0>,\n",
              " 'biddle': <gensim.models.keyedvectors.Vocab at 0x7fe48ead52e8>,\n",
              " 'mcdonald': <gensim.models.keyedvectors.Vocab at 0x7fe48ead5320>,\n",
              " 'sunday': <gensim.models.keyedvectors.Vocab at 0x7fe48ead5358>,\n",
              " 'mc': <gensim.models.keyedvectors.Vocab at 0x7fe48ead5390>,\n",
              " 'chris': <gensim.models.keyedvectors.Vocab at 0x7fe48ead53c8>,\n",
              " 'people': <gensim.models.keyedvectors.Vocab at 0x7fe48ead5400>,\n",
              " 'water': <gensim.models.keyedvectors.Vocab at 0x7fe48ead5438>,\n",
              " 'newest': <gensim.models.keyedvectors.Vocab at 0x7fe48ead5470>,\n",
              " 'find': <gensim.models.keyedvectors.Vocab at 0x7fe48ead54a8>,\n",
              " 'lesley': <gensim.models.keyedvectors.Vocab at 0x7fe48ead54e0>,\n",
              " 'come': <gensim.models.keyedvectors.Vocab at 0x7fe48ead5518>,\n",
              " 'crossroad': <gensim.models.keyedvectors.Vocab at 0x7fe48ead5550>,\n",
              " 'xiang': <gensim.models.keyedvectors.Vocab at 0x7fe48ead5588>,\n",
              " 'natalie': <gensim.models.keyedvectors.Vocab at 0x7fe48ead55c0>,\n",
              " 'viajes': <gensim.models.keyedvectors.Vocab at 0x7fe48ead55f8>,\n",
              " 'kansas': <gensim.models.keyedvectors.Vocab at 0x7fe48ead5630>,\n",
              " 'missouri': <gensim.models.keyedvectors.Vocab at 0x7fe48ead5668>,\n",
              " 'chillin': <gensim.models.keyedvectors.Vocab at 0x7fe48ead56a0>,\n",
              " 'dirt': <gensim.models.keyedvectors.Vocab at 0x7fe48ead56d8>,\n",
              " 'ina': <gensim.models.keyedvectors.Vocab at 0x7fe48ead5710>,\n",
              " '2010s': <gensim.models.keyedvectors.Vocab at 0x7fe48ead5748>,\n",
              " 'romance': <gensim.models.keyedvectors.Vocab at 0x7fe48ead5780>,\n",
              " 'commute': <gensim.models.keyedvectors.Vocab at 0x7fe48ead57b8>,\n",
              " 'refugee': <gensim.models.keyedvectors.Vocab at 0x7fe48ead57f0>,\n",
              " 'infusions': <gensim.models.keyedvectors.Vocab at 0x7fe48ead5828>,\n",
              " 'indietronic': <gensim.models.keyedvectors.Vocab at 0x7fe48ead5860>,\n",
              " 'lisa': <gensim.models.keyedvectors.Vocab at 0x7fe48ead5898>,\n",
              " 'barry': <gensim.models.keyedvectors.Vocab at 0x7fe48ead58d0>,\n",
              " 'papa': <gensim.models.keyedvectors.Vocab at 0x7fe48ead5908>,\n",
              " 'dead': <gensim.models.keyedvectors.Vocab at 0x7fe48ead5940>,\n",
              " 'noctгўmbulo': <gensim.models.keyedvectors.Vocab at 0x7fe48ead5978>,\n",
              " 'political': <gensim.models.keyedvectors.Vocab at 0x7fe48ead59b0>,\n",
              " 'shake': <gensim.models.keyedvectors.Vocab at 0x7fe48ead59e8>,\n",
              " 'beyond': <gensim.models.keyedvectors.Vocab at 0x7fe48ead5a20>,\n",
              " 'ghost': <gensim.models.keyedvectors.Vocab at 0x7fe48ead5a58>,\n",
              " 'jonny': <gensim.models.keyedvectors.Vocab at 0x7fe48ead5a90>,\n",
              " 'holly': <gensim.models.keyedvectors.Vocab at 0x7fe48ead5ac8>,\n",
              " 'bandas': <gensim.models.keyedvectors.Vocab at 0x7fe48ead5b00>,\n",
              " 'sonoras': <gensim.models.keyedvectors.Vocab at 0x7fe48ead5b38>,\n",
              " 'clapton': <gensim.models.keyedvectors.Vocab at 0x7fe48ead5b70>,\n",
              " 'farian': <gensim.models.keyedvectors.Vocab at 0x7fe48ead5ba8>,\n",
              " 'joy': <gensim.models.keyedvectors.Vocab at 0x7fe48ead5be0>,\n",
              " 'operaciгіn': <gensim.models.keyedvectors.Vocab at 0x7fe48ead5c18>,\n",
              " 'bikini': <gensim.models.keyedvectors.Vocab at 0x7fe48ead5c50>,\n",
              " 'decades': <gensim.models.keyedvectors.Vocab at 0x7fe48ead5c88>,\n",
              " 'joey': <gensim.models.keyedvectors.Vocab at 0x7fe48ead5cc0>,\n",
              " 'spotlight': <gensim.models.keyedvectors.Vocab at 0x7fe48ead5cf8>,\n",
              " 'santos': <gensim.models.keyedvectors.Vocab at 0x7fe48ead5d30>,\n",
              " 'trance': <gensim.models.keyedvectors.Vocab at 0x7fe48ead5d68>,\n",
              " 'life': <gensim.models.keyedvectors.Vocab at 0x7fe48ead5da0>,\n",
              " 'group': <gensim.models.keyedvectors.Vocab at 0x7fe48ead5dd8>,\n",
              " 'men': <gensim.models.keyedvectors.Vocab at 0x7fe48ead5e10>,\n",
              " 'child': <gensim.models.keyedvectors.Vocab at 0x7fe48ead5e48>,\n",
              " 'charlie': <gensim.models.keyedvectors.Vocab at 0x7fe48ead5e80>,\n",
              " 'hunter': <gensim.models.keyedvectors.Vocab at 0x7fe48ead5eb8>,\n",
              " 'rumba': <gensim.models.keyedvectors.Vocab at 0x7fe48ead5ef0>,\n",
              " 'jacob': <gensim.models.keyedvectors.Vocab at 0x7fe48ead5f28>,\n",
              " 'jazzy': <gensim.models.keyedvectors.Vocab at 0x7fe48ead5f60>,\n",
              " 'lazy': <gensim.models.keyedvectors.Vocab at 0x7fe48ead5f98>,\n",
              " 'days': <gensim.models.keyedvectors.Vocab at 0x7fe48ead5fd0>,\n",
              " 'paradise': <gensim.models.keyedvectors.Vocab at 0x7fe48ead8048>,\n",
              " 'richard': <gensim.models.keyedvectors.Vocab at 0x7fe48ead8080>,\n",
              " 'hell': <gensim.models.keyedvectors.Vocab at 0x7fe48ead80b8>,\n",
              " 'arlene': <gensim.models.keyedvectors.Vocab at 0x7fe48ead80f0>,\n",
              " 'miami': <gensim.models.keyedvectors.Vocab at 0x7fe48ead8128>,\n",
              " 'minute': <gensim.models.keyedvectors.Vocab at 0x7fe48ead8160>,\n",
              " 'dream': <gensim.models.keyedvectors.Vocab at 0x7fe48ead8198>,\n",
              " 'meredith': <gensim.models.keyedvectors.Vocab at 0x7fe48ead81d0>,\n",
              " 'cierra': <gensim.models.keyedvectors.Vocab at 0x7fe48ead8208>,\n",
              " 'puerta': <gensim.models.keyedvectors.Vocab at 0x7fe48ead8240>,\n",
              " 'wave': <gensim.models.keyedvectors.Vocab at 0x7fe48ead8278>,\n",
              " 'kitchen': <gensim.models.keyedvectors.Vocab at 0x7fe48ead82b0>,\n",
              " 'randy': <gensim.models.keyedvectors.Vocab at 0x7fe48ead82e8>,\n",
              " 'sinfonг': <gensim.models.keyedvectors.Vocab at 0x7fe48ead8320>,\n",
              " 'hipster': <gensim.models.keyedvectors.Vocab at 0x7fe48ead8358>,\n",
              " 'crash': <gensim.models.keyedvectors.Vocab at 0x7fe48ead8390>,\n",
              " 'course': <gensim.models.keyedvectors.Vocab at 0x7fe48ead83c8>,\n",
              " 'transatlantic': <gensim.models.keyedvectors.Vocab at 0x7fe48ead8400>,\n",
              " 'birth': <gensim.models.keyedvectors.Vocab at 0x7fe48ead8438>,\n",
              " 'cool': <gensim.models.keyedvectors.Vocab at 0x7fe48ead8470>,\n",
              " 'anochecer': <gensim.models.keyedvectors.Vocab at 0x7fe48ead84a8>,\n",
              " 'urbano': <gensim.models.keyedvectors.Vocab at 0x7fe48ead84e0>,\n",
              " 'solid': <gensim.models.keyedvectors.Vocab at 0x7fe48ead8518>,\n",
              " 'sons': <gensim.models.keyedvectors.Vocab at 0x7fe48ead8550>,\n",
              " 'side': <gensim.models.keyedvectors.Vocab at 0x7fe48ead8588>,\n",
              " 'paris': <gensim.models.keyedvectors.Vocab at 0x7fe48ead85c0>,\n",
              " 'still': <gensim.models.keyedvectors.Vocab at 0x7fe48ead85f8>,\n",
              " 'got': <gensim.models.keyedvectors.Vocab at 0x7fe48ead8630>,\n",
              " 'hard': <gensim.models.keyedvectors.Vocab at 0x7fe48ead8668>,\n",
              " 'friday': <gensim.models.keyedvectors.Vocab at 0x7fe48ead86a0>,\n",
              " 'white': <gensim.models.keyedvectors.Vocab at 0x7fe48ead86d8>,\n",
              " 'noise': <gensim.models.keyedvectors.Vocab at 0x7fe48ead8710>,\n",
              " 'un': <gensim.models.keyedvectors.Vocab at 0x7fe48ead8748>,\n",
              " '170': <gensim.models.keyedvectors.Vocab at 0x7fe48ead8780>,\n",
              " '190': <gensim.models.keyedvectors.Vocab at 0x7fe48ead87b8>,\n",
              " 'al': <gensim.models.keyedvectors.Vocab at 0x7fe48ead87f0>,\n",
              " 'never': <gensim.models.keyedvectors.Vocab at 0x7fe48ead8828>,\n",
              " 'perfect': <gensim.models.keyedvectors.Vocab at 0x7fe48ead8860>,\n",
              " 'part': <gensim.models.keyedvectors.Vocab at 0x7fe48ead8898>,\n",
              " 'pulse': <gensim.models.keyedvectors.Vocab at 0x7fe48ead88d0>,\n",
              " 'jones': <gensim.models.keyedvectors.Vocab at 0x7fe48ead8908>,\n",
              " 'gary': <gensim.models.keyedvectors.Vocab at 0x7fe48ead8940>,\n",
              " 'clay': <gensim.models.keyedvectors.Vocab at 0x7fe48ead8978>,\n",
              " 'genre': <gensim.models.keyedvectors.Vocab at 0x7fe48ead89b0>,\n",
              " 'america': <gensim.models.keyedvectors.Vocab at 0x7fe48ead89e8>,\n",
              " 'trey': <gensim.models.keyedvectors.Vocab at 0x7fe48ead8a20>,\n",
              " 'songz': <gensim.models.keyedvectors.Vocab at 0x7fe48ead8a58>,\n",
              " 'ghosts': <gensim.models.keyedvectors.Vocab at 0x7fe48ead8a90>,\n",
              " 'crying': <gensim.models.keyedvectors.Vocab at 0x7fe48ead8ac8>,\n",
              " 'waiting': <gensim.models.keyedvectors.Vocab at 0x7fe48ead8b00>,\n",
              " 'jason': <gensim.models.keyedvectors.Vocab at 0x7fe48ead8b38>,\n",
              " 'intimate': <gensim.models.keyedvectors.Vocab at 0x7fe48ead8b70>,\n",
              " 'tesh': <gensim.models.keyedvectors.Vocab at 0x7fe48ead8ba8>,\n",
              " 'friendesemana': <gensim.models.keyedvectors.Vocab at 0x7fe48ead8be0>,\n",
              " 'mellowed': <gensim.models.keyedvectors.Vocab at 0x7fe48ead8c18>,\n",
              " 'mohammad': <gensim.models.keyedvectors.Vocab at 0x7fe48ead8c50>,\n",
              " 'reza': <gensim.models.keyedvectors.Vocab at 0x7fe48ead8c88>,\n",
              " 'irish': <gensim.models.keyedvectors.Vocab at 0x7fe48ead8cc0>,\n",
              " 'jigs': <gensim.models.keyedvectors.Vocab at 0x7fe48ead8cf8>,\n",
              " 'reels': <gensim.models.keyedvectors.Vocab at 0x7fe48ead8d30>,\n",
              " 'khan': <gensim.models.keyedvectors.Vocab at 0x7fe48ead8d68>,\n",
              " 'mujeres': <gensim.models.keyedvectors.Vocab at 0x7fe48ead8da0>,\n",
              " 'hombres': <gensim.models.keyedvectors.Vocab at 0x7fe48ead8dd8>,\n",
              " 'fiesta': <gensim.models.keyedvectors.Vocab at 0x7fe48ead8e10>,\n",
              " 'maggie': <gensim.models.keyedvectors.Vocab at 0x7fe48ead8e48>,\n",
              " 'boy': <gensim.models.keyedvectors.Vocab at 0x7fe48ead8e80>,\n",
              " 'family': <gensim.models.keyedvectors.Vocab at 0x7fe48ead8eb8>,\n",
              " 'bone': <gensim.models.keyedvectors.Vocab at 0x7fe48ead8ef0>,\n",
              " 'grunge': <gensim.models.keyedvectors.Vocab at 0x7fe48ead8f28>,\n",
              " '2009': <gensim.models.keyedvectors.Vocab at 0x7fe48ead8f60>,\n",
              " 'next': <gensim.models.keyedvectors.Vocab at 0x7fe48ead8f98>,\n",
              " 'libre': <gensim.models.keyedvectors.Vocab at 0x7fe48ead8fd0>,\n",
              " 'zezг': <gensim.models.keyedvectors.Vocab at 0x7fe48eadb048>,\n",
              " 'di': <gensim.models.keyedvectors.Vocab at 0x7fe48eadb080>,\n",
              " 'camargo': <gensim.models.keyedvectors.Vocab at 0x7fe48eadb0b8>,\n",
              " 'luciano': <gensim.models.keyedvectors.Vocab at 0x7fe48eadb0f0>,\n",
              " '1967': <gensim.models.keyedvectors.Vocab at 0x7fe48eadb128>,\n",
              " '1975': <gensim.models.keyedvectors.Vocab at 0x7fe48eadb160>,\n",
              " 'aftercluv': <gensim.models.keyedvectors.Vocab at 0x7fe48eadb198>,\n",
              " 'journey': <gensim.models.keyedvectors.Vocab at 0x7fe48eadb1d0>,\n",
              " 'cappella': <gensim.models.keyedvectors.Vocab at 0x7fe48eadb208>,\n",
              " 'working': <gensim.models.keyedvectors.Vocab at 0x7fe48eadb240>,\n",
              " 'rapcaviar': <gensim.models.keyedvectors.Vocab at 0x7fe48eadb278>,\n",
              " 'e': <gensim.models.keyedvectors.Vocab at 0x7fe48eadb2b0>,\n",
              " 'move': <gensim.models.keyedvectors.Vocab at 0x7fe48eadb2e8>,\n",
              " 'beard': <gensim.models.keyedvectors.Vocab at 0x7fe48eadb320>,\n",
              " 'acгєstico': <gensim.models.keyedvectors.Vocab at 0x7fe48eadb358>,\n",
              " '1994': <gensim.models.keyedvectors.Vocab at 0x7fe48eadb390>,\n",
              " 'van': <gensim.models.keyedvectors.Vocab at 0x7fe48eadb3c8>,\n",
              " '2015': <gensim.models.keyedvectors.Vocab at 0x7fe48eadb400>,\n",
              " 'awards': <gensim.models.keyedvectors.Vocab at 0x7fe48eadb438>,\n",
              " 'currently': <gensim.models.keyedvectors.Vocab at 0x7fe48eadb470>,\n",
              " 'playing': <gensim.models.keyedvectors.Vocab at 0x7fe48eadb4a8>,\n",
              " 'activity': <gensim.models.keyedvectors.Vocab at 0x7fe48eadb4e0>,\n",
              " 'sexy': <gensim.models.keyedvectors.Vocab at 0x7fe48eadb518>,\n",
              " 'soundscapes': <gensim.models.keyedvectors.Vocab at 0x7fe48eadb550>,\n",
              " 'lloyd': <gensim.models.keyedvectors.Vocab at 0x7fe48eadb588>,\n",
              " 'gothic': <gensim.models.keyedvectors.Vocab at 0x7fe48eadb5c0>,\n",
              " 'broadway': <gensim.models.keyedvectors.Vocab at 0x7fe48eadb5f8>,\n",
              " 'alternativa': <gensim.models.keyedvectors.Vocab at 0x7fe48eadb630>,\n",
              " 'morning': <gensim.models.keyedvectors.Vocab at 0x7fe48eadb668>,\n",
              " 'george': <gensim.models.keyedvectors.Vocab at 0x7fe48eadb6a0>,\n",
              " 'opera': <gensim.models.keyedvectors.Vocab at 0x7fe48eadb6d8>,\n",
              " 'corn': <gensim.models.keyedvectors.Vocab at 0x7fe48eadb710>,\n",
              " 'dub': <gensim.models.keyedvectors.Vocab at 0x7fe48eadb748>,\n",
              " 'beach': <gensim.models.keyedvectors.Vocab at 0x7fe48eadb780>,\n",
              " 'jr': <gensim.models.keyedvectors.Vocab at 0x7fe48eadb7b8>,\n",
              " 'brasileiro': <gensim.models.keyedvectors.Vocab at 0x7fe48eadb7f0>,\n",
              " 'petar': <gensim.models.keyedvectors.Vocab at 0x7fe48eadb828>,\n",
              " 'story': <gensim.models.keyedvectors.Vocab at 0x7fe48eadb860>,\n",
              " 'wa': <gensim.models.keyedvectors.Vocab at 0x7fe48eadb898>,\n",
              " 'crew': <gensim.models.keyedvectors.Vocab at 0x7fe48eadb8d0>,\n",
              " 'costa': <gensim.models.keyedvectors.Vocab at 0x7fe48eadb908>,\n",
              " 'nearly': <gensim.models.keyedvectors.Vocab at 0x7fe48eadb940>,\n",
              " 'nashville': <gensim.models.keyedvectors.Vocab at 0x7fe48eadb978>,\n",
              " '12': <gensim.models.keyedvectors.Vocab at 0x7fe48eadb9b0>,\n",
              " 'jeff': <gensim.models.keyedvectors.Vocab at 0x7fe48eadb9e8>,\n",
              " 'mills': <gensim.models.keyedvectors.Vocab at 0x7fe48eadba20>,\n",
              " 'hiphop': <gensim.models.keyedvectors.Vocab at 0x7fe48eadba58>,\n",
              " 'astor': <gensim.models.keyedvectors.Vocab at 0x7fe48eadba90>,\n",
              " 'knight': <gensim.models.keyedvectors.Vocab at 0x7fe48eadbac8>,\n",
              " 'independent': <gensim.models.keyedvectors.Vocab at 0x7fe48eadbb00>,\n",
              " 'monday': <gensim.models.keyedvectors.Vocab at 0x7fe48eadbb38>,\n",
              " 'cadas': <gensim.models.keyedvectors.Vocab at 0x7fe48eadbb70>,\n",
              " '35': <gensim.models.keyedvectors.Vocab at 0x7fe48eadbba8>,\n",
              " '1970': <gensim.models.keyedvectors.Vocab at 0x7fe48eadbbe0>,\n",
              " 'butterfly': <gensim.models.keyedvectors.Vocab at 0x7fe48eadbc18>,\n",
              " 'nu': <gensim.models.keyedvectors.Vocab at 0x7fe48eadbc50>,\n",
              " 'rose': <gensim.models.keyedvectors.Vocab at 0x7fe48eadbc88>,\n",
              " 'siempre': <gensim.models.keyedvectors.Vocab at 0x7fe48eadbcc0>,\n",
              " 'band': <gensim.models.keyedvectors.Vocab at 0x7fe48eadbcf8>,\n",
              " 'speed': <gensim.models.keyedvectors.Vocab at 0x7fe48eadbd30>,\n",
              " 'robbie': <gensim.models.keyedvectors.Vocab at 0x7fe48eadbd68>,\n",
              " 'robertson': <gensim.models.keyedvectors.Vocab at 0x7fe48eadbda0>,\n",
              " 'jon': <gensim.models.keyedvectors.Vocab at 0x7fe48eadbdd8>,\n",
              " 'sea': <gensim.models.keyedvectors.Vocab at 0x7fe48eadbe10>,\n",
              " 'tango': <gensim.models.keyedvectors.Vocab at 0x7fe48eadbe48>,\n",
              " 'hand': <gensim.models.keyedvectors.Vocab at 0x7fe48eadbe80>,\n",
              " 'head': <gensim.models.keyedvectors.Vocab at 0x7fe48eadbeb8>,\n",
              " 'send': <gensim.models.keyedvectors.Vocab at 0x7fe48eadbef0>,\n",
              " 'ann': <gensim.models.keyedvectors.Vocab at 0x7fe48eadbf28>,\n",
              " 'lists': <gensim.models.keyedvectors.Vocab at 0x7fe48eadbf60>,\n",
              " 'sir': <gensim.models.keyedvectors.Vocab at 0x7fe48eadbf98>,\n",
              " 'winston': <gensim.models.keyedvectors.Vocab at 0x7fe48eadbfd0>,\n",
              " 'ono': <gensim.models.keyedvectors.Vocab at 0x7fe48eadf048>,\n",
              " 'lennon': <gensim.models.keyedvectors.Vocab at 0x7fe48eadf080>,\n",
              " 'nick': <gensim.models.keyedvectors.Vocab at 0x7fe48eadf0b8>,\n",
              " 'mason': <gensim.models.keyedvectors.Vocab at 0x7fe48eadf0f0>,\n",
              " 'sylvia': <gensim.models.keyedvectors.Vocab at 0x7fe48eadf128>,\n",
              " 'plath': <gensim.models.keyedvectors.Vocab at 0x7fe48eadf160>,\n",
              " 'impulso': <gensim.models.keyedvectors.Vocab at 0x7fe48eadf198>,\n",
              " 'creativo': <gensim.models.keyedvectors.Vocab at 0x7fe48eadf1d0>,\n",
              " 'ballads': <gensim.models.keyedvectors.Vocab at 0x7fe48eadf208>,\n",
              " 'glenn': <gensim.models.keyedvectors.Vocab at 0x7fe48eadf240>,\n",
              " 'mane': <gensim.models.keyedvectors.Vocab at 0x7fe48eadf278>,\n",
              " 'joseph': <gensim.models.keyedvectors.Vocab at 0x7fe48eadf2b0>,\n",
              " 'meyer': <gensim.models.keyedvectors.Vocab at 0x7fe48eadf2e8>,\n",
              " 'festival': <gensim.models.keyedvectors.Vocab at 0x7fe48eadf320>,\n",
              " 'ken': <gensim.models.keyedvectors.Vocab at 0x7fe48eadf358>,\n",
              " 'mark': <gensim.models.keyedvectors.Vocab at 0x7fe48eadf390>,\n",
              " 'gregory': <gensim.models.keyedvectors.Vocab at 0x7fe48eadf3c8>,\n",
              " 'douglass': <gensim.models.keyedvectors.Vocab at 0x7fe48eadf400>,\n",
              " 'girls': <gensim.models.keyedvectors.Vocab at 0x7fe48eadf438>,\n",
              " 'mind': <gensim.models.keyedvectors.Vocab at 0x7fe48eadf470>,\n",
              " 'right': <gensim.models.keyedvectors.Vocab at 0x7fe48eadf4a8>,\n",
              " 'bluegrass': <gensim.models.keyedvectors.Vocab at 0x7fe48eadf4e0>,\n",
              " 'roberto': <gensim.models.keyedvectors.Vocab at 0x7fe48eadf518>,\n",
              " 'brown': <gensim.models.keyedvectors.Vocab at 0x7fe48eadf550>,\n",
              " 'powerhouses': <gensim.models.keyedvectors.Vocab at 0x7fe48eadf588>,\n",
              " 'bedroom': <gensim.models.keyedvectors.Vocab at 0x7fe48eadf5c0>,\n",
              " 'lost': <gensim.models.keyedvectors.Vocab at 0x7fe48eadf5f8>,\n",
              " 'study': <gensim.models.keyedvectors.Vocab at 0x7fe48eadf630>,\n",
              " ...}"
            ]
          },
          "metadata": {
            "tags": []
          },
          "execution_count": 148
        }
      ]
    },
    {
      "cell_type": "code",
      "metadata": {
        "id": "i8FZ2hahFdnh",
        "colab_type": "code",
        "outputId": "81111633-efd9-429c-8c8d-5c3f8a2a5321",
        "colab": {
          "base_uri": "https://localhost:8080/",
          "height": 34
        }
      },
      "source": [
        "print(\"Number of word vectors: {}\".format(len(word_vectors.vocab)))"
      ],
      "execution_count": 0,
      "outputs": [
        {
          "output_type": "stream",
          "text": [
            "Number of word vectors: 2584\n"
          ],
          "name": "stdout"
        }
      ]
    },
    {
      "cell_type": "code",
      "metadata": {
        "id": "2sR1nYOK4ZG1",
        "colab_type": "code",
        "colab": {}
      },
      "source": [
        "texts = sentences"
      ],
      "execution_count": 0,
      "outputs": []
    },
    {
      "cell_type": "code",
      "metadata": {
        "id": "qMfggqVmX09o",
        "colab_type": "code",
        "outputId": "6e5012c3-8276-4ca8-c5df-561b3f2d0af6",
        "colab": {
          "base_uri": "https://localhost:8080/",
          "height": 136
        }
      },
      "source": [
        "texts"
      ],
      "execution_count": 0,
      "outputs": [
        {
          "output_type": "execute_result",
          "data": {
            "text/plain": [
              "array([list(['add', 'another', 'song', 'cita', 'romгўntica', 'playlist']),\n",
              "       list(['add', 'clem', 'burke', 'playlist', 'pre', 'party', 'r', 'b', 'jams']),\n",
              "       list(['add', 'live', 'aragon', 'ballroom', 'trapeo']), ...,\n",
              "       list(['always', 'return', 'dawn', 'playing']),\n",
              "       list(['movie', 'schedule', 'neighborhood']),\n",
              "       list(['tell', 'howling', 'ii', 'sister', 'werewolf', 'playing'])],\n",
              "      dtype=object)"
            ]
          },
          "metadata": {
            "tags": []
          },
          "execution_count": 151
        }
      ]
    },
    {
      "cell_type": "code",
      "metadata": {
        "id": "S5Lwc4iVfO5B",
        "colab_type": "code",
        "outputId": "612e0d00-cb4b-4c70-8d03-95845e352c28",
        "colab": {
          "base_uri": "https://localhost:8080/",
          "height": 34
        }
      },
      "source": [
        "kek = texts[0]\n",
        "kek"
      ],
      "execution_count": 0,
      "outputs": [
        {
          "output_type": "execute_result",
          "data": {
            "text/plain": [
              "['add', 'another', 'song', 'cita', 'romгўntica', 'playlist']"
            ]
          },
          "metadata": {
            "tags": []
          },
          "execution_count": 168
        }
      ]
    },
    {
      "cell_type": "code",
      "metadata": {
        "id": "5b7hvBjePvW7",
        "colab_type": "code",
        "colab": {}
      },
      "source": [
        "#vocab_size = len(word_vectors.vocab)\n",
        "#tokenizer = Tokenizer(vocab_size)\n",
        "tokenizer = Tokenizer()\n",
        "tokenizer.fit_on_texts(texts)\n",
        "text = tokenizer.texts_to_sequences(texts)\n",
        "text = pad_sequences(text, maxlen = 10)"
      ],
      "execution_count": 0,
      "outputs": []
    },
    {
      "cell_type": "code",
      "metadata": {
        "id": "kno-kM4IQY_b",
        "colab_type": "code",
        "colab": {}
      },
      "source": [
        "X_train, X_test, y_train, y_test = train_test_split(text, all_intents, test_size = 0.2, stratify = all_intents)"
      ],
      "execution_count": 0,
      "outputs": []
    },
    {
      "cell_type": "code",
      "metadata": {
        "id": "jBzRb_oVxKAQ",
        "colab_type": "code",
        "colab": {}
      },
      "source": [
        "y_train = transform_to_categorical(y_train, unique_intents.tolist())"
      ],
      "execution_count": 0,
      "outputs": []
    },
    {
      "cell_type": "code",
      "metadata": {
        "id": "_SbDYml2fLqT",
        "colab_type": "code",
        "colab": {}
      },
      "source": [
        "y_test =  transform_to_categorical(y_test, unique_intents.tolist())"
      ],
      "execution_count": 0,
      "outputs": []
    },
    {
      "cell_type": "code",
      "metadata": {
        "id": "APJKTOTUYCY2",
        "colab_type": "code",
        "outputId": "5b81a8cc-3c96-449a-f5e8-6e4323a7f3fb",
        "colab": {
          "base_uri": "https://localhost:8080/",
          "height": 425
        }
      },
      "source": [
        "keras_model = get_model(word2vec_model, COUNT_CLASSES)\n",
        "keras_model.summary()"
      ],
      "execution_count": 0,
      "outputs": [
        {
          "output_type": "stream",
          "text": [
            "Model: \"sequential_3\"\n",
            "_________________________________________________________________\n",
            "Layer (type)                 Output Shape              Param #   \n",
            "=================================================================\n",
            "embedding_3 (Embedding)      (None, None, 200)         516800    \n",
            "_________________________________________________________________\n",
            "dropout_5 (Dropout)          (None, None, 200)         0         \n",
            "_________________________________________________________________\n",
            "conv1d_3 (Conv1D)            (None, None, 50)          30050     \n",
            "_________________________________________________________________\n",
            "global_max_pooling1d_3 (Glob (None, 50)                0         \n",
            "_________________________________________________________________\n",
            "dense_5 (Dense)              (None, 250)               12750     \n",
            "_________________________________________________________________\n",
            "dropout_6 (Dropout)          (None, 250)               0         \n",
            "_________________________________________________________________\n",
            "activation_3 (Activation)    (None, 250)               0         \n",
            "_________________________________________________________________\n",
            "dense_6 (Dense)              (None, 5)                 1255      \n",
            "=================================================================\n",
            "Total params: 560,855\n",
            "Trainable params: 560,855\n",
            "Non-trainable params: 0\n",
            "_________________________________________________________________\n"
          ],
          "name": "stdout"
        }
      ]
    },
    {
      "cell_type": "code",
      "metadata": {
        "id": "XA5fn-FvU7Wk",
        "colab_type": "code",
        "colab": {}
      },
      "source": [
        "BATCH = 32\n",
        "EPOCHS_COUNT = 10"
      ],
      "execution_count": 0,
      "outputs": []
    },
    {
      "cell_type": "code",
      "metadata": {
        "id": "xwRAbO1YR4va",
        "colab_type": "code",
        "outputId": "cd5ff91b-7048-4e79-87e1-2cecacef6d54",
        "colab": {
          "base_uri": "https://localhost:8080/",
          "height": 391
        }
      },
      "source": [
        "keras_model.fit(X_train, y_train, batch_size = BATCH, epochs = EPOCHS_COUNT, validation_data = (X_test, y_test),\n",
        "             callbacks=[ModelCheckpoint('drive/My Drive/ForGensim/keras_model.h5', save_best_only = True)])"
      ],
      "execution_count": 0,
      "outputs": [
        {
          "output_type": "stream",
          "text": [
            "Train on 9099 samples, validate on 2275 samples\n",
            "Epoch 1/10\n",
            "9099/9099 [==============================] - 3s 311us/step - loss: 0.5235 - acc: 0.8045 - val_loss: 0.0600 - val_acc: 0.9859\n",
            "Epoch 2/10\n",
            "9099/9099 [==============================] - 2s 247us/step - loss: 0.0601 - acc: 0.9837 - val_loss: 0.0398 - val_acc: 0.9899\n",
            "Epoch 3/10\n",
            "9099/9099 [==============================] - 2s 250us/step - loss: 0.0335 - acc: 0.9910 - val_loss: 0.0353 - val_acc: 0.9908\n",
            "Epoch 4/10\n",
            "9099/9099 [==============================] - 2s 253us/step - loss: 0.0181 - acc: 0.9956 - val_loss: 0.0323 - val_acc: 0.9925\n",
            "Epoch 5/10\n",
            "9099/9099 [==============================] - 2s 247us/step - loss: 0.0112 - acc: 0.9971 - val_loss: 0.0286 - val_acc: 0.9921\n",
            "Epoch 6/10\n",
            "9099/9099 [==============================] - 2s 261us/step - loss: 0.0080 - acc: 0.9975 - val_loss: 0.0356 - val_acc: 0.9916\n",
            "Epoch 7/10\n",
            "9099/9099 [==============================] - 2s 251us/step - loss: 0.0053 - acc: 0.9986 - val_loss: 0.0337 - val_acc: 0.9921\n",
            "Epoch 8/10\n",
            "9099/9099 [==============================] - 2s 254us/step - loss: 0.0056 - acc: 0.9985 - val_loss: 0.0355 - val_acc: 0.9921\n",
            "Epoch 9/10\n",
            "9099/9099 [==============================] - 2s 246us/step - loss: 0.0020 - acc: 0.9996 - val_loss: 0.0349 - val_acc: 0.9930\n",
            "Epoch 10/10\n",
            "9099/9099 [==============================] - 2s 243us/step - loss: 0.0038 - acc: 0.9984 - val_loss: 0.0415 - val_acc: 0.9930\n"
          ],
          "name": "stdout"
        },
        {
          "output_type": "execute_result",
          "data": {
            "text/plain": [
              "<keras.callbacks.History at 0x7fe48e2550f0>"
            ]
          },
          "metadata": {
            "tags": []
          },
          "execution_count": 158
        }
      ]
    },
    {
      "cell_type": "code",
      "metadata": {
        "id": "co0ybjNUskn7",
        "colab_type": "code",
        "colab": {}
      },
      "source": [
        "X_predict = []\n",
        "X_predict.append([  0,    0,    0,    9,    2, 2716,    3,  179, 2717,   85])# не знаем, как строку преобразовать в вектор чисел\n",
        "X_predict = np.array(X_predict)"
      ],
      "execution_count": 0,
      "outputs": []
    },
    {
      "cell_type": "code",
      "metadata": {
        "id": "IYegYpBGnruf",
        "colab_type": "code",
        "colab": {}
      },
      "source": [
        "prediction = keras_model.predict_classes(X_predict)"
      ],
      "execution_count": 0,
      "outputs": []
    },
    {
      "cell_type": "code",
      "metadata": {
        "id": "O5PRS_nEzLyk",
        "colab_type": "code",
        "outputId": "6cdd6533-d221-4500-9557-f959cf02dce5",
        "colab": {
          "base_uri": "https://localhost:8080/",
          "height": 34
        }
      },
      "source": [
        "answers = transform_from_categorical(prediction, unique_intents.tolist())\n",
        "answers"
      ],
      "execution_count": 0,
      "outputs": [
        {
          "output_type": "execute_result",
          "data": {
            "text/plain": [
              "['AddToPlaylist']"
            ]
          },
          "metadata": {
            "tags": []
          },
          "execution_count": 180
        }
      ]
    },
    {
      "cell_type": "code",
      "metadata": {
        "id": "I5BOhkJwWh5L",
        "colab_type": "code",
        "colab": {}
      },
      "source": [
        "# Создание модели\n",
        "def get_model(word2vec_model, COUNT_CLASSES):\n",
        "    model = Sequential() \n",
        "    model.add(word2vec_model.wv.get_keras_embedding(train_embeddings = True))\n",
        "    \n",
        "    model.add(Dropout(0.2))\n",
        "\n",
        "    model.add(Conv1D(50,\n",
        "                 3,\n",
        "                 padding = 'valid',\n",
        "                 activation = 'relu',\n",
        "                 strides = 1))\n",
        "    model.add(GlobalMaxPooling1D())\n",
        "\n",
        "    model.add(Dense(250))\n",
        "    model.add(Dropout(0.2))\n",
        "    model.add(Activation('relu'))\n",
        "\n",
        "    model.add(Dense(COUNT_CLASSES, activation = 'softmax'))\n",
        "\n",
        "    model.compile(loss = 'categorical_crossentropy', optimizer = 'adam', metrics = ['accuracy'])\n",
        "  \n",
        "    return model"
      ],
      "execution_count": 0,
      "outputs": []
    },
    {
      "cell_type": "code",
      "metadata": {
        "id": "hjR5w3pYWd9M",
        "colab_type": "code",
        "colab": {}
      },
      "source": [
        "def transform_to_categorical(intents_for_each, unique_intents):\n",
        "  intents_to_digit = []\n",
        "\n",
        "  for intent in intents_for_each:\n",
        "    intents_to_digit.append(unique_intents.index(intent))\n",
        "\n",
        "  return to_categorical(intents_to_digit, 7)"
      ],
      "execution_count": 0,
      "outputs": []
    },
    {
      "cell_type": "code",
      "metadata": {
        "id": "6mZ6qcpEWZvd",
        "colab_type": "code",
        "colab": {}
      },
      "source": [
        "def transform_from_categorical(prediction, intents):\n",
        "  answers = []\n",
        "\n",
        "  for i in range(prediction.shape[0]):\n",
        "    answers.append(intents[prediction[i]])\n",
        "\n",
        "  return answers"
      ],
      "execution_count": 0,
      "outputs": []
    },
    {
      "cell_type": "markdown",
      "metadata": {
        "id": "W6-v8G5lmIRM",
        "colab_type": "text"
      },
      "source": [
        "**Дообучение модели**"
      ]
    },
    {
      "cell_type": "code",
      "metadata": {
        "id": "QAHRr1xpt8Q7",
        "colab_type": "code",
        "colab": {}
      },
      "source": [
        "new_file_csv = pd.read_csv('drive/My Drive/ForGensim/train_new.csv')"
      ],
      "execution_count": 0,
      "outputs": []
    },
    {
      "cell_type": "code",
      "metadata": {
        "id": "z1zOF-4UZPZ5",
        "colab_type": "code",
        "colab": {}
      },
      "source": [
        "all_new_texts = new_file_csv['text']\n",
        "all_new_intents = new_file_csv['intents']"
      ],
      "execution_count": 0,
      "outputs": []
    },
    {
      "cell_type": "code",
      "metadata": {
        "id": "vztZz8CAgpl-",
        "colab_type": "code",
        "colab": {}
      },
      "source": [
        "unique_new_intents = new_file_csv.intents.unique()"
      ],
      "execution_count": 0,
      "outputs": []
    },
    {
      "cell_type": "code",
      "metadata": {
        "id": "znnqyRZ6guEe",
        "colab_type": "code",
        "outputId": "3612c701-8a3a-4ea4-f7fb-0a5b94167364",
        "colab": {
          "base_uri": "https://localhost:8080/",
          "height": 34
        }
      },
      "source": [
        "unique_new_intents"
      ],
      "execution_count": 0,
      "outputs": [
        {
          "output_type": "execute_result",
          "data": {
            "text/plain": [
              "array(['RateBook', 'SearchCreativeWork'], dtype=object)"
            ]
          },
          "metadata": {
            "tags": []
          },
          "execution_count": 190
        }
      ]
    },
    {
      "cell_type": "code",
      "metadata": {
        "id": "M0JyDXGImDsp",
        "colab_type": "code",
        "colab": {}
      },
      "source": [
        "from keras.models import save_model, load_model"
      ],
      "execution_count": 0,
      "outputs": []
    },
    {
      "cell_type": "code",
      "metadata": {
        "id": "vxBLTI-8mQ-u",
        "colab_type": "code",
        "colab": {}
      },
      "source": [
        "keras_model = load_model('drive/My Drive/ForGensim/keras_model.h5')"
      ],
      "execution_count": 0,
      "outputs": []
    },
    {
      "cell_type": "code",
      "metadata": {
        "id": "HaPfgwaixJM3",
        "colab_type": "code",
        "outputId": "2246759a-a971-4dcd-c0e5-b7d1b57ceb05",
        "colab": {
          "base_uri": "https://localhost:8080/",
          "height": 71
        }
      },
      "source": [
        "word2vec_model = Word2Vec.load(\"drive/My Drive/ForGensim/Word2VecModel\")"
      ],
      "execution_count": 0,
      "outputs": [
        {
          "output_type": "stream",
          "text": [
            "/usr/local/lib/python3.6/dist-packages/smart_open/smart_open_lib.py:402: UserWarning: This function is deprecated, use smart_open.open instead. See the migration notes for details: https://github.com/RaRe-Technologies/smart_open/blob/master/README.rst#migrating-to-the-new-open-function\n",
            "  'See the migration notes for details: %s' % _MIGRATION_NOTES_URL\n"
          ],
          "name": "stderr"
        }
      ]
    },
    {
      "cell_type": "code",
      "metadata": {
        "id": "_s94d_Ypueai",
        "colab_type": "code",
        "colab": {}
      },
      "source": [
        "sentences = np.array(all_new_texts.apply(lambda x : remove_stopwords(x)))"
      ],
      "execution_count": 0,
      "outputs": []
    },
    {
      "cell_type": "code",
      "metadata": {
        "id": "8W2mU4KQiDn7",
        "colab_type": "code",
        "outputId": "8782a835-cc27-415f-e969-2e4ccbdbc907",
        "colab": {
          "base_uri": "https://localhost:8080/",
          "height": 119
        }
      },
      "source": [
        "sentences"
      ],
      "execution_count": 0,
      "outputs": [
        {
          "output_type": "execute_result",
          "data": {
            "text/plain": [
              "array([list(['rate', 'lotus', 'storm', 'zero', '6']),\n",
              "       list(['rate', 'fall', 'artist', '5', 'stars']),\n",
              "       list(['rate', 'current', 'novel', 'one', 'points']), ...,\n",
              "       list(['please', 'get', 'follow', 'video', 'game']),\n",
              "       list(['please', 'look', 'show', 'statue', 'james', 'outram']),\n",
              "       list(['find', 'far', 'tv', 'series'])], dtype=object)"
            ]
          },
          "metadata": {
            "tags": []
          },
          "execution_count": 191
        }
      ]
    },
    {
      "cell_type": "code",
      "metadata": {
        "id": "v-R0IU67kl4V",
        "colab_type": "code",
        "colab": {}
      },
      "source": [
        "texts = sentences"
      ],
      "execution_count": 0,
      "outputs": []
    },
    {
      "cell_type": "code",
      "metadata": {
        "id": "zXhbl_qgnVW7",
        "colab_type": "code",
        "colab": {}
      },
      "source": [
        "tokens = []\n",
        "\n",
        "for sentence in sentences:\n",
        "  tokens.append(sentence)"
      ],
      "execution_count": 0,
      "outputs": []
    },
    {
      "cell_type": "code",
      "metadata": {
        "id": "CMVZ5CeDhXRP",
        "colab_type": "code",
        "outputId": "25159f43-785f-486a-ded1-2378aafec945",
        "colab": {
          "base_uri": "https://localhost:8080/",
          "height": 88
        }
      },
      "source": [
        "#дообучаем модель word2vec\n",
        "word2vec_model.build_vocab(tokens, update = True)\n",
        "word2vec_model.train(tokens, total_examples = len(tokens), epochs = word2vec_model.iter)"
      ],
      "execution_count": 0,
      "outputs": [
        {
          "output_type": "stream",
          "text": [
            "/usr/local/lib/python3.6/dist-packages/ipykernel_launcher.py:2: DeprecationWarning: Call to deprecated `iter` (Attribute will be removed in 4.0.0, use self.epochs instead).\n",
            "  \n"
          ],
          "name": "stderr"
        },
        {
          "output_type": "execute_result",
          "data": {
            "text/plain": [
              "(103452, 236420)"
            ]
          },
          "metadata": {
            "tags": []
          },
          "execution_count": 195
        }
      ]
    },
    {
      "cell_type": "code",
      "metadata": {
        "id": "R9TYL9qsnGqf",
        "colab_type": "code",
        "colab": {}
      },
      "source": [
        "token = Tokenizer()\n",
        "token.fit_on_texts(texts)\n",
        "text = token.texts_to_sequences(texts)\n",
        "text = pad_sequences(text, maxlen=10)"
      ],
      "execution_count": 0,
      "outputs": []
    },
    {
      "cell_type": "code",
      "metadata": {
        "id": "9QzJ28RRoa2Q",
        "colab_type": "code",
        "colab": {}
      },
      "source": [
        "X_train_new, X_test_new, y_train_new, y_test_new = train_test_split(text, all_new_intents, test_size=0.2, stratify=all_new_intents)"
      ],
      "execution_count": 0,
      "outputs": []
    },
    {
      "cell_type": "code",
      "metadata": {
        "id": "ctaQDwSRkx9n",
        "colab_type": "code",
        "colab": {}
      },
      "source": [
        "all_unique_intents=unique_intents.tolist()"
      ],
      "execution_count": 0,
      "outputs": []
    },
    {
      "cell_type": "code",
      "metadata": {
        "id": "bEt3MQrslYiQ",
        "colab_type": "code",
        "colab": {}
      },
      "source": [
        "for i in unique_new_intents:\n",
        "  all_unique_intents.append(i)"
      ],
      "execution_count": 0,
      "outputs": []
    },
    {
      "cell_type": "code",
      "metadata": {
        "id": "iK1boRSillcW",
        "colab_type": "code",
        "colab": {
          "base_uri": "https://localhost:8080/",
          "height": 136
        },
        "outputId": "8475ed89-3242-47c3-f899-527bef023d39"
      },
      "source": [
        "all_unique_intents"
      ],
      "execution_count": 207,
      "outputs": [
        {
          "output_type": "execute_result",
          "data": {
            "text/plain": [
              "['AddToPlaylist',\n",
              " 'BookRestaurant',\n",
              " 'GetWeather',\n",
              " 'PlayMusic',\n",
              " 'SearchScreeningEvent',\n",
              " 'RateBook',\n",
              " 'SearchCreativeWork']"
            ]
          },
          "metadata": {
            "tags": []
          },
          "execution_count": 207
        }
      ]
    },
    {
      "cell_type": "code",
      "metadata": {
        "id": "uYp-teohmdUj",
        "colab_type": "code",
        "colab": {}
      },
      "source": [
        "y_train_new = transform_to_categorical(y_train_new, all_unique_intents)"
      ],
      "execution_count": 0,
      "outputs": []
    },
    {
      "cell_type": "code",
      "metadata": {
        "id": "iqDViR7KvGaE",
        "colab_type": "code",
        "colab": {}
      },
      "source": [
        "y_test_new =  transform_to_categorical(y_test_new, all_unique_intents)"
      ],
      "execution_count": 0,
      "outputs": []
    },
    {
      "cell_type": "code",
      "metadata": {
        "id": "88Q9e3azvY7_",
        "colab_type": "code",
        "colab": {}
      },
      "source": [
        "keras_model.pop()"
      ],
      "execution_count": 0,
      "outputs": []
    },
    {
      "cell_type": "code",
      "metadata": {
        "id": "xQnOll-Snl0O",
        "colab_type": "code",
        "colab": {}
      },
      "source": [
        "keras_model.add(Dense(7, activation = 'softmax'))"
      ],
      "execution_count": 0,
      "outputs": []
    },
    {
      "cell_type": "code",
      "metadata": {
        "id": "OutUpwP_vq5A",
        "colab_type": "code",
        "colab": {}
      },
      "source": [
        "keras_model.compile(loss = 'categorical_crossentropy', optimizer = 'adam', metrics = ['accuracy'])"
      ],
      "execution_count": 0,
      "outputs": []
    },
    {
      "cell_type": "code",
      "metadata": {
        "id": "kJLD6k9fn9Wj",
        "colab_type": "code",
        "colab": {
          "base_uri": "https://localhost:8080/",
          "height": 425
        },
        "outputId": "e8aad86f-6bcf-449d-f77c-35ecfd32eef0"
      },
      "source": [
        "keras_model.summary()"
      ],
      "execution_count": 265,
      "outputs": [
        {
          "output_type": "stream",
          "text": [
            "Model: \"sequential_3\"\n",
            "_________________________________________________________________\n",
            "Layer (type)                 Output Shape              Param #   \n",
            "=================================================================\n",
            "embedding_3 (Embedding)      (None, None, 200)         516800    \n",
            "_________________________________________________________________\n",
            "dropout_5 (Dropout)          (None, None, 200)         0         \n",
            "_________________________________________________________________\n",
            "conv1d_3 (Conv1D)            (None, None, 50)          30050     \n",
            "_________________________________________________________________\n",
            "global_max_pooling1d_3 (Glob (None, 50)                0         \n",
            "_________________________________________________________________\n",
            "dense_5 (Dense)              (None, 250)               12750     \n",
            "_________________________________________________________________\n",
            "dropout_6 (Dropout)          (None, 250)               0         \n",
            "_________________________________________________________________\n",
            "activation_3 (Activation)    (None, 250)               0         \n",
            "_________________________________________________________________\n",
            "dense_12 (Dense)             (None, 7)                 1757      \n",
            "=================================================================\n",
            "Total params: 560,855\n",
            "Trainable params: 560,855\n",
            "Non-trainable params: 0\n",
            "_________________________________________________________________\n"
          ],
          "name": "stdout"
        }
      ]
    },
    {
      "cell_type": "code",
      "metadata": {
        "id": "3WFs0I5hvlbU",
        "colab_type": "code",
        "outputId": "2104943b-646b-4697-d2fc-e7d1b07b2ec2",
        "colab": {
          "base_uri": "https://localhost:8080/",
          "height": 391
        }
      },
      "source": [
        "keras_model.fit(X_train_new, y_train_new, batch_size=BATCH, epochs=EPOCHS_COUNT, validation_data=(X_test_new, y_test_new))"
      ],
      "execution_count": 268,
      "outputs": [
        {
          "output_type": "stream",
          "text": [
            "Train on 3608 samples, validate on 902 samples\n",
            "Epoch 1/10\n",
            "3608/3608 [==============================] - 2s 610us/step - loss: 0.2963 - acc: 0.8872 - val_loss: 0.0568 - val_acc: 0.9800\n",
            "Epoch 2/10\n",
            "3608/3608 [==============================] - 1s 270us/step - loss: 0.0382 - acc: 0.9881 - val_loss: 0.0254 - val_acc: 0.9922\n",
            "Epoch 3/10\n",
            "3608/3608 [==============================] - 1s 292us/step - loss: 0.0144 - acc: 0.9961 - val_loss: 0.0152 - val_acc: 0.9933\n",
            "Epoch 4/10\n",
            "3608/3608 [==============================] - 1s 269us/step - loss: 0.0089 - acc: 0.9981 - val_loss: 0.0127 - val_acc: 0.9956\n",
            "Epoch 5/10\n",
            "3608/3608 [==============================] - 1s 276us/step - loss: 0.0021 - acc: 0.9997 - val_loss: 0.0117 - val_acc: 0.9956\n",
            "Epoch 6/10\n",
            "3608/3608 [==============================] - 1s 272us/step - loss: 9.9655e-04 - acc: 1.0000 - val_loss: 0.0098 - val_acc: 0.9956\n",
            "Epoch 7/10\n",
            "3608/3608 [==============================] - 1s 272us/step - loss: 7.7801e-04 - acc: 0.9997 - val_loss: 0.0163 - val_acc: 0.9945\n",
            "Epoch 8/10\n",
            "3608/3608 [==============================] - 1s 272us/step - loss: 3.4660e-04 - acc: 1.0000 - val_loss: 0.0097 - val_acc: 0.9956\n",
            "Epoch 9/10\n",
            "3608/3608 [==============================] - 1s 270us/step - loss: 7.3208e-04 - acc: 1.0000 - val_loss: 0.0110 - val_acc: 0.9967\n",
            "Epoch 10/10\n",
            "3608/3608 [==============================] - 1s 251us/step - loss: 2.2991e-04 - acc: 1.0000 - val_loss: 0.0098 - val_acc: 0.9967\n"
          ],
          "name": "stdout"
        },
        {
          "output_type": "execute_result",
          "data": {
            "text/plain": [
              "<keras.callbacks.History at 0x7fe48aed54a8>"
            ]
          },
          "metadata": {
            "tags": []
          },
          "execution_count": 268
        }
      ]
    },
    {
      "cell_type": "code",
      "metadata": {
        "id": "qZ64y5mQxqHo",
        "colab_type": "code",
        "colab": {}
      },
      "source": [
        "X_predict = []\n",
        "X_predict.append([  0,    0,    0,    9,    2, 2716,    3,  179, 2717,   85])# не знаем, как строку преобразовать в вектор чисел\n",
        "X_predict = np.array(X_predict)"
      ],
      "execution_count": 0,
      "outputs": []
    },
    {
      "cell_type": "code",
      "metadata": {
        "id": "I9r1UBjpxv9f",
        "colab_type": "code",
        "colab": {}
      },
      "source": [
        "prediction = keras_model.predict_classes(X_predict)"
      ],
      "execution_count": 0,
      "outputs": []
    },
    {
      "cell_type": "code",
      "metadata": {
        "id": "NpOtrfeQxwLH",
        "colab_type": "code",
        "colab": {
          "base_uri": "https://localhost:8080/",
          "height": 34
        },
        "outputId": "91095829-85aa-4181-bca3-1366070f91a6"
      },
      "source": [
        "answers = transform_from_categorical(prediction, all_unique_intents)\n",
        "answers"
      ],
      "execution_count": 273,
      "outputs": [
        {
          "output_type": "execute_result",
          "data": {
            "text/plain": [
              "['SearchCreativeWork']"
            ]
          },
          "metadata": {
            "tags": []
          },
          "execution_count": 273
        }
      ]
    }
  ]
}