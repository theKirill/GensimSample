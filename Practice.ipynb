{
  "nbformat": 4,
  "nbformat_minor": 0,
  "metadata": {
    "colab": {
      "name": "Copy of Practice.ipynb",
      "provenance": [],
      "collapsed_sections": []
    },
    "kernelspec": {
      "name": "python3",
      "display_name": "Python 3"
    },
    "accelerator": "GPU"
  },
  "cells": [
    {
      "cell_type": "code",
      "metadata": {
        "id": "CCq8L9tfX-tf",
        "colab_type": "code",
        "colab": {}
      },
      "source": [
        "import gensim\n",
        "import nltk\n",
        "from nltk.corpus import stopwords\n",
        "from gensim.models import Word2Vec\n",
        "import pandas as pd\n",
        "import numpy as np\n",
        "import keras\n",
        "from keras.preprocessing.text import Tokenizer\n",
        "from keras.preprocessing.sequence import pad_sequences\n",
        "from keras.models import Sequential\n",
        "from keras.layers import Dense, Flatten, Embedding, Dropout, Conv1D, GlobalMaxPooling1D, Activation\n",
        "from keras.models import Model\n",
        "import sklearn\n",
        "from sklearn.model_selection import train_test_split\n",
        "from keras.utils import to_categorical\n",
        "from keras.models import save_model, load_model\n",
        "from keras.callbacks import ModelCheckpoint\n",
        "from nltk.tokenize import RegexpTokenizer"
      ],
      "execution_count": 0,
      "outputs": []
    },
    {
      "cell_type": "code",
      "metadata": {
        "id": "u7yBLPEfObyi",
        "colab_type": "code",
        "outputId": "ca77017d-9349-4b0c-c9cf-bdc6fedbedd0",
        "colab": {
          "base_uri": "https://localhost:8080/",
          "height": 105
        }
      },
      "source": [
        "nltk.download('punkt')\n",
        "nltk.download('stopwords')"
      ],
      "execution_count": 139,
      "outputs": [
        {
          "output_type": "stream",
          "text": [
            "[nltk_data] Downloading package punkt to /root/nltk_data...\n",
            "[nltk_data]   Package punkt is already up-to-date!\n",
            "[nltk_data] Downloading package stopwords to /root/nltk_data...\n",
            "[nltk_data]   Package stopwords is already up-to-date!\n"
          ],
          "name": "stdout"
        },
        {
          "output_type": "execute_result",
          "data": {
            "text/plain": [
              "True"
            ]
          },
          "metadata": {
            "tags": []
          },
          "execution_count": 139
        }
      ]
    },
    {
      "cell_type": "code",
      "metadata": {
        "id": "EutRrh8aLEQL",
        "colab_type": "code",
        "outputId": "891b3402-47a0-4942-8a55-29dcb8a9be23",
        "colab": {
          "base_uri": "https://localhost:8080/",
          "height": 34
        }
      },
      "source": [
        "from google.colab import drive\n",
        "drive.mount('/content/drive')"
      ],
      "execution_count": 140,
      "outputs": [
        {
          "output_type": "stream",
          "text": [
            "Drive already mounted at /content/drive; to attempt to forcibly remount, call drive.mount(\"/content/drive\", force_remount=True).\n"
          ],
          "name": "stdout"
        }
      ]
    },
    {
      "cell_type": "code",
      "metadata": {
        "id": "iLlOyB5xy2HD",
        "colab_type": "code",
        "colab": {}
      },
      "source": [
        "file_csv = pd.read_csv('drive/My Drive/ForGensim/train.csv')"
      ],
      "execution_count": 0,
      "outputs": []
    },
    {
      "cell_type": "code",
      "metadata": {
        "id": "0Fgb2vFPQhfP",
        "colab_type": "code",
        "outputId": "6f3f7da4-c5b6-497a-e18c-02304081301a",
        "colab": {
          "base_uri": "https://localhost:8080/",
          "height": 402
        }
      },
      "source": [
        "file_csv"
      ],
      "execution_count": 142,
      "outputs": [
        {
          "output_type": "execute_result",
          "data": {
            "text/html": [
              "<div>\n",
              "<style scoped>\n",
              "    .dataframe tbody tr th:only-of-type {\n",
              "        vertical-align: middle;\n",
              "    }\n",
              "\n",
              "    .dataframe tbody tr th {\n",
              "        vertical-align: top;\n",
              "    }\n",
              "\n",
              "    .dataframe thead th {\n",
              "        text-align: right;\n",
              "    }\n",
              "</style>\n",
              "<table border=\"1\" class=\"dataframe\">\n",
              "  <thead>\n",
              "    <tr style=\"text-align: right;\">\n",
              "      <th></th>\n",
              "      <th>text</th>\n",
              "      <th>intents</th>\n",
              "    </tr>\n",
              "  </thead>\n",
              "  <tbody>\n",
              "    <tr>\n",
              "      <th>0</th>\n",
              "      <td>Add another song to the Cita RomГЎntica playli...</td>\n",
              "      <td>AddToPlaylist</td>\n",
              "    </tr>\n",
              "    <tr>\n",
              "      <th>1</th>\n",
              "      <td>add clem burke in my playlist Pre-Party R&amp;B Jams</td>\n",
              "      <td>AddToPlaylist</td>\n",
              "    </tr>\n",
              "    <tr>\n",
              "      <th>2</th>\n",
              "      <td>Add Live from Aragon Ballroom to Trapeo</td>\n",
              "      <td>AddToPlaylist</td>\n",
              "    </tr>\n",
              "    <tr>\n",
              "      <th>3</th>\n",
              "      <td>add Unite and Win to my night out</td>\n",
              "      <td>AddToPlaylist</td>\n",
              "    </tr>\n",
              "    <tr>\n",
              "      <th>4</th>\n",
              "      <td>Add track to my Digster Future Hits</td>\n",
              "      <td>AddToPlaylist</td>\n",
              "    </tr>\n",
              "    <tr>\n",
              "      <th>...</th>\n",
              "      <td>...</td>\n",
              "      <td>...</td>\n",
              "    </tr>\n",
              "    <tr>\n",
              "      <th>11369</th>\n",
              "      <td>Is Across the Line playing at the closest movi...</td>\n",
              "      <td>SearchScreeningEvent</td>\n",
              "    </tr>\n",
              "    <tr>\n",
              "      <th>11370</th>\n",
              "      <td>Which animated movies are playing in the neigh...</td>\n",
              "      <td>SearchScreeningEvent</td>\n",
              "    </tr>\n",
              "    <tr>\n",
              "      <th>11371</th>\n",
              "      <td>Where is They Always Return at Dawn playing</td>\n",
              "      <td>SearchScreeningEvent</td>\n",
              "    </tr>\n",
              "    <tr>\n",
              "      <th>11372</th>\n",
              "      <td>What is the movie schedule in the neighborhood</td>\n",
              "      <td>SearchScreeningEvent</td>\n",
              "    </tr>\n",
              "    <tr>\n",
              "      <th>11373</th>\n",
              "      <td>Tell me when Howling II: Your Sister Is a Were...</td>\n",
              "      <td>SearchScreeningEvent</td>\n",
              "    </tr>\n",
              "  </tbody>\n",
              "</table>\n",
              "<p>11374 rows × 2 columns</p>\n",
              "</div>"
            ],
            "text/plain": [
              "                                                    text               intents\n",
              "0      Add another song to the Cita RomГЎntica playli...         AddToPlaylist\n",
              "1       add clem burke in my playlist Pre-Party R&B Jams         AddToPlaylist\n",
              "2                Add Live from Aragon Ballroom to Trapeo         AddToPlaylist\n",
              "3                      add Unite and Win to my night out         AddToPlaylist\n",
              "4                    Add track to my Digster Future Hits         AddToPlaylist\n",
              "...                                                  ...                   ...\n",
              "11369  Is Across the Line playing at the closest movi...  SearchScreeningEvent\n",
              "11370  Which animated movies are playing in the neigh...  SearchScreeningEvent\n",
              "11371        Where is They Always Return at Dawn playing  SearchScreeningEvent\n",
              "11372     What is the movie schedule in the neighborhood  SearchScreeningEvent\n",
              "11373  Tell me when Howling II: Your Sister Is a Were...  SearchScreeningEvent\n",
              "\n",
              "[11374 rows x 2 columns]"
            ]
          },
          "metadata": {
            "tags": []
          },
          "execution_count": 142
        }
      ]
    },
    {
      "cell_type": "code",
      "metadata": {
        "id": "v_g3zM2bQ3Tu",
        "colab_type": "code",
        "colab": {}
      },
      "source": [
        "all_texts = file_csv['text']\n",
        "all_intents = file_csv['intents']"
      ],
      "execution_count": 0,
      "outputs": []
    },
    {
      "cell_type": "code",
      "metadata": {
        "id": "z8Yp_2tMQOKl",
        "colab_type": "code",
        "outputId": "ed792504-9b00-47bb-a9cf-91d633557b81",
        "colab": {
          "base_uri": "https://localhost:8080/",
          "height": 34
        }
      },
      "source": [
        "file_csv = file_csv.dropna()\n",
        "file_csv['text'].apply(lambda x: len(x.split(' '))).sum()"
      ],
      "execution_count": 144,
      "outputs": [
        {
          "output_type": "execute_result",
          "data": {
            "text/plain": [
              "105347"
            ]
          },
          "metadata": {
            "tags": []
          },
          "execution_count": 144
        }
      ]
    },
    {
      "cell_type": "code",
      "metadata": {
        "id": "Hwt_CiyC1yfo",
        "colab_type": "code",
        "outputId": "4e6c6348-4ec1-4482-ccdb-1b51b98fe256",
        "colab": {
          "base_uri": "https://localhost:8080/",
          "height": 228
        }
      },
      "source": [
        "file_csv['text']"
      ],
      "execution_count": 145,
      "outputs": [
        {
          "output_type": "execute_result",
          "data": {
            "text/plain": [
              "0        Add another song to the Cita RomГЎntica playli...\n",
              "1         add clem burke in my playlist Pre-Party R&B Jams\n",
              "2                  Add Live from Aragon Ballroom to Trapeo\n",
              "3                        add Unite and Win to my night out\n",
              "4                      Add track to my Digster Future Hits\n",
              "                               ...                        \n",
              "11369    Is Across the Line playing at the closest movi...\n",
              "11370    Which animated movies are playing in the neigh...\n",
              "11371          Where is They Always Return at Dawn playing\n",
              "11372       What is the movie schedule in the neighborhood\n",
              "11373    Tell me when Howling II: Your Sister Is a Were...\n",
              "Name: text, Length: 11374, dtype: object"
            ]
          },
          "metadata": {
            "tags": []
          },
          "execution_count": 145
        }
      ]
    },
    {
      "cell_type": "code",
      "metadata": {
        "id": "_JQ7LK3-2O1Z",
        "colab_type": "code",
        "colab": {}
      },
      "source": [
        "unique_intents = file_csv.intents.unique()"
      ],
      "execution_count": 0,
      "outputs": []
    },
    {
      "cell_type": "code",
      "metadata": {
        "id": "9pkMOcKTJOMX",
        "colab_type": "code",
        "outputId": "758fa057-8044-4e41-9371-041baa344b79",
        "colab": {
          "base_uri": "https://localhost:8080/",
          "height": 52
        }
      },
      "source": [
        "unique_intents"
      ],
      "execution_count": 147,
      "outputs": [
        {
          "output_type": "execute_result",
          "data": {
            "text/plain": [
              "array(['AddToPlaylist', 'BookRestaurant', 'GetWeather', 'PlayMusic',\n",
              "       'SearchScreeningEvent'], dtype=object)"
            ]
          },
          "metadata": {
            "tags": []
          },
          "execution_count": 147
        }
      ]
    },
    {
      "cell_type": "markdown",
      "metadata": {
        "id": "q-oraviUTcaG",
        "colab_type": "text"
      },
      "source": [
        "**Удаление стоп-слов и пунктуации**"
      ]
    },
    {
      "cell_type": "code",
      "metadata": {
        "id": "vMMxwWtQR-NL",
        "colab_type": "code",
        "colab": {}
      },
      "source": [
        "def remove_stopwords(text):\n",
        "  regex_tokenizer = RegexpTokenizer('[a-zA-Z]+')\n",
        "  words = regex_tokenizer.tokenize(text.lower())\n",
        "  stop_words = set(stopwords.words(\"english\"))\n",
        "  without_stop_words = [w for w in words if w not in stop_words]\n",
        "  return without_stop_words"
      ],
      "execution_count": 0,
      "outputs": []
    },
    {
      "cell_type": "code",
      "metadata": {
        "id": "RIGT3jwAUXeS",
        "colab_type": "code",
        "colab": {}
      },
      "source": [
        "def get_tokens(text):\n",
        "  sentences = np.array(text.apply(lambda x : remove_stopwords(x)))\n",
        "  tokens = []\n",
        "\n",
        "  for sentence in sentences:\n",
        "    tokens.append(sentence)\n",
        "    \n",
        "  return tokens"
      ],
      "execution_count": 0,
      "outputs": []
    },
    {
      "cell_type": "code",
      "metadata": {
        "id": "ct7k4eYPU1aO",
        "colab_type": "code",
        "colab": {}
      },
      "source": [
        "tokens = get_tokens(all_texts)"
      ],
      "execution_count": 0,
      "outputs": []
    },
    {
      "cell_type": "code",
      "metadata": {
        "id": "90Z6jo9lfph0",
        "colab_type": "code",
        "outputId": "b9adb9af-d690-4a8a-bc31-c7fa5a10a06c",
        "colab": {
          "base_uri": "https://localhost:8080/",
          "height": 105
        }
      },
      "source": [
        "tokens[:5]"
      ],
      "execution_count": 151,
      "outputs": [
        {
          "output_type": "execute_result",
          "data": {
            "text/plain": [
              "[['add', 'another', 'song', 'cita', 'rom', 'ntica', 'playlist'],\n",
              " ['add', 'clem', 'burke', 'playlist', 'pre', 'party', 'r', 'b', 'jams'],\n",
              " ['add', 'live', 'aragon', 'ballroom', 'trapeo'],\n",
              " ['add', 'unite', 'win', 'night'],\n",
              " ['add', 'track', 'digster', 'future', 'hits']]"
            ]
          },
          "metadata": {
            "tags": []
          },
          "execution_count": 151
        }
      ]
    },
    {
      "cell_type": "markdown",
      "metadata": {
        "id": "d9yR-UzwPPNr",
        "colab_type": "text"
      },
      "source": [
        "**Работа с Word2Vec**"
      ]
    },
    {
      "cell_type": "code",
      "metadata": {
        "id": "9X8Kb9p5NSUc",
        "colab_type": "code",
        "colab": {}
      },
      "source": [
        "VECTOR_SIZE = 200\n",
        "WINDOW_SIZE = 10\n",
        "MIN_COUNT = 3\n",
        "ITER_COUNT = 10\n",
        "WORKERS = 4"
      ],
      "execution_count": 0,
      "outputs": []
    },
    {
      "cell_type": "code",
      "metadata": {
        "id": "1j1Ft2Oj3zUr",
        "colab_type": "code",
        "colab": {}
      },
      "source": [
        "word2vec_model = Word2Vec(tokens, size = VECTOR_SIZE, window = WINDOW_SIZE, min_count = MIN_COUNT, workers = WORKERS, iter = ITER_COUNT)"
      ],
      "execution_count": 0,
      "outputs": []
    },
    {
      "cell_type": "code",
      "metadata": {
        "id": "SHExhjKWCf2w",
        "colab_type": "code",
        "outputId": "2891352b-1676-4ab0-d6c1-092c4f1f6d86",
        "colab": {
          "base_uri": "https://localhost:8080/",
          "height": 34
        }
      },
      "source": [
        "#word2vec_model.train(tokens, total_examples = len(tokens), epochs = 500)"
      ],
      "execution_count": 0,
      "outputs": [
        {
          "output_type": "execute_result",
          "data": {
            "text/plain": [
              "(22181828, 34511000)"
            ]
          },
          "metadata": {
            "tags": []
          },
          "execution_count": 50
        }
      ]
    },
    {
      "cell_type": "code",
      "metadata": {
        "id": "lsjHvH-Jaqp2",
        "colab_type": "code",
        "outputId": "d9d6f154-13c6-4a6f-81a5-5860d5429e4a",
        "colab": {
          "base_uri": "https://localhost:8080/",
          "height": 794
        }
      },
      "source": [
        "word2vec_model['song']"
      ],
      "execution_count": 154,
      "outputs": [
        {
          "output_type": "stream",
          "text": [
            "/usr/local/lib/python3.6/dist-packages/ipykernel_launcher.py:1: DeprecationWarning: Call to deprecated `__getitem__` (Method will be removed in 4.0.0, use self.wv.__getitem__() instead).\n",
            "  \"\"\"Entry point for launching an IPython kernel.\n"
          ],
          "name": "stderr"
        },
        {
          "output_type": "execute_result",
          "data": {
            "text/plain": [
              "array([ 0.47345924, -0.17676024,  0.52922595, -0.1319173 ,  0.20810851,\n",
              "       -0.5584447 ,  0.2981335 ,  0.47285324, -0.42127824, -0.02709766,\n",
              "        0.35713223,  0.25813818, -0.488822  , -0.04472679, -0.26641396,\n",
              "        0.17436603, -0.8874387 , -0.06067469, -0.05098581, -0.09972618,\n",
              "       -0.11230532,  0.00748323, -0.17986129,  0.1710474 ,  0.38246426,\n",
              "       -0.01547314, -0.27911258, -0.24537279, -0.13661379, -0.04645977,\n",
              "       -0.02520246,  0.8021188 ,  0.15620695,  0.13186865, -0.12441307,\n",
              "        0.053115  ,  0.5767155 ,  0.53687996,  0.36238626,  0.23327465,\n",
              "        0.09192725, -0.47613123,  0.23191133,  0.15415557, -0.0543849 ,\n",
              "        0.27921158,  0.09597164, -0.3098248 ,  0.09287596,  0.44258544,\n",
              "        0.3411997 ,  0.32817563,  0.10683738,  0.14549793,  0.5192385 ,\n",
              "       -0.80721354,  0.13759829, -0.19506998,  0.2084589 ,  0.38091925,\n",
              "        0.36972758,  0.22000635, -0.10746773,  0.13831678,  0.18075381,\n",
              "        0.3250943 ,  0.3362858 ,  0.26435778,  0.17601204,  0.1335791 ,\n",
              "       -0.15717132, -0.35854107, -0.14333656,  0.51814455,  0.34770486,\n",
              "       -0.12057915, -0.2759491 , -0.12210747,  0.2858763 ,  0.08222932,\n",
              "        0.30063507, -0.46743944,  0.19210453, -0.2620992 ,  0.23693916,\n",
              "       -0.26909083, -0.11189458,  0.5435505 , -0.02759603, -0.4563942 ,\n",
              "        0.10635958,  0.0149653 , -0.81549513, -0.26894495, -0.13123646,\n",
              "        0.20731588,  0.32283214, -0.10935779, -0.2439943 ,  0.26124224,\n",
              "       -0.12927036, -0.06643814,  0.26458317, -0.5715351 , -0.0183226 ,\n",
              "        0.31519172, -0.5512402 , -0.16206396,  0.04593888,  0.20608766,\n",
              "        0.17552137, -0.47267118, -0.2865889 ,  0.41392058,  0.01680028,\n",
              "       -0.08807269,  0.06706733,  0.3453191 , -0.01065392, -0.3958008 ,\n",
              "        0.11517487,  0.19928871,  0.6137765 ,  0.16013823, -0.43681175,\n",
              "       -0.03477875, -0.10669569,  0.37126058,  0.05319609,  0.88266504,\n",
              "       -0.01660817, -0.15842819,  0.6652813 , -0.00936148, -0.11822744,\n",
              "        0.3632511 , -0.12394296, -0.29366454,  0.24546991, -0.2404785 ,\n",
              "       -0.28410828,  0.29381758,  0.3403453 ,  0.12280194,  0.1689866 ,\n",
              "       -0.23965804,  0.31629288,  0.04065512, -0.05612368,  0.1156714 ,\n",
              "       -0.3678347 ,  0.14141057,  0.03865482, -0.1805771 ,  0.07951673,\n",
              "       -0.14417678,  0.08686902, -0.25994423, -0.38328984, -0.2755905 ,\n",
              "       -0.16485658,  0.23063871,  0.5842587 , -0.67269653, -0.61560583,\n",
              "        0.08440032, -0.19041207,  0.17013855, -0.44610372, -0.12947479,\n",
              "       -0.10987617,  0.0581495 ,  0.27688003, -0.1281976 , -0.20221923,\n",
              "        0.23807502, -0.054803  ,  0.21424766, -0.40983388, -0.24508232,\n",
              "       -0.03491686,  0.54467696, -0.03282537,  0.00992959,  0.02833045,\n",
              "        0.3789214 ,  0.00701082, -0.14307423, -0.20463216, -0.17283654,\n",
              "        0.1394782 , -0.1798736 ,  0.04324656,  0.15665512, -0.25474992,\n",
              "       -0.23693635,  0.03112152, -0.20479058,  0.26852512,  0.301831  ],\n",
              "      dtype=float32)"
            ]
          },
          "metadata": {
            "tags": []
          },
          "execution_count": 154
        }
      ]
    },
    {
      "cell_type": "code",
      "metadata": {
        "id": "i4CfKT_HQ9AW",
        "colab_type": "code",
        "outputId": "6867872a-21e4-43cc-eb14-038f42f205ca",
        "colab": {
          "base_uri": "https://localhost:8080/",
          "height": 283
        }
      },
      "source": [
        "word2vec_model.most_similar('song')"
      ],
      "execution_count": 155,
      "outputs": [
        {
          "output_type": "stream",
          "text": [
            "/usr/local/lib/python3.6/dist-packages/ipykernel_launcher.py:1: DeprecationWarning: Call to deprecated `most_similar` (Method will be removed in 4.0.0, use self.wv.most_similar() instead).\n",
            "  \"\"\"Entry point for launching an IPython kernel.\n",
            "/usr/local/lib/python3.6/dist-packages/gensim/matutils.py:737: FutureWarning: Conversion of the second argument of issubdtype from `int` to `np.signedinteger` is deprecated. In future, it will be treated as `np.int64 == np.dtype(int).type`.\n",
            "  if np.issubdtype(vec.dtype, np.int):\n"
          ],
          "name": "stderr"
        },
        {
          "output_type": "execute_result",
          "data": {
            "text/plain": [
              "[('track', 0.9973636269569397),\n",
              " ('album', 0.997258186340332),\n",
              " ('artist', 0.9963237047195435),\n",
              " ('tune', 0.9955297708511353),\n",
              " ('put', 0.99542635679245),\n",
              " ('rock', 0.9944835901260376),\n",
              " ('skies', 0.9935083389282227),\n",
              " ('playlist', 0.9932403564453125),\n",
              " ('music', 0.9932096004486084),\n",
              " ('google', 0.993181049823761)]"
            ]
          },
          "metadata": {
            "tags": []
          },
          "execution_count": 155
        }
      ]
    },
    {
      "cell_type": "code",
      "metadata": {
        "id": "hw0Muu67A8AH",
        "colab_type": "code",
        "outputId": "7a81a257-22d4-4bc8-af2c-515567cd31ee",
        "colab": {
          "base_uri": "https://localhost:8080/",
          "height": 283
        }
      },
      "source": [
        "word2vec_model.most_similar(positive=['song'], negative=['artist'])"
      ],
      "execution_count": 156,
      "outputs": [
        {
          "output_type": "stream",
          "text": [
            "/usr/local/lib/python3.6/dist-packages/ipykernel_launcher.py:1: DeprecationWarning: Call to deprecated `most_similar` (Method will be removed in 4.0.0, use self.wv.most_similar() instead).\n",
            "  \"\"\"Entry point for launching an IPython kernel.\n",
            "/usr/local/lib/python3.6/dist-packages/gensim/matutils.py:737: FutureWarning: Conversion of the second argument of issubdtype from `int` to `np.signedinteger` is deprecated. In future, it will be treated as `np.int64 == np.dtype(int).type`.\n",
            "  if np.issubdtype(vec.dtype, np.int):\n"
          ],
          "name": "stderr"
        },
        {
          "output_type": "execute_result",
          "data": {
            "text/plain": [
              "[('aired', 0.21036595106124878),\n",
              " ('list', 0.168114572763443),\n",
              " ('b', 0.15644524991512299),\n",
              " ('play', 0.12908120453357697),\n",
              " ('ines', 0.11604739725589752),\n",
              " ('playing', 0.11349107325077057),\n",
              " ('love', 0.0959177166223526),\n",
              " ('nearest', 0.08513445407152176),\n",
              " ('theatres', 0.08001292496919632),\n",
              " ('see', 0.07834508270025253)]"
            ]
          },
          "metadata": {
            "tags": []
          },
          "execution_count": 156
        }
      ]
    },
    {
      "cell_type": "code",
      "metadata": {
        "id": "B3C73VvUPc9S",
        "colab_type": "code",
        "outputId": "85d151db-1229-4ce3-9466-8861a81c8133",
        "colab": {
          "base_uri": "https://localhost:8080/",
          "height": 72
        }
      },
      "source": [
        "word2vec_model.save('drive/My Drive/ForGensim/Word2VecModel')\n",
        "word2vec_model.wv.save_word2vec_format('drive/My Drive/ForGensim/Word2VecModel.txt', binary=False)\n",
        "word2vec_model.wv.save_word2vec_format('drive/My Drive/ForGensim/Word2VecModel.bin', binary=True)"
      ],
      "execution_count": 157,
      "outputs": [
        {
          "output_type": "stream",
          "text": [
            "/usr/local/lib/python3.6/dist-packages/smart_open/smart_open_lib.py:402: UserWarning: This function is deprecated, use smart_open.open instead. See the migration notes for details: https://github.com/RaRe-Technologies/smart_open/blob/master/README.rst#migrating-to-the-new-open-function\n",
            "  'See the migration notes for details: %s' % _MIGRATION_NOTES_URL\n"
          ],
          "name": "stderr"
        }
      ]
    },
    {
      "cell_type": "markdown",
      "metadata": {
        "id": "slb25WzzWQ2l",
        "colab_type": "text"
      },
      "source": [
        "**Работа с keras**"
      ]
    },
    {
      "cell_type": "code",
      "metadata": {
        "id": "AZOuggsaNWnc",
        "colab_type": "code",
        "colab": {}
      },
      "source": [
        "def get_tokenizer_text(texts):\n",
        "  tokenizer = Tokenizer()\n",
        "  tokenizer.fit_on_texts(texts)\n",
        "  text = tokenizer.texts_to_sequences(texts)\n",
        "  text = pad_sequences(text, maxlen = 10)\n",
        "  return text"
      ],
      "execution_count": 0,
      "outputs": []
    },
    {
      "cell_type": "code",
      "metadata": {
        "id": "6mZ6qcpEWZvd",
        "colab_type": "code",
        "colab": {}
      },
      "source": [
        "def transform_from_categorical(prediction, intents):\n",
        "  answers = []\n",
        "\n",
        "  for i in range(prediction.shape[0]):\n",
        "    answers.append(intents[prediction[i]])\n",
        "\n",
        "  return answers"
      ],
      "execution_count": 0,
      "outputs": []
    },
    {
      "cell_type": "code",
      "metadata": {
        "id": "hjR5w3pYWd9M",
        "colab_type": "code",
        "colab": {}
      },
      "source": [
        "def transform_to_categorical(intents_for_each, unique_intents):\n",
        "  intents_to_digit = []\n",
        "\n",
        "  for intent in intents_for_each:\n",
        "    intents_to_digit.append(unique_intents.index(intent))\n",
        "\n",
        "  return to_categorical(intents_to_digit, len(unique_intents))"
      ],
      "execution_count": 0,
      "outputs": []
    },
    {
      "cell_type": "code",
      "metadata": {
        "id": "I5BOhkJwWh5L",
        "colab_type": "code",
        "colab": {}
      },
      "source": [
        "# Создание модели\n",
        "def get_model(word2vec_model, COUNT_CLASSES):\n",
        "    model = Sequential() \n",
        "    model.add(word2vec_model.wv.get_keras_embedding(train_embeddings = True))\n",
        "    \n",
        "    model.add(Dropout(0.2))\n",
        "\n",
        "    model.add(Conv1D(50,\n",
        "                 3,\n",
        "                 padding = 'valid',\n",
        "                 activation = 'relu',\n",
        "                 strides = 1))\n",
        "    model.add(GlobalMaxPooling1D())\n",
        "\n",
        "    model.add(Dense(250))\n",
        "    model.add(Dropout(0.2))\n",
        "    model.add(Activation('relu'))\n",
        "\n",
        "    model.add(Dense(COUNT_CLASSES, activation = 'softmax'))\n",
        "\n",
        "    model.compile(loss = 'categorical_crossentropy', optimizer = 'adam', metrics = ['accuracy'])\n",
        "  \n",
        "    return model"
      ],
      "execution_count": 0,
      "outputs": []
    },
    {
      "cell_type": "code",
      "metadata": {
        "id": "szKqfEozV0re",
        "colab_type": "code",
        "colab": {}
      },
      "source": [
        "word_vectors = word2vec_model.wv"
      ],
      "execution_count": 0,
      "outputs": []
    },
    {
      "cell_type": "code",
      "metadata": {
        "id": "i8FZ2hahFdnh",
        "colab_type": "code",
        "outputId": "08b0ca48-6215-4fd1-e664-1295efb6261e",
        "colab": {
          "base_uri": "https://localhost:8080/",
          "height": 34
        }
      },
      "source": [
        "print(\"Number of word vectors: {}\".format(len(word_vectors.vocab)))"
      ],
      "execution_count": 163,
      "outputs": [
        {
          "output_type": "stream",
          "text": [
            "Number of word vectors: 2400\n"
          ],
          "name": "stdout"
        }
      ]
    },
    {
      "cell_type": "code",
      "metadata": {
        "id": "2sR1nYOK4ZG1",
        "colab_type": "code",
        "colab": {}
      },
      "source": [
        "texts = sentences"
      ],
      "execution_count": 0,
      "outputs": []
    },
    {
      "cell_type": "code",
      "metadata": {
        "id": "5b7hvBjePvW7",
        "colab_type": "code",
        "colab": {}
      },
      "source": [
        "text = get_tokenizer_text(texts)"
      ],
      "execution_count": 0,
      "outputs": []
    },
    {
      "cell_type": "code",
      "metadata": {
        "id": "kno-kM4IQY_b",
        "colab_type": "code",
        "colab": {}
      },
      "source": [
        "X_train, X_test, y_train, y_test = train_test_split(text, all_intents, test_size = 0.2, stratify = all_intents)"
      ],
      "execution_count": 0,
      "outputs": []
    },
    {
      "cell_type": "code",
      "metadata": {
        "id": "jBzRb_oVxKAQ",
        "colab_type": "code",
        "colab": {}
      },
      "source": [
        "y_train = transform_to_categorical(y_train, unique_intents.tolist())"
      ],
      "execution_count": 0,
      "outputs": []
    },
    {
      "cell_type": "code",
      "metadata": {
        "id": "_SbDYml2fLqT",
        "colab_type": "code",
        "colab": {}
      },
      "source": [
        "y_test =  transform_to_categorical(y_test, unique_intents.tolist())"
      ],
      "execution_count": 0,
      "outputs": []
    },
    {
      "cell_type": "code",
      "metadata": {
        "id": "eJ9KZ7xlN5Mz",
        "colab_type": "code",
        "colab": {}
      },
      "source": [
        "COUNT_CLASSES = unique_intents.shape[0]"
      ],
      "execution_count": 0,
      "outputs": []
    },
    {
      "cell_type": "code",
      "metadata": {
        "id": "APJKTOTUYCY2",
        "colab_type": "code",
        "outputId": "d3bdcebd-af2a-4f67-eb67-71747cab899d",
        "colab": {
          "base_uri": "https://localhost:8080/",
          "height": 439
        }
      },
      "source": [
        "keras_model = get_model(word2vec_model, COUNT_CLASSES)\n",
        "keras_model.summary()"
      ],
      "execution_count": 170,
      "outputs": [
        {
          "output_type": "stream",
          "text": [
            "Model: \"sequential_3\"\n",
            "_________________________________________________________________\n",
            "Layer (type)                 Output Shape              Param #   \n",
            "=================================================================\n",
            "embedding_3 (Embedding)      (None, None, 200)         480000    \n",
            "_________________________________________________________________\n",
            "dropout_5 (Dropout)          (None, None, 200)         0         \n",
            "_________________________________________________________________\n",
            "conv1d_3 (Conv1D)            (None, None, 50)          30050     \n",
            "_________________________________________________________________\n",
            "global_max_pooling1d_3 (Glob (None, 50)                0         \n",
            "_________________________________________________________________\n",
            "dense_7 (Dense)              (None, 250)               12750     \n",
            "_________________________________________________________________\n",
            "dropout_6 (Dropout)          (None, 250)               0         \n",
            "_________________________________________________________________\n",
            "activation_3 (Activation)    (None, 250)               0         \n",
            "_________________________________________________________________\n",
            "dense_8 (Dense)              (None, 5)                 1255      \n",
            "=================================================================\n",
            "Total params: 524,055\n",
            "Trainable params: 524,055\n",
            "Non-trainable params: 0\n",
            "_________________________________________________________________\n"
          ],
          "name": "stdout"
        }
      ]
    },
    {
      "cell_type": "code",
      "metadata": {
        "id": "XA5fn-FvU7Wk",
        "colab_type": "code",
        "colab": {}
      },
      "source": [
        "BATCH = 32\n",
        "EPOCHS_COUNT = 10"
      ],
      "execution_count": 0,
      "outputs": []
    },
    {
      "cell_type": "code",
      "metadata": {
        "id": "xwRAbO1YR4va",
        "colab_type": "code",
        "outputId": "d0236089-99d9-497e-bc20-3b6bff369a1e",
        "colab": {
          "base_uri": "https://localhost:8080/",
          "height": 404
        }
      },
      "source": [
        "keras_model.fit(X_train, y_train, batch_size = BATCH, epochs = EPOCHS_COUNT, validation_data = (X_test, y_test),\n",
        "             callbacks=[ModelCheckpoint('drive/My Drive/ForGensim/keras_model.h5', save_best_only = True)])"
      ],
      "execution_count": 172,
      "outputs": [
        {
          "output_type": "stream",
          "text": [
            "Train on 9099 samples, validate on 2275 samples\n",
            "Epoch 1/10\n",
            "9099/9099 [==============================] - 2s 246us/step - loss: 0.5238 - acc: 0.8065 - val_loss: 0.0948 - val_acc: 0.9776\n",
            "Epoch 2/10\n",
            "9099/9099 [==============================] - 1s 164us/step - loss: 0.0681 - acc: 0.9816 - val_loss: 0.0497 - val_acc: 0.9899\n",
            "Epoch 3/10\n",
            "9099/9099 [==============================] - 2s 173us/step - loss: 0.0337 - acc: 0.9909 - val_loss: 0.0375 - val_acc: 0.9916\n",
            "Epoch 4/10\n",
            "9099/9099 [==============================] - 2s 175us/step - loss: 0.0192 - acc: 0.9953 - val_loss: 0.0379 - val_acc: 0.9908\n",
            "Epoch 5/10\n",
            "9099/9099 [==============================] - 2s 174us/step - loss: 0.0137 - acc: 0.9968 - val_loss: 0.0272 - val_acc: 0.9930\n",
            "Epoch 6/10\n",
            "9099/9099 [==============================] - 2s 177us/step - loss: 0.0125 - acc: 0.9966 - val_loss: 0.0315 - val_acc: 0.9938\n",
            "Epoch 7/10\n",
            "9099/9099 [==============================] - 2s 165us/step - loss: 0.0066 - acc: 0.9977 - val_loss: 0.0379 - val_acc: 0.9912\n",
            "Epoch 8/10\n",
            "9099/9099 [==============================] - 2s 167us/step - loss: 0.0043 - acc: 0.9987 - val_loss: 0.0358 - val_acc: 0.9938\n",
            "Epoch 9/10\n",
            "9099/9099 [==============================] - 1s 159us/step - loss: 0.0042 - acc: 0.9989 - val_loss: 0.0283 - val_acc: 0.9938\n",
            "Epoch 10/10\n",
            "9099/9099 [==============================] - 2s 174us/step - loss: 0.0040 - acc: 0.9991 - val_loss: 0.0290 - val_acc: 0.9934\n"
          ],
          "name": "stdout"
        },
        {
          "output_type": "execute_result",
          "data": {
            "text/plain": [
              "<keras.callbacks.History at 0x7f18f370a630>"
            ]
          },
          "metadata": {
            "tags": []
          },
          "execution_count": 172
        }
      ]
    },
    {
      "cell_type": "code",
      "metadata": {
        "id": "co0ybjNUskn7",
        "colab_type": "code",
        "colab": {}
      },
      "source": [
        "X_predict = []\n",
        "X_predict.append([  0,    0,    0,    9,    2, 2716,    3,  179, 2717,   85])# не знаем, как строку преобразовать в вектор чисел\n",
        "X_predict = np.array(X_predict)"
      ],
      "execution_count": 0,
      "outputs": []
    },
    {
      "cell_type": "code",
      "metadata": {
        "id": "IYegYpBGnruf",
        "colab_type": "code",
        "colab": {}
      },
      "source": [
        "prediction = keras_model.predict_classes(X_predict)"
      ],
      "execution_count": 0,
      "outputs": []
    },
    {
      "cell_type": "code",
      "metadata": {
        "id": "O5PRS_nEzLyk",
        "colab_type": "code",
        "outputId": "0929c072-3d72-4f5e-b1c6-38768759cf97",
        "colab": {
          "base_uri": "https://localhost:8080/",
          "height": 34
        }
      },
      "source": [
        "answers = transform_from_categorical(prediction, unique_intents.tolist())\n",
        "answers"
      ],
      "execution_count": 175,
      "outputs": [
        {
          "output_type": "execute_result",
          "data": {
            "text/plain": [
              "['AddToPlaylist']"
            ]
          },
          "metadata": {
            "tags": []
          },
          "execution_count": 175
        }
      ]
    },
    {
      "cell_type": "markdown",
      "metadata": {
        "id": "W6-v8G5lmIRM",
        "colab_type": "text"
      },
      "source": [
        "**Дообучение модели**"
      ]
    },
    {
      "cell_type": "code",
      "metadata": {
        "id": "_pFG4qGqRjbf",
        "colab_type": "code",
        "colab": {}
      },
      "source": [
        "def add_new_intents(old, new):\n",
        "  result = old\n",
        "\n",
        "  for i in new:\n",
        "    result.append(i)\n",
        "\n",
        "  return result"
      ],
      "execution_count": 0,
      "outputs": []
    },
    {
      "cell_type": "code",
      "metadata": {
        "id": "QAHRr1xpt8Q7",
        "colab_type": "code",
        "colab": {}
      },
      "source": [
        "new_file_csv = pd.read_csv('drive/My Drive/ForGensim/train_new.csv')"
      ],
      "execution_count": 0,
      "outputs": []
    },
    {
      "cell_type": "code",
      "metadata": {
        "id": "z1zOF-4UZPZ5",
        "colab_type": "code",
        "colab": {}
      },
      "source": [
        "all_new_texts = new_file_csv['text']\n",
        "all_new_intents = new_file_csv['intents']"
      ],
      "execution_count": 0,
      "outputs": []
    },
    {
      "cell_type": "code",
      "metadata": {
        "id": "vztZz8CAgpl-",
        "colab_type": "code",
        "colab": {}
      },
      "source": [
        "unique_new_intents = new_file_csv.intents.unique()"
      ],
      "execution_count": 0,
      "outputs": []
    },
    {
      "cell_type": "code",
      "metadata": {
        "id": "znnqyRZ6guEe",
        "colab_type": "code",
        "outputId": "98a9ad71-2f08-44fc-cfa0-4980097da37d",
        "colab": {
          "base_uri": "https://localhost:8080/",
          "height": 34
        }
      },
      "source": [
        "unique_new_intents"
      ],
      "execution_count": 180,
      "outputs": [
        {
          "output_type": "execute_result",
          "data": {
            "text/plain": [
              "array(['RateBook', 'SearchCreativeWork'], dtype=object)"
            ]
          },
          "metadata": {
            "tags": []
          },
          "execution_count": 180
        }
      ]
    },
    {
      "cell_type": "code",
      "metadata": {
        "id": "vxBLTI-8mQ-u",
        "colab_type": "code",
        "colab": {}
      },
      "source": [
        "keras_model = load_model('drive/My Drive/ForGensim/keras_model.h5')"
      ],
      "execution_count": 0,
      "outputs": []
    },
    {
      "cell_type": "code",
      "metadata": {
        "id": "HaPfgwaixJM3",
        "colab_type": "code",
        "outputId": "9d7bcbbf-44be-4852-d380-9520453e97cf",
        "colab": {
          "base_uri": "https://localhost:8080/",
          "height": 72
        }
      },
      "source": [
        "word2vec_model = Word2Vec.load(\"drive/My Drive/ForGensim/Word2VecModel\")"
      ],
      "execution_count": 182,
      "outputs": [
        {
          "output_type": "stream",
          "text": [
            "/usr/local/lib/python3.6/dist-packages/smart_open/smart_open_lib.py:402: UserWarning: This function is deprecated, use smart_open.open instead. See the migration notes for details: https://github.com/RaRe-Technologies/smart_open/blob/master/README.rst#migrating-to-the-new-open-function\n",
            "  'See the migration notes for details: %s' % _MIGRATION_NOTES_URL\n"
          ],
          "name": "stderr"
        }
      ]
    },
    {
      "cell_type": "code",
      "metadata": {
        "id": "5cVPzocRVCZ-",
        "colab_type": "code",
        "colab": {}
      },
      "source": [
        "tokens_new = get_tokens(all_new_texts)"
      ],
      "execution_count": 0,
      "outputs": []
    },
    {
      "cell_type": "code",
      "metadata": {
        "id": "d6QyIaUSVI4d",
        "colab_type": "code",
        "outputId": "1aa74652-125a-46c2-88d8-681cf39a22af",
        "colab": {
          "base_uri": "https://localhost:8080/",
          "height": 105
        }
      },
      "source": [
        "tokens_new[:5]"
      ],
      "execution_count": 184,
      "outputs": [
        {
          "output_type": "execute_result",
          "data": {
            "text/plain": [
              "[['rate', 'lotus', 'storm', 'zero'],\n",
              " ['rate', 'fall', 'artist', 'stars'],\n",
              " ['rate', 'current', 'novel', 'one', 'points'],\n",
              " ['rate', 'ape', 'man', 'within'],\n",
              " ['give', 'penalty', 'three', 'stars']]"
            ]
          },
          "metadata": {
            "tags": []
          },
          "execution_count": 184
        }
      ]
    },
    {
      "cell_type": "code",
      "metadata": {
        "id": "v-R0IU67kl4V",
        "colab_type": "code",
        "colab": {}
      },
      "source": [
        "texts = np.array(all_new_texts.apply(lambda x : remove_stopwords(x)))"
      ],
      "execution_count": 0,
      "outputs": []
    },
    {
      "cell_type": "code",
      "metadata": {
        "id": "CMVZ5CeDhXRP",
        "colab_type": "code",
        "outputId": "74bd2639-9d1f-4cbf-a5e2-096dab418894",
        "colab": {
          "base_uri": "https://localhost:8080/",
          "height": 70
        }
      },
      "source": [
        "#дообучаем модель word2vec\n",
        "word2vec_model.build_vocab(tokens_new, update = True)\n",
        "word2vec_model.train(tokens_new, total_examples = len(tokens_new), epochs = word2vec_model.iter)"
      ],
      "execution_count": 186,
      "outputs": [
        {
          "output_type": "stream",
          "text": [
            "/usr/local/lib/python3.6/dist-packages/ipykernel_launcher.py:2: DeprecationWarning: Call to deprecated `iter` (Attribute will be removed in 4.0.0, use self.epochs instead).\n",
            "  \n"
          ],
          "name": "stderr"
        },
        {
          "output_type": "execute_result",
          "data": {
            "text/plain": [
              "(92987, 211270)"
            ]
          },
          "metadata": {
            "tags": []
          },
          "execution_count": 186
        }
      ]
    },
    {
      "cell_type": "code",
      "metadata": {
        "id": "R9TYL9qsnGqf",
        "colab_type": "code",
        "colab": {}
      },
      "source": [
        "text = get_tokenizer_text(texts)"
      ],
      "execution_count": 0,
      "outputs": []
    },
    {
      "cell_type": "code",
      "metadata": {
        "id": "9QzJ28RRoa2Q",
        "colab_type": "code",
        "colab": {}
      },
      "source": [
        "X_train_new, X_test_new, y_train_new, y_test_new = train_test_split(text, all_new_intents, test_size=0.2, stratify=all_new_intents)"
      ],
      "execution_count": 0,
      "outputs": []
    },
    {
      "cell_type": "code",
      "metadata": {
        "id": "bEt3MQrslYiQ",
        "colab_type": "code",
        "colab": {}
      },
      "source": [
        "all_unique_intents = add_new_intents(unique_intents.tolist(), unique_new_intents.tolist())"
      ],
      "execution_count": 0,
      "outputs": []
    },
    {
      "cell_type": "code",
      "metadata": {
        "id": "iK1boRSillcW",
        "colab_type": "code",
        "outputId": "acc67012-2c2e-4e76-d844-8476ef3486b5",
        "colab": {
          "base_uri": "https://localhost:8080/",
          "height": 140
        }
      },
      "source": [
        "all_unique_intents"
      ],
      "execution_count": 190,
      "outputs": [
        {
          "output_type": "execute_result",
          "data": {
            "text/plain": [
              "['AddToPlaylist',\n",
              " 'BookRestaurant',\n",
              " 'GetWeather',\n",
              " 'PlayMusic',\n",
              " 'SearchScreeningEvent',\n",
              " 'RateBook',\n",
              " 'SearchCreativeWork']"
            ]
          },
          "metadata": {
            "tags": []
          },
          "execution_count": 190
        }
      ]
    },
    {
      "cell_type": "code",
      "metadata": {
        "id": "uYp-teohmdUj",
        "colab_type": "code",
        "colab": {}
      },
      "source": [
        "y_train_new = transform_to_categorical(y_train_new, all_unique_intents)"
      ],
      "execution_count": 0,
      "outputs": []
    },
    {
      "cell_type": "code",
      "metadata": {
        "id": "iqDViR7KvGaE",
        "colab_type": "code",
        "colab": {}
      },
      "source": [
        "y_test_new =  transform_to_categorical(y_test_new, all_unique_intents)"
      ],
      "execution_count": 0,
      "outputs": []
    },
    {
      "cell_type": "code",
      "metadata": {
        "id": "88Q9e3azvY7_",
        "colab_type": "code",
        "colab": {}
      },
      "source": [
        "keras_model.pop()"
      ],
      "execution_count": 0,
      "outputs": []
    },
    {
      "cell_type": "code",
      "metadata": {
        "id": "xQnOll-Snl0O",
        "colab_type": "code",
        "colab": {}
      },
      "source": [
        "keras_model.add(Dense(7, activation = 'softmax'))"
      ],
      "execution_count": 0,
      "outputs": []
    },
    {
      "cell_type": "code",
      "metadata": {
        "id": "OutUpwP_vq5A",
        "colab_type": "code",
        "colab": {}
      },
      "source": [
        "keras_model.compile(loss = 'categorical_crossentropy', optimizer = 'adam', metrics = ['accuracy'])"
      ],
      "execution_count": 0,
      "outputs": []
    },
    {
      "cell_type": "code",
      "metadata": {
        "id": "kJLD6k9fn9Wj",
        "colab_type": "code",
        "outputId": "350ff0cf-7c09-4c31-9672-9a85c556de6a",
        "colab": {
          "base_uri": "https://localhost:8080/",
          "height": 439
        }
      },
      "source": [
        "keras_model.summary()"
      ],
      "execution_count": 196,
      "outputs": [
        {
          "output_type": "stream",
          "text": [
            "Model: \"sequential_3\"\n",
            "_________________________________________________________________\n",
            "Layer (type)                 Output Shape              Param #   \n",
            "=================================================================\n",
            "embedding_3 (Embedding)      (None, None, 200)         480000    \n",
            "_________________________________________________________________\n",
            "dropout_5 (Dropout)          (None, None, 200)         0         \n",
            "_________________________________________________________________\n",
            "conv1d_3 (Conv1D)            (None, None, 50)          30050     \n",
            "_________________________________________________________________\n",
            "global_max_pooling1d_3 (Glob (None, 50)                0         \n",
            "_________________________________________________________________\n",
            "dense_7 (Dense)              (None, 250)               12750     \n",
            "_________________________________________________________________\n",
            "dropout_6 (Dropout)          (None, 250)               0         \n",
            "_________________________________________________________________\n",
            "activation_3 (Activation)    (None, 250)               0         \n",
            "_________________________________________________________________\n",
            "dense_9 (Dense)              (None, 7)                 1757      \n",
            "=================================================================\n",
            "Total params: 524,557\n",
            "Trainable params: 524,557\n",
            "Non-trainable params: 0\n",
            "_________________________________________________________________\n"
          ],
          "name": "stdout"
        }
      ]
    },
    {
      "cell_type": "code",
      "metadata": {
        "id": "3WFs0I5hvlbU",
        "colab_type": "code",
        "outputId": "7c0b1510-6a48-4759-f9ce-43d362cd0fad",
        "colab": {
          "base_uri": "https://localhost:8080/",
          "height": 404
        }
      },
      "source": [
        "keras_model.fit(X_train_new, y_train_new, batch_size=BATCH, epochs=EPOCHS_COUNT, validation_data=(X_test_new, y_test_new))"
      ],
      "execution_count": 197,
      "outputs": [
        {
          "output_type": "stream",
          "text": [
            "Train on 3608 samples, validate on 902 samples\n",
            "Epoch 1/10\n",
            "3608/3608 [==============================] - 1s 397us/step - loss: 0.2252 - acc: 0.9105 - val_loss: 0.0537 - val_acc: 0.9823\n",
            "Epoch 2/10\n",
            "3608/3608 [==============================] - 1s 172us/step - loss: 0.0320 - acc: 0.9873 - val_loss: 0.0242 - val_acc: 0.9911\n",
            "Epoch 3/10\n",
            "3608/3608 [==============================] - 1s 177us/step - loss: 0.0154 - acc: 0.9947 - val_loss: 0.0206 - val_acc: 0.9945\n",
            "Epoch 4/10\n",
            "3608/3608 [==============================] - 1s 160us/step - loss: 0.0063 - acc: 0.9983 - val_loss: 0.0195 - val_acc: 0.9933\n",
            "Epoch 5/10\n",
            "3608/3608 [==============================] - 1s 167us/step - loss: 0.0058 - acc: 0.9983 - val_loss: 0.0231 - val_acc: 0.9933\n",
            "Epoch 6/10\n",
            "3608/3608 [==============================] - 1s 174us/step - loss: 0.0030 - acc: 0.9989 - val_loss: 0.0176 - val_acc: 0.9945\n",
            "Epoch 7/10\n",
            "3608/3608 [==============================] - 1s 166us/step - loss: 0.0014 - acc: 0.9994 - val_loss: 0.0168 - val_acc: 0.9945\n",
            "Epoch 8/10\n",
            "3608/3608 [==============================] - 1s 164us/step - loss: 5.8775e-04 - acc: 1.0000 - val_loss: 0.0167 - val_acc: 0.9945\n",
            "Epoch 9/10\n",
            "3608/3608 [==============================] - 1s 164us/step - loss: 4.0229e-04 - acc: 1.0000 - val_loss: 0.0170 - val_acc: 0.9945\n",
            "Epoch 10/10\n",
            "3608/3608 [==============================] - 1s 172us/step - loss: 3.2857e-04 - acc: 1.0000 - val_loss: 0.0168 - val_acc: 0.9945\n"
          ],
          "name": "stdout"
        },
        {
          "output_type": "execute_result",
          "data": {
            "text/plain": [
              "<keras.callbacks.History at 0x7f18f3629898>"
            ]
          },
          "metadata": {
            "tags": []
          },
          "execution_count": 197
        }
      ]
    },
    {
      "cell_type": "code",
      "metadata": {
        "id": "qZ64y5mQxqHo",
        "colab_type": "code",
        "colab": {}
      },
      "source": [
        "X_predict = []\n",
        "X_predict.append([0,    0,    0,    9,    2, 2716,    3,  179, 2717,   85])# не знаем, как строку преобразовать в вектор чисел\n",
        "X_predict = np.array(X_predict)"
      ],
      "execution_count": 0,
      "outputs": []
    },
    {
      "cell_type": "code",
      "metadata": {
        "id": "I9r1UBjpxv9f",
        "colab_type": "code",
        "colab": {}
      },
      "source": [
        "prediction = keras_model.predict_classes(X_predict)"
      ],
      "execution_count": 0,
      "outputs": []
    },
    {
      "cell_type": "code",
      "metadata": {
        "id": "NpOtrfeQxwLH",
        "colab_type": "code",
        "outputId": "57f8847a-dd1a-480c-addf-1ce4c47dab62",
        "colab": {
          "base_uri": "https://localhost:8080/",
          "height": 34
        }
      },
      "source": [
        "answers = transform_from_categorical(prediction, all_unique_intents)\n",
        "answers"
      ],
      "execution_count": 200,
      "outputs": [
        {
          "output_type": "execute_result",
          "data": {
            "text/plain": [
              "['SearchCreativeWork']"
            ]
          },
          "metadata": {
            "tags": []
          },
          "execution_count": 200
        }
      ]
    }
  ]
}